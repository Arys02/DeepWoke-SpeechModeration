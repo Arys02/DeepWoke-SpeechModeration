{
 "cells": [
  {
   "cell_type": "code",
   "id": "initial_id",
   "metadata": {
    "collapsed": true,
    "ExecuteTime": {
     "end_time": "2024-07-14T09:48:36.271872Z",
     "start_time": "2024-07-14T09:48:36.268483Z"
    }
   },
   "source": [
    "model = ['mlp', 'convnet', 'rnn', 'lstm', 'bilstm']\n",
    "embedder = ['electra', 'bert', 'small-bert', 'fasttext', 'camembert']\n",
    "data = ['fr_hf', 'corrected_format_all_data']"
   ],
   "outputs": [],
   "execution_count": 4
  },
  {
   "metadata": {
    "ExecuteTime": {
     "end_time": "2024-07-14T09:53:25.549936Z",
     "start_time": "2024-07-14T09:53:25.546291Z"
    }
   },
   "cell_type": "code",
   "source": "array = [[m, e, d] for d in data for m in model for e in embedder]",
   "id": "8664ce3c3d62a76",
   "outputs": [],
   "execution_count": 10
  },
  {
   "metadata": {
    "ExecuteTime": {
     "end_time": "2024-07-14T09:55:14.901833Z",
     "start_time": "2024-07-14T09:55:14.896717Z"
    }
   },
   "cell_type": "code",
   "source": [
    "import csv\n",
    "\n",
    "array\n",
    "with open(\"all_combination.csv\", mode='w', newline='') as file:\n",
    "    writer = csv.writer(file, delimiter=';')\n",
    "    writer.writerows(array)"
   ],
   "id": "f9134de1a0018976",
   "outputs": [],
   "execution_count": 12
  },
  {
   "metadata": {},
   "cell_type": "code",
   "outputs": [],
   "execution_count": null,
   "source": "",
   "id": "e6e1fd8079e63f56"
  }
 ],
 "metadata": {
  "kernelspec": {
   "display_name": "Python 3",
   "language": "python",
   "name": "python3"
  },
  "language_info": {
   "codemirror_mode": {
    "name": "ipython",
    "version": 2
   },
   "file_extension": ".py",
   "mimetype": "text/x-python",
   "name": "python",
   "nbconvert_exporter": "python",
   "pygments_lexer": "ipython2",
   "version": "2.7.6"
  }
 },
 "nbformat": 4,
 "nbformat_minor": 5
}
