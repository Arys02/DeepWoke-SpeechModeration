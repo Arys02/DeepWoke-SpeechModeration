{
 "cells": [
  {
   "cell_type": "code",
   "execution_count": 93,
   "id": "initial_id",
   "metadata": {
    "collapsed": true,
    "ExecuteTime": {
     "end_time": "2024-04-21T12:58:01.779646400Z",
     "start_time": "2024-04-21T12:58:01.747945200Z"
    }
   },
   "outputs": [],
   "source": [
    "import pandas as pd"
   ]
  },
  {
   "cell_type": "markdown",
   "source": [
    "##Making the dataframes\n"
   ],
   "metadata": {
    "collapsed": false
   },
   "id": "e21fb1220ab53a09"
  },
  {
   "cell_type": "code",
   "execution_count": 94,
   "outputs": [],
   "source": [
    "dataset_1_path = \"../Data/hateSpeechAndKeywords/fr_dataset.csv\"\n",
    "dataset_2_path = \"../Data/multilingual-hatespeech-dataset-french/french_only_from_multi_language.csv\"\n",
    "dataset_3_path = \"../Data/only_french_from_kaggle/only_french_hatespeech.csv\""
   ],
   "metadata": {
    "collapsed": false,
    "ExecuteTime": {
     "end_time": "2024-04-21T12:58:01.795539Z",
     "start_time": "2024-04-21T12:58:01.761960600Z"
    }
   },
   "id": "73413cda3799f1b2"
  },
  {
   "cell_type": "code",
   "execution_count": 95,
   "outputs": [],
   "source": [
    "dataset_1 = pd.read_csv(dataset_1_path)\n",
    "dataset_2 = pd.read_csv(dataset_2_path)\n",
    "dataset_3 = pd.read_csv(dataset_3_path)"
   ],
   "metadata": {
    "collapsed": false,
    "ExecuteTime": {
     "end_time": "2024-04-21T12:58:02.098926300Z",
     "start_time": "2024-04-21T12:58:01.763967500Z"
    }
   },
   "id": "59d94e180e8e6b0a"
  },
  {
   "cell_type": "markdown",
   "source": [
    "##Formatting the dataframes"
   ],
   "metadata": {
    "collapsed": false
   },
   "id": "cd0685d36cd39a5b"
  },
  {
   "cell_type": "code",
   "execution_count": 96,
   "outputs": [],
   "source": [
    "#dataset1 hateful boolean is subjective, because it comes from a larger classification system that includes more nuance than just hateful\n",
    "#for now, my criteria is just anything that isn't 'normal' is hateful, to see later\n",
    "dataset_1.drop(['HITId', 'directness', 'annotator_sentiment', 'target', 'group'], axis=1, inplace=True)\n",
    "dataset_1.rename(columns={'tweet': 'text', 'sentiment': 'hateful'}, inplace=True)\n",
    "dataset_1['hateful'] = (dataset_1['hateful'] != 'normal').astype(int)"
   ],
   "metadata": {
    "collapsed": false,
    "ExecuteTime": {
     "end_time": "2024-04-21T12:58:02.114548800Z",
     "start_time": "2024-04-21T12:58:02.098926300Z"
    }
   },
   "id": "ddb38e444f5b6a8e"
  },
  {
   "cell_type": "code",
   "execution_count": 97,
   "outputs": [],
   "source": [
    "dataset_2.drop(['Unnamed: 0', 'language'], axis=1, inplace=True)\n",
    "dataset_2.rename(columns={'label': 'hateful'}, inplace=True)"
   ],
   "metadata": {
    "collapsed": false,
    "ExecuteTime": {
     "end_time": "2024-04-21T12:58:02.126089500Z",
     "start_time": "2024-04-21T12:58:02.098926300Z"
    }
   },
   "id": "d0dbcd5ece35d243"
  },
  {
   "cell_type": "code",
   "execution_count": 98,
   "outputs": [],
   "source": [
    "dataset_3.drop(['lang'], axis=1, inplace=True)\n",
    "dataset_3.rename(columns={'comment_text': 'text', 'toxic': 'hateful'}, inplace=True)"
   ],
   "metadata": {
    "collapsed": false,
    "ExecuteTime": {
     "end_time": "2024-04-21T12:58:02.130597Z",
     "start_time": "2024-04-21T12:58:02.118229500Z"
    }
   },
   "id": "1b07c3d6c6af908b"
  },
  {
   "cell_type": "markdown",
   "source": [
    "##Checking duplicate counts"
   ],
   "metadata": {
    "collapsed": false
   },
   "id": "be518daa214ddf68"
  },
  {
   "cell_type": "code",
   "execution_count": 99,
   "outputs": [
    {
     "data": {
      "text/plain": "16"
     },
     "execution_count": 99,
     "metadata": {},
     "output_type": "execute_result"
    }
   ],
   "source": [
    "duplicate_texts_1 = dataset_1[dataset_1.duplicated(subset='text', keep=False)]\n",
    "len(duplicate_texts_1)"
   ],
   "metadata": {
    "collapsed": false,
    "ExecuteTime": {
     "end_time": "2024-04-21T12:58:02.130597Z",
     "start_time": "2024-04-21T12:58:02.126089500Z"
    }
   },
   "id": "639fd07925314971"
  },
  {
   "cell_type": "code",
   "execution_count": 100,
   "outputs": [
    {
     "data": {
      "text/plain": "4006"
     },
     "execution_count": 100,
     "metadata": {},
     "output_type": "execute_result"
    }
   ],
   "source": [
    "cleaned_dataset_1 = dataset_1.drop_duplicates(subset='text', keep='first')\n",
    "len(cleaned_dataset_1)"
   ],
   "metadata": {
    "collapsed": false,
    "ExecuteTime": {
     "end_time": "2024-04-21T12:58:02.146232900Z",
     "start_time": "2024-04-21T12:58:02.130597Z"
    }
   },
   "id": "c220c15117531da4"
  },
  {
   "cell_type": "code",
   "execution_count": 101,
   "outputs": [
    {
     "data": {
      "text/plain": "0"
     },
     "execution_count": 101,
     "metadata": {},
     "output_type": "execute_result"
    }
   ],
   "source": [
    "duplicate_texts_2 = dataset_2[dataset_2.duplicated(subset='text', keep=False)]\n",
    "len(duplicate_texts_2)"
   ],
   "metadata": {
    "collapsed": false,
    "ExecuteTime": {
     "end_time": "2024-04-21T12:58:02.146232900Z",
     "start_time": "2024-04-21T12:58:02.146232900Z"
    }
   },
   "id": "769b1991882d6f44"
  },
  {
   "cell_type": "code",
   "execution_count": 102,
   "outputs": [
    {
     "data": {
      "text/plain": "9866"
     },
     "execution_count": 102,
     "metadata": {},
     "output_type": "execute_result"
    }
   ],
   "source": [
    "cleaned_dataset_2 = dataset_2.drop_duplicates(subset='text', keep='first')\n",
    "len(cleaned_dataset_2)"
   ],
   "metadata": {
    "collapsed": false,
    "ExecuteTime": {
     "end_time": "2024-04-21T12:58:02.168783900Z",
     "start_time": "2024-04-21T12:58:02.146232900Z"
    }
   },
   "id": "fa519ed377b36749"
  },
  {
   "cell_type": "code",
   "execution_count": 103,
   "outputs": [
    {
     "data": {
      "text/plain": "12113"
     },
     "execution_count": 103,
     "metadata": {},
     "output_type": "execute_result"
    }
   ],
   "source": [
    "duplicate_texts_3 = dataset_3[dataset_3.duplicated(subset='text', keep=False)]\n",
    "len(duplicate_texts_3)"
   ],
   "metadata": {
    "collapsed": false,
    "ExecuteTime": {
     "end_time": "2024-04-21T12:58:02.216577100Z",
     "start_time": "2024-04-21T12:58:02.166458300Z"
    }
   },
   "id": "3be6697bc036f19d"
  },
  {
   "cell_type": "code",
   "execution_count": 104,
   "outputs": [
    {
     "data": {
      "text/plain": "7539"
     },
     "execution_count": 104,
     "metadata": {},
     "output_type": "execute_result"
    }
   ],
   "source": [
    "cleaned_dataset_3 = dataset_3.drop_duplicates(subset='text', keep='first')\n",
    "len(cleaned_dataset_3)"
   ],
   "metadata": {
    "collapsed": false,
    "ExecuteTime": {
     "end_time": "2024-04-21T12:58:02.232627900Z",
     "start_time": "2024-04-21T12:58:02.171336400Z"
    }
   },
   "id": "9cc6e6678f874fc"
  },
  {
   "cell_type": "code",
   "execution_count": 105,
   "outputs": [
    {
     "data": {
      "text/plain": "8886"
     },
     "execution_count": 105,
     "metadata": {},
     "output_type": "execute_result"
    }
   ],
   "source": [
    "datasets = [cleaned_dataset_1, cleaned_dataset_2, cleaned_dataset_3]\n",
    "\n",
    "merged_dataset = pd.concat(datasets, ignore_index=True)\n",
    "duplicate_texts = merged_dataset[merged_dataset.duplicated(subset='text', keep=False)]\n",
    "len(duplicate_texts)"
   ],
   "metadata": {
    "collapsed": false,
    "ExecuteTime": {
     "end_time": "2024-04-21T12:58:02.232627900Z",
     "start_time": "2024-04-21T12:58:02.171336400Z"
    }
   },
   "id": "efd0c394fdaf6078"
  },
  {
   "cell_type": "markdown",
   "source": [
    "##Producing final unique formatted dataset"
   ],
   "metadata": {
    "collapsed": false
   },
   "id": "bae2799c87a92efb"
  },
  {
   "cell_type": "code",
   "execution_count": 106,
   "outputs": [
    {
     "data": {
      "text/plain": "16898"
     },
     "execution_count": 106,
     "metadata": {},
     "output_type": "execute_result"
    }
   ],
   "source": [
    "final_cleaned_dataset = merged_dataset.drop_duplicates(subset='text', keep='first')\n",
    "len(final_cleaned_dataset)"
   ],
   "metadata": {
    "collapsed": false,
    "ExecuteTime": {
     "end_time": "2024-04-21T12:58:02.232627900Z",
     "start_time": "2024-04-21T12:58:02.184841100Z"
    }
   },
   "id": "30fe5f5fa51ab68c"
  }
 ],
 "metadata": {
  "kernelspec": {
   "display_name": "Python 3",
   "language": "python",
   "name": "python3"
  },
  "language_info": {
   "codemirror_mode": {
    "name": "ipython",
    "version": 2
   },
   "file_extension": ".py",
   "mimetype": "text/x-python",
   "name": "python",
   "nbconvert_exporter": "python",
   "pygments_lexer": "ipython2",
   "version": "2.7.6"
  }
 },
 "nbformat": 4,
 "nbformat_minor": 5
}
