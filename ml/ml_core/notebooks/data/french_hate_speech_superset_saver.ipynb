{
 "cells": [
  {
   "cell_type": "code",
   "execution_count": 7,
   "id": "initial_id",
   "metadata": {
    "collapsed": true,
    "ExecuteTime": {
     "end_time": "2024-06-27T08:07:02.155804Z",
     "start_time": "2024-06-27T08:07:02.152176Z"
    }
   },
   "outputs": [],
   "source": [
    "import datetime\n",
    "import os\n",
    "\n",
    "import fasttext\n",
    "import keras_core as keras\n",
    "import numpy as np\n",
    "import pandas as pd\n",
    "from keras_core import Sequential\n",
    "from keras_core.src.layers import Dense\n",
    "from keras_core.models import load_model\n",
    "from sklearn.model_selection import train_test_split\n",
    "from tqdm import tqdm\n",
    "import tensorflow as tf\n",
    "\n",
    "from tensorboard.plugins.hparams import api as hp\n",
    "\n"
   ]
  },
  {
   "cell_type": "code",
   "outputs": [],
   "source": [
    "params_grid = {\n",
    "    \"embedder_data\" : \"cc.fr.300.bin\",\n",
    "    \"dataset\": \"fr_hf.csv\"\n",
    "}\n"
   ],
   "metadata": {
    "collapsed": false,
    "ExecuteTime": {
     "end_time": "2024-06-27T08:07:02.710725Z",
     "start_time": "2024-06-27T08:07:02.707512Z"
    }
   },
   "id": "436ed48d05bf0229",
   "execution_count": 8
  },
  {
   "cell_type": "code",
   "outputs": [],
   "source": [
    "data_folder_src = './../../data/processed/'\n",
    "data_path_src = f'{data_folder_src}{params_grid[\"dataset\"]}'\n",
    "\n",
    "vector_path = f'./../../embedded_vector/{params_grid[\"embedder_data\"]}_{params_grid[\"dataset\"]}'\n",
    "vector_x_dst = f'{vector_path}.x.npy'\n",
    "vector_y_dst = f'{vector_path}.y.npy'\n",
    "\n",
    "\n",
    "ft = fasttext.load_model(f'../../data/embedding_data/{params_grid[\"embedder_data\"]}')\n"
   ],
   "metadata": {
    "collapsed": false,
    "ExecuteTime": {
     "end_time": "2024-06-27T08:10:57.777187Z",
     "start_time": "2024-06-27T08:10:43.935186Z"
    }
   },
   "id": "d06acd0d43aa1174",
   "execution_count": 18
  },
  {
   "cell_type": "code",
   "outputs": [
    {
     "data": {
      "text/plain": "                                                    text  labels target  \\\n0      On ne peut pas faire confiance aux musulmans c...       1  islam   \n1         Les musulmans ne sont pas dignes de confiance.       1  islam   \n2              Vous ne devriez pas croire les musulmans.       1  islam   \n3      Les musulmans empêchent les gens de manger pen...       1  islam   \n4      Les musulmans ne laissent pas les gens s'en pr...       1  islam   \n...                                                  ...     ...    ...   \n18066                         Kevin câest un sal noir.       1    NaN   \n18067  bougnoule bamboula sale arabe , elle est belle...       1    NaN   \n18068         @USER Tu viens de le traiter de sal noir ?       1    NaN   \n18069                                      SAL NOIR LINK       1    NaN   \n18070                                 Sal Noir LINK LINK       1    NaN   \n\n        source dataset  nb_annotators  tweet_id  \n0          NGO   CONAN              1       NaN  \n1          NGO   CONAN              1       NaN  \n2          NGO   CONAN              1       NaN  \n3          NGO   CONAN              1       NaN  \n4          NGO   CONAN              1       NaN  \n...        ...     ...            ...       ...  \n18066  Twitter     FTR              2       NaN  \n18067  Twitter     FTR              2       NaN  \n18068  Twitter     FTR              2       NaN  \n18069  Twitter     FTR              2       NaN  \n18070  Twitter     FTR              2       NaN  \n\n[18071 rows x 7 columns]",
      "text/html": "<div>\n<style scoped>\n    .dataframe tbody tr th:only-of-type {\n        vertical-align: middle;\n    }\n\n    .dataframe tbody tr th {\n        vertical-align: top;\n    }\n\n    .dataframe thead th {\n        text-align: right;\n    }\n</style>\n<table border=\"1\" class=\"dataframe\">\n  <thead>\n    <tr style=\"text-align: right;\">\n      <th></th>\n      <th>text</th>\n      <th>labels</th>\n      <th>target</th>\n      <th>source</th>\n      <th>dataset</th>\n      <th>nb_annotators</th>\n      <th>tweet_id</th>\n    </tr>\n  </thead>\n  <tbody>\n    <tr>\n      <th>0</th>\n      <td>On ne peut pas faire confiance aux musulmans c...</td>\n      <td>1</td>\n      <td>islam</td>\n      <td>NGO</td>\n      <td>CONAN</td>\n      <td>1</td>\n      <td>NaN</td>\n    </tr>\n    <tr>\n      <th>1</th>\n      <td>Les musulmans ne sont pas dignes de confiance.</td>\n      <td>1</td>\n      <td>islam</td>\n      <td>NGO</td>\n      <td>CONAN</td>\n      <td>1</td>\n      <td>NaN</td>\n    </tr>\n    <tr>\n      <th>2</th>\n      <td>Vous ne devriez pas croire les musulmans.</td>\n      <td>1</td>\n      <td>islam</td>\n      <td>NGO</td>\n      <td>CONAN</td>\n      <td>1</td>\n      <td>NaN</td>\n    </tr>\n    <tr>\n      <th>3</th>\n      <td>Les musulmans empêchent les gens de manger pen...</td>\n      <td>1</td>\n      <td>islam</td>\n      <td>NGO</td>\n      <td>CONAN</td>\n      <td>1</td>\n      <td>NaN</td>\n    </tr>\n    <tr>\n      <th>4</th>\n      <td>Les musulmans ne laissent pas les gens s'en pr...</td>\n      <td>1</td>\n      <td>islam</td>\n      <td>NGO</td>\n      <td>CONAN</td>\n      <td>1</td>\n      <td>NaN</td>\n    </tr>\n    <tr>\n      <th>...</th>\n      <td>...</td>\n      <td>...</td>\n      <td>...</td>\n      <td>...</td>\n      <td>...</td>\n      <td>...</td>\n      <td>...</td>\n    </tr>\n    <tr>\n      <th>18066</th>\n      <td>Kevin câest un sal noir.</td>\n      <td>1</td>\n      <td>NaN</td>\n      <td>Twitter</td>\n      <td>FTR</td>\n      <td>2</td>\n      <td>NaN</td>\n    </tr>\n    <tr>\n      <th>18067</th>\n      <td>bougnoule bamboula sale arabe , elle est belle...</td>\n      <td>1</td>\n      <td>NaN</td>\n      <td>Twitter</td>\n      <td>FTR</td>\n      <td>2</td>\n      <td>NaN</td>\n    </tr>\n    <tr>\n      <th>18068</th>\n      <td>@USER Tu viens de le traiter de sal noir ?</td>\n      <td>1</td>\n      <td>NaN</td>\n      <td>Twitter</td>\n      <td>FTR</td>\n      <td>2</td>\n      <td>NaN</td>\n    </tr>\n    <tr>\n      <th>18069</th>\n      <td>SAL NOIR LINK</td>\n      <td>1</td>\n      <td>NaN</td>\n      <td>Twitter</td>\n      <td>FTR</td>\n      <td>2</td>\n      <td>NaN</td>\n    </tr>\n    <tr>\n      <th>18070</th>\n      <td>Sal Noir LINK LINK</td>\n      <td>1</td>\n      <td>NaN</td>\n      <td>Twitter</td>\n      <td>FTR</td>\n      <td>2</td>\n      <td>NaN</td>\n    </tr>\n  </tbody>\n</table>\n<p>18071 rows × 7 columns</p>\n</div>"
     },
     "execution_count": 19,
     "metadata": {},
     "output_type": "execute_result"
    }
   ],
   "source": [
    "\n",
    "ds = pd.read_csv(data_path_src)\n",
    "ds"
   ],
   "metadata": {
    "collapsed": false,
    "ExecuteTime": {
     "end_time": "2024-06-27T08:11:00.082640Z",
     "start_time": "2024-06-27T08:11:00.023122Z"
    }
   },
   "id": "3c29c54a6272f571",
   "execution_count": 19
  },
  {
   "cell_type": "code",
   "outputs": [],
   "source": [
    "\n",
    "def text_to_vector(text):\n",
    "    words = text.split(' ')\n",
    "    word_vectors = [ft.get_word_vector(word) for word in words if word in ft.words]\n",
    "    if not word_vectors:\n",
    "        return np.zeros(300)\n",
    "    return np.mean(word_vectors, axis=0)\n"
   ],
   "metadata": {
    "collapsed": false,
    "ExecuteTime": {
     "end_time": "2024-06-27T08:11:01.159014Z",
     "start_time": "2024-06-27T08:11:01.155244Z"
    }
   },
   "id": "34238ecb35592802",
   "execution_count": 20
  },
  {
   "cell_type": "code",
   "outputs": [
    {
     "name": "stderr",
     "output_type": "stream",
     "text": [
      "Loading data: 100%|███████████████████████████████████████████████████████████████████████████████████████████████████████████████████████████████████████████████████████████████████████████| 18071/18071 [26:11<00:00, 11.50it/s]\n"
     ]
    }
   ],
   "source": [
    "tqdm.pandas(desc='Loading data')\n",
    "ds['vector'] = ds['text'].progress_apply(text_to_vector)\n",
    "\n",
    "X = np.vstack(ds['vector'])\n",
    "y = ds['labels'].values\n"
   ],
   "metadata": {
    "collapsed": false,
    "ExecuteTime": {
     "end_time": "2024-06-27T08:37:15.817084Z",
     "start_time": "2024-06-27T08:11:04.131019Z"
    }
   },
   "id": "e2f540ba1a1e28d9",
   "execution_count": 21
  },
  {
   "cell_type": "code",
   "outputs": [],
   "source": [
    "np.save(vector_x_dst, X)\n",
    "np.save(vector_y_dst, y)"
   ],
   "metadata": {
    "collapsed": false,
    "ExecuteTime": {
     "end_time": "2024-06-27T08:37:15.933252Z",
     "start_time": "2024-06-27T08:37:15.825159Z"
    }
   },
   "id": "5b77d30b2083616",
   "execution_count": 22
  },
  {
   "cell_type": "code",
   "outputs": [],
   "source": [],
   "metadata": {
    "collapsed": false
   },
   "id": "21e9181af470f97a"
  }
 ],
 "metadata": {
  "kernelspec": {
   "display_name": "Python 3",
   "language": "python",
   "name": "python3"
  },
  "language_info": {
   "codemirror_mode": {
    "name": "ipython",
    "version": 2
   },
   "file_extension": ".py",
   "mimetype": "text/x-python",
   "name": "python",
   "nbconvert_exporter": "python",
   "pygments_lexer": "ipython2",
   "version": "2.7.6"
  }
 },
 "nbformat": 4,
 "nbformat_minor": 5
}
