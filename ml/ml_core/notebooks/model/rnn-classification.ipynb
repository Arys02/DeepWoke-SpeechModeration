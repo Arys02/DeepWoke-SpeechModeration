{
 "cells": [
  {
   "cell_type": "code",
   "execution_count": 1,
   "id": "initial_id",
   "metadata": {
    "collapsed": false,
    "ExecuteTime": {
     "end_time": "2024-07-07T17:08:01.578961Z",
     "start_time": "2024-07-07T17:07:53.669284Z"
    }
   },
   "outputs": [
    {
     "name": "stdout",
     "output_type": "stream",
     "text": [
      "Using TensorFlow backend\n"
     ]
    },
    {
     "name": "stderr",
     "output_type": "stream",
     "text": [
      "2024-07-07 19:07:54.891819: E tensorflow/compiler/xla/stream_executor/cuda/cuda_dnn.cc:9342] Unable to register cuDNN factory: Attempting to register factory for plugin cuDNN when one has already been registered\n",
      "2024-07-07 19:07:54.891945: E tensorflow/compiler/xla/stream_executor/cuda/cuda_fft.cc:609] Unable to register cuFFT factory: Attempting to register factory for plugin cuFFT when one has already been registered\n",
      "2024-07-07 19:07:54.892465: E tensorflow/compiler/xla/stream_executor/cuda/cuda_blas.cc:1518] Unable to register cuBLAS factory: Attempting to register factory for plugin cuBLAS when one has already been registered\n",
      "2024-07-07 19:07:54.948173: I tensorflow/core/platform/cpu_feature_guard.cc:182] This TensorFlow binary is optimized to use available CPU instructions in performance-critical operations.\n",
      "To enable the following instructions: AVX2 FMA, in other operations, rebuild TensorFlow with the appropriate compiler flags.\n"
     ]
    }
   ],
   "source": [
    "import datetime\n",
    "\n",
    "import os\n",
    "\n",
    "os.getcwd()\n",
    "if '.git' not in os.listdir():\n",
    "    os.chdir('./../../../../')\n",
    "os.listdir()\n",
    "\n",
    "from ml.ml_core.src.core.model_factory import model_factory\n",
    "\n",
    "import keras_core as keras\n",
    "import numpy as np\n",
    "import tensorflow as tf\n",
    "from sklearn.model_selection import train_test_split\n",
    "from tensorboard.plugins.hparams import api as hp\n"
   ]
  },
  {
   "cell_type": "markdown",
   "id": "18856c657e08494f",
   "metadata": {
    "collapsed": false
   },
   "source": [
    "## Configurations"
   ]
  },
  {
   "cell_type": "code",
   "execution_count": 2,
   "id": "9574abd306005981",
   "metadata": {
    "collapsed": false,
    "ExecuteTime": {
     "end_time": "2024-07-07T17:08:04.073407Z",
     "start_time": "2024-07-07T17:08:04.070280Z"
    }
   },
   "outputs": [],
   "source": [
    "params_grid = {\n",
    "    \"model\": \"rnn\",\n",
    "    \"embedder\": \"camembert\",\n",
    "    \"embedding_data\": \"almanach-camembert-base\",\n",
    "    \"dataset\": \"fr_hf.csv\",\n",
    "    \"batch_size\": 500\n",
    "}"
   ]
  },
  {
   "cell_type": "code",
   "execution_count": 3,
   "id": "d220a1d10493404e",
   "metadata": {
    "collapsed": false,
    "ExecuteTime": {
     "end_time": "2024-07-07T17:08:04.354154Z",
     "start_time": "2024-07-07T17:08:04.350588Z"
    }
   },
   "outputs": [],
   "source": [
    "data_folder_src = 'ml/ml_core/data/processed/'\n",
    "ml_core_folder_path = 'ml/ml_core/'\n",
    "data_path_src = f'{data_folder_src}{params_grid[\"dataset\"]}'\n",
    "date_str = datetime.datetime.now().strftime(\"%Y%m%d-%H%M%S\")\n",
    "experiment_name = f'deepwoke_{params_grid[\"embedder\"]}_{params_grid[\"model\"]}_{params_grid[\"dataset\"]}_{date_str}'\n",
    "\n",
    "log_dir = f\"{ml_core_folder_path}log/fit/{experiment_name}\"\n",
    "model_weight_dst = f'{ml_core_folder_path}model_weights/{experiment_name}-model.keras'"
   ]
  },
  {
   "cell_type": "code",
   "execution_count": 4,
   "id": "63bc5b9857e00e2f",
   "metadata": {
    "collapsed": false,
    "ExecuteTime": {
     "end_time": "2024-07-07T17:08:04.697871Z",
     "start_time": "2024-07-07T17:08:04.694790Z"
    }
   },
   "outputs": [],
   "source": [
    "\n",
    "vector_path = f'{ml_core_folder_path}embedded_vector/{params_grid[\"embedding_data\"]}_{params_grid[\"dataset\"]}'\n",
    "vector_x_dst = f'{vector_path}.x.npy'\n",
    "vector_y_dst = f'{vector_path}.y.npy'"
   ]
  },
  {
   "cell_type": "markdown",
   "id": "5d4209390b020a7",
   "metadata": {
    "collapsed": false
   },
   "source": [
    "# loading dataset"
   ]
  },
  {
   "cell_type": "code",
   "execution_count": 5,
   "id": "cda597a675bb1ba2",
   "metadata": {
    "collapsed": false,
    "ExecuteTime": {
     "end_time": "2024-07-07T17:08:05.536221Z",
     "start_time": "2024-07-07T17:08:05.387645Z"
    }
   },
   "outputs": [],
   "source": [
    "X = np.load(vector_x_dst)\n",
    "y = np.load(vector_y_dst)\n",
    "X = np.expand_dims(X, axis=1)"
   ]
  },
  {
   "cell_type": "markdown",
   "source": [
    "# Model"
   ],
   "metadata": {
    "collapsed": false
   },
   "id": "a2adf4c59ca51d9c"
  },
  {
   "cell_type": "markdown",
   "id": "5c8ac62597164bde",
   "metadata": {
    "collapsed": false
   },
   "source": [
    "## callbacks"
   ]
  },
  {
   "cell_type": "code",
   "execution_count": 6,
   "id": "336209aae383296f",
   "metadata": {
    "collapsed": false,
    "ExecuteTime": {
     "end_time": "2024-07-07T17:08:08.193626Z",
     "start_time": "2024-07-07T17:08:08.190405Z"
    }
   },
   "outputs": [],
   "source": [
    "early_stopping = keras.callbacks.EarlyStopping(\n",
    "    patience=10,\n",
    "    min_delta=0.001,\n",
    "    restore_best_weights=True,\n",
    "    monitor='loss'\n",
    ")\n"
   ]
  },
  {
   "cell_type": "code",
   "execution_count": 7,
   "id": "9f93ecb4efe31443",
   "metadata": {
    "collapsed": false,
    "ExecuteTime": {
     "end_time": "2024-07-07T17:08:08.466473Z",
     "start_time": "2024-07-07T17:08:08.462034Z"
    }
   },
   "outputs": [],
   "source": [
    "\n",
    "class EarlyStoppingLogging(keras.callbacks.Callback):\n",
    "    def __init__(self, early_stopping_callback, log_dir):\n",
    "        super().__init__()\n",
    "        self.early_stopping = early_stopping_callback\n",
    "        self.stopped_epoch = 0\n",
    "        self.writer = tf.summary.create_file_writer(log_dir)\n",
    "\n",
    "    def on_epoch_end(self, epoch, logs=None):\n",
    "        if self.early_stopping.stopped_epoch > 0:\n",
    "            self.stopped_epoch = self.early_stopping.stopped_epoch\n",
    "            with self.writer.as_default():\n",
    "                tf.summary.scalar('early_stopping_epoch', self.stopped_epoch, step=epoch)\n",
    "                self.writer.flush()\n"
   ]
  },
  {
   "cell_type": "code",
   "execution_count": 8,
   "id": "7ec43b4117399510",
   "metadata": {
    "collapsed": false,
    "ExecuteTime": {
     "end_time": "2024-07-07T17:08:09.450258Z",
     "start_time": "2024-07-07T17:08:08.677902Z"
    }
   },
   "outputs": [
    {
     "name": "stderr",
     "output_type": "stream",
     "text": [
      "2024-07-07 19:08:08.851707: I tensorflow/compiler/xla/stream_executor/cuda/cuda_gpu_executor.cc:880] could not open file to read NUMA node: /sys/bus/pci/devices/0000:01:00.0/numa_node\n",
      "Your kernel may have been built without NUMA support.\n",
      "2024-07-07 19:08:09.144517: I tensorflow/compiler/xla/stream_executor/cuda/cuda_gpu_executor.cc:880] could not open file to read NUMA node: /sys/bus/pci/devices/0000:01:00.0/numa_node\n",
      "Your kernel may have been built without NUMA support.\n",
      "2024-07-07 19:08:09.144567: I tensorflow/compiler/xla/stream_executor/cuda/cuda_gpu_executor.cc:880] could not open file to read NUMA node: /sys/bus/pci/devices/0000:01:00.0/numa_node\n",
      "Your kernel may have been built without NUMA support.\n",
      "2024-07-07 19:08:09.149007: I tensorflow/compiler/xla/stream_executor/cuda/cuda_gpu_executor.cc:880] could not open file to read NUMA node: /sys/bus/pci/devices/0000:01:00.0/numa_node\n",
      "Your kernel may have been built without NUMA support.\n",
      "2024-07-07 19:08:09.149105: I tensorflow/compiler/xla/stream_executor/cuda/cuda_gpu_executor.cc:880] could not open file to read NUMA node: /sys/bus/pci/devices/0000:01:00.0/numa_node\n",
      "Your kernel may have been built without NUMA support.\n",
      "2024-07-07 19:08:09.149145: I tensorflow/compiler/xla/stream_executor/cuda/cuda_gpu_executor.cc:880] could not open file to read NUMA node: /sys/bus/pci/devices/0000:01:00.0/numa_node\n",
      "Your kernel may have been built without NUMA support.\n",
      "2024-07-07 19:08:09.418090: I tensorflow/compiler/xla/stream_executor/cuda/cuda_gpu_executor.cc:880] could not open file to read NUMA node: /sys/bus/pci/devices/0000:01:00.0/numa_node\n",
      "Your kernel may have been built without NUMA support.\n",
      "2024-07-07 19:08:09.418202: I tensorflow/compiler/xla/stream_executor/cuda/cuda_gpu_executor.cc:880] could not open file to read NUMA node: /sys/bus/pci/devices/0000:01:00.0/numa_node\n",
      "Your kernel may have been built without NUMA support.\n",
      "2024-07-07 19:08:09.418212: I tensorflow/core/common_runtime/gpu/gpu_device.cc:1977] Could not identify NUMA node of platform GPU id 0, defaulting to 0.  Your kernel may not have been built with NUMA support.\n",
      "2024-07-07 19:08:09.418296: I tensorflow/compiler/xla/stream_executor/cuda/cuda_gpu_executor.cc:880] could not open file to read NUMA node: /sys/bus/pci/devices/0000:01:00.0/numa_node\n",
      "Your kernel may have been built without NUMA support.\n",
      "2024-07-07 19:08:09.418405: I tensorflow/core/common_runtime/gpu/gpu_device.cc:1886] Created device /job:localhost/replica:0/task:0/device:GPU:0 with 7537 MB memory:  -> device: 0, name: NVIDIA GeForce RTX 3080, pci bus id: 0000:01:00.0, compute capability: 8.6\n"
     ]
    }
   ],
   "source": [
    "tensorboard_callback = keras.callbacks.TensorBoard(log_dir=log_dir, histogram_freq=1)\n",
    "early_stopping_logging_callback = EarlyStoppingLogging(early_stopping, log_dir)"
   ]
  },
  {
   "cell_type": "code",
   "execution_count": 9,
   "id": "3f3d46724d8e5aa1",
   "metadata": {
    "collapsed": false,
    "ExecuteTime": {
     "end_time": "2024-07-07T17:08:11.022687Z",
     "start_time": "2024-07-07T17:08:11.018356Z"
    }
   },
   "outputs": [],
   "source": [
    "callback = [\n",
    "    early_stopping,\n",
    "    tensorboard_callback,\n",
    "    hp.KerasCallback(log_dir, params_grid),\n",
    "    early_stopping_logging_callback,\n",
    "]"
   ]
  },
  {
   "cell_type": "markdown",
   "source": [
    "# Model building"
   ],
   "metadata": {
    "collapsed": false
   },
   "id": "cfba23972d3586ee"
  },
  {
   "cell_type": "code",
   "outputs": [],
   "source": [
    "def rnn_builder(input_dim, output_dim):\n",
    "    activation_function = 'softmax'\n",
    "    loss = 'categorical_crossentropy'\n",
    "    if output_dim == 1:\n",
    "        activation_function = 'sigmoid'\n",
    "        loss = 'binary_crossentropy'\n",
    "    print(input_dim, output_dim)\n",
    "\n",
    "\n",
    "    input_tensor = keras.layers.Input(shape=input_dim)\n",
    "\n",
    "    hl = keras.layers.SimpleRNN(64, return_sequences=True, activation='relu')(input_tensor)\n",
    "    hl = keras.layers.Dropout(0.2)(hl)\n",
    "    hl = keras.layers.SimpleRNN(64, return_sequences=True, activation='relu')(hl)\n",
    "    hl = keras.layers.Dropout(0.2)(hl)\n",
    "    hl = keras.layers.SimpleRNN(64, activation='relu')(hl)\n",
    "    hl = keras.layers.Dense(64, activation='relu')(hl)\n",
    "    output_tensor = keras.layers.Dense(output_dim, activation=activation_function)(hl)\n",
    "\n",
    "    model = keras.models.Model(inputs=[input_tensor], outputs=[output_tensor])\n",
    "    model.compile(optimizer='adam', loss=loss, metrics=['accuracy'])\n",
    "\n",
    "    return model"
   ],
   "metadata": {
    "collapsed": false,
    "ExecuteTime": {
     "end_time": "2024-07-07T17:08:12.327550Z",
     "start_time": "2024-07-07T17:08:12.322912Z"
    }
   },
   "id": "198085420757f4f1",
   "execution_count": 10
  },
  {
   "cell_type": "markdown",
   "id": "9dec354f696f24a9",
   "metadata": {
    "collapsed": false
   },
   "source": [
    "### training the model"
   ]
  },
  {
   "cell_type": "code",
   "outputs": [],
   "source": [],
   "metadata": {
    "collapsed": false,
    "ExecuteTime": {
     "end_time": "2024-07-07T17:08:13.962346Z",
     "start_time": "2024-07-07T17:08:13.959699Z"
    }
   },
   "id": "11d6ec87445bb42",
   "execution_count": 10
  },
  {
   "cell_type": "code",
   "execution_count": 11,
   "id": "c4cf876c5cbae2f2",
   "metadata": {
    "collapsed": false,
    "ExecuteTime": {
     "end_time": "2024-07-07T17:08:19.358369Z",
     "start_time": "2024-07-07T17:08:14.694602Z"
    }
   },
   "outputs": [
    {
     "name": "stdout",
     "output_type": "stream",
     "text": [
      "(1, 768) 1\n",
      "<bound method Model.summary of <Functional name=functional_1, built=True>>\n"
     ]
    }
   ],
   "source": [
    "\n",
    "X_train, X_test, y_train, y_test = train_test_split(X, y, test_size=0.1, random_state=42)\n",
    "input_dim = X_train.shape[1:]\n",
    "model = rnn_builder(input_dim, 1)\n",
    "print(model.summary)\n",
    "\n",
    "tf.compat.v1.global_variables_initializer()"
   ]
  },
  {
   "cell_type": "code",
   "outputs": [
    {
     "name": "stdout",
     "output_type": "stream",
     "text": [
      "Epoch 1/500\n"
     ]
    },
    {
     "name": "stderr",
     "output_type": "stream",
     "text": [
      "2024-07-07 19:08:25.383769: I tensorflow/compiler/xla/service/service.cc:168] XLA service 0x9a94740 initialized for platform CUDA (this does not guarantee that XLA will be used). Devices:\n",
      "2024-07-07 19:08:25.383814: I tensorflow/compiler/xla/service/service.cc:176]   StreamExecutor device (0): NVIDIA GeForce RTX 3080, Compute Capability 8.6\n",
      "2024-07-07 19:08:25.444243: I tensorflow/compiler/mlir/tensorflow/utils/dump_mlir_util.cc:269] disabling MLIR crash reproducer, set env var `MLIR_CRASH_REPRODUCER_DIRECTORY` to enable.\n",
      "2024-07-07 19:08:25.887206: I tensorflow/compiler/xla/stream_executor/cuda/cuda_dnn.cc:442] Loaded cuDNN version 8700\n"
     ]
    },
    {
     "name": "stdout",
     "output_type": "stream",
     "text": [
      "\u001B[1m14/33\u001B[0m \u001B[32m━━━━━━━━\u001B[0m\u001B[37m━━━━━━━━━━━━\u001B[0m \u001B[1m0s\u001B[0m 8ms/step - accuracy: 0.6709 - loss: 0.6407"
     ]
    },
    {
     "name": "stderr",
     "output_type": "stream",
     "text": [
      "2024-07-07 19:08:27.884286: I ./tensorflow/compiler/jit/device_compiler.h:186] Compiled cluster using XLA!  This line is logged at most once for the lifetime of the process.\n"
     ]
    },
    {
     "name": "stdout",
     "output_type": "stream",
     "text": [
      "\u001B[1m33/33\u001B[0m \u001B[32m━━━━━━━━━━━━━━━━━━━━\u001B[0m\u001B[37m\u001B[0m \u001B[1m9s\u001B[0m 112ms/step - accuracy: 0.7127 - loss: 0.6066 - val_accuracy: 0.7575 - val_loss: 0.5427\n",
      "Epoch 2/500\n",
      "\u001B[1m33/33\u001B[0m \u001B[32m━━━━━━━━━━━━━━━━━━━━\u001B[0m\u001B[37m\u001B[0m \u001B[1m1s\u001B[0m 13ms/step - accuracy: 0.7596 - loss: 0.5337 - val_accuracy: 0.7575 - val_loss: 0.5102\n",
      "Epoch 3/500\n",
      "\u001B[1m33/33\u001B[0m \u001B[32m━━━━━━━━━━━━━━━━━━━━\u001B[0m\u001B[37m\u001B[0m \u001B[1m0s\u001B[0m 11ms/step - accuracy: 0.7607 - loss: 0.4918 - val_accuracy: 0.7575 - val_loss: 0.4603\n",
      "Epoch 4/500\n",
      "\u001B[1m33/33\u001B[0m \u001B[32m━━━━━━━━━━━━━━━━━━━━\u001B[0m\u001B[37m\u001B[0m \u001B[1m0s\u001B[0m 10ms/step - accuracy: 0.7654 - loss: 0.4544 - val_accuracy: 0.7744 - val_loss: 0.4409\n",
      "Epoch 5/500\n",
      "\u001B[1m33/33\u001B[0m \u001B[32m━━━━━━━━━━━━━━━━━━━━\u001B[0m\u001B[37m\u001B[0m \u001B[1m0s\u001B[0m 10ms/step - accuracy: 0.7915 - loss: 0.4508 - val_accuracy: 0.7790 - val_loss: 0.4422\n",
      "Epoch 6/500\n",
      "\u001B[1m33/33\u001B[0m \u001B[32m━━━━━━━━━━━━━━━━━━━━\u001B[0m\u001B[37m\u001B[0m \u001B[1m0s\u001B[0m 10ms/step - accuracy: 0.7987 - loss: 0.4353 - val_accuracy: 0.8064 - val_loss: 0.4189\n",
      "Epoch 7/500\n",
      "\u001B[1m33/33\u001B[0m \u001B[32m━━━━━━━━━━━━━━━━━━━━\u001B[0m\u001B[37m\u001B[0m \u001B[1m0s\u001B[0m 10ms/step - accuracy: 0.8101 - loss: 0.4264 - val_accuracy: 0.8139 - val_loss: 0.4118\n",
      "Epoch 8/500\n",
      "\u001B[1m33/33\u001B[0m \u001B[32m━━━━━━━━━━━━━━━━━━━━\u001B[0m\u001B[37m\u001B[0m \u001B[1m0s\u001B[0m 11ms/step - accuracy: 0.8080 - loss: 0.4220 - val_accuracy: 0.8219 - val_loss: 0.4054\n",
      "Epoch 9/500\n",
      "\u001B[1m33/33\u001B[0m \u001B[32m━━━━━━━━━━━━━━━━━━━━\u001B[0m\u001B[37m\u001B[0m \u001B[1m0s\u001B[0m 10ms/step - accuracy: 0.8156 - loss: 0.4198 - val_accuracy: 0.8223 - val_loss: 0.3967\n",
      "Epoch 10/500\n",
      "\u001B[1m33/33\u001B[0m \u001B[32m━━━━━━━━━━━━━━━━━━━━\u001B[0m\u001B[37m\u001B[0m \u001B[1m0s\u001B[0m 10ms/step - accuracy: 0.8189 - loss: 0.4053 - val_accuracy: 0.8224 - val_loss: 0.3940\n",
      "Epoch 11/500\n",
      "\u001B[1m33/33\u001B[0m \u001B[32m━━━━━━━━━━━━━━━━━━━━\u001B[0m\u001B[37m\u001B[0m \u001B[1m0s\u001B[0m 10ms/step - accuracy: 0.8230 - loss: 0.3995 - val_accuracy: 0.8253 - val_loss: 0.3905\n",
      "Epoch 12/500\n",
      "\u001B[1m33/33\u001B[0m \u001B[32m━━━━━━━━━━━━━━━━━━━━\u001B[0m\u001B[37m\u001B[0m \u001B[1m0s\u001B[0m 11ms/step - accuracy: 0.8215 - loss: 0.3947 - val_accuracy: 0.8204 - val_loss: 0.3921\n",
      "Epoch 13/500\n",
      "\u001B[1m33/33\u001B[0m \u001B[32m━━━━━━━━━━━━━━━━━━━━\u001B[0m\u001B[37m\u001B[0m \u001B[1m0s\u001B[0m 10ms/step - accuracy: 0.8289 - loss: 0.3905 - val_accuracy: 0.8290 - val_loss: 0.3879\n",
      "Epoch 14/500\n",
      "\u001B[1m33/33\u001B[0m \u001B[32m━━━━━━━━━━━━━━━━━━━━\u001B[0m\u001B[37m\u001B[0m \u001B[1m0s\u001B[0m 10ms/step - accuracy: 0.8266 - loss: 0.3915 - val_accuracy: 0.8222 - val_loss: 0.3929\n",
      "Epoch 15/500\n",
      "\u001B[1m33/33\u001B[0m \u001B[32m━━━━━━━━━━━━━━━━━━━━\u001B[0m\u001B[37m\u001B[0m \u001B[1m0s\u001B[0m 10ms/step - accuracy: 0.8329 - loss: 0.3810 - val_accuracy: 0.8315 - val_loss: 0.3809\n",
      "Epoch 16/500\n",
      "\u001B[1m33/33\u001B[0m \u001B[32m━━━━━━━━━━━━━━━━━━━━\u001B[0m\u001B[37m\u001B[0m \u001B[1m0s\u001B[0m 10ms/step - accuracy: 0.8376 - loss: 0.3765 - val_accuracy: 0.8294 - val_loss: 0.3791\n",
      "Epoch 17/500\n",
      "\u001B[1m33/33\u001B[0m \u001B[32m━━━━━━━━━━━━━━━━━━━━\u001B[0m\u001B[37m\u001B[0m \u001B[1m0s\u001B[0m 10ms/step - accuracy: 0.8363 - loss: 0.3747 - val_accuracy: 0.8331 - val_loss: 0.3921\n",
      "Epoch 18/500\n",
      "\u001B[1m33/33\u001B[0m \u001B[32m━━━━━━━━━━━━━━━━━━━━\u001B[0m\u001B[37m\u001B[0m \u001B[1m0s\u001B[0m 9ms/step - accuracy: 0.8336 - loss: 0.3845 - val_accuracy: 0.8335 - val_loss: 0.3745\n",
      "Epoch 19/500\n",
      "\u001B[1m33/33\u001B[0m \u001B[32m━━━━━━━━━━━━━━━━━━━━\u001B[0m\u001B[37m\u001B[0m \u001B[1m0s\u001B[0m 9ms/step - accuracy: 0.8345 - loss: 0.3808 - val_accuracy: 0.8320 - val_loss: 0.3817\n",
      "Epoch 20/500\n",
      "\u001B[1m33/33\u001B[0m \u001B[32m━━━━━━━━━━━━━━━━━━━━\u001B[0m\u001B[37m\u001B[0m \u001B[1m0s\u001B[0m 10ms/step - accuracy: 0.8349 - loss: 0.3735 - val_accuracy: 0.8350 - val_loss: 0.3781\n",
      "Epoch 21/500\n",
      "\u001B[1m33/33\u001B[0m \u001B[32m━━━━━━━━━━━━━━━━━━━━\u001B[0m\u001B[37m\u001B[0m \u001B[1m0s\u001B[0m 10ms/step - accuracy: 0.8369 - loss: 0.3750 - val_accuracy: 0.8375 - val_loss: 0.3760\n",
      "Epoch 22/500\n",
      "\u001B[1m33/33\u001B[0m \u001B[32m━━━━━━━━━━━━━━━━━━━━\u001B[0m\u001B[37m\u001B[0m \u001B[1m0s\u001B[0m 10ms/step - accuracy: 0.8411 - loss: 0.3700 - val_accuracy: 0.8325 - val_loss: 0.3784\n",
      "Epoch 23/500\n",
      "\u001B[1m33/33\u001B[0m \u001B[32m━━━━━━━━━━━━━━━━━━━━\u001B[0m\u001B[37m\u001B[0m \u001B[1m0s\u001B[0m 9ms/step - accuracy: 0.8436 - loss: 0.3687 - val_accuracy: 0.8376 - val_loss: 0.3770\n",
      "Epoch 24/500\n",
      "\u001B[1m33/33\u001B[0m \u001B[32m━━━━━━━━━━━━━━━━━━━━\u001B[0m\u001B[37m\u001B[0m \u001B[1m0s\u001B[0m 9ms/step - accuracy: 0.8483 - loss: 0.3585 - val_accuracy: 0.8361 - val_loss: 0.3732\n",
      "Epoch 25/500\n",
      "\u001B[1m33/33\u001B[0m \u001B[32m━━━━━━━━━━━━━━━━━━━━\u001B[0m\u001B[37m\u001B[0m \u001B[1m0s\u001B[0m 9ms/step - accuracy: 0.8452 - loss: 0.3604 - val_accuracy: 0.8372 - val_loss: 0.3748\n",
      "Epoch 26/500\n",
      "\u001B[1m33/33\u001B[0m \u001B[32m━━━━━━━━━━━━━━━━━━━━\u001B[0m\u001B[37m\u001B[0m \u001B[1m0s\u001B[0m 11ms/step - accuracy: 0.8480 - loss: 0.3633 - val_accuracy: 0.8375 - val_loss: 0.3758\n",
      "Epoch 27/500\n",
      "\u001B[1m33/33\u001B[0m \u001B[32m━━━━━━━━━━━━━━━━━━━━\u001B[0m\u001B[37m\u001B[0m \u001B[1m0s\u001B[0m 10ms/step - accuracy: 0.8458 - loss: 0.3616 - val_accuracy: 0.8385 - val_loss: 0.3748\n",
      "Epoch 28/500\n",
      "\u001B[1m33/33\u001B[0m \u001B[32m━━━━━━━━━━━━━━━━━━━━\u001B[0m\u001B[37m\u001B[0m \u001B[1m0s\u001B[0m 9ms/step - accuracy: 0.8516 - loss: 0.3525 - val_accuracy: 0.8445 - val_loss: 0.3759\n",
      "Epoch 29/500\n",
      "\u001B[1m33/33\u001B[0m \u001B[32m━━━━━━━━━━━━━━━━━━━━\u001B[0m\u001B[37m\u001B[0m \u001B[1m0s\u001B[0m 10ms/step - accuracy: 0.8513 - loss: 0.3530 - val_accuracy: 0.8373 - val_loss: 0.3763\n",
      "Epoch 30/500\n",
      "\u001B[1m33/33\u001B[0m \u001B[32m━━━━━━━━━━━━━━━━━━━━\u001B[0m\u001B[37m\u001B[0m \u001B[1m0s\u001B[0m 9ms/step - accuracy: 0.8472 - loss: 0.3586 - val_accuracy: 0.8328 - val_loss: 0.3817\n",
      "Epoch 31/500\n",
      "\u001B[1m33/33\u001B[0m \u001B[32m━━━━━━━━━━━━━━━━━━━━\u001B[0m\u001B[37m\u001B[0m \u001B[1m0s\u001B[0m 10ms/step - accuracy: 0.8507 - loss: 0.3516 - val_accuracy: 0.8310 - val_loss: 0.3802\n",
      "Epoch 32/500\n",
      "\u001B[1m33/33\u001B[0m \u001B[32m━━━━━━━━━━━━━━━━━━━━\u001B[0m\u001B[37m\u001B[0m \u001B[1m0s\u001B[0m 9ms/step - accuracy: 0.8502 - loss: 0.3472 - val_accuracy: 0.8380 - val_loss: 0.3707\n",
      "Epoch 33/500\n",
      "\u001B[1m33/33\u001B[0m \u001B[32m━━━━━━━━━━━━━━━━━━━━\u001B[0m\u001B[37m\u001B[0m \u001B[1m0s\u001B[0m 9ms/step - accuracy: 0.8592 - loss: 0.3360 - val_accuracy: 0.8380 - val_loss: 0.3674\n",
      "Epoch 34/500\n",
      "\u001B[1m33/33\u001B[0m \u001B[32m━━━━━━━━━━━━━━━━━━━━\u001B[0m\u001B[37m\u001B[0m \u001B[1m0s\u001B[0m 9ms/step - accuracy: 0.8621 - loss: 0.3380 - val_accuracy: 0.8357 - val_loss: 0.3783\n",
      "Epoch 35/500\n",
      "\u001B[1m33/33\u001B[0m \u001B[32m━━━━━━━━━━━━━━━━━━━━\u001B[0m\u001B[37m\u001B[0m \u001B[1m0s\u001B[0m 9ms/step - accuracy: 0.8558 - loss: 0.3429 - val_accuracy: 0.8320 - val_loss: 0.3735\n",
      "Epoch 36/500\n",
      "\u001B[1m33/33\u001B[0m \u001B[32m━━━━━━━━━━━━━━━━━━━━\u001B[0m\u001B[37m\u001B[0m \u001B[1m0s\u001B[0m 10ms/step - accuracy: 0.8555 - loss: 0.3450 - val_accuracy: 0.8440 - val_loss: 0.3717\n",
      "Epoch 37/500\n",
      "\u001B[1m33/33\u001B[0m \u001B[32m━━━━━━━━━━━━━━━━━━━━\u001B[0m\u001B[37m\u001B[0m \u001B[1m0s\u001B[0m 9ms/step - accuracy: 0.8632 - loss: 0.3343 - val_accuracy: 0.8312 - val_loss: 0.3744\n",
      "Epoch 38/500\n",
      "\u001B[1m33/33\u001B[0m \u001B[32m━━━━━━━━━━━━━━━━━━━━\u001B[0m\u001B[37m\u001B[0m \u001B[1m0s\u001B[0m 9ms/step - accuracy: 0.8622 - loss: 0.3335 - val_accuracy: 0.8315 - val_loss: 0.3790\n",
      "Epoch 39/500\n",
      "\u001B[1m33/33\u001B[0m \u001B[32m━━━━━━━━━━━━━━━━━━━━\u001B[0m\u001B[37m\u001B[0m \u001B[1m0s\u001B[0m 11ms/step - accuracy: 0.8605 - loss: 0.3397 - val_accuracy: 0.8241 - val_loss: 0.3832\n",
      "Epoch 40/500\n",
      "\u001B[1m33/33\u001B[0m \u001B[32m━━━━━━━━━━━━━━━━━━━━\u001B[0m\u001B[37m\u001B[0m \u001B[1m0s\u001B[0m 10ms/step - accuracy: 0.8574 - loss: 0.3385 - val_accuracy: 0.8285 - val_loss: 0.3852\n",
      "Epoch 41/500\n",
      "\u001B[1m33/33\u001B[0m \u001B[32m━━━━━━━━━━━━━━━━━━━━\u001B[0m\u001B[37m\u001B[0m \u001B[1m0s\u001B[0m 10ms/step - accuracy: 0.8537 - loss: 0.3421 - val_accuracy: 0.8309 - val_loss: 0.3807\n",
      "Epoch 42/500\n",
      "\u001B[1m33/33\u001B[0m \u001B[32m━━━━━━━━━━━━━━━━━━━━\u001B[0m\u001B[37m\u001B[0m \u001B[1m0s\u001B[0m 10ms/step - accuracy: 0.8557 - loss: 0.3430 - val_accuracy: 0.8355 - val_loss: 0.3736\n",
      "Epoch 43/500\n",
      "\u001B[1m33/33\u001B[0m \u001B[32m━━━━━━━━━━━━━━━━━━━━\u001B[0m\u001B[37m\u001B[0m \u001B[1m0s\u001B[0m 10ms/step - accuracy: 0.8601 - loss: 0.3351 - val_accuracy: 0.8259 - val_loss: 0.3829\n",
      "Epoch 44/500\n",
      "\u001B[1m33/33\u001B[0m \u001B[32m━━━━━━━━━━━━━━━━━━━━\u001B[0m\u001B[37m\u001B[0m \u001B[1m0s\u001B[0m 10ms/step - accuracy: 0.8658 - loss: 0.3259 - val_accuracy: 0.8390 - val_loss: 0.3713\n",
      "Epoch 45/500\n",
      "\u001B[1m33/33\u001B[0m \u001B[32m━━━━━━━━━━━━━━━━━━━━\u001B[0m\u001B[37m\u001B[0m \u001B[1m0s\u001B[0m 9ms/step - accuracy: 0.8611 - loss: 0.3342 - val_accuracy: 0.8356 - val_loss: 0.3761\n",
      "Epoch 46/500\n",
      "\u001B[1m33/33\u001B[0m \u001B[32m━━━━━━━━━━━━━━━━━━━━\u001B[0m\u001B[37m\u001B[0m \u001B[1m0s\u001B[0m 10ms/step - accuracy: 0.8671 - loss: 0.3312 - val_accuracy: 0.8269 - val_loss: 0.3791\n",
      "Epoch 47/500\n",
      "\u001B[1m33/33\u001B[0m \u001B[32m━━━━━━━━━━━━━━━━━━━━\u001B[0m\u001B[37m\u001B[0m \u001B[1m0s\u001B[0m 10ms/step - accuracy: 0.8698 - loss: 0.3224 - val_accuracy: 0.8276 - val_loss: 0.3732\n",
      "Epoch 48/500\n",
      "\u001B[1m33/33\u001B[0m \u001B[32m━━━━━━━━━━━━━━━━━━━━\u001B[0m\u001B[37m\u001B[0m \u001B[1m0s\u001B[0m 11ms/step - accuracy: 0.8738 - loss: 0.3179 - val_accuracy: 0.8380 - val_loss: 0.3755\n",
      "Epoch 49/500\n",
      "\u001B[1m33/33\u001B[0m \u001B[32m━━━━━━━━━━━━━━━━━━━━\u001B[0m\u001B[37m\u001B[0m \u001B[1m0s\u001B[0m 10ms/step - accuracy: 0.8687 - loss: 0.3215 - val_accuracy: 0.8325 - val_loss: 0.3753\n",
      "Epoch 50/500\n",
      "\u001B[1m33/33\u001B[0m \u001B[32m━━━━━━━━━━━━━━━━━━━━\u001B[0m\u001B[37m\u001B[0m \u001B[1m0s\u001B[0m 10ms/step - accuracy: 0.8740 - loss: 0.3112 - val_accuracy: 0.8276 - val_loss: 0.3823\n",
      "Epoch 51/500\n",
      "\u001B[1m33/33\u001B[0m \u001B[32m━━━━━━━━━━━━━━━━━━━━\u001B[0m\u001B[37m\u001B[0m \u001B[1m0s\u001B[0m 9ms/step - accuracy: 0.8594 - loss: 0.3399 - val_accuracy: 0.8362 - val_loss: 0.3722\n",
      "Epoch 52/500\n",
      "\u001B[1m33/33\u001B[0m \u001B[32m━━━━━━━━━━━━━━━━━━━━\u001B[0m\u001B[37m\u001B[0m \u001B[1m0s\u001B[0m 10ms/step - accuracy: 0.8664 - loss: 0.3252 - val_accuracy: 0.8272 - val_loss: 0.3788\n",
      "Epoch 53/500\n",
      "\u001B[1m33/33\u001B[0m \u001B[32m━━━━━━━━━━━━━━━━━━━━\u001B[0m\u001B[37m\u001B[0m \u001B[1m0s\u001B[0m 11ms/step - accuracy: 0.8641 - loss: 0.3280 - val_accuracy: 0.8340 - val_loss: 0.3748\n",
      "Epoch 54/500\n",
      "\u001B[1m33/33\u001B[0m \u001B[32m━━━━━━━━━━━━━━━━━━━━\u001B[0m\u001B[37m\u001B[0m \u001B[1m0s\u001B[0m 9ms/step - accuracy: 0.8603 - loss: 0.3335 - val_accuracy: 0.8248 - val_loss: 0.3772\n",
      "Epoch 55/500\n",
      "\u001B[1m33/33\u001B[0m \u001B[32m━━━━━━━━━━━━━━━━━━━━\u001B[0m\u001B[37m\u001B[0m \u001B[1m0s\u001B[0m 9ms/step - accuracy: 0.8662 - loss: 0.3281 - val_accuracy: 0.8337 - val_loss: 0.3782\n",
      "Epoch 56/500\n",
      "\u001B[1m33/33\u001B[0m \u001B[32m━━━━━━━━━━━━━━━━━━━━\u001B[0m\u001B[37m\u001B[0m \u001B[1m0s\u001B[0m 9ms/step - accuracy: 0.8649 - loss: 0.3223 - val_accuracy: 0.8362 - val_loss: 0.3762\n",
      "Epoch 57/500\n",
      "\u001B[1m33/33\u001B[0m \u001B[32m━━━━━━━━━━━━━━━━━━━━\u001B[0m\u001B[37m\u001B[0m \u001B[1m0s\u001B[0m 9ms/step - accuracy: 0.8672 - loss: 0.3202 - val_accuracy: 0.8265 - val_loss: 0.3828\n",
      "Epoch 58/500\n",
      "\u001B[1m33/33\u001B[0m \u001B[32m━━━━━━━━━━━━━━━━━━━━\u001B[0m\u001B[37m\u001B[0m \u001B[1m0s\u001B[0m 10ms/step - accuracy: 0.8703 - loss: 0.3183 - val_accuracy: 0.8233 - val_loss: 0.3852\n",
      "Epoch 59/500\n",
      "\u001B[1m33/33\u001B[0m \u001B[32m━━━━━━━━━━━━━━━━━━━━\u001B[0m\u001B[37m\u001B[0m \u001B[1m0s\u001B[0m 9ms/step - accuracy: 0.8673 - loss: 0.3234 - val_accuracy: 0.8334 - val_loss: 0.3738\n",
      "Epoch 60/500\n",
      "\u001B[1m33/33\u001B[0m \u001B[32m━━━━━━━━━━━━━━━━━━━━\u001B[0m\u001B[37m\u001B[0m \u001B[1m0s\u001B[0m 10ms/step - accuracy: 0.8637 - loss: 0.3279 - val_accuracy: 0.8345 - val_loss: 0.3770\n",
      "Epoch 61/500\n",
      "\u001B[1m33/33\u001B[0m \u001B[32m━━━━━━━━━━━━━━━━━━━━\u001B[0m\u001B[37m\u001B[0m \u001B[1m0s\u001B[0m 9ms/step - accuracy: 0.8776 - loss: 0.3039 - val_accuracy: 0.8402 - val_loss: 0.3796\n",
      "Epoch 62/500\n",
      "\u001B[1m33/33\u001B[0m \u001B[32m━━━━━━━━━━━━━━━━━━━━\u001B[0m\u001B[37m\u001B[0m \u001B[1m0s\u001B[0m 9ms/step - accuracy: 0.8698 - loss: 0.3148 - val_accuracy: 0.8319 - val_loss: 0.3824\n",
      "Epoch 63/500\n",
      "\u001B[1m33/33\u001B[0m \u001B[32m━━━━━━━━━━━━━━━━━━━━\u001B[0m\u001B[37m\u001B[0m \u001B[1m0s\u001B[0m 10ms/step - accuracy: 0.8755 - loss: 0.3067 - val_accuracy: 0.8304 - val_loss: 0.3766\n",
      "Epoch 64/500\n",
      "\u001B[1m33/33\u001B[0m \u001B[32m━━━━━━━━━━━━━━━━━━━━\u001B[0m\u001B[37m\u001B[0m \u001B[1m0s\u001B[0m 11ms/step - accuracy: 0.8731 - loss: 0.3110 - val_accuracy: 0.8188 - val_loss: 0.3861\n",
      "Epoch 65/500\n",
      "\u001B[1m33/33\u001B[0m \u001B[32m━━━━━━━━━━━━━━━━━━━━\u001B[0m\u001B[37m\u001B[0m \u001B[1m0s\u001B[0m 9ms/step - accuracy: 0.8755 - loss: 0.3071 - val_accuracy: 0.8317 - val_loss: 0.3748\n",
      "Epoch 66/500\n",
      "\u001B[1m33/33\u001B[0m \u001B[32m━━━━━━━━━━━━━━━━━━━━\u001B[0m\u001B[37m\u001B[0m \u001B[1m0s\u001B[0m 9ms/step - accuracy: 0.8771 - loss: 0.3072 - val_accuracy: 0.8366 - val_loss: 0.3861\n",
      "Epoch 67/500\n",
      "\u001B[1m33/33\u001B[0m \u001B[32m━━━━━━━━━━━━━━━━━━━━\u001B[0m\u001B[37m\u001B[0m \u001B[1m0s\u001B[0m 10ms/step - accuracy: 0.8728 - loss: 0.3113 - val_accuracy: 0.8310 - val_loss: 0.3845\n",
      "Epoch 68/500\n",
      "\u001B[1m33/33\u001B[0m \u001B[32m━━━━━━━━━━━━━━━━━━━━\u001B[0m\u001B[37m\u001B[0m \u001B[1m0s\u001B[0m 10ms/step - accuracy: 0.8789 - loss: 0.2998 - val_accuracy: 0.8376 - val_loss: 0.3800\n",
      "Epoch 69/500\n",
      "\u001B[1m33/33\u001B[0m \u001B[32m━━━━━━━━━━━━━━━━━━━━\u001B[0m\u001B[37m\u001B[0m \u001B[1m0s\u001B[0m 10ms/step - accuracy: 0.8826 - loss: 0.2954 - val_accuracy: 0.8305 - val_loss: 0.3816\n",
      "Epoch 70/500\n",
      "\u001B[1m33/33\u001B[0m \u001B[32m━━━━━━━━━━━━━━━━━━━━\u001B[0m\u001B[37m\u001B[0m \u001B[1m0s\u001B[0m 10ms/step - accuracy: 0.8843 - loss: 0.2947 - val_accuracy: 0.8284 - val_loss: 0.3801\n",
      "Epoch 71/500\n",
      "\u001B[1m33/33\u001B[0m \u001B[32m━━━━━━━━━━━━━━━━━━━━\u001B[0m\u001B[37m\u001B[0m \u001B[1m0s\u001B[0m 9ms/step - accuracy: 0.8866 - loss: 0.2911 - val_accuracy: 0.8349 - val_loss: 0.3779\n",
      "Epoch 72/500\n",
      "\u001B[1m33/33\u001B[0m \u001B[32m━━━━━━━━━━━━━━━━━━━━\u001B[0m\u001B[37m\u001B[0m \u001B[1m0s\u001B[0m 9ms/step - accuracy: 0.8674 - loss: 0.3217 - val_accuracy: 0.8262 - val_loss: 0.3845\n",
      "Epoch 73/500\n",
      "\u001B[1m33/33\u001B[0m \u001B[32m━━━━━━━━━━━━━━━━━━━━\u001B[0m\u001B[37m\u001B[0m \u001B[1m0s\u001B[0m 10ms/step - accuracy: 0.8796 - loss: 0.3039 - val_accuracy: 0.8250 - val_loss: 0.3858\n",
      "Epoch 74/500\n",
      "\u001B[1m33/33\u001B[0m \u001B[32m━━━━━━━━━━━━━━━━━━━━\u001B[0m\u001B[37m\u001B[0m \u001B[1m0s\u001B[0m 10ms/step - accuracy: 0.8781 - loss: 0.3032 - val_accuracy: 0.8239 - val_loss: 0.3907\n",
      "Epoch 75/500\n",
      "\u001B[1m33/33\u001B[0m \u001B[32m━━━━━━━━━━━━━━━━━━━━\u001B[0m\u001B[37m\u001B[0m \u001B[1m0s\u001B[0m 10ms/step - accuracy: 0.8787 - loss: 0.3028 - val_accuracy: 0.8302 - val_loss: 0.3859\n",
      "Epoch 76/500\n",
      "\u001B[1m33/33\u001B[0m \u001B[32m━━━━━━━━━━━━━━━━━━━━\u001B[0m\u001B[37m\u001B[0m \u001B[1m0s\u001B[0m 10ms/step - accuracy: 0.8795 - loss: 0.2999 - val_accuracy: 0.8360 - val_loss: 0.3782\n",
      "Epoch 77/500\n",
      "\u001B[1m33/33\u001B[0m \u001B[32m━━━━━━━━━━━━━━━━━━━━\u001B[0m\u001B[37m\u001B[0m \u001B[1m0s\u001B[0m 9ms/step - accuracy: 0.8836 - loss: 0.2992 - val_accuracy: 0.8369 - val_loss: 0.3857\n",
      "Epoch 78/500\n",
      "\u001B[1m33/33\u001B[0m \u001B[32m━━━━━━━━━━━━━━━━━━━━\u001B[0m\u001B[37m\u001B[0m \u001B[1m0s\u001B[0m 10ms/step - accuracy: 0.8876 - loss: 0.2916 - val_accuracy: 0.8207 - val_loss: 0.3975\n",
      "Epoch 79/500\n",
      "\u001B[1m33/33\u001B[0m \u001B[32m━━━━━━━━━━━━━━━━━━━━\u001B[0m\u001B[37m\u001B[0m \u001B[1m0s\u001B[0m 9ms/step - accuracy: 0.8777 - loss: 0.3084 - val_accuracy: 0.8343 - val_loss: 0.3859\n",
      "Epoch 80/500\n",
      "\u001B[1m33/33\u001B[0m \u001B[32m━━━━━━━━━━━━━━━━━━━━\u001B[0m\u001B[37m\u001B[0m \u001B[1m0s\u001B[0m 9ms/step - accuracy: 0.8810 - loss: 0.2969 - val_accuracy: 0.8338 - val_loss: 0.3857\n",
      "Epoch 81/500\n",
      "\u001B[1m33/33\u001B[0m \u001B[32m━━━━━━━━━━━━━━━━━━━━\u001B[0m\u001B[37m\u001B[0m \u001B[1m0s\u001B[0m 9ms/step - accuracy: 0.8898 - loss: 0.2863 - val_accuracy: 0.8299 - val_loss: 0.3947\n",
      "Epoch 82/500\n",
      "\u001B[1m33/33\u001B[0m \u001B[32m━━━━━━━━━━━━━━━━━━━━\u001B[0m\u001B[37m\u001B[0m \u001B[1m0s\u001B[0m 10ms/step - accuracy: 0.8755 - loss: 0.3054 - val_accuracy: 0.8190 - val_loss: 0.4029\n",
      "Epoch 83/500\n",
      "\u001B[1m33/33\u001B[0m \u001B[32m━━━━━━━━━━━━━━━━━━━━\u001B[0m\u001B[37m\u001B[0m \u001B[1m0s\u001B[0m 10ms/step - accuracy: 0.8751 - loss: 0.3061 - val_accuracy: 0.8280 - val_loss: 0.3964\n",
      "Epoch 84/500\n",
      "\u001B[1m33/33\u001B[0m \u001B[32m━━━━━━━━━━━━━━━━━━━━\u001B[0m\u001B[37m\u001B[0m \u001B[1m0s\u001B[0m 9ms/step - accuracy: 0.8884 - loss: 0.2889 - val_accuracy: 0.8315 - val_loss: 0.3939\n",
      "Epoch 85/500\n",
      "\u001B[1m33/33\u001B[0m \u001B[32m━━━━━━━━━━━━━━━━━━━━\u001B[0m\u001B[37m\u001B[0m \u001B[1m0s\u001B[0m 10ms/step - accuracy: 0.8898 - loss: 0.2868 - val_accuracy: 0.8348 - val_loss: 0.3959\n",
      "Epoch 86/500\n",
      "\u001B[1m33/33\u001B[0m \u001B[32m━━━━━━━━━━━━━━━━━━━━\u001B[0m\u001B[37m\u001B[0m \u001B[1m0s\u001B[0m 9ms/step - accuracy: 0.8839 - loss: 0.2942 - val_accuracy: 0.8251 - val_loss: 0.3911\n",
      "Epoch 87/500\n",
      "\u001B[1m33/33\u001B[0m \u001B[32m━━━━━━━━━━━━━━━━━━━━\u001B[0m\u001B[37m\u001B[0m \u001B[1m0s\u001B[0m 10ms/step - accuracy: 0.8846 - loss: 0.2905 - val_accuracy: 0.8285 - val_loss: 0.3974\n",
      "Epoch 88/500\n",
      "\u001B[1m33/33\u001B[0m \u001B[32m━━━━━━━━━━━━━━━━━━━━\u001B[0m\u001B[37m\u001B[0m \u001B[1m0s\u001B[0m 10ms/step - accuracy: 0.8779 - loss: 0.2984 - val_accuracy: 0.8397 - val_loss: 0.3850\n",
      "Epoch 89/500\n",
      "\u001B[1m33/33\u001B[0m \u001B[32m━━━━━━━━━━━━━━━━━━━━\u001B[0m\u001B[37m\u001B[0m \u001B[1m0s\u001B[0m 9ms/step - accuracy: 0.8877 - loss: 0.2849 - val_accuracy: 0.8295 - val_loss: 0.3900\n",
      "Epoch 90/500\n",
      "\u001B[1m33/33\u001B[0m \u001B[32m━━━━━━━━━━━━━━━━━━━━\u001B[0m\u001B[37m\u001B[0m \u001B[1m0s\u001B[0m 10ms/step - accuracy: 0.8856 - loss: 0.2922 - val_accuracy: 0.8205 - val_loss: 0.4028\n",
      "Epoch 91/500\n",
      "\u001B[1m33/33\u001B[0m \u001B[32m━━━━━━━━━━━━━━━━━━━━\u001B[0m\u001B[37m\u001B[0m \u001B[1m0s\u001B[0m 9ms/step - accuracy: 0.8816 - loss: 0.3001 - val_accuracy: 0.8299 - val_loss: 0.3929\n",
      "Epoch 92/500\n",
      "\u001B[1m33/33\u001B[0m \u001B[32m━━━━━━━━━━━━━━━━━━━━\u001B[0m\u001B[37m\u001B[0m \u001B[1m0s\u001B[0m 11ms/step - accuracy: 0.8878 - loss: 0.2848 - val_accuracy: 0.8299 - val_loss: 0.3990\n",
      "Epoch 93/500\n",
      "\u001B[1m33/33\u001B[0m \u001B[32m━━━━━━━━━━━━━━━━━━━━\u001B[0m\u001B[37m\u001B[0m \u001B[1m0s\u001B[0m 9ms/step - accuracy: 0.8835 - loss: 0.2944 - val_accuracy: 0.8258 - val_loss: 0.3966\n",
      "Epoch 94/500\n",
      "\u001B[1m33/33\u001B[0m \u001B[32m━━━━━━━━━━━━━━━━━━━━\u001B[0m\u001B[37m\u001B[0m \u001B[1m0s\u001B[0m 9ms/step - accuracy: 0.8867 - loss: 0.2881 - val_accuracy: 0.8307 - val_loss: 0.3971\n",
      "Epoch 95/500\n",
      "\u001B[1m33/33\u001B[0m \u001B[32m━━━━━━━━━━━━━━━━━━━━\u001B[0m\u001B[37m\u001B[0m \u001B[1m0s\u001B[0m 9ms/step - accuracy: 0.8835 - loss: 0.2936 - val_accuracy: 0.8339 - val_loss: 0.3829\n"
     ]
    },
    {
     "data": {
      "text/plain": "<keras_core.src.callbacks.history.History at 0x7f72ec062e30>"
     },
     "execution_count": 12,
     "metadata": {},
     "output_type": "execute_result"
    }
   ],
   "source": [
    "model.fit(X_train,\n",
    "          y_train,\n",
    "          epochs=500,\n",
    "          batch_size=params_grid['batch_size'],\n",
    "          callbacks=callback,\n",
    "          validation_data=(X_test, y_test)\n",
    "          )"
   ],
   "metadata": {
    "collapsed": false,
    "ExecuteTime": {
     "end_time": "2024-07-07T17:09:10.005055Z",
     "start_time": "2024-07-07T17:08:22.163775Z"
    }
   },
   "id": "bb2a2ddb0e1f70be",
   "execution_count": 12
  },
  {
   "cell_type": "markdown",
   "source": [
    "# save model"
   ],
   "metadata": {
    "collapsed": false
   },
   "id": "84f51140de160118"
  },
  {
   "cell_type": "code",
   "outputs": [],
   "source": [
    "model.save(model_weight_dst)"
   ],
   "metadata": {
    "collapsed": false,
    "ExecuteTime": {
     "end_time": "2024-07-07T17:09:25.016065Z",
     "start_time": "2024-07-07T17:09:24.954880Z"
    }
   },
   "id": "e1902ebb3c46924c",
   "execution_count": 13
  },
  {
   "cell_type": "code",
   "outputs": [],
   "source": [],
   "metadata": {
    "collapsed": false
   },
   "id": "55b6f98994a58bb2"
  }
 ],
 "metadata": {
  "kernelspec": {
   "display_name": "Python 3 (ipykernel)",
   "language": "python",
   "name": "python3"
  },
  "language_info": {
   "codemirror_mode": {
    "name": "ipython",
    "version": 3
   },
   "file_extension": ".py",
   "mimetype": "text/x-python",
   "name": "python",
   "nbconvert_exporter": "python",
   "pygments_lexer": "ipython3",
   "version": "3.10.13"
  }
 },
 "nbformat": 4,
 "nbformat_minor": 5
}
