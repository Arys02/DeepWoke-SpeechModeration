<<<<<<< HEAD
{
 "cells": [
  {
   "cell_type": "code",
   "execution_count": 1,
   "id": "initial_id",
   "metadata": {
    "collapsed": false,
    "ExecuteTime": {
     "end_time": "2024-07-07T17:08:01.578961Z",
     "start_time": "2024-07-07T17:07:53.669284Z"
    }
   },
   "outputs": [
    {
     "name": "stdout",
     "output_type": "stream",
     "text": [
      "Using TensorFlow backend\n"
     ]
    },
    {
     "name": "stderr",
     "output_type": "stream",
     "text": [
      "2024-07-07 19:07:54.891819: E tensorflow/compiler/xla/stream_executor/cuda/cuda_dnn.cc:9342] Unable to register cuDNN factory: Attempting to register factory for plugin cuDNN when one has already been registered\n",
      "2024-07-07 19:07:54.891945: E tensorflow/compiler/xla/stream_executor/cuda/cuda_fft.cc:609] Unable to register cuFFT factory: Attempting to register factory for plugin cuFFT when one has already been registered\n",
      "2024-07-07 19:07:54.892465: E tensorflow/compiler/xla/stream_executor/cuda/cuda_blas.cc:1518] Unable to register cuBLAS factory: Attempting to register factory for plugin cuBLAS when one has already been registered\n",
      "2024-07-07 19:07:54.948173: I tensorflow/core/platform/cpu_feature_guard.cc:182] This TensorFlow binary is optimized to use available CPU instructions in performance-critical operations.\n",
      "To enable the following instructions: AVX2 FMA, in other operations, rebuild TensorFlow with the appropriate compiler flags.\n"
     ]
    }
   ],
   "source": [
    "import datetime\n",
    "\n",
    "import os\n",
    "\n",
    "os.getcwd()\n",
    "if '.git' not in os.listdir():\n",
    "    os.chdir('./../../../../')\n",
    "os.listdir()\n",
    "\n",
    "from ml.ml_core.src.core.model_factory import model_factory\n",
    "\n",
    "import keras_core as keras\n",
    "import numpy as np\n",
    "import tensorflow as tf\n",
    "from sklearn.model_selection import train_test_split\n",
    "from tensorboard.plugins.hparams import api as hp\n"
   ]
  },
  {
   "cell_type": "markdown",
   "id": "18856c657e08494f",
   "metadata": {
    "collapsed": false
   },
   "source": [
    "## Configurations"
   ]
  },
  {
   "cell_type": "code",
   "execution_count": 2,
   "id": "9574abd306005981",
   "metadata": {
    "collapsed": false,
    "ExecuteTime": {
     "end_time": "2024-07-07T17:08:04.073407Z",
     "start_time": "2024-07-07T17:08:04.070280Z"
    }
   },
   "outputs": [],
   "source": [
    "params_grid = {\n",
    "    \"model\": \"rnn\",\n",
    "    \"embedder\": \"camembert\",\n",
    "    \"embedding_data\": \"almanach-camembert-base\",\n",
    "    \"dataset\": \"fr_hf.csv\",\n",
    "    \"batch_size\": 500\n",
    "}"
   ]
  },
  {
   "cell_type": "code",
   "execution_count": 3,
   "id": "d220a1d10493404e",
   "metadata": {
    "collapsed": false,
    "ExecuteTime": {
     "end_time": "2024-07-07T17:08:04.354154Z",
     "start_time": "2024-07-07T17:08:04.350588Z"
    }
   },
   "outputs": [],
   "source": [
    "data_folder_src = 'ml/ml_core/data/processed/'\n",
    "ml_core_folder_path = 'ml/ml_core/'\n",
    "data_path_src = f'{data_folder_src}{params_grid[\"dataset\"]}'\n",
    "date_str = datetime.datetime.now().strftime(\"%Y%m%d-%H%M%S\")\n",
    "experiment_name = f'deepwoke_{params_grid[\"embedder\"]}_{params_grid[\"model\"]}_{params_grid[\"dataset\"]}_{date_str}'\n",
    "\n",
    "log_dir = f\"{ml_core_folder_path}log/fit/{experiment_name}\"\n",
    "model_weight_dst = f'{ml_core_folder_path}model_weights/{experiment_name}-model.keras'"
   ]
  },
  {
   "cell_type": "code",
   "execution_count": 4,
   "id": "63bc5b9857e00e2f",
   "metadata": {
    "collapsed": false,
    "ExecuteTime": {
     "end_time": "2024-07-07T17:08:04.697871Z",
     "start_time": "2024-07-07T17:08:04.694790Z"
    }
   },
   "outputs": [],
   "source": [
    "\n",
    "vector_path = f'{ml_core_folder_path}embedded_vector/{params_grid[\"embedding_data\"]}_{params_grid[\"dataset\"]}'\n",
    "vector_x_dst = f'{vector_path}.x.npy'\n",
    "vector_y_dst = f'{vector_path}.y.npy'"
   ]
  },
  {
   "cell_type": "markdown",
   "id": "5d4209390b020a7",
   "metadata": {
    "collapsed": false
   },
   "source": [
    "# loading dataset"
   ]
  },
  {
   "cell_type": "code",
   "execution_count": 5,
   "id": "cda597a675bb1ba2",
   "metadata": {
    "collapsed": false,
    "ExecuteTime": {
     "end_time": "2024-07-07T17:08:05.536221Z",
     "start_time": "2024-07-07T17:08:05.387645Z"
    }
   },
   "outputs": [],
   "source": [
    "X = np.load(vector_x_dst)\n",
    "y = np.load(vector_y_dst)\n",
    "X = np.expand_dims(X, axis=1)"
   ]
  },
  {
   "cell_type": "markdown",
   "source": [
    "# Model"
   ],
   "metadata": {
    "collapsed": false
   },
   "id": "a2adf4c59ca51d9c"
  },
  {
   "cell_type": "markdown",
   "id": "5c8ac62597164bde",
   "metadata": {
    "collapsed": false
   },
   "source": [
    "## callbacks"
   ]
  },
  {
   "cell_type": "code",
   "execution_count": 6,
   "id": "336209aae383296f",
   "metadata": {
    "collapsed": false,
    "ExecuteTime": {
     "end_time": "2024-07-07T17:08:08.193626Z",
     "start_time": "2024-07-07T17:08:08.190405Z"
    }
   },
   "outputs": [],
   "source": [
    "early_stopping = keras.callbacks.EarlyStopping(\n",
    "    patience=10,\n",
    "    min_delta=0.001,\n",
    "    restore_best_weights=True,\n",
    "    monitor='loss'\n",
    ")\n"
   ]
  },
  {
   "cell_type": "code",
   "execution_count": 7,
   "id": "9f93ecb4efe31443",
   "metadata": {
    "collapsed": false,
    "ExecuteTime": {
     "end_time": "2024-07-07T17:08:08.466473Z",
     "start_time": "2024-07-07T17:08:08.462034Z"
    }
   },
   "outputs": [],
   "source": [
    "\n",
    "class EarlyStoppingLogging(keras.callbacks.Callback):\n",
    "    def __init__(self, early_stopping_callback, log_dir):\n",
    "        super().__init__()\n",
    "        self.early_stopping = early_stopping_callback\n",
    "        self.stopped_epoch = 0\n",
    "        self.writer = tf.summary.create_file_writer(log_dir)\n",
    "\n",
    "    def on_epoch_end(self, epoch, logs=None):\n",
    "        if self.early_stopping.stopped_epoch > 0:\n",
    "            self.stopped_epoch = self.early_stopping.stopped_epoch\n",
    "            with self.writer.as_default():\n",
    "                tf.summary.scalar('early_stopping_epoch', self.stopped_epoch, step=epoch)\n",
    "                self.writer.flush()\n"
   ]
  },
  {
   "cell_type": "code",
   "execution_count": 8,
   "id": "7ec43b4117399510",
   "metadata": {
    "collapsed": false,
    "ExecuteTime": {
     "end_time": "2024-07-07T17:08:09.450258Z",
     "start_time": "2024-07-07T17:08:08.677902Z"
    }
   },
   "outputs": [
    {
     "name": "stderr",
     "output_type": "stream",
     "text": [
      "2024-07-07 19:08:08.851707: I tensorflow/compiler/xla/stream_executor/cuda/cuda_gpu_executor.cc:880] could not open file to read NUMA node: /sys/bus/pci/devices/0000:01:00.0/numa_node\n",
      "Your kernel may have been built without NUMA support.\n",
      "2024-07-07 19:08:09.144517: I tensorflow/compiler/xla/stream_executor/cuda/cuda_gpu_executor.cc:880] could not open file to read NUMA node: /sys/bus/pci/devices/0000:01:00.0/numa_node\n",
      "Your kernel may have been built without NUMA support.\n",
      "2024-07-07 19:08:09.144567: I tensorflow/compiler/xla/stream_executor/cuda/cuda_gpu_executor.cc:880] could not open file to read NUMA node: /sys/bus/pci/devices/0000:01:00.0/numa_node\n",
      "Your kernel may have been built without NUMA support.\n",
      "2024-07-07 19:08:09.149007: I tensorflow/compiler/xla/stream_executor/cuda/cuda_gpu_executor.cc:880] could not open file to read NUMA node: /sys/bus/pci/devices/0000:01:00.0/numa_node\n",
      "Your kernel may have been built without NUMA support.\n",
      "2024-07-07 19:08:09.149105: I tensorflow/compiler/xla/stream_executor/cuda/cuda_gpu_executor.cc:880] could not open file to read NUMA node: /sys/bus/pci/devices/0000:01:00.0/numa_node\n",
      "Your kernel may have been built without NUMA support.\n",
      "2024-07-07 19:08:09.149145: I tensorflow/compiler/xla/stream_executor/cuda/cuda_gpu_executor.cc:880] could not open file to read NUMA node: /sys/bus/pci/devices/0000:01:00.0/numa_node\n",
      "Your kernel may have been built without NUMA support.\n",
      "2024-07-07 19:08:09.418090: I tensorflow/compiler/xla/stream_executor/cuda/cuda_gpu_executor.cc:880] could not open file to read NUMA node: /sys/bus/pci/devices/0000:01:00.0/numa_node\n",
      "Your kernel may have been built without NUMA support.\n",
      "2024-07-07 19:08:09.418202: I tensorflow/compiler/xla/stream_executor/cuda/cuda_gpu_executor.cc:880] could not open file to read NUMA node: /sys/bus/pci/devices/0000:01:00.0/numa_node\n",
      "Your kernel may have been built without NUMA support.\n",
      "2024-07-07 19:08:09.418212: I tensorflow/core/common_runtime/gpu/gpu_device.cc:1977] Could not identify NUMA node of platform GPU id 0, defaulting to 0.  Your kernel may not have been built with NUMA support.\n",
      "2024-07-07 19:08:09.418296: I tensorflow/compiler/xla/stream_executor/cuda/cuda_gpu_executor.cc:880] could not open file to read NUMA node: /sys/bus/pci/devices/0000:01:00.0/numa_node\n",
      "Your kernel may have been built without NUMA support.\n",
      "2024-07-07 19:08:09.418405: I tensorflow/core/common_runtime/gpu/gpu_device.cc:1886] Created device /job:localhost/replica:0/task:0/device:GPU:0 with 7537 MB memory:  -> device: 0, name: NVIDIA GeForce RTX 3080, pci bus id: 0000:01:00.0, compute capability: 8.6\n"
     ]
    }
   ],
   "source": [
    "tensorboard_callback = keras.callbacks.TensorBoard(log_dir=log_dir, histogram_freq=1)\n",
    "early_stopping_logging_callback = EarlyStoppingLogging(early_stopping, log_dir)"
   ]
  },
  {
   "cell_type": "code",
   "execution_count": 9,
   "id": "3f3d46724d8e5aa1",
   "metadata": {
    "collapsed": false,
    "ExecuteTime": {
     "end_time": "2024-07-07T17:08:11.022687Z",
     "start_time": "2024-07-07T17:08:11.018356Z"
    }
   },
   "outputs": [],
   "source": [
    "callback = [\n",
    "    early_stopping,\n",
    "    tensorboard_callback,\n",
    "    hp.KerasCallback(log_dir, params_grid),\n",
    "    early_stopping_logging_callback,\n",
    "]"
   ]
  },
  {
   "cell_type": "markdown",
   "source": [
    "# Model building"
   ],
   "metadata": {
    "collapsed": false
   },
   "id": "cfba23972d3586ee"
  },
  {
   "cell_type": "code",
   "outputs": [],
   "source": [
    "def rnn_builder(input_dim, output_dim):\n",
    "    activation_function = 'softmax'\n",
    "    loss = 'categorical_crossentropy'\n",
    "    if output_dim == 1:\n",
    "        activation_function = 'sigmoid'\n",
    "        loss = 'binary_crossentropy'\n",
    "    print(input_dim, output_dim)\n",
    "\n",
    "\n",
    "    input_tensor = keras.layers.Input(shape=input_dim)\n",
    "\n",
    "    hl = keras.layers.SimpleRNN(64, return_sequences=True, activation='relu')(input_tensor)\n",
    "    hl = keras.layers.Dropout(0.2)(hl)\n",
    "    hl = keras.layers.SimpleRNN(64, return_sequences=True, activation='relu')(hl)\n",
    "    hl = keras.layers.Dropout(0.2)(hl)\n",
    "    hl = keras.layers.SimpleRNN(64, activation='relu')(hl)\n",
    "    hl = keras.layers.Dense(64, activation='relu')(hl)\n",
    "    output_tensor = keras.layers.Dense(output_dim, activation=activation_function)(hl)\n",
    "\n",
    "    model = keras.models.Model(inputs=[input_tensor], outputs=[output_tensor])\n",
    "    model.compile(optimizer='adam', loss=loss, metrics=['accuracy'])\n",
    "\n",
    "    return model"
   ],
   "metadata": {
    "collapsed": false,
    "ExecuteTime": {
     "end_time": "2024-07-07T17:08:12.327550Z",
     "start_time": "2024-07-07T17:08:12.322912Z"
    }
   },
   "id": "198085420757f4f1",
   "execution_count": 10
  },
  {
   "cell_type": "markdown",
   "id": "9dec354f696f24a9",
   "metadata": {
    "collapsed": false
   },
   "source": [
    "### training the model"
   ]
  },
  {
   "cell_type": "code",
   "outputs": [],
   "source": [],
   "metadata": {
    "collapsed": false,
    "ExecuteTime": {
     "end_time": "2024-07-07T17:08:13.962346Z",
     "start_time": "2024-07-07T17:08:13.959699Z"
    }
   },
   "id": "11d6ec87445bb42",
   "execution_count": 10
  },
  {
   "cell_type": "code",
   "execution_count": 11,
   "id": "c4cf876c5cbae2f2",
   "metadata": {
    "collapsed": false,
    "ExecuteTime": {
     "end_time": "2024-07-07T17:08:19.358369Z",
     "start_time": "2024-07-07T17:08:14.694602Z"
    }
   },
   "outputs": [
    {
     "name": "stdout",
     "output_type": "stream",
     "text": [
      "(1, 768) 1\n",
      "<bound method Model.summary of <Functional name=functional_1, built=True>>\n"
     ]
    }
   ],
   "source": [
    "\n",
    "X_train, X_test, y_train, y_test = train_test_split(X, y, test_size=0.1, random_state=42)\n",
    "input_dim = X_train.shape[1:]\n",
    "model = rnn_builder(input_dim, 1)\n",
    "print(model.summary)\n",
    "\n",
    "tf.compat.v1.global_variables_initializer()"
   ]
  },
  {
   "cell_type": "code",
   "outputs": [
    {
     "name": "stdout",
     "output_type": "stream",
     "text": [
      "Epoch 1/500\n"
     ]
    },
    {
     "name": "stderr",
     "output_type": "stream",
     "text": [
      "2024-07-07 19:08:25.383769: I tensorflow/compiler/xla/service/service.cc:168] XLA service 0x9a94740 initialized for platform CUDA (this does not guarantee that XLA will be used). Devices:\n",
      "2024-07-07 19:08:25.383814: I tensorflow/compiler/xla/service/service.cc:176]   StreamExecutor device (0): NVIDIA GeForce RTX 3080, Compute Capability 8.6\n",
      "2024-07-07 19:08:25.444243: I tensorflow/compiler/mlir/tensorflow/utils/dump_mlir_util.cc:269] disabling MLIR crash reproducer, set env var `MLIR_CRASH_REPRODUCER_DIRECTORY` to enable.\n",
      "2024-07-07 19:08:25.887206: I tensorflow/compiler/xla/stream_executor/cuda/cuda_dnn.cc:442] Loaded cuDNN version 8700\n"
     ]
    },
    {
     "name": "stdout",
     "output_type": "stream",
     "text": [
      "\u001B[1m14/33\u001B[0m \u001B[32m━━━━━━━━\u001B[0m\u001B[37m━━━━━━━━━━━━\u001B[0m \u001B[1m0s\u001B[0m 8ms/step - accuracy: 0.6709 - loss: 0.6407"
     ]
    },
    {
     "name": "stderr",
     "output_type": "stream",
     "text": [
      "2024-07-07 19:08:27.884286: I ./tensorflow/compiler/jit/device_compiler.h:186] Compiled cluster using XLA!  This line is logged at most once for the lifetime of the process.\n"
     ]
    },
    {
     "name": "stdout",
     "output_type": "stream",
     "text": [
      "\u001B[1m33/33\u001B[0m \u001B[32m━━━━━━━━━━━━━━━━━━━━\u001B[0m\u001B[37m\u001B[0m \u001B[1m9s\u001B[0m 112ms/step - accuracy: 0.7127 - loss: 0.6066 - val_accuracy: 0.7575 - val_loss: 0.5427\n",
      "Epoch 2/500\n",
      "\u001B[1m33/33\u001B[0m \u001B[32m━━━━━━━━━━━━━━━━━━━━\u001B[0m\u001B[37m\u001B[0m \u001B[1m1s\u001B[0m 13ms/step - accuracy: 0.7596 - loss: 0.5337 - val_accuracy: 0.7575 - val_loss: 0.5102\n",
      "Epoch 3/500\n",
      "\u001B[1m33/33\u001B[0m \u001B[32m━━━━━━━━━━━━━━━━━━━━\u001B[0m\u001B[37m\u001B[0m \u001B[1m0s\u001B[0m 11ms/step - accuracy: 0.7607 - loss: 0.4918 - val_accuracy: 0.7575 - val_loss: 0.4603\n",
      "Epoch 4/500\n",
      "\u001B[1m33/33\u001B[0m \u001B[32m━━━━━━━━━━━━━━━━━━━━\u001B[0m\u001B[37m\u001B[0m \u001B[1m0s\u001B[0m 10ms/step - accuracy: 0.7654 - loss: 0.4544 - val_accuracy: 0.7744 - val_loss: 0.4409\n",
      "Epoch 5/500\n",
      "\u001B[1m33/33\u001B[0m \u001B[32m━━━━━━━━━━━━━━━━━━━━\u001B[0m\u001B[37m\u001B[0m \u001B[1m0s\u001B[0m 10ms/step - accuracy: 0.7915 - loss: 0.4508 - val_accuracy: 0.7790 - val_loss: 0.4422\n",
      "Epoch 6/500\n",
      "\u001B[1m33/33\u001B[0m \u001B[32m━━━━━━━━━━━━━━━━━━━━\u001B[0m\u001B[37m\u001B[0m \u001B[1m0s\u001B[0m 10ms/step - accuracy: 0.7987 - loss: 0.4353 - val_accuracy: 0.8064 - val_loss: 0.4189\n",
      "Epoch 7/500\n",
      "\u001B[1m33/33\u001B[0m \u001B[32m━━━━━━━━━━━━━━━━━━━━\u001B[0m\u001B[37m\u001B[0m \u001B[1m0s\u001B[0m 10ms/step - accuracy: 0.8101 - loss: 0.4264 - val_accuracy: 0.8139 - val_loss: 0.4118\n",
      "Epoch 8/500\n",
      "\u001B[1m33/33\u001B[0m \u001B[32m━━━━━━━━━━━━━━━━━━━━\u001B[0m\u001B[37m\u001B[0m \u001B[1m0s\u001B[0m 11ms/step - accuracy: 0.8080 - loss: 0.4220 - val_accuracy: 0.8219 - val_loss: 0.4054\n",
      "Epoch 9/500\n",
      "\u001B[1m33/33\u001B[0m \u001B[32m━━━━━━━━━━━━━━━━━━━━\u001B[0m\u001B[37m\u001B[0m \u001B[1m0s\u001B[0m 10ms/step - accuracy: 0.8156 - loss: 0.4198 - val_accuracy: 0.8223 - val_loss: 0.3967\n",
      "Epoch 10/500\n",
      "\u001B[1m33/33\u001B[0m \u001B[32m━━━━━━━━━━━━━━━━━━━━\u001B[0m\u001B[37m\u001B[0m \u001B[1m0s\u001B[0m 10ms/step - accuracy: 0.8189 - loss: 0.4053 - val_accuracy: 0.8224 - val_loss: 0.3940\n",
      "Epoch 11/500\n",
      "\u001B[1m33/33\u001B[0m \u001B[32m━━━━━━━━━━━━━━━━━━━━\u001B[0m\u001B[37m\u001B[0m \u001B[1m0s\u001B[0m 10ms/step - accuracy: 0.8230 - loss: 0.3995 - val_accuracy: 0.8253 - val_loss: 0.3905\n",
      "Epoch 12/500\n",
      "\u001B[1m33/33\u001B[0m \u001B[32m━━━━━━━━━━━━━━━━━━━━\u001B[0m\u001B[37m\u001B[0m \u001B[1m0s\u001B[0m 11ms/step - accuracy: 0.8215 - loss: 0.3947 - val_accuracy: 0.8204 - val_loss: 0.3921\n",
      "Epoch 13/500\n",
      "\u001B[1m33/33\u001B[0m \u001B[32m━━━━━━━━━━━━━━━━━━━━\u001B[0m\u001B[37m\u001B[0m \u001B[1m0s\u001B[0m 10ms/step - accuracy: 0.8289 - loss: 0.3905 - val_accuracy: 0.8290 - val_loss: 0.3879\n",
      "Epoch 14/500\n",
      "\u001B[1m33/33\u001B[0m \u001B[32m━━━━━━━━━━━━━━━━━━━━\u001B[0m\u001B[37m\u001B[0m \u001B[1m0s\u001B[0m 10ms/step - accuracy: 0.8266 - loss: 0.3915 - val_accuracy: 0.8222 - val_loss: 0.3929\n",
      "Epoch 15/500\n",
      "\u001B[1m33/33\u001B[0m \u001B[32m━━━━━━━━━━━━━━━━━━━━\u001B[0m\u001B[37m\u001B[0m \u001B[1m0s\u001B[0m 10ms/step - accuracy: 0.8329 - loss: 0.3810 - val_accuracy: 0.8315 - val_loss: 0.3809\n",
      "Epoch 16/500\n",
      "\u001B[1m33/33\u001B[0m \u001B[32m━━━━━━━━━━━━━━━━━━━━\u001B[0m\u001B[37m\u001B[0m \u001B[1m0s\u001B[0m 10ms/step - accuracy: 0.8376 - loss: 0.3765 - val_accuracy: 0.8294 - val_loss: 0.3791\n",
      "Epoch 17/500\n",
      "\u001B[1m33/33\u001B[0m \u001B[32m━━━━━━━━━━━━━━━━━━━━\u001B[0m\u001B[37m\u001B[0m \u001B[1m0s\u001B[0m 10ms/step - accuracy: 0.8363 - loss: 0.3747 - val_accuracy: 0.8331 - val_loss: 0.3921\n",
      "Epoch 18/500\n",
      "\u001B[1m33/33\u001B[0m \u001B[32m━━━━━━━━━━━━━━━━━━━━\u001B[0m\u001B[37m\u001B[0m \u001B[1m0s\u001B[0m 9ms/step - accuracy: 0.8336 - loss: 0.3845 - val_accuracy: 0.8335 - val_loss: 0.3745\n",
      "Epoch 19/500\n",
      "\u001B[1m33/33\u001B[0m \u001B[32m━━━━━━━━━━━━━━━━━━━━\u001B[0m\u001B[37m\u001B[0m \u001B[1m0s\u001B[0m 9ms/step - accuracy: 0.8345 - loss: 0.3808 - val_accuracy: 0.8320 - val_loss: 0.3817\n",
      "Epoch 20/500\n",
      "\u001B[1m33/33\u001B[0m \u001B[32m━━━━━━━━━━━━━━━━━━━━\u001B[0m\u001B[37m\u001B[0m \u001B[1m0s\u001B[0m 10ms/step - accuracy: 0.8349 - loss: 0.3735 - val_accuracy: 0.8350 - val_loss: 0.3781\n",
      "Epoch 21/500\n",
      "\u001B[1m33/33\u001B[0m \u001B[32m━━━━━━━━━━━━━━━━━━━━\u001B[0m\u001B[37m\u001B[0m \u001B[1m0s\u001B[0m 10ms/step - accuracy: 0.8369 - loss: 0.3750 - val_accuracy: 0.8375 - val_loss: 0.3760\n",
      "Epoch 22/500\n",
      "\u001B[1m33/33\u001B[0m \u001B[32m━━━━━━━━━━━━━━━━━━━━\u001B[0m\u001B[37m\u001B[0m \u001B[1m0s\u001B[0m 10ms/step - accuracy: 0.8411 - loss: 0.3700 - val_accuracy: 0.8325 - val_loss: 0.3784\n",
      "Epoch 23/500\n",
      "\u001B[1m33/33\u001B[0m \u001B[32m━━━━━━━━━━━━━━━━━━━━\u001B[0m\u001B[37m\u001B[0m \u001B[1m0s\u001B[0m 9ms/step - accuracy: 0.8436 - loss: 0.3687 - val_accuracy: 0.8376 - val_loss: 0.3770\n",
      "Epoch 24/500\n",
      "\u001B[1m33/33\u001B[0m \u001B[32m━━━━━━━━━━━━━━━━━━━━\u001B[0m\u001B[37m\u001B[0m \u001B[1m0s\u001B[0m 9ms/step - accuracy: 0.8483 - loss: 0.3585 - val_accuracy: 0.8361 - val_loss: 0.3732\n",
      "Epoch 25/500\n",
      "\u001B[1m33/33\u001B[0m \u001B[32m━━━━━━━━━━━━━━━━━━━━\u001B[0m\u001B[37m\u001B[0m \u001B[1m0s\u001B[0m 9ms/step - accuracy: 0.8452 - loss: 0.3604 - val_accuracy: 0.8372 - val_loss: 0.3748\n",
      "Epoch 26/500\n",
      "\u001B[1m33/33\u001B[0m \u001B[32m━━━━━━━━━━━━━━━━━━━━\u001B[0m\u001B[37m\u001B[0m \u001B[1m0s\u001B[0m 11ms/step - accuracy: 0.8480 - loss: 0.3633 - val_accuracy: 0.8375 - val_loss: 0.3758\n",
      "Epoch 27/500\n",
      "\u001B[1m33/33\u001B[0m \u001B[32m━━━━━━━━━━━━━━━━━━━━\u001B[0m\u001B[37m\u001B[0m \u001B[1m0s\u001B[0m 10ms/step - accuracy: 0.8458 - loss: 0.3616 - val_accuracy: 0.8385 - val_loss: 0.3748\n",
      "Epoch 28/500\n",
      "\u001B[1m33/33\u001B[0m \u001B[32m━━━━━━━━━━━━━━━━━━━━\u001B[0m\u001B[37m\u001B[0m \u001B[1m0s\u001B[0m 9ms/step - accuracy: 0.8516 - loss: 0.3525 - val_accuracy: 0.8445 - val_loss: 0.3759\n",
      "Epoch 29/500\n",
      "\u001B[1m33/33\u001B[0m \u001B[32m━━━━━━━━━━━━━━━━━━━━\u001B[0m\u001B[37m\u001B[0m \u001B[1m0s\u001B[0m 10ms/step - accuracy: 0.8513 - loss: 0.3530 - val_accuracy: 0.8373 - val_loss: 0.3763\n",
      "Epoch 30/500\n",
      "\u001B[1m33/33\u001B[0m \u001B[32m━━━━━━━━━━━━━━━━━━━━\u001B[0m\u001B[37m\u001B[0m \u001B[1m0s\u001B[0m 9ms/step - accuracy: 0.8472 - loss: 0.3586 - val_accuracy: 0.8328 - val_loss: 0.3817\n",
      "Epoch 31/500\n",
      "\u001B[1m33/33\u001B[0m \u001B[32m━━━━━━━━━━━━━━━━━━━━\u001B[0m\u001B[37m\u001B[0m \u001B[1m0s\u001B[0m 10ms/step - accuracy: 0.8507 - loss: 0.3516 - val_accuracy: 0.8310 - val_loss: 0.3802\n",
      "Epoch 32/500\n",
      "\u001B[1m33/33\u001B[0m \u001B[32m━━━━━━━━━━━━━━━━━━━━\u001B[0m\u001B[37m\u001B[0m \u001B[1m0s\u001B[0m 9ms/step - accuracy: 0.8502 - loss: 0.3472 - val_accuracy: 0.8380 - val_loss: 0.3707\n",
      "Epoch 33/500\n",
      "\u001B[1m33/33\u001B[0m \u001B[32m━━━━━━━━━━━━━━━━━━━━\u001B[0m\u001B[37m\u001B[0m \u001B[1m0s\u001B[0m 9ms/step - accuracy: 0.8592 - loss: 0.3360 - val_accuracy: 0.8380 - val_loss: 0.3674\n",
      "Epoch 34/500\n",
      "\u001B[1m33/33\u001B[0m \u001B[32m━━━━━━━━━━━━━━━━━━━━\u001B[0m\u001B[37m\u001B[0m \u001B[1m0s\u001B[0m 9ms/step - accuracy: 0.8621 - loss: 0.3380 - val_accuracy: 0.8357 - val_loss: 0.3783\n",
      "Epoch 35/500\n",
      "\u001B[1m33/33\u001B[0m \u001B[32m━━━━━━━━━━━━━━━━━━━━\u001B[0m\u001B[37m\u001B[0m \u001B[1m0s\u001B[0m 9ms/step - accuracy: 0.8558 - loss: 0.3429 - val_accuracy: 0.8320 - val_loss: 0.3735\n",
      "Epoch 36/500\n",
      "\u001B[1m33/33\u001B[0m \u001B[32m━━━━━━━━━━━━━━━━━━━━\u001B[0m\u001B[37m\u001B[0m \u001B[1m0s\u001B[0m 10ms/step - accuracy: 0.8555 - loss: 0.3450 - val_accuracy: 0.8440 - val_loss: 0.3717\n",
      "Epoch 37/500\n",
      "\u001B[1m33/33\u001B[0m \u001B[32m━━━━━━━━━━━━━━━━━━━━\u001B[0m\u001B[37m\u001B[0m \u001B[1m0s\u001B[0m 9ms/step - accuracy: 0.8632 - loss: 0.3343 - val_accuracy: 0.8312 - val_loss: 0.3744\n",
      "Epoch 38/500\n",
      "\u001B[1m33/33\u001B[0m \u001B[32m━━━━━━━━━━━━━━━━━━━━\u001B[0m\u001B[37m\u001B[0m \u001B[1m0s\u001B[0m 9ms/step - accuracy: 0.8622 - loss: 0.3335 - val_accuracy: 0.8315 - val_loss: 0.3790\n",
      "Epoch 39/500\n",
      "\u001B[1m33/33\u001B[0m \u001B[32m━━━━━━━━━━━━━━━━━━━━\u001B[0m\u001B[37m\u001B[0m \u001B[1m0s\u001B[0m 11ms/step - accuracy: 0.8605 - loss: 0.3397 - val_accuracy: 0.8241 - val_loss: 0.3832\n",
      "Epoch 40/500\n",
      "\u001B[1m33/33\u001B[0m \u001B[32m━━━━━━━━━━━━━━━━━━━━\u001B[0m\u001B[37m\u001B[0m \u001B[1m0s\u001B[0m 10ms/step - accuracy: 0.8574 - loss: 0.3385 - val_accuracy: 0.8285 - val_loss: 0.3852\n",
      "Epoch 41/500\n",
      "\u001B[1m33/33\u001B[0m \u001B[32m━━━━━━━━━━━━━━━━━━━━\u001B[0m\u001B[37m\u001B[0m \u001B[1m0s\u001B[0m 10ms/step - accuracy: 0.8537 - loss: 0.3421 - val_accuracy: 0.8309 - val_loss: 0.3807\n",
      "Epoch 42/500\n",
      "\u001B[1m33/33\u001B[0m \u001B[32m━━━━━━━━━━━━━━━━━━━━\u001B[0m\u001B[37m\u001B[0m \u001B[1m0s\u001B[0m 10ms/step - accuracy: 0.8557 - loss: 0.3430 - val_accuracy: 0.8355 - val_loss: 0.3736\n",
      "Epoch 43/500\n",
      "\u001B[1m33/33\u001B[0m \u001B[32m━━━━━━━━━━━━━━━━━━━━\u001B[0m\u001B[37m\u001B[0m \u001B[1m0s\u001B[0m 10ms/step - accuracy: 0.8601 - loss: 0.3351 - val_accuracy: 0.8259 - val_loss: 0.3829\n",
      "Epoch 44/500\n",
      "\u001B[1m33/33\u001B[0m \u001B[32m━━━━━━━━━━━━━━━━━━━━\u001B[0m\u001B[37m\u001B[0m \u001B[1m0s\u001B[0m 10ms/step - accuracy: 0.8658 - loss: 0.3259 - val_accuracy: 0.8390 - val_loss: 0.3713\n",
      "Epoch 45/500\n",
      "\u001B[1m33/33\u001B[0m \u001B[32m━━━━━━━━━━━━━━━━━━━━\u001B[0m\u001B[37m\u001B[0m \u001B[1m0s\u001B[0m 9ms/step - accuracy: 0.8611 - loss: 0.3342 - val_accuracy: 0.8356 - val_loss: 0.3761\n",
      "Epoch 46/500\n",
      "\u001B[1m33/33\u001B[0m \u001B[32m━━━━━━━━━━━━━━━━━━━━\u001B[0m\u001B[37m\u001B[0m \u001B[1m0s\u001B[0m 10ms/step - accuracy: 0.8671 - loss: 0.3312 - val_accuracy: 0.8269 - val_loss: 0.3791\n",
      "Epoch 47/500\n",
      "\u001B[1m33/33\u001B[0m \u001B[32m━━━━━━━━━━━━━━━━━━━━\u001B[0m\u001B[37m\u001B[0m \u001B[1m0s\u001B[0m 10ms/step - accuracy: 0.8698 - loss: 0.3224 - val_accuracy: 0.8276 - val_loss: 0.3732\n",
      "Epoch 48/500\n",
      "\u001B[1m33/33\u001B[0m \u001B[32m━━━━━━━━━━━━━━━━━━━━\u001B[0m\u001B[37m\u001B[0m \u001B[1m0s\u001B[0m 11ms/step - accuracy: 0.8738 - loss: 0.3179 - val_accuracy: 0.8380 - val_loss: 0.3755\n",
      "Epoch 49/500\n",
      "\u001B[1m33/33\u001B[0m \u001B[32m━━━━━━━━━━━━━━━━━━━━\u001B[0m\u001B[37m\u001B[0m \u001B[1m0s\u001B[0m 10ms/step - accuracy: 0.8687 - loss: 0.3215 - val_accuracy: 0.8325 - val_loss: 0.3753\n",
      "Epoch 50/500\n",
      "\u001B[1m33/33\u001B[0m \u001B[32m━━━━━━━━━━━━━━━━━━━━\u001B[0m\u001B[37m\u001B[0m \u001B[1m0s\u001B[0m 10ms/step - accuracy: 0.8740 - loss: 0.3112 - val_accuracy: 0.8276 - val_loss: 0.3823\n",
      "Epoch 51/500\n",
      "\u001B[1m33/33\u001B[0m \u001B[32m━━━━━━━━━━━━━━━━━━━━\u001B[0m\u001B[37m\u001B[0m \u001B[1m0s\u001B[0m 9ms/step - accuracy: 0.8594 - loss: 0.3399 - val_accuracy: 0.8362 - val_loss: 0.3722\n",
      "Epoch 52/500\n",
      "\u001B[1m33/33\u001B[0m \u001B[32m━━━━━━━━━━━━━━━━━━━━\u001B[0m\u001B[37m\u001B[0m \u001B[1m0s\u001B[0m 10ms/step - accuracy: 0.8664 - loss: 0.3252 - val_accuracy: 0.8272 - val_loss: 0.3788\n",
      "Epoch 53/500\n",
      "\u001B[1m33/33\u001B[0m \u001B[32m━━━━━━━━━━━━━━━━━━━━\u001B[0m\u001B[37m\u001B[0m \u001B[1m0s\u001B[0m 11ms/step - accuracy: 0.8641 - loss: 0.3280 - val_accuracy: 0.8340 - val_loss: 0.3748\n",
      "Epoch 54/500\n",
      "\u001B[1m33/33\u001B[0m \u001B[32m━━━━━━━━━━━━━━━━━━━━\u001B[0m\u001B[37m\u001B[0m \u001B[1m0s\u001B[0m 9ms/step - accuracy: 0.8603 - loss: 0.3335 - val_accuracy: 0.8248 - val_loss: 0.3772\n",
      "Epoch 55/500\n",
      "\u001B[1m33/33\u001B[0m \u001B[32m━━━━━━━━━━━━━━━━━━━━\u001B[0m\u001B[37m\u001B[0m \u001B[1m0s\u001B[0m 9ms/step - accuracy: 0.8662 - loss: 0.3281 - val_accuracy: 0.8337 - val_loss: 0.3782\n",
      "Epoch 56/500\n",
      "\u001B[1m33/33\u001B[0m \u001B[32m━━━━━━━━━━━━━━━━━━━━\u001B[0m\u001B[37m\u001B[0m \u001B[1m0s\u001B[0m 9ms/step - accuracy: 0.8649 - loss: 0.3223 - val_accuracy: 0.8362 - val_loss: 0.3762\n",
      "Epoch 57/500\n",
      "\u001B[1m33/33\u001B[0m \u001B[32m━━━━━━━━━━━━━━━━━━━━\u001B[0m\u001B[37m\u001B[0m \u001B[1m0s\u001B[0m 9ms/step - accuracy: 0.8672 - loss: 0.3202 - val_accuracy: 0.8265 - val_loss: 0.3828\n",
      "Epoch 58/500\n",
      "\u001B[1m33/33\u001B[0m \u001B[32m━━━━━━━━━━━━━━━━━━━━\u001B[0m\u001B[37m\u001B[0m \u001B[1m0s\u001B[0m 10ms/step - accuracy: 0.8703 - loss: 0.3183 - val_accuracy: 0.8233 - val_loss: 0.3852\n",
      "Epoch 59/500\n",
      "\u001B[1m33/33\u001B[0m \u001B[32m━━━━━━━━━━━━━━━━━━━━\u001B[0m\u001B[37m\u001B[0m \u001B[1m0s\u001B[0m 9ms/step - accuracy: 0.8673 - loss: 0.3234 - val_accuracy: 0.8334 - val_loss: 0.3738\n",
      "Epoch 60/500\n",
      "\u001B[1m33/33\u001B[0m \u001B[32m━━━━━━━━━━━━━━━━━━━━\u001B[0m\u001B[37m\u001B[0m \u001B[1m0s\u001B[0m 10ms/step - accuracy: 0.8637 - loss: 0.3279 - val_accuracy: 0.8345 - val_loss: 0.3770\n",
      "Epoch 61/500\n",
      "\u001B[1m33/33\u001B[0m \u001B[32m━━━━━━━━━━━━━━━━━━━━\u001B[0m\u001B[37m\u001B[0m \u001B[1m0s\u001B[0m 9ms/step - accuracy: 0.8776 - loss: 0.3039 - val_accuracy: 0.8402 - val_loss: 0.3796\n",
      "Epoch 62/500\n",
      "\u001B[1m33/33\u001B[0m \u001B[32m━━━━━━━━━━━━━━━━━━━━\u001B[0m\u001B[37m\u001B[0m \u001B[1m0s\u001B[0m 9ms/step - accuracy: 0.8698 - loss: 0.3148 - val_accuracy: 0.8319 - val_loss: 0.3824\n",
      "Epoch 63/500\n",
      "\u001B[1m33/33\u001B[0m \u001B[32m━━━━━━━━━━━━━━━━━━━━\u001B[0m\u001B[37m\u001B[0m \u001B[1m0s\u001B[0m 10ms/step - accuracy: 0.8755 - loss: 0.3067 - val_accuracy: 0.8304 - val_loss: 0.3766\n",
      "Epoch 64/500\n",
      "\u001B[1m33/33\u001B[0m \u001B[32m━━━━━━━━━━━━━━━━━━━━\u001B[0m\u001B[37m\u001B[0m \u001B[1m0s\u001B[0m 11ms/step - accuracy: 0.8731 - loss: 0.3110 - val_accuracy: 0.8188 - val_loss: 0.3861\n",
      "Epoch 65/500\n",
      "\u001B[1m33/33\u001B[0m \u001B[32m━━━━━━━━━━━━━━━━━━━━\u001B[0m\u001B[37m\u001B[0m \u001B[1m0s\u001B[0m 9ms/step - accuracy: 0.8755 - loss: 0.3071 - val_accuracy: 0.8317 - val_loss: 0.3748\n",
      "Epoch 66/500\n",
      "\u001B[1m33/33\u001B[0m \u001B[32m━━━━━━━━━━━━━━━━━━━━\u001B[0m\u001B[37m\u001B[0m \u001B[1m0s\u001B[0m 9ms/step - accuracy: 0.8771 - loss: 0.3072 - val_accuracy: 0.8366 - val_loss: 0.3861\n",
      "Epoch 67/500\n",
      "\u001B[1m33/33\u001B[0m \u001B[32m━━━━━━━━━━━━━━━━━━━━\u001B[0m\u001B[37m\u001B[0m \u001B[1m0s\u001B[0m 10ms/step - accuracy: 0.8728 - loss: 0.3113 - val_accuracy: 0.8310 - val_loss: 0.3845\n",
      "Epoch 68/500\n",
      "\u001B[1m33/33\u001B[0m \u001B[32m━━━━━━━━━━━━━━━━━━━━\u001B[0m\u001B[37m\u001B[0m \u001B[1m0s\u001B[0m 10ms/step - accuracy: 0.8789 - loss: 0.2998 - val_accuracy: 0.8376 - val_loss: 0.3800\n",
      "Epoch 69/500\n",
      "\u001B[1m33/33\u001B[0m \u001B[32m━━━━━━━━━━━━━━━━━━━━\u001B[0m\u001B[37m\u001B[0m \u001B[1m0s\u001B[0m 10ms/step - accuracy: 0.8826 - loss: 0.2954 - val_accuracy: 0.8305 - val_loss: 0.3816\n",
      "Epoch 70/500\n",
      "\u001B[1m33/33\u001B[0m \u001B[32m━━━━━━━━━━━━━━━━━━━━\u001B[0m\u001B[37m\u001B[0m \u001B[1m0s\u001B[0m 10ms/step - accuracy: 0.8843 - loss: 0.2947 - val_accuracy: 0.8284 - val_loss: 0.3801\n",
      "Epoch 71/500\n",
      "\u001B[1m33/33\u001B[0m \u001B[32m━━━━━━━━━━━━━━━━━━━━\u001B[0m\u001B[37m\u001B[0m \u001B[1m0s\u001B[0m 9ms/step - accuracy: 0.8866 - loss: 0.2911 - val_accuracy: 0.8349 - val_loss: 0.3779\n",
      "Epoch 72/500\n",
      "\u001B[1m33/33\u001B[0m \u001B[32m━━━━━━━━━━━━━━━━━━━━\u001B[0m\u001B[37m\u001B[0m \u001B[1m0s\u001B[0m 9ms/step - accuracy: 0.8674 - loss: 0.3217 - val_accuracy: 0.8262 - val_loss: 0.3845\n",
      "Epoch 73/500\n",
      "\u001B[1m33/33\u001B[0m \u001B[32m━━━━━━━━━━━━━━━━━━━━\u001B[0m\u001B[37m\u001B[0m \u001B[1m0s\u001B[0m 10ms/step - accuracy: 0.8796 - loss: 0.3039 - val_accuracy: 0.8250 - val_loss: 0.3858\n",
      "Epoch 74/500\n",
      "\u001B[1m33/33\u001B[0m \u001B[32m━━━━━━━━━━━━━━━━━━━━\u001B[0m\u001B[37m\u001B[0m \u001B[1m0s\u001B[0m 10ms/step - accuracy: 0.8781 - loss: 0.3032 - val_accuracy: 0.8239 - val_loss: 0.3907\n",
      "Epoch 75/500\n",
      "\u001B[1m33/33\u001B[0m \u001B[32m━━━━━━━━━━━━━━━━━━━━\u001B[0m\u001B[37m\u001B[0m \u001B[1m0s\u001B[0m 10ms/step - accuracy: 0.8787 - loss: 0.3028 - val_accuracy: 0.8302 - val_loss: 0.3859\n",
      "Epoch 76/500\n",
      "\u001B[1m33/33\u001B[0m \u001B[32m━━━━━━━━━━━━━━━━━━━━\u001B[0m\u001B[37m\u001B[0m \u001B[1m0s\u001B[0m 10ms/step - accuracy: 0.8795 - loss: 0.2999 - val_accuracy: 0.8360 - val_loss: 0.3782\n",
      "Epoch 77/500\n",
      "\u001B[1m33/33\u001B[0m \u001B[32m━━━━━━━━━━━━━━━━━━━━\u001B[0m\u001B[37m\u001B[0m \u001B[1m0s\u001B[0m 9ms/step - accuracy: 0.8836 - loss: 0.2992 - val_accuracy: 0.8369 - val_loss: 0.3857\n",
      "Epoch 78/500\n",
      "\u001B[1m33/33\u001B[0m \u001B[32m━━━━━━━━━━━━━━━━━━━━\u001B[0m\u001B[37m\u001B[0m \u001B[1m0s\u001B[0m 10ms/step - accuracy: 0.8876 - loss: 0.2916 - val_accuracy: 0.8207 - val_loss: 0.3975\n",
      "Epoch 79/500\n",
      "\u001B[1m33/33\u001B[0m \u001B[32m━━━━━━━━━━━━━━━━━━━━\u001B[0m\u001B[37m\u001B[0m \u001B[1m0s\u001B[0m 9ms/step - accuracy: 0.8777 - loss: 0.3084 - val_accuracy: 0.8343 - val_loss: 0.3859\n",
      "Epoch 80/500\n",
      "\u001B[1m33/33\u001B[0m \u001B[32m━━━━━━━━━━━━━━━━━━━━\u001B[0m\u001B[37m\u001B[0m \u001B[1m0s\u001B[0m 9ms/step - accuracy: 0.8810 - loss: 0.2969 - val_accuracy: 0.8338 - val_loss: 0.3857\n",
      "Epoch 81/500\n",
      "\u001B[1m33/33\u001B[0m \u001B[32m━━━━━━━━━━━━━━━━━━━━\u001B[0m\u001B[37m\u001B[0m \u001B[1m0s\u001B[0m 9ms/step - accuracy: 0.8898 - loss: 0.2863 - val_accuracy: 0.8299 - val_loss: 0.3947\n",
      "Epoch 82/500\n",
      "\u001B[1m33/33\u001B[0m \u001B[32m━━━━━━━━━━━━━━━━━━━━\u001B[0m\u001B[37m\u001B[0m \u001B[1m0s\u001B[0m 10ms/step - accuracy: 0.8755 - loss: 0.3054 - val_accuracy: 0.8190 - val_loss: 0.4029\n",
      "Epoch 83/500\n",
      "\u001B[1m33/33\u001B[0m \u001B[32m━━━━━━━━━━━━━━━━━━━━\u001B[0m\u001B[37m\u001B[0m \u001B[1m0s\u001B[0m 10ms/step - accuracy: 0.8751 - loss: 0.3061 - val_accuracy: 0.8280 - val_loss: 0.3964\n",
      "Epoch 84/500\n",
      "\u001B[1m33/33\u001B[0m \u001B[32m━━━━━━━━━━━━━━━━━━━━\u001B[0m\u001B[37m\u001B[0m \u001B[1m0s\u001B[0m 9ms/step - accuracy: 0.8884 - loss: 0.2889 - val_accuracy: 0.8315 - val_loss: 0.3939\n",
      "Epoch 85/500\n",
      "\u001B[1m33/33\u001B[0m \u001B[32m━━━━━━━━━━━━━━━━━━━━\u001B[0m\u001B[37m\u001B[0m \u001B[1m0s\u001B[0m 10ms/step - accuracy: 0.8898 - loss: 0.2868 - val_accuracy: 0.8348 - val_loss: 0.3959\n",
      "Epoch 86/500\n",
      "\u001B[1m33/33\u001B[0m \u001B[32m━━━━━━━━━━━━━━━━━━━━\u001B[0m\u001B[37m\u001B[0m \u001B[1m0s\u001B[0m 9ms/step - accuracy: 0.8839 - loss: 0.2942 - val_accuracy: 0.8251 - val_loss: 0.3911\n",
      "Epoch 87/500\n",
      "\u001B[1m33/33\u001B[0m \u001B[32m━━━━━━━━━━━━━━━━━━━━\u001B[0m\u001B[37m\u001B[0m \u001B[1m0s\u001B[0m 10ms/step - accuracy: 0.8846 - loss: 0.2905 - val_accuracy: 0.8285 - val_loss: 0.3974\n",
      "Epoch 88/500\n",
      "\u001B[1m33/33\u001B[0m \u001B[32m━━━━━━━━━━━━━━━━━━━━\u001B[0m\u001B[37m\u001B[0m \u001B[1m0s\u001B[0m 10ms/step - accuracy: 0.8779 - loss: 0.2984 - val_accuracy: 0.8397 - val_loss: 0.3850\n",
      "Epoch 89/500\n",
      "\u001B[1m33/33\u001B[0m \u001B[32m━━━━━━━━━━━━━━━━━━━━\u001B[0m\u001B[37m\u001B[0m \u001B[1m0s\u001B[0m 9ms/step - accuracy: 0.8877 - loss: 0.2849 - val_accuracy: 0.8295 - val_loss: 0.3900\n",
      "Epoch 90/500\n",
      "\u001B[1m33/33\u001B[0m \u001B[32m━━━━━━━━━━━━━━━━━━━━\u001B[0m\u001B[37m\u001B[0m \u001B[1m0s\u001B[0m 10ms/step - accuracy: 0.8856 - loss: 0.2922 - val_accuracy: 0.8205 - val_loss: 0.4028\n",
      "Epoch 91/500\n",
      "\u001B[1m33/33\u001B[0m \u001B[32m━━━━━━━━━━━━━━━━━━━━\u001B[0m\u001B[37m\u001B[0m \u001B[1m0s\u001B[0m 9ms/step - accuracy: 0.8816 - loss: 0.3001 - val_accuracy: 0.8299 - val_loss: 0.3929\n",
      "Epoch 92/500\n",
      "\u001B[1m33/33\u001B[0m \u001B[32m━━━━━━━━━━━━━━━━━━━━\u001B[0m\u001B[37m\u001B[0m \u001B[1m0s\u001B[0m 11ms/step - accuracy: 0.8878 - loss: 0.2848 - val_accuracy: 0.8299 - val_loss: 0.3990\n",
      "Epoch 93/500\n",
      "\u001B[1m33/33\u001B[0m \u001B[32m━━━━━━━━━━━━━━━━━━━━\u001B[0m\u001B[37m\u001B[0m \u001B[1m0s\u001B[0m 9ms/step - accuracy: 0.8835 - loss: 0.2944 - val_accuracy: 0.8258 - val_loss: 0.3966\n",
      "Epoch 94/500\n",
      "\u001B[1m33/33\u001B[0m \u001B[32m━━━━━━━━━━━━━━━━━━━━\u001B[0m\u001B[37m\u001B[0m \u001B[1m0s\u001B[0m 9ms/step - accuracy: 0.8867 - loss: 0.2881 - val_accuracy: 0.8307 - val_loss: 0.3971\n",
      "Epoch 95/500\n",
      "\u001B[1m33/33\u001B[0m \u001B[32m━━━━━━━━━━━━━━━━━━━━\u001B[0m\u001B[37m\u001B[0m \u001B[1m0s\u001B[0m 9ms/step - accuracy: 0.8835 - loss: 0.2936 - val_accuracy: 0.8339 - val_loss: 0.3829\n"
     ]
    },
    {
     "data": {
      "text/plain": "<keras_core.src.callbacks.history.History at 0x7f72ec062e30>"
     },
     "execution_count": 12,
     "metadata": {},
     "output_type": "execute_result"
    }
   ],
   "source": [
    "model.fit(X_train,\n",
    "          y_train,\n",
    "          epochs=500,\n",
    "          batch_size=params_grid['batch_size'],\n",
    "          callbacks=callback,\n",
    "          validation_data=(X_test, y_test)\n",
    "          )"
   ],
   "metadata": {
    "collapsed": false,
    "ExecuteTime": {
     "end_time": "2024-07-07T17:09:10.005055Z",
     "start_time": "2024-07-07T17:08:22.163775Z"
    }
   },
   "id": "bb2a2ddb0e1f70be",
   "execution_count": 12
  },
  {
   "cell_type": "markdown",
   "source": [
    "# save model"
   ],
   "metadata": {
    "collapsed": false
   },
   "id": "84f51140de160118"
  },
  {
   "cell_type": "code",
   "outputs": [],
   "source": [
    "model.save(model_weight_dst)"
   ],
   "metadata": {
    "collapsed": false,
    "ExecuteTime": {
     "end_time": "2024-07-07T17:09:25.016065Z",
     "start_time": "2024-07-07T17:09:24.954880Z"
    }
   },
   "id": "e1902ebb3c46924c",
   "execution_count": 13
  },
  {
   "cell_type": "code",
   "outputs": [],
   "source": [],
   "metadata": {
    "collapsed": false
   },
   "id": "55b6f98994a58bb2"
  }
 ],
 "metadata": {
  "kernelspec": {
   "display_name": "Python 3 (ipykernel)",
   "language": "python",
   "name": "python3"
  },
  "language_info": {
   "codemirror_mode": {
    "name": "ipython",
    "version": 3
   },
   "file_extension": ".py",
   "mimetype": "text/x-python",
   "name": "python",
   "nbconvert_exporter": "python",
   "pygments_lexer": "ipython3",
   "version": "3.10.13"
  }
 },
 "nbformat": 4,
 "nbformat_minor": 5
}
=======
{
 "cells": [
  {
   "cell_type": "code",
   "id": "initial_id",
   "metadata": {
    "collapsed": false,
    "ExecuteTime": {
     "end_time": "2024-07-15T08:52:10.610168Z",
     "start_time": "2024-07-15T08:52:06.589281Z"
    }
   },
   "source": [
    "import datetime\n",
    "\n",
    "import os\n",
    "\n",
    "os.getcwd()\n",
    "if '.git' not in os.listdir():\n",
    "    os.chdir('./../../../../')\n",
    "os.listdir()\n",
    "\n",
    "from ml.ml_core.src.core.model_factory import model_factory\n",
    "\n",
    "import keras_core as keras\n",
    "import numpy as np\n",
    "import tensorflow as tf\n",
    "from sklearn.model_selection import train_test_split\n",
    "from tensorboard.plugins.hparams import api as hp\n"
   ],
   "outputs": [
    {
     "name": "stdout",
     "output_type": "stream",
     "text": [
      "Using TensorFlow backend\n"
     ]
    },
    {
     "name": "stderr",
     "output_type": "stream",
     "text": [
      "2024-07-15 10:52:07.105456: E tensorflow/compiler/xla/stream_executor/cuda/cuda_dnn.cc:9342] Unable to register cuDNN factory: Attempting to register factory for plugin cuDNN when one has already been registered\n",
      "2024-07-15 10:52:07.105499: E tensorflow/compiler/xla/stream_executor/cuda/cuda_fft.cc:609] Unable to register cuFFT factory: Attempting to register factory for plugin cuFFT when one has already been registered\n",
      "2024-07-15 10:52:07.105515: E tensorflow/compiler/xla/stream_executor/cuda/cuda_blas.cc:1518] Unable to register cuBLAS factory: Attempting to register factory for plugin cuBLAS when one has already been registered\n",
      "2024-07-15 10:52:07.110853: I tensorflow/core/platform/cpu_feature_guard.cc:182] This TensorFlow binary is optimized to use available CPU instructions in performance-critical operations.\n",
      "To enable the following instructions: AVX2 FMA, in other operations, rebuild TensorFlow with the appropriate compiler flags.\n"
     ]
    }
   ],
   "execution_count": 1
  },
  {
   "cell_type": "markdown",
   "id": "18856c657e08494f",
   "metadata": {
    "collapsed": false
   },
   "source": [
    "## Configurations"
   ]
  },
  {
   "cell_type": "code",
   "id": "9574abd306005981",
   "metadata": {
    "collapsed": false,
    "ExecuteTime": {
     "end_time": "2024-07-15T08:52:10.615543Z",
     "start_time": "2024-07-15T08:52:10.611931Z"
    }
   },
   "source": [
    "params_grid = {\n",
    "    \"model\": \"rnn\",\n",
    "    \"embedder\": \"fasttext\",\n",
    "    \"embedding_data\": \"fasttext\",\n",
    "    \"dataset\": \"corrected_format_all_data.csv\",\n",
    "    #\"dataset\": \"fr_hf.csv\",\n",
    "    \"batch_size\": 500\n",
    "}"
   ],
   "outputs": [],
   "execution_count": 2
  },
  {
   "cell_type": "code",
   "id": "d220a1d10493404e",
   "metadata": {
    "collapsed": false,
    "ExecuteTime": {
     "end_time": "2024-07-15T08:52:10.633034Z",
     "start_time": "2024-07-15T08:52:10.617089Z"
    }
   },
   "source": [
    "data_folder_src = 'ml/ml_core/data/processed/'\n",
    "ml_core_folder_path = 'ml/ml_core/'\n",
    "data_path_src = f'{data_folder_src}{params_grid[\"dataset\"]}'\n",
    "date_str = datetime.datetime.now().strftime(\"%Y%m%d-%H%M%S\")\n",
    "experiment_name = f'deepwoke_{params_grid[\"embedder\"]}_{params_grid[\"model\"]}_{params_grid[\"dataset\"]}_{date_str}'\n",
    "\n",
    "log_dir = f\"{ml_core_folder_path}log/fit/{experiment_name}\"\n",
    "model_weight_dst = f'{ml_core_folder_path}model_weights/{experiment_name}-model.keras'"
   ],
   "outputs": [],
   "execution_count": 3
  },
  {
   "cell_type": "code",
   "id": "63bc5b9857e00e2f",
   "metadata": {
    "collapsed": false,
    "ExecuteTime": {
     "end_time": "2024-07-15T08:52:10.648623Z",
     "start_time": "2024-07-15T08:52:10.634450Z"
    }
   },
   "source": [
    "\n",
    "vector_path = f'{ml_core_folder_path}embedded_vector/{params_grid[\"embedding_data\"]}_{params_grid[\"dataset\"]}'\n",
    "vector_x_dst = f'{vector_path}.x.npy'\n",
    "vector_y_dst = f'{vector_path}.y.npy'"
   ],
   "outputs": [],
   "execution_count": 4
  },
  {
   "metadata": {
    "ExecuteTime": {
     "end_time": "2024-07-15T08:52:10.664591Z",
     "start_time": "2024-07-15T08:52:10.651750Z"
    }
   },
   "cell_type": "code",
   "source": [
    "print(vector_x_dst)\n",
    "if os.path.exists(vector_x_dst):\n",
    "    print(\"the file exists\")\n",
    "else:\n",
    "    print(\"the file doesn't exist\")"
   ],
   "id": "a0ddffd0356e9166",
   "outputs": [
    {
     "name": "stdout",
     "output_type": "stream",
     "text": [
      "ml/ml_core/embedded_vector/fasttext_corrected_format_all_data.csv.x.npy\n",
      "the file exists\n"
     ]
    }
   ],
   "execution_count": 5
  },
  {
   "cell_type": "markdown",
   "id": "5d4209390b020a7",
   "metadata": {
    "collapsed": false
   },
   "source": [
    "# loading dataset"
   ]
  },
  {
   "cell_type": "code",
   "id": "cda597a675bb1ba2",
   "metadata": {
    "collapsed": false,
    "ExecuteTime": {
     "end_time": "2024-07-15T08:52:10.768575Z",
     "start_time": "2024-07-15T08:52:10.666045Z"
    }
   },
   "source": [
    "X = np.load(vector_x_dst, allow_pickle=True)\n",
    "y = np.load(vector_y_dst)\n",
    "#X = np.expand_dims(X, axis=1)"
   ],
   "outputs": [],
   "execution_count": 6
  },
  {
   "metadata": {
    "ExecuteTime": {
     "end_time": "2024-07-15T08:52:10.771892Z",
     "start_time": "2024-07-15T08:52:10.769813Z"
    }
   },
   "cell_type": "code",
   "source": "",
   "id": "913dd7816a84361e",
   "outputs": [],
   "execution_count": 6
  },
  {
   "metadata": {
    "ExecuteTime": {
     "end_time": "2024-07-15T08:52:10.776318Z",
     "start_time": "2024-07-15T08:52:10.773276Z"
    }
   },
   "cell_type": "code",
   "source": [
    "if params_grid[\"embedder\"] == \"camembert\":\n",
    "    x_squeezed = np.squeeze(X)\n",
    "    X = [x[:, 0, :] for x in x_squeezed]\n",
    "    X = np.array(X)"
   ],
   "id": "98281b9a8a3e772a",
   "outputs": [],
   "execution_count": 7
  },
  {
   "metadata": {
    "ExecuteTime": {
     "end_time": "2024-07-15T08:52:10.792632Z",
     "start_time": "2024-07-15T08:52:10.777651Z"
    }
   },
   "cell_type": "code",
   "source": [
    "if params_grid[\"embedder\"] == \"bert\" or params_grid[\"embedder\"] == \"small-bert\" or params_grid[\"embedder\"] == \"electra\" or params_grid[\"embedder\"] == \"fasttext\":\n",
    "    X = np.expand_dims(X, axis=1)"
   ],
   "id": "a9f7b3b693c9048f",
   "outputs": [],
   "execution_count": 8
  },
  {
   "cell_type": "markdown",
   "source": [
    "# Model"
   ],
   "metadata": {
    "collapsed": false
   },
   "id": "a2adf4c59ca51d9c"
  },
  {
   "cell_type": "markdown",
   "id": "5c8ac62597164bde",
   "metadata": {
    "collapsed": false
   },
   "source": [
    "## callbacks"
   ]
  },
  {
   "cell_type": "code",
   "id": "336209aae383296f",
   "metadata": {
    "collapsed": false,
    "ExecuteTime": {
     "end_time": "2024-07-15T08:52:10.807078Z",
     "start_time": "2024-07-15T08:52:10.793844Z"
    }
   },
   "source": [
    "early_stopping = keras.callbacks.EarlyStopping(\n",
    "    patience=50,\n",
    "    min_delta=0.0001,\n",
    "    restore_best_weights=True,\n",
    "    monitor='loss'\n",
    ")\n"
   ],
   "outputs": [],
   "execution_count": 9
  },
  {
   "cell_type": "code",
   "id": "9f93ecb4efe31443",
   "metadata": {
    "collapsed": false,
    "ExecuteTime": {
     "end_time": "2024-07-15T08:52:10.823216Z",
     "start_time": "2024-07-15T08:52:10.808514Z"
    }
   },
   "source": [
    "\n",
    "class EarlyStoppingLogging(keras.callbacks.Callback):\n",
    "    def __init__(self, early_stopping_callback, log_dir):\n",
    "        super().__init__()\n",
    "        self.early_stopping = early_stopping_callback\n",
    "        self.stopped_epoch = 0\n",
    "        self.writer = tf.summary.create_file_writer(log_dir)\n",
    "\n",
    "    def on_epoch_end(self, epoch, logs=None):\n",
    "        if self.early_stopping.stopped_epoch > 0:\n",
    "            self.stopped_epoch = self.early_stopping.stopped_epoch\n",
    "            with self.writer.as_default():\n",
    "                tf.summary.scalar('early_stopping_epoch', self.stopped_epoch, step=epoch)\n",
    "                self.writer.flush()\n"
   ],
   "outputs": [],
   "execution_count": 10
  },
  {
   "cell_type": "code",
   "id": "7ec43b4117399510",
   "metadata": {
    "collapsed": false,
    "ExecuteTime": {
     "end_time": "2024-07-15T08:52:11.221224Z",
     "start_time": "2024-07-15T08:52:10.824573Z"
    }
   },
   "source": [
    "tensorboard_callback = keras.callbacks.TensorBoard(log_dir=log_dir, histogram_freq=1)\n",
    "early_stopping_logging_callback = EarlyStoppingLogging(early_stopping, log_dir)"
   ],
   "outputs": [
    {
     "name": "stderr",
     "output_type": "stream",
     "text": [
      "2024-07-15 10:52:10.969984: I tensorflow/compiler/xla/stream_executor/cuda/cuda_gpu_executor.cc:880] could not open file to read NUMA node: /sys/bus/pci/devices/0000:01:00.0/numa_node\n",
      "Your kernel may have been built without NUMA support.\n",
      "2024-07-15 10:52:10.985325: I tensorflow/compiler/xla/stream_executor/cuda/cuda_gpu_executor.cc:880] could not open file to read NUMA node: /sys/bus/pci/devices/0000:01:00.0/numa_node\n",
      "Your kernel may have been built without NUMA support.\n",
      "2024-07-15 10:52:10.985356: I tensorflow/compiler/xla/stream_executor/cuda/cuda_gpu_executor.cc:880] could not open file to read NUMA node: /sys/bus/pci/devices/0000:01:00.0/numa_node\n",
      "Your kernel may have been built without NUMA support.\n",
      "2024-07-15 10:52:10.987358: I tensorflow/compiler/xla/stream_executor/cuda/cuda_gpu_executor.cc:880] could not open file to read NUMA node: /sys/bus/pci/devices/0000:01:00.0/numa_node\n",
      "Your kernel may have been built without NUMA support.\n",
      "2024-07-15 10:52:10.987390: I tensorflow/compiler/xla/stream_executor/cuda/cuda_gpu_executor.cc:880] could not open file to read NUMA node: /sys/bus/pci/devices/0000:01:00.0/numa_node\n",
      "Your kernel may have been built without NUMA support.\n",
      "2024-07-15 10:52:10.987406: I tensorflow/compiler/xla/stream_executor/cuda/cuda_gpu_executor.cc:880] could not open file to read NUMA node: /sys/bus/pci/devices/0000:01:00.0/numa_node\n",
      "Your kernel may have been built without NUMA support.\n",
      "2024-07-15 10:52:11.181463: I tensorflow/compiler/xla/stream_executor/cuda/cuda_gpu_executor.cc:880] could not open file to read NUMA node: /sys/bus/pci/devices/0000:01:00.0/numa_node\n",
      "Your kernel may have been built without NUMA support.\n",
      "2024-07-15 10:52:11.181510: I tensorflow/compiler/xla/stream_executor/cuda/cuda_gpu_executor.cc:880] could not open file to read NUMA node: /sys/bus/pci/devices/0000:01:00.0/numa_node\n",
      "Your kernel may have been built without NUMA support.\n",
      "2024-07-15 10:52:11.181517: I tensorflow/core/common_runtime/gpu/gpu_device.cc:1977] Could not identify NUMA node of platform GPU id 0, defaulting to 0.  Your kernel may not have been built with NUMA support.\n",
      "2024-07-15 10:52:11.181543: I tensorflow/compiler/xla/stream_executor/cuda/cuda_gpu_executor.cc:880] could not open file to read NUMA node: /sys/bus/pci/devices/0000:01:00.0/numa_node\n",
      "Your kernel may have been built without NUMA support.\n",
      "2024-07-15 10:52:11.181559: I tensorflow/core/common_runtime/gpu/gpu_device.cc:1886] Created device /job:localhost/replica:0/task:0/device:GPU:0 with 7537 MB memory:  -> device: 0, name: NVIDIA GeForce RTX 3080, pci bus id: 0000:01:00.0, compute capability: 8.6\n"
     ]
    }
   ],
   "execution_count": 11
  },
  {
   "cell_type": "code",
   "id": "3f3d46724d8e5aa1",
   "metadata": {
    "collapsed": false,
    "ExecuteTime": {
     "end_time": "2024-07-15T08:52:11.226178Z",
     "start_time": "2024-07-15T08:52:11.222483Z"
    }
   },
   "source": [
    "callback = [\n",
    "    early_stopping,\n",
    "    tensorboard_callback,\n",
    "    hp.KerasCallback(log_dir, params_grid),\n",
    "    early_stopping_logging_callback,\n",
    "]"
   ],
   "outputs": [],
   "execution_count": 12
  },
  {
   "cell_type": "markdown",
   "source": [
    "# Model building"
   ],
   "metadata": {
    "collapsed": false
   },
   "id": "cfba23972d3586ee"
  },
  {
   "cell_type": "code",
   "source": [
    "def rnn_builder(input_dim, output_dim):\n",
    "    activation_function = 'softmax'\n",
    "    loss = 'categorical_crossentropy'\n",
    "    if output_dim == 1:\n",
    "        activation_function = 'sigmoid'\n",
    "        loss = 'binary_crossentropy'\n",
    "    print(input_dim, output_dim)\n",
    "\n",
    "\n",
    "    input_tensor = keras.layers.Input(shape=input_dim)\n",
    "\n",
    "    hl = keras.layers.SimpleRNN(64, return_sequences=True, activation='relu')(input_tensor)\n",
    "    hl = keras.layers.Dropout(0.2)(hl)\n",
    "    hl = keras.layers.SimpleRNN(64, return_sequences=True, activation='relu')(hl)\n",
    "    hl = keras.layers.Dropout(0.2)(hl)\n",
    "    hl = keras.layers.SimpleRNN(64, activation='relu')(hl)\n",
    "    hl = keras.layers.Dense(64, activation='relu')(hl)\n",
    "    output_tensor = keras.layers.Dense(output_dim, activation=activation_function)(hl)\n",
    "\n",
    "    model = keras.models.Model(inputs=[input_tensor], outputs=[output_tensor])\n",
    "    model.compile(optimizer='adam', loss=loss, metrics=['accuracy'])\n",
    "\n",
    "    return model"
   ],
   "metadata": {
    "collapsed": false,
    "ExecuteTime": {
     "end_time": "2024-07-15T08:52:11.242199Z",
     "start_time": "2024-07-15T08:52:11.228552Z"
    }
   },
   "id": "198085420757f4f1",
   "outputs": [],
   "execution_count": 13
  },
  {
   "cell_type": "markdown",
   "id": "9dec354f696f24a9",
   "metadata": {
    "collapsed": false
   },
   "source": [
    "### training the model"
   ]
  },
  {
   "cell_type": "code",
   "source": [],
   "metadata": {
    "collapsed": false,
    "ExecuteTime": {
     "end_time": "2024-07-15T08:52:11.245494Z",
     "start_time": "2024-07-15T08:52:11.243507Z"
    }
   },
   "id": "11d6ec87445bb42",
   "outputs": [],
   "execution_count": 13
  },
  {
   "cell_type": "code",
   "id": "c4cf876c5cbae2f2",
   "metadata": {
    "collapsed": false,
    "ExecuteTime": {
     "end_time": "2024-07-15T08:52:12.185469Z",
     "start_time": "2024-07-15T08:52:11.246905Z"
    }
   },
   "source": [
    "\n",
    "X_train, X_test, y_train, y_test = train_test_split(X, y, test_size=0.1, random_state=42)\n",
    "input_dim = X_train.shape\n",
    "model = rnn_builder(input_dim[1:], 1)\n",
    "print(model.summary)\n"
   ],
   "outputs": [
    {
     "name": "stdout",
     "output_type": "stream",
     "text": [
      "(1, 300) 1\n"
     ]
    },
    {
     "name": "stderr",
     "output_type": "stream",
     "text": [
      "2024-07-15 10:52:11.903611: I tensorflow/tsl/platform/default/subprocess.cc:304] Start cannot spawn child process: No such file or directory\n"
     ]
    },
    {
     "name": "stdout",
     "output_type": "stream",
     "text": [
      "<bound method Model.summary of <Functional name=functional_1, built=True>>\n"
     ]
    }
   ],
   "execution_count": 14
  },
  {
   "cell_type": "code",
   "source": [
    "model.fit(X_train,\n",
    "          y_train,\n",
    "          epochs=500,\n",
    "          batch_size=params_grid['batch_size'],\n",
    "          callbacks=callback,\n",
    "          validation_data=(X_test, y_test)\n",
    "          )"
   ],
   "metadata": {
    "collapsed": false,
    "ExecuteTime": {
     "end_time": "2024-07-15T08:55:05.808787Z",
     "start_time": "2024-07-15T08:52:12.188588Z"
    }
   },
   "id": "bb2a2ddb0e1f70be",
   "outputs": [
    {
     "name": "stdout",
     "output_type": "stream",
     "text": [
      "Epoch 1/500\n"
     ]
    },
    {
     "name": "stderr",
     "output_type": "stream",
     "text": [
      "2024-07-15 10:52:15.228907: I tensorflow/compiler/xla/service/service.cc:168] XLA service 0x7fe8a800c3b0 initialized for platform CUDA (this does not guarantee that XLA will be used). Devices:\n",
      "2024-07-15 10:52:15.228952: I tensorflow/compiler/xla/service/service.cc:176]   StreamExecutor device (0): NVIDIA GeForce RTX 3080, Compute Capability 8.6\n",
      "2024-07-15 10:52:15.303097: I tensorflow/compiler/mlir/tensorflow/utils/dump_mlir_util.cc:269] disabling MLIR crash reproducer, set env var `MLIR_CRASH_REPRODUCER_DIRECTORY` to enable.\n",
      "2024-07-15 10:52:15.770965: I tensorflow/compiler/xla/stream_executor/cuda/cuda_dnn.cc:442] Loaded cuDNN version 8700\n"
     ]
    },
    {
     "name": "stdout",
     "output_type": "stream",
     "text": [
      "\u001B[1m26/31\u001B[0m \u001B[32m━━━━━━━━━━━━━━━━\u001B[0m\u001B[37m━━━━\u001B[0m \u001B[1m0s\u001B[0m 4ms/step - accuracy: 0.5803 - loss: 0.6786"
     ]
    },
    {
     "name": "stderr",
     "output_type": "stream",
     "text": [
      "2024-07-15 10:52:17.538704: I ./tensorflow/compiler/jit/device_compiler.h:186] Compiled cluster using XLA!  This line is logged at most once for the lifetime of the process.\n"
     ]
    },
    {
     "name": "stdout",
     "output_type": "stream",
     "text": [
      "\u001B[1m31/31\u001B[0m \u001B[32m━━━━━━━━━━━━━━━━━━━━\u001B[0m\u001B[37m\u001B[0m \u001B[1m8s\u001B[0m 116ms/step - accuracy: 0.5885 - loss: 0.6735 - val_accuracy: 0.7222 - val_loss: 0.5559\n",
      "Epoch 2/500\n",
      "\u001B[1m31/31\u001B[0m \u001B[32m━━━━━━━━━━━━━━━━━━━━\u001B[0m\u001B[37m\u001B[0m \u001B[1m0s\u001B[0m 12ms/step - accuracy: 0.7256 - loss: 0.5479 - val_accuracy: 0.7698 - val_loss: 0.4874\n",
      "Epoch 3/500\n",
      "\u001B[1m31/31\u001B[0m \u001B[32m━━━━━━━━━━━━━━━━━━━━\u001B[0m\u001B[37m\u001B[0m \u001B[1m0s\u001B[0m 10ms/step - accuracy: 0.7588 - loss: 0.5049 - val_accuracy: 0.7787 - val_loss: 0.4670\n",
      "Epoch 4/500\n",
      "\u001B[1m31/31\u001B[0m \u001B[32m━━━━━━━━━━━━━━━━━━━━\u001B[0m\u001B[37m\u001B[0m \u001B[1m0s\u001B[0m 8ms/step - accuracy: 0.7781 - loss: 0.4807 - val_accuracy: 0.7924 - val_loss: 0.4539\n",
      "Epoch 5/500\n",
      "\u001B[1m31/31\u001B[0m \u001B[32m━━━━━━━━━━━━━━━━━━━━\u001B[0m\u001B[37m\u001B[0m \u001B[1m0s\u001B[0m 9ms/step - accuracy: 0.7931 - loss: 0.4576 - val_accuracy: 0.8055 - val_loss: 0.4433\n",
      "Epoch 6/500\n",
      "\u001B[1m31/31\u001B[0m \u001B[32m━━━━━━━━━━━━━━━━━━━━\u001B[0m\u001B[37m\u001B[0m \u001B[1m0s\u001B[0m 9ms/step - accuracy: 0.8025 - loss: 0.4404 - val_accuracy: 0.8100 - val_loss: 0.4381\n",
      "Epoch 7/500\n",
      "\u001B[1m31/31\u001B[0m \u001B[32m━━━━━━━━━━━━━━━━━━━━\u001B[0m\u001B[37m\u001B[0m \u001B[1m0s\u001B[0m 9ms/step - accuracy: 0.8059 - loss: 0.4327 - val_accuracy: 0.8160 - val_loss: 0.4241\n",
      "Epoch 8/500\n",
      "\u001B[1m31/31\u001B[0m \u001B[32m━━━━━━━━━━━━━━━━━━━━\u001B[0m\u001B[37m\u001B[0m \u001B[1m0s\u001B[0m 9ms/step - accuracy: 0.8107 - loss: 0.4231 - val_accuracy: 0.8236 - val_loss: 0.4173\n",
      "Epoch 9/500\n",
      "\u001B[1m31/31\u001B[0m \u001B[32m━━━━━━━━━━━━━━━━━━━━\u001B[0m\u001B[37m\u001B[0m \u001B[1m0s\u001B[0m 9ms/step - accuracy: 0.8195 - loss: 0.4046 - val_accuracy: 0.8142 - val_loss: 0.4161\n",
      "Epoch 10/500\n",
      "\u001B[1m31/31\u001B[0m \u001B[32m━━━━━━━━━━━━━━━━━━━━\u001B[0m\u001B[37m\u001B[0m \u001B[1m0s\u001B[0m 9ms/step - accuracy: 0.8177 - loss: 0.4125 - val_accuracy: 0.8210 - val_loss: 0.4087\n",
      "Epoch 11/500\n",
      "\u001B[1m31/31\u001B[0m \u001B[32m━━━━━━━━━━━━━━━━━━━━\u001B[0m\u001B[37m\u001B[0m \u001B[1m0s\u001B[0m 10ms/step - accuracy: 0.8388 - loss: 0.3876 - val_accuracy: 0.8254 - val_loss: 0.3990\n",
      "Epoch 12/500\n",
      "\u001B[1m31/31\u001B[0m \u001B[32m━━━━━━━━━━━━━━━━━━━━\u001B[0m\u001B[37m\u001B[0m \u001B[1m0s\u001B[0m 9ms/step - accuracy: 0.8311 - loss: 0.3901 - val_accuracy: 0.8354 - val_loss: 0.3906\n",
      "Epoch 13/500\n",
      "\u001B[1m31/31\u001B[0m \u001B[32m━━━━━━━━━━━━━━━━━━━━\u001B[0m\u001B[37m\u001B[0m \u001B[1m0s\u001B[0m 10ms/step - accuracy: 0.8448 - loss: 0.3668 - val_accuracy: 0.8404 - val_loss: 0.3762\n",
      "Epoch 14/500\n",
      "\u001B[1m31/31\u001B[0m \u001B[32m━━━━━━━━━━━━━━━━━━━━\u001B[0m\u001B[37m\u001B[0m \u001B[1m0s\u001B[0m 9ms/step - accuracy: 0.8583 - loss: 0.3563 - val_accuracy: 0.8339 - val_loss: 0.3883\n",
      "Epoch 15/500\n",
      "\u001B[1m31/31\u001B[0m \u001B[32m━━━━━━━━━━━━━━━━━━━━\u001B[0m\u001B[37m\u001B[0m \u001B[1m0s\u001B[0m 9ms/step - accuracy: 0.8548 - loss: 0.3515 - val_accuracy: 0.8348 - val_loss: 0.3719\n",
      "Epoch 16/500\n",
      "\u001B[1m31/31\u001B[0m \u001B[32m━━━━━━━━━━━━━━━━━━━━\u001B[0m\u001B[37m\u001B[0m \u001B[1m0s\u001B[0m 9ms/step - accuracy: 0.8552 - loss: 0.3482 - val_accuracy: 0.8276 - val_loss: 0.3884\n",
      "Epoch 17/500\n",
      "\u001B[1m31/31\u001B[0m \u001B[32m━━━━━━━━━━━━━━━━━━━━\u001B[0m\u001B[37m\u001B[0m \u001B[1m0s\u001B[0m 9ms/step - accuracy: 0.8542 - loss: 0.3467 - val_accuracy: 0.8429 - val_loss: 0.3656\n",
      "Epoch 18/500\n",
      "\u001B[1m31/31\u001B[0m \u001B[32m━━━━━━━━━━━━━━━━━━━━\u001B[0m\u001B[37m\u001B[0m \u001B[1m0s\u001B[0m 10ms/step - accuracy: 0.8718 - loss: 0.3220 - val_accuracy: 0.8608 - val_loss: 0.3429\n",
      "Epoch 19/500\n",
      "\u001B[1m31/31\u001B[0m \u001B[32m━━━━━━━━━━━━━━━━━━━━\u001B[0m\u001B[37m\u001B[0m \u001B[1m0s\u001B[0m 10ms/step - accuracy: 0.8781 - loss: 0.3129 - val_accuracy: 0.8574 - val_loss: 0.3434\n",
      "Epoch 20/500\n",
      "\u001B[1m31/31\u001B[0m \u001B[32m━━━━━━━━━━━━━━━━━━━━\u001B[0m\u001B[37m\u001B[0m \u001B[1m0s\u001B[0m 10ms/step - accuracy: 0.8770 - loss: 0.3053 - val_accuracy: 0.8657 - val_loss: 0.3378\n",
      "Epoch 21/500\n",
      "\u001B[1m31/31\u001B[0m \u001B[32m━━━━━━━━━━━━━━━━━━━━\u001B[0m\u001B[37m\u001B[0m \u001B[1m0s\u001B[0m 11ms/step - accuracy: 0.8798 - loss: 0.2999 - val_accuracy: 0.8672 - val_loss: 0.3319\n",
      "Epoch 22/500\n",
      "\u001B[1m31/31\u001B[0m \u001B[32m━━━━━━━━━━━━━━━━━━━━\u001B[0m\u001B[37m\u001B[0m \u001B[1m0s\u001B[0m 9ms/step - accuracy: 0.8837 - loss: 0.2994 - val_accuracy: 0.8687 - val_loss: 0.3208\n",
      "Epoch 23/500\n",
      "\u001B[1m31/31\u001B[0m \u001B[32m━━━━━━━━━━━━━━━━━━━━\u001B[0m\u001B[37m\u001B[0m \u001B[1m0s\u001B[0m 9ms/step - accuracy: 0.8894 - loss: 0.2849 - val_accuracy: 0.8725 - val_loss: 0.3179\n",
      "Epoch 24/500\n",
      "\u001B[1m31/31\u001B[0m \u001B[32m━━━━━━━━━━━━━━━━━━━━\u001B[0m\u001B[37m\u001B[0m \u001B[1m0s\u001B[0m 9ms/step - accuracy: 0.8889 - loss: 0.2824 - val_accuracy: 0.8751 - val_loss: 0.3213\n",
      "Epoch 25/500\n",
      "\u001B[1m31/31\u001B[0m \u001B[32m━━━━━━━━━━━━━━━━━━━━\u001B[0m\u001B[37m\u001B[0m \u001B[1m0s\u001B[0m 10ms/step - accuracy: 0.8934 - loss: 0.2709 - val_accuracy: 0.8760 - val_loss: 0.3146\n",
      "Epoch 26/500\n",
      "\u001B[1m31/31\u001B[0m \u001B[32m━━━━━━━━━━━━━━━━━━━━\u001B[0m\u001B[37m\u001B[0m \u001B[1m0s\u001B[0m 9ms/step - accuracy: 0.8926 - loss: 0.2749 - val_accuracy: 0.8740 - val_loss: 0.3089\n",
      "Epoch 27/500\n",
      "\u001B[1m31/31\u001B[0m \u001B[32m━━━━━━━━━━━━━━━━━━━━\u001B[0m\u001B[37m\u001B[0m \u001B[1m0s\u001B[0m 9ms/step - accuracy: 0.8978 - loss: 0.2617 - val_accuracy: 0.8751 - val_loss: 0.3083\n",
      "Epoch 28/500\n",
      "\u001B[1m31/31\u001B[0m \u001B[32m━━━━━━━━━━━━━━━━━━━━\u001B[0m\u001B[37m\u001B[0m \u001B[1m0s\u001B[0m 9ms/step - accuracy: 0.9023 - loss: 0.2526 - val_accuracy: 0.8735 - val_loss: 0.3034\n",
      "Epoch 29/500\n",
      "\u001B[1m31/31\u001B[0m \u001B[32m━━━━━━━━━━━━━━━━━━━━\u001B[0m\u001B[37m\u001B[0m \u001B[1m0s\u001B[0m 10ms/step - accuracy: 0.9045 - loss: 0.2481 - val_accuracy: 0.8831 - val_loss: 0.2983\n",
      "Epoch 30/500\n",
      "\u001B[1m31/31\u001B[0m \u001B[32m━━━━━━━━━━━━━━━━━━━━\u001B[0m\u001B[37m\u001B[0m \u001B[1m0s\u001B[0m 13ms/step - accuracy: 0.9044 - loss: 0.2383 - val_accuracy: 0.8779 - val_loss: 0.3059\n",
      "Epoch 31/500\n",
      "\u001B[1m31/31\u001B[0m \u001B[32m━━━━━━━━━━━━━━━━━━━━\u001B[0m\u001B[37m\u001B[0m \u001B[1m0s\u001B[0m 10ms/step - accuracy: 0.9044 - loss: 0.2477 - val_accuracy: 0.8859 - val_loss: 0.2951\n",
      "Epoch 32/500\n",
      "\u001B[1m31/31\u001B[0m \u001B[32m━━━━━━━━━━━━━━━━━━━━\u001B[0m\u001B[37m\u001B[0m \u001B[1m0s\u001B[0m 9ms/step - accuracy: 0.9069 - loss: 0.2362 - val_accuracy: 0.8820 - val_loss: 0.3002\n",
      "Epoch 33/500\n",
      "\u001B[1m31/31\u001B[0m \u001B[32m━━━━━━━━━━━━━━━━━━━━\u001B[0m\u001B[37m\u001B[0m \u001B[1m0s\u001B[0m 10ms/step - accuracy: 0.9126 - loss: 0.2243 - val_accuracy: 0.8813 - val_loss: 0.2873\n",
      "Epoch 34/500\n",
      "\u001B[1m31/31\u001B[0m \u001B[32m━━━━━━━━━━━━━━━━━━━━\u001B[0m\u001B[37m\u001B[0m \u001B[1m0s\u001B[0m 10ms/step - accuracy: 0.9162 - loss: 0.2204 - val_accuracy: 0.8880 - val_loss: 0.2989\n",
      "Epoch 35/500\n",
      "\u001B[1m31/31\u001B[0m \u001B[32m━━━━━━━━━━━━━━━━━━━━\u001B[0m\u001B[37m\u001B[0m \u001B[1m0s\u001B[0m 8ms/step - accuracy: 0.9088 - loss: 0.2238 - val_accuracy: 0.8925 - val_loss: 0.2849\n",
      "Epoch 36/500\n",
      "\u001B[1m31/31\u001B[0m \u001B[32m━━━━━━━━━━━━━━━━━━━━\u001B[0m\u001B[37m\u001B[0m \u001B[1m0s\u001B[0m 8ms/step - accuracy: 0.9160 - loss: 0.2218 - val_accuracy: 0.8891 - val_loss: 0.2754\n",
      "Epoch 37/500\n",
      "\u001B[1m31/31\u001B[0m \u001B[32m━━━━━━━━━━━━━━━━━━━━\u001B[0m\u001B[37m\u001B[0m \u001B[1m0s\u001B[0m 8ms/step - accuracy: 0.9164 - loss: 0.2144 - val_accuracy: 0.8862 - val_loss: 0.2813\n",
      "Epoch 38/500\n",
      "\u001B[1m31/31\u001B[0m \u001B[32m━━━━━━━━━━━━━━━━━━━━\u001B[0m\u001B[37m\u001B[0m \u001B[1m0s\u001B[0m 9ms/step - accuracy: 0.9171 - loss: 0.2142 - val_accuracy: 0.8902 - val_loss: 0.2756\n",
      "Epoch 39/500\n",
      "\u001B[1m31/31\u001B[0m \u001B[32m━━━━━━━━━━━━━━━━━━━━\u001B[0m\u001B[37m\u001B[0m \u001B[1m0s\u001B[0m 10ms/step - accuracy: 0.9184 - loss: 0.2079 - val_accuracy: 0.8882 - val_loss: 0.2748\n",
      "Epoch 40/500\n",
      "\u001B[1m31/31\u001B[0m \u001B[32m━━━━━━━━━━━━━━━━━━━━\u001B[0m\u001B[37m\u001B[0m \u001B[1m0s\u001B[0m 9ms/step - accuracy: 0.9163 - loss: 0.2098 - val_accuracy: 0.8941 - val_loss: 0.2685\n",
      "Epoch 41/500\n",
      "\u001B[1m31/31\u001B[0m \u001B[32m━━━━━━━━━━━━━━━━━━━━\u001B[0m\u001B[37m\u001B[0m \u001B[1m0s\u001B[0m 9ms/step - accuracy: 0.9172 - loss: 0.2099 - val_accuracy: 0.8876 - val_loss: 0.2722\n",
      "Epoch 42/500\n",
      "\u001B[1m31/31\u001B[0m \u001B[32m━━━━━━━━━━━━━━━━━━━━\u001B[0m\u001B[37m\u001B[0m \u001B[1m0s\u001B[0m 9ms/step - accuracy: 0.9211 - loss: 0.2018 - val_accuracy: 0.8866 - val_loss: 0.2777\n",
      "Epoch 43/500\n",
      "\u001B[1m31/31\u001B[0m \u001B[32m━━━━━━━━━━━━━━━━━━━━\u001B[0m\u001B[37m\u001B[0m \u001B[1m0s\u001B[0m 9ms/step - accuracy: 0.9233 - loss: 0.1930 - val_accuracy: 0.8947 - val_loss: 0.2656\n",
      "Epoch 44/500\n",
      "\u001B[1m31/31\u001B[0m \u001B[32m━━━━━━━━━━━━━━━━━━━━\u001B[0m\u001B[37m\u001B[0m \u001B[1m0s\u001B[0m 10ms/step - accuracy: 0.9243 - loss: 0.1912 - val_accuracy: 0.8934 - val_loss: 0.2692\n",
      "Epoch 45/500\n",
      "\u001B[1m31/31\u001B[0m \u001B[32m━━━━━━━━━━━━━━━━━━━━\u001B[0m\u001B[37m\u001B[0m \u001B[1m0s\u001B[0m 10ms/step - accuracy: 0.9249 - loss: 0.1920 - val_accuracy: 0.8949 - val_loss: 0.2649\n",
      "Epoch 46/500\n",
      "\u001B[1m31/31\u001B[0m \u001B[32m━━━━━━━━━━━━━━━━━━━━\u001B[0m\u001B[37m\u001B[0m \u001B[1m0s\u001B[0m 9ms/step - accuracy: 0.9258 - loss: 0.1878 - val_accuracy: 0.8869 - val_loss: 0.2743\n",
      "Epoch 47/500\n",
      "\u001B[1m31/31\u001B[0m \u001B[32m━━━━━━━━━━━━━━━━━━━━\u001B[0m\u001B[37m\u001B[0m \u001B[1m0s\u001B[0m 9ms/step - accuracy: 0.9261 - loss: 0.1887 - val_accuracy: 0.8959 - val_loss: 0.2567\n",
      "Epoch 48/500\n",
      "\u001B[1m31/31\u001B[0m \u001B[32m━━━━━━━━━━━━━━━━━━━━\u001B[0m\u001B[37m\u001B[0m \u001B[1m0s\u001B[0m 9ms/step - accuracy: 0.9299 - loss: 0.1760 - val_accuracy: 0.8954 - val_loss: 0.2589\n",
      "Epoch 49/500\n",
      "\u001B[1m31/31\u001B[0m \u001B[32m━━━━━━━━━━━━━━━━━━━━\u001B[0m\u001B[37m\u001B[0m \u001B[1m0s\u001B[0m 11ms/step - accuracy: 0.9271 - loss: 0.1801 - val_accuracy: 0.9000 - val_loss: 0.2559\n",
      "Epoch 50/500\n",
      "\u001B[1m31/31\u001B[0m \u001B[32m━━━━━━━━━━━━━━━━━━━━\u001B[0m\u001B[37m\u001B[0m \u001B[1m0s\u001B[0m 9ms/step - accuracy: 0.9264 - loss: 0.1807 - val_accuracy: 0.8935 - val_loss: 0.2699\n",
      "Epoch 51/500\n",
      "\u001B[1m31/31\u001B[0m \u001B[32m━━━━━━━━━━━━━━━━━━━━\u001B[0m\u001B[37m\u001B[0m \u001B[1m0s\u001B[0m 9ms/step - accuracy: 0.9286 - loss: 0.1805 - val_accuracy: 0.8942 - val_loss: 0.2639\n",
      "Epoch 52/500\n",
      "\u001B[1m31/31\u001B[0m \u001B[32m━━━━━━━━━━━━━━━━━━━━\u001B[0m\u001B[37m\u001B[0m \u001B[1m0s\u001B[0m 9ms/step - accuracy: 0.9301 - loss: 0.1744 - val_accuracy: 0.8969 - val_loss: 0.2498\n",
      "Epoch 53/500\n",
      "\u001B[1m31/31\u001B[0m \u001B[32m━━━━━━━━━━━━━━━━━━━━\u001B[0m\u001B[37m\u001B[0m \u001B[1m0s\u001B[0m 10ms/step - accuracy: 0.9293 - loss: 0.1753 - val_accuracy: 0.8937 - val_loss: 0.2670\n",
      "Epoch 54/500\n",
      "\u001B[1m31/31\u001B[0m \u001B[32m━━━━━━━━━━━━━━━━━━━━\u001B[0m\u001B[37m\u001B[0m \u001B[1m0s\u001B[0m 9ms/step - accuracy: 0.9289 - loss: 0.1774 - val_accuracy: 0.8902 - val_loss: 0.2554\n",
      "Epoch 55/500\n",
      "\u001B[1m31/31\u001B[0m \u001B[32m━━━━━━━━━━━━━━━━━━━━\u001B[0m\u001B[37m\u001B[0m \u001B[1m0s\u001B[0m 9ms/step - accuracy: 0.9326 - loss: 0.1644 - val_accuracy: 0.9018 - val_loss: 0.2514\n",
      "Epoch 56/500\n",
      "\u001B[1m31/31\u001B[0m \u001B[32m━━━━━━━━━━━━━━━━━━━━\u001B[0m\u001B[37m\u001B[0m \u001B[1m0s\u001B[0m 9ms/step - accuracy: 0.9347 - loss: 0.1691 - val_accuracy: 0.8911 - val_loss: 0.2503\n",
      "Epoch 57/500\n",
      "\u001B[1m31/31\u001B[0m \u001B[32m━━━━━━━━━━━━━━━━━━━━\u001B[0m\u001B[37m\u001B[0m \u001B[1m0s\u001B[0m 8ms/step - accuracy: 0.9335 - loss: 0.1673 - val_accuracy: 0.8972 - val_loss: 0.2612\n",
      "Epoch 58/500\n",
      "\u001B[1m31/31\u001B[0m \u001B[32m━━━━━━━━━━━━━━━━━━━━\u001B[0m\u001B[37m\u001B[0m \u001B[1m0s\u001B[0m 9ms/step - accuracy: 0.9359 - loss: 0.1566 - val_accuracy: 0.8997 - val_loss: 0.2522\n",
      "Epoch 59/500\n",
      "\u001B[1m31/31\u001B[0m \u001B[32m━━━━━━━━━━━━━━━━━━━━\u001B[0m\u001B[37m\u001B[0m \u001B[1m0s\u001B[0m 8ms/step - accuracy: 0.9363 - loss: 0.1627 - val_accuracy: 0.8991 - val_loss: 0.2536\n",
      "Epoch 60/500\n",
      "\u001B[1m31/31\u001B[0m \u001B[32m━━━━━━━━━━━━━━━━━━━━\u001B[0m\u001B[37m\u001B[0m \u001B[1m0s\u001B[0m 9ms/step - accuracy: 0.9338 - loss: 0.1639 - val_accuracy: 0.8978 - val_loss: 0.2613\n",
      "Epoch 61/500\n",
      "\u001B[1m31/31\u001B[0m \u001B[32m━━━━━━━━━━━━━━━━━━━━\u001B[0m\u001B[37m\u001B[0m \u001B[1m0s\u001B[0m 9ms/step - accuracy: 0.9406 - loss: 0.1520 - val_accuracy: 0.9018 - val_loss: 0.2462\n",
      "Epoch 62/500\n",
      "\u001B[1m31/31\u001B[0m \u001B[32m━━━━━━━━━━━━━━━━━━━━\u001B[0m\u001B[37m\u001B[0m \u001B[1m0s\u001B[0m 8ms/step - accuracy: 0.9362 - loss: 0.1625 - val_accuracy: 0.8956 - val_loss: 0.2540\n",
      "Epoch 63/500\n",
      "\u001B[1m31/31\u001B[0m \u001B[32m━━━━━━━━━━━━━━━━━━━━\u001B[0m\u001B[37m\u001B[0m \u001B[1m0s\u001B[0m 9ms/step - accuracy: 0.9392 - loss: 0.1471 - val_accuracy: 0.8972 - val_loss: 0.2596\n",
      "Epoch 64/500\n",
      "\u001B[1m31/31\u001B[0m \u001B[32m━━━━━━━━━━━━━━━━━━━━\u001B[0m\u001B[37m\u001B[0m \u001B[1m0s\u001B[0m 8ms/step - accuracy: 0.9336 - loss: 0.1624 - val_accuracy: 0.9003 - val_loss: 0.2422\n",
      "Epoch 65/500\n",
      "\u001B[1m31/31\u001B[0m \u001B[32m━━━━━━━━━━━━━━━━━━━━\u001B[0m\u001B[37m\u001B[0m \u001B[1m0s\u001B[0m 8ms/step - accuracy: 0.9379 - loss: 0.1497 - val_accuracy: 0.9042 - val_loss: 0.2692\n",
      "Epoch 66/500\n",
      "\u001B[1m31/31\u001B[0m \u001B[32m━━━━━━━━━━━━━━━━━━━━\u001B[0m\u001B[37m\u001B[0m \u001B[1m0s\u001B[0m 8ms/step - accuracy: 0.9387 - loss: 0.1536 - val_accuracy: 0.8969 - val_loss: 0.2655\n",
      "Epoch 67/500\n",
      "\u001B[1m31/31\u001B[0m \u001B[32m━━━━━━━━━━━━━━━━━━━━\u001B[0m\u001B[37m\u001B[0m \u001B[1m0s\u001B[0m 9ms/step - accuracy: 0.9371 - loss: 0.1564 - val_accuracy: 0.8962 - val_loss: 0.2622\n",
      "Epoch 68/500\n",
      "\u001B[1m31/31\u001B[0m \u001B[32m━━━━━━━━━━━━━━━━━━━━\u001B[0m\u001B[37m\u001B[0m \u001B[1m0s\u001B[0m 8ms/step - accuracy: 0.9338 - loss: 0.1593 - val_accuracy: 0.9015 - val_loss: 0.2503\n",
      "Epoch 69/500\n",
      "\u001B[1m31/31\u001B[0m \u001B[32m━━━━━━━━━━━━━━━━━━━━\u001B[0m\u001B[37m\u001B[0m \u001B[1m0s\u001B[0m 9ms/step - accuracy: 0.9355 - loss: 0.1566 - val_accuracy: 0.9053 - val_loss: 0.2542\n",
      "Epoch 70/500\n",
      "\u001B[1m31/31\u001B[0m \u001B[32m━━━━━━━━━━━━━━━━━━━━\u001B[0m\u001B[37m\u001B[0m \u001B[1m0s\u001B[0m 8ms/step - accuracy: 0.9389 - loss: 0.1505 - val_accuracy: 0.9048 - val_loss: 0.2521\n",
      "Epoch 71/500\n",
      "\u001B[1m31/31\u001B[0m \u001B[32m━━━━━━━━━━━━━━━━━━━━\u001B[0m\u001B[37m\u001B[0m \u001B[1m0s\u001B[0m 8ms/step - accuracy: 0.9370 - loss: 0.1520 - val_accuracy: 0.9015 - val_loss: 0.2485\n",
      "Epoch 72/500\n",
      "\u001B[1m31/31\u001B[0m \u001B[32m━━━━━━━━━━━━━━━━━━━━\u001B[0m\u001B[37m\u001B[0m \u001B[1m0s\u001B[0m 10ms/step - accuracy: 0.9414 - loss: 0.1435 - val_accuracy: 0.8993 - val_loss: 0.2502\n",
      "Epoch 73/500\n",
      "\u001B[1m31/31\u001B[0m \u001B[32m━━━━━━━━━━━━━━━━━━━━\u001B[0m\u001B[37m\u001B[0m \u001B[1m0s\u001B[0m 9ms/step - accuracy: 0.9378 - loss: 0.1498 - val_accuracy: 0.9031 - val_loss: 0.2456\n",
      "Epoch 74/500\n",
      "\u001B[1m31/31\u001B[0m \u001B[32m━━━━━━━━━━━━━━━━━━━━\u001B[0m\u001B[37m\u001B[0m \u001B[1m0s\u001B[0m 10ms/step - accuracy: 0.9409 - loss: 0.1432 - val_accuracy: 0.9010 - val_loss: 0.2601\n",
      "Epoch 75/500\n",
      "\u001B[1m31/31\u001B[0m \u001B[32m━━━━━━━━━━━━━━━━━━━━\u001B[0m\u001B[37m\u001B[0m \u001B[1m0s\u001B[0m 11ms/step - accuracy: 0.9419 - loss: 0.1397 - val_accuracy: 0.9020 - val_loss: 0.2559\n",
      "Epoch 76/500\n",
      "\u001B[1m31/31\u001B[0m \u001B[32m━━━━━━━━━━━━━━━━━━━━\u001B[0m\u001B[37m\u001B[0m \u001B[1m0s\u001B[0m 9ms/step - accuracy: 0.9409 - loss: 0.1454 - val_accuracy: 0.9008 - val_loss: 0.2556\n",
      "Epoch 77/500\n",
      "\u001B[1m31/31\u001B[0m \u001B[32m━━━━━━━━━━━━━━━━━━━━\u001B[0m\u001B[37m\u001B[0m \u001B[1m0s\u001B[0m 10ms/step - accuracy: 0.9414 - loss: 0.1405 - val_accuracy: 0.9005 - val_loss: 0.2567\n",
      "Epoch 78/500\n",
      "\u001B[1m31/31\u001B[0m \u001B[32m━━━━━━━━━━━━━━━━━━━━\u001B[0m\u001B[37m\u001B[0m \u001B[1m0s\u001B[0m 9ms/step - accuracy: 0.9403 - loss: 0.1434 - val_accuracy: 0.9044 - val_loss: 0.2512\n",
      "Epoch 79/500\n",
      "\u001B[1m31/31\u001B[0m \u001B[32m━━━━━━━━━━━━━━━━━━━━\u001B[0m\u001B[37m\u001B[0m \u001B[1m0s\u001B[0m 9ms/step - accuracy: 0.9399 - loss: 0.1469 - val_accuracy: 0.9069 - val_loss: 0.2443\n",
      "Epoch 80/500\n",
      "\u001B[1m31/31\u001B[0m \u001B[32m━━━━━━━━━━━━━━━━━━━━\u001B[0m\u001B[37m\u001B[0m \u001B[1m0s\u001B[0m 9ms/step - accuracy: 0.9442 - loss: 0.1371 - val_accuracy: 0.9011 - val_loss: 0.2526\n",
      "Epoch 81/500\n",
      "\u001B[1m31/31\u001B[0m \u001B[32m━━━━━━━━━━━━━━━━━━━━\u001B[0m\u001B[37m\u001B[0m \u001B[1m0s\u001B[0m 9ms/step - accuracy: 0.9419 - loss: 0.1438 - val_accuracy: 0.9032 - val_loss: 0.2567\n",
      "Epoch 82/500\n",
      "\u001B[1m31/31\u001B[0m \u001B[32m━━━━━━━━━━━━━━━━━━━━\u001B[0m\u001B[37m\u001B[0m \u001B[1m0s\u001B[0m 9ms/step - accuracy: 0.9398 - loss: 0.1419 - val_accuracy: 0.9041 - val_loss: 0.2627\n",
      "Epoch 83/500\n",
      "\u001B[1m31/31\u001B[0m \u001B[32m━━━━━━━━━━━━━━━━━━━━\u001B[0m\u001B[37m\u001B[0m \u001B[1m0s\u001B[0m 9ms/step - accuracy: 0.9414 - loss: 0.1383 - val_accuracy: 0.9033 - val_loss: 0.2730\n",
      "Epoch 84/500\n",
      "\u001B[1m31/31\u001B[0m \u001B[32m━━━━━━━━━━━━━━━━━━━━\u001B[0m\u001B[37m\u001B[0m \u001B[1m0s\u001B[0m 10ms/step - accuracy: 0.9406 - loss: 0.1401 - val_accuracy: 0.9015 - val_loss: 0.2634\n",
      "Epoch 85/500\n",
      "\u001B[1m31/31\u001B[0m \u001B[32m━━━━━━━━━━━━━━━━━━━━\u001B[0m\u001B[37m\u001B[0m \u001B[1m0s\u001B[0m 10ms/step - accuracy: 0.9372 - loss: 0.1458 - val_accuracy: 0.9050 - val_loss: 0.2462\n",
      "Epoch 86/500\n",
      "\u001B[1m31/31\u001B[0m \u001B[32m━━━━━━━━━━━━━━━━━━━━\u001B[0m\u001B[37m\u001B[0m \u001B[1m0s\u001B[0m 9ms/step - accuracy: 0.9440 - loss: 0.1377 - val_accuracy: 0.9025 - val_loss: 0.2479\n",
      "Epoch 87/500\n",
      "\u001B[1m31/31\u001B[0m \u001B[32m━━━━━━━━━━━━━━━━━━━━\u001B[0m\u001B[37m\u001B[0m \u001B[1m0s\u001B[0m 11ms/step - accuracy: 0.9408 - loss: 0.1372 - val_accuracy: 0.9070 - val_loss: 0.2537\n",
      "Epoch 88/500\n",
      "\u001B[1m31/31\u001B[0m \u001B[32m━━━━━━━━━━━━━━━━━━━━\u001B[0m\u001B[37m\u001B[0m \u001B[1m0s\u001B[0m 10ms/step - accuracy: 0.9409 - loss: 0.1422 - val_accuracy: 0.9040 - val_loss: 0.2486\n",
      "Epoch 89/500\n",
      "\u001B[1m31/31\u001B[0m \u001B[32m━━━━━━━━━━━━━━━━━━━━\u001B[0m\u001B[37m\u001B[0m \u001B[1m0s\u001B[0m 9ms/step - accuracy: 0.9438 - loss: 0.1324 - val_accuracy: 0.9108 - val_loss: 0.2508\n",
      "Epoch 90/500\n",
      "\u001B[1m31/31\u001B[0m \u001B[32m━━━━━━━━━━━━━━━━━━━━\u001B[0m\u001B[37m\u001B[0m \u001B[1m0s\u001B[0m 8ms/step - accuracy: 0.9421 - loss: 0.1391 - val_accuracy: 0.9084 - val_loss: 0.2477\n",
      "Epoch 91/500\n",
      "\u001B[1m31/31\u001B[0m \u001B[32m━━━━━━━━━━━━━━━━━━━━\u001B[0m\u001B[37m\u001B[0m \u001B[1m0s\u001B[0m 10ms/step - accuracy: 0.9414 - loss: 0.1341 - val_accuracy: 0.8960 - val_loss: 0.2519\n",
      "Epoch 92/500\n",
      "\u001B[1m31/31\u001B[0m \u001B[32m━━━━━━━━━━━━━━━━━━━━\u001B[0m\u001B[37m\u001B[0m \u001B[1m0s\u001B[0m 10ms/step - accuracy: 0.9429 - loss: 0.1293 - val_accuracy: 0.9103 - val_loss: 0.2557\n",
      "Epoch 93/500\n",
      "\u001B[1m31/31\u001B[0m \u001B[32m━━━━━━━━━━━━━━━━━━━━\u001B[0m\u001B[37m\u001B[0m \u001B[1m0s\u001B[0m 9ms/step - accuracy: 0.9464 - loss: 0.1315 - val_accuracy: 0.9008 - val_loss: 0.2598\n",
      "Epoch 94/500\n",
      "\u001B[1m31/31\u001B[0m \u001B[32m━━━━━━━━━━━━━━━━━━━━\u001B[0m\u001B[37m\u001B[0m \u001B[1m0s\u001B[0m 9ms/step - accuracy: 0.9414 - loss: 0.1386 - val_accuracy: 0.9040 - val_loss: 0.2583\n",
      "Epoch 95/500\n",
      "\u001B[1m31/31\u001B[0m \u001B[32m━━━━━━━━━━━━━━━━━━━━\u001B[0m\u001B[37m\u001B[0m \u001B[1m0s\u001B[0m 9ms/step - accuracy: 0.9438 - loss: 0.1323 - val_accuracy: 0.9109 - val_loss: 0.2538\n",
      "Epoch 96/500\n",
      "\u001B[1m31/31\u001B[0m \u001B[32m━━━━━━━━━━━━━━━━━━━━\u001B[0m\u001B[37m\u001B[0m \u001B[1m0s\u001B[0m 8ms/step - accuracy: 0.9453 - loss: 0.1318 - val_accuracy: 0.9023 - val_loss: 0.2684\n",
      "Epoch 97/500\n",
      "\u001B[1m31/31\u001B[0m \u001B[32m━━━━━━━━━━━━━━━━━━━━\u001B[0m\u001B[37m\u001B[0m \u001B[1m0s\u001B[0m 8ms/step - accuracy: 0.9414 - loss: 0.1364 - val_accuracy: 0.9069 - val_loss: 0.2500\n",
      "Epoch 98/500\n",
      "\u001B[1m31/31\u001B[0m \u001B[32m━━━━━━━━━━━━━━━━━━━━\u001B[0m\u001B[37m\u001B[0m \u001B[1m0s\u001B[0m 8ms/step - accuracy: 0.9436 - loss: 0.1339 - val_accuracy: 0.8972 - val_loss: 0.2591\n",
      "Epoch 99/500\n",
      "\u001B[1m31/31\u001B[0m \u001B[32m━━━━━━━━━━━━━━━━━━━━\u001B[0m\u001B[37m\u001B[0m \u001B[1m0s\u001B[0m 8ms/step - accuracy: 0.9444 - loss: 0.1293 - val_accuracy: 0.9081 - val_loss: 0.2480\n",
      "Epoch 100/500\n",
      "\u001B[1m31/31\u001B[0m \u001B[32m━━━━━━━━━━━━━━━━━━━━\u001B[0m\u001B[37m\u001B[0m \u001B[1m0s\u001B[0m 8ms/step - accuracy: 0.9423 - loss: 0.1284 - val_accuracy: 0.9035 - val_loss: 0.2432\n",
      "Epoch 101/500\n",
      "\u001B[1m31/31\u001B[0m \u001B[32m━━━━━━━━━━━━━━━━━━━━\u001B[0m\u001B[37m\u001B[0m \u001B[1m0s\u001B[0m 8ms/step - accuracy: 0.9389 - loss: 0.1422 - val_accuracy: 0.9035 - val_loss: 0.2503\n",
      "Epoch 102/500\n",
      "\u001B[1m31/31\u001B[0m \u001B[32m━━━━━━━━━━━━━━━━━━━━\u001B[0m\u001B[37m\u001B[0m \u001B[1m0s\u001B[0m 8ms/step - accuracy: 0.9447 - loss: 0.1301 - val_accuracy: 0.9073 - val_loss: 0.2463\n",
      "Epoch 103/500\n",
      "\u001B[1m31/31\u001B[0m \u001B[32m━━━━━━━━━━━━━━━━━━━━\u001B[0m\u001B[37m\u001B[0m \u001B[1m0s\u001B[0m 9ms/step - accuracy: 0.9424 - loss: 0.1338 - val_accuracy: 0.9144 - val_loss: 0.2385\n",
      "Epoch 104/500\n",
      "\u001B[1m31/31\u001B[0m \u001B[32m━━━━━━━━━━━━━━━━━━━━\u001B[0m\u001B[37m\u001B[0m \u001B[1m0s\u001B[0m 8ms/step - accuracy: 0.9444 - loss: 0.1237 - val_accuracy: 0.9012 - val_loss: 0.2509\n",
      "Epoch 105/500\n",
      "\u001B[1m31/31\u001B[0m \u001B[32m━━━━━━━━━━━━━━━━━━━━\u001B[0m\u001B[37m\u001B[0m \u001B[1m0s\u001B[0m 9ms/step - accuracy: 0.9461 - loss: 0.1251 - val_accuracy: 0.9099 - val_loss: 0.2494\n",
      "Epoch 106/500\n",
      "\u001B[1m31/31\u001B[0m \u001B[32m━━━━━━━━━━━━━━━━━━━━\u001B[0m\u001B[37m\u001B[0m \u001B[1m0s\u001B[0m 8ms/step - accuracy: 0.9404 - loss: 0.1363 - val_accuracy: 0.9066 - val_loss: 0.2484\n",
      "Epoch 107/500\n",
      "\u001B[1m31/31\u001B[0m \u001B[32m━━━━━━━━━━━━━━━━━━━━\u001B[0m\u001B[37m\u001B[0m \u001B[1m0s\u001B[0m 9ms/step - accuracy: 0.9446 - loss: 0.1253 - val_accuracy: 0.9063 - val_loss: 0.2489\n",
      "Epoch 108/500\n",
      "\u001B[1m31/31\u001B[0m \u001B[32m━━━━━━━━━━━━━━━━━━━━\u001B[0m\u001B[37m\u001B[0m \u001B[1m0s\u001B[0m 9ms/step - accuracy: 0.9458 - loss: 0.1233 - val_accuracy: 0.9089 - val_loss: 0.2543\n",
      "Epoch 109/500\n",
      "\u001B[1m31/31\u001B[0m \u001B[32m━━━━━━━━━━━━━━━━━━━━\u001B[0m\u001B[37m\u001B[0m \u001B[1m0s\u001B[0m 10ms/step - accuracy: 0.9440 - loss: 0.1253 - val_accuracy: 0.9133 - val_loss: 0.2464\n",
      "Epoch 110/500\n",
      "\u001B[1m31/31\u001B[0m \u001B[32m━━━━━━━━━━━━━━━━━━━━\u001B[0m\u001B[37m\u001B[0m \u001B[1m0s\u001B[0m 9ms/step - accuracy: 0.9449 - loss: 0.1256 - val_accuracy: 0.9073 - val_loss: 0.2657\n",
      "Epoch 111/500\n",
      "\u001B[1m31/31\u001B[0m \u001B[32m━━━━━━━━━━━━━━━━━━━━\u001B[0m\u001B[37m\u001B[0m \u001B[1m0s\u001B[0m 9ms/step - accuracy: 0.9438 - loss: 0.1291 - val_accuracy: 0.9035 - val_loss: 0.2417\n",
      "Epoch 112/500\n",
      "\u001B[1m31/31\u001B[0m \u001B[32m━━━━━━━━━━━━━━━━━━━━\u001B[0m\u001B[37m\u001B[0m \u001B[1m0s\u001B[0m 10ms/step - accuracy: 0.9460 - loss: 0.1249 - val_accuracy: 0.9098 - val_loss: 0.2470\n",
      "Epoch 113/500\n",
      "\u001B[1m31/31\u001B[0m \u001B[32m━━━━━━━━━━━━━━━━━━━━\u001B[0m\u001B[37m\u001B[0m \u001B[1m0s\u001B[0m 9ms/step - accuracy: 0.9441 - loss: 0.1244 - val_accuracy: 0.9123 - val_loss: 0.2610\n",
      "Epoch 114/500\n",
      "\u001B[1m31/31\u001B[0m \u001B[32m━━━━━━━━━━━━━━━━━━━━\u001B[0m\u001B[37m\u001B[0m \u001B[1m0s\u001B[0m 10ms/step - accuracy: 0.9472 - loss: 0.1182 - val_accuracy: 0.9030 - val_loss: 0.2754\n",
      "Epoch 115/500\n",
      "\u001B[1m31/31\u001B[0m \u001B[32m━━━━━━━━━━━━━━━━━━━━\u001B[0m\u001B[37m\u001B[0m \u001B[1m0s\u001B[0m 8ms/step - accuracy: 0.9492 - loss: 0.1180 - val_accuracy: 0.9098 - val_loss: 0.2488\n",
      "Epoch 116/500\n",
      "\u001B[1m31/31\u001B[0m \u001B[32m━━━━━━━━━━━━━━━━━━━━\u001B[0m\u001B[37m\u001B[0m \u001B[1m0s\u001B[0m 8ms/step - accuracy: 0.9482 - loss: 0.1188 - val_accuracy: 0.9036 - val_loss: 0.2550\n",
      "Epoch 117/500\n",
      "\u001B[1m31/31\u001B[0m \u001B[32m━━━━━━━━━━━━━━━━━━━━\u001B[0m\u001B[37m\u001B[0m \u001B[1m0s\u001B[0m 8ms/step - accuracy: 0.9468 - loss: 0.1259 - val_accuracy: 0.9037 - val_loss: 0.2749\n",
      "Epoch 118/500\n",
      "\u001B[1m31/31\u001B[0m \u001B[32m━━━━━━━━━━━━━━━━━━━━\u001B[0m\u001B[37m\u001B[0m \u001B[1m0s\u001B[0m 9ms/step - accuracy: 0.9406 - loss: 0.1321 - val_accuracy: 0.9152 - val_loss: 0.2682\n",
      "Epoch 119/500\n",
      "\u001B[1m31/31\u001B[0m \u001B[32m━━━━━━━━━━━━━━━━━━━━\u001B[0m\u001B[37m\u001B[0m \u001B[1m0s\u001B[0m 9ms/step - accuracy: 0.9457 - loss: 0.1211 - val_accuracy: 0.9074 - val_loss: 0.2666\n",
      "Epoch 120/500\n",
      "\u001B[1m31/31\u001B[0m \u001B[32m━━━━━━━━━━━━━━━━━━━━\u001B[0m\u001B[37m\u001B[0m \u001B[1m0s\u001B[0m 10ms/step - accuracy: 0.9436 - loss: 0.1268 - val_accuracy: 0.9089 - val_loss: 0.2669\n",
      "Epoch 121/500\n",
      "\u001B[1m31/31\u001B[0m \u001B[32m━━━━━━━━━━━━━━━━━━━━\u001B[0m\u001B[37m\u001B[0m \u001B[1m0s\u001B[0m 9ms/step - accuracy: 0.9434 - loss: 0.1188 - val_accuracy: 0.9106 - val_loss: 0.2606\n",
      "Epoch 122/500\n",
      "\u001B[1m31/31\u001B[0m \u001B[32m━━━━━━━━━━━━━━━━━━━━\u001B[0m\u001B[37m\u001B[0m \u001B[1m0s\u001B[0m 8ms/step - accuracy: 0.9393 - loss: 0.1305 - val_accuracy: 0.9076 - val_loss: 0.2660\n",
      "Epoch 123/500\n",
      "\u001B[1m31/31\u001B[0m \u001B[32m━━━━━━━━━━━━━━━━━━━━\u001B[0m\u001B[37m\u001B[0m \u001B[1m0s\u001B[0m 8ms/step - accuracy: 0.9437 - loss: 0.1270 - val_accuracy: 0.9111 - val_loss: 0.2663\n",
      "Epoch 124/500\n",
      "\u001B[1m31/31\u001B[0m \u001B[32m━━━━━━━━━━━━━━━━━━━━\u001B[0m\u001B[37m\u001B[0m \u001B[1m0s\u001B[0m 10ms/step - accuracy: 0.9430 - loss: 0.1283 - val_accuracy: 0.9053 - val_loss: 0.2766\n",
      "Epoch 125/500\n",
      "\u001B[1m31/31\u001B[0m \u001B[32m━━━━━━━━━━━━━━━━━━━━\u001B[0m\u001B[37m\u001B[0m \u001B[1m0s\u001B[0m 8ms/step - accuracy: 0.9513 - loss: 0.1171 - val_accuracy: 0.9086 - val_loss: 0.2591\n",
      "Epoch 126/500\n",
      "\u001B[1m31/31\u001B[0m \u001B[32m━━━━━━━━━━━━━━━━━━━━\u001B[0m\u001B[37m\u001B[0m \u001B[1m0s\u001B[0m 8ms/step - accuracy: 0.9500 - loss: 0.1149 - val_accuracy: 0.9041 - val_loss: 0.2716\n",
      "Epoch 127/500\n",
      "\u001B[1m31/31\u001B[0m \u001B[32m━━━━━━━━━━━━━━━━━━━━\u001B[0m\u001B[37m\u001B[0m \u001B[1m0s\u001B[0m 8ms/step - accuracy: 0.9471 - loss: 0.1194 - val_accuracy: 0.9119 - val_loss: 0.2586\n",
      "Epoch 128/500\n",
      "\u001B[1m31/31\u001B[0m \u001B[32m━━━━━━━━━━━━━━━━━━━━\u001B[0m\u001B[37m\u001B[0m \u001B[1m0s\u001B[0m 9ms/step - accuracy: 0.9512 - loss: 0.1140 - val_accuracy: 0.9054 - val_loss: 0.2797\n",
      "Epoch 129/500\n",
      "\u001B[1m31/31\u001B[0m \u001B[32m━━━━━━━━━━━━━━━━━━━━\u001B[0m\u001B[37m\u001B[0m \u001B[1m0s\u001B[0m 8ms/step - accuracy: 0.9465 - loss: 0.1175 - val_accuracy: 0.9046 - val_loss: 0.2709\n",
      "Epoch 130/500\n",
      "\u001B[1m31/31\u001B[0m \u001B[32m━━━━━━━━━━━━━━━━━━━━\u001B[0m\u001B[37m\u001B[0m \u001B[1m0s\u001B[0m 9ms/step - accuracy: 0.9499 - loss: 0.1148 - val_accuracy: 0.9103 - val_loss: 0.2654\n",
      "Epoch 131/500\n",
      "\u001B[1m31/31\u001B[0m \u001B[32m━━━━━━━━━━━━━━━━━━━━\u001B[0m\u001B[37m\u001B[0m \u001B[1m0s\u001B[0m 9ms/step - accuracy: 0.9504 - loss: 0.1160 - val_accuracy: 0.9015 - val_loss: 0.2550\n",
      "Epoch 132/500\n",
      "\u001B[1m31/31\u001B[0m \u001B[32m━━━━━━━━━━━━━━━━━━━━\u001B[0m\u001B[37m\u001B[0m \u001B[1m0s\u001B[0m 9ms/step - accuracy: 0.9463 - loss: 0.1157 - val_accuracy: 0.9088 - val_loss: 0.2690\n",
      "Epoch 133/500\n",
      "\u001B[1m31/31\u001B[0m \u001B[32m━━━━━━━━━━━━━━━━━━━━\u001B[0m\u001B[37m\u001B[0m \u001B[1m0s\u001B[0m 9ms/step - accuracy: 0.9458 - loss: 0.1191 - val_accuracy: 0.9106 - val_loss: 0.2686\n",
      "Epoch 134/500\n",
      "\u001B[1m31/31\u001B[0m \u001B[32m━━━━━━━━━━━━━━━━━━━━\u001B[0m\u001B[37m\u001B[0m \u001B[1m0s\u001B[0m 9ms/step - accuracy: 0.9461 - loss: 0.1201 - val_accuracy: 0.9043 - val_loss: 0.2671\n",
      "Epoch 135/500\n",
      "\u001B[1m31/31\u001B[0m \u001B[32m━━━━━━━━━━━━━━━━━━━━\u001B[0m\u001B[37m\u001B[0m \u001B[1m0s\u001B[0m 9ms/step - accuracy: 0.9450 - loss: 0.1202 - val_accuracy: 0.9066 - val_loss: 0.2724\n",
      "Epoch 136/500\n",
      "\u001B[1m31/31\u001B[0m \u001B[32m━━━━━━━━━━━━━━━━━━━━\u001B[0m\u001B[37m\u001B[0m \u001B[1m0s\u001B[0m 10ms/step - accuracy: 0.9472 - loss: 0.1168 - val_accuracy: 0.9079 - val_loss: 0.2588\n",
      "Epoch 137/500\n",
      "\u001B[1m31/31\u001B[0m \u001B[32m━━━━━━━━━━━━━━━━━━━━\u001B[0m\u001B[37m\u001B[0m \u001B[1m0s\u001B[0m 9ms/step - accuracy: 0.9503 - loss: 0.1155 - val_accuracy: 0.9035 - val_loss: 0.2838\n",
      "Epoch 138/500\n",
      "\u001B[1m31/31\u001B[0m \u001B[32m━━━━━━━━━━━━━━━━━━━━\u001B[0m\u001B[37m\u001B[0m \u001B[1m0s\u001B[0m 10ms/step - accuracy: 0.9487 - loss: 0.1204 - val_accuracy: 0.9113 - val_loss: 0.2572\n",
      "Epoch 139/500\n",
      "\u001B[1m31/31\u001B[0m \u001B[32m━━━━━━━━━━━━━━━━━━━━\u001B[0m\u001B[37m\u001B[0m \u001B[1m0s\u001B[0m 8ms/step - accuracy: 0.9440 - loss: 0.1251 - val_accuracy: 0.9040 - val_loss: 0.2680\n",
      "Epoch 140/500\n",
      "\u001B[1m31/31\u001B[0m \u001B[32m━━━━━━━━━━━━━━━━━━━━\u001B[0m\u001B[37m\u001B[0m \u001B[1m0s\u001B[0m 9ms/step - accuracy: 0.9486 - loss: 0.1137 - val_accuracy: 0.9040 - val_loss: 0.2641\n",
      "Epoch 141/500\n",
      "\u001B[1m31/31\u001B[0m \u001B[32m━━━━━━━━━━━━━━━━━━━━\u001B[0m\u001B[37m\u001B[0m \u001B[1m0s\u001B[0m 9ms/step - accuracy: 0.9420 - loss: 0.1268 - val_accuracy: 0.9109 - val_loss: 0.2637\n",
      "Epoch 142/500\n",
      "\u001B[1m31/31\u001B[0m \u001B[32m━━━━━━━━━━━━━━━━━━━━\u001B[0m\u001B[37m\u001B[0m \u001B[1m0s\u001B[0m 8ms/step - accuracy: 0.9459 - loss: 0.1216 - val_accuracy: 0.9056 - val_loss: 0.2610\n",
      "Epoch 143/500\n",
      "\u001B[1m31/31\u001B[0m \u001B[32m━━━━━━━━━━━━━━━━━━━━\u001B[0m\u001B[37m\u001B[0m \u001B[1m0s\u001B[0m 8ms/step - accuracy: 0.9475 - loss: 0.1200 - val_accuracy: 0.9053 - val_loss: 0.2760\n",
      "Epoch 144/500\n",
      "\u001B[1m31/31\u001B[0m \u001B[32m━━━━━━━━━━━━━━━━━━━━\u001B[0m\u001B[37m\u001B[0m \u001B[1m0s\u001B[0m 9ms/step - accuracy: 0.9494 - loss: 0.1118 - val_accuracy: 0.9096 - val_loss: 0.2551\n",
      "Epoch 145/500\n",
      "\u001B[1m31/31\u001B[0m \u001B[32m━━━━━━━━━━━━━━━━━━━━\u001B[0m\u001B[37m\u001B[0m \u001B[1m0s\u001B[0m 10ms/step - accuracy: 0.9435 - loss: 0.1231 - val_accuracy: 0.9069 - val_loss: 0.2544\n",
      "Epoch 146/500\n",
      "\u001B[1m31/31\u001B[0m \u001B[32m━━━━━━━━━━━━━━━━━━━━\u001B[0m\u001B[37m\u001B[0m \u001B[1m0s\u001B[0m 8ms/step - accuracy: 0.9515 - loss: 0.1062 - val_accuracy: 0.9047 - val_loss: 0.2695\n",
      "Epoch 147/500\n",
      "\u001B[1m31/31\u001B[0m \u001B[32m━━━━━━━━━━━━━━━━━━━━\u001B[0m\u001B[37m\u001B[0m \u001B[1m0s\u001B[0m 8ms/step - accuracy: 0.9470 - loss: 0.1173 - val_accuracy: 0.9021 - val_loss: 0.2845\n",
      "Epoch 148/500\n",
      "\u001B[1m31/31\u001B[0m \u001B[32m━━━━━━━━━━━━━━━━━━━━\u001B[0m\u001B[37m\u001B[0m \u001B[1m0s\u001B[0m 8ms/step - accuracy: 0.9489 - loss: 0.1116 - val_accuracy: 0.9015 - val_loss: 0.2731\n",
      "Epoch 149/500\n",
      "\u001B[1m31/31\u001B[0m \u001B[32m━━━━━━━━━━━━━━━━━━━━\u001B[0m\u001B[37m\u001B[0m \u001B[1m0s\u001B[0m 9ms/step - accuracy: 0.9458 - loss: 0.1196 - val_accuracy: 0.9096 - val_loss: 0.2719\n",
      "Epoch 150/500\n",
      "\u001B[1m31/31\u001B[0m \u001B[32m━━━━━━━━━━━━━━━━━━━━\u001B[0m\u001B[37m\u001B[0m \u001B[1m0s\u001B[0m 8ms/step - accuracy: 0.9502 - loss: 0.1120 - val_accuracy: 0.9076 - val_loss: 0.2682\n",
      "Epoch 151/500\n",
      "\u001B[1m31/31\u001B[0m \u001B[32m━━━━━━━━━━━━━━━━━━━━\u001B[0m\u001B[37m\u001B[0m \u001B[1m0s\u001B[0m 9ms/step - accuracy: 0.9476 - loss: 0.1138 - val_accuracy: 0.9071 - val_loss: 0.2736\n",
      "Epoch 152/500\n",
      "\u001B[1m31/31\u001B[0m \u001B[32m━━━━━━━━━━━━━━━━━━━━\u001B[0m\u001B[37m\u001B[0m \u001B[1m0s\u001B[0m 9ms/step - accuracy: 0.9479 - loss: 0.1119 - val_accuracy: 0.9053 - val_loss: 0.2633\n",
      "Epoch 153/500\n",
      "\u001B[1m31/31\u001B[0m \u001B[32m━━━━━━━━━━━━━━━━━━━━\u001B[0m\u001B[37m\u001B[0m \u001B[1m0s\u001B[0m 8ms/step - accuracy: 0.9458 - loss: 0.1150 - val_accuracy: 0.9139 - val_loss: 0.2671\n",
      "Epoch 154/500\n",
      "\u001B[1m31/31\u001B[0m \u001B[32m━━━━━━━━━━━━━━━━━━━━\u001B[0m\u001B[37m\u001B[0m \u001B[1m0s\u001B[0m 9ms/step - accuracy: 0.9499 - loss: 0.1049 - val_accuracy: 0.9079 - val_loss: 0.2750\n",
      "Epoch 155/500\n",
      "\u001B[1m31/31\u001B[0m \u001B[32m━━━━━━━━━━━━━━━━━━━━\u001B[0m\u001B[37m\u001B[0m \u001B[1m0s\u001B[0m 9ms/step - accuracy: 0.9447 - loss: 0.1226 - val_accuracy: 0.9068 - val_loss: 0.2687\n",
      "Epoch 156/500\n",
      "\u001B[1m31/31\u001B[0m \u001B[32m━━━━━━━━━━━━━━━━━━━━\u001B[0m\u001B[37m\u001B[0m \u001B[1m0s\u001B[0m 9ms/step - accuracy: 0.9503 - loss: 0.1092 - val_accuracy: 0.9079 - val_loss: 0.2715\n",
      "Epoch 157/500\n",
      "\u001B[1m31/31\u001B[0m \u001B[32m━━━━━━━━━━━━━━━━━━━━\u001B[0m\u001B[37m\u001B[0m \u001B[1m0s\u001B[0m 9ms/step - accuracy: 0.9487 - loss: 0.1118 - val_accuracy: 0.9076 - val_loss: 0.2682\n",
      "Epoch 158/500\n",
      "\u001B[1m31/31\u001B[0m \u001B[32m━━━━━━━━━━━━━━━━━━━━\u001B[0m\u001B[37m\u001B[0m \u001B[1m0s\u001B[0m 9ms/step - accuracy: 0.9486 - loss: 0.1116 - val_accuracy: 0.9043 - val_loss: 0.2690\n",
      "Epoch 159/500\n",
      "\u001B[1m31/31\u001B[0m \u001B[32m━━━━━━━━━━━━━━━━━━━━\u001B[0m\u001B[37m\u001B[0m \u001B[1m0s\u001B[0m 10ms/step - accuracy: 0.9509 - loss: 0.1033 - val_accuracy: 0.9041 - val_loss: 0.2932\n",
      "Epoch 160/500\n",
      "\u001B[1m31/31\u001B[0m \u001B[32m━━━━━━━━━━━━━━━━━━━━\u001B[0m\u001B[37m\u001B[0m \u001B[1m0s\u001B[0m 10ms/step - accuracy: 0.9474 - loss: 0.1095 - val_accuracy: 0.9083 - val_loss: 0.2811\n",
      "Epoch 161/500\n",
      "\u001B[1m31/31\u001B[0m \u001B[32m━━━━━━━━━━━━━━━━━━━━\u001B[0m\u001B[37m\u001B[0m \u001B[1m0s\u001B[0m 9ms/step - accuracy: 0.9485 - loss: 0.1061 - val_accuracy: 0.9034 - val_loss: 0.2740\n",
      "Epoch 162/500\n",
      "\u001B[1m31/31\u001B[0m \u001B[32m━━━━━━━━━━━━━━━━━━━━\u001B[0m\u001B[37m\u001B[0m \u001B[1m0s\u001B[0m 9ms/step - accuracy: 0.9489 - loss: 0.1166 - val_accuracy: 0.9103 - val_loss: 0.2809\n",
      "Epoch 163/500\n",
      "\u001B[1m31/31\u001B[0m \u001B[32m━━━━━━━━━━━━━━━━━━━━\u001B[0m\u001B[37m\u001B[0m \u001B[1m0s\u001B[0m 10ms/step - accuracy: 0.9512 - loss: 0.1052 - val_accuracy: 0.9050 - val_loss: 0.2814\n",
      "Epoch 164/500\n",
      "\u001B[1m31/31\u001B[0m \u001B[32m━━━━━━━━━━━━━━━━━━━━\u001B[0m\u001B[37m\u001B[0m \u001B[1m0s\u001B[0m 9ms/step - accuracy: 0.9464 - loss: 0.1140 - val_accuracy: 0.9099 - val_loss: 0.2690\n",
      "Epoch 165/500\n",
      "\u001B[1m31/31\u001B[0m \u001B[32m━━━━━━━━━━━━━━━━━━━━\u001B[0m\u001B[37m\u001B[0m \u001B[1m0s\u001B[0m 8ms/step - accuracy: 0.9505 - loss: 0.1082 - val_accuracy: 0.9036 - val_loss: 0.2681\n",
      "Epoch 166/500\n",
      "\u001B[1m31/31\u001B[0m \u001B[32m━━━━━━━━━━━━━━━━━━━━\u001B[0m\u001B[37m\u001B[0m \u001B[1m0s\u001B[0m 8ms/step - accuracy: 0.9497 - loss: 0.1073 - val_accuracy: 0.9141 - val_loss: 0.2666\n",
      "Epoch 167/500\n",
      "\u001B[1m31/31\u001B[0m \u001B[32m━━━━━━━━━━━━━━━━━━━━\u001B[0m\u001B[37m\u001B[0m \u001B[1m0s\u001B[0m 8ms/step - accuracy: 0.9491 - loss: 0.1129 - val_accuracy: 0.9094 - val_loss: 0.2749\n",
      "Epoch 168/500\n",
      "\u001B[1m31/31\u001B[0m \u001B[32m━━━━━━━━━━━━━━━━━━━━\u001B[0m\u001B[37m\u001B[0m \u001B[1m0s\u001B[0m 8ms/step - accuracy: 0.9481 - loss: 0.1093 - val_accuracy: 0.9058 - val_loss: 0.2709\n",
      "Epoch 169/500\n",
      "\u001B[1m31/31\u001B[0m \u001B[32m━━━━━━━━━━━━━━━━━━━━\u001B[0m\u001B[37m\u001B[0m \u001B[1m0s\u001B[0m 8ms/step - accuracy: 0.9476 - loss: 0.1107 - val_accuracy: 0.9061 - val_loss: 0.2738\n",
      "Epoch 170/500\n",
      "\u001B[1m31/31\u001B[0m \u001B[32m━━━━━━━━━━━━━━━━━━━━\u001B[0m\u001B[37m\u001B[0m \u001B[1m0s\u001B[0m 10ms/step - accuracy: 0.9453 - loss: 0.1153 - val_accuracy: 0.9136 - val_loss: 0.2789\n",
      "Epoch 171/500\n",
      "\u001B[1m31/31\u001B[0m \u001B[32m━━━━━━━━━━━━━━━━━━━━\u001B[0m\u001B[37m\u001B[0m \u001B[1m0s\u001B[0m 9ms/step - accuracy: 0.9506 - loss: 0.1100 - val_accuracy: 0.9007 - val_loss: 0.2792\n",
      "Epoch 172/500\n",
      "\u001B[1m31/31\u001B[0m \u001B[32m━━━━━━━━━━━━━━━━━━━━\u001B[0m\u001B[37m\u001B[0m \u001B[1m0s\u001B[0m 8ms/step - accuracy: 0.9492 - loss: 0.1129 - val_accuracy: 0.9069 - val_loss: 0.2739\n",
      "Epoch 173/500\n",
      "\u001B[1m31/31\u001B[0m \u001B[32m━━━━━━━━━━━━━━━━━━━━\u001B[0m\u001B[37m\u001B[0m \u001B[1m0s\u001B[0m 9ms/step - accuracy: 0.9514 - loss: 0.1062 - val_accuracy: 0.9089 - val_loss: 0.2562\n",
      "Epoch 174/500\n",
      "\u001B[1m31/31\u001B[0m \u001B[32m━━━━━━━━━━━━━━━━━━━━\u001B[0m\u001B[37m\u001B[0m \u001B[1m0s\u001B[0m 9ms/step - accuracy: 0.9518 - loss: 0.1068 - val_accuracy: 0.9068 - val_loss: 0.2840\n",
      "Epoch 175/500\n",
      "\u001B[1m31/31\u001B[0m \u001B[32m━━━━━━━━━━━━━━━━━━━━\u001B[0m\u001B[37m\u001B[0m \u001B[1m0s\u001B[0m 9ms/step - accuracy: 0.9510 - loss: 0.1101 - val_accuracy: 0.9063 - val_loss: 0.2968\n",
      "Epoch 176/500\n",
      "\u001B[1m31/31\u001B[0m \u001B[32m━━━━━━━━━━━━━━━━━━━━\u001B[0m\u001B[37m\u001B[0m \u001B[1m0s\u001B[0m 8ms/step - accuracy: 0.9486 - loss: 0.1127 - val_accuracy: 0.9063 - val_loss: 0.2751\n",
      "Epoch 177/500\n",
      "\u001B[1m31/31\u001B[0m \u001B[32m━━━━━━━━━━━━━━━━━━━━\u001B[0m\u001B[37m\u001B[0m \u001B[1m0s\u001B[0m 8ms/step - accuracy: 0.9499 - loss: 0.1052 - val_accuracy: 0.9089 - val_loss: 0.2775\n",
      "Epoch 178/500\n",
      "\u001B[1m31/31\u001B[0m \u001B[32m━━━━━━━━━━━━━━━━━━━━\u001B[0m\u001B[37m\u001B[0m \u001B[1m0s\u001B[0m 9ms/step - accuracy: 0.9555 - loss: 0.1014 - val_accuracy: 0.9061 - val_loss: 0.2842\n",
      "Epoch 179/500\n",
      "\u001B[1m31/31\u001B[0m \u001B[32m━━━━━━━━━━━━━━━━━━━━\u001B[0m\u001B[37m\u001B[0m \u001B[1m0s\u001B[0m 9ms/step - accuracy: 0.9507 - loss: 0.1016 - val_accuracy: 0.9066 - val_loss: 0.2824\n",
      "Epoch 180/500\n",
      "\u001B[1m31/31\u001B[0m \u001B[32m━━━━━━━━━━━━━━━━━━━━\u001B[0m\u001B[37m\u001B[0m \u001B[1m0s\u001B[0m 9ms/step - accuracy: 0.9519 - loss: 0.1047 - val_accuracy: 0.9031 - val_loss: 0.2669\n",
      "Epoch 181/500\n",
      "\u001B[1m31/31\u001B[0m \u001B[32m━━━━━━━━━━━━━━━━━━━━\u001B[0m\u001B[37m\u001B[0m \u001B[1m0s\u001B[0m 9ms/step - accuracy: 0.9520 - loss: 0.1030 - val_accuracy: 0.9083 - val_loss: 0.2747\n",
      "Epoch 182/500\n",
      "\u001B[1m31/31\u001B[0m \u001B[32m━━━━━━━━━━━━━━━━━━━━\u001B[0m\u001B[37m\u001B[0m \u001B[1m0s\u001B[0m 8ms/step - accuracy: 0.9487 - loss: 0.1083 - val_accuracy: 0.9099 - val_loss: 0.2720\n",
      "Epoch 183/500\n",
      "\u001B[1m31/31\u001B[0m \u001B[32m━━━━━━━━━━━━━━━━━━━━\u001B[0m\u001B[37m\u001B[0m \u001B[1m0s\u001B[0m 8ms/step - accuracy: 0.9504 - loss: 0.1086 - val_accuracy: 0.9031 - val_loss: 0.2649\n",
      "Epoch 184/500\n",
      "\u001B[1m31/31\u001B[0m \u001B[32m━━━━━━━━━━━━━━━━━━━━\u001B[0m\u001B[37m\u001B[0m \u001B[1m0s\u001B[0m 9ms/step - accuracy: 0.9526 - loss: 0.1073 - val_accuracy: 0.9126 - val_loss: 0.2701\n",
      "Epoch 185/500\n",
      "\u001B[1m31/31\u001B[0m \u001B[32m━━━━━━━━━━━━━━━━━━━━\u001B[0m\u001B[37m\u001B[0m \u001B[1m0s\u001B[0m 9ms/step - accuracy: 0.9532 - loss: 0.1032 - val_accuracy: 0.9030 - val_loss: 0.2670\n",
      "Epoch 186/500\n",
      "\u001B[1m31/31\u001B[0m \u001B[32m━━━━━━━━━━━━━━━━━━━━\u001B[0m\u001B[37m\u001B[0m \u001B[1m0s\u001B[0m 8ms/step - accuracy: 0.9465 - loss: 0.1158 - val_accuracy: 0.9050 - val_loss: 0.2799\n",
      "Epoch 187/500\n",
      "\u001B[1m31/31\u001B[0m \u001B[32m━━━━━━━━━━━━━━━━━━━━\u001B[0m\u001B[37m\u001B[0m \u001B[1m0s\u001B[0m 9ms/step - accuracy: 0.9510 - loss: 0.1020 - val_accuracy: 0.9086 - val_loss: 0.2814\n",
      "Epoch 188/500\n",
      "\u001B[1m31/31\u001B[0m \u001B[32m━━━━━━━━━━━━━━━━━━━━\u001B[0m\u001B[37m\u001B[0m \u001B[1m0s\u001B[0m 9ms/step - accuracy: 0.9501 - loss: 0.0994 - val_accuracy: 0.9053 - val_loss: 0.2767\n",
      "Epoch 189/500\n",
      "\u001B[1m31/31\u001B[0m \u001B[32m━━━━━━━━━━━━━━━━━━━━\u001B[0m\u001B[37m\u001B[0m \u001B[1m0s\u001B[0m 9ms/step - accuracy: 0.9522 - loss: 0.1022 - val_accuracy: 0.9111 - val_loss: 0.2706\n",
      "Epoch 190/500\n",
      "\u001B[1m31/31\u001B[0m \u001B[32m━━━━━━━━━━━━━━━━━━━━\u001B[0m\u001B[37m\u001B[0m \u001B[1m0s\u001B[0m 9ms/step - accuracy: 0.9514 - loss: 0.1030 - val_accuracy: 0.9063 - val_loss: 0.2813\n",
      "Epoch 191/500\n",
      "\u001B[1m31/31\u001B[0m \u001B[32m━━━━━━━━━━━━━━━━━━━━\u001B[0m\u001B[37m\u001B[0m \u001B[1m0s\u001B[0m 9ms/step - accuracy: 0.9512 - loss: 0.1043 - val_accuracy: 0.9004 - val_loss: 0.2844\n",
      "Epoch 192/500\n",
      "\u001B[1m31/31\u001B[0m \u001B[32m━━━━━━━━━━━━━━━━━━━━\u001B[0m\u001B[37m\u001B[0m \u001B[1m0s\u001B[0m 9ms/step - accuracy: 0.9555 - loss: 0.0929 - val_accuracy: 0.9091 - val_loss: 0.2980\n",
      "Epoch 193/500\n",
      "\u001B[1m31/31\u001B[0m \u001B[32m━━━━━━━━━━━━━━━━━━━━\u001B[0m\u001B[37m\u001B[0m \u001B[1m0s\u001B[0m 8ms/step - accuracy: 0.9493 - loss: 0.1111 - val_accuracy: 0.9152 - val_loss: 0.2721\n",
      "Epoch 194/500\n",
      "\u001B[1m31/31\u001B[0m \u001B[32m━━━━━━━━━━━━━━━━━━━━\u001B[0m\u001B[37m\u001B[0m \u001B[1m0s\u001B[0m 9ms/step - accuracy: 0.9539 - loss: 0.0999 - val_accuracy: 0.9050 - val_loss: 0.2857\n",
      "Epoch 195/500\n",
      "\u001B[1m31/31\u001B[0m \u001B[32m━━━━━━━━━━━━━━━━━━━━\u001B[0m\u001B[37m\u001B[0m \u001B[1m0s\u001B[0m 8ms/step - accuracy: 0.9500 - loss: 0.1103 - val_accuracy: 0.9076 - val_loss: 0.2680\n",
      "Epoch 196/500\n",
      "\u001B[1m31/31\u001B[0m \u001B[32m━━━━━━━━━━━━━━━━━━━━\u001B[0m\u001B[37m\u001B[0m \u001B[1m0s\u001B[0m 9ms/step - accuracy: 0.9473 - loss: 0.1080 - val_accuracy: 0.9059 - val_loss: 0.2872\n",
      "Epoch 197/500\n",
      "\u001B[1m31/31\u001B[0m \u001B[32m━━━━━━━━━━━━━━━━━━━━\u001B[0m\u001B[37m\u001B[0m \u001B[1m0s\u001B[0m 9ms/step - accuracy: 0.9516 - loss: 0.1028 - val_accuracy: 0.9051 - val_loss: 0.2812\n",
      "Epoch 198/500\n",
      "\u001B[1m31/31\u001B[0m \u001B[32m━━━━━━━━━━━━━━━━━━━━\u001B[0m\u001B[37m\u001B[0m \u001B[1m0s\u001B[0m 9ms/step - accuracy: 0.9537 - loss: 0.0978 - val_accuracy: 0.9045 - val_loss: 0.2840\n",
      "Epoch 199/500\n",
      "\u001B[1m31/31\u001B[0m \u001B[32m━━━━━━━━━━━━━━━━━━━━\u001B[0m\u001B[37m\u001B[0m \u001B[1m0s\u001B[0m 9ms/step - accuracy: 0.9530 - loss: 0.1050 - val_accuracy: 0.9108 - val_loss: 0.2832\n",
      "Epoch 200/500\n",
      "\u001B[1m31/31\u001B[0m \u001B[32m━━━━━━━━━━━━━━━━━━━━\u001B[0m\u001B[37m\u001B[0m \u001B[1m0s\u001B[0m 8ms/step - accuracy: 0.9467 - loss: 0.1117 - val_accuracy: 0.9141 - val_loss: 0.2765\n",
      "Epoch 201/500\n",
      "\u001B[1m31/31\u001B[0m \u001B[32m━━━━━━━━━━━━━━━━━━━━\u001B[0m\u001B[37m\u001B[0m \u001B[1m0s\u001B[0m 8ms/step - accuracy: 0.9494 - loss: 0.1031 - val_accuracy: 0.9101 - val_loss: 0.2879\n",
      "Epoch 202/500\n",
      "\u001B[1m31/31\u001B[0m \u001B[32m━━━━━━━━━━━━━━━━━━━━\u001B[0m\u001B[37m\u001B[0m \u001B[1m0s\u001B[0m 10ms/step - accuracy: 0.9513 - loss: 0.1065 - val_accuracy: 0.9048 - val_loss: 0.2892\n",
      "Epoch 203/500\n",
      "\u001B[1m31/31\u001B[0m \u001B[32m━━━━━━━━━━━━━━━━━━━━\u001B[0m\u001B[37m\u001B[0m \u001B[1m0s\u001B[0m 10ms/step - accuracy: 0.9533 - loss: 0.1028 - val_accuracy: 0.9123 - val_loss: 0.2807\n",
      "Epoch 204/500\n",
      "\u001B[1m31/31\u001B[0m \u001B[32m━━━━━━━━━━━━━━━━━━━━\u001B[0m\u001B[37m\u001B[0m \u001B[1m0s\u001B[0m 9ms/step - accuracy: 0.9517 - loss: 0.1065 - val_accuracy: 0.9036 - val_loss: 0.2766\n",
      "Epoch 205/500\n",
      "\u001B[1m31/31\u001B[0m \u001B[32m━━━━━━━━━━━━━━━━━━━━\u001B[0m\u001B[37m\u001B[0m \u001B[1m0s\u001B[0m 11ms/step - accuracy: 0.9524 - loss: 0.0999 - val_accuracy: 0.9101 - val_loss: 0.2659\n",
      "Epoch 206/500\n",
      "\u001B[1m31/31\u001B[0m \u001B[32m━━━━━━━━━━━━━━━━━━━━\u001B[0m\u001B[37m\u001B[0m \u001B[1m0s\u001B[0m 10ms/step - accuracy: 0.9502 - loss: 0.1016 - val_accuracy: 0.9166 - val_loss: 0.2797\n",
      "Epoch 207/500\n",
      "\u001B[1m31/31\u001B[0m \u001B[32m━━━━━━━━━━━━━━━━━━━━\u001B[0m\u001B[37m\u001B[0m \u001B[1m0s\u001B[0m 9ms/step - accuracy: 0.9543 - loss: 0.1016 - val_accuracy: 0.9093 - val_loss: 0.2899\n",
      "Epoch 208/500\n",
      "\u001B[1m31/31\u001B[0m \u001B[32m━━━━━━━━━━━━━━━━━━━━\u001B[0m\u001B[37m\u001B[0m \u001B[1m0s\u001B[0m 10ms/step - accuracy: 0.9486 - loss: 0.1097 - val_accuracy: 0.9149 - val_loss: 0.2839\n",
      "Epoch 209/500\n",
      "\u001B[1m31/31\u001B[0m \u001B[32m━━━━━━━━━━━━━━━━━━━━\u001B[0m\u001B[37m\u001B[0m \u001B[1m0s\u001B[0m 9ms/step - accuracy: 0.9483 - loss: 0.1082 - val_accuracy: 0.9048 - val_loss: 0.2893\n",
      "Epoch 210/500\n",
      "\u001B[1m31/31\u001B[0m \u001B[32m━━━━━━━━━━━━━━━━━━━━\u001B[0m\u001B[37m\u001B[0m \u001B[1m0s\u001B[0m 9ms/step - accuracy: 0.9523 - loss: 0.1031 - val_accuracy: 0.9099 - val_loss: 0.2807\n",
      "Epoch 211/500\n",
      "\u001B[1m31/31\u001B[0m \u001B[32m━━━━━━━━━━━━━━━━━━━━\u001B[0m\u001B[37m\u001B[0m \u001B[1m0s\u001B[0m 9ms/step - accuracy: 0.9566 - loss: 0.0979 - val_accuracy: 0.9124 - val_loss: 0.2697\n",
      "Epoch 212/500\n",
      "\u001B[1m31/31\u001B[0m \u001B[32m━━━━━━━━━━━━━━━━━━━━\u001B[0m\u001B[37m\u001B[0m \u001B[1m0s\u001B[0m 9ms/step - accuracy: 0.9508 - loss: 0.1003 - val_accuracy: 0.9153 - val_loss: 0.2835\n",
      "Epoch 213/500\n",
      "\u001B[1m31/31\u001B[0m \u001B[32m━━━━━━━━━━━━━━━━━━━━\u001B[0m\u001B[37m\u001B[0m \u001B[1m0s\u001B[0m 10ms/step - accuracy: 0.9497 - loss: 0.1114 - val_accuracy: 0.9089 - val_loss: 0.2843\n",
      "Epoch 214/500\n",
      "\u001B[1m31/31\u001B[0m \u001B[32m━━━━━━━━━━━━━━━━━━━━\u001B[0m\u001B[37m\u001B[0m \u001B[1m0s\u001B[0m 8ms/step - accuracy: 0.9533 - loss: 0.1021 - val_accuracy: 0.9091 - val_loss: 0.2711\n",
      "Epoch 215/500\n",
      "\u001B[1m31/31\u001B[0m \u001B[32m━━━━━━━━━━━━━━━━━━━━\u001B[0m\u001B[37m\u001B[0m \u001B[1m0s\u001B[0m 8ms/step - accuracy: 0.9495 - loss: 0.1062 - val_accuracy: 0.9036 - val_loss: 0.2763\n",
      "Epoch 216/500\n",
      "\u001B[1m31/31\u001B[0m \u001B[32m━━━━━━━━━━━━━━━━━━━━\u001B[0m\u001B[37m\u001B[0m \u001B[1m0s\u001B[0m 8ms/step - accuracy: 0.9491 - loss: 0.1067 - val_accuracy: 0.9089 - val_loss: 0.2773\n",
      "Epoch 217/500\n",
      "\u001B[1m31/31\u001B[0m \u001B[32m━━━━━━━━━━━━━━━━━━━━\u001B[0m\u001B[37m\u001B[0m \u001B[1m0s\u001B[0m 9ms/step - accuracy: 0.9506 - loss: 0.1045 - val_accuracy: 0.9133 - val_loss: 0.2653\n",
      "Epoch 218/500\n",
      "\u001B[1m31/31\u001B[0m \u001B[32m━━━━━━━━━━━━━━━━━━━━\u001B[0m\u001B[37m\u001B[0m \u001B[1m0s\u001B[0m 8ms/step - accuracy: 0.9507 - loss: 0.1041 - val_accuracy: 0.9123 - val_loss: 0.2687\n",
      "Epoch 219/500\n",
      "\u001B[1m31/31\u001B[0m \u001B[32m━━━━━━━━━━━━━━━━━━━━\u001B[0m\u001B[37m\u001B[0m \u001B[1m0s\u001B[0m 9ms/step - accuracy: 0.9503 - loss: 0.1038 - val_accuracy: 0.9109 - val_loss: 0.2627\n",
      "Epoch 220/500\n",
      "\u001B[1m31/31\u001B[0m \u001B[32m━━━━━━━━━━━━━━━━━━━━\u001B[0m\u001B[37m\u001B[0m \u001B[1m0s\u001B[0m 10ms/step - accuracy: 0.9491 - loss: 0.1021 - val_accuracy: 0.9106 - val_loss: 0.2934\n",
      "Epoch 221/500\n",
      "\u001B[1m31/31\u001B[0m \u001B[32m━━━━━━━━━━━━━━━━━━━━\u001B[0m\u001B[37m\u001B[0m \u001B[1m0s\u001B[0m 9ms/step - accuracy: 0.9520 - loss: 0.0968 - val_accuracy: 0.9111 - val_loss: 0.2665\n",
      "Epoch 222/500\n",
      "\u001B[1m31/31\u001B[0m \u001B[32m━━━━━━━━━━━━━━━━━━━━\u001B[0m\u001B[37m\u001B[0m \u001B[1m0s\u001B[0m 8ms/step - accuracy: 0.9520 - loss: 0.1016 - val_accuracy: 0.9010 - val_loss: 0.2734\n",
      "Epoch 223/500\n",
      "\u001B[1m31/31\u001B[0m \u001B[32m━━━━━━━━━━━━━━━━━━━━\u001B[0m\u001B[37m\u001B[0m \u001B[1m0s\u001B[0m 10ms/step - accuracy: 0.9529 - loss: 0.0966 - val_accuracy: 0.9030 - val_loss: 0.2861\n",
      "Epoch 224/500\n",
      "\u001B[1m31/31\u001B[0m \u001B[32m━━━━━━━━━━━━━━━━━━━━\u001B[0m\u001B[37m\u001B[0m \u001B[1m0s\u001B[0m 9ms/step - accuracy: 0.9497 - loss: 0.1065 - val_accuracy: 0.9083 - val_loss: 0.3001\n",
      "Epoch 225/500\n",
      "\u001B[1m31/31\u001B[0m \u001B[32m━━━━━━━━━━━━━━━━━━━━\u001B[0m\u001B[37m\u001B[0m \u001B[1m0s\u001B[0m 9ms/step - accuracy: 0.9522 - loss: 0.0986 - val_accuracy: 0.9136 - val_loss: 0.2844\n",
      "Epoch 226/500\n",
      "\u001B[1m31/31\u001B[0m \u001B[32m━━━━━━━━━━━━━━━━━━━━\u001B[0m\u001B[37m\u001B[0m \u001B[1m0s\u001B[0m 9ms/step - accuracy: 0.9503 - loss: 0.1056 - val_accuracy: 0.9033 - val_loss: 0.2865\n",
      "Epoch 227/500\n",
      "\u001B[1m31/31\u001B[0m \u001B[32m━━━━━━━━━━━━━━━━━━━━\u001B[0m\u001B[37m\u001B[0m \u001B[1m0s\u001B[0m 9ms/step - accuracy: 0.9537 - loss: 0.0958 - val_accuracy: 0.9099 - val_loss: 0.2879\n",
      "Epoch 228/500\n",
      "\u001B[1m31/31\u001B[0m \u001B[32m━━━━━━━━━━━━━━━━━━━━\u001B[0m\u001B[37m\u001B[0m \u001B[1m0s\u001B[0m 8ms/step - accuracy: 0.9501 - loss: 0.1020 - val_accuracy: 0.9101 - val_loss: 0.2860\n",
      "Epoch 229/500\n",
      "\u001B[1m31/31\u001B[0m \u001B[32m━━━━━━━━━━━━━━━━━━━━\u001B[0m\u001B[37m\u001B[0m \u001B[1m0s\u001B[0m 10ms/step - accuracy: 0.9519 - loss: 0.1027 - val_accuracy: 0.9126 - val_loss: 0.2855\n",
      "Epoch 230/500\n",
      "\u001B[1m31/31\u001B[0m \u001B[32m━━━━━━━━━━━━━━━━━━━━\u001B[0m\u001B[37m\u001B[0m \u001B[1m0s\u001B[0m 8ms/step - accuracy: 0.9515 - loss: 0.1047 - val_accuracy: 0.9152 - val_loss: 0.2850\n",
      "Epoch 231/500\n",
      "\u001B[1m31/31\u001B[0m \u001B[32m━━━━━━━━━━━━━━━━━━━━\u001B[0m\u001B[37m\u001B[0m \u001B[1m0s\u001B[0m 10ms/step - accuracy: 0.9497 - loss: 0.1052 - val_accuracy: 0.9104 - val_loss: 0.2770\n",
      "Epoch 232/500\n",
      "\u001B[1m31/31\u001B[0m \u001B[32m━━━━━━━━━━━━━━━━━━━━\u001B[0m\u001B[37m\u001B[0m \u001B[1m0s\u001B[0m 9ms/step - accuracy: 0.9516 - loss: 0.1053 - val_accuracy: 0.9038 - val_loss: 0.2815\n",
      "Epoch 233/500\n",
      "\u001B[1m31/31\u001B[0m \u001B[32m━━━━━━━━━━━━━━━━━━━━\u001B[0m\u001B[37m\u001B[0m \u001B[1m0s\u001B[0m 10ms/step - accuracy: 0.9535 - loss: 0.0986 - val_accuracy: 0.9128 - val_loss: 0.2967\n",
      "Epoch 234/500\n",
      "\u001B[1m31/31\u001B[0m \u001B[32m━━━━━━━━━━━━━━━━━━━━\u001B[0m\u001B[37m\u001B[0m \u001B[1m0s\u001B[0m 10ms/step - accuracy: 0.9525 - loss: 0.0962 - val_accuracy: 0.9081 - val_loss: 0.2996\n",
      "Epoch 235/500\n",
      "\u001B[1m31/31\u001B[0m \u001B[32m━━━━━━━━━━━━━━━━━━━━\u001B[0m\u001B[37m\u001B[0m \u001B[1m0s\u001B[0m 9ms/step - accuracy: 0.9524 - loss: 0.0968 - val_accuracy: 0.9126 - val_loss: 0.2896\n",
      "Epoch 236/500\n",
      "\u001B[1m31/31\u001B[0m \u001B[32m━━━━━━━━━━━━━━━━━━━━\u001B[0m\u001B[37m\u001B[0m \u001B[1m0s\u001B[0m 9ms/step - accuracy: 0.9502 - loss: 0.0994 - val_accuracy: 0.9049 - val_loss: 0.2906\n",
      "Epoch 237/500\n",
      "\u001B[1m31/31\u001B[0m \u001B[32m━━━━━━━━━━━━━━━━━━━━\u001B[0m\u001B[37m\u001B[0m \u001B[1m0s\u001B[0m 9ms/step - accuracy: 0.9505 - loss: 0.0981 - val_accuracy: 0.9129 - val_loss: 0.2931\n",
      "Epoch 238/500\n",
      "\u001B[1m31/31\u001B[0m \u001B[32m━━━━━━━━━━━━━━━━━━━━\u001B[0m\u001B[37m\u001B[0m \u001B[1m0s\u001B[0m 8ms/step - accuracy: 0.9497 - loss: 0.1024 - val_accuracy: 0.9136 - val_loss: 0.2960\n",
      "Epoch 239/500\n",
      "\u001B[1m31/31\u001B[0m \u001B[32m━━━━━━━━━━━━━━━━━━━━\u001B[0m\u001B[37m\u001B[0m \u001B[1m0s\u001B[0m 8ms/step - accuracy: 0.9501 - loss: 0.0998 - val_accuracy: 0.9113 - val_loss: 0.2741\n",
      "Epoch 240/500\n",
      "\u001B[1m31/31\u001B[0m \u001B[32m━━━━━━━━━━━━━━━━━━━━\u001B[0m\u001B[37m\u001B[0m \u001B[1m0s\u001B[0m 9ms/step - accuracy: 0.9503 - loss: 0.1007 - val_accuracy: 0.9116 - val_loss: 0.2925\n",
      "Epoch 241/500\n",
      "\u001B[1m31/31\u001B[0m \u001B[32m━━━━━━━━━━━━━━━━━━━━\u001B[0m\u001B[37m\u001B[0m \u001B[1m0s\u001B[0m 10ms/step - accuracy: 0.9526 - loss: 0.0967 - val_accuracy: 0.9065 - val_loss: 0.3002\n",
      "Epoch 242/500\n",
      "\u001B[1m31/31\u001B[0m \u001B[32m━━━━━━━━━━━━━━━━━━━━\u001B[0m\u001B[37m\u001B[0m \u001B[1m0s\u001B[0m 8ms/step - accuracy: 0.9509 - loss: 0.0996 - val_accuracy: 0.9045 - val_loss: 0.2824\n",
      "Epoch 243/500\n",
      "\u001B[1m31/31\u001B[0m \u001B[32m━━━━━━━━━━━━━━━━━━━━\u001B[0m\u001B[37m\u001B[0m \u001B[1m0s\u001B[0m 9ms/step - accuracy: 0.9512 - loss: 0.1048 - val_accuracy: 0.9103 - val_loss: 0.2800\n",
      "Epoch 244/500\n",
      "\u001B[1m31/31\u001B[0m \u001B[32m━━━━━━━━━━━━━━━━━━━━\u001B[0m\u001B[37m\u001B[0m \u001B[1m0s\u001B[0m 8ms/step - accuracy: 0.9539 - loss: 0.0959 - val_accuracy: 0.9041 - val_loss: 0.3068\n",
      "Epoch 245/500\n",
      "\u001B[1m31/31\u001B[0m \u001B[32m━━━━━━━━━━━━━━━━━━━━\u001B[0m\u001B[37m\u001B[0m \u001B[1m0s\u001B[0m 8ms/step - accuracy: 0.9491 - loss: 0.1021 - val_accuracy: 0.9111 - val_loss: 0.2802\n",
      "Epoch 246/500\n",
      "\u001B[1m31/31\u001B[0m \u001B[32m━━━━━━━━━━━━━━━━━━━━\u001B[0m\u001B[37m\u001B[0m \u001B[1m0s\u001B[0m 8ms/step - accuracy: 0.9530 - loss: 0.0990 - val_accuracy: 0.9123 - val_loss: 0.2706\n",
      "Epoch 247/500\n",
      "\u001B[1m31/31\u001B[0m \u001B[32m━━━━━━━━━━━━━━━━━━━━\u001B[0m\u001B[37m\u001B[0m \u001B[1m0s\u001B[0m 9ms/step - accuracy: 0.9539 - loss: 0.0952 - val_accuracy: 0.9146 - val_loss: 0.2787\n",
      "Epoch 248/500\n",
      "\u001B[1m31/31\u001B[0m \u001B[32m━━━━━━━━━━━━━━━━━━━━\u001B[0m\u001B[37m\u001B[0m \u001B[1m0s\u001B[0m 9ms/step - accuracy: 0.9513 - loss: 0.0991 - val_accuracy: 0.9086 - val_loss: 0.2987\n",
      "Epoch 249/500\n",
      "\u001B[1m31/31\u001B[0m \u001B[32m━━━━━━━━━━━━━━━━━━━━\u001B[0m\u001B[37m\u001B[0m \u001B[1m0s\u001B[0m 8ms/step - accuracy: 0.9502 - loss: 0.0995 - val_accuracy: 0.9089 - val_loss: 0.2961\n",
      "Epoch 250/500\n",
      "\u001B[1m31/31\u001B[0m \u001B[32m━━━━━━━━━━━━━━━━━━━━\u001B[0m\u001B[37m\u001B[0m \u001B[1m0s\u001B[0m 9ms/step - accuracy: 0.9538 - loss: 0.0959 - val_accuracy: 0.9052 - val_loss: 0.3094\n",
      "Epoch 251/500\n",
      "\u001B[1m31/31\u001B[0m \u001B[32m━━━━━━━━━━━━━━━━━━━━\u001B[0m\u001B[37m\u001B[0m \u001B[1m0s\u001B[0m 8ms/step - accuracy: 0.9533 - loss: 0.0978 - val_accuracy: 0.9033 - val_loss: 0.2951\n",
      "Epoch 252/500\n",
      "\u001B[1m31/31\u001B[0m \u001B[32m━━━━━━━━━━━━━━━━━━━━\u001B[0m\u001B[37m\u001B[0m \u001B[1m0s\u001B[0m 8ms/step - accuracy: 0.9536 - loss: 0.0961 - val_accuracy: 0.9124 - val_loss: 0.3017\n",
      "Epoch 253/500\n",
      "\u001B[1m31/31\u001B[0m \u001B[32m━━━━━━━━━━━━━━━━━━━━\u001B[0m\u001B[37m\u001B[0m \u001B[1m0s\u001B[0m 9ms/step - accuracy: 0.9560 - loss: 0.0906 - val_accuracy: 0.9141 - val_loss: 0.2815\n",
      "Epoch 254/500\n",
      "\u001B[1m31/31\u001B[0m \u001B[32m━━━━━━━━━━━━━━━━━━━━\u001B[0m\u001B[37m\u001B[0m \u001B[1m0s\u001B[0m 8ms/step - accuracy: 0.9493 - loss: 0.1016 - val_accuracy: 0.9139 - val_loss: 0.3000\n",
      "Epoch 255/500\n",
      "\u001B[1m31/31\u001B[0m \u001B[32m━━━━━━━━━━━━━━━━━━━━\u001B[0m\u001B[37m\u001B[0m \u001B[1m0s\u001B[0m 8ms/step - accuracy: 0.9524 - loss: 0.0971 - val_accuracy: 0.9113 - val_loss: 0.2858\n",
      "Epoch 256/500\n",
      "\u001B[1m31/31\u001B[0m \u001B[32m━━━━━━━━━━━━━━━━━━━━\u001B[0m\u001B[37m\u001B[0m \u001B[1m0s\u001B[0m 9ms/step - accuracy: 0.9484 - loss: 0.1019 - val_accuracy: 0.9167 - val_loss: 0.2926\n",
      "Epoch 257/500\n",
      "\u001B[1m31/31\u001B[0m \u001B[32m━━━━━━━━━━━━━━━━━━━━\u001B[0m\u001B[37m\u001B[0m \u001B[1m0s\u001B[0m 9ms/step - accuracy: 0.9511 - loss: 0.1007 - val_accuracy: 0.9020 - val_loss: 0.3016\n",
      "Epoch 258/500\n",
      "\u001B[1m31/31\u001B[0m \u001B[32m━━━━━━━━━━━━━━━━━━━━\u001B[0m\u001B[37m\u001B[0m \u001B[1m0s\u001B[0m 9ms/step - accuracy: 0.9530 - loss: 0.0965 - val_accuracy: 0.9094 - val_loss: 0.2869\n",
      "Epoch 259/500\n",
      "\u001B[1m31/31\u001B[0m \u001B[32m━━━━━━━━━━━━━━━━━━━━\u001B[0m\u001B[37m\u001B[0m \u001B[1m0s\u001B[0m 10ms/step - accuracy: 0.9536 - loss: 0.0914 - val_accuracy: 0.9175 - val_loss: 0.2830\n",
      "Epoch 260/500\n",
      "\u001B[1m31/31\u001B[0m \u001B[32m━━━━━━━━━━━━━━━━━━━━\u001B[0m\u001B[37m\u001B[0m \u001B[1m0s\u001B[0m 9ms/step - accuracy: 0.9524 - loss: 0.1020 - val_accuracy: 0.9159 - val_loss: 0.3064\n",
      "Epoch 261/500\n",
      "\u001B[1m31/31\u001B[0m \u001B[32m━━━━━━━━━━━━━━━━━━━━\u001B[0m\u001B[37m\u001B[0m \u001B[1m0s\u001B[0m 9ms/step - accuracy: 0.9533 - loss: 0.0963 - val_accuracy: 0.9074 - val_loss: 0.2805\n",
      "Epoch 262/500\n",
      "\u001B[1m31/31\u001B[0m \u001B[32m━━━━━━━━━━━━━━━━━━━━\u001B[0m\u001B[37m\u001B[0m \u001B[1m0s\u001B[0m 8ms/step - accuracy: 0.9527 - loss: 0.0951 - val_accuracy: 0.9154 - val_loss: 0.3007\n",
      "Epoch 263/500\n",
      "\u001B[1m31/31\u001B[0m \u001B[32m━━━━━━━━━━━━━━━━━━━━\u001B[0m\u001B[37m\u001B[0m \u001B[1m0s\u001B[0m 10ms/step - accuracy: 0.9534 - loss: 0.0967 - val_accuracy: 0.9139 - val_loss: 0.2940\n",
      "Epoch 264/500\n",
      "\u001B[1m31/31\u001B[0m \u001B[32m━━━━━━━━━━━━━━━━━━━━\u001B[0m\u001B[37m\u001B[0m \u001B[1m0s\u001B[0m 9ms/step - accuracy: 0.9541 - loss: 0.0982 - val_accuracy: 0.9153 - val_loss: 0.2809\n",
      "Epoch 265/500\n",
      "\u001B[1m31/31\u001B[0m \u001B[32m━━━━━━━━━━━━━━━━━━━━\u001B[0m\u001B[37m\u001B[0m \u001B[1m0s\u001B[0m 11ms/step - accuracy: 0.9523 - loss: 0.1002 - val_accuracy: 0.9178 - val_loss: 0.2947\n",
      "Epoch 266/500\n",
      "\u001B[1m31/31\u001B[0m \u001B[32m━━━━━━━━━━━━━━━━━━━━\u001B[0m\u001B[37m\u001B[0m \u001B[1m0s\u001B[0m 9ms/step - accuracy: 0.9497 - loss: 0.1014 - val_accuracy: 0.9017 - val_loss: 0.2946\n",
      "Epoch 267/500\n",
      "\u001B[1m31/31\u001B[0m \u001B[32m━━━━━━━━━━━━━━━━━━━━\u001B[0m\u001B[37m\u001B[0m \u001B[1m0s\u001B[0m 9ms/step - accuracy: 0.9512 - loss: 0.0987 - val_accuracy: 0.9121 - val_loss: 0.2895\n",
      "Epoch 268/500\n",
      "\u001B[1m31/31\u001B[0m \u001B[32m━━━━━━━━━━━━━━━━━━━━\u001B[0m\u001B[37m\u001B[0m \u001B[1m0s\u001B[0m 9ms/step - accuracy: 0.9514 - loss: 0.1019 - val_accuracy: 0.9149 - val_loss: 0.2864\n",
      "Epoch 269/500\n",
      "\u001B[1m31/31\u001B[0m \u001B[32m━━━━━━━━━━━━━━━━━━━━\u001B[0m\u001B[37m\u001B[0m \u001B[1m0s\u001B[0m 9ms/step - accuracy: 0.9536 - loss: 0.0950 - val_accuracy: 0.9114 - val_loss: 0.2929\n",
      "Epoch 270/500\n",
      "\u001B[1m31/31\u001B[0m \u001B[32m━━━━━━━━━━━━━━━━━━━━\u001B[0m\u001B[37m\u001B[0m \u001B[1m0s\u001B[0m 9ms/step - accuracy: 0.9545 - loss: 0.0946 - val_accuracy: 0.9050 - val_loss: 0.2924\n",
      "Epoch 271/500\n",
      "\u001B[1m31/31\u001B[0m \u001B[32m━━━━━━━━━━━━━━━━━━━━\u001B[0m\u001B[37m\u001B[0m \u001B[1m0s\u001B[0m 10ms/step - accuracy: 0.9525 - loss: 0.0999 - val_accuracy: 0.9076 - val_loss: 0.2914\n",
      "Epoch 272/500\n",
      "\u001B[1m31/31\u001B[0m \u001B[32m━━━━━━━━━━━━━━━━━━━━\u001B[0m\u001B[37m\u001B[0m \u001B[1m0s\u001B[0m 9ms/step - accuracy: 0.9525 - loss: 0.0954 - val_accuracy: 0.9070 - val_loss: 0.3009\n",
      "Epoch 273/500\n",
      "\u001B[1m31/31\u001B[0m \u001B[32m━━━━━━━━━━━━━━━━━━━━\u001B[0m\u001B[37m\u001B[0m \u001B[1m0s\u001B[0m 8ms/step - accuracy: 0.9510 - loss: 0.1017 - val_accuracy: 0.9010 - val_loss: 0.3082\n",
      "Epoch 274/500\n",
      "\u001B[1m31/31\u001B[0m \u001B[32m━━━━━━━━━━━━━━━━━━━━\u001B[0m\u001B[37m\u001B[0m \u001B[1m0s\u001B[0m 8ms/step - accuracy: 0.9509 - loss: 0.1016 - val_accuracy: 0.9121 - val_loss: 0.2892\n",
      "Epoch 275/500\n",
      "\u001B[1m31/31\u001B[0m \u001B[32m━━━━━━━━━━━━━━━━━━━━\u001B[0m\u001B[37m\u001B[0m \u001B[1m0s\u001B[0m 9ms/step - accuracy: 0.9500 - loss: 0.1011 - val_accuracy: 0.9074 - val_loss: 0.2827\n",
      "Epoch 276/500\n",
      "\u001B[1m31/31\u001B[0m \u001B[32m━━━━━━━━━━━━━━━━━━━━\u001B[0m\u001B[37m\u001B[0m \u001B[1m0s\u001B[0m 9ms/step - accuracy: 0.9495 - loss: 0.1016 - val_accuracy: 0.9073 - val_loss: 0.2975\n",
      "Epoch 277/500\n",
      "\u001B[1m31/31\u001B[0m \u001B[32m━━━━━━━━━━━━━━━━━━━━\u001B[0m\u001B[37m\u001B[0m \u001B[1m0s\u001B[0m 9ms/step - accuracy: 0.9515 - loss: 0.0998 - val_accuracy: 0.9078 - val_loss: 0.3010\n",
      "Epoch 278/500\n",
      "\u001B[1m31/31\u001B[0m \u001B[32m━━━━━━━━━━━━━━━━━━━━\u001B[0m\u001B[37m\u001B[0m \u001B[1m0s\u001B[0m 9ms/step - accuracy: 0.9498 - loss: 0.0988 - val_accuracy: 0.9041 - val_loss: 0.3171\n",
      "Epoch 279/500\n",
      "\u001B[1m31/31\u001B[0m \u001B[32m━━━━━━━━━━━━━━━━━━━━\u001B[0m\u001B[37m\u001B[0m \u001B[1m0s\u001B[0m 9ms/step - accuracy: 0.9491 - loss: 0.1011 - val_accuracy: 0.9139 - val_loss: 0.3208\n",
      "Epoch 280/500\n",
      "\u001B[1m31/31\u001B[0m \u001B[32m━━━━━━━━━━━━━━━━━━━━\u001B[0m\u001B[37m\u001B[0m \u001B[1m0s\u001B[0m 9ms/step - accuracy: 0.9513 - loss: 0.0971 - val_accuracy: 0.9028 - val_loss: 0.3046\n",
      "Epoch 281/500\n",
      "\u001B[1m31/31\u001B[0m \u001B[32m━━━━━━━━━━━━━━━━━━━━\u001B[0m\u001B[37m\u001B[0m \u001B[1m0s\u001B[0m 9ms/step - accuracy: 0.9521 - loss: 0.0918 - val_accuracy: 0.9008 - val_loss: 0.3086\n",
      "Epoch 282/500\n",
      "\u001B[1m31/31\u001B[0m \u001B[32m━━━━━━━━━━━━━━━━━━━━\u001B[0m\u001B[37m\u001B[0m \u001B[1m0s\u001B[0m 9ms/step - accuracy: 0.9564 - loss: 0.0943 - val_accuracy: 0.9131 - val_loss: 0.3021\n",
      "Epoch 283/500\n",
      "\u001B[1m31/31\u001B[0m \u001B[32m━━━━━━━━━━━━━━━━━━━━\u001B[0m\u001B[37m\u001B[0m \u001B[1m0s\u001B[0m 9ms/step - accuracy: 0.9513 - loss: 0.0967 - val_accuracy: 0.9063 - val_loss: 0.3086\n",
      "Epoch 284/500\n",
      "\u001B[1m31/31\u001B[0m \u001B[32m━━━━━━━━━━━━━━━━━━━━\u001B[0m\u001B[37m\u001B[0m \u001B[1m0s\u001B[0m 8ms/step - accuracy: 0.9537 - loss: 0.0976 - val_accuracy: 0.9074 - val_loss: 0.2945\n",
      "Epoch 285/500\n",
      "\u001B[1m31/31\u001B[0m \u001B[32m━━━━━━━━━━━━━━━━━━━━\u001B[0m\u001B[37m\u001B[0m \u001B[1m0s\u001B[0m 8ms/step - accuracy: 0.9527 - loss: 0.0936 - val_accuracy: 0.8974 - val_loss: 0.3037\n",
      "Epoch 286/500\n",
      "\u001B[1m31/31\u001B[0m \u001B[32m━━━━━━━━━━━━━━━━━━━━\u001B[0m\u001B[37m\u001B[0m \u001B[1m0s\u001B[0m 9ms/step - accuracy: 0.9537 - loss: 0.0914 - val_accuracy: 0.9126 - val_loss: 0.2916\n",
      "Epoch 287/500\n",
      "\u001B[1m31/31\u001B[0m \u001B[32m━━━━━━━━━━━━━━━━━━━━\u001B[0m\u001B[37m\u001B[0m \u001B[1m0s\u001B[0m 9ms/step - accuracy: 0.9549 - loss: 0.0950 - val_accuracy: 0.9008 - val_loss: 0.3026\n",
      "Epoch 288/500\n",
      "\u001B[1m31/31\u001B[0m \u001B[32m━━━━━━━━━━━━━━━━━━━━\u001B[0m\u001B[37m\u001B[0m \u001B[1m0s\u001B[0m 9ms/step - accuracy: 0.9528 - loss: 0.0920 - val_accuracy: 0.9084 - val_loss: 0.3161\n",
      "Epoch 289/500\n",
      "\u001B[1m31/31\u001B[0m \u001B[32m━━━━━━━━━━━━━━━━━━━━\u001B[0m\u001B[37m\u001B[0m \u001B[1m0s\u001B[0m 9ms/step - accuracy: 0.9535 - loss: 0.0915 - val_accuracy: 0.9141 - val_loss: 0.2992\n",
      "Epoch 290/500\n",
      "\u001B[1m31/31\u001B[0m \u001B[32m━━━━━━━━━━━━━━━━━━━━\u001B[0m\u001B[37m\u001B[0m \u001B[1m0s\u001B[0m 9ms/step - accuracy: 0.9538 - loss: 0.0931 - val_accuracy: 0.9118 - val_loss: 0.2979\n",
      "Epoch 291/500\n",
      "\u001B[1m31/31\u001B[0m \u001B[32m━━━━━━━━━━━━━━━━━━━━\u001B[0m\u001B[37m\u001B[0m \u001B[1m0s\u001B[0m 9ms/step - accuracy: 0.9507 - loss: 0.0997 - val_accuracy: 0.9096 - val_loss: 0.2891\n",
      "Epoch 292/500\n",
      "\u001B[1m31/31\u001B[0m \u001B[32m━━━━━━━━━━━━━━━━━━━━\u001B[0m\u001B[37m\u001B[0m \u001B[1m0s\u001B[0m 8ms/step - accuracy: 0.9532 - loss: 0.0974 - val_accuracy: 0.9124 - val_loss: 0.3002\n",
      "Epoch 293/500\n",
      "\u001B[1m31/31\u001B[0m \u001B[32m━━━━━━━━━━━━━━━━━━━━\u001B[0m\u001B[37m\u001B[0m \u001B[1m0s\u001B[0m 8ms/step - accuracy: 0.9536 - loss: 0.0973 - val_accuracy: 0.9133 - val_loss: 0.2698\n",
      "Epoch 294/500\n",
      "\u001B[1m31/31\u001B[0m \u001B[32m━━━━━━━━━━━━━━━━━━━━\u001B[0m\u001B[37m\u001B[0m \u001B[1m0s\u001B[0m 10ms/step - accuracy: 0.9551 - loss: 0.0996 - val_accuracy: 0.9123 - val_loss: 0.2690\n",
      "Epoch 295/500\n",
      "\u001B[1m31/31\u001B[0m \u001B[32m━━━━━━━━━━━━━━━━━━━━\u001B[0m\u001B[37m\u001B[0m \u001B[1m0s\u001B[0m 9ms/step - accuracy: 0.9532 - loss: 0.0956 - val_accuracy: 0.9141 - val_loss: 0.2611\n",
      "Epoch 296/500\n",
      "\u001B[1m31/31\u001B[0m \u001B[32m━━━━━━━━━━━━━━━━━━━━\u001B[0m\u001B[37m\u001B[0m \u001B[1m0s\u001B[0m 9ms/step - accuracy: 0.9537 - loss: 0.0932 - val_accuracy: 0.9068 - val_loss: 0.2736\n",
      "Epoch 297/500\n",
      "\u001B[1m31/31\u001B[0m \u001B[32m━━━━━━━━━━━━━━━━━━━━\u001B[0m\u001B[37m\u001B[0m \u001B[1m0s\u001B[0m 9ms/step - accuracy: 0.9553 - loss: 0.0946 - val_accuracy: 0.9106 - val_loss: 0.2857\n",
      "Epoch 298/500\n",
      "\u001B[1m31/31\u001B[0m \u001B[32m━━━━━━━━━━━━━━━━━━━━\u001B[0m\u001B[37m\u001B[0m \u001B[1m0s\u001B[0m 8ms/step - accuracy: 0.9509 - loss: 0.0943 - val_accuracy: 0.9063 - val_loss: 0.2959\n",
      "Epoch 299/500\n",
      "\u001B[1m31/31\u001B[0m \u001B[32m━━━━━━━━━━━━━━━━━━━━\u001B[0m\u001B[37m\u001B[0m \u001B[1m0s\u001B[0m 9ms/step - accuracy: 0.9499 - loss: 0.1039 - val_accuracy: 0.8980 - val_loss: 0.2998\n",
      "Epoch 300/500\n",
      "\u001B[1m31/31\u001B[0m \u001B[32m━━━━━━━━━━━━━━━━━━━━\u001B[0m\u001B[37m\u001B[0m \u001B[1m0s\u001B[0m 9ms/step - accuracy: 0.9552 - loss: 0.0900 - val_accuracy: 0.9139 - val_loss: 0.2953\n",
      "Epoch 301/500\n",
      "\u001B[1m31/31\u001B[0m \u001B[32m━━━━━━━━━━━━━━━━━━━━\u001B[0m\u001B[37m\u001B[0m \u001B[1m0s\u001B[0m 10ms/step - accuracy: 0.9533 - loss: 0.0921 - val_accuracy: 0.8997 - val_loss: 0.3001\n",
      "Epoch 302/500\n",
      "\u001B[1m31/31\u001B[0m \u001B[32m━━━━━━━━━━━━━━━━━━━━\u001B[0m\u001B[37m\u001B[0m \u001B[1m0s\u001B[0m 10ms/step - accuracy: 0.9558 - loss: 0.0928 - val_accuracy: 0.9106 - val_loss: 0.3016\n",
      "Epoch 303/500\n",
      "\u001B[1m31/31\u001B[0m \u001B[32m━━━━━━━━━━━━━━━━━━━━\u001B[0m\u001B[37m\u001B[0m \u001B[1m0s\u001B[0m 12ms/step - accuracy: 0.9533 - loss: 0.0962 - val_accuracy: 0.9146 - val_loss: 0.2851\n",
      "Epoch 304/500\n",
      "\u001B[1m31/31\u001B[0m \u001B[32m━━━━━━━━━━━━━━━━━━━━\u001B[0m\u001B[37m\u001B[0m \u001B[1m0s\u001B[0m 9ms/step - accuracy: 0.9530 - loss: 0.0943 - val_accuracy: 0.9098 - val_loss: 0.2769\n",
      "Epoch 305/500\n",
      "\u001B[1m31/31\u001B[0m \u001B[32m━━━━━━━━━━━━━━━━━━━━\u001B[0m\u001B[37m\u001B[0m \u001B[1m0s\u001B[0m 9ms/step - accuracy: 0.9527 - loss: 0.0973 - val_accuracy: 0.9138 - val_loss: 0.2995\n",
      "Epoch 306/500\n",
      "\u001B[1m31/31\u001B[0m \u001B[32m━━━━━━━━━━━━━━━━━━━━\u001B[0m\u001B[37m\u001B[0m \u001B[1m0s\u001B[0m 10ms/step - accuracy: 0.9545 - loss: 0.0925 - val_accuracy: 0.9036 - val_loss: 0.3037\n",
      "Epoch 307/500\n",
      "\u001B[1m31/31\u001B[0m \u001B[32m━━━━━━━━━━━━━━━━━━━━\u001B[0m\u001B[37m\u001B[0m \u001B[1m0s\u001B[0m 9ms/step - accuracy: 0.9537 - loss: 0.0946 - val_accuracy: 0.9056 - val_loss: 0.3071\n",
      "Epoch 308/500\n",
      "\u001B[1m31/31\u001B[0m \u001B[32m━━━━━━━━━━━━━━━━━━━━\u001B[0m\u001B[37m\u001B[0m \u001B[1m0s\u001B[0m 8ms/step - accuracy: 0.9526 - loss: 0.0969 - val_accuracy: 0.9108 - val_loss: 0.3075\n",
      "Epoch 309/500\n",
      "\u001B[1m31/31\u001B[0m \u001B[32m━━━━━━━━━━━━━━━━━━━━\u001B[0m\u001B[37m\u001B[0m \u001B[1m0s\u001B[0m 8ms/step - accuracy: 0.9533 - loss: 0.0939 - val_accuracy: 0.9048 - val_loss: 0.3118\n",
      "Epoch 310/500\n",
      "\u001B[1m31/31\u001B[0m \u001B[32m━━━━━━━━━━━━━━━━━━━━\u001B[0m\u001B[37m\u001B[0m \u001B[1m0s\u001B[0m 9ms/step - accuracy: 0.9541 - loss: 0.0949 - val_accuracy: 0.9119 - val_loss: 0.3090\n",
      "Epoch 311/500\n",
      "\u001B[1m31/31\u001B[0m \u001B[32m━━━━━━━━━━━━━━━━━━━━\u001B[0m\u001B[37m\u001B[0m \u001B[1m0s\u001B[0m 9ms/step - accuracy: 0.9557 - loss: 0.0889 - val_accuracy: 0.9126 - val_loss: 0.2974\n",
      "Epoch 312/500\n",
      "\u001B[1m31/31\u001B[0m \u001B[32m━━━━━━━━━━━━━━━━━━━━\u001B[0m\u001B[37m\u001B[0m \u001B[1m0s\u001B[0m 9ms/step - accuracy: 0.9526 - loss: 0.0902 - val_accuracy: 0.9118 - val_loss: 0.3064\n",
      "Epoch 313/500\n",
      "\u001B[1m31/31\u001B[0m \u001B[32m━━━━━━━━━━━━━━━━━━━━\u001B[0m\u001B[37m\u001B[0m \u001B[1m0s\u001B[0m 8ms/step - accuracy: 0.9572 - loss: 0.0853 - val_accuracy: 0.9109 - val_loss: 0.2978\n",
      "Epoch 314/500\n",
      "\u001B[1m31/31\u001B[0m \u001B[32m━━━━━━━━━━━━━━━━━━━━\u001B[0m\u001B[37m\u001B[0m \u001B[1m0s\u001B[0m 8ms/step - accuracy: 0.9529 - loss: 0.0915 - val_accuracy: 0.9121 - val_loss: 0.3377\n",
      "Epoch 315/500\n",
      "\u001B[1m31/31\u001B[0m \u001B[32m━━━━━━━━━━━━━━━━━━━━\u001B[0m\u001B[37m\u001B[0m \u001B[1m0s\u001B[0m 8ms/step - accuracy: 0.9520 - loss: 0.1071 - val_accuracy: 0.9123 - val_loss: 0.3015\n",
      "Epoch 316/500\n",
      "\u001B[1m31/31\u001B[0m \u001B[32m━━━━━━━━━━━━━━━━━━━━\u001B[0m\u001B[37m\u001B[0m \u001B[1m0s\u001B[0m 9ms/step - accuracy: 0.9535 - loss: 0.0995 - val_accuracy: 0.9116 - val_loss: 0.3146\n",
      "Epoch 317/500\n",
      "\u001B[1m31/31\u001B[0m \u001B[32m━━━━━━━━━━━━━━━━━━━━\u001B[0m\u001B[37m\u001B[0m \u001B[1m0s\u001B[0m 8ms/step - accuracy: 0.9564 - loss: 0.0922 - val_accuracy: 0.9121 - val_loss: 0.3136\n",
      "Epoch 318/500\n",
      "\u001B[1m31/31\u001B[0m \u001B[32m━━━━━━━━━━━━━━━━━━━━\u001B[0m\u001B[37m\u001B[0m \u001B[1m0s\u001B[0m 8ms/step - accuracy: 0.9524 - loss: 0.0937 - val_accuracy: 0.9108 - val_loss: 0.3152\n",
      "Epoch 319/500\n",
      "\u001B[1m31/31\u001B[0m \u001B[32m━━━━━━━━━━━━━━━━━━━━\u001B[0m\u001B[37m\u001B[0m \u001B[1m0s\u001B[0m 9ms/step - accuracy: 0.9535 - loss: 0.0978 - val_accuracy: 0.9018 - val_loss: 0.3160\n",
      "Epoch 320/500\n",
      "\u001B[1m31/31\u001B[0m \u001B[32m━━━━━━━━━━━━━━━━━━━━\u001B[0m\u001B[37m\u001B[0m \u001B[1m0s\u001B[0m 9ms/step - accuracy: 0.9566 - loss: 0.0866 - val_accuracy: 0.9152 - val_loss: 0.2986\n",
      "Epoch 321/500\n",
      "\u001B[1m31/31\u001B[0m \u001B[32m━━━━━━━━━━━━━━━━━━━━\u001B[0m\u001B[37m\u001B[0m \u001B[1m0s\u001B[0m 8ms/step - accuracy: 0.9542 - loss: 0.0877 - val_accuracy: 0.9093 - val_loss: 0.3160\n",
      "Epoch 322/500\n",
      "\u001B[1m31/31\u001B[0m \u001B[32m━━━━━━━━━━━━━━━━━━━━\u001B[0m\u001B[37m\u001B[0m \u001B[1m0s\u001B[0m 8ms/step - accuracy: 0.9535 - loss: 0.0910 - val_accuracy: 0.9086 - val_loss: 0.3110\n",
      "Epoch 323/500\n",
      "\u001B[1m31/31\u001B[0m \u001B[32m━━━━━━━━━━━━━━━━━━━━\u001B[0m\u001B[37m\u001B[0m \u001B[1m0s\u001B[0m 9ms/step - accuracy: 0.9546 - loss: 0.0912 - val_accuracy: 0.9136 - val_loss: 0.2899\n",
      "Epoch 324/500\n",
      "\u001B[1m31/31\u001B[0m \u001B[32m━━━━━━━━━━━━━━━━━━━━\u001B[0m\u001B[37m\u001B[0m \u001B[1m0s\u001B[0m 8ms/step - accuracy: 0.9546 - loss: 0.0933 - val_accuracy: 0.9099 - val_loss: 0.3021\n",
      "Epoch 325/500\n",
      "\u001B[1m31/31\u001B[0m \u001B[32m━━━━━━━━━━━━━━━━━━━━\u001B[0m\u001B[37m\u001B[0m \u001B[1m0s\u001B[0m 9ms/step - accuracy: 0.9510 - loss: 0.0994 - val_accuracy: 0.9064 - val_loss: 0.3075\n",
      "Epoch 326/500\n",
      "\u001B[1m31/31\u001B[0m \u001B[32m━━━━━━━━━━━━━━━━━━━━\u001B[0m\u001B[37m\u001B[0m \u001B[1m0s\u001B[0m 9ms/step - accuracy: 0.9525 - loss: 0.0941 - val_accuracy: 0.9094 - val_loss: 0.2949\n",
      "Epoch 327/500\n",
      "\u001B[1m31/31\u001B[0m \u001B[32m━━━━━━━━━━━━━━━━━━━━\u001B[0m\u001B[37m\u001B[0m \u001B[1m0s\u001B[0m 9ms/step - accuracy: 0.9539 - loss: 0.0934 - val_accuracy: 0.9139 - val_loss: 0.2901\n",
      "Epoch 328/500\n",
      "\u001B[1m31/31\u001B[0m \u001B[32m━━━━━━━━━━━━━━━━━━━━\u001B[0m\u001B[37m\u001B[0m \u001B[1m0s\u001B[0m 9ms/step - accuracy: 0.9539 - loss: 0.0941 - val_accuracy: 0.9118 - val_loss: 0.2916\n",
      "Epoch 329/500\n",
      "\u001B[1m31/31\u001B[0m \u001B[32m━━━━━━━━━━━━━━━━━━━━\u001B[0m\u001B[37m\u001B[0m \u001B[1m0s\u001B[0m 8ms/step - accuracy: 0.9558 - loss: 0.0910 - val_accuracy: 0.9154 - val_loss: 0.2947\n",
      "Epoch 330/500\n",
      "\u001B[1m31/31\u001B[0m \u001B[32m━━━━━━━━━━━━━━━━━━━━\u001B[0m\u001B[37m\u001B[0m \u001B[1m0s\u001B[0m 8ms/step - accuracy: 0.9531 - loss: 0.0917 - val_accuracy: 0.9131 - val_loss: 0.3071\n",
      "Epoch 331/500\n",
      "\u001B[1m31/31\u001B[0m \u001B[32m━━━━━━━━━━━━━━━━━━━━\u001B[0m\u001B[37m\u001B[0m \u001B[1m0s\u001B[0m 9ms/step - accuracy: 0.9565 - loss: 0.0816 - val_accuracy: 0.9169 - val_loss: 0.3058\n",
      "Epoch 332/500\n",
      "\u001B[1m31/31\u001B[0m \u001B[32m━━━━━━━━━━━━━━━━━━━━\u001B[0m\u001B[37m\u001B[0m \u001B[1m0s\u001B[0m 8ms/step - accuracy: 0.9533 - loss: 0.0897 - val_accuracy: 0.8987 - val_loss: 0.3100\n",
      "Epoch 333/500\n",
      "\u001B[1m31/31\u001B[0m \u001B[32m━━━━━━━━━━━━━━━━━━━━\u001B[0m\u001B[37m\u001B[0m \u001B[1m0s\u001B[0m 9ms/step - accuracy: 0.9545 - loss: 0.0941 - val_accuracy: 0.9104 - val_loss: 0.3057\n",
      "Epoch 334/500\n",
      "\u001B[1m31/31\u001B[0m \u001B[32m━━━━━━━━━━━━━━━━━━━━\u001B[0m\u001B[37m\u001B[0m \u001B[1m0s\u001B[0m 10ms/step - accuracy: 0.9535 - loss: 0.0946 - val_accuracy: 0.9084 - val_loss: 0.3152\n",
      "Epoch 335/500\n",
      "\u001B[1m31/31\u001B[0m \u001B[32m━━━━━━━━━━━━━━━━━━━━\u001B[0m\u001B[37m\u001B[0m \u001B[1m0s\u001B[0m 9ms/step - accuracy: 0.9515 - loss: 0.0933 - val_accuracy: 0.9144 - val_loss: 0.2912\n",
      "Epoch 336/500\n",
      "\u001B[1m31/31\u001B[0m \u001B[32m━━━━━━━━━━━━━━━━━━━━\u001B[0m\u001B[37m\u001B[0m \u001B[1m0s\u001B[0m 9ms/step - accuracy: 0.9512 - loss: 0.0940 - val_accuracy: 0.9101 - val_loss: 0.2971\n",
      "Epoch 337/500\n",
      "\u001B[1m31/31\u001B[0m \u001B[32m━━━━━━━━━━━━━━━━━━━━\u001B[0m\u001B[37m\u001B[0m \u001B[1m0s\u001B[0m 9ms/step - accuracy: 0.9551 - loss: 0.0883 - val_accuracy: 0.9167 - val_loss: 0.2912\n",
      "Epoch 338/500\n",
      "\u001B[1m31/31\u001B[0m \u001B[32m━━━━━━━━━━━━━━━━━━━━\u001B[0m\u001B[37m\u001B[0m \u001B[1m0s\u001B[0m 9ms/step - accuracy: 0.9529 - loss: 0.0908 - val_accuracy: 0.9045 - val_loss: 0.3063\n",
      "Epoch 339/500\n",
      "\u001B[1m31/31\u001B[0m \u001B[32m━━━━━━━━━━━━━━━━━━━━\u001B[0m\u001B[37m\u001B[0m \u001B[1m0s\u001B[0m 8ms/step - accuracy: 0.9547 - loss: 0.0922 - val_accuracy: 0.9089 - val_loss: 0.3048\n",
      "Epoch 340/500\n",
      "\u001B[1m31/31\u001B[0m \u001B[32m━━━━━━━━━━━━━━━━━━━━\u001B[0m\u001B[37m\u001B[0m \u001B[1m0s\u001B[0m 8ms/step - accuracy: 0.9556 - loss: 0.0835 - val_accuracy: 0.9124 - val_loss: 0.3099\n",
      "Epoch 341/500\n",
      "\u001B[1m31/31\u001B[0m \u001B[32m━━━━━━━━━━━━━━━━━━━━\u001B[0m\u001B[37m\u001B[0m \u001B[1m0s\u001B[0m 8ms/step - accuracy: 0.9543 - loss: 0.0900 - val_accuracy: 0.9175 - val_loss: 0.3044\n",
      "Epoch 342/500\n",
      "\u001B[1m31/31\u001B[0m \u001B[32m━━━━━━━━━━━━━━━━━━━━\u001B[0m\u001B[37m\u001B[0m \u001B[1m0s\u001B[0m 8ms/step - accuracy: 0.9530 - loss: 0.0911 - val_accuracy: 0.9098 - val_loss: 0.3155\n",
      "Epoch 343/500\n",
      "\u001B[1m31/31\u001B[0m \u001B[32m━━━━━━━━━━━━━━━━━━━━\u001B[0m\u001B[37m\u001B[0m \u001B[1m0s\u001B[0m 10ms/step - accuracy: 0.9541 - loss: 0.0901 - val_accuracy: 0.9093 - val_loss: 0.3205\n",
      "Epoch 344/500\n",
      "\u001B[1m31/31\u001B[0m \u001B[32m━━━━━━━━━━━━━━━━━━━━\u001B[0m\u001B[37m\u001B[0m \u001B[1m0s\u001B[0m 9ms/step - accuracy: 0.9539 - loss: 0.0929 - val_accuracy: 0.9158 - val_loss: 0.3316\n",
      "Epoch 345/500\n",
      "\u001B[1m31/31\u001B[0m \u001B[32m━━━━━━━━━━━━━━━━━━━━\u001B[0m\u001B[37m\u001B[0m \u001B[1m0s\u001B[0m 10ms/step - accuracy: 0.9511 - loss: 0.0981 - val_accuracy: 0.9101 - val_loss: 0.3191\n",
      "Epoch 346/500\n",
      "\u001B[1m31/31\u001B[0m \u001B[32m━━━━━━━━━━━━━━━━━━━━\u001B[0m\u001B[37m\u001B[0m \u001B[1m0s\u001B[0m 8ms/step - accuracy: 0.9560 - loss: 0.0875 - val_accuracy: 0.9081 - val_loss: 0.3339\n",
      "Epoch 347/500\n",
      "\u001B[1m31/31\u001B[0m \u001B[32m━━━━━━━━━━━━━━━━━━━━\u001B[0m\u001B[37m\u001B[0m \u001B[1m0s\u001B[0m 9ms/step - accuracy: 0.9499 - loss: 0.0965 - val_accuracy: 0.9177 - val_loss: 0.3121\n",
      "Epoch 348/500\n",
      "\u001B[1m31/31\u001B[0m \u001B[32m━━━━━━━━━━━━━━━━━━━━\u001B[0m\u001B[37m\u001B[0m \u001B[1m0s\u001B[0m 9ms/step - accuracy: 0.9543 - loss: 0.0893 - val_accuracy: 0.9116 - val_loss: 0.3235\n",
      "Epoch 349/500\n",
      "\u001B[1m31/31\u001B[0m \u001B[32m━━━━━━━━━━━━━━━━━━━━\u001B[0m\u001B[37m\u001B[0m \u001B[1m0s\u001B[0m 9ms/step - accuracy: 0.9538 - loss: 0.0908 - val_accuracy: 0.9074 - val_loss: 0.3366\n",
      "Epoch 350/500\n",
      "\u001B[1m31/31\u001B[0m \u001B[32m━━━━━━━━━━━━━━━━━━━━\u001B[0m\u001B[37m\u001B[0m \u001B[1m0s\u001B[0m 9ms/step - accuracy: 0.9525 - loss: 0.0882 - val_accuracy: 0.8992 - val_loss: 0.3226\n",
      "Epoch 351/500\n",
      "\u001B[1m31/31\u001B[0m \u001B[32m━━━━━━━━━━━━━━━━━━━━\u001B[0m\u001B[37m\u001B[0m \u001B[1m0s\u001B[0m 9ms/step - accuracy: 0.9547 - loss: 0.0863 - val_accuracy: 0.9089 - val_loss: 0.2885\n",
      "Epoch 352/500\n",
      "\u001B[1m31/31\u001B[0m \u001B[32m━━━━━━━━━━━━━━━━━━━━\u001B[0m\u001B[37m\u001B[0m \u001B[1m0s\u001B[0m 10ms/step - accuracy: 0.9535 - loss: 0.0953 - val_accuracy: 0.9081 - val_loss: 0.3112\n",
      "Epoch 353/500\n",
      "\u001B[1m31/31\u001B[0m \u001B[32m━━━━━━━━━━━━━━━━━━━━\u001B[0m\u001B[37m\u001B[0m \u001B[1m0s\u001B[0m 9ms/step - accuracy: 0.9578 - loss: 0.0918 - val_accuracy: 0.9101 - val_loss: 0.3038\n",
      "Epoch 354/500\n",
      "\u001B[1m31/31\u001B[0m \u001B[32m━━━━━━━━━━━━━━━━━━━━\u001B[0m\u001B[37m\u001B[0m \u001B[1m0s\u001B[0m 9ms/step - accuracy: 0.9544 - loss: 0.0937 - val_accuracy: 0.9061 - val_loss: 0.3055\n",
      "Epoch 355/500\n",
      "\u001B[1m31/31\u001B[0m \u001B[32m━━━━━━━━━━━━━━━━━━━━\u001B[0m\u001B[37m\u001B[0m \u001B[1m0s\u001B[0m 8ms/step - accuracy: 0.9544 - loss: 0.0890 - val_accuracy: 0.9128 - val_loss: 0.2887\n",
      "Epoch 356/500\n",
      "\u001B[1m31/31\u001B[0m \u001B[32m━━━━━━━━━━━━━━━━━━━━\u001B[0m\u001B[37m\u001B[0m \u001B[1m0s\u001B[0m 9ms/step - accuracy: 0.9550 - loss: 0.0837 - val_accuracy: 0.9093 - val_loss: 0.3063\n",
      "Epoch 357/500\n",
      "\u001B[1m31/31\u001B[0m \u001B[32m━━━━━━━━━━━━━━━━━━━━\u001B[0m\u001B[37m\u001B[0m \u001B[1m0s\u001B[0m 9ms/step - accuracy: 0.9599 - loss: 0.0839 - val_accuracy: 0.9033 - val_loss: 0.3204\n",
      "Epoch 358/500\n",
      "\u001B[1m31/31\u001B[0m \u001B[32m━━━━━━━━━━━━━━━━━━━━\u001B[0m\u001B[37m\u001B[0m \u001B[1m0s\u001B[0m 9ms/step - accuracy: 0.9549 - loss: 0.0849 - val_accuracy: 0.9139 - val_loss: 0.3124\n",
      "Epoch 359/500\n",
      "\u001B[1m31/31\u001B[0m \u001B[32m━━━━━━━━━━━━━━━━━━━━\u001B[0m\u001B[37m\u001B[0m \u001B[1m0s\u001B[0m 10ms/step - accuracy: 0.9534 - loss: 0.0937 - val_accuracy: 0.9054 - val_loss: 0.3102\n",
      "Epoch 360/500\n",
      "\u001B[1m31/31\u001B[0m \u001B[32m━━━━━━━━━━━━━━━━━━━━\u001B[0m\u001B[37m\u001B[0m \u001B[1m0s\u001B[0m 9ms/step - accuracy: 0.9530 - loss: 0.0907 - val_accuracy: 0.9154 - val_loss: 0.3056\n",
      "Epoch 361/500\n",
      "\u001B[1m31/31\u001B[0m \u001B[32m━━━━━━━━━━━━━━━━━━━━\u001B[0m\u001B[37m\u001B[0m \u001B[1m0s\u001B[0m 10ms/step - accuracy: 0.9540 - loss: 0.0865 - val_accuracy: 0.9012 - val_loss: 0.3246\n",
      "Epoch 362/500\n",
      "\u001B[1m31/31\u001B[0m \u001B[32m━━━━━━━━━━━━━━━━━━━━\u001B[0m\u001B[37m\u001B[0m \u001B[1m0s\u001B[0m 9ms/step - accuracy: 0.9524 - loss: 0.0910 - val_accuracy: 0.9106 - val_loss: 0.2916\n",
      "Epoch 363/500\n",
      "\u001B[1m31/31\u001B[0m \u001B[32m━━━━━━━━━━━━━━━━━━━━\u001B[0m\u001B[37m\u001B[0m \u001B[1m0s\u001B[0m 9ms/step - accuracy: 0.9564 - loss: 0.0849 - val_accuracy: 0.9002 - val_loss: 0.3325\n",
      "Epoch 364/500\n",
      "\u001B[1m31/31\u001B[0m \u001B[32m━━━━━━━━━━━━━━━━━━━━\u001B[0m\u001B[37m\u001B[0m \u001B[1m0s\u001B[0m 10ms/step - accuracy: 0.9563 - loss: 0.0902 - val_accuracy: 0.9126 - val_loss: 0.3090\n",
      "Epoch 365/500\n",
      "\u001B[1m31/31\u001B[0m \u001B[32m━━━━━━━━━━━━━━━━━━━━\u001B[0m\u001B[37m\u001B[0m \u001B[1m0s\u001B[0m 8ms/step - accuracy: 0.9533 - loss: 0.0911 - val_accuracy: 0.9091 - val_loss: 0.3295\n",
      "Epoch 366/500\n",
      "\u001B[1m31/31\u001B[0m \u001B[32m━━━━━━━━━━━━━━━━━━━━\u001B[0m\u001B[37m\u001B[0m \u001B[1m0s\u001B[0m 9ms/step - accuracy: 0.9536 - loss: 0.0905 - val_accuracy: 0.9068 - val_loss: 0.3140\n",
      "Epoch 367/500\n",
      "\u001B[1m31/31\u001B[0m \u001B[32m━━━━━━━━━━━━━━━━━━━━\u001B[0m\u001B[37m\u001B[0m \u001B[1m0s\u001B[0m 9ms/step - accuracy: 0.9568 - loss: 0.0851 - val_accuracy: 0.9172 - val_loss: 0.2920\n",
      "Epoch 368/500\n",
      "\u001B[1m31/31\u001B[0m \u001B[32m━━━━━━━━━━━━━━━━━━━━\u001B[0m\u001B[37m\u001B[0m \u001B[1m0s\u001B[0m 9ms/step - accuracy: 0.9532 - loss: 0.0907 - val_accuracy: 0.9177 - val_loss: 0.3207\n",
      "Epoch 369/500\n",
      "\u001B[1m31/31\u001B[0m \u001B[32m━━━━━━━━━━━━━━━━━━━━\u001B[0m\u001B[37m\u001B[0m \u001B[1m0s\u001B[0m 9ms/step - accuracy: 0.9555 - loss: 0.0868 - val_accuracy: 0.9070 - val_loss: 0.3190\n",
      "Epoch 370/500\n",
      "\u001B[1m31/31\u001B[0m \u001B[32m━━━━━━━━━━━━━━━━━━━━\u001B[0m\u001B[37m\u001B[0m \u001B[1m0s\u001B[0m 8ms/step - accuracy: 0.9536 - loss: 0.0922 - val_accuracy: 0.9096 - val_loss: 0.3211\n",
      "Epoch 371/500\n",
      "\u001B[1m31/31\u001B[0m \u001B[32m━━━━━━━━━━━━━━━━━━━━\u001B[0m\u001B[37m\u001B[0m \u001B[1m0s\u001B[0m 8ms/step - accuracy: 0.9538 - loss: 0.0945 - val_accuracy: 0.9179 - val_loss: 0.3034\n",
      "Epoch 372/500\n",
      "\u001B[1m31/31\u001B[0m \u001B[32m━━━━━━━━━━━━━━━━━━━━\u001B[0m\u001B[37m\u001B[0m \u001B[1m0s\u001B[0m 9ms/step - accuracy: 0.9519 - loss: 0.0884 - val_accuracy: 0.9101 - val_loss: 0.3321\n",
      "Epoch 373/500\n",
      "\u001B[1m31/31\u001B[0m \u001B[32m━━━━━━━━━━━━━━━━━━━━\u001B[0m\u001B[37m\u001B[0m \u001B[1m0s\u001B[0m 9ms/step - accuracy: 0.9551 - loss: 0.0915 - val_accuracy: 0.9079 - val_loss: 0.3021\n",
      "Epoch 374/500\n",
      "\u001B[1m31/31\u001B[0m \u001B[32m━━━━━━━━━━━━━━━━━━━━\u001B[0m\u001B[37m\u001B[0m \u001B[1m0s\u001B[0m 8ms/step - accuracy: 0.9490 - loss: 0.0929 - val_accuracy: 0.9159 - val_loss: 0.3061\n",
      "Epoch 375/500\n",
      "\u001B[1m31/31\u001B[0m \u001B[32m━━━━━━━━━━━━━━━━━━━━\u001B[0m\u001B[37m\u001B[0m \u001B[1m0s\u001B[0m 10ms/step - accuracy: 0.9567 - loss: 0.0858 - val_accuracy: 0.9131 - val_loss: 0.3097\n",
      "Epoch 376/500\n",
      "\u001B[1m31/31\u001B[0m \u001B[32m━━━━━━━━━━━━━━━━━━━━\u001B[0m\u001B[37m\u001B[0m \u001B[1m0s\u001B[0m 9ms/step - accuracy: 0.9561 - loss: 0.0840 - val_accuracy: 0.9065 - val_loss: 0.3295\n",
      "Epoch 377/500\n",
      "\u001B[1m31/31\u001B[0m \u001B[32m━━━━━━━━━━━━━━━━━━━━\u001B[0m\u001B[37m\u001B[0m \u001B[1m0s\u001B[0m 9ms/step - accuracy: 0.9527 - loss: 0.0931 - val_accuracy: 0.9139 - val_loss: 0.3041\n",
      "Epoch 378/500\n",
      "\u001B[1m31/31\u001B[0m \u001B[32m━━━━━━━━━━━━━━━━━━━━\u001B[0m\u001B[37m\u001B[0m \u001B[1m0s\u001B[0m 9ms/step - accuracy: 0.9532 - loss: 0.0942 - val_accuracy: 0.9159 - val_loss: 0.3028\n",
      "Epoch 379/500\n",
      "\u001B[1m31/31\u001B[0m \u001B[32m━━━━━━━━━━━━━━━━━━━━\u001B[0m\u001B[37m\u001B[0m \u001B[1m0s\u001B[0m 10ms/step - accuracy: 0.9501 - loss: 0.0961 - val_accuracy: 0.9084 - val_loss: 0.2956\n",
      "Epoch 380/500\n",
      "\u001B[1m31/31\u001B[0m \u001B[32m━━━━━━━━━━━━━━━━━━━━\u001B[0m\u001B[37m\u001B[0m \u001B[1m0s\u001B[0m 9ms/step - accuracy: 0.9551 - loss: 0.0877 - val_accuracy: 0.9108 - val_loss: 0.2989\n",
      "Epoch 381/500\n",
      "\u001B[1m31/31\u001B[0m \u001B[32m━━━━━━━━━━━━━━━━━━━━\u001B[0m\u001B[37m\u001B[0m \u001B[1m0s\u001B[0m 9ms/step - accuracy: 0.9557 - loss: 0.0928 - val_accuracy: 0.9043 - val_loss: 0.3287\n",
      "Epoch 382/500\n",
      "\u001B[1m31/31\u001B[0m \u001B[32m━━━━━━━━━━━━━━━━━━━━\u001B[0m\u001B[37m\u001B[0m \u001B[1m0s\u001B[0m 9ms/step - accuracy: 0.9505 - loss: 0.0976 - val_accuracy: 0.9038 - val_loss: 0.3053\n",
      "Epoch 383/500\n",
      "\u001B[1m31/31\u001B[0m \u001B[32m━━━━━━━━━━━━━━━━━━━━\u001B[0m\u001B[37m\u001B[0m \u001B[1m0s\u001B[0m 9ms/step - accuracy: 0.9486 - loss: 0.0967 - val_accuracy: 0.9078 - val_loss: 0.3165\n",
      "Epoch 384/500\n",
      "\u001B[1m31/31\u001B[0m \u001B[32m━━━━━━━━━━━━━━━━━━━━\u001B[0m\u001B[37m\u001B[0m \u001B[1m0s\u001B[0m 8ms/step - accuracy: 0.9555 - loss: 0.0941 - val_accuracy: 0.9078 - val_loss: 0.3187\n",
      "Epoch 385/500\n",
      "\u001B[1m31/31\u001B[0m \u001B[32m━━━━━━━━━━━━━━━━━━━━\u001B[0m\u001B[37m\u001B[0m \u001B[1m0s\u001B[0m 9ms/step - accuracy: 0.9525 - loss: 0.0890 - val_accuracy: 0.9093 - val_loss: 0.3109\n",
      "Epoch 386/500\n",
      "\u001B[1m31/31\u001B[0m \u001B[32m━━━━━━━━━━━━━━━━━━━━\u001B[0m\u001B[37m\u001B[0m \u001B[1m0s\u001B[0m 8ms/step - accuracy: 0.9600 - loss: 0.0803 - val_accuracy: 0.9073 - val_loss: 0.3226\n",
      "Epoch 387/500\n",
      "\u001B[1m31/31\u001B[0m \u001B[32m━━━━━━━━━━━━━━━━━━━━\u001B[0m\u001B[37m\u001B[0m \u001B[1m0s\u001B[0m 8ms/step - accuracy: 0.9554 - loss: 0.0851 - val_accuracy: 0.9141 - val_loss: 0.3225\n",
      "Epoch 388/500\n",
      "\u001B[1m31/31\u001B[0m \u001B[32m━━━━━━━━━━━━━━━━━━━━\u001B[0m\u001B[37m\u001B[0m \u001B[1m0s\u001B[0m 8ms/step - accuracy: 0.9538 - loss: 0.0925 - val_accuracy: 0.9131 - val_loss: 0.3190\n",
      "Epoch 389/500\n",
      "\u001B[1m31/31\u001B[0m \u001B[32m━━━━━━━━━━━━━━━━━━━━\u001B[0m\u001B[37m\u001B[0m \u001B[1m0s\u001B[0m 8ms/step - accuracy: 0.9581 - loss: 0.0886 - val_accuracy: 0.9109 - val_loss: 0.3041\n",
      "Epoch 390/500\n",
      "\u001B[1m31/31\u001B[0m \u001B[32m━━━━━━━━━━━━━━━━━━━━\u001B[0m\u001B[37m\u001B[0m \u001B[1m0s\u001B[0m 9ms/step - accuracy: 0.9566 - loss: 0.0890 - val_accuracy: 0.9122 - val_loss: 0.3062\n",
      "Epoch 391/500\n",
      "\u001B[1m31/31\u001B[0m \u001B[32m━━━━━━━━━━━━━━━━━━━━\u001B[0m\u001B[37m\u001B[0m \u001B[1m0s\u001B[0m 9ms/step - accuracy: 0.9548 - loss: 0.0863 - val_accuracy: 0.9023 - val_loss: 0.3212\n",
      "Epoch 392/500\n",
      "\u001B[1m31/31\u001B[0m \u001B[32m━━━━━━━━━━━━━━━━━━━━\u001B[0m\u001B[37m\u001B[0m \u001B[1m0s\u001B[0m 10ms/step - accuracy: 0.9574 - loss: 0.0887 - val_accuracy: 0.9056 - val_loss: 0.3330\n",
      "Epoch 393/500\n",
      "\u001B[1m31/31\u001B[0m \u001B[32m━━━━━━━━━━━━━━━━━━━━\u001B[0m\u001B[37m\u001B[0m \u001B[1m0s\u001B[0m 8ms/step - accuracy: 0.9545 - loss: 0.0923 - val_accuracy: 0.9064 - val_loss: 0.3145\n",
      "Epoch 394/500\n",
      "\u001B[1m31/31\u001B[0m \u001B[32m━━━━━━━━━━━━━━━━━━━━\u001B[0m\u001B[37m\u001B[0m \u001B[1m0s\u001B[0m 10ms/step - accuracy: 0.9551 - loss: 0.0883 - val_accuracy: 0.9111 - val_loss: 0.2976\n",
      "Epoch 395/500\n",
      "\u001B[1m31/31\u001B[0m \u001B[32m━━━━━━━━━━━━━━━━━━━━\u001B[0m\u001B[37m\u001B[0m \u001B[1m0s\u001B[0m 9ms/step - accuracy: 0.9555 - loss: 0.0848 - val_accuracy: 0.9078 - val_loss: 0.3091\n",
      "Epoch 396/500\n",
      "\u001B[1m31/31\u001B[0m \u001B[32m━━━━━━━━━━━━━━━━━━━━\u001B[0m\u001B[37m\u001B[0m \u001B[1m0s\u001B[0m 9ms/step - accuracy: 0.9546 - loss: 0.0922 - val_accuracy: 0.9058 - val_loss: 0.3267\n",
      "Epoch 397/500\n",
      "\u001B[1m31/31\u001B[0m \u001B[32m━━━━━━━━━━━━━━━━━━━━\u001B[0m\u001B[37m\u001B[0m \u001B[1m0s\u001B[0m 10ms/step - accuracy: 0.9569 - loss: 0.0833 - val_accuracy: 0.9108 - val_loss: 0.3331\n",
      "Epoch 398/500\n",
      "\u001B[1m31/31\u001B[0m \u001B[32m━━━━━━━━━━━━━━━━━━━━\u001B[0m\u001B[37m\u001B[0m \u001B[1m0s\u001B[0m 9ms/step - accuracy: 0.9531 - loss: 0.0895 - val_accuracy: 0.9099 - val_loss: 0.3110\n",
      "Epoch 399/500\n",
      "\u001B[1m31/31\u001B[0m \u001B[32m━━━━━━━━━━━━━━━━━━━━\u001B[0m\u001B[37m\u001B[0m \u001B[1m0s\u001B[0m 8ms/step - accuracy: 0.9552 - loss: 0.0845 - val_accuracy: 0.9040 - val_loss: 0.3319\n",
      "Epoch 400/500\n",
      "\u001B[1m31/31\u001B[0m \u001B[32m━━━━━━━━━━━━━━━━━━━━\u001B[0m\u001B[37m\u001B[0m \u001B[1m0s\u001B[0m 9ms/step - accuracy: 0.9543 - loss: 0.0884 - val_accuracy: 0.9101 - val_loss: 0.3195\n",
      "Epoch 401/500\n",
      "\u001B[1m31/31\u001B[0m \u001B[32m━━━━━━━━━━━━━━━━━━━━\u001B[0m\u001B[37m\u001B[0m \u001B[1m0s\u001B[0m 9ms/step - accuracy: 0.9500 - loss: 0.0942 - val_accuracy: 0.9099 - val_loss: 0.3004\n",
      "Epoch 402/500\n",
      "\u001B[1m31/31\u001B[0m \u001B[32m━━━━━━━━━━━━━━━━━━━━\u001B[0m\u001B[37m\u001B[0m \u001B[1m0s\u001B[0m 9ms/step - accuracy: 0.9563 - loss: 0.0879 - val_accuracy: 0.9041 - val_loss: 0.3288\n",
      "Epoch 403/500\n",
      "\u001B[1m31/31\u001B[0m \u001B[32m━━━━━━━━━━━━━━━━━━━━\u001B[0m\u001B[37m\u001B[0m \u001B[1m0s\u001B[0m 8ms/step - accuracy: 0.9480 - loss: 0.0962 - val_accuracy: 0.9121 - val_loss: 0.2866\n",
      "Epoch 404/500\n",
      "\u001B[1m31/31\u001B[0m \u001B[32m━━━━━━━━━━━━━━━━━━━━\u001B[0m\u001B[37m\u001B[0m \u001B[1m0s\u001B[0m 8ms/step - accuracy: 0.9535 - loss: 0.0923 - val_accuracy: 0.9133 - val_loss: 0.2982\n",
      "Epoch 405/500\n",
      "\u001B[1m31/31\u001B[0m \u001B[32m━━━━━━━━━━━━━━━━━━━━\u001B[0m\u001B[37m\u001B[0m \u001B[1m0s\u001B[0m 9ms/step - accuracy: 0.9564 - loss: 0.0820 - val_accuracy: 0.9022 - val_loss: 0.3277\n",
      "Epoch 406/500\n",
      "\u001B[1m31/31\u001B[0m \u001B[32m━━━━━━━━━━━━━━━━━━━━\u001B[0m\u001B[37m\u001B[0m \u001B[1m0s\u001B[0m 9ms/step - accuracy: 0.9552 - loss: 0.0920 - val_accuracy: 0.9085 - val_loss: 0.3354\n",
      "Epoch 407/500\n",
      "\u001B[1m31/31\u001B[0m \u001B[32m━━━━━━━━━━━━━━━━━━━━\u001B[0m\u001B[37m\u001B[0m \u001B[1m0s\u001B[0m 7ms/step - accuracy: 0.9501 - loss: 0.0939 - val_accuracy: 0.9166 - val_loss: 0.3192\n",
      "Epoch 408/500\n",
      "\u001B[1m31/31\u001B[0m \u001B[32m━━━━━━━━━━━━━━━━━━━━\u001B[0m\u001B[37m\u001B[0m \u001B[1m0s\u001B[0m 8ms/step - accuracy: 0.9566 - loss: 0.0895 - val_accuracy: 0.9134 - val_loss: 0.3301\n",
      "Epoch 409/500\n",
      "\u001B[1m31/31\u001B[0m \u001B[32m━━━━━━━━━━━━━━━━━━━━\u001B[0m\u001B[37m\u001B[0m \u001B[1m0s\u001B[0m 8ms/step - accuracy: 0.9550 - loss: 0.0886 - val_accuracy: 0.9108 - val_loss: 0.3382\n",
      "Epoch 410/500\n",
      "\u001B[1m31/31\u001B[0m \u001B[32m━━━━━━━━━━━━━━━━━━━━\u001B[0m\u001B[37m\u001B[0m \u001B[1m0s\u001B[0m 8ms/step - accuracy: 0.9571 - loss: 0.0854 - val_accuracy: 0.9161 - val_loss: 0.3291\n",
      "Epoch 411/500\n",
      "\u001B[1m31/31\u001B[0m \u001B[32m━━━━━━━━━━━━━━━━━━━━\u001B[0m\u001B[37m\u001B[0m \u001B[1m0s\u001B[0m 9ms/step - accuracy: 0.9575 - loss: 0.0820 - val_accuracy: 0.9103 - val_loss: 0.3260\n",
      "Epoch 412/500\n",
      "\u001B[1m31/31\u001B[0m \u001B[32m━━━━━━━━━━━━━━━━━━━━\u001B[0m\u001B[37m\u001B[0m \u001B[1m0s\u001B[0m 7ms/step - accuracy: 0.9554 - loss: 0.0822 - val_accuracy: 0.9073 - val_loss: 0.3377\n",
      "Epoch 413/500\n",
      "\u001B[1m31/31\u001B[0m \u001B[32m━━━━━━━━━━━━━━━━━━━━\u001B[0m\u001B[37m\u001B[0m \u001B[1m0s\u001B[0m 8ms/step - accuracy: 0.9555 - loss: 0.0877 - val_accuracy: 0.9083 - val_loss: 0.3291\n",
      "Epoch 414/500\n",
      "\u001B[1m31/31\u001B[0m \u001B[32m━━━━━━━━━━━━━━━━━━━━\u001B[0m\u001B[37m\u001B[0m \u001B[1m0s\u001B[0m 8ms/step - accuracy: 0.9552 - loss: 0.0843 - val_accuracy: 0.9099 - val_loss: 0.3330\n",
      "Epoch 415/500\n",
      "\u001B[1m31/31\u001B[0m \u001B[32m━━━━━━━━━━━━━━━━━━━━\u001B[0m\u001B[37m\u001B[0m \u001B[1m0s\u001B[0m 8ms/step - accuracy: 0.9533 - loss: 0.0869 - val_accuracy: 0.9126 - val_loss: 0.3366\n",
      "Epoch 416/500\n",
      "\u001B[1m31/31\u001B[0m \u001B[32m━━━━━━━━━━━━━━━━━━━━\u001B[0m\u001B[37m\u001B[0m \u001B[1m0s\u001B[0m 8ms/step - accuracy: 0.9583 - loss: 0.0832 - val_accuracy: 0.9076 - val_loss: 0.3340\n",
      "Epoch 417/500\n",
      "\u001B[1m31/31\u001B[0m \u001B[32m━━━━━━━━━━━━━━━━━━━━\u001B[0m\u001B[37m\u001B[0m \u001B[1m0s\u001B[0m 8ms/step - accuracy: 0.9551 - loss: 0.0835 - val_accuracy: 0.9108 - val_loss: 0.3244\n",
      "Epoch 418/500\n",
      "\u001B[1m31/31\u001B[0m \u001B[32m━━━━━━━━━━━━━━━━━━━━\u001B[0m\u001B[37m\u001B[0m \u001B[1m0s\u001B[0m 8ms/step - accuracy: 0.9530 - loss: 0.0910 - val_accuracy: 0.9081 - val_loss: 0.3501\n",
      "Epoch 419/500\n",
      "\u001B[1m31/31\u001B[0m \u001B[32m━━━━━━━━━━━━━━━━━━━━\u001B[0m\u001B[37m\u001B[0m \u001B[1m0s\u001B[0m 8ms/step - accuracy: 0.9529 - loss: 0.0932 - val_accuracy: 0.9065 - val_loss: 0.3243\n",
      "Epoch 420/500\n",
      "\u001B[1m31/31\u001B[0m \u001B[32m━━━━━━━━━━━━━━━━━━━━\u001B[0m\u001B[37m\u001B[0m \u001B[1m0s\u001B[0m 9ms/step - accuracy: 0.9557 - loss: 0.0899 - val_accuracy: 0.9073 - val_loss: 0.3206\n",
      "Epoch 421/500\n",
      "\u001B[1m31/31\u001B[0m \u001B[32m━━━━━━━━━━━━━━━━━━━━\u001B[0m\u001B[37m\u001B[0m \u001B[1m0s\u001B[0m 11ms/step - accuracy: 0.9526 - loss: 0.0892 - val_accuracy: 0.9153 - val_loss: 0.3155\n",
      "Epoch 422/500\n",
      "\u001B[1m31/31\u001B[0m \u001B[32m━━━━━━━━━━━━━━━━━━━━\u001B[0m\u001B[37m\u001B[0m \u001B[1m0s\u001B[0m 8ms/step - accuracy: 0.9528 - loss: 0.0899 - val_accuracy: 0.9144 - val_loss: 0.3333\n",
      "Epoch 423/500\n",
      "\u001B[1m31/31\u001B[0m \u001B[32m━━━━━━━━━━━━━━━━━━━━\u001B[0m\u001B[37m\u001B[0m \u001B[1m0s\u001B[0m 10ms/step - accuracy: 0.9531 - loss: 0.0900 - val_accuracy: 0.8987 - val_loss: 0.3425\n",
      "Epoch 424/500\n",
      "\u001B[1m31/31\u001B[0m \u001B[32m━━━━━━━━━━━━━━━━━━━━\u001B[0m\u001B[37m\u001B[0m \u001B[1m0s\u001B[0m 8ms/step - accuracy: 0.9550 - loss: 0.0854 - val_accuracy: 0.9139 - val_loss: 0.3250\n",
      "Epoch 425/500\n",
      "\u001B[1m31/31\u001B[0m \u001B[32m━━━━━━━━━━━━━━━━━━━━\u001B[0m\u001B[37m\u001B[0m \u001B[1m0s\u001B[0m 9ms/step - accuracy: 0.9527 - loss: 0.0907 - val_accuracy: 0.9104 - val_loss: 0.3295\n",
      "Epoch 426/500\n",
      "\u001B[1m31/31\u001B[0m \u001B[32m━━━━━━━━━━━━━━━━━━━━\u001B[0m\u001B[37m\u001B[0m \u001B[1m0s\u001B[0m 8ms/step - accuracy: 0.9555 - loss: 0.0870 - val_accuracy: 0.9094 - val_loss: 0.3298\n",
      "Epoch 427/500\n",
      "\u001B[1m31/31\u001B[0m \u001B[32m━━━━━━━━━━━━━━━━━━━━\u001B[0m\u001B[37m\u001B[0m \u001B[1m0s\u001B[0m 8ms/step - accuracy: 0.9535 - loss: 0.0888 - val_accuracy: 0.9138 - val_loss: 0.3133\n",
      "Epoch 428/500\n",
      "\u001B[1m31/31\u001B[0m \u001B[32m━━━━━━━━━━━━━━━━━━━━\u001B[0m\u001B[37m\u001B[0m \u001B[1m0s\u001B[0m 8ms/step - accuracy: 0.9547 - loss: 0.0881 - val_accuracy: 0.9071 - val_loss: 0.3320\n",
      "Epoch 429/500\n",
      "\u001B[1m31/31\u001B[0m \u001B[32m━━━━━━━━━━━━━━━━━━━━\u001B[0m\u001B[37m\u001B[0m \u001B[1m0s\u001B[0m 8ms/step - accuracy: 0.9557 - loss: 0.0868 - val_accuracy: 0.9098 - val_loss: 0.3324\n",
      "Epoch 430/500\n",
      "\u001B[1m31/31\u001B[0m \u001B[32m━━━━━━━━━━━━━━━━━━━━\u001B[0m\u001B[37m\u001B[0m \u001B[1m0s\u001B[0m 9ms/step - accuracy: 0.9548 - loss: 0.0878 - val_accuracy: 0.9093 - val_loss: 0.3331\n",
      "Epoch 431/500\n",
      "\u001B[1m31/31\u001B[0m \u001B[32m━━━━━━━━━━━━━━━━━━━━\u001B[0m\u001B[37m\u001B[0m \u001B[1m0s\u001B[0m 9ms/step - accuracy: 0.9550 - loss: 0.0891 - val_accuracy: 0.9083 - val_loss: 0.3439\n",
      "Epoch 432/500\n",
      "\u001B[1m31/31\u001B[0m \u001B[32m━━━━━━━━━━━━━━━━━━━━\u001B[0m\u001B[37m\u001B[0m \u001B[1m0s\u001B[0m 10ms/step - accuracy: 0.9513 - loss: 0.0898 - val_accuracy: 0.9103 - val_loss: 0.3128\n",
      "Epoch 433/500\n",
      "\u001B[1m31/31\u001B[0m \u001B[32m━━━━━━━━━━━━━━━━━━━━\u001B[0m\u001B[37m\u001B[0m \u001B[1m0s\u001B[0m 12ms/step - accuracy: 0.9536 - loss: 0.0912 - val_accuracy: 0.9099 - val_loss: 0.2904\n",
      "Epoch 434/500\n",
      "\u001B[1m31/31\u001B[0m \u001B[32m━━━━━━━━━━━━━━━━━━━━\u001B[0m\u001B[37m\u001B[0m \u001B[1m0s\u001B[0m 9ms/step - accuracy: 0.9546 - loss: 0.0842 - val_accuracy: 0.9126 - val_loss: 0.2964\n",
      "Epoch 435/500\n",
      "\u001B[1m31/31\u001B[0m \u001B[32m━━━━━━━━━━━━━━━━━━━━\u001B[0m\u001B[37m\u001B[0m \u001B[1m0s\u001B[0m 10ms/step - accuracy: 0.9532 - loss: 0.0917 - val_accuracy: 0.9048 - val_loss: 0.3117\n",
      "Epoch 436/500\n",
      "\u001B[1m31/31\u001B[0m \u001B[32m━━━━━━━━━━━━━━━━━━━━\u001B[0m\u001B[37m\u001B[0m \u001B[1m0s\u001B[0m 8ms/step - accuracy: 0.9559 - loss: 0.0868 - val_accuracy: 0.9036 - val_loss: 0.3055\n",
      "Epoch 437/500\n",
      "\u001B[1m31/31\u001B[0m \u001B[32m━━━━━━━━━━━━━━━━━━━━\u001B[0m\u001B[37m\u001B[0m \u001B[1m0s\u001B[0m 8ms/step - accuracy: 0.9544 - loss: 0.0875 - val_accuracy: 0.9157 - val_loss: 0.3171\n",
      "Epoch 438/500\n",
      "\u001B[1m31/31\u001B[0m \u001B[32m━━━━━━━━━━━━━━━━━━━━\u001B[0m\u001B[37m\u001B[0m \u001B[1m0s\u001B[0m 8ms/step - accuracy: 0.9541 - loss: 0.0915 - val_accuracy: 0.9129 - val_loss: 0.2988\n",
      "Epoch 439/500\n",
      "\u001B[1m31/31\u001B[0m \u001B[32m━━━━━━━━━━━━━━━━━━━━\u001B[0m\u001B[37m\u001B[0m \u001B[1m0s\u001B[0m 8ms/step - accuracy: 0.9559 - loss: 0.0852 - val_accuracy: 0.9071 - val_loss: 0.3188\n",
      "Epoch 440/500\n",
      "\u001B[1m31/31\u001B[0m \u001B[32m━━━━━━━━━━━━━━━━━━━━\u001B[0m\u001B[37m\u001B[0m \u001B[1m0s\u001B[0m 9ms/step - accuracy: 0.9550 - loss: 0.0872 - val_accuracy: 0.9010 - val_loss: 0.3267\n",
      "Epoch 441/500\n",
      "\u001B[1m31/31\u001B[0m \u001B[32m━━━━━━━━━━━━━━━━━━━━\u001B[0m\u001B[37m\u001B[0m \u001B[1m0s\u001B[0m 8ms/step - accuracy: 0.9550 - loss: 0.0895 - val_accuracy: 0.9101 - val_loss: 0.3183\n",
      "Epoch 442/500\n",
      "\u001B[1m31/31\u001B[0m \u001B[32m━━━━━━━━━━━━━━━━━━━━\u001B[0m\u001B[37m\u001B[0m \u001B[1m0s\u001B[0m 8ms/step - accuracy: 0.9547 - loss: 0.0897 - val_accuracy: 0.9091 - val_loss: 0.3421\n",
      "Epoch 443/500\n",
      "\u001B[1m31/31\u001B[0m \u001B[32m━━━━━━━━━━━━━━━━━━━━\u001B[0m\u001B[37m\u001B[0m \u001B[1m0s\u001B[0m 8ms/step - accuracy: 0.9545 - loss: 0.0866 - val_accuracy: 0.9025 - val_loss: 0.3327\n",
      "Epoch 444/500\n",
      "\u001B[1m31/31\u001B[0m \u001B[32m━━━━━━━━━━━━━━━━━━━━\u001B[0m\u001B[37m\u001B[0m \u001B[1m0s\u001B[0m 8ms/step - accuracy: 0.9574 - loss: 0.0891 - val_accuracy: 0.9074 - val_loss: 0.3128\n",
      "Epoch 445/500\n",
      "\u001B[1m31/31\u001B[0m \u001B[32m━━━━━━━━━━━━━━━━━━━━\u001B[0m\u001B[37m\u001B[0m \u001B[1m0s\u001B[0m 9ms/step - accuracy: 0.9560 - loss: 0.0860 - val_accuracy: 0.9012 - val_loss: 0.3289\n",
      "Epoch 446/500\n",
      "\u001B[1m31/31\u001B[0m \u001B[32m━━━━━━━━━━━━━━━━━━━━\u001B[0m\u001B[37m\u001B[0m \u001B[1m0s\u001B[0m 9ms/step - accuracy: 0.9542 - loss: 0.0883 - val_accuracy: 0.9048 - val_loss: 0.3152\n",
      "Epoch 447/500\n",
      "\u001B[1m31/31\u001B[0m \u001B[32m━━━━━━━━━━━━━━━━━━━━\u001B[0m\u001B[37m\u001B[0m \u001B[1m0s\u001B[0m 9ms/step - accuracy: 0.9564 - loss: 0.0853 - val_accuracy: 0.9055 - val_loss: 0.3358\n",
      "Epoch 448/500\n",
      "\u001B[1m31/31\u001B[0m \u001B[32m━━━━━━━━━━━━━━━━━━━━\u001B[0m\u001B[37m\u001B[0m \u001B[1m0s\u001B[0m 9ms/step - accuracy: 0.9523 - loss: 0.0961 - val_accuracy: 0.9046 - val_loss: 0.3246\n",
      "Epoch 449/500\n",
      "\u001B[1m31/31\u001B[0m \u001B[32m━━━━━━━━━━━━━━━━━━━━\u001B[0m\u001B[37m\u001B[0m \u001B[1m0s\u001B[0m 8ms/step - accuracy: 0.9558 - loss: 0.0866 - val_accuracy: 0.9099 - val_loss: 0.3224\n",
      "Epoch 450/500\n",
      "\u001B[1m31/31\u001B[0m \u001B[32m━━━━━━━━━━━━━━━━━━━━\u001B[0m\u001B[37m\u001B[0m \u001B[1m0s\u001B[0m 8ms/step - accuracy: 0.9555 - loss: 0.0841 - val_accuracy: 0.9093 - val_loss: 0.3064\n",
      "Epoch 451/500\n",
      "\u001B[1m31/31\u001B[0m \u001B[32m━━━━━━━━━━━━━━━━━━━━\u001B[0m\u001B[37m\u001B[0m \u001B[1m0s\u001B[0m 9ms/step - accuracy: 0.9544 - loss: 0.0881 - val_accuracy: 0.9114 - val_loss: 0.3246\n",
      "Epoch 452/500\n",
      "\u001B[1m31/31\u001B[0m \u001B[32m━━━━━━━━━━━━━━━━━━━━\u001B[0m\u001B[37m\u001B[0m \u001B[1m0s\u001B[0m 9ms/step - accuracy: 0.9526 - loss: 0.0825 - val_accuracy: 0.9035 - val_loss: 0.3240\n",
      "Epoch 453/500\n",
      "\u001B[1m31/31\u001B[0m \u001B[32m━━━━━━━━━━━━━━━━━━━━\u001B[0m\u001B[37m\u001B[0m \u001B[1m0s\u001B[0m 10ms/step - accuracy: 0.9582 - loss: 0.0791 - val_accuracy: 0.9103 - val_loss: 0.3338\n",
      "Epoch 454/500\n",
      "\u001B[1m31/31\u001B[0m \u001B[32m━━━━━━━━━━━━━━━━━━━━\u001B[0m\u001B[37m\u001B[0m \u001B[1m0s\u001B[0m 9ms/step - accuracy: 0.9541 - loss: 0.0906 - val_accuracy: 0.9151 - val_loss: 0.3011\n",
      "Epoch 455/500\n",
      "\u001B[1m31/31\u001B[0m \u001B[32m━━━━━━━━━━━━━━━━━━━━\u001B[0m\u001B[37m\u001B[0m \u001B[1m0s\u001B[0m 8ms/step - accuracy: 0.9543 - loss: 0.0846 - val_accuracy: 0.9048 - val_loss: 0.3005\n",
      "Epoch 456/500\n",
      "\u001B[1m31/31\u001B[0m \u001B[32m━━━━━━━━━━━━━━━━━━━━\u001B[0m\u001B[37m\u001B[0m \u001B[1m0s\u001B[0m 9ms/step - accuracy: 0.9547 - loss: 0.0890 - val_accuracy: 0.9081 - val_loss: 0.3209\n",
      "Epoch 457/500\n",
      "\u001B[1m31/31\u001B[0m \u001B[32m━━━━━━━━━━━━━━━━━━━━\u001B[0m\u001B[37m\u001B[0m \u001B[1m0s\u001B[0m 10ms/step - accuracy: 0.9535 - loss: 0.0896 - val_accuracy: 0.9124 - val_loss: 0.3082\n",
      "Epoch 458/500\n",
      "\u001B[1m31/31\u001B[0m \u001B[32m━━━━━━━━━━━━━━━━━━━━\u001B[0m\u001B[37m\u001B[0m \u001B[1m0s\u001B[0m 8ms/step - accuracy: 0.9567 - loss: 0.0795 - val_accuracy: 0.9109 - val_loss: 0.3219\n",
      "Epoch 459/500\n",
      "\u001B[1m31/31\u001B[0m \u001B[32m━━━━━━━━━━━━━━━━━━━━\u001B[0m\u001B[37m\u001B[0m \u001B[1m0s\u001B[0m 9ms/step - accuracy: 0.9564 - loss: 0.0845 - val_accuracy: 0.9169 - val_loss: 0.3078\n",
      "Epoch 460/500\n",
      "\u001B[1m31/31\u001B[0m \u001B[32m━━━━━━━━━━━━━━━━━━━━\u001B[0m\u001B[37m\u001B[0m \u001B[1m0s\u001B[0m 10ms/step - accuracy: 0.9593 - loss: 0.0826 - val_accuracy: 0.9139 - val_loss: 0.3281\n",
      "Epoch 461/500\n",
      "\u001B[1m31/31\u001B[0m \u001B[32m━━━━━━━━━━━━━━━━━━━━\u001B[0m\u001B[37m\u001B[0m \u001B[1m0s\u001B[0m 8ms/step - accuracy: 0.9527 - loss: 0.0901 - val_accuracy: 0.9071 - val_loss: 0.3033\n",
      "Epoch 462/500\n",
      "\u001B[1m31/31\u001B[0m \u001B[32m━━━━━━━━━━━━━━━━━━━━\u001B[0m\u001B[37m\u001B[0m \u001B[1m0s\u001B[0m 8ms/step - accuracy: 0.9530 - loss: 0.0917 - val_accuracy: 0.9149 - val_loss: 0.3034\n",
      "Epoch 463/500\n",
      "\u001B[1m31/31\u001B[0m \u001B[32m━━━━━━━━━━━━━━━━━━━━\u001B[0m\u001B[37m\u001B[0m \u001B[1m0s\u001B[0m 9ms/step - accuracy: 0.9525 - loss: 0.0910 - val_accuracy: 0.9058 - val_loss: 0.3018\n",
      "Epoch 464/500\n",
      "\u001B[1m31/31\u001B[0m \u001B[32m━━━━━━━━━━━━━━━━━━━━\u001B[0m\u001B[37m\u001B[0m \u001B[1m0s\u001B[0m 9ms/step - accuracy: 0.9548 - loss: 0.0883 - val_accuracy: 0.9126 - val_loss: 0.3100\n",
      "Epoch 465/500\n",
      "\u001B[1m31/31\u001B[0m \u001B[32m━━━━━━━━━━━━━━━━━━━━\u001B[0m\u001B[37m\u001B[0m \u001B[1m0s\u001B[0m 11ms/step - accuracy: 0.9549 - loss: 0.0848 - val_accuracy: 0.9113 - val_loss: 0.3315\n",
      "Epoch 466/500\n",
      "\u001B[1m31/31\u001B[0m \u001B[32m━━━━━━━━━━━━━━━━━━━━\u001B[0m\u001B[37m\u001B[0m \u001B[1m0s\u001B[0m 10ms/step - accuracy: 0.9556 - loss: 0.0863 - val_accuracy: 0.9036 - val_loss: 0.3062\n",
      "Epoch 467/500\n",
      "\u001B[1m31/31\u001B[0m \u001B[32m━━━━━━━━━━━━━━━━━━━━\u001B[0m\u001B[37m\u001B[0m \u001B[1m0s\u001B[0m 8ms/step - accuracy: 0.9530 - loss: 0.0886 - val_accuracy: 0.9088 - val_loss: 0.2932\n",
      "Epoch 468/500\n",
      "\u001B[1m31/31\u001B[0m \u001B[32m━━━━━━━━━━━━━━━━━━━━\u001B[0m\u001B[37m\u001B[0m \u001B[1m0s\u001B[0m 9ms/step - accuracy: 0.9570 - loss: 0.0816 - val_accuracy: 0.8981 - val_loss: 0.3390\n",
      "Epoch 469/500\n",
      "\u001B[1m31/31\u001B[0m \u001B[32m━━━━━━━━━━━━━━━━━━━━\u001B[0m\u001B[37m\u001B[0m \u001B[1m0s\u001B[0m 8ms/step - accuracy: 0.9557 - loss: 0.0843 - val_accuracy: 0.9084 - val_loss: 0.3013\n",
      "Epoch 470/500\n",
      "\u001B[1m31/31\u001B[0m \u001B[32m━━━━━━━━━━━━━━━━━━━━\u001B[0m\u001B[37m\u001B[0m \u001B[1m0s\u001B[0m 8ms/step - accuracy: 0.9562 - loss: 0.0824 - val_accuracy: 0.9094 - val_loss: 0.3115\n",
      "Epoch 471/500\n",
      "\u001B[1m31/31\u001B[0m \u001B[32m━━━━━━━━━━━━━━━━━━━━\u001B[0m\u001B[37m\u001B[0m \u001B[1m0s\u001B[0m 8ms/step - accuracy: 0.9561 - loss: 0.0828 - val_accuracy: 0.9047 - val_loss: 0.3276\n",
      "Epoch 472/500\n",
      "\u001B[1m31/31\u001B[0m \u001B[32m━━━━━━━━━━━━━━━━━━━━\u001B[0m\u001B[37m\u001B[0m \u001B[1m0s\u001B[0m 9ms/step - accuracy: 0.9568 - loss: 0.0857 - val_accuracy: 0.9068 - val_loss: 0.3078\n",
      "Epoch 473/500\n",
      "\u001B[1m31/31\u001B[0m \u001B[32m━━━━━━━━━━━━━━━━━━━━\u001B[0m\u001B[37m\u001B[0m \u001B[1m0s\u001B[0m 9ms/step - accuracy: 0.9548 - loss: 0.0891 - val_accuracy: 0.9064 - val_loss: 0.3250\n",
      "Epoch 474/500\n",
      "\u001B[1m31/31\u001B[0m \u001B[32m━━━━━━━━━━━━━━━━━━━━\u001B[0m\u001B[37m\u001B[0m \u001B[1m0s\u001B[0m 11ms/step - accuracy: 0.9578 - loss: 0.0796 - val_accuracy: 0.9048 - val_loss: 0.3222\n",
      "Epoch 475/500\n",
      "\u001B[1m31/31\u001B[0m \u001B[32m━━━━━━━━━━━━━━━━━━━━\u001B[0m\u001B[37m\u001B[0m \u001B[1m0s\u001B[0m 9ms/step - accuracy: 0.9568 - loss: 0.0821 - val_accuracy: 0.9030 - val_loss: 0.3191\n",
      "Epoch 476/500\n",
      "\u001B[1m31/31\u001B[0m \u001B[32m━━━━━━━━━━━━━━━━━━━━\u001B[0m\u001B[37m\u001B[0m \u001B[1m0s\u001B[0m 9ms/step - accuracy: 0.9574 - loss: 0.0763 - val_accuracy: 0.9093 - val_loss: 0.3122\n",
      "Epoch 477/500\n",
      "\u001B[1m31/31\u001B[0m \u001B[32m━━━━━━━━━━━━━━━━━━━━\u001B[0m\u001B[37m\u001B[0m \u001B[1m0s\u001B[0m 9ms/step - accuracy: 0.9573 - loss: 0.0826 - val_accuracy: 0.9076 - val_loss: 0.3076\n",
      "Epoch 478/500\n",
      "\u001B[1m31/31\u001B[0m \u001B[32m━━━━━━━━━━━━━━━━━━━━\u001B[0m\u001B[37m\u001B[0m \u001B[1m0s\u001B[0m 8ms/step - accuracy: 0.9508 - loss: 0.0895 - val_accuracy: 0.9081 - val_loss: 0.3451\n",
      "Epoch 479/500\n",
      "\u001B[1m31/31\u001B[0m \u001B[32m━━━━━━━━━━━━━━━━━━━━\u001B[0m\u001B[37m\u001B[0m \u001B[1m0s\u001B[0m 10ms/step - accuracy: 0.9560 - loss: 0.0855 - val_accuracy: 0.9101 - val_loss: 0.3041\n",
      "Epoch 480/500\n",
      "\u001B[1m31/31\u001B[0m \u001B[32m━━━━━━━━━━━━━━━━━━━━\u001B[0m\u001B[37m\u001B[0m \u001B[1m0s\u001B[0m 9ms/step - accuracy: 0.9568 - loss: 0.0832 - val_accuracy: 0.9126 - val_loss: 0.3181\n",
      "Epoch 481/500\n",
      "\u001B[1m31/31\u001B[0m \u001B[32m━━━━━━━━━━━━━━━━━━━━\u001B[0m\u001B[37m\u001B[0m \u001B[1m0s\u001B[0m 10ms/step - accuracy: 0.9569 - loss: 0.0853 - val_accuracy: 0.9098 - val_loss: 0.3089\n",
      "Epoch 482/500\n",
      "\u001B[1m31/31\u001B[0m \u001B[32m━━━━━━━━━━━━━━━━━━━━\u001B[0m\u001B[37m\u001B[0m \u001B[1m0s\u001B[0m 8ms/step - accuracy: 0.9578 - loss: 0.0847 - val_accuracy: 0.9151 - val_loss: 0.3208\n",
      "Epoch 483/500\n",
      "\u001B[1m31/31\u001B[0m \u001B[32m━━━━━━━━━━━━━━━━━━━━\u001B[0m\u001B[37m\u001B[0m \u001B[1m0s\u001B[0m 9ms/step - accuracy: 0.9518 - loss: 0.0903 - val_accuracy: 0.9142 - val_loss: 0.3251\n",
      "Epoch 484/500\n",
      "\u001B[1m31/31\u001B[0m \u001B[32m━━━━━━━━━━━━━━━━━━━━\u001B[0m\u001B[37m\u001B[0m \u001B[1m0s\u001B[0m 9ms/step - accuracy: 0.9531 - loss: 0.0908 - val_accuracy: 0.9119 - val_loss: 0.3134\n",
      "Epoch 485/500\n",
      "\u001B[1m31/31\u001B[0m \u001B[32m━━━━━━━━━━━━━━━━━━━━\u001B[0m\u001B[37m\u001B[0m \u001B[1m0s\u001B[0m 10ms/step - accuracy: 0.9583 - loss: 0.0848 - val_accuracy: 0.9108 - val_loss: 0.3240\n",
      "Epoch 486/500\n",
      "\u001B[1m31/31\u001B[0m \u001B[32m━━━━━━━━━━━━━━━━━━━━\u001B[0m\u001B[37m\u001B[0m \u001B[1m0s\u001B[0m 10ms/step - accuracy: 0.9562 - loss: 0.0823 - val_accuracy: 0.9103 - val_loss: 0.3193\n",
      "Epoch 487/500\n",
      "\u001B[1m31/31\u001B[0m \u001B[32m━━━━━━━━━━━━━━━━━━━━\u001B[0m\u001B[37m\u001B[0m \u001B[1m0s\u001B[0m 9ms/step - accuracy: 0.9533 - loss: 0.0869 - val_accuracy: 0.9061 - val_loss: 0.3121\n",
      "Epoch 488/500\n",
      "\u001B[1m31/31\u001B[0m \u001B[32m━━━━━━━━━━━━━━━━━━━━\u001B[0m\u001B[37m\u001B[0m \u001B[1m0s\u001B[0m 8ms/step - accuracy: 0.9546 - loss: 0.0867 - val_accuracy: 0.9148 - val_loss: 0.3273\n",
      "Epoch 489/500\n",
      "\u001B[1m31/31\u001B[0m \u001B[32m━━━━━━━━━━━━━━━━━━━━\u001B[0m\u001B[37m\u001B[0m \u001B[1m0s\u001B[0m 8ms/step - accuracy: 0.9534 - loss: 0.0923 - val_accuracy: 0.9026 - val_loss: 0.3234\n",
      "Epoch 490/500\n",
      "\u001B[1m31/31\u001B[0m \u001B[32m━━━━━━━━━━━━━━━━━━━━\u001B[0m\u001B[37m\u001B[0m \u001B[1m0s\u001B[0m 8ms/step - accuracy: 0.9559 - loss: 0.0845 - val_accuracy: 0.9099 - val_loss: 0.3256\n",
      "Epoch 491/500\n",
      "\u001B[1m31/31\u001B[0m \u001B[32m━━━━━━━━━━━━━━━━━━━━\u001B[0m\u001B[37m\u001B[0m \u001B[1m0s\u001B[0m 9ms/step - accuracy: 0.9570 - loss: 0.0823 - val_accuracy: 0.9088 - val_loss: 0.3188\n",
      "Epoch 492/500\n",
      "\u001B[1m31/31\u001B[0m \u001B[32m━━━━━━━━━━━━━━━━━━━━\u001B[0m\u001B[37m\u001B[0m \u001B[1m0s\u001B[0m 8ms/step - accuracy: 0.9552 - loss: 0.0867 - val_accuracy: 0.9116 - val_loss: 0.3241\n",
      "Epoch 493/500\n",
      "\u001B[1m31/31\u001B[0m \u001B[32m━━━━━━━━━━━━━━━━━━━━\u001B[0m\u001B[37m\u001B[0m \u001B[1m0s\u001B[0m 9ms/step - accuracy: 0.9502 - loss: 0.0875 - val_accuracy: 0.9054 - val_loss: 0.3481\n",
      "Epoch 494/500\n",
      "\u001B[1m31/31\u001B[0m \u001B[32m━━━━━━━━━━━━━━━━━━━━\u001B[0m\u001B[37m\u001B[0m \u001B[1m0s\u001B[0m 8ms/step - accuracy: 0.9556 - loss: 0.0909 - val_accuracy: 0.9119 - val_loss: 0.3079\n",
      "Epoch 495/500\n",
      "\u001B[1m31/31\u001B[0m \u001B[32m━━━━━━━━━━━━━━━━━━━━\u001B[0m\u001B[37m\u001B[0m \u001B[1m0s\u001B[0m 8ms/step - accuracy: 0.9567 - loss: 0.0838 - val_accuracy: 0.9068 - val_loss: 0.3419\n",
      "Epoch 496/500\n",
      "\u001B[1m31/31\u001B[0m \u001B[32m━━━━━━━━━━━━━━━━━━━━\u001B[0m\u001B[37m\u001B[0m \u001B[1m0s\u001B[0m 9ms/step - accuracy: 0.9536 - loss: 0.0865 - val_accuracy: 0.9144 - val_loss: 0.3359\n",
      "Epoch 497/500\n",
      "\u001B[1m31/31\u001B[0m \u001B[32m━━━━━━━━━━━━━━━━━━━━\u001B[0m\u001B[37m\u001B[0m \u001B[1m0s\u001B[0m 8ms/step - accuracy: 0.9528 - loss: 0.0869 - val_accuracy: 0.9085 - val_loss: 0.3393\n",
      "Epoch 498/500\n",
      "\u001B[1m31/31\u001B[0m \u001B[32m━━━━━━━━━━━━━━━━━━━━\u001B[0m\u001B[37m\u001B[0m \u001B[1m0s\u001B[0m 12ms/step - accuracy: 0.9553 - loss: 0.0870 - val_accuracy: 0.9020 - val_loss: 0.3243\n",
      "Epoch 499/500\n",
      "\u001B[1m31/31\u001B[0m \u001B[32m━━━━━━━━━━━━━━━━━━━━\u001B[0m\u001B[37m\u001B[0m \u001B[1m0s\u001B[0m 10ms/step - accuracy: 0.9562 - loss: 0.0816 - val_accuracy: 0.9084 - val_loss: 0.3034\n",
      "Epoch 500/500\n",
      "\u001B[1m31/31\u001B[0m \u001B[32m━━━━━━━━━━━━━━━━━━━━\u001B[0m\u001B[37m\u001B[0m \u001B[1m0s\u001B[0m 8ms/step - accuracy: 0.9537 - loss: 0.0908 - val_accuracy: 0.9066 - val_loss: 0.3174\n"
     ]
    },
    {
     "data": {
      "text/plain": [
       "<keras_core.src.callbacks.history.History at 0x7feab02ad510>"
      ]
     },
     "execution_count": 15,
     "metadata": {},
     "output_type": "execute_result"
    }
   ],
   "execution_count": 15
  },
  {
   "cell_type": "markdown",
   "source": [
    "# save model"
   ],
   "metadata": {
    "collapsed": false
   },
   "id": "84f51140de160118"
  },
  {
   "cell_type": "code",
   "source": [
    "model.save(model_weight_dst)"
   ],
   "metadata": {
    "collapsed": false,
    "ExecuteTime": {
     "end_time": "2024-07-15T08:55:05.856665Z",
     "start_time": "2024-07-15T08:55:05.810133Z"
    }
   },
   "id": "e1902ebb3c46924c",
   "outputs": [],
   "execution_count": 16
  },
  {
   "cell_type": "code",
   "source": [],
   "metadata": {
    "collapsed": false,
    "ExecuteTime": {
     "end_time": "2024-07-15T08:55:05.860884Z",
     "start_time": "2024-07-15T08:55:05.858520Z"
    }
   },
   "id": "55b6f98994a58bb2",
   "outputs": [],
   "execution_count": 16
  }
 ],
 "metadata": {
  "kernelspec": {
   "display_name": "Python 3 (ipykernel)",
   "language": "python",
   "name": "python3"
  },
  "language_info": {
   "codemirror_mode": {
    "name": "ipython",
    "version": 3
   },
   "file_extension": ".py",
   "mimetype": "text/x-python",
   "name": "python",
   "nbconvert_exporter": "python",
   "pygments_lexer": "ipython3",
   "version": "3.10.13"
  }
 },
 "nbformat": 4,
 "nbformat_minor": 5
}
>>>>>>> 3291550 (update models and add vit)
