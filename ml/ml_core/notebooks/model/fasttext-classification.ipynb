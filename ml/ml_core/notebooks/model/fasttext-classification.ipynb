{
 "cells": [
  {
   "cell_type": "code",
   "execution_count": 7,
   "id": "initial_id",
   "metadata": {
    "collapsed": false,
    "ExecuteTime": {
     "end_time": "2024-06-27T08:43:56.156633Z",
     "start_time": "2024-06-27T08:43:49.467957Z"
    }
   },
   "outputs": [
    {
     "name": "stdout",
     "output_type": "stream",
     "text": [
      "Using TensorFlow backend\n"
     ]
    },
    {
     "name": "stderr",
     "output_type": "stream",
     "text": [
      "2024-06-27 10:43:51.710301: I tensorflow/core/platform/cpu_feature_guard.cc:210] This TensorFlow binary is optimized to use available CPU instructions in performance-critical operations.\n",
      "To enable the following instructions: AVX2 FMA, in other operations, rebuild TensorFlow with the appropriate compiler flags.\n",
      "2024-06-27 10:43:53.460918: W tensorflow/compiler/tf2tensorrt/utils/py_utils.cc:38] TF-TRT Warning: Could not find TensorRT\n"
     ]
    }
   ],
   "source": [
    "import datetime\n",
    "import os\n",
    "\n",
    "import fasttext\n",
    "import keras_core as keras\n",
    "import numpy as np\n",
    "import pandas as pd\n",
    "from keras_core import Sequential\n",
    "from keras_core.src.layers import Dense\n",
    "from keras_core.models import load_model\n",
    "from sklearn.model_selection import train_test_split\n",
    "from tqdm import tqdm\n",
    "import tensorflow as tf\n",
    "\n",
    "from tensorboard.plugins.hparams import api as hp"
   ]
  },
  {
   "cell_type": "markdown",
   "id": "3d946bd3803cbf47",
   "metadata": {
    "collapsed": false
   },
   "source": [
    "## import fastTest model"
   ]
  },
  {
   "cell_type": "code",
   "outputs": [],
   "source": [
    "import os\n",
    "#embedded_path = './../../'\n",
    "\n",
    "#contents = os.listdir(embedded_path)\n",
    "#print(contents)\n",
    "ft = fasttext.load_model('../../data/embedding_data/cc.fr.300.bin')"
   ],
   "metadata": {
    "collapsed": false,
    "ExecuteTime": {
     "end_time": "2024-06-27T08:49:08.908210Z",
     "start_time": "2024-06-27T08:48:40.951135Z"
    }
   },
   "id": "581097380ddb6dcb",
   "execution_count": 24
  },
  {
   "cell_type": "markdown",
   "id": "18856c657e08494f",
   "metadata": {
    "collapsed": false
   },
   "source": [
    "## Configurations"
   ]
  },
  {
   "cell_type": "code",
   "outputs": [],
   "source": [
    "params_grid = {\n",
    "    \"model\" : \"nlp\",\n",
    "    \"embedder\" : \"fasttext\",\n",
    "    \"embedding_data\" : \"cc.fr.300.bin\",\n",
    "    \"dataset\" : \"fr_hf.csv\",\n",
    "    \"batch_size\" : 300\n",
    "}"
   ],
   "metadata": {
    "collapsed": false,
    "ExecuteTime": {
     "end_time": "2024-06-27T08:43:01.923498Z",
     "start_time": "2024-06-27T08:43:01.919528Z"
    }
   },
   "id": "9574abd306005981",
   "execution_count": 3
  },
  {
   "cell_type": "code",
   "outputs": [],
   "source": [
    "data_folder_src = './../../data/processed/'\n",
    "data_path_src = f'{data_folder_src}{params_grid[\"dataset\"]}'\n",
    "date_str = datetime.datetime.now().strftime(\"%Y%m%d-%H%M%S\")\n",
    "experiment_name = f'deepwoke_{params_grid[\"embedder\"]}_{params_grid[\"model\"]}_{params_grid[\"dataset\"]}_{date_str}'\n",
    "\n",
    "log_dir = f\"../../log/fit/{experiment_name}\"\n",
    "model_weight_dst = f'../../model_weights/{experiment_name}-model.keras'"
   ],
   "metadata": {
    "collapsed": false,
    "ExecuteTime": {
     "end_time": "2024-06-27T08:45:02.522685Z",
     "start_time": "2024-06-27T08:45:02.516481Z"
    }
   },
   "id": "d220a1d10493404e",
   "execution_count": 9
  },
  {
   "cell_type": "code",
   "outputs": [],
   "source": [
    "\n",
    "vector_path = f'./../../embedded_vector/{params_grid[\"embedding_data\"]}_{params_grid[\"dataset\"]}'\n",
    "vector_x_dst = f'{vector_path}.x.npy'\n",
    "vector_y_dst = f'{vector_path}.y.npy'"
   ],
   "metadata": {
    "collapsed": false,
    "ExecuteTime": {
     "end_time": "2024-06-27T08:45:03.220749Z",
     "start_time": "2024-06-27T08:45:03.217561Z"
    }
   },
   "id": "63bc5b9857e00e2f",
   "execution_count": 10
  },
  {
   "cell_type": "markdown",
   "id": "5d4209390b020a7",
   "metadata": {
    "collapsed": false
   },
   "source": [
    "# loading dataset"
   ]
  },
  {
   "cell_type": "code",
   "execution_count": 11,
   "id": "cda597a675bb1ba2",
   "metadata": {
    "collapsed": false,
    "ExecuteTime": {
     "end_time": "2024-06-27T08:45:11.469821Z",
     "start_time": "2024-06-27T08:45:11.346764Z"
    }
   },
   "outputs": [],
   "source": [
    "X = np.load(vector_x_dst)\n",
    "y = np.load(vector_y_dst)"
   ]
  },
  {
   "cell_type": "markdown",
   "id": "b14d86b3a33f2e60",
   "metadata": {
    "collapsed": false
   },
   "source": [
    "## text to vector"
   ]
  },
  {
   "cell_type": "code",
   "execution_count": 22,
   "id": "4811628c43744431",
   "metadata": {
    "collapsed": false,
    "ExecuteTime": {
     "end_time": "2024-06-27T08:48:30.204217Z",
     "start_time": "2024-06-27T08:48:30.200481Z"
    }
   },
   "outputs": [],
   "source": [
    "def text_to_vector(text):\n",
    "    words = text.split(' ')\n",
    "    word_vectors = [ft.get_word_vector(word) for word in words if word in ft.words]\n",
    "    if not word_vectors:\n",
    "        return np.zeros(300)\n",
    "    return np.mean(word_vectors, axis=0)"
   ]
  },
  {
   "cell_type": "markdown",
   "id": "7b718cecf9585fb1",
   "metadata": {
    "collapsed": false
   },
   "source": [
    "## building and training the model"
   ]
  },
  {
   "cell_type": "markdown",
   "id": "5c8ac62597164bde",
   "metadata": {
    "collapsed": false
   },
   "source": [
    "### callbacks"
   ]
  },
  {
   "cell_type": "code",
   "execution_count": 14,
   "id": "336209aae383296f",
   "metadata": {
    "collapsed": false,
    "ExecuteTime": {
     "end_time": "2024-06-27T08:45:31.066340Z",
     "start_time": "2024-06-27T08:45:31.063133Z"
    }
   },
   "outputs": [],
   "source": [
    "early_stopping = keras.callbacks.EarlyStopping(\n",
    "    patience=10,\n",
    "    min_delta=0.001,\n",
    "    restore_best_weights=True,\n",
    "    monitor='loss'\n",
    ")\n"
   ]
  },
  {
   "cell_type": "code",
   "execution_count": 15,
   "id": "9f93ecb4efe31443",
   "metadata": {
    "collapsed": false,
    "ExecuteTime": {
     "end_time": "2024-06-27T08:45:31.636077Z",
     "start_time": "2024-06-27T08:45:31.631503Z"
    }
   },
   "outputs": [],
   "source": [
    "\n",
    "class EarlyStoppingLogging(tf.keras.callbacks.Callback):\n",
    "    def __init__(self, early_stopping_callback, log_dir):\n",
    "        super().__init__()\n",
    "        self.early_stopping = early_stopping_callback\n",
    "        self.stopped_epoch = 0\n",
    "        self.writer = tf.summary.create_file_writer(log_dir)\n",
    "\n",
    "    def on_epoch_end(self, epoch, logs=None):\n",
    "        if self.early_stopping.stopped_epoch > 0:\n",
    "            self.stopped_epoch = self.early_stopping.stopped_epoch\n",
    "            with self.writer.as_default():\n",
    "                tf.summary.scalar('early_stopping_epoch', self.stopped_epoch, step=epoch)\n",
    "                self.writer.flush()\n"
   ]
  },
  {
   "cell_type": "code",
   "execution_count": 16,
   "id": "7ec43b4117399510",
   "metadata": {
    "collapsed": false,
    "ExecuteTime": {
     "end_time": "2024-06-27T08:45:33.894081Z",
     "start_time": "2024-06-27T08:45:32.727459Z"
    }
   },
   "outputs": [
    {
     "name": "stderr",
     "output_type": "stream",
     "text": [
      "2024-06-27 10:45:33.221888: I external/local_xla/xla/stream_executor/cuda/cuda_executor.cc:984] could not open file to read NUMA node: /sys/bus/pci/devices/0000:01:00.0/numa_node\n",
      "Your kernel may have been built without NUMA support.\n",
      "2024-06-27 10:45:33.777864: W tensorflow/core/common_runtime/gpu/gpu_device.cc:2251] Cannot dlopen some GPU libraries. Please make sure the missing libraries mentioned above are installed properly if you would like to use GPU. Follow the guide at https://www.tensorflow.org/install/gpu for how to download and setup the required libraries for your platform.\n",
      "Skipping registering GPU devices...\n"
     ]
    }
   ],
   "source": [
    "tensorboard_callback = keras.callbacks.TensorBoard(log_dir=log_dir, histogram_freq=1)\n",
    "early_stopping_logging_callback = EarlyStoppingLogging(early_stopping, log_dir)"
   ]
  },
  {
   "cell_type": "code",
   "execution_count": 17,
   "id": "3f3d46724d8e5aa1",
   "metadata": {
    "collapsed": false,
    "ExecuteTime": {
     "end_time": "2024-06-27T08:45:50.286907Z",
     "start_time": "2024-06-27T08:45:50.282649Z"
    }
   },
   "outputs": [],
   "source": [
    "callback = [\n",
    "    early_stopping,\n",
    "    tensorboard_callback,\n",
    "    hp.KerasCallback(log_dir, params_grid),\n",
    "    early_stopping_logging_callback,\n",
    "]"
   ]
  },
  {
   "cell_type": "markdown",
   "id": "9dec354f696f24a9",
   "metadata": {
    "collapsed": false
   },
   "source": [
    "### training the model"
   ]
  },
  {
   "cell_type": "code",
   "outputs": [
    {
     "name": "stdout",
     "output_type": "stream",
     "text": [
      "Epoch 1/500\n"
     ]
    },
    {
     "name": "stderr",
     "output_type": "stream",
     "text": [
      "/home/arys/miniconda3/envs/DEV_IA/lib/python3.10/site-packages/keras_core/src/layers/core/dense.py:73: UserWarning: Do not pass an `input_shape`/`input_dim` argument to a layer. When using Sequential models, prefer using an `Input(shape)` object as the first layer in the model instead.\n",
      "  super().__init__(activity_regularizer=activity_regularizer, **kwargs)\n",
      "2024-06-27 10:45:57.070783: W external/local_tsl/tsl/framework/cpu_allocator_impl.cc:83] Allocation of 17347200 exceeds 10% of free system memory.\n",
      "WARNING: All log messages before absl::InitializeLog() is called are written to STDERR\n",
      "I0000 00:00:1719477958.503533   42698 service.cc:145] XLA service 0x7f5fec00bda0 initialized for platform Host (this does not guarantee that XLA will be used). Devices:\n",
      "I0000 00:00:1719477958.503680   42698 service.cc:153]   StreamExecutor device (0): Host, Default Version\n",
      "2024-06-27 10:45:58.588340: I tensorflow/compiler/mlir/tensorflow/utils/dump_mlir_util.cc:268] disabling MLIR crash reproducer, set env var `MLIR_CRASH_REPRODUCER_DIRECTORY` to enable.\n"
     ]
    },
    {
     "name": "stdout",
     "output_type": "stream",
     "text": [
      "\u001B[1m 1/49\u001B[0m \u001B[37m━━━━━━━━━━━━━━━━━━━━\u001B[0m \u001B[1m2:02\u001B[0m 3s/step - accuracy: 0.2633 - loss: 0.7054"
     ]
    },
    {
     "name": "stderr",
     "output_type": "stream",
     "text": [
      "I0000 00:00:1719477959.267670   42698 device_compiler.h:188] Compiled cluster using XLA!  This line is logged at most once for the lifetime of the process.\n"
     ]
    },
    {
     "name": "stdout",
     "output_type": "stream",
     "text": [
      "\u001B[1m49/49\u001B[0m \u001B[32m━━━━━━━━━━━━━━━━━━━━\u001B[0m\u001B[37m\u001B[0m \u001B[1m4s\u001B[0m 20ms/step - accuracy: 0.7000 - loss: 0.6197 - val_accuracy: 0.7687 - val_loss: 0.5347\n",
      "Epoch 2/500\n",
      "\u001B[1m49/49\u001B[0m \u001B[32m━━━━━━━━━━━━━━━━━━━━\u001B[0m\u001B[37m\u001B[0m \u001B[1m0s\u001B[0m 5ms/step - accuracy: 0.7600 - loss: 0.5384 - val_accuracy: 0.7687 - val_loss: 0.5072\n",
      "Epoch 3/500\n",
      "\u001B[1m41/49\u001B[0m \u001B[32m━━━━━━━━━━━━━━━━\u001B[0m\u001B[37m━━━━\u001B[0m \u001B[1m0s\u001B[0m 3ms/step - accuracy: 0.7560 - loss: 0.5196"
     ]
    },
    {
     "name": "stderr",
     "output_type": "stream",
     "text": [
      "2024-06-27 10:46:00.768680: W external/local_tsl/tsl/framework/cpu_allocator_impl.cc:83] Allocation of 17347200 exceeds 10% of free system memory.\n"
     ]
    },
    {
     "name": "stdout",
     "output_type": "stream",
     "text": [
      "\u001B[1m49/49\u001B[0m \u001B[32m━━━━━━━━━━━━━━━━━━━━\u001B[0m\u001B[37m\u001B[0m \u001B[1m0s\u001B[0m 5ms/step - accuracy: 0.7569 - loss: 0.5175 - val_accuracy: 0.7687 - val_loss: 0.4880\n",
      "Epoch 4/500\n",
      "\u001B[1m49/49\u001B[0m \u001B[32m━━━━━━━━━━━━━━━━━━━━\u001B[0m\u001B[37m\u001B[0m \u001B[1m0s\u001B[0m 8ms/step - accuracy: 0.7596 - loss: 0.4943 - val_accuracy: 0.7744 - val_loss: 0.4727\n",
      "Epoch 5/500\n",
      "\u001B[1m39/49\u001B[0m \u001B[32m━━━━━━━━━━━━━━━\u001B[0m\u001B[37m━━━━━\u001B[0m \u001B[1m0s\u001B[0m 3ms/step - accuracy: 0.7774 - loss: 0.4706"
     ]
    },
    {
     "name": "stderr",
     "output_type": "stream",
     "text": [
      "2024-06-27 10:46:01.533763: W external/local_tsl/tsl/framework/cpu_allocator_impl.cc:83] Allocation of 17347200 exceeds 10% of free system memory.\n"
     ]
    },
    {
     "name": "stdout",
     "output_type": "stream",
     "text": [
      "\u001B[1m49/49\u001B[0m \u001B[32m━━━━━━━━━━━━━━━━━━━━\u001B[0m\u001B[37m\u001B[0m \u001B[1m0s\u001B[0m 5ms/step - accuracy: 0.7772 - loss: 0.4711 - val_accuracy: 0.7779 - val_loss: 0.4680\n",
      "Epoch 6/500\n",
      "\u001B[1m49/49\u001B[0m \u001B[32m━━━━━━━━━━━━━━━━━━━━\u001B[0m\u001B[37m\u001B[0m \u001B[1m0s\u001B[0m 5ms/step - accuracy: 0.7813 - loss: 0.4626 - val_accuracy: 0.7872 - val_loss: 0.4654\n",
      "Epoch 7/500\n",
      "\u001B[1m40/49\u001B[0m \u001B[32m━━━━━━━━━━━━━━━━\u001B[0m\u001B[37m━━━━\u001B[0m \u001B[1m0s\u001B[0m 3ms/step - accuracy: 0.7975 - loss: 0.4483"
     ]
    },
    {
     "name": "stderr",
     "output_type": "stream",
     "text": [
      "2024-06-27 10:46:02.148967: W external/local_tsl/tsl/framework/cpu_allocator_impl.cc:83] Allocation of 17347200 exceeds 10% of free system memory.\n"
     ]
    },
    {
     "name": "stdout",
     "output_type": "stream",
     "text": [
      "\u001B[1m49/49\u001B[0m \u001B[32m━━━━━━━━━━━━━━━━━━━━\u001B[0m\u001B[37m\u001B[0m \u001B[1m0s\u001B[0m 5ms/step - accuracy: 0.7965 - loss: 0.4487 - val_accuracy: 0.7797 - val_loss: 0.4637\n",
      "Epoch 8/500\n",
      "\u001B[1m49/49\u001B[0m \u001B[32m━━━━━━━━━━━━━━━━━━━━\u001B[0m\u001B[37m\u001B[0m \u001B[1m0s\u001B[0m 5ms/step - accuracy: 0.7985 - loss: 0.4419 - val_accuracy: 0.7895 - val_loss: 0.4592\n",
      "Epoch 9/500\n",
      "\u001B[1m43/49\u001B[0m \u001B[32m━━━━━━━━━━━━━━━━━\u001B[0m\u001B[37m━━━\u001B[0m \u001B[1m0s\u001B[0m 2ms/step - accuracy: 0.8011 - loss: 0.4313"
     ]
    },
    {
     "name": "stderr",
     "output_type": "stream",
     "text": [
      "2024-06-27 10:46:02.740808: W external/local_tsl/tsl/framework/cpu_allocator_impl.cc:83] Allocation of 17347200 exceeds 10% of free system memory.\n"
     ]
    },
    {
     "name": "stdout",
     "output_type": "stream",
     "text": [
      "\u001B[1m49/49\u001B[0m \u001B[32m━━━━━━━━━━━━━━━━━━━━\u001B[0m\u001B[37m\u001B[0m \u001B[1m0s\u001B[0m 5ms/step - accuracy: 0.8013 - loss: 0.4313 - val_accuracy: 0.7936 - val_loss: 0.4716\n",
      "Epoch 10/500\n",
      "\u001B[1m49/49\u001B[0m \u001B[32m━━━━━━━━━━━━━━━━━━━━\u001B[0m\u001B[37m\u001B[0m \u001B[1m0s\u001B[0m 5ms/step - accuracy: 0.8000 - loss: 0.4302 - val_accuracy: 0.7895 - val_loss: 0.4611\n",
      "Epoch 11/500\n",
      "\u001B[1m49/49\u001B[0m \u001B[32m━━━━━━━━━━━━━━━━━━━━\u001B[0m\u001B[37m\u001B[0m \u001B[1m0s\u001B[0m 5ms/step - accuracy: 0.8185 - loss: 0.4085 - val_accuracy: 0.7862 - val_loss: 0.4670\n",
      "Epoch 12/500\n",
      "\u001B[1m49/49\u001B[0m \u001B[32m━━━━━━━━━━━━━━━━━━━━\u001B[0m\u001B[37m\u001B[0m \u001B[1m0s\u001B[0m 5ms/step - accuracy: 0.8192 - loss: 0.4038 - val_accuracy: 0.7908 - val_loss: 0.4676\n",
      "Epoch 13/500\n",
      "\u001B[1m49/49\u001B[0m \u001B[32m━━━━━━━━━━━━━━━━━━━━\u001B[0m\u001B[37m\u001B[0m \u001B[1m0s\u001B[0m 5ms/step - accuracy: 0.8255 - loss: 0.3875 - val_accuracy: 0.7872 - val_loss: 0.4714\n",
      "Epoch 14/500\n",
      "\u001B[1m49/49\u001B[0m \u001B[32m━━━━━━━━━━━━━━━━━━━━\u001B[0m\u001B[37m\u001B[0m \u001B[1m0s\u001B[0m 5ms/step - accuracy: 0.8308 - loss: 0.3776 - val_accuracy: 0.7882 - val_loss: 0.4760\n",
      "Epoch 15/500\n",
      "\u001B[1m49/49\u001B[0m \u001B[32m━━━━━━━━━━━━━━━━━━━━\u001B[0m\u001B[37m\u001B[0m \u001B[1m0s\u001B[0m 5ms/step - accuracy: 0.8364 - loss: 0.3676 - val_accuracy: 0.7813 - val_loss: 0.4847\n",
      "Epoch 16/500\n",
      "\u001B[1m49/49\u001B[0m \u001B[32m━━━━━━━━━━━━━━━━━━━━\u001B[0m\u001B[37m\u001B[0m \u001B[1m0s\u001B[0m 5ms/step - accuracy: 0.8405 - loss: 0.3604 - val_accuracy: 0.7905 - val_loss: 0.4806\n",
      "Epoch 17/500\n",
      "\u001B[1m49/49\u001B[0m \u001B[32m━━━━━━━━━━━━━━━━━━━━\u001B[0m\u001B[37m\u001B[0m \u001B[1m0s\u001B[0m 5ms/step - accuracy: 0.8446 - loss: 0.3542 - val_accuracy: 0.7731 - val_loss: 0.5084\n",
      "Epoch 18/500\n",
      "\u001B[1m49/49\u001B[0m \u001B[32m━━━━━━━━━━━━━━━━━━━━\u001B[0m\u001B[37m\u001B[0m \u001B[1m0s\u001B[0m 5ms/step - accuracy: 0.8545 - loss: 0.3349 - val_accuracy: 0.7628 - val_loss: 0.5266\n",
      "Epoch 19/500\n",
      "\u001B[1m49/49\u001B[0m \u001B[32m━━━━━━━━━━━━━━━━━━━━\u001B[0m\u001B[37m\u001B[0m \u001B[1m0s\u001B[0m 4ms/step - accuracy: 0.8596 - loss: 0.3264 - val_accuracy: 0.7892 - val_loss: 0.5436\n",
      "Epoch 20/500\n",
      "\u001B[1m49/49\u001B[0m \u001B[32m━━━━━━━━━━━━━━━━━━━━\u001B[0m\u001B[37m\u001B[0m \u001B[1m0s\u001B[0m 5ms/step - accuracy: 0.8574 - loss: 0.3269 - val_accuracy: 0.7769 - val_loss: 0.5313\n",
      "Epoch 21/500\n",
      "\u001B[1m49/49\u001B[0m \u001B[32m━━━━━━━━━━━━━━━━━━━━\u001B[0m\u001B[37m\u001B[0m \u001B[1m0s\u001B[0m 5ms/step - accuracy: 0.8613 - loss: 0.3166 - val_accuracy: 0.7818 - val_loss: 0.5347\n",
      "Epoch 22/500\n",
      "\u001B[1m49/49\u001B[0m \u001B[32m━━━━━━━━━━━━━━━━━━━━\u001B[0m\u001B[37m\u001B[0m \u001B[1m0s\u001B[0m 5ms/step - accuracy: 0.8789 - loss: 0.2902 - val_accuracy: 0.7782 - val_loss: 0.5482\n",
      "Epoch 23/500\n",
      "\u001B[1m49/49\u001B[0m \u001B[32m━━━━━━━━━━━━━━━━━━━━\u001B[0m\u001B[37m\u001B[0m \u001B[1m0s\u001B[0m 5ms/step - accuracy: 0.8840 - loss: 0.2837 - val_accuracy: 0.7838 - val_loss: 0.5787\n",
      "Epoch 24/500\n",
      "\u001B[1m49/49\u001B[0m \u001B[32m━━━━━━━━━━━━━━━━━━━━\u001B[0m\u001B[37m\u001B[0m \u001B[1m0s\u001B[0m 5ms/step - accuracy: 0.8788 - loss: 0.2801 - val_accuracy: 0.7690 - val_loss: 0.5753\n",
      "Epoch 25/500\n",
      "\u001B[1m49/49\u001B[0m \u001B[32m━━━━━━━━━━━━━━━━━━━━\u001B[0m\u001B[37m\u001B[0m \u001B[1m0s\u001B[0m 5ms/step - accuracy: 0.8900 - loss: 0.2646 - val_accuracy: 0.7764 - val_loss: 0.5880\n",
      "Epoch 26/500\n",
      "\u001B[1m49/49\u001B[0m \u001B[32m━━━━━━━━━━━━━━━━━━━━\u001B[0m\u001B[37m\u001B[0m \u001B[1m0s\u001B[0m 5ms/step - accuracy: 0.8912 - loss: 0.2581 - val_accuracy: 0.7756 - val_loss: 0.6026\n",
      "Epoch 27/500\n",
      "\u001B[1m49/49\u001B[0m \u001B[32m━━━━━━━━━━━━━━━━━━━━\u001B[0m\u001B[37m\u001B[0m \u001B[1m0s\u001B[0m 5ms/step - accuracy: 0.8911 - loss: 0.2551 - val_accuracy: 0.7797 - val_loss: 0.6133\n",
      "Epoch 28/500\n",
      "\u001B[1m49/49\u001B[0m \u001B[32m━━━━━━━━━━━━━━━━━━━━\u001B[0m\u001B[37m\u001B[0m \u001B[1m0s\u001B[0m 5ms/step - accuracy: 0.8994 - loss: 0.2456 - val_accuracy: 0.7731 - val_loss: 0.6278\n",
      "Epoch 29/500\n",
      "\u001B[1m49/49\u001B[0m \u001B[32m━━━━━━━━━━━━━━━━━━━━\u001B[0m\u001B[37m\u001B[0m \u001B[1m0s\u001B[0m 5ms/step - accuracy: 0.9060 - loss: 0.2324 - val_accuracy: 0.7815 - val_loss: 0.6414\n",
      "Epoch 30/500\n",
      "\u001B[1m49/49\u001B[0m \u001B[32m━━━━━━━━━━━━━━━━━━━━\u001B[0m\u001B[37m\u001B[0m \u001B[1m0s\u001B[0m 5ms/step - accuracy: 0.9158 - loss: 0.2121 - val_accuracy: 0.7738 - val_loss: 0.6601\n",
      "Epoch 31/500\n",
      "\u001B[1m49/49\u001B[0m \u001B[32m━━━━━━━━━━━━━━━━━━━━\u001B[0m\u001B[37m\u001B[0m \u001B[1m0s\u001B[0m 5ms/step - accuracy: 0.9111 - loss: 0.2165 - val_accuracy: 0.7613 - val_loss: 0.7064\n",
      "Epoch 32/500\n",
      "\u001B[1m49/49\u001B[0m \u001B[32m━━━━━━━━━━━━━━━━━━━━\u001B[0m\u001B[37m\u001B[0m \u001B[1m0s\u001B[0m 5ms/step - accuracy: 0.9143 - loss: 0.2157 - val_accuracy: 0.7631 - val_loss: 0.6683\n",
      "Epoch 33/500\n",
      "\u001B[1m49/49\u001B[0m \u001B[32m━━━━━━━━━━━━━━━━━━━━\u001B[0m\u001B[37m\u001B[0m \u001B[1m0s\u001B[0m 5ms/step - accuracy: 0.9187 - loss: 0.2013 - val_accuracy: 0.7610 - val_loss: 0.7162\n",
      "Epoch 34/500\n",
      "\u001B[1m49/49\u001B[0m \u001B[32m━━━━━━━━━━━━━━━━━━━━\u001B[0m\u001B[37m\u001B[0m \u001B[1m0s\u001B[0m 5ms/step - accuracy: 0.9289 - loss: 0.1847 - val_accuracy: 0.7777 - val_loss: 0.7303\n",
      "Epoch 35/500\n",
      "\u001B[1m49/49\u001B[0m \u001B[32m━━━━━━━━━━━━━━━━━━━━\u001B[0m\u001B[37m\u001B[0m \u001B[1m0s\u001B[0m 5ms/step - accuracy: 0.9281 - loss: 0.1847 - val_accuracy: 0.7610 - val_loss: 0.7471\n",
      "Epoch 36/500\n",
      "\u001B[1m49/49\u001B[0m \u001B[32m━━━━━━━━━━━━━━━━━━━━\u001B[0m\u001B[37m\u001B[0m \u001B[1m0s\u001B[0m 5ms/step - accuracy: 0.9293 - loss: 0.1813 - val_accuracy: 0.7744 - val_loss: 0.7481\n",
      "Epoch 37/500\n",
      "\u001B[1m49/49\u001B[0m \u001B[32m━━━━━━━━━━━━━━━━━━━━\u001B[0m\u001B[37m\u001B[0m \u001B[1m0s\u001B[0m 4ms/step - accuracy: 0.9320 - loss: 0.1734 - val_accuracy: 0.7682 - val_loss: 0.7645\n",
      "Epoch 38/500\n",
      "\u001B[1m49/49\u001B[0m \u001B[32m━━━━━━━━━━━━━━━━━━━━\u001B[0m\u001B[37m\u001B[0m \u001B[1m0s\u001B[0m 4ms/step - accuracy: 0.9326 - loss: 0.1742 - val_accuracy: 0.7818 - val_loss: 0.7783\n",
      "Epoch 39/500\n",
      "\u001B[1m49/49\u001B[0m \u001B[32m━━━━━━━━━━━━━━━━━━━━\u001B[0m\u001B[37m\u001B[0m \u001B[1m0s\u001B[0m 5ms/step - accuracy: 0.9444 - loss: 0.1507 - val_accuracy: 0.7295 - val_loss: 0.8615\n",
      "Epoch 40/500\n",
      "\u001B[1m49/49\u001B[0m \u001B[32m━━━━━━━━━━━━━━━━━━━━\u001B[0m\u001B[37m\u001B[0m \u001B[1m0s\u001B[0m 5ms/step - accuracy: 0.9433 - loss: 0.1573 - val_accuracy: 0.7349 - val_loss: 0.8669\n",
      "Epoch 41/500\n",
      "\u001B[1m49/49\u001B[0m \u001B[32m━━━━━━━━━━━━━━━━━━━━\u001B[0m\u001B[37m\u001B[0m \u001B[1m0s\u001B[0m 4ms/step - accuracy: 0.9376 - loss: 0.1591 - val_accuracy: 0.7582 - val_loss: 0.8538\n",
      "Epoch 42/500\n",
      "\u001B[1m49/49\u001B[0m \u001B[32m━━━━━━━━━━━━━━━━━━━━\u001B[0m\u001B[37m\u001B[0m \u001B[1m0s\u001B[0m 5ms/step - accuracy: 0.9527 - loss: 0.1336 - val_accuracy: 0.7551 - val_loss: 0.8648\n",
      "Epoch 43/500\n",
      "\u001B[1m49/49\u001B[0m \u001B[32m━━━━━━━━━━━━━━━━━━━━\u001B[0m\u001B[37m\u001B[0m \u001B[1m0s\u001B[0m 4ms/step - accuracy: 0.9530 - loss: 0.1357 - val_accuracy: 0.7538 - val_loss: 0.8939\n",
      "Epoch 44/500\n",
      "\u001B[1m49/49\u001B[0m \u001B[32m━━━━━━━━━━━━━━━━━━━━\u001B[0m\u001B[37m\u001B[0m \u001B[1m0s\u001B[0m 5ms/step - accuracy: 0.9550 - loss: 0.1258 - val_accuracy: 0.7687 - val_loss: 0.8959\n",
      "Epoch 45/500\n",
      "\u001B[1m49/49\u001B[0m \u001B[32m━━━━━━━━━━━━━━━━━━━━\u001B[0m\u001B[37m\u001B[0m \u001B[1m0s\u001B[0m 4ms/step - accuracy: 0.9628 - loss: 0.1171 - val_accuracy: 0.7546 - val_loss: 0.9484\n",
      "Epoch 46/500\n",
      "\u001B[1m49/49\u001B[0m \u001B[32m━━━━━━━━━━━━━━━━━━━━\u001B[0m\u001B[37m\u001B[0m \u001B[1m0s\u001B[0m 5ms/step - accuracy: 0.9652 - loss: 0.1107 - val_accuracy: 0.7682 - val_loss: 0.9350\n",
      "Epoch 47/500\n",
      "\u001B[1m49/49\u001B[0m \u001B[32m━━━━━━━━━━━━━━━━━━━━\u001B[0m\u001B[37m\u001B[0m \u001B[1m0s\u001B[0m 5ms/step - accuracy: 0.9683 - loss: 0.1048 - val_accuracy: 0.7628 - val_loss: 0.9733\n",
      "Epoch 48/500\n",
      "\u001B[1m49/49\u001B[0m \u001B[32m━━━━━━━━━━━━━━━━━━━━\u001B[0m\u001B[37m\u001B[0m \u001B[1m0s\u001B[0m 5ms/step - accuracy: 0.9590 - loss: 0.1114 - val_accuracy: 0.7854 - val_loss: 0.9767\n",
      "Epoch 49/500\n",
      "\u001B[1m49/49\u001B[0m \u001B[32m━━━━━━━━━━━━━━━━━━━━\u001B[0m\u001B[37m\u001B[0m \u001B[1m0s\u001B[0m 5ms/step - accuracy: 0.9504 - loss: 0.1277 - val_accuracy: 0.7636 - val_loss: 0.9754\n",
      "Epoch 50/500\n",
      "\u001B[1m49/49\u001B[0m \u001B[32m━━━━━━━━━━━━━━━━━━━━\u001B[0m\u001B[37m\u001B[0m \u001B[1m0s\u001B[0m 5ms/step - accuracy: 0.9636 - loss: 0.1056 - val_accuracy: 0.7515 - val_loss: 1.0343\n",
      "Epoch 51/500\n",
      "\u001B[1m49/49\u001B[0m \u001B[32m━━━━━━━━━━━━━━━━━━━━\u001B[0m\u001B[37m\u001B[0m \u001B[1m0s\u001B[0m 5ms/step - accuracy: 0.9670 - loss: 0.0981 - val_accuracy: 0.7408 - val_loss: 1.0613\n",
      "Epoch 52/500\n",
      "\u001B[1m49/49\u001B[0m \u001B[32m━━━━━━━━━━━━━━━━━━━━\u001B[0m\u001B[37m\u001B[0m \u001B[1m0s\u001B[0m 5ms/step - accuracy: 0.9680 - loss: 0.0978 - val_accuracy: 0.7556 - val_loss: 1.0589\n",
      "Epoch 53/500\n",
      "\u001B[1m49/49\u001B[0m \u001B[32m━━━━━━━━━━━━━━━━━━━━\u001B[0m\u001B[37m\u001B[0m \u001B[1m0s\u001B[0m 5ms/step - accuracy: 0.9699 - loss: 0.0942 - val_accuracy: 0.7321 - val_loss: 1.0936\n",
      "Epoch 54/500\n",
      "\u001B[1m49/49\u001B[0m \u001B[32m━━━━━━━━━━━━━━━━━━━━\u001B[0m\u001B[37m\u001B[0m \u001B[1m0s\u001B[0m 5ms/step - accuracy: 0.9742 - loss: 0.0849 - val_accuracy: 0.7554 - val_loss: 1.1110\n",
      "Epoch 55/500\n",
      "\u001B[1m49/49\u001B[0m \u001B[32m━━━━━━━━━━━━━━━━━━━━\u001B[0m\u001B[37m\u001B[0m \u001B[1m0s\u001B[0m 5ms/step - accuracy: 0.9782 - loss: 0.0712 - val_accuracy: 0.7608 - val_loss: 1.1066\n",
      "Epoch 56/500\n",
      "\u001B[1m49/49\u001B[0m \u001B[32m━━━━━━━━━━━━━━━━━━━━\u001B[0m\u001B[37m\u001B[0m \u001B[1m0s\u001B[0m 4ms/step - accuracy: 0.9649 - loss: 0.0937 - val_accuracy: 0.7674 - val_loss: 1.1074\n",
      "Epoch 57/500\n",
      "\u001B[1m49/49\u001B[0m \u001B[32m━━━━━━━━━━━━━━━━━━━━\u001B[0m\u001B[37m\u001B[0m \u001B[1m0s\u001B[0m 5ms/step - accuracy: 0.9703 - loss: 0.0862 - val_accuracy: 0.7546 - val_loss: 1.1316\n",
      "Epoch 58/500\n",
      "\u001B[1m49/49\u001B[0m \u001B[32m━━━━━━━━━━━━━━━━━━━━\u001B[0m\u001B[37m\u001B[0m \u001B[1m0s\u001B[0m 5ms/step - accuracy: 0.9760 - loss: 0.0743 - val_accuracy: 0.7472 - val_loss: 1.1754\n",
      "Epoch 59/500\n",
      "\u001B[1m49/49\u001B[0m \u001B[32m━━━━━━━━━━━━━━━━━━━━\u001B[0m\u001B[37m\u001B[0m \u001B[1m0s\u001B[0m 5ms/step - accuracy: 0.9776 - loss: 0.0701 - val_accuracy: 0.7651 - val_loss: 1.1521\n",
      "Epoch 60/500\n",
      "\u001B[1m49/49\u001B[0m \u001B[32m━━━━━━━━━━━━━━━━━━━━\u001B[0m\u001B[37m\u001B[0m \u001B[1m0s\u001B[0m 5ms/step - accuracy: 0.9789 - loss: 0.0670 - val_accuracy: 0.7603 - val_loss: 1.1967\n",
      "Epoch 61/500\n",
      "\u001B[1m49/49\u001B[0m \u001B[32m━━━━━━━━━━━━━━━━━━━━\u001B[0m\u001B[37m\u001B[0m \u001B[1m0s\u001B[0m 5ms/step - accuracy: 0.9796 - loss: 0.0607 - val_accuracy: 0.7710 - val_loss: 1.1850\n",
      "Epoch 62/500\n",
      "\u001B[1m49/49\u001B[0m \u001B[32m━━━━━━━━━━━━━━━━━━━━\u001B[0m\u001B[37m\u001B[0m \u001B[1m0s\u001B[0m 5ms/step - accuracy: 0.9846 - loss: 0.0542 - val_accuracy: 0.7644 - val_loss: 1.2393\n",
      "Epoch 63/500\n",
      "\u001B[1m49/49\u001B[0m \u001B[32m━━━━━━━━━━━━━━━━━━━━\u001B[0m\u001B[37m\u001B[0m \u001B[1m0s\u001B[0m 5ms/step - accuracy: 0.9828 - loss: 0.0561 - val_accuracy: 0.7672 - val_loss: 1.2492\n",
      "Epoch 64/500\n",
      "\u001B[1m49/49\u001B[0m \u001B[32m━━━━━━━━━━━━━━━━━━━━\u001B[0m\u001B[37m\u001B[0m \u001B[1m0s\u001B[0m 5ms/step - accuracy: 0.9776 - loss: 0.0651 - val_accuracy: 0.7659 - val_loss: 1.2362\n",
      "Epoch 65/500\n",
      "\u001B[1m49/49\u001B[0m \u001B[32m━━━━━━━━━━━━━━━━━━━━\u001B[0m\u001B[37m\u001B[0m \u001B[1m0s\u001B[0m 4ms/step - accuracy: 0.9816 - loss: 0.0598 - val_accuracy: 0.7259 - val_loss: 1.4490\n",
      "Epoch 66/500\n",
      "\u001B[1m49/49\u001B[0m \u001B[32m━━━━━━━━━━━━━━━━━━━━\u001B[0m\u001B[37m\u001B[0m \u001B[1m0s\u001B[0m 5ms/step - accuracy: 0.9784 - loss: 0.0626 - val_accuracy: 0.7282 - val_loss: 1.4780\n",
      "Epoch 67/500\n",
      "\u001B[1m49/49\u001B[0m \u001B[32m━━━━━━━━━━━━━━━━━━━━\u001B[0m\u001B[37m\u001B[0m \u001B[1m0s\u001B[0m 4ms/step - accuracy: 0.9783 - loss: 0.0643 - val_accuracy: 0.7754 - val_loss: 1.2717\n",
      "Epoch 68/500\n",
      "\u001B[1m49/49\u001B[0m \u001B[32m━━━━━━━━━━━━━━━━━━━━\u001B[0m\u001B[37m\u001B[0m \u001B[1m0s\u001B[0m 5ms/step - accuracy: 0.9743 - loss: 0.0690 - val_accuracy: 0.7592 - val_loss: 1.3083\n",
      "Epoch 69/500\n",
      "\u001B[1m49/49\u001B[0m \u001B[32m━━━━━━━━━━━━━━━━━━━━\u001B[0m\u001B[37m\u001B[0m \u001B[1m0s\u001B[0m 4ms/step - accuracy: 0.9863 - loss: 0.0445 - val_accuracy: 0.7613 - val_loss: 1.3602\n",
      "Epoch 70/500\n",
      "\u001B[1m49/49\u001B[0m \u001B[32m━━━━━━━━━━━━━━━━━━━━\u001B[0m\u001B[37m\u001B[0m \u001B[1m0s\u001B[0m 4ms/step - accuracy: 0.9911 - loss: 0.0368 - val_accuracy: 0.7682 - val_loss: 1.3523\n",
      "Epoch 71/500\n",
      "\u001B[1m49/49\u001B[0m \u001B[32m━━━━━━━━━━━━━━━━━━━━\u001B[0m\u001B[37m\u001B[0m \u001B[1m0s\u001B[0m 5ms/step - accuracy: 0.9934 - loss: 0.0315 - val_accuracy: 0.7641 - val_loss: 1.3750\n",
      "Epoch 72/500\n",
      "\u001B[1m49/49\u001B[0m \u001B[32m━━━━━━━━━━━━━━━━━━━━\u001B[0m\u001B[37m\u001B[0m \u001B[1m0s\u001B[0m 5ms/step - accuracy: 0.9931 - loss: 0.0295 - val_accuracy: 0.7669 - val_loss: 1.4119\n",
      "Epoch 73/500\n",
      "\u001B[1m49/49\u001B[0m \u001B[32m━━━━━━━━━━━━━━━━━━━━\u001B[0m\u001B[37m\u001B[0m \u001B[1m0s\u001B[0m 5ms/step - accuracy: 0.9893 - loss: 0.0338 - val_accuracy: 0.7708 - val_loss: 1.4319\n",
      "Epoch 74/500\n",
      "\u001B[1m49/49\u001B[0m \u001B[32m━━━━━━━━━━━━━━━━━━━━\u001B[0m\u001B[37m\u001B[0m \u001B[1m0s\u001B[0m 5ms/step - accuracy: 0.9939 - loss: 0.0278 - val_accuracy: 0.7569 - val_loss: 1.4745\n",
      "Epoch 75/500\n",
      "\u001B[1m49/49\u001B[0m \u001B[32m━━━━━━━━━━━━━━━━━━━━\u001B[0m\u001B[37m\u001B[0m \u001B[1m0s\u001B[0m 5ms/step - accuracy: 0.9956 - loss: 0.0246 - val_accuracy: 0.7731 - val_loss: 1.4552\n",
      "Epoch 76/500\n",
      "\u001B[1m49/49\u001B[0m \u001B[32m━━━━━━━━━━━━━━━━━━━━\u001B[0m\u001B[37m\u001B[0m \u001B[1m0s\u001B[0m 5ms/step - accuracy: 0.9834 - loss: 0.0535 - val_accuracy: 0.7603 - val_loss: 1.3964\n",
      "Epoch 77/500\n",
      "\u001B[1m49/49\u001B[0m \u001B[32m━━━━━━━━━━━━━━━━━━━━\u001B[0m\u001B[37m\u001B[0m \u001B[1m0s\u001B[0m 5ms/step - accuracy: 0.9812 - loss: 0.0502 - val_accuracy: 0.7523 - val_loss: 1.5356\n",
      "Epoch 78/500\n",
      "\u001B[1m49/49\u001B[0m \u001B[32m━━━━━━━━━━━━━━━━━━━━\u001B[0m\u001B[37m\u001B[0m \u001B[1m0s\u001B[0m 5ms/step - accuracy: 0.9881 - loss: 0.0385 - val_accuracy: 0.7510 - val_loss: 1.5758\n",
      "Epoch 79/500\n",
      "\u001B[1m49/49\u001B[0m \u001B[32m━━━━━━━━━━━━━━━━━━━━\u001B[0m\u001B[37m\u001B[0m \u001B[1m0s\u001B[0m 5ms/step - accuracy: 0.9813 - loss: 0.0535 - val_accuracy: 0.7387 - val_loss: 1.5665\n",
      "Epoch 80/500\n",
      "\u001B[1m49/49\u001B[0m \u001B[32m━━━━━━━━━━━━━━━━━━━━\u001B[0m\u001B[37m\u001B[0m \u001B[1m0s\u001B[0m 4ms/step - accuracy: 0.9765 - loss: 0.0664 - val_accuracy: 0.7267 - val_loss: 1.6737\n",
      "Epoch 81/500\n",
      "\u001B[1m49/49\u001B[0m \u001B[32m━━━━━━━━━━━━━━━━━━━━\u001B[0m\u001B[37m\u001B[0m \u001B[1m0s\u001B[0m 5ms/step - accuracy: 0.9812 - loss: 0.0550 - val_accuracy: 0.7392 - val_loss: 1.5339\n",
      "Epoch 82/500\n",
      "\u001B[1m49/49\u001B[0m \u001B[32m━━━━━━━━━━━━━━━━━━━━\u001B[0m\u001B[37m\u001B[0m \u001B[1m0s\u001B[0m 5ms/step - accuracy: 0.9866 - loss: 0.0416 - val_accuracy: 0.7626 - val_loss: 1.4320\n",
      "Epoch 83/500\n",
      "\u001B[1m49/49\u001B[0m \u001B[32m━━━━━━━━━━━━━━━━━━━━\u001B[0m\u001B[37m\u001B[0m \u001B[1m0s\u001B[0m 5ms/step - accuracy: 0.9924 - loss: 0.0293 - val_accuracy: 0.7582 - val_loss: 1.5288\n",
      "Epoch 84/500\n",
      "\u001B[1m49/49\u001B[0m \u001B[32m━━━━━━━━━━━━━━━━━━━━\u001B[0m\u001B[37m\u001B[0m \u001B[1m0s\u001B[0m 5ms/step - accuracy: 0.9967 - loss: 0.0179 - val_accuracy: 0.7646 - val_loss: 1.5454\n",
      "Epoch 85/500\n",
      "\u001B[1m49/49\u001B[0m \u001B[32m━━━━━━━━━━━━━━━━━━━━\u001B[0m\u001B[37m\u001B[0m \u001B[1m0s\u001B[0m 5ms/step - accuracy: 0.9966 - loss: 0.0181 - val_accuracy: 0.7631 - val_loss: 1.5618\n",
      "Epoch 86/500\n",
      "\u001B[1m49/49\u001B[0m \u001B[32m━━━━━━━━━━━━━━━━━━━━\u001B[0m\u001B[37m\u001B[0m \u001B[1m0s\u001B[0m 5ms/step - accuracy: 0.9977 - loss: 0.0141 - val_accuracy: 0.7536 - val_loss: 1.6096\n",
      "Epoch 87/500\n",
      "\u001B[1m49/49\u001B[0m \u001B[32m━━━━━━━━━━━━━━━━━━━━\u001B[0m\u001B[37m\u001B[0m \u001B[1m0s\u001B[0m 5ms/step - accuracy: 0.9961 - loss: 0.0168 - val_accuracy: 0.7559 - val_loss: 1.6388\n",
      "Epoch 88/500\n",
      "\u001B[1m49/49\u001B[0m \u001B[32m━━━━━━━━━━━━━━━━━━━━\u001B[0m\u001B[37m\u001B[0m \u001B[1m0s\u001B[0m 5ms/step - accuracy: 0.9965 - loss: 0.0173 - val_accuracy: 0.7592 - val_loss: 1.6636\n",
      "Epoch 89/500\n",
      "\u001B[1m49/49\u001B[0m \u001B[32m━━━━━━━━━━━━━━━━━━━━\u001B[0m\u001B[37m\u001B[0m \u001B[1m0s\u001B[0m 4ms/step - accuracy: 0.9974 - loss: 0.0138 - val_accuracy: 0.7600 - val_loss: 1.6234\n",
      "Epoch 90/500\n",
      "\u001B[1m49/49\u001B[0m \u001B[32m━━━━━━━━━━━━━━━━━━━━\u001B[0m\u001B[37m\u001B[0m \u001B[1m0s\u001B[0m 5ms/step - accuracy: 0.9955 - loss: 0.0197 - val_accuracy: 0.7651 - val_loss: 1.6651\n",
      "Epoch 91/500\n",
      "\u001B[1m49/49\u001B[0m \u001B[32m━━━━━━━━━━━━━━━━━━━━\u001B[0m\u001B[37m\u001B[0m \u001B[1m0s\u001B[0m 5ms/step - accuracy: 0.9957 - loss: 0.0185 - val_accuracy: 0.7638 - val_loss: 1.7013\n",
      "Epoch 92/500\n",
      "\u001B[1m49/49\u001B[0m \u001B[32m━━━━━━━━━━━━━━━━━━━━\u001B[0m\u001B[37m\u001B[0m \u001B[1m0s\u001B[0m 5ms/step - accuracy: 0.9940 - loss: 0.0221 - val_accuracy: 0.7526 - val_loss: 1.7005\n",
      "Epoch 93/500\n",
      "\u001B[1m49/49\u001B[0m \u001B[32m━━━━━━━━━━━━━━━━━━━━\u001B[0m\u001B[37m\u001B[0m \u001B[1m0s\u001B[0m 5ms/step - accuracy: 0.9844 - loss: 0.0478 - val_accuracy: 0.7249 - val_loss: 1.7767\n",
      "Epoch 94/500\n",
      "\u001B[1m49/49\u001B[0m \u001B[32m━━━━━━━━━━━━━━━━━━━━\u001B[0m\u001B[37m\u001B[0m \u001B[1m0s\u001B[0m 5ms/step - accuracy: 0.9638 - loss: 0.1037 - val_accuracy: 0.7295 - val_loss: 1.6061\n",
      "Epoch 95/500\n",
      "\u001B[1m49/49\u001B[0m \u001B[32m━━━━━━━━━━━━━━━━━━━━\u001B[0m\u001B[37m\u001B[0m \u001B[1m0s\u001B[0m 5ms/step - accuracy: 0.9753 - loss: 0.0632 - val_accuracy: 0.7569 - val_loss: 1.5195\n",
      "Epoch 96/500\n",
      "\u001B[1m49/49\u001B[0m \u001B[32m━━━━━━━━━━━━━━━━━━━━\u001B[0m\u001B[37m\u001B[0m \u001B[1m0s\u001B[0m 5ms/step - accuracy: 0.9864 - loss: 0.0407 - val_accuracy: 0.7318 - val_loss: 1.6847\n",
      "Epoch 97/500\n",
      "\u001B[1m49/49\u001B[0m \u001B[32m━━━━━━━━━━━━━━━━━━━━\u001B[0m\u001B[37m\u001B[0m \u001B[1m0s\u001B[0m 5ms/step - accuracy: 0.9925 - loss: 0.0258 - val_accuracy: 0.7641 - val_loss: 1.6180\n",
      "Epoch 98/500\n",
      "\u001B[1m49/49\u001B[0m \u001B[32m━━━━━━━━━━━━━━━━━━━━\u001B[0m\u001B[37m\u001B[0m \u001B[1m0s\u001B[0m 4ms/step - accuracy: 0.9939 - loss: 0.0234 - val_accuracy: 0.7644 - val_loss: 1.6595\n",
      "Epoch 99/500\n",
      "\u001B[1m49/49\u001B[0m \u001B[32m━━━━━━━━━━━━━━━━━━━━\u001B[0m\u001B[37m\u001B[0m \u001B[1m0s\u001B[0m 5ms/step - accuracy: 0.9957 - loss: 0.0179 - val_accuracy: 0.7679 - val_loss: 1.7011\n"
     ]
    },
    {
     "data": {
      "text/plain": "<keras_core.src.callbacks.history.History at 0x7f60e73f35b0>"
     },
     "execution_count": 18,
     "metadata": {},
     "output_type": "execute_result"
    }
   ],
   "source": [
    "X_train, X_test, y_train, y_test = train_test_split(X, y, test_size=0.2, random_state=42)\n",
    "\n",
    "model = Sequential()\n",
    "model.add(Dense(128, input_dim=300, activation='relu'))\n",
    "model.add(Dense(64, activation='relu'))\n",
    "model.add(Dense(34, activation='relu'))\n",
    "model.add(Dense(1, activation='sigmoid'))\n",
    "\n",
    "model.compile(loss='binary_crossentropy', optimizer='adam', metrics=['accuracy'])\n",
    "\n",
    "model.fit(X_train,\n",
    "          y_train,\n",
    "          epochs=500,\n",
    "          batch_size = params_grid['batch_size'],\n",
    "          callbacks=callback,\n",
    "          validation_data=(X_test, y_test)\n",
    "          )"
   ],
   "metadata": {
    "collapsed": false,
    "ExecuteTime": {
     "end_time": "2024-06-27T08:46:28.436470Z",
     "start_time": "2024-06-27T08:45:56.616175Z"
    }
   },
   "id": "c4cf876c5cbae2f2",
   "execution_count": 18
  },
  {
   "cell_type": "markdown",
   "id": "e01ea87c7efc4af6",
   "metadata": {
    "collapsed": false
   },
   "source": [
    "# save model"
   ]
  },
  {
   "cell_type": "code",
   "execution_count": 19,
   "id": "e0b9fbafea831f00",
   "metadata": {
    "collapsed": false,
    "ExecuteTime": {
     "end_time": "2024-06-27T08:48:17.900353Z",
     "start_time": "2024-06-27T08:48:17.854829Z"
    }
   },
   "outputs": [],
   "source": [
    "model.save(model_weight_dst)"
   ]
  },
  {
   "cell_type": "markdown",
   "id": "858f1dcf54daf1ee",
   "metadata": {
    "collapsed": false
   },
   "source": [
    "### testing with custom sentence"
   ]
  },
  {
   "cell_type": "code",
   "execution_count": 20,
   "id": "9082729f7fb73c8",
   "metadata": {
    "collapsed": false,
    "ExecuteTime": {
     "end_time": "2024-06-27T08:48:19.895585Z",
     "start_time": "2024-06-27T08:48:19.829579Z"
    }
   },
   "outputs": [],
   "source": [
    "#model_weight_dst = f'../../model_weights/fasttext_nlp_20240613-131608-model.keras'\n",
    "new_model = load_model(model_weight_dst)"
   ]
  },
  {
   "cell_type": "code",
   "execution_count": 25,
   "id": "be31f886c1e61d2",
   "metadata": {
    "collapsed": false,
    "ExecuteTime": {
     "end_time": "2024-06-27T08:49:24.225124Z",
     "start_time": "2024-06-27T08:49:20.979864Z"
    }
   },
   "outputs": [
    {
     "name": "stdout",
     "output_type": "stream",
     "text": [
      "nice output\n",
      "la bonjour je suis un type sympas : [[False]]\n",
      "[[0.00700457]]\n",
      "bonjour ça va les gens : [[False]]\n",
      "[[0.01231155]]\n",
      "j'aime pas trop ce mec : [[False]]\n",
      "[[3.2521093e-08]]\n",
      "cette meuf est cool : [[False]]\n",
      "[[4.1303685e-09]]\n",
      "les meuf sont trop cool : [[False]]\n",
      "[[2.4200557e-12]]\n",
      "les mecs sont des gens stylé : [[False]]\n",
      "[[1.6187134e-05]]\n",
      "le mec est stylé : [[False]]\n",
      "[[7.093816e-10]]\n",
      "nan mais mon manager exagère quand il dit que je suis pas assez productif et que je travail pas assez, franchement il abuse : [[False]]\n",
      "[[6.7943774e-06]]\n",
      "les hommes cis sont toxiques pour la société car ils imposent leur vision paternaliste : [[False]]\n",
      "[[0.00073071]]\n",
      "Les hommes sont moins matures que les femmes quand il s'agit de prendre des décisions : [[ True]]\n",
      "[[0.9999702]]\n",
      "\n",
      "\n",
      "not nice output\n",
      "regarde moi cette connasse : [[ True]]\n",
      "[[0.8987701]]\n",
      "les femme leur place c'est à la cuisine : [[ True]]\n",
      "[[0.999668]]\n",
      "femme au volant, accident : [[ True]]\n",
      "[[0.99989605]]\n",
      "les femmes on peux pas leur faire confiance : [[False]]\n",
      "[[0.00144455]]\n",
      "Pour une transphobe son passing est pas ouf : [[ True]]\n",
      "[[0.99077797]]\n",
      "Elle l’ouvre quand même beaucoup celle là pour quelqu’un qu’est pas capable d’éduquer ses enfants : [[False]]\n",
      "[[0.00045529]]\n",
      "Dis donc, c’est pas parce que t’es mal baisée que tu peux tout te permettre ???? : [[ True]]\n",
      "[[0.99995744]]\n",
      "Moi ce que j’aime bien chez les filles comme toi c’est que t’es pas du genre prise de tête : [[False]]\n",
      "[[0.06867322]]\n",
      "les femmes c'est comme le fromage, quand elles puent c'est qu'elles sont bonnes : [[ True]]\n",
      "[[0.9999999]]\n",
      "Oh les grosses tepus : [[False]]\n",
      "[[6.4260803e-19]]\n",
      "Faut pas t'étonner si tu te fais violer vu comment t'es habillée : [[False]]\n",
      "[[0.00091825]]\n",
      "Tu deverais avoir des enfants maintenant avant que ce soit trop tard : [[ True]]\n",
      "[[0.91400546]]\n",
      "Vous seriez une collaboratrice idéal pour notre entreprise, malheureusement nous cherchons quelqu’un disponible sur le long terme, et nous craignons qu’à votre âge des changements familiaux ne vous permettent plus de vous investir autant que besoins : [[ True]]\n",
      "[[0.9924298]]\n"
     ]
    }
   ],
   "source": [
    "text_nice = [\n",
    "    \"la bonjour je suis un type sympas\", \n",
    "    \"bonjour ça va les gens\",\n",
    "    \"j'aime pas trop ce mec\",\n",
    "    \"cette meuf est cool\",\n",
    "    \"les meuf sont trop cool\",\n",
    "    \"les mecs sont des gens stylé\",\n",
    "    \"le mec est stylé\",\n",
    "    \"nan mais mon manager exagère quand il dit que je suis pas assez productif et que je travail pas assez, franchement il abuse\",\n",
    "    \"les hommes cis sont toxiques pour la société car ils imposent leur vision paternaliste\",\n",
    "    \"Les hommes sont moins matures que les femmes quand il s'agit de prendre des décisions\"\n",
    "    \n",
    "]\n",
    "\n",
    "text_no_nice = [\n",
    "    \"regarde moi cette connasse\",\n",
    "    \"les femme leur place c'est à la cuisine\",\n",
    "    \"femme au volant, accident\",\n",
    "    \"les femmes on peux pas leur faire confiance\",\n",
    "    \"Pour une transphobe son passing est pas ouf\",\n",
    "    \"Elle l’ouvre quand même beaucoup celle là pour quelqu’un qu’est pas capable d’éduquer ses enfants\",\n",
    "    \"Dis donc, c’est pas parce que t’es mal baisée que tu peux tout te permettre ????\",\n",
    "    \"Moi ce que j’aime bien chez les filles comme toi c’est que t’es pas du genre prise de tête\",\n",
    "    \"les femmes c'est comme le fromage, quand elles puent c'est qu'elles sont bonnes\",\n",
    "    \"Oh les grosses tepus\",\n",
    "    \"Faut pas t'étonner si tu te fais violer vu comment t'es habillée\",\n",
    "    \"Tu deverais avoir des enfants maintenant avant que ce soit trop tard\",\n",
    "    \"Vous seriez une collaboratrice idéal pour notre entreprise, malheureusement nous cherchons quelqu’un disponible sur le long terme, et nous craignons qu’à votre âge des changements familiaux ne vous permettent plus de vous investir autant que besoins\"\n",
    "]\n",
    "wordsvec_nice = [np.expand_dims(text_to_vector(text), axis=0) for text in text_nice]\n",
    "wordsvec_no_nice = [np.expand_dims(text_to_vector(text), axis=0) for text in text_no_nice]\n",
    "\n",
    "print(\"nice output\")\n",
    "for i in range(0, len(wordsvec_nice)):\n",
    "    prediction = new_model.predict(wordsvec_nice[i], verbose=False)\n",
    "    print(f\"{text_nice[i]} : {prediction > 0.5}\")\n",
    "    print(f\"{prediction}\")\n",
    "\n",
    "\n",
    "print(\"\\n\\nnot nice output\")\n",
    "for i in range(0, len(wordsvec_no_nice)):\n",
    "    prediction =  new_model.predict(wordsvec_no_nice[i], verbose=False)\n",
    "    print(f\"{text_no_nice[i]} : {prediction > 0.5}\")\n",
    "    print(f\"{prediction}\")"
   ]
  },
  {
   "cell_type": "code",
   "execution_count": null,
   "id": "eee4f2d23f45322e",
   "metadata": {
    "collapsed": false,
    "is_executing": true
   },
   "outputs": [],
   "source": []
  },
  {
   "cell_type": "code",
   "execution_count": null,
   "id": "8c753464d73b3dba",
   "metadata": {
    "collapsed": false,
    "is_executing": true
   },
   "outputs": [],
   "source": []
  }
 ],
 "metadata": {
  "kernelspec": {
   "display_name": "Python 3 (ipykernel)",
   "language": "python",
   "name": "python3"
  },
  "language_info": {
   "codemirror_mode": {
    "name": "ipython",
    "version": 3
   },
   "file_extension": ".py",
   "mimetype": "text/x-python",
   "name": "python",
   "nbconvert_exporter": "python",
   "pygments_lexer": "ipython3",
   "version": "3.10.13"
  }
 },
 "nbformat": 4,
 "nbformat_minor": 5
}
