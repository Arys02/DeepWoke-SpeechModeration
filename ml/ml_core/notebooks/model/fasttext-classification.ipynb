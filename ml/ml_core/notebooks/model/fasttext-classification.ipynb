{
 "cells": [
  {
   "cell_type": "code",
   "outputs": [],
   "source": [
    "import os\n",
    "\n",
    "import pandas as pd"
   ],
   "metadata": {
    "collapsed": false,
    "ExecuteTime": {
     "end_time": "2024-06-26T12:00:14.360463Z",
     "start_time": "2024-06-26T12:00:14.357374Z"
    }
   },
   "id": "e1f007c4b98f53d4",
   "execution_count": 2
  },
  {
   "cell_type": "code",
   "execution_count": 21,
   "id": "initial_id",
   "metadata": {
    "collapsed": false,
    "ExecuteTime": {
     "end_time": "2024-06-26T12:27:18.525297Z",
     "start_time": "2024-06-26T12:27:18.410768Z"
    }
   },
   "outputs": [],
   "source": [
    "import datetime\n",
    "\n",
    "import fasttext\n",
    "import keras_core as keras\n",
    "import numpy as np\n",
    "import pandas as pd\n",
    "from keras_core import Sequential\n",
    "from keras_core.src.layers import Dense\n",
    "from keras_core.models import load_model\n",
    "from sklearn.model_selection import train_test_split\n",
    "from tqdm import tqdm\n",
    "import tensorflow as tf\n",
    "\n",
    "from tensorboard.plugins.hparams import api as hp"
   ]
  },
  {
   "cell_type": "markdown",
   "id": "3d946bd3803cbf47",
   "metadata": {
    "collapsed": false
   },
   "source": [
    "## import fastTest model"
   ]
  },
  {
   "cell_type": "code",
   "outputs": [
    {
     "name": "stdout",
     "output_type": "stream",
     "text": [
      "['notebooks', 'tmp', 'tests', '.env', 'ml', 'pyproject.toml', 'README.md', 'Init.ipynb', 'accounts.db', 'src', 'data', '.env.template', 'docs', 'model_weights', '__init__.py', 'poetry.lock', 'log']\n"
     ]
    }
   ],
   "source": [
    "import os\n",
    "#embedded_path = './../../'\n",
    "\n",
    "#contents = os.listdir(embedded_path)\n",
    "#print(contents)\n",
    "ft = fasttext.load_model('../../data/embedding_data/cc.fr.300.bin')"
   ],
   "metadata": {
    "collapsed": false,
    "ExecuteTime": {
     "end_time": "2024-06-26T12:14:21.943222Z",
     "start_time": "2024-06-26T12:14:05.226022Z"
    }
   },
   "id": "581097380ddb6dcb",
   "execution_count": 13
  },
  {
   "cell_type": "markdown",
   "id": "18856c657e08494f",
   "metadata": {
    "collapsed": false
   },
   "source": [
    "## Configurations"
   ]
  },
  {
   "cell_type": "code",
   "outputs": [],
   "source": [
    "params_grid = {\n",
    "    \"model\" : \"nlp\",\n",
    "    \"embedder\" : \"fasttext\",\n",
    "    \"embedding data\" : \"cc.fr.300.bin\",\n",
    "    \"dataset\" : \"corpus_with_text_label_final.csv\",\n",
    "    \"batch_size\" : 300\n",
    "}"
   ],
   "metadata": {
    "collapsed": false,
    "ExecuteTime": {
     "end_time": "2024-06-26T12:54:51.142756Z",
     "start_time": "2024-06-26T12:54:51.139341Z"
    }
   },
   "id": "9574abd306005981",
   "execution_count": 59
  },
  {
   "cell_type": "code",
   "outputs": [],
   "source": [
    "data_folder_src = './../../data/processed/'\n",
    "data_path_src = f'{data_folder_src}{params_grid[\"dataset\"]}'\n",
    "date_str = datetime.datetime.now().strftime(\"%Y%m%d-%H%M%S\")\n",
    "experiment_name = f'deepwoke_{params_grid[\"embedder\"]}_{params_grid[\"model\"]}_{date_str}'\n",
    "\n",
    "log_dir = f\"../../log/fit/{experiment_name}\"\n",
    "model_weight_dst = f'../../model_weights/{experiment_name}-model.keras'"
   ],
   "metadata": {
    "collapsed": false,
    "ExecuteTime": {
     "end_time": "2024-06-26T12:59:28.212779Z",
     "start_time": "2024-06-26T12:59:28.207552Z"
    }
   },
   "id": "d220a1d10493404e",
   "execution_count": 69
  },
  {
   "cell_type": "markdown",
   "id": "5d4209390b020a7",
   "metadata": {
    "collapsed": false
   },
   "source": [
    "# loading dataset"
   ]
  },
  {
   "cell_type": "code",
   "execution_count": 29,
   "id": "cda597a675bb1ba2",
   "metadata": {
    "collapsed": false,
    "ExecuteTime": {
     "end_time": "2024-06-26T12:36:43.304975Z",
     "start_time": "2024-06-26T12:36:43.283901Z"
    }
   },
   "outputs": [
    {
     "data": {
      "text/plain": "                                              full_text  label\n1           @MamzelleMNa Une très humble femme! #Ironie      0\n2     BLOGUE - «Tsé, la parité homme-femme...» au se...      0\n5     Mise en ligne de mon article sur @PayeTaShnek ...      0\n7     Hommage #journeedelafemme Toute sa vie elle a ...      0\n8     Lustre bois flotté feuilles exotiques bleues a...      0\n...                                                 ...    ...\n9545  [Exclusif] #BalanceTonPorc, transparence, juge...      1\n9547  Eric Monier, directeur de la rédaction de #LCI...      1\n9548  .@annesaurat porte plainte contre son ancien r...      1\n9550  Moïra Sauvage @excisionparlons \"une pensée pou...      1\n9554  @enmarchefr @MarleneSchiappa Je n'arrête pas d...      1\n\n[3194 rows x 2 columns]",
      "text/html": "<div>\n<style scoped>\n    .dataframe tbody tr th:only-of-type {\n        vertical-align: middle;\n    }\n\n    .dataframe tbody tr th {\n        vertical-align: top;\n    }\n\n    .dataframe thead th {\n        text-align: right;\n    }\n</style>\n<table border=\"1\" class=\"dataframe\">\n  <thead>\n    <tr style=\"text-align: right;\">\n      <th></th>\n      <th>full_text</th>\n      <th>label</th>\n    </tr>\n  </thead>\n  <tbody>\n    <tr>\n      <th>1</th>\n      <td>@MamzelleMNa Une très humble femme! #Ironie</td>\n      <td>0</td>\n    </tr>\n    <tr>\n      <th>2</th>\n      <td>BLOGUE - «Tsé, la parité homme-femme...» au se...</td>\n      <td>0</td>\n    </tr>\n    <tr>\n      <th>5</th>\n      <td>Mise en ligne de mon article sur @PayeTaShnek ...</td>\n      <td>0</td>\n    </tr>\n    <tr>\n      <th>7</th>\n      <td>Hommage #journeedelafemme Toute sa vie elle a ...</td>\n      <td>0</td>\n    </tr>\n    <tr>\n      <th>8</th>\n      <td>Lustre bois flotté feuilles exotiques bleues a...</td>\n      <td>0</td>\n    </tr>\n    <tr>\n      <th>...</th>\n      <td>...</td>\n      <td>...</td>\n    </tr>\n    <tr>\n      <th>9545</th>\n      <td>[Exclusif] #BalanceTonPorc, transparence, juge...</td>\n      <td>1</td>\n    </tr>\n    <tr>\n      <th>9547</th>\n      <td>Eric Monier, directeur de la rédaction de #LCI...</td>\n      <td>1</td>\n    </tr>\n    <tr>\n      <th>9548</th>\n      <td>.@annesaurat porte plainte contre son ancien r...</td>\n      <td>1</td>\n    </tr>\n    <tr>\n      <th>9550</th>\n      <td>Moïra Sauvage @excisionparlons \"une pensée pou...</td>\n      <td>1</td>\n    </tr>\n    <tr>\n      <th>9554</th>\n      <td>@enmarchefr @MarleneSchiappa Je n'arrête pas d...</td>\n      <td>1</td>\n    </tr>\n  </tbody>\n</table>\n<p>3194 rows × 2 columns</p>\n</div>"
     },
     "execution_count": 29,
     "metadata": {},
     "output_type": "execute_result"
    }
   ],
   "source": [
    "\n",
    "ds = pd.read_csv(data_path_src).iloc[:, 1:].dropna()\n",
    "ds"
   ]
  },
  {
   "cell_type": "markdown",
   "id": "b14d86b3a33f2e60",
   "metadata": {
    "collapsed": false
   },
   "source": [
    "## text to vector"
   ]
  },
  {
   "cell_type": "code",
   "execution_count": 30,
   "id": "4811628c43744431",
   "metadata": {
    "collapsed": false,
    "ExecuteTime": {
     "end_time": "2024-06-26T12:36:47.681415Z",
     "start_time": "2024-06-26T12:36:47.678065Z"
    }
   },
   "outputs": [],
   "source": [
    "def text_to_vector(text):\n",
    "    words = text.split(' ')\n",
    "    word_vectors = [ft.get_word_vector(word) for word in words if word in ft.words]\n",
    "    if not word_vectors:\n",
    "        return np.zeros(300)\n",
    "    return np.mean(word_vectors, axis=0)"
   ]
  },
  {
   "cell_type": "code",
   "execution_count": 31,
   "id": "c3d1584635aab387",
   "metadata": {
    "collapsed": false,
    "ExecuteTime": {
     "end_time": "2024-06-26T12:45:17.610028Z",
     "start_time": "2024-06-26T12:38:25.706136Z"
    }
   },
   "outputs": [
    {
     "name": "stderr",
     "output_type": "stream",
     "text": [
      "Loading data: 100%|█████████████████████████████████████████████████████████████████████████████████████████████████████████████████████████████████████████████████████████████████████████████| 3194/3194 [06:51<00:00,  7.75it/s]\n"
     ]
    }
   ],
   "source": [
    "tqdm.pandas(desc='Loading data')\n",
    "ds['vector'] = ds['full_text'].progress_apply(text_to_vector)\n",
    "\n",
    "X = np.vstack(ds['vector'])\n",
    "y = ds['label'].values"
   ]
  },
  {
   "cell_type": "markdown",
   "id": "7b718cecf9585fb1",
   "metadata": {
    "collapsed": false
   },
   "source": [
    "## building and training the model"
   ]
  },
  {
   "cell_type": "markdown",
   "id": "5c8ac62597164bde",
   "metadata": {
    "collapsed": false
   },
   "source": [
    "### callbacks"
   ]
  },
  {
   "cell_type": "code",
   "execution_count": 54,
   "id": "336209aae383296f",
   "metadata": {
    "collapsed": false,
    "ExecuteTime": {
     "end_time": "2024-06-26T12:54:11.358301Z",
     "start_time": "2024-06-26T12:54:11.354924Z"
    }
   },
   "outputs": [],
   "source": [
    "early_stopping = keras.callbacks.EarlyStopping(\n",
    "    patience=10,\n",
    "    min_delta=0.001,\n",
    "    restore_best_weights=True,\n",
    "    monitor='loss'\n",
    ")\n"
   ]
  },
  {
   "cell_type": "code",
   "execution_count": 55,
   "id": "9f93ecb4efe31443",
   "metadata": {
    "collapsed": false,
    "ExecuteTime": {
     "end_time": "2024-06-26T12:54:11.567700Z",
     "start_time": "2024-06-26T12:54:11.562987Z"
    }
   },
   "outputs": [],
   "source": [
    "\n",
    "class EarlyStoppingLogging(tf.keras.callbacks.Callback):\n",
    "    def __init__(self, early_stopping_callback, log_dir):\n",
    "        super().__init__()\n",
    "        self.early_stopping = early_stopping_callback\n",
    "        self.stopped_epoch = 0\n",
    "        self.writer = tf.summary.create_file_writer(log_dir)\n",
    "\n",
    "    def on_epoch_end(self, epoch, logs=None):\n",
    "        if self.early_stopping.stopped_epoch > 0:\n",
    "            self.stopped_epoch = self.early_stopping.stopped_epoch\n",
    "            with self.writer.as_default():\n",
    "                tf.summary.scalar('early_stopping_epoch', self.stopped_epoch, step=epoch)\n",
    "                self.writer.flush()\n"
   ]
  },
  {
   "cell_type": "code",
   "execution_count": 70,
   "id": "7ec43b4117399510",
   "metadata": {
    "collapsed": false,
    "ExecuteTime": {
     "end_time": "2024-06-26T12:59:39.392129Z",
     "start_time": "2024-06-26T12:59:39.387946Z"
    }
   },
   "outputs": [],
   "source": [
    "tensorboard_callback = keras.callbacks.TensorBoard(log_dir=log_dir, histogram_freq=1)\n",
    "early_stopping_logging_callback = EarlyStoppingLogging(early_stopping, log_dir)"
   ]
  },
  {
   "cell_type": "code",
   "execution_count": 71,
   "id": "3f3d46724d8e5aa1",
   "metadata": {
    "collapsed": false,
    "ExecuteTime": {
     "end_time": "2024-06-26T12:59:39.616658Z",
     "start_time": "2024-06-26T12:59:39.612208Z"
    }
   },
   "outputs": [],
   "source": [
    "callback = [\n",
    "    early_stopping,\n",
    "    tensorboard_callback,\n",
    "    hp.KerasCallback(log_dir, params_grid),\n",
    "    early_stopping_logging_callback,\n",
    "]"
   ]
  },
  {
   "cell_type": "markdown",
   "id": "9dec354f696f24a9",
   "metadata": {
    "collapsed": false
   },
   "source": [
    "### training the model"
   ]
  },
  {
   "cell_type": "code",
   "outputs": [
    {
     "name": "stdout",
     "output_type": "stream",
     "text": [
      "Epoch 1/500\n",
      "\u001B[1m9/9\u001B[0m \u001B[32m━━━━━━━━━━━━━━━━━━━━\u001B[0m\u001B[37m\u001B[0m \u001B[1m2s\u001B[0m 75ms/step - accuracy: 0.8120 - loss: 0.6367 - val_accuracy: 0.8962 - val_loss: 0.4653\n",
      "Epoch 2/500\n",
      "\u001B[1m9/9\u001B[0m \u001B[32m━━━━━━━━━━━━━━━━━━━━\u001B[0m\u001B[37m\u001B[0m \u001B[1m0s\u001B[0m 17ms/step - accuracy: 0.8648 - loss: 0.4622 - val_accuracy: 0.8962 - val_loss: 0.3421\n",
      "Epoch 3/500\n",
      "\u001B[1m9/9\u001B[0m \u001B[32m━━━━━━━━━━━━━━━━━━━━\u001B[0m\u001B[37m\u001B[0m \u001B[1m0s\u001B[0m 18ms/step - accuracy: 0.8562 - loss: 0.4269 - val_accuracy: 0.8962 - val_loss: 0.3339\n",
      "Epoch 4/500\n",
      "\u001B[1m9/9\u001B[0m \u001B[32m━━━━━━━━━━━━━━━━━━━━\u001B[0m\u001B[37m\u001B[0m \u001B[1m0s\u001B[0m 18ms/step - accuracy: 0.8549 - loss: 0.4182 - val_accuracy: 0.8962 - val_loss: 0.3399\n",
      "Epoch 5/500\n",
      "\u001B[1m9/9\u001B[0m \u001B[32m━━━━━━━━━━━━━━━━━━━━\u001B[0m\u001B[37m\u001B[0m \u001B[1m0s\u001B[0m 15ms/step - accuracy: 0.8608 - loss: 0.3909 - val_accuracy: 0.8962 - val_loss: 0.3264\n",
      "Epoch 6/500\n",
      "\u001B[1m9/9\u001B[0m \u001B[32m━━━━━━━━━━━━━━━━━━━━\u001B[0m\u001B[37m\u001B[0m \u001B[1m0s\u001B[0m 15ms/step - accuracy: 0.8509 - loss: 0.3971 - val_accuracy: 0.8962 - val_loss: 0.3200\n",
      "Epoch 7/500\n",
      "\u001B[1m9/9\u001B[0m \u001B[32m━━━━━━━━━━━━━━━━━━━━\u001B[0m\u001B[37m\u001B[0m \u001B[1m0s\u001B[0m 16ms/step - accuracy: 0.8536 - loss: 0.3814 - val_accuracy: 0.8962 - val_loss: 0.3193\n",
      "Epoch 8/500\n",
      "\u001B[1m9/9\u001B[0m \u001B[32m━━━━━━━━━━━━━━━━━━━━\u001B[0m\u001B[37m\u001B[0m \u001B[1m0s\u001B[0m 17ms/step - accuracy: 0.8592 - loss: 0.3609 - val_accuracy: 0.8962 - val_loss: 0.3171\n",
      "Epoch 9/500\n",
      "\u001B[1m9/9\u001B[0m \u001B[32m━━━━━━━━━━━━━━━━━━━━\u001B[0m\u001B[37m\u001B[0m \u001B[1m0s\u001B[0m 15ms/step - accuracy: 0.8622 - loss: 0.3611 - val_accuracy: 0.8962 - val_loss: 0.3161\n",
      "Epoch 10/500\n",
      "\u001B[1m9/9\u001B[0m \u001B[32m━━━━━━━━━━━━━━━━━━━━\u001B[0m\u001B[37m\u001B[0m \u001B[1m0s\u001B[0m 16ms/step - accuracy: 0.8626 - loss: 0.3606 - val_accuracy: 0.8962 - val_loss: 0.3123\n",
      "Epoch 11/500\n",
      "\u001B[1m9/9\u001B[0m \u001B[32m━━━━━━━━━━━━━━━━━━━━\u001B[0m\u001B[37m\u001B[0m \u001B[1m0s\u001B[0m 15ms/step - accuracy: 0.8496 - loss: 0.3631 - val_accuracy: 0.8962 - val_loss: 0.3098\n",
      "Epoch 12/500\n",
      "\u001B[1m9/9\u001B[0m \u001B[32m━━━━━━━━━━━━━━━━━━━━\u001B[0m\u001B[37m\u001B[0m \u001B[1m0s\u001B[0m 15ms/step - accuracy: 0.8525 - loss: 0.3550 - val_accuracy: 0.8962 - val_loss: 0.3119\n",
      "Epoch 13/500\n",
      "\u001B[1m9/9\u001B[0m \u001B[32m━━━━━━━━━━━━━━━━━━━━\u001B[0m\u001B[37m\u001B[0m \u001B[1m0s\u001B[0m 16ms/step - accuracy: 0.8491 - loss: 0.3546 - val_accuracy: 0.8962 - val_loss: 0.3018\n",
      "Epoch 14/500\n",
      "\u001B[1m9/9\u001B[0m \u001B[32m━━━━━━━━━━━━━━━━━━━━\u001B[0m\u001B[37m\u001B[0m \u001B[1m0s\u001B[0m 15ms/step - accuracy: 0.8586 - loss: 0.3348 - val_accuracy: 0.8962 - val_loss: 0.3105\n",
      "Epoch 15/500\n",
      "\u001B[1m9/9\u001B[0m \u001B[32m━━━━━━━━━━━━━━━━━━━━\u001B[0m\u001B[37m\u001B[0m \u001B[1m0s\u001B[0m 15ms/step - accuracy: 0.8542 - loss: 0.3354 - val_accuracy: 0.8962 - val_loss: 0.3026\n",
      "Epoch 16/500\n",
      "\u001B[1m9/9\u001B[0m \u001B[32m━━━━━━━━━━━━━━━━━━━━\u001B[0m\u001B[37m\u001B[0m \u001B[1m0s\u001B[0m 15ms/step - accuracy: 0.8502 - loss: 0.3379 - val_accuracy: 0.8962 - val_loss: 0.2978\n",
      "Epoch 17/500\n",
      "\u001B[1m9/9\u001B[0m \u001B[32m━━━━━━━━━━━━━━━━━━━━\u001B[0m\u001B[37m\u001B[0m \u001B[1m0s\u001B[0m 16ms/step - accuracy: 0.8608 - loss: 0.3167 - val_accuracy: 0.8962 - val_loss: 0.3134\n",
      "Epoch 18/500\n",
      "\u001B[1m9/9\u001B[0m \u001B[32m━━━━━━━━━━━━━━━━━━━━\u001B[0m\u001B[37m\u001B[0m \u001B[1m0s\u001B[0m 14ms/step - accuracy: 0.8527 - loss: 0.3172 - val_accuracy: 0.8962 - val_loss: 0.3013\n",
      "Epoch 19/500\n",
      "\u001B[1m9/9\u001B[0m \u001B[32m━━━━━━━━━━━━━━━━━━━━\u001B[0m\u001B[37m\u001B[0m \u001B[1m0s\u001B[0m 15ms/step - accuracy: 0.8675 - loss: 0.2963 - val_accuracy: 0.8951 - val_loss: 0.3009\n",
      "Epoch 20/500\n",
      "\u001B[1m9/9\u001B[0m \u001B[32m━━━━━━━━━━━━━━━━━━━━\u001B[0m\u001B[37m\u001B[0m \u001B[1m0s\u001B[0m 15ms/step - accuracy: 0.8630 - loss: 0.2966 - val_accuracy: 0.8985 - val_loss: 0.3025\n",
      "Epoch 21/500\n",
      "\u001B[1m9/9\u001B[0m \u001B[32m━━━━━━━━━━━━━━━━━━━━\u001B[0m\u001B[37m\u001B[0m \u001B[1m0s\u001B[0m 17ms/step - accuracy: 0.8803 - loss: 0.2821 - val_accuracy: 0.8940 - val_loss: 0.3100\n",
      "Epoch 22/500\n",
      "\u001B[1m9/9\u001B[0m \u001B[32m━━━━━━━━━━━━━━━━━━━━\u001B[0m\u001B[37m\u001B[0m \u001B[1m0s\u001B[0m 16ms/step - accuracy: 0.8678 - loss: 0.2809 - val_accuracy: 0.8951 - val_loss: 0.3033\n",
      "Epoch 23/500\n",
      "\u001B[1m9/9\u001B[0m \u001B[32m━━━━━━━━━━━━━━━━━━━━\u001B[0m\u001B[37m\u001B[0m \u001B[1m0s\u001B[0m 15ms/step - accuracy: 0.8724 - loss: 0.2754 - val_accuracy: 0.8840 - val_loss: 0.3115\n",
      "Epoch 24/500\n",
      "\u001B[1m9/9\u001B[0m \u001B[32m━━━━━━━━━━━━━━━━━━━━\u001B[0m\u001B[37m\u001B[0m \u001B[1m0s\u001B[0m 14ms/step - accuracy: 0.8853 - loss: 0.2587 - val_accuracy: 0.8829 - val_loss: 0.3116\n",
      "Epoch 25/500\n",
      "\u001B[1m9/9\u001B[0m \u001B[32m━━━━━━━━━━━━━━━━━━━━\u001B[0m\u001B[37m\u001B[0m \u001B[1m0s\u001B[0m 14ms/step - accuracy: 0.8907 - loss: 0.2558 - val_accuracy: 0.8840 - val_loss: 0.3123\n",
      "Epoch 26/500\n",
      "\u001B[1m9/9\u001B[0m \u001B[32m━━━━━━━━━━━━━━━━━━━━\u001B[0m\u001B[37m\u001B[0m \u001B[1m0s\u001B[0m 14ms/step - accuracy: 0.8931 - loss: 0.2489 - val_accuracy: 0.8766 - val_loss: 0.3129\n",
      "Epoch 27/500\n",
      "\u001B[1m9/9\u001B[0m \u001B[32m━━━━━━━━━━━━━━━━━━━━\u001B[0m\u001B[37m\u001B[0m \u001B[1m0s\u001B[0m 14ms/step - accuracy: 0.8924 - loss: 0.2370 - val_accuracy: 0.8929 - val_loss: 0.3245\n",
      "Epoch 28/500\n",
      "\u001B[1m9/9\u001B[0m \u001B[32m━━━━━━━━━━━━━━━━━━━━\u001B[0m\u001B[37m\u001B[0m \u001B[1m0s\u001B[0m 14ms/step - accuracy: 0.9004 - loss: 0.2335 - val_accuracy: 0.8907 - val_loss: 0.3218\n",
      "Epoch 29/500\n",
      "\u001B[1m9/9\u001B[0m \u001B[32m━━━━━━━━━━━━━━━━━━━━\u001B[0m\u001B[37m\u001B[0m \u001B[1m0s\u001B[0m 17ms/step - accuracy: 0.8985 - loss: 0.2329 - val_accuracy: 0.8874 - val_loss: 0.3335\n",
      "Epoch 30/500\n",
      "\u001B[1m9/9\u001B[0m \u001B[32m━━━━━━━━━━━━━━━━━━━━\u001B[0m\u001B[37m\u001B[0m \u001B[1m0s\u001B[0m 15ms/step - accuracy: 0.9095 - loss: 0.2192 - val_accuracy: 0.8506 - val_loss: 0.3272\n",
      "Epoch 31/500\n",
      "\u001B[1m9/9\u001B[0m \u001B[32m━━━━━━━━━━━━━━━━━━━━\u001B[0m\u001B[37m\u001B[0m \u001B[1m0s\u001B[0m 16ms/step - accuracy: 0.9188 - loss: 0.2018 - val_accuracy: 0.8268 - val_loss: 0.3427\n",
      "Epoch 32/500\n",
      "\u001B[1m9/9\u001B[0m \u001B[32m━━━━━━━━━━━━━━━━━━━━\u001B[0m\u001B[37m\u001B[0m \u001B[1m0s\u001B[0m 15ms/step - accuracy: 0.9238 - loss: 0.1919 - val_accuracy: 0.8224 - val_loss: 0.3528\n",
      "Epoch 33/500\n",
      "\u001B[1m9/9\u001B[0m \u001B[32m━━━━━━━━━━━━━━━━━━━━\u001B[0m\u001B[37m\u001B[0m \u001B[1m0s\u001B[0m 18ms/step - accuracy: 0.9295 - loss: 0.1805 - val_accuracy: 0.8376 - val_loss: 0.3548\n",
      "Epoch 34/500\n",
      "\u001B[1m9/9\u001B[0m \u001B[32m━━━━━━━━━━━━━━━━━━━━\u001B[0m\u001B[37m\u001B[0m \u001B[1m0s\u001B[0m 17ms/step - accuracy: 0.9297 - loss: 0.1790 - val_accuracy: 0.8335 - val_loss: 0.3728\n",
      "Epoch 35/500\n",
      "\u001B[1m9/9\u001B[0m \u001B[32m━━━━━━━━━━━━━━━━━━━━\u001B[0m\u001B[37m\u001B[0m \u001B[1m0s\u001B[0m 15ms/step - accuracy: 0.9388 - loss: 0.1668 - val_accuracy: 0.8224 - val_loss: 0.3797\n",
      "Epoch 36/500\n",
      "\u001B[1m9/9\u001B[0m \u001B[32m━━━━━━━━━━━━━━━━━━━━\u001B[0m\u001B[37m\u001B[0m \u001B[1m0s\u001B[0m 15ms/step - accuracy: 0.9428 - loss: 0.1488 - val_accuracy: 0.8636 - val_loss: 0.3943\n",
      "Epoch 37/500\n",
      "\u001B[1m9/9\u001B[0m \u001B[32m━━━━━━━━━━━━━━━━━━━━\u001B[0m\u001B[37m\u001B[0m \u001B[1m0s\u001B[0m 15ms/step - accuracy: 0.9461 - loss: 0.1379 - val_accuracy: 0.8562 - val_loss: 0.4040\n",
      "Epoch 38/500\n",
      "\u001B[1m9/9\u001B[0m \u001B[32m━━━━━━━━━━━━━━━━━━━━\u001B[0m\u001B[37m\u001B[0m \u001B[1m0s\u001B[0m 14ms/step - accuracy: 0.9478 - loss: 0.1431 - val_accuracy: 0.8165 - val_loss: 0.4136\n",
      "Epoch 39/500\n",
      "\u001B[1m9/9\u001B[0m \u001B[32m━━━━━━━━━━━━━━━━━━━━\u001B[0m\u001B[37m\u001B[0m \u001B[1m0s\u001B[0m 15ms/step - accuracy: 0.9590 - loss: 0.1256 - val_accuracy: 0.8484 - val_loss: 0.4196\n",
      "Epoch 40/500\n",
      "\u001B[1m9/9\u001B[0m \u001B[32m━━━━━━━━━━━━━━━━━━━━\u001B[0m\u001B[37m\u001B[0m \u001B[1m0s\u001B[0m 15ms/step - accuracy: 0.9668 - loss: 0.1059 - val_accuracy: 0.8495 - val_loss: 0.4368\n",
      "Epoch 41/500\n",
      "\u001B[1m9/9\u001B[0m \u001B[32m━━━━━━━━━━━━━━━━━━━━\u001B[0m\u001B[37m\u001B[0m \u001B[1m0s\u001B[0m 20ms/step - accuracy: 0.9708 - loss: 0.0988 - val_accuracy: 0.8384 - val_loss: 0.4504\n",
      "Epoch 42/500\n",
      "\u001B[1m9/9\u001B[0m \u001B[32m━━━━━━━━━━━━━━━━━━━━\u001B[0m\u001B[37m\u001B[0m \u001B[1m0s\u001B[0m 15ms/step - accuracy: 0.9755 - loss: 0.0883 - val_accuracy: 0.8343 - val_loss: 0.4696\n",
      "Epoch 43/500\n",
      "\u001B[1m9/9\u001B[0m \u001B[32m━━━━━━━━━━━━━━━━━━━━\u001B[0m\u001B[37m\u001B[0m \u001B[1m0s\u001B[0m 15ms/step - accuracy: 0.9702 - loss: 0.0921 - val_accuracy: 0.8298 - val_loss: 0.4783\n",
      "Epoch 44/500\n",
      "\u001B[1m9/9\u001B[0m \u001B[32m━━━━━━━━━━━━━━━━━━━━\u001B[0m\u001B[37m\u001B[0m \u001B[1m0s\u001B[0m 15ms/step - accuracy: 0.9776 - loss: 0.0805 - val_accuracy: 0.8439 - val_loss: 0.4917\n",
      "Epoch 45/500\n",
      "\u001B[1m9/9\u001B[0m \u001B[32m━━━━━━━━━━━━━━━━━━━━\u001B[0m\u001B[37m\u001B[0m \u001B[1m0s\u001B[0m 14ms/step - accuracy: 0.9800 - loss: 0.0715 - val_accuracy: 0.8450 - val_loss: 0.5205\n",
      "Epoch 46/500\n",
      "\u001B[1m9/9\u001B[0m \u001B[32m━━━━━━━━━━━━━━━━━━━━\u001B[0m\u001B[37m\u001B[0m \u001B[1m0s\u001B[0m 15ms/step - accuracy: 0.9846 - loss: 0.0626 - val_accuracy: 0.8243 - val_loss: 0.5235\n",
      "Epoch 47/500\n",
      "\u001B[1m9/9\u001B[0m \u001B[32m━━━━━━━━━━━━━━━━━━━━\u001B[0m\u001B[37m\u001B[0m \u001B[1m0s\u001B[0m 15ms/step - accuracy: 0.9824 - loss: 0.0632 - val_accuracy: 0.8291 - val_loss: 0.5427\n",
      "Epoch 48/500\n",
      "\u001B[1m9/9\u001B[0m \u001B[32m━━━━━━━━━━━━━━━━━━━━\u001B[0m\u001B[37m\u001B[0m \u001B[1m0s\u001B[0m 15ms/step - accuracy: 0.9871 - loss: 0.0553 - val_accuracy: 0.8398 - val_loss: 0.5587\n",
      "Epoch 49/500\n",
      "\u001B[1m9/9\u001B[0m \u001B[32m━━━━━━━━━━━━━━━━━━━━\u001B[0m\u001B[37m\u001B[0m \u001B[1m0s\u001B[0m 16ms/step - accuracy: 0.9864 - loss: 0.0506 - val_accuracy: 0.8636 - val_loss: 0.5881\n",
      "Epoch 50/500\n",
      "\u001B[1m9/9\u001B[0m \u001B[32m━━━━━━━━━━━━━━━━━━━━\u001B[0m\u001B[37m\u001B[0m \u001B[1m0s\u001B[0m 15ms/step - accuracy: 0.9815 - loss: 0.0602 - val_accuracy: 0.8450 - val_loss: 0.5754\n",
      "Epoch 51/500\n",
      "\u001B[1m9/9\u001B[0m \u001B[32m━━━━━━━━━━━━━━━━━━━━\u001B[0m\u001B[37m\u001B[0m \u001B[1m0s\u001B[0m 16ms/step - accuracy: 0.9843 - loss: 0.0517 - val_accuracy: 0.8050 - val_loss: 0.6065\n",
      "Epoch 52/500\n",
      "\u001B[1m9/9\u001B[0m \u001B[32m━━━━━━━━━━━━━━━━━━━━\u001B[0m\u001B[37m\u001B[0m \u001B[1m0s\u001B[0m 16ms/step - accuracy: 0.9874 - loss: 0.0461 - val_accuracy: 0.8428 - val_loss: 0.5914\n",
      "Epoch 53/500\n",
      "\u001B[1m9/9\u001B[0m \u001B[32m━━━━━━━━━━━━━━━━━━━━\u001B[0m\u001B[37m\u001B[0m \u001B[1m0s\u001B[0m 15ms/step - accuracy: 0.9920 - loss: 0.0374 - val_accuracy: 0.8450 - val_loss: 0.6032\n",
      "Epoch 54/500\n",
      "\u001B[1m9/9\u001B[0m \u001B[32m━━━━━━━━━━━━━━━━━━━━\u001B[0m\u001B[37m\u001B[0m \u001B[1m0s\u001B[0m 15ms/step - accuracy: 0.9929 - loss: 0.0339 - val_accuracy: 0.8495 - val_loss: 0.6410\n",
      "Epoch 55/500\n",
      "\u001B[1m9/9\u001B[0m \u001B[32m━━━━━━━━━━━━━━━━━━━━\u001B[0m\u001B[37m\u001B[0m \u001B[1m0s\u001B[0m 14ms/step - accuracy: 0.9919 - loss: 0.0330 - val_accuracy: 0.8321 - val_loss: 0.6399\n",
      "Epoch 56/500\n",
      "\u001B[1m9/9\u001B[0m \u001B[32m━━━━━━━━━━━━━━━━━━━━\u001B[0m\u001B[37m\u001B[0m \u001B[1m0s\u001B[0m 14ms/step - accuracy: 0.9913 - loss: 0.0307 - val_accuracy: 0.8298 - val_loss: 0.6512\n",
      "Epoch 57/500\n",
      "\u001B[1m9/9\u001B[0m \u001B[32m━━━━━━━━━━━━━━━━━━━━\u001B[0m\u001B[37m\u001B[0m \u001B[1m0s\u001B[0m 14ms/step - accuracy: 0.9924 - loss: 0.0303 - val_accuracy: 0.8276 - val_loss: 0.6648\n",
      "Epoch 58/500\n",
      "\u001B[1m9/9\u001B[0m \u001B[32m━━━━━━━━━━━━━━━━━━━━\u001B[0m\u001B[37m\u001B[0m \u001B[1m0s\u001B[0m 17ms/step - accuracy: 0.9930 - loss: 0.0279 - val_accuracy: 0.8439 - val_loss: 0.6884\n",
      "Epoch 59/500\n",
      "\u001B[1m9/9\u001B[0m \u001B[32m━━━━━━━━━━━━━━━━━━━━\u001B[0m\u001B[37m\u001B[0m \u001B[1m0s\u001B[0m 17ms/step - accuracy: 0.9908 - loss: 0.0275 - val_accuracy: 0.8398 - val_loss: 0.6986\n",
      "Epoch 60/500\n",
      "\u001B[1m9/9\u001B[0m \u001B[32m━━━━━━━━━━━━━━━━━━━━\u001B[0m\u001B[37m\u001B[0m \u001B[1m0s\u001B[0m 16ms/step - accuracy: 0.9916 - loss: 0.0259 - val_accuracy: 0.8224 - val_loss: 0.7179\n",
      "Epoch 61/500\n",
      "\u001B[1m9/9\u001B[0m \u001B[32m━━━━━━━━━━━━━━━━━━━━\u001B[0m\u001B[37m\u001B[0m \u001B[1m0s\u001B[0m 15ms/step - accuracy: 0.9950 - loss: 0.0243 - val_accuracy: 0.7957 - val_loss: 0.7275\n",
      "Epoch 62/500\n",
      "\u001B[1m9/9\u001B[0m \u001B[32m━━━━━━━━━━━━━━━━━━━━\u001B[0m\u001B[37m\u001B[0m \u001B[1m0s\u001B[0m 14ms/step - accuracy: 0.9929 - loss: 0.0303 - val_accuracy: 0.8113 - val_loss: 0.7506\n",
      "Epoch 63/500\n",
      "\u001B[1m9/9\u001B[0m \u001B[32m━━━━━━━━━━━━━━━━━━━━\u001B[0m\u001B[37m\u001B[0m \u001B[1m0s\u001B[0m 14ms/step - accuracy: 0.9943 - loss: 0.0232 - val_accuracy: 0.8495 - val_loss: 0.7318\n",
      "Epoch 64/500\n",
      "\u001B[1m9/9\u001B[0m \u001B[32m━━━━━━━━━━━━━━━━━━━━\u001B[0m\u001B[37m\u001B[0m \u001B[1m0s\u001B[0m 17ms/step - accuracy: 0.9920 - loss: 0.0254 - val_accuracy: 0.8484 - val_loss: 0.7371\n",
      "Epoch 65/500\n",
      "\u001B[1m9/9\u001B[0m \u001B[32m━━━━━━━━━━━━━━━━━━━━\u001B[0m\u001B[37m\u001B[0m \u001B[1m0s\u001B[0m 17ms/step - accuracy: 0.9911 - loss: 0.0274 - val_accuracy: 0.8168 - val_loss: 0.7566\n",
      "Epoch 66/500\n",
      "\u001B[1m9/9\u001B[0m \u001B[32m━━━━━━━━━━━━━━━━━━━━\u001B[0m\u001B[37m\u001B[0m \u001B[1m0s\u001B[0m 17ms/step - accuracy: 0.9938 - loss: 0.0209 - val_accuracy: 0.8094 - val_loss: 0.7585\n",
      "Epoch 67/500\n",
      "\u001B[1m9/9\u001B[0m \u001B[32m━━━━━━━━━━━━━━━━━━━━\u001B[0m\u001B[37m\u001B[0m \u001B[1m0s\u001B[0m 15ms/step - accuracy: 0.9929 - loss: 0.0205 - val_accuracy: 0.8146 - val_loss: 0.7699\n",
      "Epoch 68/500\n",
      "\u001B[1m9/9\u001B[0m \u001B[32m━━━━━━━━━━━━━━━━━━━━\u001B[0m\u001B[37m\u001B[0m \u001B[1m0s\u001B[0m 15ms/step - accuracy: 0.9922 - loss: 0.0228 - val_accuracy: 0.8506 - val_loss: 0.7925\n",
      "Epoch 69/500\n",
      "\u001B[1m9/9\u001B[0m \u001B[32m━━━━━━━━━━━━━━━━━━━━\u001B[0m\u001B[37m\u001B[0m \u001B[1m0s\u001B[0m 14ms/step - accuracy: 0.9908 - loss: 0.0296 - val_accuracy: 0.8398 - val_loss: 0.7684\n",
      "Epoch 70/500\n",
      "\u001B[1m9/9\u001B[0m \u001B[32m━━━━━━━━━━━━━━━━━━━━\u001B[0m\u001B[37m\u001B[0m \u001B[1m0s\u001B[0m 15ms/step - accuracy: 0.9950 - loss: 0.0160 - val_accuracy: 0.8450 - val_loss: 0.7791\n",
      "Epoch 71/500\n",
      "\u001B[1m9/9\u001B[0m \u001B[32m━━━━━━━━━━━━━━━━━━━━\u001B[0m\u001B[37m\u001B[0m \u001B[1m0s\u001B[0m 16ms/step - accuracy: 0.9931 - loss: 0.0208 - val_accuracy: 0.8528 - val_loss: 0.7931\n",
      "Epoch 72/500\n",
      "\u001B[1m9/9\u001B[0m \u001B[32m━━━━━━━━━━━━━━━━━━━━\u001B[0m\u001B[37m\u001B[0m \u001B[1m0s\u001B[0m 15ms/step - accuracy: 0.9942 - loss: 0.0169 - val_accuracy: 0.8232 - val_loss: 0.7871\n",
      "Epoch 73/500\n",
      "\u001B[1m9/9\u001B[0m \u001B[32m━━━━━━━━━━━━━━━━━━━━\u001B[0m\u001B[37m\u001B[0m \u001B[1m0s\u001B[0m 15ms/step - accuracy: 0.9948 - loss: 0.0151 - val_accuracy: 0.8536 - val_loss: 0.7952\n",
      "Epoch 74/500\n",
      "\u001B[1m9/9\u001B[0m \u001B[32m━━━━━━━━━━━━━━━━━━━━\u001B[0m\u001B[37m\u001B[0m \u001B[1m0s\u001B[0m 15ms/step - accuracy: 0.9928 - loss: 0.0168 - val_accuracy: 0.8547 - val_loss: 0.8142\n",
      "Epoch 75/500\n",
      "\u001B[1m9/9\u001B[0m \u001B[32m━━━━━━━━━━━━━━━━━━━━\u001B[0m\u001B[37m\u001B[0m \u001B[1m0s\u001B[0m 15ms/step - accuracy: 0.9948 - loss: 0.0146 - val_accuracy: 0.8484 - val_loss: 0.8130\n",
      "Epoch 76/500\n",
      "\u001B[1m9/9\u001B[0m \u001B[32m━━━━━━━━━━━━━━━━━━━━\u001B[0m\u001B[37m\u001B[0m \u001B[1m0s\u001B[0m 16ms/step - accuracy: 0.9940 - loss: 0.0188 - val_accuracy: 0.8569 - val_loss: 0.8362\n",
      "Epoch 77/500\n",
      "\u001B[1m9/9\u001B[0m \u001B[32m━━━━━━━━━━━━━━━━━━━━\u001B[0m\u001B[37m\u001B[0m \u001B[1m0s\u001B[0m 15ms/step - accuracy: 0.9915 - loss: 0.0188 - val_accuracy: 0.8202 - val_loss: 0.7985\n",
      "Epoch 78/500\n",
      "\u001B[1m9/9\u001B[0m \u001B[32m━━━━━━━━━━━━━━━━━━━━\u001B[0m\u001B[37m\u001B[0m \u001B[1m0s\u001B[0m 18ms/step - accuracy: 0.9912 - loss: 0.0240 - val_accuracy: 0.8484 - val_loss: 0.8467\n",
      "Epoch 79/500\n",
      "\u001B[1m9/9\u001B[0m \u001B[32m━━━━━━━━━━━━━━━━━━━━\u001B[0m\u001B[37m\u001B[0m \u001B[1m0s\u001B[0m 17ms/step - accuracy: 0.9950 - loss: 0.0167 - val_accuracy: 0.8146 - val_loss: 0.8490\n",
      "Epoch 80/500\n",
      "\u001B[1m9/9\u001B[0m \u001B[32m━━━━━━━━━━━━━━━━━━━━\u001B[0m\u001B[37m\u001B[0m \u001B[1m0s\u001B[0m 14ms/step - accuracy: 0.9960 - loss: 0.0137 - val_accuracy: 0.8254 - val_loss: 0.8606\n",
      "Epoch 81/500\n",
      "\u001B[1m9/9\u001B[0m \u001B[32m━━━━━━━━━━━━━━━━━━━━\u001B[0m\u001B[37m\u001B[0m \u001B[1m0s\u001B[0m 16ms/step - accuracy: 0.9947 - loss: 0.0157 - val_accuracy: 0.8224 - val_loss: 0.8834\n",
      "Epoch 82/500\n",
      "\u001B[1m9/9\u001B[0m \u001B[32m━━━━━━━━━━━━━━━━━━━━\u001B[0m\u001B[37m\u001B[0m \u001B[1m0s\u001B[0m 15ms/step - accuracy: 0.9944 - loss: 0.0145 - val_accuracy: 0.8406 - val_loss: 0.8403\n",
      "Epoch 83/500\n",
      "\u001B[1m9/9\u001B[0m \u001B[32m━━━━━━━━━━━━━━━━━━━━\u001B[0m\u001B[37m\u001B[0m \u001B[1m0s\u001B[0m 15ms/step - accuracy: 0.9932 - loss: 0.0143 - val_accuracy: 0.8387 - val_loss: 0.8792\n"
     ]
    },
    {
     "data": {
      "text/plain": "<keras_core.src.callbacks.history.History at 0x7f4b005f36d0>"
     },
     "execution_count": 72,
     "metadata": {},
     "output_type": "execute_result"
    }
   ],
   "source": [
    "X_train, X_test, y_train, y_test = train_test_split(X, y, test_size=0.2, random_state=42)\n",
    "\n",
    "model = Sequential()\n",
    "model.add(Dense(128, input_dim=300, activation='relu'))\n",
    "model.add(Dense(64, activation='relu'))\n",
    "model.add(Dense(34, activation='relu'))\n",
    "model.add(Dense(1, activation='sigmoid'))\n",
    "\n",
    "model.compile(loss='binary_crossentropy', optimizer='adam', metrics=['accuracy'])\n",
    "\n",
    "model.fit(X_train,\n",
    "          y_train,\n",
    "          epochs=500,\n",
    "          batch_size = params_grid['batch_size'],\n",
    "          callbacks=callback,\n",
    "          validation_data=(X_test, y_test)\n",
    "          )"
   ],
   "metadata": {
    "collapsed": false,
    "ExecuteTime": {
     "end_time": "2024-06-26T12:59:58.100321Z",
     "start_time": "2024-06-26T12:59:41.312150Z"
    }
   },
   "id": "c4cf876c5cbae2f2",
   "execution_count": 72
  },
  {
   "cell_type": "markdown",
   "id": "e01ea87c7efc4af6",
   "metadata": {
    "collapsed": false
   },
   "source": [
    "# save model"
   ]
  },
  {
   "cell_type": "code",
   "execution_count": null,
   "id": "e0b9fbafea831f00",
   "metadata": {
    "collapsed": false,
    "is_executing": true
   },
   "outputs": [],
   "source": [
    "model.save(model_weight_dst)"
   ]
  },
  {
   "cell_type": "markdown",
   "id": "858f1dcf54daf1ee",
   "metadata": {
    "collapsed": false
   },
   "source": [
    "### testing with custom sentence"
   ]
  },
  {
   "cell_type": "code",
   "execution_count": null,
   "id": "9082729f7fb73c8",
   "metadata": {
    "collapsed": false,
    "is_executing": true
   },
   "outputs": [],
   "source": [
    "model_weight_dst = f'../../model_weights/fasttext_nlp_20240613-131608-model.keras'\n",
    "new_model = load_model(model_weight_dst)"
   ]
  },
  {
   "cell_type": "code",
   "execution_count": null,
   "id": "be31f886c1e61d2",
   "metadata": {
    "collapsed": false,
    "is_executing": true
   },
   "outputs": [],
   "source": [
    "text_nice = [\n",
    "    \"la bonjour je suis un type sympas\", \n",
    "    \"hello ça va les gens\",\n",
    "    \"j'aime pas trop ce mec\",\n",
    "    \"cette meuf est cool\",\n",
    "    \"les meuf sont trop cool\",\n",
    "    \"les mecs sont des gens stylé\",\n",
    "    \"le mec est stylé\",\n",
    "    \"nan mais mon manager exagère quand il dit que je suis pas assez productif et que je travail pas assez, franchement il abuse\",\n",
    "    \"les hommes cis sont toxiques pour la société car ils imposent leur vision paternaliste\",\n",
    "    \"Les hommes sont moins matures que les femmes quand il s'agit de prendre des décisions\"\n",
    "    \n",
    "]\n",
    "\n",
    "text_no_nice = [\n",
    "    \"regarde moi cette connasse\",\n",
    "    \"les femme leur place c'est à la cuisine\",\n",
    "    \"femme au volant, accident\",\n",
    "    \"les femmes on peux pas leur faire confiance\",\n",
    "    \"Pour une transphobe son passing est pas ouf\",\n",
    "    \"Elle l’ouvre quand même beaucoup celle là pour quelqu’un qu’est pas capable d’éduquer ses enfants\",\n",
    "    \"Dis donc, c’est pas parce que t’es mal baisée que tu peux tout te permettre ????\",\n",
    "    \"Moi ce que j’aime bien chez les filles comme toi c’est que t’es pas du genre prise de tête\",\n",
    "    \"les femmes c'est comme le fromage, quand elles puent c'est qu'elles sont bonnes\",\n",
    "    \"Oh les grosses tepus\",\n",
    "    \"Faut pas t'étonner si tu te fais violer vu comment t'es habillée\",\n",
    "    \"Tu deverais avoir des enfants maintenant avant que ce soit trop tard\",\n",
    "    \"Vous seriez une collaboratrice idéal pour notre entreprise, malheureusement nous cherchons quelqu’un disponible sur le long terme, et nous craignons qu’à votre âge des changements familiaux ne vous permettent plus de vous investir autant que besoins\"\n",
    "]\n",
    "wordsvec_nice = [np.expand_dims(text_to_vector(text), axis=0) for text in text_nice]\n",
    "wordsvec_no_nice = [np.expand_dims(text_to_vector(text), axis=0) for text in text_no_nice]\n",
    "\n",
    "print(\"nice output\")\n",
    "for i in range(0, len(wordsvec_nice)):\n",
    "    prediction = new_model.predict(wordsvec_nice[i], verbose=False)\n",
    "    print(f\"{text_nice[i]} : {prediction > 0.0001}\")\n",
    "    print(f\"{prediction}\")\n",
    "\n",
    "\n",
    "print(\"\\n\\nnot nice output\")\n",
    "for i in range(0, len(wordsvec_no_nice)):\n",
    "    prediction =  new_model.predict(wordsvec_no_nice[i], verbose=False)\n",
    "    print(f\"{text_no_nice[i]} : {prediction > 0.0001}\")\n",
    "    print(f\"{prediction}\")"
   ]
  },
  {
   "cell_type": "code",
   "execution_count": null,
   "id": "eee4f2d23f45322e",
   "metadata": {
    "collapsed": false,
    "is_executing": true
   },
   "outputs": [],
   "source": []
  },
  {
   "cell_type": "code",
   "execution_count": null,
   "id": "8c753464d73b3dba",
   "metadata": {
    "collapsed": false,
    "is_executing": true
   },
   "outputs": [],
   "source": []
  }
 ],
 "metadata": {
  "kernelspec": {
   "display_name": "Python 3 (ipykernel)",
   "language": "python",
   "name": "python3"
  },
  "language_info": {
   "codemirror_mode": {
    "name": "ipython",
    "version": 3
   },
   "file_extension": ".py",
   "mimetype": "text/x-python",
   "name": "python",
   "nbconvert_exporter": "python",
   "pygments_lexer": "ipython3",
   "version": "3.10.13"
  }
 },
 "nbformat": 4,
 "nbformat_minor": 5
}
