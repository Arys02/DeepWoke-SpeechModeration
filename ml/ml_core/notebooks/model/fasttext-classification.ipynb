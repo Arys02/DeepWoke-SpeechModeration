{
 "cells": [
  {
   "cell_type": "code",
   "outputs": [],
   "source": [
    "import os\n",
    "\n",
    "import pandas as pd"
   ],
   "metadata": {
    "collapsed": false,
    "ExecuteTime": {
     "end_time": "2024-06-26T12:00:14.360463Z",
     "start_time": "2024-06-26T12:00:14.357374Z"
    }
   },
   "id": "e1f007c4b98f53d4",
   "execution_count": 2
  },
  {
   "cell_type": "code",
   "execution_count": 21,
   "id": "initial_id",
   "metadata": {
    "collapsed": false,
    "ExecuteTime": {
     "end_time": "2024-06-26T12:27:18.525297Z",
     "start_time": "2024-06-26T12:27:18.410768Z"
    }
   },
   "outputs": [],
   "source": [
    "import datetime\n",
    "\n",
    "import fasttext\n",
    "import keras_core as keras\n",
    "import numpy as np\n",
    "import pandas as pd\n",
    "from keras_core import Sequential\n",
    "from keras_core.src.layers import Dense\n",
    "from keras_core.models import load_model\n",
    "from sklearn.model_selection import train_test_split\n",
    "from tqdm import tqdm\n",
    "import tensorflow as tf\n",
    "\n",
    "from tensorboard.plugins.hparams import api as hp"
   ]
  },
  {
   "cell_type": "markdown",
   "id": "3d946bd3803cbf47",
   "metadata": {
    "collapsed": false
   },
   "source": [
    "## import fastTest model"
   ]
  },
  {
   "cell_type": "code",
   "outputs": [
    {
     "name": "stdout",
     "output_type": "stream",
     "text": [
      "['notebooks', 'tmp', 'tests', '.env', 'ml', 'pyproject.toml', 'README.md', 'Init.ipynb', 'accounts.db', 'src', 'data', '.env.template', 'docs', 'model_weights', '__init__.py', 'poetry.lock', 'log']\n"
     ]
    }
   ],
   "source": [
    "import os\n",
    "#embedded_path = './../../'\n",
    "\n",
    "#contents = os.listdir(embedded_path)\n",
    "#print(contents)\n",
    "ft = fasttext.load_model('../../data/embedding_data/cc.fr.300.bin')"
   ],
   "metadata": {
    "collapsed": false,
    "ExecuteTime": {
     "end_time": "2024-06-26T12:14:21.943222Z",
     "start_time": "2024-06-26T12:14:05.226022Z"
    }
   },
   "id": "581097380ddb6dcb",
   "execution_count": 13
  },
  {
   "cell_type": "markdown",
   "id": "18856c657e08494f",
   "metadata": {
    "collapsed": false
   },
   "source": [
    "## Configurations"
   ]
  },
  {
   "cell_type": "code",
   "outputs": [],
   "source": [
    "params_grid = {\n",
    "    \"model\" : \"nlp\",\n",
    "    \"embedder\" : \"fasttext\",\n",
    "    \"embedding data\" : \"cc.fr.300.bin\",\n",
    "    \"dataset\" : \"all_data.csv\",\n",
    "    \"batch_size\" : 300\n",
    "}"
   ],
   "metadata": {
    "collapsed": false,
    "ExecuteTime": {
     "end_time": "2024-06-26T13:16:44.563449Z",
     "start_time": "2024-06-26T13:16:44.559788Z"
    }
   },
   "id": "9574abd306005981",
   "execution_count": 77
  },
  {
   "cell_type": "code",
   "outputs": [],
   "source": [
    "data_folder_src = './../../data/processed/'\n",
    "data_path_src = f'{data_folder_src}{params_grid[\"dataset\"]}'\n",
    "date_str = datetime.datetime.now().strftime(\"%Y%m%d-%H%M%S\")\n",
    "experiment_name = f'deepwoke_{params_grid[\"embedder\"]}_{params_grid[\"model\"]}_{params_grid[\"dataset\"]}_{date_str}'\n",
    "\n",
    "log_dir = f\"../../log/fit/{experiment_name}\"\n",
    "model_weight_dst = f'../../model_weights/{experiment_name}-model.keras'"
   ],
   "metadata": {
    "collapsed": false,
    "ExecuteTime": {
     "end_time": "2024-06-26T14:18:52.602383Z",
     "start_time": "2024-06-26T14:18:52.596853Z"
    }
   },
   "id": "d220a1d10493404e",
   "execution_count": 98
  },
  {
   "cell_type": "markdown",
   "id": "5d4209390b020a7",
   "metadata": {
    "collapsed": false
   },
   "source": [
    "# loading dataset"
   ]
  },
  {
   "cell_type": "code",
   "execution_count": 84,
   "id": "cda597a675bb1ba2",
   "metadata": {
    "collapsed": false,
    "ExecuteTime": {
     "end_time": "2024-06-26T13:21:19.689709Z",
     "start_time": "2024-06-26T13:21:19.660571Z"
    }
   },
   "outputs": [
    {
     "data": {
      "text/plain": "                                               full_text  label\n0      rt @user personnage ainsi q tte la clique gauc...      1\n1      @user @user @user bah oui t'as raison l'autre ...      1\n2      moi j'ai personne à qui m'adresser pour réclam...      1\n3      @user @user c...est vrai que les anchois sont ...      0\n4                eh les renois faut se réveiller la @url      0\n...                                                  ...    ...\n16893  L'islam a Ã©levÃ© la Femme en islam une femme ...      0\n16894  L'islam considÃ¨re que la femme est un joyau. ...      0\n16895  L'islam valorise la femme sur beaucoup d'aspec...      0\n16896  Le Coran a libÃ©rÃ© la femme, l'a honorÃ© en t...      0\n16897  Le Coran honore certaines femmes telles que Ma...      0\n\n[16898 rows x 2 columns]",
      "text/html": "<div>\n<style scoped>\n    .dataframe tbody tr th:only-of-type {\n        vertical-align: middle;\n    }\n\n    .dataframe tbody tr th {\n        vertical-align: top;\n    }\n\n    .dataframe thead th {\n        text-align: right;\n    }\n</style>\n<table border=\"1\" class=\"dataframe\">\n  <thead>\n    <tr style=\"text-align: right;\">\n      <th></th>\n      <th>full_text</th>\n      <th>label</th>\n    </tr>\n  </thead>\n  <tbody>\n    <tr>\n      <th>0</th>\n      <td>rt @user personnage ainsi q tte la clique gauc...</td>\n      <td>1</td>\n    </tr>\n    <tr>\n      <th>1</th>\n      <td>@user @user @user bah oui t'as raison l'autre ...</td>\n      <td>1</td>\n    </tr>\n    <tr>\n      <th>2</th>\n      <td>moi j'ai personne à qui m'adresser pour réclam...</td>\n      <td>1</td>\n    </tr>\n    <tr>\n      <th>3</th>\n      <td>@user @user c...est vrai que les anchois sont ...</td>\n      <td>0</td>\n    </tr>\n    <tr>\n      <th>4</th>\n      <td>eh les renois faut se réveiller la @url</td>\n      <td>0</td>\n    </tr>\n    <tr>\n      <th>...</th>\n      <td>...</td>\n      <td>...</td>\n    </tr>\n    <tr>\n      <th>16893</th>\n      <td>L'islam a Ã©levÃ© la Femme en islam une femme ...</td>\n      <td>0</td>\n    </tr>\n    <tr>\n      <th>16894</th>\n      <td>L'islam considÃ¨re que la femme est un joyau. ...</td>\n      <td>0</td>\n    </tr>\n    <tr>\n      <th>16895</th>\n      <td>L'islam valorise la femme sur beaucoup d'aspec...</td>\n      <td>0</td>\n    </tr>\n    <tr>\n      <th>16896</th>\n      <td>Le Coran a libÃ©rÃ© la femme, l'a honorÃ© en t...</td>\n      <td>0</td>\n    </tr>\n    <tr>\n      <th>16897</th>\n      <td>Le Coran honore certaines femmes telles que Ma...</td>\n      <td>0</td>\n    </tr>\n  </tbody>\n</table>\n<p>16898 rows × 2 columns</p>\n</div>"
     },
     "execution_count": 84,
     "metadata": {},
     "output_type": "execute_result"
    }
   ],
   "source": [
    "\n",
    "ds = pd.read_csv(data_path_src).iloc[:, 1:].dropna()\n",
    "ds.rename(columns={\"text\": \"full_text\"}, inplace=True)\n",
    "ds.rename(columns={\"hateful\": \"label\"}, inplace=True)\n",
    "ds\n"
   ]
  },
  {
   "cell_type": "markdown",
   "id": "b14d86b3a33f2e60",
   "metadata": {
    "collapsed": false
   },
   "source": [
    "## text to vector"
   ]
  },
  {
   "cell_type": "code",
   "execution_count": 85,
   "id": "4811628c43744431",
   "metadata": {
    "collapsed": false,
    "ExecuteTime": {
     "end_time": "2024-06-26T13:21:25.680655Z",
     "start_time": "2024-06-26T13:21:25.676797Z"
    }
   },
   "outputs": [],
   "source": [
    "def text_to_vector(text):\n",
    "    words = text.split(' ')\n",
    "    word_vectors = [ft.get_word_vector(word) for word in words if word in ft.words]\n",
    "    if not word_vectors:\n",
    "        return np.zeros(300)\n",
    "    return np.mean(word_vectors, axis=0)"
   ]
  },
  {
   "cell_type": "code",
   "outputs": [],
   "source": [],
   "metadata": {
    "collapsed": false,
    "ExecuteTime": {
     "end_time": "2024-06-26T13:21:26.973228Z",
     "start_time": "2024-06-26T13:21:26.970737Z"
    }
   },
   "id": "b8b8f7feed08e5ce",
   "execution_count": 85
  },
  {
   "cell_type": "code",
   "execution_count": 86,
   "id": "c3d1584635aab387",
   "metadata": {
    "collapsed": false,
    "ExecuteTime": {
     "end_time": "2024-06-26T13:39:13.470702Z",
     "start_time": "2024-06-26T13:21:30.072775Z"
    }
   },
   "outputs": [
    {
     "name": "stderr",
     "output_type": "stream",
     "text": [
      "Loading data: 100%|███████████████████████████████████████████████████████████████████████████████████████████████████████████████████████████████████████████████████████████████████████████| 16898/16898 [17:43<00:00, 15.89it/s]\n"
     ]
    }
   ],
   "source": [
    "tqdm.pandas(desc='Loading data')\n",
    "ds['vector'] = ds['full_text'].progress_apply(text_to_vector)\n",
    "\n",
    "X = np.vstack(ds['vector'])\n",
    "y = ds['label'].values"
   ]
  },
  {
   "cell_type": "markdown",
   "id": "7b718cecf9585fb1",
   "metadata": {
    "collapsed": false
   },
   "source": [
    "## building and training the model"
   ]
  },
  {
   "cell_type": "markdown",
   "id": "5c8ac62597164bde",
   "metadata": {
    "collapsed": false
   },
   "source": [
    "### callbacks"
   ]
  },
  {
   "cell_type": "code",
   "execution_count": 99,
   "id": "336209aae383296f",
   "metadata": {
    "collapsed": false,
    "ExecuteTime": {
     "end_time": "2024-06-26T14:18:57.581821Z",
     "start_time": "2024-06-26T14:18:57.577777Z"
    }
   },
   "outputs": [],
   "source": [
    "early_stopping = keras.callbacks.EarlyStopping(\n",
    "    patience=10,\n",
    "    min_delta=0.001,\n",
    "    restore_best_weights=True,\n",
    "    monitor='loss'\n",
    ")\n"
   ]
  },
  {
   "cell_type": "code",
   "execution_count": 100,
   "id": "9f93ecb4efe31443",
   "metadata": {
    "collapsed": false,
    "ExecuteTime": {
     "end_time": "2024-06-26T14:18:57.823696Z",
     "start_time": "2024-06-26T14:18:57.818140Z"
    }
   },
   "outputs": [],
   "source": [
    "\n",
    "class EarlyStoppingLogging(tf.keras.callbacks.Callback):\n",
    "    def __init__(self, early_stopping_callback, log_dir):\n",
    "        super().__init__()\n",
    "        self.early_stopping = early_stopping_callback\n",
    "        self.stopped_epoch = 0\n",
    "        self.writer = tf.summary.create_file_writer(log_dir)\n",
    "\n",
    "    def on_epoch_end(self, epoch, logs=None):\n",
    "        if self.early_stopping.stopped_epoch > 0:\n",
    "            self.stopped_epoch = self.early_stopping.stopped_epoch\n",
    "            with self.writer.as_default():\n",
    "                tf.summary.scalar('early_stopping_epoch', self.stopped_epoch, step=epoch)\n",
    "                self.writer.flush()\n"
   ]
  },
  {
   "cell_type": "code",
   "execution_count": 101,
   "id": "7ec43b4117399510",
   "metadata": {
    "collapsed": false,
    "ExecuteTime": {
     "end_time": "2024-06-26T14:18:58.189611Z",
     "start_time": "2024-06-26T14:18:58.183821Z"
    }
   },
   "outputs": [],
   "source": [
    "tensorboard_callback = keras.callbacks.TensorBoard(log_dir=log_dir, histogram_freq=1)\n",
    "early_stopping_logging_callback = EarlyStoppingLogging(early_stopping, log_dir)"
   ]
  },
  {
   "cell_type": "code",
   "execution_count": 102,
   "id": "3f3d46724d8e5aa1",
   "metadata": {
    "collapsed": false,
    "ExecuteTime": {
     "end_time": "2024-06-26T14:18:58.511475Z",
     "start_time": "2024-06-26T14:18:58.504554Z"
    }
   },
   "outputs": [],
   "source": [
    "callback = [\n",
    "    early_stopping,\n",
    "    tensorboard_callback,\n",
    "    hp.KerasCallback(log_dir, params_grid),\n",
    "    early_stopping_logging_callback,\n",
    "]"
   ]
  },
  {
   "cell_type": "markdown",
   "id": "9dec354f696f24a9",
   "metadata": {
    "collapsed": false
   },
   "source": [
    "### training the model"
   ]
  },
  {
   "cell_type": "code",
   "outputs": [
    {
     "name": "stdout",
     "output_type": "stream",
     "text": [
      "Epoch 1/500\n",
      "\u001B[1m46/46\u001B[0m \u001B[32m━━━━━━━━━━━━━━━━━━━━\u001B[0m\u001B[37m\u001B[0m \u001B[1m3s\u001B[0m 19ms/step - accuracy: 0.6386 - loss: 0.6449 - val_accuracy: 0.7406 - val_loss: 0.5139\n",
      "Epoch 2/500\n",
      "\u001B[1m46/46\u001B[0m \u001B[32m━━━━━━━━━━━━━━━━━━━━\u001B[0m\u001B[37m\u001B[0m \u001B[1m0s\u001B[0m 7ms/step - accuracy: 0.7560 - loss: 0.5106 - val_accuracy: 0.7591 - val_loss: 0.4863\n",
      "Epoch 3/500\n",
      "\u001B[1m46/46\u001B[0m \u001B[32m━━━━━━━━━━━━━━━━━━━━\u001B[0m\u001B[37m\u001B[0m \u001B[1m0s\u001B[0m 6ms/step - accuracy: 0.7764 - loss: 0.4750 - val_accuracy: 0.7909 - val_loss: 0.4591\n",
      "Epoch 4/500\n",
      "\u001B[1m46/46\u001B[0m \u001B[32m━━━━━━━━━━━━━━━━━━━━\u001B[0m\u001B[37m\u001B[0m \u001B[1m0s\u001B[0m 6ms/step - accuracy: 0.7867 - loss: 0.4601 - val_accuracy: 0.7915 - val_loss: 0.4499\n",
      "Epoch 5/500\n",
      "\u001B[1m46/46\u001B[0m \u001B[32m━━━━━━━━━━━━━━━━━━━━\u001B[0m\u001B[37m\u001B[0m \u001B[1m0s\u001B[0m 6ms/step - accuracy: 0.7937 - loss: 0.4453 - val_accuracy: 0.7956 - val_loss: 0.4395\n",
      "Epoch 6/500\n",
      "\u001B[1m46/46\u001B[0m \u001B[32m━━━━━━━━━━━━━━━━━━━━\u001B[0m\u001B[37m\u001B[0m \u001B[1m0s\u001B[0m 6ms/step - accuracy: 0.8010 - loss: 0.4344 - val_accuracy: 0.7885 - val_loss: 0.4371\n",
      "Epoch 7/500\n",
      "\u001B[1m46/46\u001B[0m \u001B[32m━━━━━━━━━━━━━━━━━━━━\u001B[0m\u001B[37m\u001B[0m \u001B[1m0s\u001B[0m 6ms/step - accuracy: 0.8019 - loss: 0.4260 - val_accuracy: 0.7965 - val_loss: 0.4310\n",
      "Epoch 8/500\n",
      "\u001B[1m46/46\u001B[0m \u001B[32m━━━━━━━━━━━━━━━━━━━━\u001B[0m\u001B[37m\u001B[0m \u001B[1m0s\u001B[0m 5ms/step - accuracy: 0.8125 - loss: 0.4104 - val_accuracy: 0.8072 - val_loss: 0.4172\n",
      "Epoch 9/500\n",
      "\u001B[1m46/46\u001B[0m \u001B[32m━━━━━━━━━━━━━━━━━━━━\u001B[0m\u001B[37m\u001B[0m \u001B[1m0s\u001B[0m 6ms/step - accuracy: 0.8241 - loss: 0.3902 - val_accuracy: 0.8113 - val_loss: 0.4137\n",
      "Epoch 10/500\n",
      "\u001B[1m46/46\u001B[0m \u001B[32m━━━━━━━━━━━━━━━━━━━━\u001B[0m\u001B[37m\u001B[0m \u001B[1m0s\u001B[0m 7ms/step - accuracy: 0.8296 - loss: 0.3838 - val_accuracy: 0.8148 - val_loss: 0.4049\n",
      "Epoch 11/500\n",
      "\u001B[1m46/46\u001B[0m \u001B[32m━━━━━━━━━━━━━━━━━━━━\u001B[0m\u001B[37m\u001B[0m \u001B[1m0s\u001B[0m 6ms/step - accuracy: 0.8430 - loss: 0.3662 - val_accuracy: 0.8069 - val_loss: 0.4096\n",
      "Epoch 12/500\n",
      "\u001B[1m46/46\u001B[0m \u001B[32m━━━━━━━━━━━━━━━━━━━━\u001B[0m\u001B[37m\u001B[0m \u001B[1m0s\u001B[0m 6ms/step - accuracy: 0.8490 - loss: 0.3523 - val_accuracy: 0.8287 - val_loss: 0.3932\n",
      "Epoch 13/500\n",
      "\u001B[1m46/46\u001B[0m \u001B[32m━━━━━━━━━━━━━━━━━━━━\u001B[0m\u001B[37m\u001B[0m \u001B[1m0s\u001B[0m 6ms/step - accuracy: 0.8607 - loss: 0.3340 - val_accuracy: 0.8300 - val_loss: 0.3908\n",
      "Epoch 14/500\n",
      "\u001B[1m46/46\u001B[0m \u001B[32m━━━━━━━━━━━━━━━━━━━━\u001B[0m\u001B[37m\u001B[0m \u001B[1m0s\u001B[0m 5ms/step - accuracy: 0.8686 - loss: 0.3185 - val_accuracy: 0.8215 - val_loss: 0.4006\n",
      "Epoch 15/500\n",
      "\u001B[1m46/46\u001B[0m \u001B[32m━━━━━━━━━━━━━━━━━━━━\u001B[0m\u001B[37m\u001B[0m \u001B[1m0s\u001B[0m 6ms/step - accuracy: 0.8596 - loss: 0.3173 - val_accuracy: 0.8406 - val_loss: 0.3759\n",
      "Epoch 16/500\n",
      "\u001B[1m46/46\u001B[0m \u001B[32m━━━━━━━━━━━━━━━━━━━━\u001B[0m\u001B[37m\u001B[0m \u001B[1m0s\u001B[0m 5ms/step - accuracy: 0.8789 - loss: 0.2965 - val_accuracy: 0.8414 - val_loss: 0.3732\n",
      "Epoch 17/500\n",
      "\u001B[1m46/46\u001B[0m \u001B[32m━━━━━━━━━━━━━━━━━━━━\u001B[0m\u001B[37m\u001B[0m \u001B[1m0s\u001B[0m 7ms/step - accuracy: 0.8868 - loss: 0.2873 - val_accuracy: 0.8002 - val_loss: 0.4485\n",
      "Epoch 18/500\n",
      "\u001B[1m46/46\u001B[0m \u001B[32m━━━━━━━━━━━━━━━━━━━━\u001B[0m\u001B[37m\u001B[0m \u001B[1m0s\u001B[0m 6ms/step - accuracy: 0.8622 - loss: 0.3153 - val_accuracy: 0.8439 - val_loss: 0.3717\n",
      "Epoch 19/500\n",
      "\u001B[1m46/46\u001B[0m \u001B[32m━━━━━━━━━━━━━━━━━━━━\u001B[0m\u001B[37m\u001B[0m \u001B[1m0s\u001B[0m 6ms/step - accuracy: 0.9003 - loss: 0.2604 - val_accuracy: 0.8474 - val_loss: 0.3710\n",
      "Epoch 20/500\n",
      "\u001B[1m46/46\u001B[0m \u001B[32m━━━━━━━━━━━━━━━━━━━━\u001B[0m\u001B[37m\u001B[0m \u001B[1m0s\u001B[0m 7ms/step - accuracy: 0.8978 - loss: 0.2563 - val_accuracy: 0.8561 - val_loss: 0.3663\n",
      "Epoch 21/500\n",
      "\u001B[1m46/46\u001B[0m \u001B[32m━━━━━━━━━━━━━━━━━━━━\u001B[0m\u001B[37m\u001B[0m \u001B[1m0s\u001B[0m 6ms/step - accuracy: 0.9100 - loss: 0.2420 - val_accuracy: 0.8250 - val_loss: 0.4147\n",
      "Epoch 22/500\n",
      "\u001B[1m46/46\u001B[0m \u001B[32m━━━━━━━━━━━━━━━━━━━━\u001B[0m\u001B[37m\u001B[0m \u001B[1m0s\u001B[0m 6ms/step - accuracy: 0.8970 - loss: 0.2497 - val_accuracy: 0.8408 - val_loss: 0.3972\n",
      "Epoch 23/500\n",
      "\u001B[1m46/46\u001B[0m \u001B[32m━━━━━━━━━━━━━━━━━━━━\u001B[0m\u001B[37m\u001B[0m \u001B[1m0s\u001B[0m 5ms/step - accuracy: 0.9119 - loss: 0.2258 - val_accuracy: 0.8606 - val_loss: 0.3654\n",
      "Epoch 24/500\n",
      "\u001B[1m46/46\u001B[0m \u001B[32m━━━━━━━━━━━━━━━━━━━━\u001B[0m\u001B[37m\u001B[0m \u001B[1m0s\u001B[0m 6ms/step - accuracy: 0.9194 - loss: 0.2106 - val_accuracy: 0.8661 - val_loss: 0.3632\n",
      "Epoch 25/500\n",
      "\u001B[1m46/46\u001B[0m \u001B[32m━━━━━━━━━━━━━━━━━━━━\u001B[0m\u001B[37m\u001B[0m \u001B[1m0s\u001B[0m 6ms/step - accuracy: 0.9144 - loss: 0.2079 - val_accuracy: 0.8440 - val_loss: 0.3898\n",
      "Epoch 26/500\n",
      "\u001B[1m46/46\u001B[0m \u001B[32m━━━━━━━━━━━━━━━━━━━━\u001B[0m\u001B[37m\u001B[0m \u001B[1m0s\u001B[0m 6ms/step - accuracy: 0.9218 - loss: 0.1984 - val_accuracy: 0.8549 - val_loss: 0.3784\n",
      "Epoch 27/500\n",
      "\u001B[1m46/46\u001B[0m \u001B[32m━━━━━━━━━━━━━━━━━━━━\u001B[0m\u001B[37m\u001B[0m \u001B[1m0s\u001B[0m 5ms/step - accuracy: 0.9226 - loss: 0.1964 - val_accuracy: 0.8608 - val_loss: 0.3833\n",
      "Epoch 28/500\n",
      "\u001B[1m46/46\u001B[0m \u001B[32m━━━━━━━━━━━━━━━━━━━━\u001B[0m\u001B[37m\u001B[0m \u001B[1m0s\u001B[0m 5ms/step - accuracy: 0.9375 - loss: 0.1717 - val_accuracy: 0.8704 - val_loss: 0.3684\n",
      "Epoch 29/500\n",
      "\u001B[1m46/46\u001B[0m \u001B[32m━━━━━━━━━━━━━━━━━━━━\u001B[0m\u001B[37m\u001B[0m \u001B[1m0s\u001B[0m 5ms/step - accuracy: 0.9294 - loss: 0.1852 - val_accuracy: 0.8627 - val_loss: 0.3847\n",
      "Epoch 30/500\n",
      "\u001B[1m46/46\u001B[0m \u001B[32m━━━━━━━━━━━━━━━━━━━━\u001B[0m\u001B[37m\u001B[0m \u001B[1m0s\u001B[0m 5ms/step - accuracy: 0.9328 - loss: 0.1726 - val_accuracy: 0.8700 - val_loss: 0.3641\n",
      "Epoch 31/500\n",
      "\u001B[1m46/46\u001B[0m \u001B[32m━━━━━━━━━━━━━━━━━━━━\u001B[0m\u001B[37m\u001B[0m \u001B[1m0s\u001B[0m 6ms/step - accuracy: 0.9373 - loss: 0.1626 - val_accuracy: 0.8695 - val_loss: 0.3783\n",
      "Epoch 32/500\n",
      "\u001B[1m46/46\u001B[0m \u001B[32m━━━━━━━━━━━━━━━━━━━━\u001B[0m\u001B[37m\u001B[0m \u001B[1m0s\u001B[0m 6ms/step - accuracy: 0.9293 - loss: 0.1761 - val_accuracy: 0.8776 - val_loss: 0.3600\n",
      "Epoch 33/500\n",
      "\u001B[1m46/46\u001B[0m \u001B[32m━━━━━━━━━━━━━━━━━━━━\u001B[0m\u001B[37m\u001B[0m \u001B[1m0s\u001B[0m 6ms/step - accuracy: 0.9418 - loss: 0.1466 - val_accuracy: 0.8592 - val_loss: 0.4129\n",
      "Epoch 34/500\n",
      "\u001B[1m46/46\u001B[0m \u001B[32m━━━━━━━━━━━━━━━━━━━━\u001B[0m\u001B[37m\u001B[0m \u001B[1m0s\u001B[0m 5ms/step - accuracy: 0.9361 - loss: 0.1599 - val_accuracy: 0.8773 - val_loss: 0.3648\n",
      "Epoch 35/500\n",
      "\u001B[1m46/46\u001B[0m \u001B[32m━━━━━━━━━━━━━━━━━━━━\u001B[0m\u001B[37m\u001B[0m \u001B[1m0s\u001B[0m 6ms/step - accuracy: 0.9397 - loss: 0.1483 - val_accuracy: 0.8743 - val_loss: 0.3781\n",
      "Epoch 36/500\n",
      "\u001B[1m46/46\u001B[0m \u001B[32m━━━━━━━━━━━━━━━━━━━━\u001B[0m\u001B[37m\u001B[0m \u001B[1m0s\u001B[0m 5ms/step - accuracy: 0.9387 - loss: 0.1540 - val_accuracy: 0.8716 - val_loss: 0.3976\n",
      "Epoch 37/500\n",
      "\u001B[1m46/46\u001B[0m \u001B[32m━━━━━━━━━━━━━━━━━━━━\u001B[0m\u001B[37m\u001B[0m \u001B[1m0s\u001B[0m 6ms/step - accuracy: 0.9479 - loss: 0.1375 - val_accuracy: 0.8805 - val_loss: 0.3704\n",
      "Epoch 38/500\n",
      "\u001B[1m46/46\u001B[0m \u001B[32m━━━━━━━━━━━━━━━━━━━━\u001B[0m\u001B[37m\u001B[0m \u001B[1m0s\u001B[0m 6ms/step - accuracy: 0.9459 - loss: 0.1328 - val_accuracy: 0.8654 - val_loss: 0.4075\n",
      "Epoch 39/500\n",
      "\u001B[1m46/46\u001B[0m \u001B[32m━━━━━━━━━━━━━━━━━━━━\u001B[0m\u001B[37m\u001B[0m \u001B[1m0s\u001B[0m 5ms/step - accuracy: 0.9439 - loss: 0.1410 - val_accuracy: 0.8535 - val_loss: 0.4837\n",
      "Epoch 40/500\n",
      "\u001B[1m46/46\u001B[0m \u001B[32m━━━━━━━━━━━━━━━━━━━━\u001B[0m\u001B[37m\u001B[0m \u001B[1m0s\u001B[0m 6ms/step - accuracy: 0.9283 - loss: 0.1753 - val_accuracy: 0.8799 - val_loss: 0.3912\n",
      "Epoch 41/500\n",
      "\u001B[1m46/46\u001B[0m \u001B[32m━━━━━━━━━━━━━━━━━━━━\u001B[0m\u001B[37m\u001B[0m \u001B[1m0s\u001B[0m 6ms/step - accuracy: 0.9405 - loss: 0.1458 - val_accuracy: 0.8776 - val_loss: 0.3957\n",
      "Epoch 42/500\n",
      "\u001B[1m46/46\u001B[0m \u001B[32m━━━━━━━━━━━━━━━━━━━━\u001B[0m\u001B[37m\u001B[0m \u001B[1m0s\u001B[0m 6ms/step - accuracy: 0.9495 - loss: 0.1273 - val_accuracy: 0.8670 - val_loss: 0.4332\n",
      "Epoch 43/500\n",
      "\u001B[1m46/46\u001B[0m \u001B[32m━━━━━━━━━━━━━━━━━━━━\u001B[0m\u001B[37m\u001B[0m \u001B[1m0s\u001B[0m 5ms/step - accuracy: 0.9505 - loss: 0.1255 - val_accuracy: 0.8698 - val_loss: 0.4304\n",
      "Epoch 44/500\n",
      "\u001B[1m46/46\u001B[0m \u001B[32m━━━━━━━━━━━━━━━━━━━━\u001B[0m\u001B[37m\u001B[0m \u001B[1m0s\u001B[0m 6ms/step - accuracy: 0.9500 - loss: 0.1177 - val_accuracy: 0.8837 - val_loss: 0.3790\n",
      "Epoch 45/500\n",
      "\u001B[1m46/46\u001B[0m \u001B[32m━━━━━━━━━━━━━━━━━━━━\u001B[0m\u001B[37m\u001B[0m \u001B[1m0s\u001B[0m 6ms/step - accuracy: 0.9496 - loss: 0.1335 - val_accuracy: 0.8758 - val_loss: 0.3838\n",
      "Epoch 46/500\n",
      "\u001B[1m46/46\u001B[0m \u001B[32m━━━━━━━━━━━━━━━━━━━━\u001B[0m\u001B[37m\u001B[0m \u001B[1m0s\u001B[0m 6ms/step - accuracy: 0.9530 - loss: 0.1151 - val_accuracy: 0.8858 - val_loss: 0.3931\n",
      "Epoch 47/500\n",
      "\u001B[1m46/46\u001B[0m \u001B[32m━━━━━━━━━━━━━━━━━━━━\u001B[0m\u001B[37m\u001B[0m \u001B[1m0s\u001B[0m 6ms/step - accuracy: 0.9503 - loss: 0.1198 - val_accuracy: 0.8844 - val_loss: 0.4006\n",
      "Epoch 48/500\n",
      "\u001B[1m46/46\u001B[0m \u001B[32m━━━━━━━━━━━━━━━━━━━━\u001B[0m\u001B[37m\u001B[0m \u001B[1m0s\u001B[0m 7ms/step - accuracy: 0.9555 - loss: 0.1150 - val_accuracy: 0.8840 - val_loss: 0.3923\n",
      "Epoch 49/500\n",
      "\u001B[1m46/46\u001B[0m \u001B[32m━━━━━━━━━━━━━━━━━━━━\u001B[0m\u001B[37m\u001B[0m \u001B[1m0s\u001B[0m 6ms/step - accuracy: 0.9487 - loss: 0.1170 - val_accuracy: 0.8875 - val_loss: 0.3968\n",
      "Epoch 50/500\n",
      "\u001B[1m46/46\u001B[0m \u001B[32m━━━━━━━━━━━━━━━━━━━━\u001B[0m\u001B[37m\u001B[0m \u001B[1m0s\u001B[0m 6ms/step - accuracy: 0.9551 - loss: 0.1112 - val_accuracy: 0.8861 - val_loss: 0.4038\n",
      "Epoch 51/500\n",
      "\u001B[1m46/46\u001B[0m \u001B[32m━━━━━━━━━━━━━━━━━━━━\u001B[0m\u001B[37m\u001B[0m \u001B[1m0s\u001B[0m 6ms/step - accuracy: 0.9562 - loss: 0.1047 - val_accuracy: 0.8737 - val_loss: 0.4431\n",
      "Epoch 52/500\n",
      "\u001B[1m46/46\u001B[0m \u001B[32m━━━━━━━━━━━━━━━━━━━━\u001B[0m\u001B[37m\u001B[0m \u001B[1m0s\u001B[0m 6ms/step - accuracy: 0.9494 - loss: 0.1273 - val_accuracy: 0.8807 - val_loss: 0.3905\n",
      "Epoch 53/500\n",
      "\u001B[1m46/46\u001B[0m \u001B[32m━━━━━━━━━━━━━━━━━━━━\u001B[0m\u001B[37m\u001B[0m \u001B[1m0s\u001B[0m 7ms/step - accuracy: 0.9516 - loss: 0.1148 - val_accuracy: 0.8846 - val_loss: 0.3998\n",
      "Epoch 54/500\n",
      "\u001B[1m46/46\u001B[0m \u001B[32m━━━━━━━━━━━━━━━━━━━━\u001B[0m\u001B[37m\u001B[0m \u001B[1m0s\u001B[0m 7ms/step - accuracy: 0.9578 - loss: 0.1038 - val_accuracy: 0.8867 - val_loss: 0.4067\n",
      "Epoch 55/500\n",
      "\u001B[1m46/46\u001B[0m \u001B[32m━━━━━━━━━━━━━━━━━━━━\u001B[0m\u001B[37m\u001B[0m \u001B[1m0s\u001B[0m 8ms/step - accuracy: 0.9597 - loss: 0.0997 - val_accuracy: 0.8314 - val_loss: 0.5794\n",
      "Epoch 56/500\n",
      "\u001B[1m46/46\u001B[0m \u001B[32m━━━━━━━━━━━━━━━━━━━━\u001B[0m\u001B[37m\u001B[0m \u001B[1m0s\u001B[0m 6ms/step - accuracy: 0.9378 - loss: 0.1520 - val_accuracy: 0.8897 - val_loss: 0.3829\n",
      "Epoch 57/500\n",
      "\u001B[1m46/46\u001B[0m \u001B[32m━━━━━━━━━━━━━━━━━━━━\u001B[0m\u001B[37m\u001B[0m \u001B[1m0s\u001B[0m 6ms/step - accuracy: 0.9565 - loss: 0.0999 - val_accuracy: 0.8751 - val_loss: 0.4251\n",
      "Epoch 58/500\n",
      "\u001B[1m46/46\u001B[0m \u001B[32m━━━━━━━━━━━━━━━━━━━━\u001B[0m\u001B[37m\u001B[0m \u001B[1m0s\u001B[0m 6ms/step - accuracy: 0.9501 - loss: 0.1280 - val_accuracy: 0.8831 - val_loss: 0.4057\n",
      "Epoch 59/500\n",
      "\u001B[1m46/46\u001B[0m \u001B[32m━━━━━━━━━━━━━━━━━━━━\u001B[0m\u001B[37m\u001B[0m \u001B[1m0s\u001B[0m 5ms/step - accuracy: 0.9459 - loss: 0.1366 - val_accuracy: 0.8794 - val_loss: 0.3783\n",
      "Epoch 60/500\n",
      "\u001B[1m46/46\u001B[0m \u001B[32m━━━━━━━━━━━━━━━━━━━━\u001B[0m\u001B[37m\u001B[0m \u001B[1m0s\u001B[0m 5ms/step - accuracy: 0.9573 - loss: 0.0998 - val_accuracy: 0.8880 - val_loss: 0.4169\n",
      "Epoch 61/500\n",
      "\u001B[1m46/46\u001B[0m \u001B[32m━━━━━━━━━━━━━━━━━━━━\u001B[0m\u001B[37m\u001B[0m \u001B[1m0s\u001B[0m 5ms/step - accuracy: 0.9549 - loss: 0.1100 - val_accuracy: 0.8867 - val_loss: 0.4004\n",
      "Epoch 62/500\n",
      "\u001B[1m46/46\u001B[0m \u001B[32m━━━━━━━━━━━━━━━━━━━━\u001B[0m\u001B[37m\u001B[0m \u001B[1m0s\u001B[0m 5ms/step - accuracy: 0.9502 - loss: 0.1206 - val_accuracy: 0.8863 - val_loss: 0.3999\n",
      "Epoch 63/500\n",
      "\u001B[1m46/46\u001B[0m \u001B[32m━━━━━━━━━━━━━━━━━━━━\u001B[0m\u001B[37m\u001B[0m \u001B[1m0s\u001B[0m 6ms/step - accuracy: 0.9620 - loss: 0.0920 - val_accuracy: 0.8887 - val_loss: 0.4059\n",
      "Epoch 64/500\n",
      "\u001B[1m46/46\u001B[0m \u001B[32m━━━━━━━━━━━━━━━━━━━━\u001B[0m\u001B[37m\u001B[0m \u001B[1m0s\u001B[0m 5ms/step - accuracy: 0.9582 - loss: 0.0920 - val_accuracy: 0.8860 - val_loss: 0.4403\n",
      "Epoch 65/500\n",
      "\u001B[1m46/46\u001B[0m \u001B[32m━━━━━━━━━━━━━━━━━━━━\u001B[0m\u001B[37m\u001B[0m \u001B[1m0s\u001B[0m 6ms/step - accuracy: 0.9507 - loss: 0.1196 - val_accuracy: 0.8837 - val_loss: 0.4108\n",
      "Epoch 66/500\n",
      "\u001B[1m46/46\u001B[0m \u001B[32m━━━━━━━━━━━━━━━━━━━━\u001B[0m\u001B[37m\u001B[0m \u001B[1m0s\u001B[0m 5ms/step - accuracy: 0.9565 - loss: 0.1062 - val_accuracy: 0.8861 - val_loss: 0.4013\n",
      "Epoch 67/500\n",
      "\u001B[1m46/46\u001B[0m \u001B[32m━━━━━━━━━━━━━━━━━━━━\u001B[0m\u001B[37m\u001B[0m \u001B[1m0s\u001B[0m 6ms/step - accuracy: 0.9575 - loss: 0.0933 - val_accuracy: 0.8884 - val_loss: 0.4161\n",
      "Epoch 68/500\n",
      "\u001B[1m46/46\u001B[0m \u001B[32m━━━━━━━━━━━━━━━━━━━━\u001B[0m\u001B[37m\u001B[0m \u001B[1m0s\u001B[0m 6ms/step - accuracy: 0.9638 - loss: 0.0901 - val_accuracy: 0.8846 - val_loss: 0.4218\n",
      "Epoch 69/500\n",
      "\u001B[1m46/46\u001B[0m \u001B[32m━━━━━━━━━━━━━━━━━━━━\u001B[0m\u001B[37m\u001B[0m \u001B[1m0s\u001B[0m 5ms/step - accuracy: 0.9565 - loss: 0.1023 - val_accuracy: 0.8899 - val_loss: 0.4002\n",
      "Epoch 70/500\n",
      "\u001B[1m46/46\u001B[0m \u001B[32m━━━━━━━━━━━━━━━━━━━━\u001B[0m\u001B[37m\u001B[0m \u001B[1m0s\u001B[0m 5ms/step - accuracy: 0.9599 - loss: 0.0910 - val_accuracy: 0.8889 - val_loss: 0.4139\n",
      "Epoch 71/500\n",
      "\u001B[1m46/46\u001B[0m \u001B[32m━━━━━━━━━━━━━━━━━━━━\u001B[0m\u001B[37m\u001B[0m \u001B[1m0s\u001B[0m 5ms/step - accuracy: 0.9611 - loss: 0.0869 - val_accuracy: 0.8921 - val_loss: 0.4216\n",
      "Epoch 72/500\n",
      "\u001B[1m46/46\u001B[0m \u001B[32m━━━━━━━━━━━━━━━━━━━━\u001B[0m\u001B[37m\u001B[0m \u001B[1m0s\u001B[0m 6ms/step - accuracy: 0.9594 - loss: 0.0993 - val_accuracy: 0.8890 - val_loss: 0.4117\n",
      "Epoch 73/500\n",
      "\u001B[1m46/46\u001B[0m \u001B[32m━━━━━━━━━━━━━━━━━━━━\u001B[0m\u001B[37m\u001B[0m \u001B[1m0s\u001B[0m 6ms/step - accuracy: 0.9564 - loss: 0.0997 - val_accuracy: 0.8834 - val_loss: 0.4415\n",
      "Epoch 74/500\n",
      "\u001B[1m46/46\u001B[0m \u001B[32m━━━━━━━━━━━━━━━━━━━━\u001B[0m\u001B[37m\u001B[0m \u001B[1m0s\u001B[0m 5ms/step - accuracy: 0.9575 - loss: 0.0952 - val_accuracy: 0.8896 - val_loss: 0.4095\n",
      "Epoch 75/500\n",
      "\u001B[1m46/46\u001B[0m \u001B[32m━━━━━━━━━━━━━━━━━━━━\u001B[0m\u001B[37m\u001B[0m \u001B[1m0s\u001B[0m 5ms/step - accuracy: 0.9570 - loss: 0.0992 - val_accuracy: 0.8836 - val_loss: 0.4279\n",
      "Epoch 76/500\n",
      "\u001B[1m46/46\u001B[0m \u001B[32m━━━━━━━━━━━━━━━━━━━━\u001B[0m\u001B[37m\u001B[0m \u001B[1m0s\u001B[0m 5ms/step - accuracy: 0.9596 - loss: 0.0873 - val_accuracy: 0.8903 - val_loss: 0.4089\n",
      "Epoch 77/500\n",
      "\u001B[1m46/46\u001B[0m \u001B[32m━━━━━━━━━━━━━━━━━━━━\u001B[0m\u001B[37m\u001B[0m \u001B[1m0s\u001B[0m 5ms/step - accuracy: 0.9614 - loss: 0.0830 - val_accuracy: 0.8933 - val_loss: 0.4369\n",
      "Epoch 78/500\n",
      "\u001B[1m46/46\u001B[0m \u001B[32m━━━━━━━━━━━━━━━━━━━━\u001B[0m\u001B[37m\u001B[0m \u001B[1m0s\u001B[0m 6ms/step - accuracy: 0.9605 - loss: 0.0916 - val_accuracy: 0.8855 - val_loss: 0.4290\n",
      "Epoch 79/500\n",
      "\u001B[1m46/46\u001B[0m \u001B[32m━━━━━━━━━━━━━━━━━━━━\u001B[0m\u001B[37m\u001B[0m \u001B[1m0s\u001B[0m 6ms/step - accuracy: 0.9571 - loss: 0.0964 - val_accuracy: 0.8827 - val_loss: 0.4205\n",
      "Epoch 80/500\n",
      "\u001B[1m46/46\u001B[0m \u001B[32m━━━━━━━━━━━━━━━━━━━━\u001B[0m\u001B[37m\u001B[0m \u001B[1m0s\u001B[0m 5ms/step - accuracy: 0.9570 - loss: 0.0970 - val_accuracy: 0.8905 - val_loss: 0.4154\n",
      "Epoch 81/500\n",
      "\u001B[1m46/46\u001B[0m \u001B[32m━━━━━━━━━━━━━━━━━━━━\u001B[0m\u001B[37m\u001B[0m \u001B[1m0s\u001B[0m 5ms/step - accuracy: 0.9610 - loss: 0.0898 - val_accuracy: 0.8815 - val_loss: 0.4422\n",
      "Epoch 82/500\n",
      "\u001B[1m46/46\u001B[0m \u001B[32m━━━━━━━━━━━━━━━━━━━━\u001B[0m\u001B[37m\u001B[0m \u001B[1m0s\u001B[0m 5ms/step - accuracy: 0.9576 - loss: 0.1059 - val_accuracy: 0.8747 - val_loss: 0.5042\n",
      "Epoch 83/500\n",
      "\u001B[1m46/46\u001B[0m \u001B[32m━━━━━━━━━━━━━━━━━━━━\u001B[0m\u001B[37m\u001B[0m \u001B[1m0s\u001B[0m 5ms/step - accuracy: 0.9446 - loss: 0.1346 - val_accuracy: 0.8868 - val_loss: 0.4164\n",
      "Epoch 84/500\n",
      "\u001B[1m46/46\u001B[0m \u001B[32m━━━━━━━━━━━━━━━━━━━━\u001B[0m\u001B[37m\u001B[0m \u001B[1m0s\u001B[0m 5ms/step - accuracy: 0.9586 - loss: 0.0928 - val_accuracy: 0.8910 - val_loss: 0.4385\n",
      "Epoch 85/500\n",
      "\u001B[1m46/46\u001B[0m \u001B[32m━━━━━━━━━━━━━━━━━━━━\u001B[0m\u001B[37m\u001B[0m \u001B[1m0s\u001B[0m 6ms/step - accuracy: 0.9615 - loss: 0.0858 - val_accuracy: 0.8881 - val_loss: 0.4208\n",
      "Epoch 86/500\n",
      "\u001B[1m46/46\u001B[0m \u001B[32m━━━━━━━━━━━━━━━━━━━━\u001B[0m\u001B[37m\u001B[0m \u001B[1m0s\u001B[0m 6ms/step - accuracy: 0.9592 - loss: 0.0830 - val_accuracy: 0.8933 - val_loss: 0.4101\n",
      "Epoch 87/500\n",
      "\u001B[1m46/46\u001B[0m \u001B[32m━━━━━━━━━━━━━━━━━━━━\u001B[0m\u001B[37m\u001B[0m \u001B[1m0s\u001B[0m 6ms/step - accuracy: 0.9615 - loss: 0.0870 - val_accuracy: 0.8924 - val_loss: 0.4274\n"
     ]
    },
    {
     "data": {
      "text/plain": "<keras_core.src.callbacks.history.History at 0x7f4b007e1c30>"
     },
     "execution_count": 103,
     "metadata": {},
     "output_type": "execute_result"
    }
   ],
   "source": [
    "X_train, X_test, y_train, y_test = train_test_split(X, y, test_size=0.2, random_state=42)\n",
    "\n",
    "model = Sequential()\n",
    "model.add(Dense(128, input_dim=300, activation='relu'))\n",
    "model.add(Dense(64, activation='relu'))\n",
    "model.add(Dense(34, activation='relu'))\n",
    "model.add(Dense(1, activation='sigmoid'))\n",
    "\n",
    "model.compile(loss='binary_crossentropy', optimizer='adam', metrics=['accuracy'])\n",
    "\n",
    "model.fit(X_train,\n",
    "          y_train,\n",
    "          epochs=500,\n",
    "          batch_size = params_grid['batch_size'],\n",
    "          callbacks=callback,\n",
    "          validation_data=(X_test, y_test)\n",
    "          )"
   ],
   "metadata": {
    "collapsed": false,
    "ExecuteTime": {
     "end_time": "2024-06-26T14:19:34.608351Z",
     "start_time": "2024-06-26T14:19:04.107371Z"
    }
   },
   "id": "c4cf876c5cbae2f2",
   "execution_count": 103
  },
  {
   "cell_type": "markdown",
   "id": "e01ea87c7efc4af6",
   "metadata": {
    "collapsed": false
   },
   "source": [
    "# save model"
   ]
  },
  {
   "cell_type": "code",
   "execution_count": 104,
   "id": "e0b9fbafea831f00",
   "metadata": {
    "collapsed": false,
    "ExecuteTime": {
     "end_time": "2024-06-26T14:19:55.142678Z",
     "start_time": "2024-06-26T14:19:55.098006Z"
    }
   },
   "outputs": [],
   "source": [
    "model.save(model_weight_dst)"
   ]
  },
  {
   "cell_type": "markdown",
   "id": "858f1dcf54daf1ee",
   "metadata": {
    "collapsed": false
   },
   "source": [
    "### testing with custom sentence"
   ]
  },
  {
   "cell_type": "code",
   "execution_count": 105,
   "id": "9082729f7fb73c8",
   "metadata": {
    "collapsed": false,
    "ExecuteTime": {
     "end_time": "2024-06-26T14:19:57.275016Z",
     "start_time": "2024-06-26T14:19:57.202785Z"
    }
   },
   "outputs": [],
   "source": [
    "#model_weight_dst = f'../../model_weights/fasttext_nlp_20240613-131608-model.keras'\n",
    "new_model = load_model(model_weight_dst)"
   ]
  },
  {
   "cell_type": "code",
   "execution_count": 107,
   "id": "be31f886c1e61d2",
   "metadata": {
    "collapsed": false,
    "ExecuteTime": {
     "end_time": "2024-06-26T14:20:21.172148Z",
     "start_time": "2024-06-26T14:20:19.379399Z"
    }
   },
   "outputs": [
    {
     "name": "stdout",
     "output_type": "stream",
     "text": [
      "nice output\n",
      "la bonjour je suis un type sympas : [[False]]\n",
      "[[0.12051824]]\n",
      "bonjour ça va les gens : [[ True]]\n",
      "[[0.9994973]]\n",
      "j'aime pas trop ce mec : [[False]]\n",
      "[[5.6627454e-09]]\n",
      "cette meuf est cool : [[ True]]\n",
      "[[0.9886635]]\n",
      "les meuf sont trop cool : [[ True]]\n",
      "[[0.9993337]]\n",
      "les mecs sont des gens stylé : [[ True]]\n",
      "[[0.9997663]]\n",
      "le mec est stylé : [[ True]]\n",
      "[[0.9988927]]\n",
      "nan mais mon manager exagère quand il dit que je suis pas assez productif et que je travail pas assez, franchement il abuse : [[False]]\n",
      "[[0.06172562]]\n",
      "les hommes cis sont toxiques pour la société car ils imposent leur vision paternaliste : [[ True]]\n",
      "[[0.82011175]]\n",
      "Les hommes sont moins matures que les femmes quand il s'agit de prendre des décisions : [[False]]\n",
      "[[3.9226315e-06]]\n",
      "\n",
      "\n",
      "not nice output\n",
      "regarde moi cette connasse : [[ True]]\n",
      "[[0.9982065]]\n",
      "les femme leur place c'est à la cuisine : [[ True]]\n",
      "[[0.64545226]]\n",
      "femme au volant, accident : [[ True]]\n",
      "[[0.99988973]]\n",
      "les femmes on peux pas leur faire confiance : [[False]]\n",
      "[[0.05592431]]\n",
      "Pour une transphobe son passing est pas ouf : [[False]]\n",
      "[[6.071222e-05]]\n",
      "Elle l’ouvre quand même beaucoup celle là pour quelqu’un qu’est pas capable d’éduquer ses enfants : [[False]]\n",
      "[[5.6617773e-06]]\n",
      "Dis donc, c’est pas parce que t’es mal baisée que tu peux tout te permettre ???? : [[False]]\n",
      "[[0.00375815]]\n",
      "Moi ce que j’aime bien chez les filles comme toi c’est que t’es pas du genre prise de tête : [[False]]\n",
      "[[0.00040259]]\n",
      "les femmes c'est comme le fromage, quand elles puent c'est qu'elles sont bonnes : [[ True]]\n",
      "[[0.9146926]]\n",
      "Oh les grosses tepus : [[False]]\n",
      "[[1.502797e-18]]\n",
      "Faut pas t'étonner si tu te fais violer vu comment t'es habillée : [[False]]\n",
      "[[0.2759253]]\n",
      "Tu deverais avoir des enfants maintenant avant que ce soit trop tard : [[ True]]\n",
      "[[0.989646]]\n",
      "Vous seriez une collaboratrice idéal pour notre entreprise, malheureusement nous cherchons quelqu’un disponible sur le long terme, et nous craignons qu’à votre âge des changements familiaux ne vous permettent plus de vous investir autant que besoins : [[False]]\n",
      "[[0.00307053]]\n"
     ]
    }
   ],
   "source": [
    "text_nice = [\n",
    "    \"la bonjour je suis un type sympas\", \n",
    "    \"bonjour ça va les gens\",\n",
    "    \"j'aime pas trop ce mec\",\n",
    "    \"cette meuf est cool\",\n",
    "    \"les meuf sont trop cool\",\n",
    "    \"les mecs sont des gens stylé\",\n",
    "    \"le mec est stylé\",\n",
    "    \"nan mais mon manager exagère quand il dit que je suis pas assez productif et que je travail pas assez, franchement il abuse\",\n",
    "    \"les hommes cis sont toxiques pour la société car ils imposent leur vision paternaliste\",\n",
    "    \"Les hommes sont moins matures que les femmes quand il s'agit de prendre des décisions\"\n",
    "    \n",
    "]\n",
    "\n",
    "text_no_nice = [\n",
    "    \"regarde moi cette connasse\",\n",
    "    \"les femme leur place c'est à la cuisine\",\n",
    "    \"femme au volant, accident\",\n",
    "    \"les femmes on peux pas leur faire confiance\",\n",
    "    \"Pour une transphobe son passing est pas ouf\",\n",
    "    \"Elle l’ouvre quand même beaucoup celle là pour quelqu’un qu’est pas capable d’éduquer ses enfants\",\n",
    "    \"Dis donc, c’est pas parce que t’es mal baisée que tu peux tout te permettre ????\",\n",
    "    \"Moi ce que j’aime bien chez les filles comme toi c’est que t’es pas du genre prise de tête\",\n",
    "    \"les femmes c'est comme le fromage, quand elles puent c'est qu'elles sont bonnes\",\n",
    "    \"Oh les grosses tepus\",\n",
    "    \"Faut pas t'étonner si tu te fais violer vu comment t'es habillée\",\n",
    "    \"Tu deverais avoir des enfants maintenant avant que ce soit trop tard\",\n",
    "    \"Vous seriez une collaboratrice idéal pour notre entreprise, malheureusement nous cherchons quelqu’un disponible sur le long terme, et nous craignons qu’à votre âge des changements familiaux ne vous permettent plus de vous investir autant que besoins\"\n",
    "]\n",
    "wordsvec_nice = [np.expand_dims(text_to_vector(text), axis=0) for text in text_nice]\n",
    "wordsvec_no_nice = [np.expand_dims(text_to_vector(text), axis=0) for text in text_no_nice]\n",
    "\n",
    "print(\"nice output\")\n",
    "for i in range(0, len(wordsvec_nice)):\n",
    "    prediction = new_model.predict(wordsvec_nice[i], verbose=False)\n",
    "    print(f\"{text_nice[i]} : {prediction > 0.5}\")\n",
    "    print(f\"{prediction}\")\n",
    "\n",
    "\n",
    "print(\"\\n\\nnot nice output\")\n",
    "for i in range(0, len(wordsvec_no_nice)):\n",
    "    prediction =  new_model.predict(wordsvec_no_nice[i], verbose=False)\n",
    "    print(f\"{text_no_nice[i]} : {prediction > 0.5}\")\n",
    "    print(f\"{prediction}\")"
   ]
  },
  {
   "cell_type": "code",
   "execution_count": null,
   "id": "eee4f2d23f45322e",
   "metadata": {
    "collapsed": false,
    "is_executing": true
   },
   "outputs": [],
   "source": []
  },
  {
   "cell_type": "code",
   "execution_count": null,
   "id": "8c753464d73b3dba",
   "metadata": {
    "collapsed": false,
    "is_executing": true
   },
   "outputs": [],
   "source": []
  }
 ],
 "metadata": {
  "kernelspec": {
   "display_name": "Python 3 (ipykernel)",
   "language": "python",
   "name": "python3"
  },
  "language_info": {
   "codemirror_mode": {
    "name": "ipython",
    "version": 3
   },
   "file_extension": ".py",
   "mimetype": "text/x-python",
   "name": "python",
   "nbconvert_exporter": "python",
   "pygments_lexer": "ipython3",
   "version": "3.10.13"
  }
 },
 "nbformat": 4,
 "nbformat_minor": 5
}
