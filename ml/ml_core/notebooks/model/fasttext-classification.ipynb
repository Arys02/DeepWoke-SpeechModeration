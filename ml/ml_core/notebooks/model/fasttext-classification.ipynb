{
 "cells": [
  {
   "cell_type": "code",
   "execution_count": 15,
   "id": "initial_id",
   "metadata": {
    "collapsed": true,
    "ExecuteTime": {
     "end_time": "2024-06-14T16:14:03.213358300Z",
     "start_time": "2024-06-14T16:14:03.157548Z"
    }
   },
   "outputs": [],
   "source": [
    "import datetime\n",
    "\n",
    "import fasttext\n",
    "import keras_core as keras\n",
    "import numpy as np\n",
    "import pandas as pd\n",
    "from keras_core import Sequential\n",
    "from keras_core.src.layers import Dense\n",
    "from keras_core.models import load_model\n",
    "from sklearn.model_selection import train_test_split"
   ]
  },
  {
   "cell_type": "markdown",
   "source": [
    "## import fastTest model"
   ],
   "metadata": {
    "collapsed": false
   },
   "id": "3d946bd3803cbf47"
  },
  {
   "cell_type": "code",
   "outputs": [],
   "source": [
    "ft = fasttext.load_model('../../data/embedding_data/cc.fr.300.bin')"
   ],
   "metadata": {
    "collapsed": false,
    "is_executing": true
   },
   "id": "581097380ddb6dcb",
   "execution_count": null
  },
  {
   "cell_type": "markdown",
   "source": [
    "## Configurations"
   ],
   "metadata": {
    "collapsed": false
   },
   "id": "18856c657e08494f"
  },
  {
   "cell_type": "code",
   "outputs": [],
   "source": [
    "data_folder_src = '../../data/processed/'\n",
    "data_path_src = f'{data_folder_src}corpus_with_text_label_final.csv'\n",
    "\n",
    "date_str = datetime.datetime.now().strftime(\"%Y%m%d-%H%M%S\")\n",
    "log_dir = f\"../../log/fit/fasttext_nlp_{date_str}\"\n",
    "\n",
    "model_weight_dst = f'../../model_weights/fasttext_nlp_{date_str}-model.keras'"
   ],
   "metadata": {
    "collapsed": false,
    "is_executing": true
   },
   "id": "d220a1d10493404e",
   "execution_count": null
  },
  {
   "cell_type": "markdown",
   "source": [
    "## loading dataset"
   ],
   "metadata": {
    "collapsed": false
   },
   "id": "5d4209390b020a7"
  },
  {
   "cell_type": "code",
   "outputs": [],
   "source": [
    "\n",
    "ds = pd.read_csv(data_path_src).iloc[:, 1:].dropna()\n",
    "ds"
   ],
   "metadata": {
    "collapsed": false,
    "is_executing": true
   },
   "id": "cda597a675bb1ba2",
   "execution_count": null
  },
  {
   "cell_type": "markdown",
   "source": [
    "## text to vector"
   ],
   "metadata": {
    "collapsed": false
   },
   "id": "b14d86b3a33f2e60"
  },
  {
   "cell_type": "code",
   "outputs": [],
   "source": [
    "def text_to_vector(text):\n",
    "    words = text.split(' ')\n",
    "    word_vectors = [ft.get_word_vector(word) for word in words if word in ft.words]\n",
    "    if not word_vectors:\n",
    "        return np.zeros(300)\n",
    "    return np.mean(word_vectors, axis=0)"
   ],
   "metadata": {
    "collapsed": false,
    "is_executing": true
   },
   "id": "4811628c43744431",
   "execution_count": null
  },
  {
   "cell_type": "code",
   "outputs": [],
   "source": [
    "ds['vector'] = ds['full_text'].apply(text_to_vector)\n",
    "\n",
    "X = np.vstack(ds['vector'])\n",
    "y = ds['label'].values"
   ],
   "metadata": {
    "collapsed": false,
    "is_executing": true
   },
   "id": "c3d1584635aab387",
   "execution_count": null
  },
  {
   "cell_type": "markdown",
   "source": [
    "## building and training the model"
   ],
   "metadata": {
    "collapsed": false
   },
   "id": "7b718cecf9585fb1"
  },
  {
   "cell_type": "code",
   "outputs": [],
   "source": [
    "experiment_name = 'deep_woke_fasttext_classification_mlp'"
   ],
   "metadata": {
    "collapsed": false,
    "is_executing": true
   },
   "id": "bbbe648ae37c648e",
   "execution_count": null
  },
  {
   "cell_type": "markdown",
   "source": [
    "### callbacks"
   ],
   "metadata": {
    "collapsed": false
   },
   "id": "5c8ac62597164bde"
  },
  {
   "cell_type": "code",
   "outputs": [],
   "source": [
    "early_stopping = keras.callbacks.EarlyStopping(\n",
    "    patience=5,\n",
    "    min_delta=0.001,\n",
    "    restore_best_weights=True,\n",
    "    monitor='loss'\n",
    ")\n"
   ],
   "metadata": {
    "collapsed": false,
    "is_executing": true
   },
   "id": "336209aae383296f",
   "execution_count": null
  },
  {
   "cell_type": "code",
   "outputs": [],
   "source": [
    "tensorboard_callback = keras.callbacks.TensorBoard(log_dir=log_dir, histogram_freq=1)"
   ],
   "metadata": {
    "collapsed": false,
    "is_executing": true
   },
   "id": "7ec43b4117399510",
   "execution_count": null
  },
  {
   "cell_type": "markdown",
   "source": [
    "### training the model"
   ],
   "metadata": {
    "collapsed": false
   },
   "id": "9dec354f696f24a9"
  },
  {
   "cell_type": "code",
   "outputs": [],
   "source": [
    "X_train, X_test, y_train, y_test = train_test_split(X, y, test_size=0.2, random_state=42)\n",
    "\n",
    "model = Sequential()\n",
    "model.add(Dense(128, input_dim=300, activation='relu'))\n",
    "model.add(Dense(64, activation='relu'))\n",
    "model.add(Dense(1, activation='sigmoid'))\n",
    "\n",
    "model.compile(loss='binary_crossentropy', optimizer='adam', metrics=['accuracy'])\n",
    "\n",
    "model.fit(X_train,\n",
    "          y_train,\n",
    "          epochs=500,\n",
    "          batch_size=100,\n",
    "          callbacks=[\n",
    "              early_stopping,\n",
    "              tensorboard_callback,\n",
    "          ],\n",
    "          validation_data=(X_test, y_test)\n",
    "          )"
   ],
   "metadata": {
    "collapsed": false,
    "is_executing": true
   },
   "id": "c4cf876c5cbae2f2",
   "execution_count": null
  },
  {
   "cell_type": "markdown",
   "source": [
    "# save model"
   ],
   "metadata": {
    "collapsed": false
   },
   "id": "e01ea87c7efc4af6"
  },
  {
   "cell_type": "code",
   "outputs": [],
   "source": [
    "model.save(model_weight_dst)"
   ],
   "metadata": {
    "collapsed": false,
    "is_executing": true
   },
   "id": "e0b9fbafea831f00",
   "execution_count": null
  },
  {
   "cell_type": "markdown",
   "source": [
    "### testing with custom sentence"
   ],
   "metadata": {
    "collapsed": false
   },
   "id": "858f1dcf54daf1ee"
  },
  {
   "cell_type": "code",
   "outputs": [],
   "source": [
    "model_weight_dst = f'../../model_weights/fasttext_nlp_20240613-131608-model.keras'\n",
    "new_model = load_model(model_weight_dst)"
   ],
   "metadata": {
    "collapsed": false,
    "is_executing": true
   },
   "id": "9082729f7fb73c8",
   "execution_count": null
  },
  {
   "cell_type": "code",
   "outputs": [],
   "source": [
    "text_nice = [\n",
    "    \"la bonjour je suis un type sympas\", \n",
    "    \"hello ça va les gens\",\n",
    "    \"j'aime pas trop ce mec\",\n",
    "    \"cette meuf est cool\",\n",
    "    \"les meuf sont trop cool\",\n",
    "    \"les mecs sont des gens stylé\",\n",
    "    \"le mec est stylé\",\n",
    "    \"nan mais mon manager exagère quand il dit que je suis pas assez productif et que je travail pas assez, franchement il abuse\",\n",
    "    \"les hommes cis sont toxiques pour la société car ils imposent leur vision paternaliste\",\n",
    "    \"Les hommes sont moins matures que les femmes quand il s'agit de prendre des décisions\"\n",
    "    \n",
    "]\n",
    "\n",
    "text_no_nice = [\n",
    "    \"regarde moi cette connasse\",\n",
    "    \"les femme leur place c'est à la cuisine\",\n",
    "    \"femme au volant, accident\",\n",
    "    \"les femmes on peux pas leur faire confiance\",\n",
    "    \"Pour une transphobe son passing est pas ouf\",\n",
    "    \"Elle l’ouvre quand même beaucoup celle là pour quelqu’un qu’est pas capable d’éduquer ses enfants\",\n",
    "    \"Dis donc, c’est pas parce que t’es mal baisée que tu peux tout te permettre ????\",\n",
    "    \"Moi ce que j’aime bien chez les filles comme toi c’est que t’es pas du genre prise de tête\",\n",
    "    \"les femmes c'est comme le fromage, quand elles puent c'est qu'elles sont bonnes\",\n",
    "    \"Oh les grosses tepus\",\n",
    "    \"Faut pas t'étonner si tu te fais violer vu comment t'es habillée\",\n",
    "    \"Tu deverais avoir des enfants maintenant avant que ce soit trop tard\",\n",
    "    \"Vous seriez une collaboratrice idéal pour notre entreprise, malheureusement nous cherchons quelqu’un disponible sur le long terme, et nous craignons qu’à votre âge des changements familiaux ne vous permettent plus de vous investir autant que besoins\"\n",
    "]\n",
    "wordsvec_nice = [np.expand_dims(text_to_vector(text), axis=0) for text in text_nice]\n",
    "wordsvec_no_nice = [np.expand_dims(text_to_vector(text), axis=0) for text in text_no_nice]\n",
    "\n",
    "print(\"nice output\")\n",
    "for i in range(0, len(wordsvec_nice)):\n",
    "    prediction = new_model.predict(wordsvec_nice[i], verbose=False)\n",
    "    print(f\"{text_nice[i]} : {prediction > 0.0001}\")\n",
    "    print(f\"{prediction}\")\n",
    "\n",
    "\n",
    "print(\"\\n\\nnot nice output\")\n",
    "for i in range(0, len(wordsvec_no_nice)):\n",
    "    prediction =  new_model.predict(wordsvec_no_nice[i], verbose=False)\n",
    "    print(f\"{text_no_nice[i]} : {prediction > 0.0001}\")\n",
    "    print(f\"{prediction}\")"
   ],
   "metadata": {
    "collapsed": false,
    "is_executing": true
   },
   "id": "be31f886c1e61d2",
   "execution_count": null
  },
  {
   "cell_type": "code",
   "outputs": [],
   "source": [],
   "metadata": {
    "collapsed": false,
    "is_executing": true
   },
   "id": "eee4f2d23f45322e",
   "execution_count": null
  },
  {
   "cell_type": "code",
   "outputs": [],
   "source": [],
   "metadata": {
    "collapsed": false,
    "is_executing": true
   },
   "id": "8c753464d73b3dba"
  }
 ],
 "metadata": {
  "kernelspec": {
   "display_name": "Python 3",
   "language": "python",
   "name": "python3"
  },
  "language_info": {
   "codemirror_mode": {
    "name": "ipython",
    "version": 2
   },
   "file_extension": ".py",
   "mimetype": "text/x-python",
   "name": "python",
   "nbconvert_exporter": "python",
   "pygments_lexer": "ipython2",
   "version": "2.7.6"
  }
 },
 "nbformat": 4,
 "nbformat_minor": 5
}
