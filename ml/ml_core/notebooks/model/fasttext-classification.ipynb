{
 "cells": [
  {
   "cell_type": "code",
   "execution_count": 26,
   "id": "initial_id",
   "metadata": {
    "collapsed": true,
    "ExecuteTime": {
     "end_time": "2024-06-13T11:17:58.582729100Z",
     "start_time": "2024-06-13T11:17:58.552682600Z"
    }
   },
   "outputs": [],
   "source": [
    "import datetime\n",
    "\n",
    "import fasttext\n",
    "import keras_core as keras\n",
    "import numpy as np\n",
    "import pandas as pd\n",
    "from keras_core import Sequential\n",
    "from keras_core.src.layers import Dense\n",
    "from keras_core.models import load_model\n",
    "from sklearn.model_selection import train_test_split"
   ]
  },
  {
   "cell_type": "markdown",
   "source": [
    "## import fastTest model"
   ],
   "metadata": {
    "collapsed": false
   },
   "id": "3d946bd3803cbf47"
  },
  {
   "cell_type": "code",
   "outputs": [],
   "source": [
    "ft = fasttext.load_model('../../data/embedding_data/cc.fr.300.bin')"
   ],
   "metadata": {
    "collapsed": false,
    "ExecuteTime": {
     "end_time": "2024-06-13T09:55:09.418354400Z",
     "start_time": "2024-06-13T09:55:09.276300700Z"
    }
   },
   "id": "581097380ddb6dcb",
   "execution_count": 4
  },
  {
   "cell_type": "markdown",
   "source": [
    "## Configurations"
   ],
   "metadata": {
    "collapsed": false
   },
   "id": "18856c657e08494f"
  },
  {
   "cell_type": "code",
   "outputs": [],
   "source": [
    "data_folder_src = '../../data/processed/'\n",
    "data_path_src = f'{data_folder_src}corpus_with_text_label_final.csv'\n",
    "\n",
    "date_str = datetime.datetime.now().strftime(\"%Y%m%d-%H%M%S\")\n",
    "log_dir = f\"../../log/fit/fasttext_nlp_{date_str}\"\n",
    "\n",
    "model_weight_dst = f'../../model_weights/fasttext_nlp_{date_str}-model.keras'"
   ],
   "metadata": {
    "collapsed": false,
    "ExecuteTime": {
     "end_time": "2024-06-13T11:16:08.728915900Z",
     "start_time": "2024-06-13T11:16:08.694921300Z"
    }
   },
   "id": "d220a1d10493404e",
   "execution_count": 23
  },
  {
   "cell_type": "markdown",
   "source": [
    "## loading dataset"
   ],
   "metadata": {
    "collapsed": false
   },
   "id": "5d4209390b020a7"
  },
  {
   "cell_type": "code",
   "outputs": [
    {
     "data": {
      "text/plain": "                                              full_text  label\n1           @MamzelleMNa Une très humble femme! #Ironie      0\n2     BLOGUE - «Tsé, la parité homme-femme...» au se...      0\n5     Mise en ligne de mon article sur @PayeTaShnek ...      0\n7     Hommage #journeedelafemme Toute sa vie elle a ...      0\n8     Lustre bois flotté feuilles exotiques bleues a...      0\n...                                                 ...    ...\n9545  [Exclusif] #BalanceTonPorc, transparence, juge...      1\n9547  Eric Monier, directeur de la rédaction de #LCI...      1\n9548  .@annesaurat porte plainte contre son ancien r...      1\n9550  Moïra Sauvage @excisionparlons \"une pensée pou...      1\n9554  @enmarchefr @MarleneSchiappa Je n'arrête pas d...      1\n\n[3194 rows x 2 columns]",
      "text/html": "<div>\n<style scoped>\n    .dataframe tbody tr th:only-of-type {\n        vertical-align: middle;\n    }\n\n    .dataframe tbody tr th {\n        vertical-align: top;\n    }\n\n    .dataframe thead th {\n        text-align: right;\n    }\n</style>\n<table border=\"1\" class=\"dataframe\">\n  <thead>\n    <tr style=\"text-align: right;\">\n      <th></th>\n      <th>full_text</th>\n      <th>label</th>\n    </tr>\n  </thead>\n  <tbody>\n    <tr>\n      <th>1</th>\n      <td>@MamzelleMNa Une très humble femme! #Ironie</td>\n      <td>0</td>\n    </tr>\n    <tr>\n      <th>2</th>\n      <td>BLOGUE - «Tsé, la parité homme-femme...» au se...</td>\n      <td>0</td>\n    </tr>\n    <tr>\n      <th>5</th>\n      <td>Mise en ligne de mon article sur @PayeTaShnek ...</td>\n      <td>0</td>\n    </tr>\n    <tr>\n      <th>7</th>\n      <td>Hommage #journeedelafemme Toute sa vie elle a ...</td>\n      <td>0</td>\n    </tr>\n    <tr>\n      <th>8</th>\n      <td>Lustre bois flotté feuilles exotiques bleues a...</td>\n      <td>0</td>\n    </tr>\n    <tr>\n      <th>...</th>\n      <td>...</td>\n      <td>...</td>\n    </tr>\n    <tr>\n      <th>9545</th>\n      <td>[Exclusif] #BalanceTonPorc, transparence, juge...</td>\n      <td>1</td>\n    </tr>\n    <tr>\n      <th>9547</th>\n      <td>Eric Monier, directeur de la rédaction de #LCI...</td>\n      <td>1</td>\n    </tr>\n    <tr>\n      <th>9548</th>\n      <td>.@annesaurat porte plainte contre son ancien r...</td>\n      <td>1</td>\n    </tr>\n    <tr>\n      <th>9550</th>\n      <td>Moïra Sauvage @excisionparlons \"une pensée pou...</td>\n      <td>1</td>\n    </tr>\n    <tr>\n      <th>9554</th>\n      <td>@enmarchefr @MarleneSchiappa Je n'arrête pas d...</td>\n      <td>1</td>\n    </tr>\n  </tbody>\n</table>\n<p>3194 rows × 2 columns</p>\n</div>"
     },
     "execution_count": 8,
     "metadata": {},
     "output_type": "execute_result"
    }
   ],
   "source": [
    "\n",
    "ds = pd.read_csv(data_path_src).iloc[:, 1:].dropna()\n",
    "ds"
   ],
   "metadata": {
    "collapsed": false,
    "ExecuteTime": {
     "end_time": "2024-06-13T09:56:40.953828900Z",
     "start_time": "2024-06-13T09:56:40.625199200Z"
    }
   },
   "id": "cda597a675bb1ba2",
   "execution_count": 8
  },
  {
   "cell_type": "markdown",
   "source": [
    "## text to vector"
   ],
   "metadata": {
    "collapsed": false
   },
   "id": "b14d86b3a33f2e60"
  },
  {
   "cell_type": "code",
   "outputs": [],
   "source": [
    "def text_to_vector(text):\n",
    "    words = text.split(' ')\n",
    "    word_vectors = [ft.get_word_vector(word) for word in words if word in ft.words]\n",
    "    if not word_vectors:\n",
    "        return np.zeros(300)\n",
    "    return np.mean(word_vectors, axis=0)"
   ],
   "metadata": {
    "collapsed": false,
    "ExecuteTime": {
     "end_time": "2024-06-13T09:56:42.899028900Z",
     "start_time": "2024-06-13T09:56:42.890015400Z"
    }
   },
   "id": "4811628c43744431",
   "execution_count": 9
  },
  {
   "cell_type": "code",
   "outputs": [],
   "source": [
    "ds['vector'] = ds['full_text'].apply(text_to_vector)\n",
    "\n",
    "X = np.vstack(ds['vector'])\n",
    "y = ds['label'].values"
   ],
   "metadata": {
    "collapsed": false,
    "ExecuteTime": {
     "end_time": "2024-06-13T10:02:38.631210900Z",
     "start_time": "2024-06-13T09:56:43.995973100Z"
    }
   },
   "id": "c3d1584635aab387",
   "execution_count": 10
  },
  {
   "cell_type": "markdown",
   "source": [
    "## building and training the model"
   ],
   "metadata": {
    "collapsed": false
   },
   "id": "7b718cecf9585fb1"
  },
  {
   "cell_type": "code",
   "outputs": [],
   "source": [
    "experiment_name = 'deep_woke_fasttext_classification_mlp'"
   ],
   "metadata": {
    "collapsed": false,
    "ExecuteTime": {
     "end_time": "2024-06-13T10:02:38.646803300Z",
     "start_time": "2024-06-13T10:02:38.638286100Z"
    }
   },
   "id": "bbbe648ae37c648e",
   "execution_count": 11
  },
  {
   "cell_type": "markdown",
   "source": [
    "### callbacks"
   ],
   "metadata": {
    "collapsed": false
   },
   "id": "5c8ac62597164bde"
  },
  {
   "cell_type": "code",
   "outputs": [],
   "source": [
    "early_stopping = keras.callbacks.EarlyStopping(\n",
    "    patience=5,\n",
    "    min_delta=0.001,\n",
    "    restore_best_weights=True,\n",
    "    monitor='loss'\n",
    ")\n"
   ],
   "metadata": {
    "collapsed": false,
    "ExecuteTime": {
     "end_time": "2024-06-13T10:02:38.668348300Z",
     "start_time": "2024-06-13T10:02:38.646803300Z"
    }
   },
   "id": "336209aae383296f",
   "execution_count": 12
  },
  {
   "cell_type": "code",
   "outputs": [],
   "source": [
    "tensorboard_callback = keras.callbacks.TensorBoard(log_dir=log_dir, histogram_freq=1)"
   ],
   "metadata": {
    "collapsed": false,
    "ExecuteTime": {
     "end_time": "2024-06-13T10:02:38.715941Z",
     "start_time": "2024-06-13T10:02:38.665839Z"
    }
   },
   "id": "7ec43b4117399510",
   "execution_count": 13
  },
  {
   "cell_type": "markdown",
   "source": [
    "### training the model"
   ],
   "metadata": {
    "collapsed": false
   },
   "id": "9dec354f696f24a9"
  },
  {
   "cell_type": "code",
   "outputs": [
    {
     "name": "stderr",
     "output_type": "stream",
     "text": [
      "/home/arys/miniconda3/envs/DEV_IA/lib/python3.10/site-packages/keras_core/src/layers/core/dense.py:73: UserWarning: Do not pass an `input_shape`/`input_dim` argument to a layer. When using Sequential models, prefer using an `Input(shape)` object as the first layer in the model instead.\n",
      "  super().__init__(activity_regularizer=activity_regularizer, **kwargs)\n",
      "2024-06-13 12:02:39.471532: I external/local_xla/xla/stream_executor/cuda/cuda_executor.cc:984] could not open file to read NUMA node: /sys/bus/pci/devices/0000:01:00.0/numa_node\n",
      "Your kernel may have been built without NUMA support.\n",
      "2024-06-13 12:02:39.729046: W tensorflow/core/common_runtime/gpu/gpu_device.cc:2251] Cannot dlopen some GPU libraries. Please make sure the missing libraries mentioned above are installed properly if you would like to use GPU. Follow the guide at https://www.tensorflow.org/install/gpu for how to download and setup the required libraries for your platform.\n",
      "Skipping registering GPU devices...\n"
     ]
    },
    {
     "name": "stdout",
     "output_type": "stream",
     "text": [
      "Epoch 1/500\n"
     ]
    },
    {
     "name": "stderr",
     "output_type": "stream",
     "text": [
      "WARNING: All log messages before absl::InitializeLog() is called are written to STDERR\n",
      "I0000 00:00:1718272964.744891   54211 service.cc:145] XLA service 0x7fc24000ad50 initialized for platform Host (this does not guarantee that XLA will be used). Devices:\n",
      "I0000 00:00:1718272964.746184   54211 service.cc:153]   StreamExecutor device (0): Host, Default Version\n",
      "2024-06-13 12:02:44.853215: I tensorflow/compiler/mlir/tensorflow/utils/dump_mlir_util.cc:268] disabling MLIR crash reproducer, set env var `MLIR_CRASH_REPRODUCER_DIRECTORY` to enable.\n",
      "I0000 00:00:1718272965.359417   54211 device_compiler.h:188] Compiled cluster using XLA!  This line is logged at most once for the lifetime of the process.\n"
     ]
    },
    {
     "name": "stdout",
     "output_type": "stream",
     "text": [
      "\u001B[1m26/26\u001B[0m \u001B[32m━━━━━━━━━━━━━━━━━━━━\u001B[0m\u001B[37m\u001B[0m \u001B[1m6s\u001B[0m 26ms/step - accuracy: 0.7671 - loss: 0.6116 - val_accuracy: 0.8812 - val_loss: 0.3745\n",
      "Epoch 2/500\n",
      "\u001B[1m26/26\u001B[0m \u001B[32m━━━━━━━━━━━━━━━━━━━━\u001B[0m\u001B[37m\u001B[0m \u001B[1m0s\u001B[0m 6ms/step - accuracy: 0.8553 - loss: 0.4240 - val_accuracy: 0.8812 - val_loss: 0.3593\n",
      "Epoch 3/500\n",
      "\u001B[1m26/26\u001B[0m \u001B[32m━━━━━━━━━━━━━━━━━━━━\u001B[0m\u001B[37m\u001B[0m \u001B[1m0s\u001B[0m 6ms/step - accuracy: 0.8563 - loss: 0.3957 - val_accuracy: 0.8812 - val_loss: 0.3455\n",
      "Epoch 4/500\n",
      "\u001B[1m26/26\u001B[0m \u001B[32m━━━━━━━━━━━━━━━━━━━━\u001B[0m\u001B[37m\u001B[0m \u001B[1m0s\u001B[0m 6ms/step - accuracy: 0.8500 - loss: 0.3870 - val_accuracy: 0.8812 - val_loss: 0.3365\n",
      "Epoch 5/500\n",
      "\u001B[1m26/26\u001B[0m \u001B[32m━━━━━━━━━━━━━━━━━━━━\u001B[0m\u001B[37m\u001B[0m \u001B[1m0s\u001B[0m 5ms/step - accuracy: 0.8585 - loss: 0.3628 - val_accuracy: 0.8812 - val_loss: 0.3319\n",
      "Epoch 6/500\n",
      "\u001B[1m26/26\u001B[0m \u001B[32m━━━━━━━━━━━━━━━━━━━━\u001B[0m\u001B[37m\u001B[0m \u001B[1m0s\u001B[0m 6ms/step - accuracy: 0.8534 - loss: 0.3594 - val_accuracy: 0.8812 - val_loss: 0.3301\n",
      "Epoch 7/500\n",
      "\u001B[1m26/26\u001B[0m \u001B[32m━━━━━━━━━━━━━━━━━━━━\u001B[0m\u001B[37m\u001B[0m \u001B[1m0s\u001B[0m 6ms/step - accuracy: 0.8542 - loss: 0.3537 - val_accuracy: 0.8812 - val_loss: 0.3285\n",
      "Epoch 8/500\n",
      "\u001B[1m26/26\u001B[0m \u001B[32m━━━━━━━━━━━━━━━━━━━━\u001B[0m\u001B[37m\u001B[0m \u001B[1m0s\u001B[0m 6ms/step - accuracy: 0.8577 - loss: 0.3526 - val_accuracy: 0.8812 - val_loss: 0.3274\n",
      "Epoch 9/500\n",
      "\u001B[1m26/26\u001B[0m \u001B[32m━━━━━━━━━━━━━━━━━━━━\u001B[0m\u001B[37m\u001B[0m \u001B[1m0s\u001B[0m 8ms/step - accuracy: 0.8577 - loss: 0.3337 - val_accuracy: 0.8812 - val_loss: 0.3256\n",
      "Epoch 10/500\n",
      "\u001B[1m26/26\u001B[0m \u001B[32m━━━━━━━━━━━━━━━━━━━━\u001B[0m\u001B[37m\u001B[0m \u001B[1m0s\u001B[0m 6ms/step - accuracy: 0.8683 - loss: 0.3197 - val_accuracy: 0.8841 - val_loss: 0.3311\n",
      "Epoch 11/500\n",
      "\u001B[1m26/26\u001B[0m \u001B[32m━━━━━━━━━━━━━━━━━━━━\u001B[0m\u001B[37m\u001B[0m \u001B[1m0s\u001B[0m 6ms/step - accuracy: 0.8585 - loss: 0.3295 - val_accuracy: 0.8841 - val_loss: 0.3243\n",
      "Epoch 12/500\n",
      "\u001B[1m26/26\u001B[0m \u001B[32m━━━━━━━━━━━━━━━━━━━━\u001B[0m\u001B[37m\u001B[0m \u001B[1m0s\u001B[0m 5ms/step - accuracy: 0.8659 - loss: 0.3066 - val_accuracy: 0.8733 - val_loss: 0.3265\n",
      "Epoch 13/500\n",
      "\u001B[1m26/26\u001B[0m \u001B[32m━━━━━━━━━━━━━━━━━━━━\u001B[0m\u001B[37m\u001B[0m \u001B[1m0s\u001B[0m 7ms/step - accuracy: 0.8672 - loss: 0.3026 - val_accuracy: 0.8682 - val_loss: 0.3257\n",
      "Epoch 14/500\n",
      "\u001B[1m26/26\u001B[0m \u001B[32m━━━━━━━━━━━━━━━━━━━━\u001B[0m\u001B[37m\u001B[0m \u001B[1m0s\u001B[0m 6ms/step - accuracy: 0.8682 - loss: 0.3046 - val_accuracy: 0.8770 - val_loss: 0.3221\n",
      "Epoch 15/500\n",
      "\u001B[1m26/26\u001B[0m \u001B[32m━━━━━━━━━━━━━━━━━━━━\u001B[0m\u001B[37m\u001B[0m \u001B[1m0s\u001B[0m 5ms/step - accuracy: 0.8661 - loss: 0.3008 - val_accuracy: 0.8523 - val_loss: 0.3350\n",
      "Epoch 16/500\n",
      "\u001B[1m26/26\u001B[0m \u001B[32m━━━━━━━━━━━━━━━━━━━━\u001B[0m\u001B[37m\u001B[0m \u001B[1m0s\u001B[0m 5ms/step - accuracy: 0.8832 - loss: 0.2931 - val_accuracy: 0.8770 - val_loss: 0.3204\n",
      "Epoch 17/500\n",
      "\u001B[1m26/26\u001B[0m \u001B[32m━━━━━━━━━━━━━━━━━━━━\u001B[0m\u001B[37m\u001B[0m \u001B[1m0s\u001B[0m 6ms/step - accuracy: 0.8841 - loss: 0.2767 - val_accuracy: 0.8733 - val_loss: 0.3202\n",
      "Epoch 18/500\n",
      "\u001B[1m26/26\u001B[0m \u001B[32m━━━━━━━━━━━━━━━━━━━━\u001B[0m\u001B[37m\u001B[0m \u001B[1m0s\u001B[0m 5ms/step - accuracy: 0.8868 - loss: 0.2631 - val_accuracy: 0.8662 - val_loss: 0.3283\n",
      "Epoch 19/500\n",
      "\u001B[1m26/26\u001B[0m \u001B[32m━━━━━━━━━━━━━━━━━━━━\u001B[0m\u001B[37m\u001B[0m \u001B[1m0s\u001B[0m 5ms/step - accuracy: 0.8922 - loss: 0.2526 - val_accuracy: 0.8582 - val_loss: 0.3291\n",
      "Epoch 20/500\n",
      "\u001B[1m26/26\u001B[0m \u001B[32m━━━━━━━━━━━━━━━━━━━━\u001B[0m\u001B[37m\u001B[0m \u001B[1m0s\u001B[0m 6ms/step - accuracy: 0.9016 - loss: 0.2443 - val_accuracy: 0.8445 - val_loss: 0.3418\n",
      "Epoch 21/500\n",
      "\u001B[1m26/26\u001B[0m \u001B[32m━━━━━━━━━━━━━━━━━━━━\u001B[0m\u001B[37m\u001B[0m \u001B[1m0s\u001B[0m 6ms/step - accuracy: 0.9052 - loss: 0.2268 - val_accuracy: 0.8280 - val_loss: 0.3573\n",
      "Epoch 22/500\n",
      "\u001B[1m26/26\u001B[0m \u001B[32m━━━━━━━━━━━━━━━━━━━━\u001B[0m\u001B[37m\u001B[0m \u001B[1m0s\u001B[0m 6ms/step - accuracy: 0.9177 - loss: 0.2210 - val_accuracy: 0.7864 - val_loss: 0.3825\n",
      "Epoch 23/500\n",
      "\u001B[1m26/26\u001B[0m \u001B[32m━━━━━━━━━━━━━━━━━━━━\u001B[0m\u001B[37m\u001B[0m \u001B[1m0s\u001B[0m 6ms/step - accuracy: 0.9027 - loss: 0.2406 - val_accuracy: 0.8639 - val_loss: 0.3410\n",
      "Epoch 24/500\n",
      "\u001B[1m26/26\u001B[0m \u001B[32m━━━━━━━━━━━━━━━━━━━━\u001B[0m\u001B[37m\u001B[0m \u001B[1m0s\u001B[0m 6ms/step - accuracy: 0.9262 - loss: 0.1949 - val_accuracy: 0.8568 - val_loss: 0.3517\n",
      "Epoch 25/500\n",
      "\u001B[1m26/26\u001B[0m \u001B[32m━━━━━━━━━━━━━━━━━━━━\u001B[0m\u001B[37m\u001B[0m \u001B[1m0s\u001B[0m 6ms/step - accuracy: 0.9202 - loss: 0.1943 - val_accuracy: 0.8352 - val_loss: 0.3619\n",
      "Epoch 26/500\n",
      "\u001B[1m26/26\u001B[0m \u001B[32m━━━━━━━━━━━━━━━━━━━━\u001B[0m\u001B[37m\u001B[0m \u001B[1m0s\u001B[0m 6ms/step - accuracy: 0.9307 - loss: 0.1795 - val_accuracy: 0.8496 - val_loss: 0.3720\n",
      "Epoch 27/500\n",
      "\u001B[1m26/26\u001B[0m \u001B[32m━━━━━━━━━━━━━━━━━━━━\u001B[0m\u001B[37m\u001B[0m \u001B[1m0s\u001B[0m 6ms/step - accuracy: 0.9379 - loss: 0.1771 - val_accuracy: 0.8496 - val_loss: 0.3644\n",
      "Epoch 28/500\n",
      "\u001B[1m26/26\u001B[0m \u001B[32m━━━━━━━━━━━━━━━━━━━━\u001B[0m\u001B[37m\u001B[0m \u001B[1m0s\u001B[0m 6ms/step - accuracy: 0.9359 - loss: 0.1623 - val_accuracy: 0.8186 - val_loss: 0.3946\n",
      "Epoch 29/500\n",
      "\u001B[1m26/26\u001B[0m \u001B[32m━━━━━━━━━━━━━━━━━━━━\u001B[0m\u001B[37m\u001B[0m \u001B[1m0s\u001B[0m 6ms/step - accuracy: 0.9406 - loss: 0.1498 - val_accuracy: 0.8186 - val_loss: 0.4011\n",
      "Epoch 30/500\n",
      "\u001B[1m26/26\u001B[0m \u001B[32m━━━━━━━━━━━━━━━━━━━━\u001B[0m\u001B[37m\u001B[0m \u001B[1m0s\u001B[0m 6ms/step - accuracy: 0.9543 - loss: 0.1410 - val_accuracy: 0.8374 - val_loss: 0.4027\n",
      "Epoch 31/500\n",
      "\u001B[1m26/26\u001B[0m \u001B[32m━━━━━━━━━━━━━━━━━━━━\u001B[0m\u001B[37m\u001B[0m \u001B[1m0s\u001B[0m 6ms/step - accuracy: 0.9498 - loss: 0.1339 - val_accuracy: 0.8223 - val_loss: 0.4090\n",
      "Epoch 32/500\n",
      "\u001B[1m26/26\u001B[0m \u001B[32m━━━━━━━━━━━━━━━━━━━━\u001B[0m\u001B[37m\u001B[0m \u001B[1m0s\u001B[0m 6ms/step - accuracy: 0.9475 - loss: 0.1358 - val_accuracy: 0.8525 - val_loss: 0.4137\n",
      "Epoch 33/500\n",
      "\u001B[1m26/26\u001B[0m \u001B[32m━━━━━━━━━━━━━━━━━━━━\u001B[0m\u001B[37m\u001B[0m \u001B[1m0s\u001B[0m 6ms/step - accuracy: 0.9588 - loss: 0.1250 - val_accuracy: 0.8496 - val_loss: 0.4275\n",
      "Epoch 34/500\n",
      "\u001B[1m26/26\u001B[0m \u001B[32m━━━━━━━━━━━━━━━━━━━━\u001B[0m\u001B[37m\u001B[0m \u001B[1m0s\u001B[0m 6ms/step - accuracy: 0.9562 - loss: 0.1181 - val_accuracy: 0.8303 - val_loss: 0.4297\n",
      "Epoch 35/500\n",
      "\u001B[1m26/26\u001B[0m \u001B[32m━━━━━━━━━━━━━━━━━━━━\u001B[0m\u001B[37m\u001B[0m \u001B[1m0s\u001B[0m 6ms/step - accuracy: 0.9693 - loss: 0.0979 - val_accuracy: 0.8488 - val_loss: 0.4443\n",
      "Epoch 36/500\n",
      "\u001B[1m26/26\u001B[0m \u001B[32m━━━━━━━━━━━━━━━━━━━━\u001B[0m\u001B[37m\u001B[0m \u001B[1m0s\u001B[0m 6ms/step - accuracy: 0.9696 - loss: 0.0936 - val_accuracy: 0.8237 - val_loss: 0.4522\n",
      "Epoch 37/500\n",
      "\u001B[1m26/26\u001B[0m \u001B[32m━━━━━━━━━━━━━━━━━━━━\u001B[0m\u001B[37m\u001B[0m \u001B[1m0s\u001B[0m 6ms/step - accuracy: 0.9761 - loss: 0.0881 - val_accuracy: 0.8453 - val_loss: 0.4653\n",
      "Epoch 38/500\n",
      "\u001B[1m26/26\u001B[0m \u001B[32m━━━━━━━━━━━━━━━━━━━━\u001B[0m\u001B[37m\u001B[0m \u001B[1m0s\u001B[0m 6ms/step - accuracy: 0.9739 - loss: 0.0849 - val_accuracy: 0.8323 - val_loss: 0.4751\n",
      "Epoch 39/500\n",
      "\u001B[1m26/26\u001B[0m \u001B[32m━━━━━━━━━━━━━━━━━━━━\u001B[0m\u001B[37m\u001B[0m \u001B[1m0s\u001B[0m 6ms/step - accuracy: 0.9741 - loss: 0.0770 - val_accuracy: 0.8295 - val_loss: 0.4766\n",
      "Epoch 40/500\n",
      "\u001B[1m26/26\u001B[0m \u001B[32m━━━━━━━━━━━━━━━━━━━━\u001B[0m\u001B[37m\u001B[0m \u001B[1m0s\u001B[0m 6ms/step - accuracy: 0.9810 - loss: 0.0707 - val_accuracy: 0.8288 - val_loss: 0.4922\n",
      "Epoch 41/500\n",
      "\u001B[1m26/26\u001B[0m \u001B[32m━━━━━━━━━━━━━━━━━━━━\u001B[0m\u001B[37m\u001B[0m \u001B[1m0s\u001B[0m 6ms/step - accuracy: 0.9726 - loss: 0.0822 - val_accuracy: 0.8619 - val_loss: 0.5294\n",
      "Epoch 42/500\n",
      "\u001B[1m26/26\u001B[0m \u001B[32m━━━━━━━━━━━━━━━━━━━━\u001B[0m\u001B[37m\u001B[0m \u001B[1m0s\u001B[0m 6ms/step - accuracy: 0.9734 - loss: 0.0767 - val_accuracy: 0.8101 - val_loss: 0.5240\n",
      "Epoch 43/500\n",
      "\u001B[1m26/26\u001B[0m \u001B[32m━━━━━━━━━━━━━━━━━━━━\u001B[0m\u001B[37m\u001B[0m \u001B[1m0s\u001B[0m 6ms/step - accuracy: 0.9798 - loss: 0.0726 - val_accuracy: 0.8439 - val_loss: 0.5251\n",
      "Epoch 44/500\n",
      "\u001B[1m26/26\u001B[0m \u001B[32m━━━━━━━━━━━━━━━━━━━━\u001B[0m\u001B[37m\u001B[0m \u001B[1m0s\u001B[0m 6ms/step - accuracy: 0.9876 - loss: 0.0538 - val_accuracy: 0.8301 - val_loss: 0.5360\n",
      "Epoch 45/500\n",
      "\u001B[1m26/26\u001B[0m \u001B[32m━━━━━━━━━━━━━━━━━━━━\u001B[0m\u001B[37m\u001B[0m \u001B[1m0s\u001B[0m 6ms/step - accuracy: 0.9882 - loss: 0.0483 - val_accuracy: 0.8445 - val_loss: 0.5407\n",
      "Epoch 46/500\n",
      "\u001B[1m26/26\u001B[0m \u001B[32m━━━━━━━━━━━━━━━━━━━━\u001B[0m\u001B[37m\u001B[0m \u001B[1m0s\u001B[0m 6ms/step - accuracy: 0.9890 - loss: 0.0498 - val_accuracy: 0.8453 - val_loss: 0.5551\n",
      "Epoch 47/500\n",
      "\u001B[1m26/26\u001B[0m \u001B[32m━━━━━━━━━━━━━━━━━━━━\u001B[0m\u001B[37m\u001B[0m \u001B[1m0s\u001B[0m 6ms/step - accuracy: 0.9865 - loss: 0.0517 - val_accuracy: 0.8519 - val_loss: 0.5736\n",
      "Epoch 48/500\n",
      "\u001B[1m26/26\u001B[0m \u001B[32m━━━━━━━━━━━━━━━━━━━━\u001B[0m\u001B[37m\u001B[0m \u001B[1m0s\u001B[0m 5ms/step - accuracy: 0.9929 - loss: 0.0411 - val_accuracy: 0.8496 - val_loss: 0.5812\n",
      "Epoch 49/500\n",
      "\u001B[1m26/26\u001B[0m \u001B[32m━━━━━━━━━━━━━━━━━━━━\u001B[0m\u001B[37m\u001B[0m \u001B[1m0s\u001B[0m 6ms/step - accuracy: 0.9891 - loss: 0.0428 - val_accuracy: 0.8158 - val_loss: 0.5720\n",
      "Epoch 50/500\n",
      "\u001B[1m26/26\u001B[0m \u001B[32m━━━━━━━━━━━━━━━━━━━━\u001B[0m\u001B[37m\u001B[0m \u001B[1m0s\u001B[0m 6ms/step - accuracy: 0.9905 - loss: 0.0410 - val_accuracy: 0.8144 - val_loss: 0.6004\n",
      "Epoch 51/500\n",
      "\u001B[1m26/26\u001B[0m \u001B[32m━━━━━━━━━━━━━━━━━━━━\u001B[0m\u001B[37m\u001B[0m \u001B[1m0s\u001B[0m 6ms/step - accuracy: 0.9918 - loss: 0.0398 - val_accuracy: 0.8258 - val_loss: 0.5961\n",
      "Epoch 52/500\n",
      "\u001B[1m26/26\u001B[0m \u001B[32m━━━━━━━━━━━━━━━━━━━━\u001B[0m\u001B[37m\u001B[0m \u001B[1m0s\u001B[0m 6ms/step - accuracy: 0.9913 - loss: 0.0344 - val_accuracy: 0.8474 - val_loss: 0.6034\n",
      "Epoch 53/500\n",
      "\u001B[1m26/26\u001B[0m \u001B[32m━━━━━━━━━━━━━━━━━━━━\u001B[0m\u001B[37m\u001B[0m \u001B[1m0s\u001B[0m 5ms/step - accuracy: 0.9847 - loss: 0.0431 - val_accuracy: 0.8647 - val_loss: 0.6721\n",
      "Epoch 54/500\n",
      "\u001B[1m26/26\u001B[0m \u001B[32m━━━━━━━━━━━━━━━━━━━━\u001B[0m\u001B[37m\u001B[0m \u001B[1m0s\u001B[0m 5ms/step - accuracy: 0.9795 - loss: 0.0545 - val_accuracy: 0.8511 - val_loss: 0.6268\n",
      "Epoch 55/500\n",
      "\u001B[1m26/26\u001B[0m \u001B[32m━━━━━━━━━━━━━━━━━━━━\u001B[0m\u001B[37m\u001B[0m \u001B[1m0s\u001B[0m 6ms/step - accuracy: 0.9938 - loss: 0.0286 - val_accuracy: 0.8482 - val_loss: 0.6294\n",
      "Epoch 56/500\n",
      "\u001B[1m26/26\u001B[0m \u001B[32m━━━━━━━━━━━━━━━━━━━━\u001B[0m\u001B[37m\u001B[0m \u001B[1m0s\u001B[0m 5ms/step - accuracy: 0.9919 - loss: 0.0294 - val_accuracy: 0.8439 - val_loss: 0.6394\n",
      "Epoch 57/500\n",
      "\u001B[1m26/26\u001B[0m \u001B[32m━━━━━━━━━━━━━━━━━━━━\u001B[0m\u001B[37m\u001B[0m \u001B[1m0s\u001B[0m 5ms/step - accuracy: 0.9907 - loss: 0.0310 - val_accuracy: 0.8374 - val_loss: 0.6505\n",
      "Epoch 58/500\n",
      "\u001B[1m26/26\u001B[0m \u001B[32m━━━━━━━━━━━━━━━━━━━━\u001B[0m\u001B[37m\u001B[0m \u001B[1m0s\u001B[0m 5ms/step - accuracy: 0.9958 - loss: 0.0266 - val_accuracy: 0.8562 - val_loss: 0.6741\n",
      "Epoch 59/500\n",
      "\u001B[1m26/26\u001B[0m \u001B[32m━━━━━━━━━━━━━━━━━━━━\u001B[0m\u001B[37m\u001B[0m \u001B[1m0s\u001B[0m 5ms/step - accuracy: 0.9942 - loss: 0.0286 - val_accuracy: 0.8403 - val_loss: 0.6693\n",
      "Epoch 60/500\n",
      "\u001B[1m26/26\u001B[0m \u001B[32m━━━━━━━━━━━━━━━━━━━━\u001B[0m\u001B[37m\u001B[0m \u001B[1m0s\u001B[0m 5ms/step - accuracy: 0.9930 - loss: 0.0315 - val_accuracy: 0.8337 - val_loss: 0.6759\n",
      "Epoch 61/500\n",
      "\u001B[1m26/26\u001B[0m \u001B[32m━━━━━━━━━━━━━━━━━━━━\u001B[0m\u001B[37m\u001B[0m \u001B[1m0s\u001B[0m 5ms/step - accuracy: 0.9934 - loss: 0.0246 - val_accuracy: 0.8295 - val_loss: 0.6819\n",
      "Epoch 62/500\n",
      "\u001B[1m26/26\u001B[0m \u001B[32m━━━━━━━━━━━━━━━━━━━━\u001B[0m\u001B[37m\u001B[0m \u001B[1m0s\u001B[0m 5ms/step - accuracy: 0.9933 - loss: 0.0289 - val_accuracy: 0.8344 - val_loss: 0.6764\n",
      "Epoch 63/500\n",
      "\u001B[1m26/26\u001B[0m \u001B[32m━━━━━━━━━━━━━━━━━━━━\u001B[0m\u001B[37m\u001B[0m \u001B[1m0s\u001B[0m 6ms/step - accuracy: 0.9954 - loss: 0.0217 - val_accuracy: 0.8453 - val_loss: 0.6970\n",
      "Epoch 64/500\n",
      "\u001B[1m26/26\u001B[0m \u001B[32m━━━━━━━━━━━━━━━━━━━━\u001B[0m\u001B[37m\u001B[0m \u001B[1m0s\u001B[0m 6ms/step - accuracy: 0.9940 - loss: 0.0250 - val_accuracy: 0.8468 - val_loss: 0.7067\n",
      "Epoch 65/500\n",
      "\u001B[1m26/26\u001B[0m \u001B[32m━━━━━━━━━━━━━━━━━━━━\u001B[0m\u001B[37m\u001B[0m \u001B[1m0s\u001B[0m 6ms/step - accuracy: 0.9904 - loss: 0.0310 - val_accuracy: 0.8258 - val_loss: 0.6929\n",
      "Epoch 66/500\n",
      "\u001B[1m26/26\u001B[0m \u001B[32m━━━━━━━━━━━━━━━━━━━━\u001B[0m\u001B[37m\u001B[0m \u001B[1m0s\u001B[0m 7ms/step - accuracy: 0.9938 - loss: 0.0233 - val_accuracy: 0.8295 - val_loss: 0.7167\n",
      "Epoch 67/500\n",
      "\u001B[1m26/26\u001B[0m \u001B[32m━━━━━━━━━━━━━━━━━━━━\u001B[0m\u001B[37m\u001B[0m \u001B[1m0s\u001B[0m 6ms/step - accuracy: 0.9940 - loss: 0.0215 - val_accuracy: 0.8144 - val_loss: 0.7053\n",
      "Epoch 68/500\n",
      "\u001B[1m26/26\u001B[0m \u001B[32m━━━━━━━━━━━━━━━━━━━━\u001B[0m\u001B[37m\u001B[0m \u001B[1m0s\u001B[0m 6ms/step - accuracy: 0.9929 - loss: 0.0235 - val_accuracy: 0.8619 - val_loss: 0.7542\n"
     ]
    },
    {
     "data": {
      "text/plain": "<keras_core.src.callbacks.history.History at 0x7fc335ef4790>"
     },
     "execution_count": 14,
     "metadata": {},
     "output_type": "execute_result"
    }
   ],
   "source": [
    "X_train, X_test, y_train, y_test = train_test_split(X, y, test_size=0.2, random_state=42)\n",
    "\n",
    "model = Sequential()\n",
    "model.add(Dense(128, input_dim=300, activation='relu'))\n",
    "model.add(Dense(64, activation='relu'))\n",
    "model.add(Dense(1, activation='sigmoid'))\n",
    "\n",
    "model.compile(loss='binary_crossentropy', optimizer='adam', metrics=['accuracy'])\n",
    "\n",
    "model.fit(X_train,\n",
    "          y_train,\n",
    "          epochs=500,\n",
    "          batch_size=100,\n",
    "          callbacks=[\n",
    "              early_stopping,\n",
    "              tensorboard_callback,\n",
    "          ],\n",
    "          validation_data=(X_test, y_test)\n",
    "          )"
   ],
   "metadata": {
    "collapsed": false,
    "ExecuteTime": {
     "end_time": "2024-06-13T10:02:59.775872500Z",
     "start_time": "2024-06-13T10:02:38.715941Z"
    }
   },
   "id": "c4cf876c5cbae2f2",
   "execution_count": 14
  },
  {
   "cell_type": "markdown",
   "source": [
    "# save model"
   ],
   "metadata": {
    "collapsed": false
   },
   "id": "e01ea87c7efc4af6"
  },
  {
   "cell_type": "code",
   "outputs": [],
   "source": [
    "model.save(model_weight_dst)"
   ],
   "metadata": {
    "collapsed": false,
    "ExecuteTime": {
     "end_time": "2024-06-13T11:16:13.382880600Z",
     "start_time": "2024-06-13T11:16:13.348180400Z"
    }
   },
   "id": "e0b9fbafea831f00",
   "execution_count": 24
  },
  {
   "cell_type": "markdown",
   "source": [
    "### testing with custom sentence"
   ],
   "metadata": {
    "collapsed": false
   },
   "id": "858f1dcf54daf1ee"
  },
  {
   "cell_type": "code",
   "outputs": [
    {
     "name": "stderr",
     "output_type": "stream",
     "text": [
      "/home/arys/miniconda3/envs/DEV_IA/lib/python3.10/site-packages/keras_core/src/saving/saving_lib.py:347: UserWarning: Skipping variable loading for optimizer 'rmsprop', because it has 8 variables whereas the saved optimizer has 14 variables. \n",
      "  trackable.load_own_variables(weights_store.get(inner_path))\n"
     ]
    }
   ],
   "source": [
    "new_model = load_model(model_weight_dst)"
   ],
   "metadata": {
    "collapsed": false,
    "ExecuteTime": {
     "end_time": "2024-06-13T11:18:06.865607500Z",
     "start_time": "2024-06-13T11:18:06.685517800Z"
    }
   },
   "id": "9082729f7fb73c8",
   "execution_count": 27
  },
  {
   "cell_type": "code",
   "outputs": [
    {
     "name": "stdout",
     "output_type": "stream",
     "text": [
      "nice output\n",
      "la bonjour je suis un type sympas : [[False]]\n",
      "hello ça va les gens : [[ True]]\n",
      "j'aime pas trop ce mec : [[ True]]\n",
      "cette meuf est cool : [[ True]]\n",
      "les meuf sont trop cool : [[ True]]\n",
      "les mecs sont des gens stylé : [[ True]]\n",
      "le mec est stylé : [[ True]]\n",
      "nan mais mon manager exagère quand il dit que je suis pas assez productif et que je travail pas assez, franchement il abuse : [[False]]\n",
      "les hommes cis sont toxiques pour la société car ils imposent leur vision paternaliste : [[ True]]\n",
      "Les hommes sont moins matures que les femmes quand il s'agit de prendre des décisions : [[ True]]\n",
      "\n",
      "\n",
      "not nice output\n",
      "regarde moi cette connasse : [[ True]]\n",
      "les femme leur place c'est à la cuisine : [[ True]]\n",
      "femme au volant, accident : [[ True]]\n",
      "les femmes on peux pas leur faire confiance : [[ True]]\n",
      "Pour une transphobe son passing est pas ouf : [[False]]\n",
      "Elle l’ouvre quand même beaucoup celle là pour quelqu’un qu’est pas capable d’éduquer ses enfants : [[ True]]\n",
      "Dis donc, c’est pas parce que t’es mal baisée que tu peux tout te permettre ???? : [[ True]]\n",
      "Moi ce que j’aime bien chez les filles comme toi c’est que t’es pas du genre prise de tête : [[ True]]\n",
      "les femmes c'est comme le fromage, quand elles puent c'est qu'elles sont bonnes : [[ True]]\n",
      "Oh les grosses tepus : [[ True]]\n",
      "Faut pas t'étonner si tu te fais violer vu comment t'es habillée : [[ True]]\n",
      "Tu deverais avoir des enfants maintenant avant que ce soit trop tard : [[ True]]\n",
      "Vous seriez une collaboratrice idéal pour notre entreprise, malheureusement nous cherchons quelqu’un disponible sur le long terme, et nous craignons qu’à votre âge des changements familiaux ne vous permettent plus de vous investir autant que besoins : [[ True]]\n"
     ]
    }
   ],
   "source": [
    "text_nice = [\n",
    "    \"la bonjour je suis un type sympas\", \n",
    "    \"hello ça va les gens\",\n",
    "    \"j'aime pas trop ce mec\",\n",
    "    \"cette meuf est cool\",\n",
    "    \"les meuf sont trop cool\",\n",
    "    \"les mecs sont des gens stylé\",\n",
    "    \"le mec est stylé\",\n",
    "    \"nan mais mon manager exagère quand il dit que je suis pas assez productif et que je travail pas assez, franchement il abuse\",\n",
    "    \"les hommes cis sont toxiques pour la société car ils imposent leur vision paternaliste\",\n",
    "    \"Les hommes sont moins matures que les femmes quand il s'agit de prendre des décisions\"\n",
    "    \n",
    "]\n",
    "\n",
    "text_no_nice = [\n",
    "    \"regarde moi cette connasse\",\n",
    "    \"les femme leur place c'est à la cuisine\",\n",
    "    \"femme au volant, accident\",\n",
    "    \"les femmes on peux pas leur faire confiance\",\n",
    "    \"Pour une transphobe son passing est pas ouf\",\n",
    "    \"Elle l’ouvre quand même beaucoup celle là pour quelqu’un qu’est pas capable d’éduquer ses enfants\",\n",
    "    \"Dis donc, c’est pas parce que t’es mal baisée que tu peux tout te permettre ????\",\n",
    "    \"Moi ce que j’aime bien chez les filles comme toi c’est que t’es pas du genre prise de tête\",\n",
    "    \"les femmes c'est comme le fromage, quand elles puent c'est qu'elles sont bonnes\",\n",
    "    \"Oh les grosses tepus\",\n",
    "    \"Faut pas t'étonner si tu te fais violer vu comment t'es habillée\",\n",
    "    \"Tu deverais avoir des enfants maintenant avant que ce soit trop tard\",\n",
    "    \"Vous seriez une collaboratrice idéal pour notre entreprise, malheureusement nous cherchons quelqu’un disponible sur le long terme, et nous craignons qu’à votre âge des changements familiaux ne vous permettent plus de vous investir autant que besoins\"\n",
    "]\n",
    "wordsvec_nice = [np.expand_dims(text_to_vector(text), axis=0) for text in text_nice]\n",
    "wordsvec_no_nice = [np.expand_dims(text_to_vector(text), axis=0) for text in text_no_nice]\n",
    "\n",
    "print(\"nice output\")\n",
    "for i in range(0, len(wordsvec_nice)):\n",
    "    prediction = new_model.predict(wordsvec_nice[i], verbose=False)\n",
    "    print(f\"{text_nice[i]} : {prediction > 0.0001}\")\n",
    "\n",
    "\n",
    "print(\"\\n\\nnot nice output\")\n",
    "for i in range(0, len(wordsvec_no_nice)):\n",
    "    prediction =  new_model.predict(wordsvec_no_nice[i], verbose=False)\n",
    "    print(f\"{text_no_nice[i]} : {prediction > 0.0001}\")"
   ],
   "metadata": {
    "collapsed": false,
    "ExecuteTime": {
     "end_time": "2024-06-13T11:18:34.676701400Z",
     "start_time": "2024-06-13T11:18:32.709185Z"
    }
   },
   "id": "be31f886c1e61d2",
   "execution_count": 28
  },
  {
   "cell_type": "code",
   "outputs": [],
   "source": [],
   "metadata": {
    "collapsed": false,
    "ExecuteTime": {
     "end_time": "2024-06-11T10:14:41.291904100Z",
     "start_time": "2024-06-11T10:14:41.279851800Z"
    }
   },
   "id": "eee4f2d23f45322e",
   "execution_count": 0
  },
  {
   "cell_type": "code",
   "outputs": [],
   "source": [],
   "metadata": {
    "collapsed": false
   },
   "id": "8c753464d73b3dba"
  }
 ],
 "metadata": {
  "kernelspec": {
   "display_name": "Python 3",
   "language": "python",
   "name": "python3"
  },
  "language_info": {
   "codemirror_mode": {
    "name": "ipython",
    "version": 2
   },
   "file_extension": ".py",
   "mimetype": "text/x-python",
   "name": "python",
   "nbconvert_exporter": "python",
   "pygments_lexer": "ipython2",
   "version": "2.7.6"
  }
 },
 "nbformat": 4,
 "nbformat_minor": 5
}
