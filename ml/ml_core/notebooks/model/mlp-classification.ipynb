{
 "cells": [
  {
   "cell_type": "code",
   "execution_count": 1,
   "id": "initial_id",
   "metadata": {
    "collapsed": false,
    "ExecuteTime": {
     "end_time": "2024-07-02T16:51:43.808531Z",
     "start_time": "2024-07-02T16:51:40.381023Z"
    }
   },
   "outputs": [
    {
     "name": "stdout",
     "output_type": "stream",
     "text": [
      "Using TensorFlow backend\n"
     ]
    },
    {
     "name": "stderr",
     "output_type": "stream",
     "text": [
      "2024-07-02 18:51:40.855657: E tensorflow/compiler/xla/stream_executor/cuda/cuda_dnn.cc:9342] Unable to register cuDNN factory: Attempting to register factory for plugin cuDNN when one has already been registered\n",
      "2024-07-02 18:51:40.855712: E tensorflow/compiler/xla/stream_executor/cuda/cuda_fft.cc:609] Unable to register cuFFT factory: Attempting to register factory for plugin cuFFT when one has already been registered\n",
      "2024-07-02 18:51:40.855731: E tensorflow/compiler/xla/stream_executor/cuda/cuda_blas.cc:1518] Unable to register cuBLAS factory: Attempting to register factory for plugin cuBLAS when one has already been registered\n",
      "2024-07-02 18:51:40.860936: I tensorflow/core/platform/cpu_feature_guard.cc:182] This TensorFlow binary is optimized to use available CPU instructions in performance-critical operations.\n",
      "To enable the following instructions: AVX2 FMA, in other operations, rebuild TensorFlow with the appropriate compiler flags.\n"
     ]
    }
   ],
   "source": [
    "import datetime\n",
    "\n",
    "import os\n",
    "\n",
    "os.getcwd()\n",
    "if '.git' not in os.listdir():\n",
    "    os.chdir('./../../../../')\n",
    "os.listdir()\n",
    "\n",
    "from ml.ml_core.src.core.model_factory import model_factory\n",
    "\n",
    "import keras_core as keras\n",
    "import numpy as np\n",
    "import tensorflow as tf\n",
    "from sklearn.model_selection import train_test_split\n",
    "from tensorboard.plugins.hparams import api as hp\n"
   ]
  },
  {
   "cell_type": "markdown",
   "id": "18856c657e08494f",
   "metadata": {
    "collapsed": false
   },
   "source": [
    "## Configurations"
   ]
  },
  {
   "cell_type": "code",
   "execution_count": 2,
   "id": "9574abd306005981",
   "metadata": {
    "collapsed": false,
    "ExecuteTime": {
     "end_time": "2024-07-02T16:51:43.813780Z",
     "start_time": "2024-07-02T16:51:43.810040Z"
    }
   },
   "outputs": [],
   "source": [
    "params_grid = {\n",
    "    \"model\": \"mlp\",\n",
    "    \"embedder\": \"cambert\",\n",
    "    \"embedding_data\": \"almanach-camembert-base\",\n",
    "    \"dataset\": \"fr_hf.csv\",\n",
    "    \"batch_size\": 500\n",
    "}"
   ]
  },
  {
   "cell_type": "code",
   "execution_count": 3,
   "id": "d220a1d10493404e",
   "metadata": {
    "collapsed": false,
    "ExecuteTime": {
     "end_time": "2024-07-02T16:51:43.828111Z",
     "start_time": "2024-07-02T16:51:43.815304Z"
    }
   },
   "outputs": [],
   "source": [
    "data_folder_src = 'ml/ml_core/data/processed/'\n",
    "ml_core_folder_path = 'ml/ml_core/'\n",
    "data_path_src = f'{data_folder_src}{params_grid[\"dataset\"]}'\n",
    "date_str = datetime.datetime.now().strftime(\"%Y%m%d-%H%M%S\")\n",
    "experiment_name = f'deepwoke_{params_grid[\"embedder\"]}_{params_grid[\"model\"]}_{params_grid[\"dataset\"]}_{date_str}'\n",
    "\n",
    "log_dir = f\"{ml_core_folder_path}log/fit/{experiment_name}\"\n",
    "model_weight_dst = f'{ml_core_folder_path}model_weights/{experiment_name}-model.keras'"
   ]
  },
  {
   "cell_type": "code",
   "execution_count": 4,
   "id": "63bc5b9857e00e2f",
   "metadata": {
    "collapsed": false,
    "ExecuteTime": {
     "end_time": "2024-07-02T16:51:43.846277Z",
     "start_time": "2024-07-02T16:51:43.830328Z"
    }
   },
   "outputs": [],
   "source": [
    "\n",
    "vector_path = f'{ml_core_folder_path}embedded_vector/{params_grid[\"embedding_data\"]}_{params_grid[\"dataset\"]}'\n",
    "vector_x_dst = f'{vector_path}.x.npy'\n",
    "vector_y_dst = f'{vector_path}.y.npy'"
   ]
  },
  {
   "cell_type": "markdown",
   "id": "5d4209390b020a7",
   "metadata": {
    "collapsed": false
   },
   "source": [
    "# loading dataset"
   ]
  },
  {
   "cell_type": "code",
   "execution_count": 5,
   "id": "cda597a675bb1ba2",
   "metadata": {
    "collapsed": false,
    "ExecuteTime": {
     "end_time": "2024-07-02T16:51:43.977648Z",
     "start_time": "2024-07-02T16:51:43.847675Z"
    }
   },
   "outputs": [
    {
     "data": {
      "text/plain": "array([[ 0.04516848,  0.00071256,  0.03566859, ..., -0.09981904,\n         0.03075864,  0.00900592],\n       [ 0.01784509,  0.02990518,  0.07172755, ..., -0.08148439,\n         0.05451308, -0.02512601],\n       [ 0.03016657, -0.02432093,  0.12849346, ..., -0.07501146,\n         0.06209692, -0.0390623 ],\n       ...,\n       [-0.07429342,  0.10049191,  0.09828879, ..., -0.06469899,\n        -0.02038792, -0.01266516],\n       [-0.06795738,  0.24448358,  0.12595129, ..., -0.06591158,\n        -0.03617626, -0.05148328],\n       [-0.0298334 ,  0.15611339,  0.14951393, ..., -0.09735298,\n        -0.0018647 , -0.03475789]], dtype=float32)"
     },
     "execution_count": 5,
     "metadata": {},
     "output_type": "execute_result"
    }
   ],
   "source": [
    "X = np.load(vector_x_dst)\n",
    "y = np.load(vector_y_dst)\n",
    "X"
   ]
  },
  {
   "cell_type": "markdown",
   "source": [
    "# Model"
   ],
   "metadata": {
    "collapsed": false
   },
   "id": "a2adf4c59ca51d9c"
  },
  {
   "cell_type": "markdown",
   "id": "5c8ac62597164bde",
   "metadata": {
    "collapsed": false
   },
   "source": [
    "## callbacks"
   ]
  },
  {
   "cell_type": "code",
   "execution_count": 6,
   "id": "336209aae383296f",
   "metadata": {
    "collapsed": false,
    "ExecuteTime": {
     "end_time": "2024-07-02T16:51:43.982351Z",
     "start_time": "2024-07-02T16:51:43.979195Z"
    }
   },
   "outputs": [],
   "source": [
    "early_stopping = keras.callbacks.EarlyStopping(\n",
    "    patience=10,\n",
    "    min_delta=0.001,\n",
    "    restore_best_weights=True,\n",
    "    monitor='loss'\n",
    ")\n"
   ]
  },
  {
   "cell_type": "code",
   "execution_count": 7,
   "id": "9f93ecb4efe31443",
   "metadata": {
    "collapsed": false,
    "ExecuteTime": {
     "end_time": "2024-07-02T16:51:43.997570Z",
     "start_time": "2024-07-02T16:51:43.983792Z"
    }
   },
   "outputs": [],
   "source": [
    "\n",
    "class EarlyStoppingLogging(keras.callbacks.Callback):\n",
    "    def __init__(self, early_stopping_callback, log_dir):\n",
    "        super().__init__()\n",
    "        self.early_stopping = early_stopping_callback\n",
    "        self.stopped_epoch = 0\n",
    "        self.writer = tf.summary.create_file_writer(log_dir)\n",
    "\n",
    "    def on_epoch_end(self, epoch, logs=None):\n",
    "        if self.early_stopping.stopped_epoch > 0:\n",
    "            self.stopped_epoch = self.early_stopping.stopped_epoch\n",
    "            with self.writer.as_default():\n",
    "                tf.summary.scalar('early_stopping_epoch', self.stopped_epoch, step=epoch)\n",
    "                self.writer.flush()\n"
   ]
  },
  {
   "cell_type": "code",
   "execution_count": 8,
   "id": "7ec43b4117399510",
   "metadata": {
    "collapsed": false,
    "ExecuteTime": {
     "end_time": "2024-07-02T16:51:44.217443Z",
     "start_time": "2024-07-02T16:51:43.998989Z"
    }
   },
   "outputs": [
    {
     "name": "stderr",
     "output_type": "stream",
     "text": [
      "2024-07-02 18:51:44.059886: I tensorflow/compiler/xla/stream_executor/cuda/cuda_gpu_executor.cc:880] could not open file to read NUMA node: /sys/bus/pci/devices/0000:01:00.0/numa_node\n",
      "Your kernel may have been built without NUMA support.\n",
      "2024-07-02 18:51:44.100747: I tensorflow/compiler/xla/stream_executor/cuda/cuda_gpu_executor.cc:880] could not open file to read NUMA node: /sys/bus/pci/devices/0000:01:00.0/numa_node\n",
      "Your kernel may have been built without NUMA support.\n",
      "2024-07-02 18:51:44.100787: I tensorflow/compiler/xla/stream_executor/cuda/cuda_gpu_executor.cc:880] could not open file to read NUMA node: /sys/bus/pci/devices/0000:01:00.0/numa_node\n",
      "Your kernel may have been built without NUMA support.\n",
      "2024-07-02 18:51:44.103447: I tensorflow/compiler/xla/stream_executor/cuda/cuda_gpu_executor.cc:880] could not open file to read NUMA node: /sys/bus/pci/devices/0000:01:00.0/numa_node\n",
      "Your kernel may have been built without NUMA support.\n",
      "2024-07-02 18:51:44.103482: I tensorflow/compiler/xla/stream_executor/cuda/cuda_gpu_executor.cc:880] could not open file to read NUMA node: /sys/bus/pci/devices/0000:01:00.0/numa_node\n",
      "Your kernel may have been built without NUMA support.\n",
      "2024-07-02 18:51:44.103499: I tensorflow/compiler/xla/stream_executor/cuda/cuda_gpu_executor.cc:880] could not open file to read NUMA node: /sys/bus/pci/devices/0000:01:00.0/numa_node\n",
      "Your kernel may have been built without NUMA support.\n",
      "2024-07-02 18:51:44.202088: I tensorflow/compiler/xla/stream_executor/cuda/cuda_gpu_executor.cc:880] could not open file to read NUMA node: /sys/bus/pci/devices/0000:01:00.0/numa_node\n",
      "Your kernel may have been built without NUMA support.\n",
      "2024-07-02 18:51:44.202132: I tensorflow/compiler/xla/stream_executor/cuda/cuda_gpu_executor.cc:880] could not open file to read NUMA node: /sys/bus/pci/devices/0000:01:00.0/numa_node\n",
      "Your kernel may have been built without NUMA support.\n",
      "2024-07-02 18:51:44.202138: I tensorflow/core/common_runtime/gpu/gpu_device.cc:1977] Could not identify NUMA node of platform GPU id 0, defaulting to 0.  Your kernel may not have been built with NUMA support.\n",
      "2024-07-02 18:51:44.202163: I tensorflow/compiler/xla/stream_executor/cuda/cuda_gpu_executor.cc:880] could not open file to read NUMA node: /sys/bus/pci/devices/0000:01:00.0/numa_node\n",
      "Your kernel may have been built without NUMA support.\n",
      "2024-07-02 18:51:44.202180: I tensorflow/core/common_runtime/gpu/gpu_device.cc:1886] Created device /job:localhost/replica:0/task:0/device:GPU:0 with 7537 MB memory:  -> device: 0, name: NVIDIA GeForce RTX 3080, pci bus id: 0000:01:00.0, compute capability: 8.6\n"
     ]
    }
   ],
   "source": [
    "tensorboard_callback = keras.callbacks.TensorBoard(log_dir=log_dir, histogram_freq=1)\n",
    "early_stopping_logging_callback = EarlyStoppingLogging(early_stopping, log_dir)"
   ]
  },
  {
   "cell_type": "code",
   "execution_count": 9,
   "id": "3f3d46724d8e5aa1",
   "metadata": {
    "collapsed": false,
    "ExecuteTime": {
     "end_time": "2024-07-02T16:51:44.222550Z",
     "start_time": "2024-07-02T16:51:44.218782Z"
    }
   },
   "outputs": [],
   "source": [
    "callback = [\n",
    "    early_stopping,\n",
    "    tensorboard_callback,\n",
    "    hp.KerasCallback(log_dir, params_grid),\n",
    "    early_stopping_logging_callback,\n",
    "]"
   ]
  },
  {
   "cell_type": "markdown",
   "id": "9dec354f696f24a9",
   "metadata": {
    "collapsed": false
   },
   "source": [
    "### training the model"
   ]
  },
  {
   "cell_type": "code",
   "execution_count": 10,
   "id": "c4cf876c5cbae2f2",
   "metadata": {
    "collapsed": false,
    "ExecuteTime": {
     "end_time": "2024-07-02T16:51:44.604013Z",
     "start_time": "2024-07-02T16:51:44.225056Z"
    }
   },
   "outputs": [
    {
     "name": "stdout",
     "output_type": "stream",
     "text": [
      "(16263, 768) 1\n",
      "<bound method Model.summary of <Functional name=functional_1, built=True>>\n"
     ]
    }
   ],
   "source": [
    "\n",
    "X_train, X_test, y_train, y_test = train_test_split(X, y, test_size=0.1, random_state=42)\n",
    "\n",
    "model = model_factory(params_grid['model'], X_train.shape, 1)\n",
    "print(model.summary)\n",
    "\n",
    "tf.compat.v1.global_variables_initializer()"
   ]
  },
  {
   "cell_type": "code",
   "outputs": [
    {
     "name": "stdout",
     "output_type": "stream",
     "text": [
      "Epoch 1/500\n"
     ]
    },
    {
     "name": "stderr",
     "output_type": "stream",
     "text": [
      "2024-07-02 18:51:47.275644: I tensorflow/compiler/xla/service/service.cc:168] XLA service 0x7f7fcc00ce90 initialized for platform CUDA (this does not guarantee that XLA will be used). Devices:\n",
      "2024-07-02 18:51:47.275688: I tensorflow/compiler/xla/service/service.cc:176]   StreamExecutor device (0): NVIDIA GeForce RTX 3080, Compute Capability 8.6\n",
      "2024-07-02 18:51:47.302902: I tensorflow/compiler/mlir/tensorflow/utils/dump_mlir_util.cc:269] disabling MLIR crash reproducer, set env var `MLIR_CRASH_REPRODUCER_DIRECTORY` to enable.\n",
      "2024-07-02 18:51:47.562104: I tensorflow/compiler/xla/stream_executor/cuda/cuda_dnn.cc:442] Loaded cuDNN version 8700\n"
     ]
    },
    {
     "name": "stdout",
     "output_type": "stream",
     "text": [
      "\u001B[1m17/33\u001B[0m \u001B[32m━━━━━━━━━━\u001B[0m\u001B[37m━━━━━━━━━━\u001B[0m \u001B[1m0s\u001B[0m 3ms/step - accuracy: 0.7663 - loss: 0.5940         "
     ]
    },
    {
     "name": "stderr",
     "output_type": "stream",
     "text": [
      "2024-07-02 18:51:49.539517: I ./tensorflow/compiler/jit/device_compiler.h:186] Compiled cluster using XLA!  This line is logged at most once for the lifetime of the process.\n"
     ]
    },
    {
     "name": "stdout",
     "output_type": "stream",
     "text": [
      "\u001B[1m33/33\u001B[0m \u001B[32m━━━━━━━━━━━━━━━━━━━━\u001B[0m\u001B[37m\u001B[0m \u001B[1m7s\u001B[0m 83ms/step - accuracy: 0.7620 - loss: 0.5789 - val_accuracy: 0.7575 - val_loss: 0.5320\n",
      "Epoch 2/500\n",
      "\u001B[1m33/33\u001B[0m \u001B[32m━━━━━━━━━━━━━━━━━━━━\u001B[0m\u001B[37m\u001B[0m \u001B[1m0s\u001B[0m 9ms/step - accuracy: 0.7580 - loss: 0.5209 - val_accuracy: 0.7626 - val_loss: 0.4865\n",
      "Epoch 3/500\n",
      "\u001B[1m33/33\u001B[0m \u001B[32m━━━━━━━━━━━━━━━━━━━━\u001B[0m\u001B[37m\u001B[0m \u001B[1m0s\u001B[0m 7ms/step - accuracy: 0.7780 - loss: 0.4729 - val_accuracy: 0.7932 - val_loss: 0.4449\n",
      "Epoch 4/500\n",
      "\u001B[1m33/33\u001B[0m \u001B[32m━━━━━━━━━━━━━━━━━━━━\u001B[0m\u001B[37m\u001B[0m \u001B[1m0s\u001B[0m 7ms/step - accuracy: 0.7984 - loss: 0.4448 - val_accuracy: 0.8080 - val_loss: 0.4239\n",
      "Epoch 5/500\n",
      "\u001B[1m33/33\u001B[0m \u001B[32m━━━━━━━━━━━━━━━━━━━━\u001B[0m\u001B[37m\u001B[0m \u001B[1m0s\u001B[0m 8ms/step - accuracy: 0.7990 - loss: 0.4391 - val_accuracy: 0.8160 - val_loss: 0.4142\n",
      "Epoch 6/500\n",
      "\u001B[1m33/33\u001B[0m \u001B[32m━━━━━━━━━━━━━━━━━━━━\u001B[0m\u001B[37m\u001B[0m \u001B[1m0s\u001B[0m 7ms/step - accuracy: 0.8082 - loss: 0.4279 - val_accuracy: 0.8202 - val_loss: 0.4053\n",
      "Epoch 7/500\n",
      "\u001B[1m33/33\u001B[0m \u001B[32m━━━━━━━━━━━━━━━━━━━━\u001B[0m\u001B[37m\u001B[0m \u001B[1m0s\u001B[0m 7ms/step - accuracy: 0.8146 - loss: 0.4136 - val_accuracy: 0.8173 - val_loss: 0.4021\n",
      "Epoch 8/500\n",
      "\u001B[1m33/33\u001B[0m \u001B[32m━━━━━━━━━━━━━━━━━━━━\u001B[0m\u001B[37m\u001B[0m \u001B[1m0s\u001B[0m 7ms/step - accuracy: 0.8217 - loss: 0.4027 - val_accuracy: 0.8299 - val_loss: 0.3956\n",
      "Epoch 9/500\n",
      "\u001B[1m33/33\u001B[0m \u001B[32m━━━━━━━━━━━━━━━━━━━━\u001B[0m\u001B[37m\u001B[0m \u001B[1m0s\u001B[0m 9ms/step - accuracy: 0.8235 - loss: 0.3946 - val_accuracy: 0.8370 - val_loss: 0.3905\n",
      "Epoch 10/500\n",
      "\u001B[1m33/33\u001B[0m \u001B[32m━━━━━━━━━━━━━━━━━━━━\u001B[0m\u001B[37m\u001B[0m \u001B[1m0s\u001B[0m 7ms/step - accuracy: 0.8279 - loss: 0.3906 - val_accuracy: 0.8299 - val_loss: 0.3909\n",
      "Epoch 11/500\n",
      "\u001B[1m33/33\u001B[0m \u001B[32m━━━━━━━━━━━━━━━━━━━━\u001B[0m\u001B[37m\u001B[0m \u001B[1m0s\u001B[0m 7ms/step - accuracy: 0.8290 - loss: 0.3853 - val_accuracy: 0.8330 - val_loss: 0.3849\n",
      "Epoch 12/500\n",
      "\u001B[1m33/33\u001B[0m \u001B[32m━━━━━━━━━━━━━━━━━━━━\u001B[0m\u001B[37m\u001B[0m \u001B[1m0s\u001B[0m 7ms/step - accuracy: 0.8363 - loss: 0.3743 - val_accuracy: 0.8319 - val_loss: 0.3854\n",
      "Epoch 13/500\n",
      "\u001B[1m33/33\u001B[0m \u001B[32m━━━━━━━━━━━━━━━━━━━━\u001B[0m\u001B[37m\u001B[0m \u001B[1m0s\u001B[0m 7ms/step - accuracy: 0.8368 - loss: 0.3750 - val_accuracy: 0.8345 - val_loss: 0.3787\n",
      "Epoch 14/500\n",
      "\u001B[1m33/33\u001B[0m \u001B[32m━━━━━━━━━━━━━━━━━━━━\u001B[0m\u001B[37m\u001B[0m \u001B[1m0s\u001B[0m 7ms/step - accuracy: 0.8389 - loss: 0.3698 - val_accuracy: 0.8428 - val_loss: 0.3740\n",
      "Epoch 15/500\n",
      "\u001B[1m33/33\u001B[0m \u001B[32m━━━━━━━━━━━━━━━━━━━━\u001B[0m\u001B[37m\u001B[0m \u001B[1m0s\u001B[0m 8ms/step - accuracy: 0.8435 - loss: 0.3632 - val_accuracy: 0.8058 - val_loss: 0.4201\n",
      "Epoch 16/500\n",
      "\u001B[1m33/33\u001B[0m \u001B[32m━━━━━━━━━━━━━━━━━━━━\u001B[0m\u001B[37m\u001B[0m \u001B[1m0s\u001B[0m 8ms/step - accuracy: 0.8406 - loss: 0.3761 - val_accuracy: 0.8392 - val_loss: 0.3779\n",
      "Epoch 17/500\n",
      "\u001B[1m33/33\u001B[0m \u001B[32m━━━━━━━━━━━━━━━━━━━━\u001B[0m\u001B[37m\u001B[0m \u001B[1m0s\u001B[0m 9ms/step - accuracy: 0.8464 - loss: 0.3581 - val_accuracy: 0.8454 - val_loss: 0.3702\n",
      "Epoch 18/500\n",
      "\u001B[1m33/33\u001B[0m \u001B[32m━━━━━━━━━━━━━━━━━━━━\u001B[0m\u001B[37m\u001B[0m \u001B[1m0s\u001B[0m 8ms/step - accuracy: 0.8452 - loss: 0.3600 - val_accuracy: 0.8405 - val_loss: 0.3774\n",
      "Epoch 19/500\n",
      "\u001B[1m33/33\u001B[0m \u001B[32m━━━━━━━━━━━━━━━━━━━━\u001B[0m\u001B[37m\u001B[0m \u001B[1m0s\u001B[0m 8ms/step - accuracy: 0.8509 - loss: 0.3472 - val_accuracy: 0.8465 - val_loss: 0.3683\n",
      "Epoch 20/500\n",
      "\u001B[1m33/33\u001B[0m \u001B[32m━━━━━━━━━━━━━━━━━━━━\u001B[0m\u001B[37m\u001B[0m \u001B[1m0s\u001B[0m 7ms/step - accuracy: 0.8560 - loss: 0.3443 - val_accuracy: 0.8371 - val_loss: 0.3684\n",
      "Epoch 21/500\n",
      "\u001B[1m33/33\u001B[0m \u001B[32m━━━━━━━━━━━━━━━━━━━━\u001B[0m\u001B[37m\u001B[0m \u001B[1m0s\u001B[0m 8ms/step - accuracy: 0.8577 - loss: 0.3395 - val_accuracy: 0.8442 - val_loss: 0.3704\n",
      "Epoch 22/500\n",
      "\u001B[1m33/33\u001B[0m \u001B[32m━━━━━━━━━━━━━━━━━━━━\u001B[0m\u001B[37m\u001B[0m \u001B[1m0s\u001B[0m 7ms/step - accuracy: 0.8557 - loss: 0.3446 - val_accuracy: 0.8442 - val_loss: 0.3713\n",
      "Epoch 23/500\n",
      "\u001B[1m33/33\u001B[0m \u001B[32m━━━━━━━━━━━━━━━━━━━━\u001B[0m\u001B[37m\u001B[0m \u001B[1m0s\u001B[0m 7ms/step - accuracy: 0.8559 - loss: 0.3438 - val_accuracy: 0.8293 - val_loss: 0.3855\n",
      "Epoch 24/500\n",
      "\u001B[1m33/33\u001B[0m \u001B[32m━━━━━━━━━━━━━━━━━━━━\u001B[0m\u001B[37m\u001B[0m \u001B[1m0s\u001B[0m 7ms/step - accuracy: 0.8537 - loss: 0.3449 - val_accuracy: 0.8368 - val_loss: 0.3691\n",
      "Epoch 25/500\n",
      "\u001B[1m33/33\u001B[0m \u001B[32m━━━━━━━━━━━━━━━━━━━━\u001B[0m\u001B[37m\u001B[0m \u001B[1m0s\u001B[0m 8ms/step - accuracy: 0.8548 - loss: 0.3368 - val_accuracy: 0.8219 - val_loss: 0.3886\n",
      "Epoch 26/500\n",
      "\u001B[1m33/33\u001B[0m \u001B[32m━━━━━━━━━━━━━━━━━━━━\u001B[0m\u001B[37m\u001B[0m \u001B[1m0s\u001B[0m 9ms/step - accuracy: 0.8572 - loss: 0.3340 - val_accuracy: 0.8485 - val_loss: 0.3634\n",
      "Epoch 27/500\n",
      "\u001B[1m33/33\u001B[0m \u001B[32m━━━━━━━━━━━━━━━━━━━━\u001B[0m\u001B[37m\u001B[0m \u001B[1m0s\u001B[0m 8ms/step - accuracy: 0.8625 - loss: 0.3270 - val_accuracy: 0.8465 - val_loss: 0.3691\n",
      "Epoch 28/500\n",
      "\u001B[1m33/33\u001B[0m \u001B[32m━━━━━━━━━━━━━━━━━━━━\u001B[0m\u001B[37m\u001B[0m \u001B[1m0s\u001B[0m 8ms/step - accuracy: 0.8629 - loss: 0.3248 - val_accuracy: 0.8394 - val_loss: 0.3668\n",
      "Epoch 29/500\n",
      "\u001B[1m33/33\u001B[0m \u001B[32m━━━━━━━━━━━━━━━━━━━━\u001B[0m\u001B[37m\u001B[0m \u001B[1m0s\u001B[0m 8ms/step - accuracy: 0.8708 - loss: 0.3126 - val_accuracy: 0.8416 - val_loss: 0.3724\n",
      "Epoch 30/500\n",
      "\u001B[1m33/33\u001B[0m \u001B[32m━━━━━━━━━━━━━━━━━━━━\u001B[0m\u001B[37m\u001B[0m \u001B[1m0s\u001B[0m 8ms/step - accuracy: 0.8682 - loss: 0.3171 - val_accuracy: 0.8357 - val_loss: 0.3649\n",
      "Epoch 31/500\n",
      "\u001B[1m33/33\u001B[0m \u001B[32m━━━━━━━━━━━━━━━━━━━━\u001B[0m\u001B[37m\u001B[0m \u001B[1m0s\u001B[0m 8ms/step - accuracy: 0.8674 - loss: 0.3168 - val_accuracy: 0.8394 - val_loss: 0.3702\n",
      "Epoch 32/500\n",
      "\u001B[1m33/33\u001B[0m \u001B[32m━━━━━━━━━━━━━━━━━━━━\u001B[0m\u001B[37m\u001B[0m \u001B[1m0s\u001B[0m 8ms/step - accuracy: 0.8733 - loss: 0.3080 - val_accuracy: 0.8354 - val_loss: 0.3762\n",
      "Epoch 33/500\n",
      "\u001B[1m33/33\u001B[0m \u001B[32m━━━━━━━━━━━━━━━━━━━━\u001B[0m\u001B[37m\u001B[0m \u001B[1m0s\u001B[0m 8ms/step - accuracy: 0.8666 - loss: 0.3144 - val_accuracy: 0.8355 - val_loss: 0.3705\n",
      "Epoch 34/500\n",
      "\u001B[1m33/33\u001B[0m \u001B[32m━━━━━━━━━━━━━━━━━━━━\u001B[0m\u001B[37m\u001B[0m \u001B[1m0s\u001B[0m 7ms/step - accuracy: 0.8756 - loss: 0.3014 - val_accuracy: 0.8355 - val_loss: 0.3798\n",
      "Epoch 35/500\n",
      "\u001B[1m33/33\u001B[0m \u001B[32m━━━━━━━━━━━━━━━━━━━━\u001B[0m\u001B[37m\u001B[0m \u001B[1m0s\u001B[0m 8ms/step - accuracy: 0.8735 - loss: 0.3130 - val_accuracy: 0.8318 - val_loss: 0.3823\n",
      "Epoch 36/500\n",
      "\u001B[1m33/33\u001B[0m \u001B[32m━━━━━━━━━━━━━━━━━━━━\u001B[0m\u001B[37m\u001B[0m \u001B[1m0s\u001B[0m 8ms/step - accuracy: 0.8769 - loss: 0.2975 - val_accuracy: 0.8345 - val_loss: 0.3761\n",
      "Epoch 37/500\n",
      "\u001B[1m33/33\u001B[0m \u001B[32m━━━━━━━━━━━━━━━━━━━━\u001B[0m\u001B[37m\u001B[0m \u001B[1m0s\u001B[0m 9ms/step - accuracy: 0.8822 - loss: 0.2924 - val_accuracy: 0.8397 - val_loss: 0.3811\n",
      "Epoch 38/500\n",
      "\u001B[1m33/33\u001B[0m \u001B[32m━━━━━━━━━━━━━━━━━━━━\u001B[0m\u001B[37m\u001B[0m \u001B[1m0s\u001B[0m 9ms/step - accuracy: 0.8844 - loss: 0.2819 - val_accuracy: 0.8414 - val_loss: 0.3721\n",
      "Epoch 39/500\n",
      "\u001B[1m33/33\u001B[0m \u001B[32m━━━━━━━━━━━━━━━━━━━━\u001B[0m\u001B[37m\u001B[0m \u001B[1m0s\u001B[0m 8ms/step - accuracy: 0.8836 - loss: 0.2848 - val_accuracy: 0.8355 - val_loss: 0.3779\n",
      "Epoch 40/500\n",
      "\u001B[1m33/33\u001B[0m \u001B[32m━━━━━━━━━━━━━━━━━━━━\u001B[0m\u001B[37m\u001B[0m \u001B[1m0s\u001B[0m 9ms/step - accuracy: 0.8840 - loss: 0.2890 - val_accuracy: 0.8369 - val_loss: 0.4055\n",
      "Epoch 41/500\n",
      "\u001B[1m33/33\u001B[0m \u001B[32m━━━━━━━━━━━━━━━━━━━━\u001B[0m\u001B[37m\u001B[0m \u001B[1m0s\u001B[0m 9ms/step - accuracy: 0.8855 - loss: 0.2836 - val_accuracy: 0.8341 - val_loss: 0.3785\n",
      "Epoch 42/500\n",
      "\u001B[1m33/33\u001B[0m \u001B[32m━━━━━━━━━━━━━━━━━━━━\u001B[0m\u001B[37m\u001B[0m \u001B[1m0s\u001B[0m 8ms/step - accuracy: 0.8928 - loss: 0.2749 - val_accuracy: 0.8382 - val_loss: 0.4013\n",
      "Epoch 43/500\n",
      "\u001B[1m33/33\u001B[0m \u001B[32m━━━━━━━━━━━━━━━━━━━━\u001B[0m\u001B[37m\u001B[0m \u001B[1m0s\u001B[0m 8ms/step - accuracy: 0.8834 - loss: 0.2842 - val_accuracy: 0.8354 - val_loss: 0.3895\n",
      "Epoch 44/500\n",
      "\u001B[1m33/33\u001B[0m \u001B[32m━━━━━━━━━━━━━━━━━━━━\u001B[0m\u001B[37m\u001B[0m \u001B[1m0s\u001B[0m 7ms/step - accuracy: 0.8928 - loss: 0.2739 - val_accuracy: 0.8366 - val_loss: 0.3820\n",
      "Epoch 45/500\n",
      "\u001B[1m33/33\u001B[0m \u001B[32m━━━━━━━━━━━━━━━━━━━━\u001B[0m\u001B[37m\u001B[0m \u001B[1m0s\u001B[0m 8ms/step - accuracy: 0.8918 - loss: 0.2747 - val_accuracy: 0.8290 - val_loss: 0.3883\n",
      "Epoch 46/500\n",
      "\u001B[1m33/33\u001B[0m \u001B[32m━━━━━━━━━━━━━━━━━━━━\u001B[0m\u001B[37m\u001B[0m \u001B[1m0s\u001B[0m 7ms/step - accuracy: 0.8919 - loss: 0.2678 - val_accuracy: 0.8238 - val_loss: 0.4203\n",
      "Epoch 47/500\n",
      "\u001B[1m33/33\u001B[0m \u001B[32m━━━━━━━━━━━━━━━━━━━━\u001B[0m\u001B[37m\u001B[0m \u001B[1m0s\u001B[0m 7ms/step - accuracy: 0.8869 - loss: 0.2781 - val_accuracy: 0.8273 - val_loss: 0.4098\n",
      "Epoch 48/500\n",
      "\u001B[1m33/33\u001B[0m \u001B[32m━━━━━━━━━━━━━━━━━━━━\u001B[0m\u001B[37m\u001B[0m \u001B[1m0s\u001B[0m 8ms/step - accuracy: 0.8872 - loss: 0.2813 - val_accuracy: 0.8302 - val_loss: 0.3984\n",
      "Epoch 49/500\n",
      "\u001B[1m33/33\u001B[0m \u001B[32m━━━━━━━━━━━━━━━━━━━━\u001B[0m\u001B[37m\u001B[0m \u001B[1m0s\u001B[0m 8ms/step - accuracy: 0.8951 - loss: 0.2623 - val_accuracy: 0.8285 - val_loss: 0.4056\n",
      "Epoch 50/500\n",
      "\u001B[1m33/33\u001B[0m \u001B[32m━━━━━━━━━━━━━━━━━━━━\u001B[0m\u001B[37m\u001B[0m \u001B[1m0s\u001B[0m 8ms/step - accuracy: 0.9001 - loss: 0.2521 - val_accuracy: 0.8308 - val_loss: 0.4194\n",
      "Epoch 51/500\n",
      "\u001B[1m33/33\u001B[0m \u001B[32m━━━━━━━━━━━━━━━━━━━━\u001B[0m\u001B[37m\u001B[0m \u001B[1m0s\u001B[0m 8ms/step - accuracy: 0.9030 - loss: 0.2504 - val_accuracy: 0.8354 - val_loss: 0.3943\n",
      "Epoch 52/500\n",
      "\u001B[1m33/33\u001B[0m \u001B[32m━━━━━━━━━━━━━━━━━━━━\u001B[0m\u001B[37m\u001B[0m \u001B[1m0s\u001B[0m 8ms/step - accuracy: 0.9025 - loss: 0.2493 - val_accuracy: 0.8364 - val_loss: 0.4083\n",
      "Epoch 53/500\n",
      "\u001B[1m33/33\u001B[0m \u001B[32m━━━━━━━━━━━━━━━━━━━━\u001B[0m\u001B[37m\u001B[0m \u001B[1m0s\u001B[0m 8ms/step - accuracy: 0.9060 - loss: 0.2402 - val_accuracy: 0.8329 - val_loss: 0.3884\n",
      "Epoch 54/500\n",
      "\u001B[1m33/33\u001B[0m \u001B[32m━━━━━━━━━━━━━━━━━━━━\u001B[0m\u001B[37m\u001B[0m \u001B[1m0s\u001B[0m 7ms/step - accuracy: 0.9024 - loss: 0.2485 - val_accuracy: 0.8356 - val_loss: 0.4107\n",
      "Epoch 55/500\n",
      "\u001B[1m33/33\u001B[0m \u001B[32m━━━━━━━━━━━━━━━━━━━━\u001B[0m\u001B[37m\u001B[0m \u001B[1m0s\u001B[0m 7ms/step - accuracy: 0.9044 - loss: 0.2429 - val_accuracy: 0.8337 - val_loss: 0.4320\n",
      "Epoch 56/500\n",
      "\u001B[1m33/33\u001B[0m \u001B[32m━━━━━━━━━━━━━━━━━━━━\u001B[0m\u001B[37m\u001B[0m \u001B[1m0s\u001B[0m 8ms/step - accuracy: 0.9059 - loss: 0.2412 - val_accuracy: 0.8368 - val_loss: 0.3952\n",
      "Epoch 57/500\n",
      "\u001B[1m33/33\u001B[0m \u001B[32m━━━━━━━━━━━━━━━━━━━━\u001B[0m\u001B[37m\u001B[0m \u001B[1m0s\u001B[0m 8ms/step - accuracy: 0.9040 - loss: 0.2465 - val_accuracy: 0.8254 - val_loss: 0.4208\n",
      "Epoch 58/500\n",
      "\u001B[1m33/33\u001B[0m \u001B[32m━━━━━━━━━━━━━━━━━━━━\u001B[0m\u001B[37m\u001B[0m \u001B[1m0s\u001B[0m 8ms/step - accuracy: 0.8968 - loss: 0.2535 - val_accuracy: 0.8315 - val_loss: 0.4035\n",
      "Epoch 59/500\n",
      "\u001B[1m33/33\u001B[0m \u001B[32m━━━━━━━━━━━━━━━━━━━━\u001B[0m\u001B[37m\u001B[0m \u001B[1m0s\u001B[0m 8ms/step - accuracy: 0.9136 - loss: 0.2302 - val_accuracy: 0.8359 - val_loss: 0.4183\n",
      "Epoch 60/500\n",
      "\u001B[1m33/33\u001B[0m \u001B[32m━━━━━━━━━━━━━━━━━━━━\u001B[0m\u001B[37m\u001B[0m \u001B[1m0s\u001B[0m 8ms/step - accuracy: 0.9027 - loss: 0.2415 - val_accuracy: 0.8422 - val_loss: 0.4221\n",
      "Epoch 61/500\n",
      "\u001B[1m33/33\u001B[0m \u001B[32m━━━━━━━━━━━━━━━━━━━━\u001B[0m\u001B[37m\u001B[0m \u001B[1m0s\u001B[0m 8ms/step - accuracy: 0.9112 - loss: 0.2295 - val_accuracy: 0.8322 - val_loss: 0.4170\n",
      "Epoch 62/500\n",
      "\u001B[1m33/33\u001B[0m \u001B[32m━━━━━━━━━━━━━━━━━━━━\u001B[0m\u001B[37m\u001B[0m \u001B[1m0s\u001B[0m 7ms/step - accuracy: 0.9191 - loss: 0.2148 - val_accuracy: 0.8339 - val_loss: 0.4422\n",
      "Epoch 63/500\n",
      "\u001B[1m33/33\u001B[0m \u001B[32m━━━━━━━━━━━━━━━━━━━━\u001B[0m\u001B[37m\u001B[0m \u001B[1m0s\u001B[0m 8ms/step - accuracy: 0.9121 - loss: 0.2226 - val_accuracy: 0.8335 - val_loss: 0.4323\n",
      "Epoch 64/500\n",
      "\u001B[1m33/33\u001B[0m \u001B[32m━━━━━━━━━━━━━━━━━━━━\u001B[0m\u001B[37m\u001B[0m \u001B[1m0s\u001B[0m 8ms/step - accuracy: 0.9117 - loss: 0.2251 - val_accuracy: 0.8232 - val_loss: 0.4470\n",
      "Epoch 65/500\n",
      "\u001B[1m33/33\u001B[0m \u001B[32m━━━━━━━━━━━━━━━━━━━━\u001B[0m\u001B[37m\u001B[0m \u001B[1m0s\u001B[0m 9ms/step - accuracy: 0.9137 - loss: 0.2212 - val_accuracy: 0.8254 - val_loss: 0.4459\n",
      "Epoch 66/500\n",
      "\u001B[1m33/33\u001B[0m \u001B[32m━━━━━━━━━━━━━━━━━━━━\u001B[0m\u001B[37m\u001B[0m \u001B[1m0s\u001B[0m 8ms/step - accuracy: 0.9213 - loss: 0.2058 - val_accuracy: 0.8250 - val_loss: 0.4358\n",
      "Epoch 67/500\n",
      "\u001B[1m33/33\u001B[0m \u001B[32m━━━━━━━━━━━━━━━━━━━━\u001B[0m\u001B[37m\u001B[0m \u001B[1m0s\u001B[0m 8ms/step - accuracy: 0.9242 - loss: 0.2092 - val_accuracy: 0.8393 - val_loss: 0.4572\n",
      "Epoch 68/500\n",
      "\u001B[1m33/33\u001B[0m \u001B[32m━━━━━━━━━━━━━━━━━━━━\u001B[0m\u001B[37m\u001B[0m \u001B[1m0s\u001B[0m 8ms/step - accuracy: 0.9168 - loss: 0.2108 - val_accuracy: 0.8284 - val_loss: 0.4314\n",
      "Epoch 69/500\n",
      "\u001B[1m33/33\u001B[0m \u001B[32m━━━━━━━━━━━━━━━━━━━━\u001B[0m\u001B[37m\u001B[0m \u001B[1m0s\u001B[0m 8ms/step - accuracy: 0.9127 - loss: 0.2217 - val_accuracy: 0.8301 - val_loss: 0.4558\n",
      "Epoch 70/500\n",
      "\u001B[1m33/33\u001B[0m \u001B[32m━━━━━━━━━━━━━━━━━━━━\u001B[0m\u001B[37m\u001B[0m \u001B[1m0s\u001B[0m 8ms/step - accuracy: 0.9214 - loss: 0.2061 - val_accuracy: 0.8334 - val_loss: 0.4421\n",
      "Epoch 71/500\n",
      "\u001B[1m33/33\u001B[0m \u001B[32m━━━━━━━━━━━━━━━━━━━━\u001B[0m\u001B[37m\u001B[0m \u001B[1m0s\u001B[0m 8ms/step - accuracy: 0.9171 - loss: 0.2128 - val_accuracy: 0.8249 - val_loss: 0.4707\n",
      "Epoch 72/500\n",
      "\u001B[1m33/33\u001B[0m \u001B[32m━━━━━━━━━━━━━━━━━━━━\u001B[0m\u001B[37m\u001B[0m \u001B[1m0s\u001B[0m 7ms/step - accuracy: 0.9219 - loss: 0.2061 - val_accuracy: 0.8241 - val_loss: 0.4731\n",
      "Epoch 73/500\n",
      "\u001B[1m33/33\u001B[0m \u001B[32m━━━━━━━━━━━━━━━━━━━━\u001B[0m\u001B[37m\u001B[0m \u001B[1m0s\u001B[0m 7ms/step - accuracy: 0.9276 - loss: 0.1960 - val_accuracy: 0.8304 - val_loss: 0.4660\n",
      "Epoch 74/500\n",
      "\u001B[1m33/33\u001B[0m \u001B[32m━━━━━━━━━━━━━━━━━━━━\u001B[0m\u001B[37m\u001B[0m \u001B[1m0s\u001B[0m 8ms/step - accuracy: 0.9285 - loss: 0.1898 - val_accuracy: 0.8244 - val_loss: 0.4908\n",
      "Epoch 75/500\n",
      "\u001B[1m33/33\u001B[0m \u001B[32m━━━━━━━━━━━━━━━━━━━━\u001B[0m\u001B[37m\u001B[0m \u001B[1m0s\u001B[0m 9ms/step - accuracy: 0.9278 - loss: 0.1906 - val_accuracy: 0.8322 - val_loss: 0.4538\n",
      "Epoch 76/500\n",
      "\u001B[1m33/33\u001B[0m \u001B[32m━━━━━━━━━━━━━━━━━━━━\u001B[0m\u001B[37m\u001B[0m \u001B[1m0s\u001B[0m 7ms/step - accuracy: 0.9278 - loss: 0.1885 - val_accuracy: 0.8240 - val_loss: 0.4775\n",
      "Epoch 77/500\n",
      "\u001B[1m33/33\u001B[0m \u001B[32m━━━━━━━━━━━━━━━━━━━━\u001B[0m\u001B[37m\u001B[0m \u001B[1m0s\u001B[0m 8ms/step - accuracy: 0.9255 - loss: 0.1920 - val_accuracy: 0.8280 - val_loss: 0.4703\n",
      "Epoch 78/500\n",
      "\u001B[1m33/33\u001B[0m \u001B[32m━━━━━━━━━━━━━━━━━━━━\u001B[0m\u001B[37m\u001B[0m \u001B[1m0s\u001B[0m 7ms/step - accuracy: 0.9220 - loss: 0.1969 - val_accuracy: 0.8248 - val_loss: 0.4663\n",
      "Epoch 79/500\n",
      "\u001B[1m33/33\u001B[0m \u001B[32m━━━━━━━━━━━━━━━━━━━━\u001B[0m\u001B[37m\u001B[0m \u001B[1m0s\u001B[0m 8ms/step - accuracy: 0.9277 - loss: 0.1876 - val_accuracy: 0.8221 - val_loss: 0.4722\n",
      "Epoch 80/500\n",
      "\u001B[1m33/33\u001B[0m \u001B[32m━━━━━━━━━━━━━━━━━━━━\u001B[0m\u001B[37m\u001B[0m \u001B[1m0s\u001B[0m 7ms/step - accuracy: 0.9230 - loss: 0.1930 - val_accuracy: 0.8211 - val_loss: 0.5039\n",
      "Epoch 81/500\n",
      "\u001B[1m33/33\u001B[0m \u001B[32m━━━━━━━━━━━━━━━━━━━━\u001B[0m\u001B[37m\u001B[0m \u001B[1m0s\u001B[0m 8ms/step - accuracy: 0.9261 - loss: 0.1908 - val_accuracy: 0.8164 - val_loss: 0.5064\n",
      "Epoch 82/500\n",
      "\u001B[1m33/33\u001B[0m \u001B[32m━━━━━━━━━━━━━━━━━━━━\u001B[0m\u001B[37m\u001B[0m \u001B[1m0s\u001B[0m 7ms/step - accuracy: 0.9280 - loss: 0.1882 - val_accuracy: 0.8343 - val_loss: 0.5009\n",
      "Epoch 83/500\n",
      "\u001B[1m33/33\u001B[0m \u001B[32m━━━━━━━━━━━━━━━━━━━━\u001B[0m\u001B[37m\u001B[0m \u001B[1m0s\u001B[0m 7ms/step - accuracy: 0.9357 - loss: 0.1700 - val_accuracy: 0.8264 - val_loss: 0.5049\n",
      "Epoch 84/500\n",
      "\u001B[1m33/33\u001B[0m \u001B[32m━━━━━━━━━━━━━━━━━━━━\u001B[0m\u001B[37m\u001B[0m \u001B[1m0s\u001B[0m 8ms/step - accuracy: 0.9271 - loss: 0.1871 - val_accuracy: 0.8349 - val_loss: 0.4785\n",
      "Epoch 85/500\n",
      "\u001B[1m33/33\u001B[0m \u001B[32m━━━━━━━━━━━━━━━━━━━━\u001B[0m\u001B[37m\u001B[0m \u001B[1m0s\u001B[0m 7ms/step - accuracy: 0.9305 - loss: 0.1797 - val_accuracy: 0.8312 - val_loss: 0.5182\n",
      "Epoch 86/500\n",
      "\u001B[1m33/33\u001B[0m \u001B[32m━━━━━━━━━━━━━━━━━━━━\u001B[0m\u001B[37m\u001B[0m \u001B[1m0s\u001B[0m 7ms/step - accuracy: 0.9187 - loss: 0.1984 - val_accuracy: 0.8194 - val_loss: 0.5087\n",
      "Epoch 87/500\n",
      "\u001B[1m33/33\u001B[0m \u001B[32m━━━━━━━━━━━━━━━━━━━━\u001B[0m\u001B[37m\u001B[0m \u001B[1m0s\u001B[0m 9ms/step - accuracy: 0.9307 - loss: 0.1838 - val_accuracy: 0.8301 - val_loss: 0.5156\n",
      "Epoch 88/500\n",
      "\u001B[1m33/33\u001B[0m \u001B[32m━━━━━━━━━━━━━━━━━━━━\u001B[0m\u001B[37m\u001B[0m \u001B[1m0s\u001B[0m 7ms/step - accuracy: 0.9307 - loss: 0.1736 - val_accuracy: 0.8292 - val_loss: 0.5144\n",
      "Epoch 89/500\n",
      "\u001B[1m33/33\u001B[0m \u001B[32m━━━━━━━━━━━━━━━━━━━━\u001B[0m\u001B[37m\u001B[0m \u001B[1m0s\u001B[0m 8ms/step - accuracy: 0.9296 - loss: 0.1800 - val_accuracy: 0.8280 - val_loss: 0.5116\n",
      "Epoch 90/500\n",
      "\u001B[1m33/33\u001B[0m \u001B[32m━━━━━━━━━━━━━━━━━━━━\u001B[0m\u001B[37m\u001B[0m \u001B[1m0s\u001B[0m 7ms/step - accuracy: 0.9362 - loss: 0.1713 - val_accuracy: 0.8287 - val_loss: 0.5117\n",
      "Epoch 91/500\n",
      "\u001B[1m33/33\u001B[0m \u001B[32m━━━━━━━━━━━━━━━━━━━━\u001B[0m\u001B[37m\u001B[0m \u001B[1m0s\u001B[0m 8ms/step - accuracy: 0.9347 - loss: 0.1686 - val_accuracy: 0.8272 - val_loss: 0.5297\n",
      "Epoch 92/500\n",
      "\u001B[1m33/33\u001B[0m \u001B[32m━━━━━━━━━━━━━━━━━━━━\u001B[0m\u001B[37m\u001B[0m \u001B[1m0s\u001B[0m 7ms/step - accuracy: 0.9380 - loss: 0.1605 - val_accuracy: 0.8194 - val_loss: 0.5187\n",
      "Epoch 93/500\n",
      "\u001B[1m33/33\u001B[0m \u001B[32m━━━━━━━━━━━━━━━━━━━━\u001B[0m\u001B[37m\u001B[0m \u001B[1m0s\u001B[0m 8ms/step - accuracy: 0.9348 - loss: 0.1674 - val_accuracy: 0.8268 - val_loss: 0.5290\n",
      "Epoch 94/500\n",
      "\u001B[1m33/33\u001B[0m \u001B[32m━━━━━━━━━━━━━━━━━━━━\u001B[0m\u001B[37m\u001B[0m \u001B[1m0s\u001B[0m 7ms/step - accuracy: 0.9329 - loss: 0.1716 - val_accuracy: 0.8295 - val_loss: 0.5580\n",
      "Epoch 95/500\n",
      "\u001B[1m33/33\u001B[0m \u001B[32m━━━━━━━━━━━━━━━━━━━━\u001B[0m\u001B[37m\u001B[0m \u001B[1m0s\u001B[0m 8ms/step - accuracy: 0.9299 - loss: 0.1741 - val_accuracy: 0.8184 - val_loss: 0.5486\n",
      "Epoch 96/500\n",
      "\u001B[1m33/33\u001B[0m \u001B[32m━━━━━━━━━━━━━━━━━━━━\u001B[0m\u001B[37m\u001B[0m \u001B[1m0s\u001B[0m 7ms/step - accuracy: 0.9342 - loss: 0.1669 - val_accuracy: 0.8181 - val_loss: 0.5182\n",
      "Epoch 97/500\n",
      "\u001B[1m33/33\u001B[0m \u001B[32m━━━━━━━━━━━━━━━━━━━━\u001B[0m\u001B[37m\u001B[0m \u001B[1m0s\u001B[0m 8ms/step - accuracy: 0.9429 - loss: 0.1579 - val_accuracy: 0.8297 - val_loss: 0.5189\n",
      "Epoch 98/500\n",
      "\u001B[1m33/33\u001B[0m \u001B[32m━━━━━━━━━━━━━━━━━━━━\u001B[0m\u001B[37m\u001B[0m \u001B[1m0s\u001B[0m 8ms/step - accuracy: 0.9425 - loss: 0.1538 - val_accuracy: 0.8186 - val_loss: 0.5642\n",
      "Epoch 99/500\n",
      "\u001B[1m33/33\u001B[0m \u001B[32m━━━━━━━━━━━━━━━━━━━━\u001B[0m\u001B[37m\u001B[0m \u001B[1m0s\u001B[0m 9ms/step - accuracy: 0.9366 - loss: 0.1622 - val_accuracy: 0.8254 - val_loss: 0.5703\n",
      "Epoch 100/500\n",
      "\u001B[1m33/33\u001B[0m \u001B[32m━━━━━━━━━━━━━━━━━━━━\u001B[0m\u001B[37m\u001B[0m \u001B[1m0s\u001B[0m 8ms/step - accuracy: 0.9405 - loss: 0.1539 - val_accuracy: 0.8190 - val_loss: 0.5643\n",
      "Epoch 101/500\n",
      "\u001B[1m33/33\u001B[0m \u001B[32m━━━━━━━━━━━━━━━━━━━━\u001B[0m\u001B[37m\u001B[0m \u001B[1m0s\u001B[0m 7ms/step - accuracy: 0.9346 - loss: 0.1688 - val_accuracy: 0.8182 - val_loss: 0.5639\n",
      "Epoch 102/500\n",
      "\u001B[1m33/33\u001B[0m \u001B[32m━━━━━━━━━━━━━━━━━━━━\u001B[0m\u001B[37m\u001B[0m \u001B[1m0s\u001B[0m 7ms/step - accuracy: 0.9353 - loss: 0.1631 - val_accuracy: 0.8220 - val_loss: 0.5706\n",
      "Epoch 103/500\n",
      "\u001B[1m33/33\u001B[0m \u001B[32m━━━━━━━━━━━━━━━━━━━━\u001B[0m\u001B[37m\u001B[0m \u001B[1m0s\u001B[0m 7ms/step - accuracy: 0.9452 - loss: 0.1465 - val_accuracy: 0.8150 - val_loss: 0.5571\n",
      "Epoch 104/500\n",
      "\u001B[1m33/33\u001B[0m \u001B[32m━━━━━━━━━━━━━━━━━━━━\u001B[0m\u001B[37m\u001B[0m \u001B[1m0s\u001B[0m 8ms/step - accuracy: 0.9457 - loss: 0.1425 - val_accuracy: 0.8206 - val_loss: 0.5738\n",
      "Epoch 105/500\n",
      "\u001B[1m33/33\u001B[0m \u001B[32m━━━━━━━━━━━━━━━━━━━━\u001B[0m\u001B[37m\u001B[0m \u001B[1m0s\u001B[0m 8ms/step - accuracy: 0.9425 - loss: 0.1483 - val_accuracy: 0.8108 - val_loss: 0.6047\n",
      "Epoch 106/500\n",
      "\u001B[1m33/33\u001B[0m \u001B[32m━━━━━━━━━━━━━━━━━━━━\u001B[0m\u001B[37m\u001B[0m \u001B[1m0s\u001B[0m 8ms/step - accuracy: 0.9363 - loss: 0.1587 - val_accuracy: 0.8248 - val_loss: 0.5699\n",
      "Epoch 107/500\n",
      "\u001B[1m33/33\u001B[0m \u001B[32m━━━━━━━━━━━━━━━━━━━━\u001B[0m\u001B[37m\u001B[0m \u001B[1m0s\u001B[0m 10ms/step - accuracy: 0.9455 - loss: 0.1427 - val_accuracy: 0.8225 - val_loss: 0.5564\n",
      "Epoch 108/500\n",
      "\u001B[1m33/33\u001B[0m \u001B[32m━━━━━━━━━━━━━━━━━━━━\u001B[0m\u001B[37m\u001B[0m \u001B[1m0s\u001B[0m 9ms/step - accuracy: 0.9458 - loss: 0.1451 - val_accuracy: 0.8157 - val_loss: 0.5667\n",
      "Epoch 109/500\n",
      "\u001B[1m33/33\u001B[0m \u001B[32m━━━━━━━━━━━━━━━━━━━━\u001B[0m\u001B[37m\u001B[0m \u001B[1m0s\u001B[0m 8ms/step - accuracy: 0.9411 - loss: 0.1522 - val_accuracy: 0.8135 - val_loss: 0.5863\n",
      "Epoch 110/500\n",
      "\u001B[1m33/33\u001B[0m \u001B[32m━━━━━━━━━━━━━━━━━━━━\u001B[0m\u001B[37m\u001B[0m \u001B[1m0s\u001B[0m 7ms/step - accuracy: 0.9418 - loss: 0.1474 - val_accuracy: 0.8177 - val_loss: 0.6038\n",
      "Epoch 111/500\n",
      "\u001B[1m33/33\u001B[0m \u001B[32m━━━━━━━━━━━━━━━━━━━━\u001B[0m\u001B[37m\u001B[0m \u001B[1m0s\u001B[0m 8ms/step - accuracy: 0.9432 - loss: 0.1487 - val_accuracy: 0.8189 - val_loss: 0.6376\n",
      "Epoch 112/500\n",
      "\u001B[1m33/33\u001B[0m \u001B[32m━━━━━━━━━━━━━━━━━━━━\u001B[0m\u001B[37m\u001B[0m \u001B[1m0s\u001B[0m 7ms/step - accuracy: 0.9463 - loss: 0.1465 - val_accuracy: 0.8208 - val_loss: 0.6275\n",
      "Epoch 113/500\n",
      "\u001B[1m33/33\u001B[0m \u001B[32m━━━━━━━━━━━━━━━━━━━━\u001B[0m\u001B[37m\u001B[0m \u001B[1m0s\u001B[0m 7ms/step - accuracy: 0.9446 - loss: 0.1428 - val_accuracy: 0.8144 - val_loss: 0.6174\n",
      "Epoch 114/500\n",
      "\u001B[1m33/33\u001B[0m \u001B[32m━━━━━━━━━━━━━━━━━━━━\u001B[0m\u001B[37m\u001B[0m \u001B[1m0s\u001B[0m 8ms/step - accuracy: 0.9433 - loss: 0.1438 - val_accuracy: 0.8243 - val_loss: 0.6502\n"
     ]
    },
    {
     "data": {
      "text/plain": "<keras_core.src.callbacks.history.History at 0x7f80fa816c50>"
     },
     "execution_count": 11,
     "metadata": {},
     "output_type": "execute_result"
    }
   ],
   "source": [
    "model.fit(X_train,\n",
    "          y_train,\n",
    "          epochs=500,\n",
    "          batch_size=params_grid['batch_size'],\n",
    "          callbacks=callback,\n",
    "          validation_data=(X_test, y_test)\n",
    "          )"
   ],
   "metadata": {
    "collapsed": false,
    "ExecuteTime": {
     "end_time": "2024-07-02T16:52:30.750957Z",
     "start_time": "2024-07-02T16:51:44.605376Z"
    }
   },
   "id": "ba1d6a42d0826b57",
   "execution_count": 11
  },
  {
   "cell_type": "markdown",
   "id": "e01ea87c7efc4af6",
   "metadata": {
    "collapsed": false
   },
   "source": [
    "# save model"
   ]
  },
  {
   "cell_type": "code",
   "execution_count": 12,
   "id": "e0b9fbafea831f00",
   "metadata": {
    "collapsed": false,
    "ExecuteTime": {
     "end_time": "2024-07-02T16:52:30.791693Z",
     "start_time": "2024-07-02T16:52:30.752982Z"
    }
   },
   "outputs": [],
   "source": [
    "model.save(model_weight_dst)"
   ]
  }
 ],
 "metadata": {
  "kernelspec": {
   "display_name": "Python 3 (ipykernel)",
   "language": "python",
   "name": "python3"
  },
  "language_info": {
   "codemirror_mode": {
    "name": "ipython",
    "version": 3
   },
   "file_extension": ".py",
   "mimetype": "text/x-python",
   "name": "python",
   "nbconvert_exporter": "python",
   "pygments_lexer": "ipython3",
   "version": "3.10.13"
  }
 },
 "nbformat": 4,
 "nbformat_minor": 5
}
