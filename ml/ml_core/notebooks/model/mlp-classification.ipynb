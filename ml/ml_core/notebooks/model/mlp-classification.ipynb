<<<<<<< HEAD
{
 "cells": [
  {
   "cell_type": "code",
   "execution_count": null,
   "id": "initial_id",
   "metadata": {
    "collapsed": false,
    "is_executing": true
   },
   "outputs": [],
   "source": [
    "import datetime\n",
    "\n",
    "import os\n",
    "\n",
    "os.getcwd()\n",
    "if '.git' not in os.listdir():\n",
    "    os.chdir('./../../../../')\n",
    "os.listdir()\n",
    "\n",
    "from ml.ml_core.src.core.model_factory import model_factory\n",
    "\n",
    "import keras_core as keras\n",
    "import numpy as np\n",
    "import tensorflow as tf\n",
    "from sklearn.model_selection import train_test_split\n",
    "from tensorboard.plugins.hparams import api as hp\n"
   ]
  },
  {
   "cell_type": "markdown",
   "id": "18856c657e08494f",
   "metadata": {
    "collapsed": false
   },
   "source": [
    "## Configurations"
   ]
  },
  {
   "cell_type": "code",
   "execution_count": 2,
   "id": "9574abd306005981",
   "metadata": {
    "collapsed": false,
    "ExecuteTime": {
     "end_time": "2024-07-02T16:51:43.813780Z",
     "start_time": "2024-07-02T16:51:43.810040Z"
    }
   },
   "outputs": [],
   "source": [
    "params_grid = {\n",
    "    \"model\": \"mlp\",\n",
    "    \"embedder\": \"cambert\",\n",
    "    \"embedding_data\": \"almanach-camembert-base\",\n",
    "    \"dataset\": \"fr_hf.csv\",\n",
    "    \"batch_size\": 500\n",
    "}"
   ]
  },
  {
   "cell_type": "code",
   "execution_count": 3,
   "id": "d220a1d10493404e",
   "metadata": {
    "collapsed": false,
    "ExecuteTime": {
     "end_time": "2024-07-02T16:51:43.828111Z",
     "start_time": "2024-07-02T16:51:43.815304Z"
    }
   },
   "outputs": [],
   "source": [
    "data_folder_src = 'ml/ml_core/data/processed/'\n",
    "ml_core_folder_path = 'ml/ml_core/'\n",
    "data_path_src = f'{data_folder_src}{params_grid[\"dataset\"]}'\n",
    "date_str = datetime.datetime.now().strftime(\"%Y%m%d-%H%M%S\")\n",
    "experiment_name = f'deepwoke_{params_grid[\"embedder\"]}_{params_grid[\"model\"]}_{params_grid[\"dataset\"]}_{date_str}'\n",
    "\n",
    "log_dir = f\"{ml_core_folder_path}log/fit/{experiment_name}\"\n",
    "model_weight_dst = f'{ml_core_folder_path}model_weights/{experiment_name}-model.keras'"
   ]
  },
  {
   "cell_type": "code",
   "execution_count": 4,
   "id": "63bc5b9857e00e2f",
   "metadata": {
    "collapsed": false,
    "ExecuteTime": {
     "end_time": "2024-07-02T16:51:43.846277Z",
     "start_time": "2024-07-02T16:51:43.830328Z"
    }
   },
   "outputs": [],
   "source": [
    "\n",
    "vector_path = f'{ml_core_folder_path}embedded_vector/{params_grid[\"embedding_data\"]}_{params_grid[\"dataset\"]}'\n",
    "vector_x_dst = f'{vector_path}.x.npy'\n",
    "vector_y_dst = f'{vector_path}.y.npy'"
   ]
  },
  {
   "cell_type": "markdown",
   "id": "5d4209390b020a7",
   "metadata": {
    "collapsed": false
   },
   "source": [
    "# loading dataset"
   ]
  },
  {
   "cell_type": "code",
   "execution_count": 5,
   "id": "cda597a675bb1ba2",
   "metadata": {
    "collapsed": false,
    "ExecuteTime": {
     "end_time": "2024-07-02T16:51:43.977648Z",
     "start_time": "2024-07-02T16:51:43.847675Z"
    }
   },
   "outputs": [
    {
     "data": {
      "text/plain": "array([[ 0.04516848,  0.00071256,  0.03566859, ..., -0.09981904,\n         0.03075864,  0.00900592],\n       [ 0.01784509,  0.02990518,  0.07172755, ..., -0.08148439,\n         0.05451308, -0.02512601],\n       [ 0.03016657, -0.02432093,  0.12849346, ..., -0.07501146,\n         0.06209692, -0.0390623 ],\n       ...,\n       [-0.07429342,  0.10049191,  0.09828879, ..., -0.06469899,\n        -0.02038792, -0.01266516],\n       [-0.06795738,  0.24448358,  0.12595129, ..., -0.06591158,\n        -0.03617626, -0.05148328],\n       [-0.0298334 ,  0.15611339,  0.14951393, ..., -0.09735298,\n        -0.0018647 , -0.03475789]], dtype=float32)"
     },
     "execution_count": 5,
     "metadata": {},
     "output_type": "execute_result"
    }
   ],
   "source": [
    "X = np.load(vector_x_dst)\n",
    "y = np.load(vector_y_dst)\n",
    "X"
   ]
  },
  {
   "cell_type": "markdown",
   "source": [
    "# Model"
   ],
   "metadata": {
    "collapsed": false
   },
   "id": "a2adf4c59ca51d9c"
  },
  {
   "cell_type": "markdown",
   "id": "5c8ac62597164bde",
   "metadata": {
    "collapsed": false
   },
   "source": [
    "## callbacks"
   ]
  },
  {
   "cell_type": "code",
   "execution_count": 6,
   "id": "336209aae383296f",
   "metadata": {
    "collapsed": false,
    "ExecuteTime": {
     "end_time": "2024-07-02T16:51:43.982351Z",
     "start_time": "2024-07-02T16:51:43.979195Z"
    }
   },
   "outputs": [],
   "source": [
    "early_stopping = keras.callbacks.EarlyStopping(\n",
    "    patience=10,\n",
    "    min_delta=0.001,\n",
    "    restore_best_weights=True,\n",
    "    monitor='loss'\n",
    ")\n"
   ]
  },
  {
   "cell_type": "code",
   "execution_count": 7,
   "id": "9f93ecb4efe31443",
   "metadata": {
    "collapsed": false,
    "ExecuteTime": {
     "end_time": "2024-07-02T16:51:43.997570Z",
     "start_time": "2024-07-02T16:51:43.983792Z"
    }
   },
   "outputs": [],
   "source": [
    "\n",
    "class EarlyStoppingLogging(keras.callbacks.Callback):\n",
    "    def __init__(self, early_stopping_callback, log_dir):\n",
    "        super().__init__()\n",
    "        self.early_stopping = early_stopping_callback\n",
    "        self.stopped_epoch = 0\n",
    "        self.writer = tf.summary.create_file_writer(log_dir)\n",
    "\n",
    "    def on_epoch_end(self, epoch, logs=None):\n",
    "        if self.early_stopping.stopped_epoch > 0:\n",
    "            self.stopped_epoch = self.early_stopping.stopped_epoch\n",
    "            with self.writer.as_default():\n",
    "                tf.summary.scalar('early_stopping_epoch', self.stopped_epoch, step=epoch)\n",
    "                self.writer.flush()\n"
   ]
  },
  {
   "cell_type": "code",
   "execution_count": 8,
   "id": "7ec43b4117399510",
   "metadata": {
    "collapsed": false,
    "ExecuteTime": {
     "end_time": "2024-07-02T16:51:44.217443Z",
     "start_time": "2024-07-02T16:51:43.998989Z"
    }
   },
   "outputs": [
    {
     "name": "stderr",
     "output_type": "stream",
     "text": [
      "2024-07-02 18:51:44.059886: I tensorflow/compiler/xla/stream_executor/cuda/cuda_gpu_executor.cc:880] could not open file to read NUMA node: /sys/bus/pci/devices/0000:01:00.0/numa_node\n",
      "Your kernel may have been built without NUMA support.\n",
      "2024-07-02 18:51:44.100747: I tensorflow/compiler/xla/stream_executor/cuda/cuda_gpu_executor.cc:880] could not open file to read NUMA node: /sys/bus/pci/devices/0000:01:00.0/numa_node\n",
      "Your kernel may have been built without NUMA support.\n",
      "2024-07-02 18:51:44.100787: I tensorflow/compiler/xla/stream_executor/cuda/cuda_gpu_executor.cc:880] could not open file to read NUMA node: /sys/bus/pci/devices/0000:01:00.0/numa_node\n",
      "Your kernel may have been built without NUMA support.\n",
      "2024-07-02 18:51:44.103447: I tensorflow/compiler/xla/stream_executor/cuda/cuda_gpu_executor.cc:880] could not open file to read NUMA node: /sys/bus/pci/devices/0000:01:00.0/numa_node\n",
      "Your kernel may have been built without NUMA support.\n",
      "2024-07-02 18:51:44.103482: I tensorflow/compiler/xla/stream_executor/cuda/cuda_gpu_executor.cc:880] could not open file to read NUMA node: /sys/bus/pci/devices/0000:01:00.0/numa_node\n",
      "Your kernel may have been built without NUMA support.\n",
      "2024-07-02 18:51:44.103499: I tensorflow/compiler/xla/stream_executor/cuda/cuda_gpu_executor.cc:880] could not open file to read NUMA node: /sys/bus/pci/devices/0000:01:00.0/numa_node\n",
      "Your kernel may have been built without NUMA support.\n",
      "2024-07-02 18:51:44.202088: I tensorflow/compiler/xla/stream_executor/cuda/cuda_gpu_executor.cc:880] could not open file to read NUMA node: /sys/bus/pci/devices/0000:01:00.0/numa_node\n",
      "Your kernel may have been built without NUMA support.\n",
      "2024-07-02 18:51:44.202132: I tensorflow/compiler/xla/stream_executor/cuda/cuda_gpu_executor.cc:880] could not open file to read NUMA node: /sys/bus/pci/devices/0000:01:00.0/numa_node\n",
      "Your kernel may have been built without NUMA support.\n",
      "2024-07-02 18:51:44.202138: I tensorflow/core/common_runtime/gpu/gpu_device.cc:1977] Could not identify NUMA node of platform GPU id 0, defaulting to 0.  Your kernel may not have been built with NUMA support.\n",
      "2024-07-02 18:51:44.202163: I tensorflow/compiler/xla/stream_executor/cuda/cuda_gpu_executor.cc:880] could not open file to read NUMA node: /sys/bus/pci/devices/0000:01:00.0/numa_node\n",
      "Your kernel may have been built without NUMA support.\n",
      "2024-07-02 18:51:44.202180: I tensorflow/core/common_runtime/gpu/gpu_device.cc:1886] Created device /job:localhost/replica:0/task:0/device:GPU:0 with 7537 MB memory:  -> device: 0, name: NVIDIA GeForce RTX 3080, pci bus id: 0000:01:00.0, compute capability: 8.6\n"
     ]
    }
   ],
   "source": [
    "tensorboard_callback = keras.callbacks.TensorBoard(log_dir=log_dir, histogram_freq=1)\n",
    "early_stopping_logging_callback = EarlyStoppingLogging(early_stopping, log_dir)"
   ]
  },
  {
   "cell_type": "code",
   "execution_count": 9,
   "id": "3f3d46724d8e5aa1",
   "metadata": {
    "collapsed": false,
    "ExecuteTime": {
     "end_time": "2024-07-02T16:51:44.222550Z",
     "start_time": "2024-07-02T16:51:44.218782Z"
    }
   },
   "outputs": [],
   "source": [
    "callback = [\n",
    "    early_stopping,\n",
    "    tensorboard_callback,\n",
    "    hp.KerasCallback(log_dir, params_grid),\n",
    "    early_stopping_logging_callback,\n",
    "]"
   ]
  },
  {
   "cell_type": "markdown",
   "id": "9dec354f696f24a9",
   "metadata": {
    "collapsed": false
   },
   "source": [
    "### training the model"
   ]
  },
  {
   "cell_type": "code",
   "execution_count": 10,
   "id": "c4cf876c5cbae2f2",
   "metadata": {
    "collapsed": false,
    "ExecuteTime": {
     "end_time": "2024-07-02T16:51:44.604013Z",
     "start_time": "2024-07-02T16:51:44.225056Z"
    }
   },
   "outputs": [
    {
     "name": "stdout",
     "output_type": "stream",
     "text": [
      "(16263, 768) 1\n",
      "<bound method Model.summary of <Functional name=functional_1, built=True>>\n"
     ]
    }
   ],
   "source": [
    "\n",
    "X_train, X_test, y_train, y_test = train_test_split(X, y, test_size=0.1, random_state=42)\n",
    "\n",
    "model = model_factory(params_grid['model'], X_train.shape, 1)\n",
    "print(model.summary)\n",
    "\n",
    "tf.compat.v1.global_variables_initializer()"
   ]
  },
  {
   "cell_type": "code",
   "outputs": [
    {
     "name": "stdout",
     "output_type": "stream",
     "text": [
      "Epoch 1/500\n"
     ]
    },
    {
     "name": "stderr",
     "output_type": "stream",
     "text": [
      "2024-07-02 18:51:47.275644: I tensorflow/compiler/xla/service/service.cc:168] XLA service 0x7f7fcc00ce90 initialized for platform CUDA (this does not guarantee that XLA will be used). Devices:\n",
      "2024-07-02 18:51:47.275688: I tensorflow/compiler/xla/service/service.cc:176]   StreamExecutor device (0): NVIDIA GeForce RTX 3080, Compute Capability 8.6\n",
      "2024-07-02 18:51:47.302902: I tensorflow/compiler/mlir/tensorflow/utils/dump_mlir_util.cc:269] disabling MLIR crash reproducer, set env var `MLIR_CRASH_REPRODUCER_DIRECTORY` to enable.\n",
      "2024-07-02 18:51:47.562104: I tensorflow/compiler/xla/stream_executor/cuda/cuda_dnn.cc:442] Loaded cuDNN version 8700\n"
     ]
    },
    {
     "name": "stdout",
     "output_type": "stream",
     "text": [
      "\u001B[1m17/33\u001B[0m \u001B[32m━━━━━━━━━━\u001B[0m\u001B[37m━━━━━━━━━━\u001B[0m \u001B[1m0s\u001B[0m 3ms/step - accuracy: 0.7663 - loss: 0.5940         "
     ]
    },
    {
     "name": "stderr",
     "output_type": "stream",
     "text": [
      "2024-07-02 18:51:49.539517: I ./tensorflow/compiler/jit/device_compiler.h:186] Compiled cluster using XLA!  This line is logged at most once for the lifetime of the process.\n"
     ]
    },
    {
     "name": "stdout",
     "output_type": "stream",
     "text": [
      "\u001B[1m33/33\u001B[0m \u001B[32m━━━━━━━━━━━━━━━━━━━━\u001B[0m\u001B[37m\u001B[0m \u001B[1m7s\u001B[0m 83ms/step - accuracy: 0.7620 - loss: 0.5789 - val_accuracy: 0.7575 - val_loss: 0.5320\n",
      "Epoch 2/500\n",
      "\u001B[1m33/33\u001B[0m \u001B[32m━━━━━━━━━━━━━━━━━━━━\u001B[0m\u001B[37m\u001B[0m \u001B[1m0s\u001B[0m 9ms/step - accuracy: 0.7580 - loss: 0.5209 - val_accuracy: 0.7626 - val_loss: 0.4865\n",
      "Epoch 3/500\n",
      "\u001B[1m33/33\u001B[0m \u001B[32m━━━━━━━━━━━━━━━━━━━━\u001B[0m\u001B[37m\u001B[0m \u001B[1m0s\u001B[0m 7ms/step - accuracy: 0.7780 - loss: 0.4729 - val_accuracy: 0.7932 - val_loss: 0.4449\n",
      "Epoch 4/500\n",
      "\u001B[1m33/33\u001B[0m \u001B[32m━━━━━━━━━━━━━━━━━━━━\u001B[0m\u001B[37m\u001B[0m \u001B[1m0s\u001B[0m 7ms/step - accuracy: 0.7984 - loss: 0.4448 - val_accuracy: 0.8080 - val_loss: 0.4239\n",
      "Epoch 5/500\n",
      "\u001B[1m33/33\u001B[0m \u001B[32m━━━━━━━━━━━━━━━━━━━━\u001B[0m\u001B[37m\u001B[0m \u001B[1m0s\u001B[0m 8ms/step - accuracy: 0.7990 - loss: 0.4391 - val_accuracy: 0.8160 - val_loss: 0.4142\n",
      "Epoch 6/500\n",
      "\u001B[1m33/33\u001B[0m \u001B[32m━━━━━━━━━━━━━━━━━━━━\u001B[0m\u001B[37m\u001B[0m \u001B[1m0s\u001B[0m 7ms/step - accuracy: 0.8082 - loss: 0.4279 - val_accuracy: 0.8202 - val_loss: 0.4053\n",
      "Epoch 7/500\n",
      "\u001B[1m33/33\u001B[0m \u001B[32m━━━━━━━━━━━━━━━━━━━━\u001B[0m\u001B[37m\u001B[0m \u001B[1m0s\u001B[0m 7ms/step - accuracy: 0.8146 - loss: 0.4136 - val_accuracy: 0.8173 - val_loss: 0.4021\n",
      "Epoch 8/500\n",
      "\u001B[1m33/33\u001B[0m \u001B[32m━━━━━━━━━━━━━━━━━━━━\u001B[0m\u001B[37m\u001B[0m \u001B[1m0s\u001B[0m 7ms/step - accuracy: 0.8217 - loss: 0.4027 - val_accuracy: 0.8299 - val_loss: 0.3956\n",
      "Epoch 9/500\n",
      "\u001B[1m33/33\u001B[0m \u001B[32m━━━━━━━━━━━━━━━━━━━━\u001B[0m\u001B[37m\u001B[0m \u001B[1m0s\u001B[0m 9ms/step - accuracy: 0.8235 - loss: 0.3946 - val_accuracy: 0.8370 - val_loss: 0.3905\n",
      "Epoch 10/500\n",
      "\u001B[1m33/33\u001B[0m \u001B[32m━━━━━━━━━━━━━━━━━━━━\u001B[0m\u001B[37m\u001B[0m \u001B[1m0s\u001B[0m 7ms/step - accuracy: 0.8279 - loss: 0.3906 - val_accuracy: 0.8299 - val_loss: 0.3909\n",
      "Epoch 11/500\n",
      "\u001B[1m33/33\u001B[0m \u001B[32m━━━━━━━━━━━━━━━━━━━━\u001B[0m\u001B[37m\u001B[0m \u001B[1m0s\u001B[0m 7ms/step - accuracy: 0.8290 - loss: 0.3853 - val_accuracy: 0.8330 - val_loss: 0.3849\n",
      "Epoch 12/500\n",
      "\u001B[1m33/33\u001B[0m \u001B[32m━━━━━━━━━━━━━━━━━━━━\u001B[0m\u001B[37m\u001B[0m \u001B[1m0s\u001B[0m 7ms/step - accuracy: 0.8363 - loss: 0.3743 - val_accuracy: 0.8319 - val_loss: 0.3854\n",
      "Epoch 13/500\n",
      "\u001B[1m33/33\u001B[0m \u001B[32m━━━━━━━━━━━━━━━━━━━━\u001B[0m\u001B[37m\u001B[0m \u001B[1m0s\u001B[0m 7ms/step - accuracy: 0.8368 - loss: 0.3750 - val_accuracy: 0.8345 - val_loss: 0.3787\n",
      "Epoch 14/500\n",
      "\u001B[1m33/33\u001B[0m \u001B[32m━━━━━━━━━━━━━━━━━━━━\u001B[0m\u001B[37m\u001B[0m \u001B[1m0s\u001B[0m 7ms/step - accuracy: 0.8389 - loss: 0.3698 - val_accuracy: 0.8428 - val_loss: 0.3740\n",
      "Epoch 15/500\n",
      "\u001B[1m33/33\u001B[0m \u001B[32m━━━━━━━━━━━━━━━━━━━━\u001B[0m\u001B[37m\u001B[0m \u001B[1m0s\u001B[0m 8ms/step - accuracy: 0.8435 - loss: 0.3632 - val_accuracy: 0.8058 - val_loss: 0.4201\n",
      "Epoch 16/500\n",
      "\u001B[1m33/33\u001B[0m \u001B[32m━━━━━━━━━━━━━━━━━━━━\u001B[0m\u001B[37m\u001B[0m \u001B[1m0s\u001B[0m 8ms/step - accuracy: 0.8406 - loss: 0.3761 - val_accuracy: 0.8392 - val_loss: 0.3779\n",
      "Epoch 17/500\n",
      "\u001B[1m33/33\u001B[0m \u001B[32m━━━━━━━━━━━━━━━━━━━━\u001B[0m\u001B[37m\u001B[0m \u001B[1m0s\u001B[0m 9ms/step - accuracy: 0.8464 - loss: 0.3581 - val_accuracy: 0.8454 - val_loss: 0.3702\n",
      "Epoch 18/500\n",
      "\u001B[1m33/33\u001B[0m \u001B[32m━━━━━━━━━━━━━━━━━━━━\u001B[0m\u001B[37m\u001B[0m \u001B[1m0s\u001B[0m 8ms/step - accuracy: 0.8452 - loss: 0.3600 - val_accuracy: 0.8405 - val_loss: 0.3774\n",
      "Epoch 19/500\n",
      "\u001B[1m33/33\u001B[0m \u001B[32m━━━━━━━━━━━━━━━━━━━━\u001B[0m\u001B[37m\u001B[0m \u001B[1m0s\u001B[0m 8ms/step - accuracy: 0.8509 - loss: 0.3472 - val_accuracy: 0.8465 - val_loss: 0.3683\n",
      "Epoch 20/500\n",
      "\u001B[1m33/33\u001B[0m \u001B[32m━━━━━━━━━━━━━━━━━━━━\u001B[0m\u001B[37m\u001B[0m \u001B[1m0s\u001B[0m 7ms/step - accuracy: 0.8560 - loss: 0.3443 - val_accuracy: 0.8371 - val_loss: 0.3684\n",
      "Epoch 21/500\n",
      "\u001B[1m33/33\u001B[0m \u001B[32m━━━━━━━━━━━━━━━━━━━━\u001B[0m\u001B[37m\u001B[0m \u001B[1m0s\u001B[0m 8ms/step - accuracy: 0.8577 - loss: 0.3395 - val_accuracy: 0.8442 - val_loss: 0.3704\n",
      "Epoch 22/500\n",
      "\u001B[1m33/33\u001B[0m \u001B[32m━━━━━━━━━━━━━━━━━━━━\u001B[0m\u001B[37m\u001B[0m \u001B[1m0s\u001B[0m 7ms/step - accuracy: 0.8557 - loss: 0.3446 - val_accuracy: 0.8442 - val_loss: 0.3713\n",
      "Epoch 23/500\n",
      "\u001B[1m33/33\u001B[0m \u001B[32m━━━━━━━━━━━━━━━━━━━━\u001B[0m\u001B[37m\u001B[0m \u001B[1m0s\u001B[0m 7ms/step - accuracy: 0.8559 - loss: 0.3438 - val_accuracy: 0.8293 - val_loss: 0.3855\n",
      "Epoch 24/500\n",
      "\u001B[1m33/33\u001B[0m \u001B[32m━━━━━━━━━━━━━━━━━━━━\u001B[0m\u001B[37m\u001B[0m \u001B[1m0s\u001B[0m 7ms/step - accuracy: 0.8537 - loss: 0.3449 - val_accuracy: 0.8368 - val_loss: 0.3691\n",
      "Epoch 25/500\n",
      "\u001B[1m33/33\u001B[0m \u001B[32m━━━━━━━━━━━━━━━━━━━━\u001B[0m\u001B[37m\u001B[0m \u001B[1m0s\u001B[0m 8ms/step - accuracy: 0.8548 - loss: 0.3368 - val_accuracy: 0.8219 - val_loss: 0.3886\n",
      "Epoch 26/500\n",
      "\u001B[1m33/33\u001B[0m \u001B[32m━━━━━━━━━━━━━━━━━━━━\u001B[0m\u001B[37m\u001B[0m \u001B[1m0s\u001B[0m 9ms/step - accuracy: 0.8572 - loss: 0.3340 - val_accuracy: 0.8485 - val_loss: 0.3634\n",
      "Epoch 27/500\n",
      "\u001B[1m33/33\u001B[0m \u001B[32m━━━━━━━━━━━━━━━━━━━━\u001B[0m\u001B[37m\u001B[0m \u001B[1m0s\u001B[0m 8ms/step - accuracy: 0.8625 - loss: 0.3270 - val_accuracy: 0.8465 - val_loss: 0.3691\n",
      "Epoch 28/500\n",
      "\u001B[1m33/33\u001B[0m \u001B[32m━━━━━━━━━━━━━━━━━━━━\u001B[0m\u001B[37m\u001B[0m \u001B[1m0s\u001B[0m 8ms/step - accuracy: 0.8629 - loss: 0.3248 - val_accuracy: 0.8394 - val_loss: 0.3668\n",
      "Epoch 29/500\n",
      "\u001B[1m33/33\u001B[0m \u001B[32m━━━━━━━━━━━━━━━━━━━━\u001B[0m\u001B[37m\u001B[0m \u001B[1m0s\u001B[0m 8ms/step - accuracy: 0.8708 - loss: 0.3126 - val_accuracy: 0.8416 - val_loss: 0.3724\n",
      "Epoch 30/500\n",
      "\u001B[1m33/33\u001B[0m \u001B[32m━━━━━━━━━━━━━━━━━━━━\u001B[0m\u001B[37m\u001B[0m \u001B[1m0s\u001B[0m 8ms/step - accuracy: 0.8682 - loss: 0.3171 - val_accuracy: 0.8357 - val_loss: 0.3649\n",
      "Epoch 31/500\n",
      "\u001B[1m33/33\u001B[0m \u001B[32m━━━━━━━━━━━━━━━━━━━━\u001B[0m\u001B[37m\u001B[0m \u001B[1m0s\u001B[0m 8ms/step - accuracy: 0.8674 - loss: 0.3168 - val_accuracy: 0.8394 - val_loss: 0.3702\n",
      "Epoch 32/500\n",
      "\u001B[1m33/33\u001B[0m \u001B[32m━━━━━━━━━━━━━━━━━━━━\u001B[0m\u001B[37m\u001B[0m \u001B[1m0s\u001B[0m 8ms/step - accuracy: 0.8733 - loss: 0.3080 - val_accuracy: 0.8354 - val_loss: 0.3762\n",
      "Epoch 33/500\n",
      "\u001B[1m33/33\u001B[0m \u001B[32m━━━━━━━━━━━━━━━━━━━━\u001B[0m\u001B[37m\u001B[0m \u001B[1m0s\u001B[0m 8ms/step - accuracy: 0.8666 - loss: 0.3144 - val_accuracy: 0.8355 - val_loss: 0.3705\n",
      "Epoch 34/500\n",
      "\u001B[1m33/33\u001B[0m \u001B[32m━━━━━━━━━━━━━━━━━━━━\u001B[0m\u001B[37m\u001B[0m \u001B[1m0s\u001B[0m 7ms/step - accuracy: 0.8756 - loss: 0.3014 - val_accuracy: 0.8355 - val_loss: 0.3798\n",
      "Epoch 35/500\n",
      "\u001B[1m33/33\u001B[0m \u001B[32m━━━━━━━━━━━━━━━━━━━━\u001B[0m\u001B[37m\u001B[0m \u001B[1m0s\u001B[0m 8ms/step - accuracy: 0.8735 - loss: 0.3130 - val_accuracy: 0.8318 - val_loss: 0.3823\n",
      "Epoch 36/500\n",
      "\u001B[1m33/33\u001B[0m \u001B[32m━━━━━━━━━━━━━━━━━━━━\u001B[0m\u001B[37m\u001B[0m \u001B[1m0s\u001B[0m 8ms/step - accuracy: 0.8769 - loss: 0.2975 - val_accuracy: 0.8345 - val_loss: 0.3761\n",
      "Epoch 37/500\n",
      "\u001B[1m33/33\u001B[0m \u001B[32m━━━━━━━━━━━━━━━━━━━━\u001B[0m\u001B[37m\u001B[0m \u001B[1m0s\u001B[0m 9ms/step - accuracy: 0.8822 - loss: 0.2924 - val_accuracy: 0.8397 - val_loss: 0.3811\n",
      "Epoch 38/500\n",
      "\u001B[1m33/33\u001B[0m \u001B[32m━━━━━━━━━━━━━━━━━━━━\u001B[0m\u001B[37m\u001B[0m \u001B[1m0s\u001B[0m 9ms/step - accuracy: 0.8844 - loss: 0.2819 - val_accuracy: 0.8414 - val_loss: 0.3721\n",
      "Epoch 39/500\n",
      "\u001B[1m33/33\u001B[0m \u001B[32m━━━━━━━━━━━━━━━━━━━━\u001B[0m\u001B[37m\u001B[0m \u001B[1m0s\u001B[0m 8ms/step - accuracy: 0.8836 - loss: 0.2848 - val_accuracy: 0.8355 - val_loss: 0.3779\n",
      "Epoch 40/500\n",
      "\u001B[1m33/33\u001B[0m \u001B[32m━━━━━━━━━━━━━━━━━━━━\u001B[0m\u001B[37m\u001B[0m \u001B[1m0s\u001B[0m 9ms/step - accuracy: 0.8840 - loss: 0.2890 - val_accuracy: 0.8369 - val_loss: 0.4055\n",
      "Epoch 41/500\n",
      "\u001B[1m33/33\u001B[0m \u001B[32m━━━━━━━━━━━━━━━━━━━━\u001B[0m\u001B[37m\u001B[0m \u001B[1m0s\u001B[0m 9ms/step - accuracy: 0.8855 - loss: 0.2836 - val_accuracy: 0.8341 - val_loss: 0.3785\n",
      "Epoch 42/500\n",
      "\u001B[1m33/33\u001B[0m \u001B[32m━━━━━━━━━━━━━━━━━━━━\u001B[0m\u001B[37m\u001B[0m \u001B[1m0s\u001B[0m 8ms/step - accuracy: 0.8928 - loss: 0.2749 - val_accuracy: 0.8382 - val_loss: 0.4013\n",
      "Epoch 43/500\n",
      "\u001B[1m33/33\u001B[0m \u001B[32m━━━━━━━━━━━━━━━━━━━━\u001B[0m\u001B[37m\u001B[0m \u001B[1m0s\u001B[0m 8ms/step - accuracy: 0.8834 - loss: 0.2842 - val_accuracy: 0.8354 - val_loss: 0.3895\n",
      "Epoch 44/500\n",
      "\u001B[1m33/33\u001B[0m \u001B[32m━━━━━━━━━━━━━━━━━━━━\u001B[0m\u001B[37m\u001B[0m \u001B[1m0s\u001B[0m 7ms/step - accuracy: 0.8928 - loss: 0.2739 - val_accuracy: 0.8366 - val_loss: 0.3820\n",
      "Epoch 45/500\n",
      "\u001B[1m33/33\u001B[0m \u001B[32m━━━━━━━━━━━━━━━━━━━━\u001B[0m\u001B[37m\u001B[0m \u001B[1m0s\u001B[0m 8ms/step - accuracy: 0.8918 - loss: 0.2747 - val_accuracy: 0.8290 - val_loss: 0.3883\n",
      "Epoch 46/500\n",
      "\u001B[1m33/33\u001B[0m \u001B[32m━━━━━━━━━━━━━━━━━━━━\u001B[0m\u001B[37m\u001B[0m \u001B[1m0s\u001B[0m 7ms/step - accuracy: 0.8919 - loss: 0.2678 - val_accuracy: 0.8238 - val_loss: 0.4203\n",
      "Epoch 47/500\n",
      "\u001B[1m33/33\u001B[0m \u001B[32m━━━━━━━━━━━━━━━━━━━━\u001B[0m\u001B[37m\u001B[0m \u001B[1m0s\u001B[0m 7ms/step - accuracy: 0.8869 - loss: 0.2781 - val_accuracy: 0.8273 - val_loss: 0.4098\n",
      "Epoch 48/500\n",
      "\u001B[1m33/33\u001B[0m \u001B[32m━━━━━━━━━━━━━━━━━━━━\u001B[0m\u001B[37m\u001B[0m \u001B[1m0s\u001B[0m 8ms/step - accuracy: 0.8872 - loss: 0.2813 - val_accuracy: 0.8302 - val_loss: 0.3984\n",
      "Epoch 49/500\n",
      "\u001B[1m33/33\u001B[0m \u001B[32m━━━━━━━━━━━━━━━━━━━━\u001B[0m\u001B[37m\u001B[0m \u001B[1m0s\u001B[0m 8ms/step - accuracy: 0.8951 - loss: 0.2623 - val_accuracy: 0.8285 - val_loss: 0.4056\n",
      "Epoch 50/500\n",
      "\u001B[1m33/33\u001B[0m \u001B[32m━━━━━━━━━━━━━━━━━━━━\u001B[0m\u001B[37m\u001B[0m \u001B[1m0s\u001B[0m 8ms/step - accuracy: 0.9001 - loss: 0.2521 - val_accuracy: 0.8308 - val_loss: 0.4194\n",
      "Epoch 51/500\n",
      "\u001B[1m33/33\u001B[0m \u001B[32m━━━━━━━━━━━━━━━━━━━━\u001B[0m\u001B[37m\u001B[0m \u001B[1m0s\u001B[0m 8ms/step - accuracy: 0.9030 - loss: 0.2504 - val_accuracy: 0.8354 - val_loss: 0.3943\n",
      "Epoch 52/500\n",
      "\u001B[1m33/33\u001B[0m \u001B[32m━━━━━━━━━━━━━━━━━━━━\u001B[0m\u001B[37m\u001B[0m \u001B[1m0s\u001B[0m 8ms/step - accuracy: 0.9025 - loss: 0.2493 - val_accuracy: 0.8364 - val_loss: 0.4083\n",
      "Epoch 53/500\n",
      "\u001B[1m33/33\u001B[0m \u001B[32m━━━━━━━━━━━━━━━━━━━━\u001B[0m\u001B[37m\u001B[0m \u001B[1m0s\u001B[0m 8ms/step - accuracy: 0.9060 - loss: 0.2402 - val_accuracy: 0.8329 - val_loss: 0.3884\n",
      "Epoch 54/500\n",
      "\u001B[1m33/33\u001B[0m \u001B[32m━━━━━━━━━━━━━━━━━━━━\u001B[0m\u001B[37m\u001B[0m \u001B[1m0s\u001B[0m 7ms/step - accuracy: 0.9024 - loss: 0.2485 - val_accuracy: 0.8356 - val_loss: 0.4107\n",
      "Epoch 55/500\n",
      "\u001B[1m33/33\u001B[0m \u001B[32m━━━━━━━━━━━━━━━━━━━━\u001B[0m\u001B[37m\u001B[0m \u001B[1m0s\u001B[0m 7ms/step - accuracy: 0.9044 - loss: 0.2429 - val_accuracy: 0.8337 - val_loss: 0.4320\n",
      "Epoch 56/500\n",
      "\u001B[1m33/33\u001B[0m \u001B[32m━━━━━━━━━━━━━━━━━━━━\u001B[0m\u001B[37m\u001B[0m \u001B[1m0s\u001B[0m 8ms/step - accuracy: 0.9059 - loss: 0.2412 - val_accuracy: 0.8368 - val_loss: 0.3952\n",
      "Epoch 57/500\n",
      "\u001B[1m33/33\u001B[0m \u001B[32m━━━━━━━━━━━━━━━━━━━━\u001B[0m\u001B[37m\u001B[0m \u001B[1m0s\u001B[0m 8ms/step - accuracy: 0.9040 - loss: 0.2465 - val_accuracy: 0.8254 - val_loss: 0.4208\n",
      "Epoch 58/500\n",
      "\u001B[1m33/33\u001B[0m \u001B[32m━━━━━━━━━━━━━━━━━━━━\u001B[0m\u001B[37m\u001B[0m \u001B[1m0s\u001B[0m 8ms/step - accuracy: 0.8968 - loss: 0.2535 - val_accuracy: 0.8315 - val_loss: 0.4035\n",
      "Epoch 59/500\n",
      "\u001B[1m33/33\u001B[0m \u001B[32m━━━━━━━━━━━━━━━━━━━━\u001B[0m\u001B[37m\u001B[0m \u001B[1m0s\u001B[0m 8ms/step - accuracy: 0.9136 - loss: 0.2302 - val_accuracy: 0.8359 - val_loss: 0.4183\n",
      "Epoch 60/500\n",
      "\u001B[1m33/33\u001B[0m \u001B[32m━━━━━━━━━━━━━━━━━━━━\u001B[0m\u001B[37m\u001B[0m \u001B[1m0s\u001B[0m 8ms/step - accuracy: 0.9027 - loss: 0.2415 - val_accuracy: 0.8422 - val_loss: 0.4221\n",
      "Epoch 61/500\n",
      "\u001B[1m33/33\u001B[0m \u001B[32m━━━━━━━━━━━━━━━━━━━━\u001B[0m\u001B[37m\u001B[0m \u001B[1m0s\u001B[0m 8ms/step - accuracy: 0.9112 - loss: 0.2295 - val_accuracy: 0.8322 - val_loss: 0.4170\n",
      "Epoch 62/500\n",
      "\u001B[1m33/33\u001B[0m \u001B[32m━━━━━━━━━━━━━━━━━━━━\u001B[0m\u001B[37m\u001B[0m \u001B[1m0s\u001B[0m 7ms/step - accuracy: 0.9191 - loss: 0.2148 - val_accuracy: 0.8339 - val_loss: 0.4422\n",
      "Epoch 63/500\n",
      "\u001B[1m33/33\u001B[0m \u001B[32m━━━━━━━━━━━━━━━━━━━━\u001B[0m\u001B[37m\u001B[0m \u001B[1m0s\u001B[0m 8ms/step - accuracy: 0.9121 - loss: 0.2226 - val_accuracy: 0.8335 - val_loss: 0.4323\n",
      "Epoch 64/500\n",
      "\u001B[1m33/33\u001B[0m \u001B[32m━━━━━━━━━━━━━━━━━━━━\u001B[0m\u001B[37m\u001B[0m \u001B[1m0s\u001B[0m 8ms/step - accuracy: 0.9117 - loss: 0.2251 - val_accuracy: 0.8232 - val_loss: 0.4470\n",
      "Epoch 65/500\n",
      "\u001B[1m33/33\u001B[0m \u001B[32m━━━━━━━━━━━━━━━━━━━━\u001B[0m\u001B[37m\u001B[0m \u001B[1m0s\u001B[0m 9ms/step - accuracy: 0.9137 - loss: 0.2212 - val_accuracy: 0.8254 - val_loss: 0.4459\n",
      "Epoch 66/500\n",
      "\u001B[1m33/33\u001B[0m \u001B[32m━━━━━━━━━━━━━━━━━━━━\u001B[0m\u001B[37m\u001B[0m \u001B[1m0s\u001B[0m 8ms/step - accuracy: 0.9213 - loss: 0.2058 - val_accuracy: 0.8250 - val_loss: 0.4358\n",
      "Epoch 67/500\n",
      "\u001B[1m33/33\u001B[0m \u001B[32m━━━━━━━━━━━━━━━━━━━━\u001B[0m\u001B[37m\u001B[0m \u001B[1m0s\u001B[0m 8ms/step - accuracy: 0.9242 - loss: 0.2092 - val_accuracy: 0.8393 - val_loss: 0.4572\n",
      "Epoch 68/500\n",
      "\u001B[1m33/33\u001B[0m \u001B[32m━━━━━━━━━━━━━━━━━━━━\u001B[0m\u001B[37m\u001B[0m \u001B[1m0s\u001B[0m 8ms/step - accuracy: 0.9168 - loss: 0.2108 - val_accuracy: 0.8284 - val_loss: 0.4314\n",
      "Epoch 69/500\n",
      "\u001B[1m33/33\u001B[0m \u001B[32m━━━━━━━━━━━━━━━━━━━━\u001B[0m\u001B[37m\u001B[0m \u001B[1m0s\u001B[0m 8ms/step - accuracy: 0.9127 - loss: 0.2217 - val_accuracy: 0.8301 - val_loss: 0.4558\n",
      "Epoch 70/500\n",
      "\u001B[1m33/33\u001B[0m \u001B[32m━━━━━━━━━━━━━━━━━━━━\u001B[0m\u001B[37m\u001B[0m \u001B[1m0s\u001B[0m 8ms/step - accuracy: 0.9214 - loss: 0.2061 - val_accuracy: 0.8334 - val_loss: 0.4421\n",
      "Epoch 71/500\n",
      "\u001B[1m33/33\u001B[0m \u001B[32m━━━━━━━━━━━━━━━━━━━━\u001B[0m\u001B[37m\u001B[0m \u001B[1m0s\u001B[0m 8ms/step - accuracy: 0.9171 - loss: 0.2128 - val_accuracy: 0.8249 - val_loss: 0.4707\n",
      "Epoch 72/500\n",
      "\u001B[1m33/33\u001B[0m \u001B[32m━━━━━━━━━━━━━━━━━━━━\u001B[0m\u001B[37m\u001B[0m \u001B[1m0s\u001B[0m 7ms/step - accuracy: 0.9219 - loss: 0.2061 - val_accuracy: 0.8241 - val_loss: 0.4731\n",
      "Epoch 73/500\n",
      "\u001B[1m33/33\u001B[0m \u001B[32m━━━━━━━━━━━━━━━━━━━━\u001B[0m\u001B[37m\u001B[0m \u001B[1m0s\u001B[0m 7ms/step - accuracy: 0.9276 - loss: 0.1960 - val_accuracy: 0.8304 - val_loss: 0.4660\n",
      "Epoch 74/500\n",
      "\u001B[1m33/33\u001B[0m \u001B[32m━━━━━━━━━━━━━━━━━━━━\u001B[0m\u001B[37m\u001B[0m \u001B[1m0s\u001B[0m 8ms/step - accuracy: 0.9285 - loss: 0.1898 - val_accuracy: 0.8244 - val_loss: 0.4908\n",
      "Epoch 75/500\n",
      "\u001B[1m33/33\u001B[0m \u001B[32m━━━━━━━━━━━━━━━━━━━━\u001B[0m\u001B[37m\u001B[0m \u001B[1m0s\u001B[0m 9ms/step - accuracy: 0.9278 - loss: 0.1906 - val_accuracy: 0.8322 - val_loss: 0.4538\n",
      "Epoch 76/500\n",
      "\u001B[1m33/33\u001B[0m \u001B[32m━━━━━━━━━━━━━━━━━━━━\u001B[0m\u001B[37m\u001B[0m \u001B[1m0s\u001B[0m 7ms/step - accuracy: 0.9278 - loss: 0.1885 - val_accuracy: 0.8240 - val_loss: 0.4775\n",
      "Epoch 77/500\n",
      "\u001B[1m33/33\u001B[0m \u001B[32m━━━━━━━━━━━━━━━━━━━━\u001B[0m\u001B[37m\u001B[0m \u001B[1m0s\u001B[0m 8ms/step - accuracy: 0.9255 - loss: 0.1920 - val_accuracy: 0.8280 - val_loss: 0.4703\n",
      "Epoch 78/500\n",
      "\u001B[1m33/33\u001B[0m \u001B[32m━━━━━━━━━━━━━━━━━━━━\u001B[0m\u001B[37m\u001B[0m \u001B[1m0s\u001B[0m 7ms/step - accuracy: 0.9220 - loss: 0.1969 - val_accuracy: 0.8248 - val_loss: 0.4663\n",
      "Epoch 79/500\n",
      "\u001B[1m33/33\u001B[0m \u001B[32m━━━━━━━━━━━━━━━━━━━━\u001B[0m\u001B[37m\u001B[0m \u001B[1m0s\u001B[0m 8ms/step - accuracy: 0.9277 - loss: 0.1876 - val_accuracy: 0.8221 - val_loss: 0.4722\n",
      "Epoch 80/500\n",
      "\u001B[1m33/33\u001B[0m \u001B[32m━━━━━━━━━━━━━━━━━━━━\u001B[0m\u001B[37m\u001B[0m \u001B[1m0s\u001B[0m 7ms/step - accuracy: 0.9230 - loss: 0.1930 - val_accuracy: 0.8211 - val_loss: 0.5039\n",
      "Epoch 81/500\n",
      "\u001B[1m33/33\u001B[0m \u001B[32m━━━━━━━━━━━━━━━━━━━━\u001B[0m\u001B[37m\u001B[0m \u001B[1m0s\u001B[0m 8ms/step - accuracy: 0.9261 - loss: 0.1908 - val_accuracy: 0.8164 - val_loss: 0.5064\n",
      "Epoch 82/500\n",
      "\u001B[1m33/33\u001B[0m \u001B[32m━━━━━━━━━━━━━━━━━━━━\u001B[0m\u001B[37m\u001B[0m \u001B[1m0s\u001B[0m 7ms/step - accuracy: 0.9280 - loss: 0.1882 - val_accuracy: 0.8343 - val_loss: 0.5009\n",
      "Epoch 83/500\n",
      "\u001B[1m33/33\u001B[0m \u001B[32m━━━━━━━━━━━━━━━━━━━━\u001B[0m\u001B[37m\u001B[0m \u001B[1m0s\u001B[0m 7ms/step - accuracy: 0.9357 - loss: 0.1700 - val_accuracy: 0.8264 - val_loss: 0.5049\n",
      "Epoch 84/500\n",
      "\u001B[1m33/33\u001B[0m \u001B[32m━━━━━━━━━━━━━━━━━━━━\u001B[0m\u001B[37m\u001B[0m \u001B[1m0s\u001B[0m 8ms/step - accuracy: 0.9271 - loss: 0.1871 - val_accuracy: 0.8349 - val_loss: 0.4785\n",
      "Epoch 85/500\n",
      "\u001B[1m33/33\u001B[0m \u001B[32m━━━━━━━━━━━━━━━━━━━━\u001B[0m\u001B[37m\u001B[0m \u001B[1m0s\u001B[0m 7ms/step - accuracy: 0.9305 - loss: 0.1797 - val_accuracy: 0.8312 - val_loss: 0.5182\n",
      "Epoch 86/500\n",
      "\u001B[1m33/33\u001B[0m \u001B[32m━━━━━━━━━━━━━━━━━━━━\u001B[0m\u001B[37m\u001B[0m \u001B[1m0s\u001B[0m 7ms/step - accuracy: 0.9187 - loss: 0.1984 - val_accuracy: 0.8194 - val_loss: 0.5087\n",
      "Epoch 87/500\n",
      "\u001B[1m33/33\u001B[0m \u001B[32m━━━━━━━━━━━━━━━━━━━━\u001B[0m\u001B[37m\u001B[0m \u001B[1m0s\u001B[0m 9ms/step - accuracy: 0.9307 - loss: 0.1838 - val_accuracy: 0.8301 - val_loss: 0.5156\n",
      "Epoch 88/500\n",
      "\u001B[1m33/33\u001B[0m \u001B[32m━━━━━━━━━━━━━━━━━━━━\u001B[0m\u001B[37m\u001B[0m \u001B[1m0s\u001B[0m 7ms/step - accuracy: 0.9307 - loss: 0.1736 - val_accuracy: 0.8292 - val_loss: 0.5144\n",
      "Epoch 89/500\n",
      "\u001B[1m33/33\u001B[0m \u001B[32m━━━━━━━━━━━━━━━━━━━━\u001B[0m\u001B[37m\u001B[0m \u001B[1m0s\u001B[0m 8ms/step - accuracy: 0.9296 - loss: 0.1800 - val_accuracy: 0.8280 - val_loss: 0.5116\n",
      "Epoch 90/500\n",
      "\u001B[1m33/33\u001B[0m \u001B[32m━━━━━━━━━━━━━━━━━━━━\u001B[0m\u001B[37m\u001B[0m \u001B[1m0s\u001B[0m 7ms/step - accuracy: 0.9362 - loss: 0.1713 - val_accuracy: 0.8287 - val_loss: 0.5117\n",
      "Epoch 91/500\n",
      "\u001B[1m33/33\u001B[0m \u001B[32m━━━━━━━━━━━━━━━━━━━━\u001B[0m\u001B[37m\u001B[0m \u001B[1m0s\u001B[0m 8ms/step - accuracy: 0.9347 - loss: 0.1686 - val_accuracy: 0.8272 - val_loss: 0.5297\n",
      "Epoch 92/500\n",
      "\u001B[1m33/33\u001B[0m \u001B[32m━━━━━━━━━━━━━━━━━━━━\u001B[0m\u001B[37m\u001B[0m \u001B[1m0s\u001B[0m 7ms/step - accuracy: 0.9380 - loss: 0.1605 - val_accuracy: 0.8194 - val_loss: 0.5187\n",
      "Epoch 93/500\n",
      "\u001B[1m33/33\u001B[0m \u001B[32m━━━━━━━━━━━━━━━━━━━━\u001B[0m\u001B[37m\u001B[0m \u001B[1m0s\u001B[0m 8ms/step - accuracy: 0.9348 - loss: 0.1674 - val_accuracy: 0.8268 - val_loss: 0.5290\n",
      "Epoch 94/500\n",
      "\u001B[1m33/33\u001B[0m \u001B[32m━━━━━━━━━━━━━━━━━━━━\u001B[0m\u001B[37m\u001B[0m \u001B[1m0s\u001B[0m 7ms/step - accuracy: 0.9329 - loss: 0.1716 - val_accuracy: 0.8295 - val_loss: 0.5580\n",
      "Epoch 95/500\n",
      "\u001B[1m33/33\u001B[0m \u001B[32m━━━━━━━━━━━━━━━━━━━━\u001B[0m\u001B[37m\u001B[0m \u001B[1m0s\u001B[0m 8ms/step - accuracy: 0.9299 - loss: 0.1741 - val_accuracy: 0.8184 - val_loss: 0.5486\n",
      "Epoch 96/500\n",
      "\u001B[1m33/33\u001B[0m \u001B[32m━━━━━━━━━━━━━━━━━━━━\u001B[0m\u001B[37m\u001B[0m \u001B[1m0s\u001B[0m 7ms/step - accuracy: 0.9342 - loss: 0.1669 - val_accuracy: 0.8181 - val_loss: 0.5182\n",
      "Epoch 97/500\n",
      "\u001B[1m33/33\u001B[0m \u001B[32m━━━━━━━━━━━━━━━━━━━━\u001B[0m\u001B[37m\u001B[0m \u001B[1m0s\u001B[0m 8ms/step - accuracy: 0.9429 - loss: 0.1579 - val_accuracy: 0.8297 - val_loss: 0.5189\n",
      "Epoch 98/500\n",
      "\u001B[1m33/33\u001B[0m \u001B[32m━━━━━━━━━━━━━━━━━━━━\u001B[0m\u001B[37m\u001B[0m \u001B[1m0s\u001B[0m 8ms/step - accuracy: 0.9425 - loss: 0.1538 - val_accuracy: 0.8186 - val_loss: 0.5642\n",
      "Epoch 99/500\n",
      "\u001B[1m33/33\u001B[0m \u001B[32m━━━━━━━━━━━━━━━━━━━━\u001B[0m\u001B[37m\u001B[0m \u001B[1m0s\u001B[0m 9ms/step - accuracy: 0.9366 - loss: 0.1622 - val_accuracy: 0.8254 - val_loss: 0.5703\n",
      "Epoch 100/500\n",
      "\u001B[1m33/33\u001B[0m \u001B[32m━━━━━━━━━━━━━━━━━━━━\u001B[0m\u001B[37m\u001B[0m \u001B[1m0s\u001B[0m 8ms/step - accuracy: 0.9405 - loss: 0.1539 - val_accuracy: 0.8190 - val_loss: 0.5643\n",
      "Epoch 101/500\n",
      "\u001B[1m33/33\u001B[0m \u001B[32m━━━━━━━━━━━━━━━━━━━━\u001B[0m\u001B[37m\u001B[0m \u001B[1m0s\u001B[0m 7ms/step - accuracy: 0.9346 - loss: 0.1688 - val_accuracy: 0.8182 - val_loss: 0.5639\n",
      "Epoch 102/500\n",
      "\u001B[1m33/33\u001B[0m \u001B[32m━━━━━━━━━━━━━━━━━━━━\u001B[0m\u001B[37m\u001B[0m \u001B[1m0s\u001B[0m 7ms/step - accuracy: 0.9353 - loss: 0.1631 - val_accuracy: 0.8220 - val_loss: 0.5706\n",
      "Epoch 103/500\n",
      "\u001B[1m33/33\u001B[0m \u001B[32m━━━━━━━━━━━━━━━━━━━━\u001B[0m\u001B[37m\u001B[0m \u001B[1m0s\u001B[0m 7ms/step - accuracy: 0.9452 - loss: 0.1465 - val_accuracy: 0.8150 - val_loss: 0.5571\n",
      "Epoch 104/500\n",
      "\u001B[1m33/33\u001B[0m \u001B[32m━━━━━━━━━━━━━━━━━━━━\u001B[0m\u001B[37m\u001B[0m \u001B[1m0s\u001B[0m 8ms/step - accuracy: 0.9457 - loss: 0.1425 - val_accuracy: 0.8206 - val_loss: 0.5738\n",
      "Epoch 105/500\n",
      "\u001B[1m33/33\u001B[0m \u001B[32m━━━━━━━━━━━━━━━━━━━━\u001B[0m\u001B[37m\u001B[0m \u001B[1m0s\u001B[0m 8ms/step - accuracy: 0.9425 - loss: 0.1483 - val_accuracy: 0.8108 - val_loss: 0.6047\n",
      "Epoch 106/500\n",
      "\u001B[1m33/33\u001B[0m \u001B[32m━━━━━━━━━━━━━━━━━━━━\u001B[0m\u001B[37m\u001B[0m \u001B[1m0s\u001B[0m 8ms/step - accuracy: 0.9363 - loss: 0.1587 - val_accuracy: 0.8248 - val_loss: 0.5699\n",
      "Epoch 107/500\n",
      "\u001B[1m33/33\u001B[0m \u001B[32m━━━━━━━━━━━━━━━━━━━━\u001B[0m\u001B[37m\u001B[0m \u001B[1m0s\u001B[0m 10ms/step - accuracy: 0.9455 - loss: 0.1427 - val_accuracy: 0.8225 - val_loss: 0.5564\n",
      "Epoch 108/500\n",
      "\u001B[1m33/33\u001B[0m \u001B[32m━━━━━━━━━━━━━━━━━━━━\u001B[0m\u001B[37m\u001B[0m \u001B[1m0s\u001B[0m 9ms/step - accuracy: 0.9458 - loss: 0.1451 - val_accuracy: 0.8157 - val_loss: 0.5667\n",
      "Epoch 109/500\n",
      "\u001B[1m33/33\u001B[0m \u001B[32m━━━━━━━━━━━━━━━━━━━━\u001B[0m\u001B[37m\u001B[0m \u001B[1m0s\u001B[0m 8ms/step - accuracy: 0.9411 - loss: 0.1522 - val_accuracy: 0.8135 - val_loss: 0.5863\n",
      "Epoch 110/500\n",
      "\u001B[1m33/33\u001B[0m \u001B[32m━━━━━━━━━━━━━━━━━━━━\u001B[0m\u001B[37m\u001B[0m \u001B[1m0s\u001B[0m 7ms/step - accuracy: 0.9418 - loss: 0.1474 - val_accuracy: 0.8177 - val_loss: 0.6038\n",
      "Epoch 111/500\n",
      "\u001B[1m33/33\u001B[0m \u001B[32m━━━━━━━━━━━━━━━━━━━━\u001B[0m\u001B[37m\u001B[0m \u001B[1m0s\u001B[0m 8ms/step - accuracy: 0.9432 - loss: 0.1487 - val_accuracy: 0.8189 - val_loss: 0.6376\n",
      "Epoch 112/500\n",
      "\u001B[1m33/33\u001B[0m \u001B[32m━━━━━━━━━━━━━━━━━━━━\u001B[0m\u001B[37m\u001B[0m \u001B[1m0s\u001B[0m 7ms/step - accuracy: 0.9463 - loss: 0.1465 - val_accuracy: 0.8208 - val_loss: 0.6275\n",
      "Epoch 113/500\n",
      "\u001B[1m33/33\u001B[0m \u001B[32m━━━━━━━━━━━━━━━━━━━━\u001B[0m\u001B[37m\u001B[0m \u001B[1m0s\u001B[0m 7ms/step - accuracy: 0.9446 - loss: 0.1428 - val_accuracy: 0.8144 - val_loss: 0.6174\n",
      "Epoch 114/500\n",
      "\u001B[1m33/33\u001B[0m \u001B[32m━━━━━━━━━━━━━━━━━━━━\u001B[0m\u001B[37m\u001B[0m \u001B[1m0s\u001B[0m 8ms/step - accuracy: 0.9433 - loss: 0.1438 - val_accuracy: 0.8243 - val_loss: 0.6502\n"
     ]
    },
    {
     "data": {
      "text/plain": "<keras_core.src.callbacks.history.History at 0x7f80fa816c50>"
     },
     "execution_count": 11,
     "metadata": {},
     "output_type": "execute_result"
    }
   ],
   "source": [
    "plot_model(model, to_file=f\"{ml_core_folder_path}{params_grid['model']}\")"
   ],
   "metadata": {
    "collapsed": false,
    "ExecuteTime": {
     "end_time": "2024-07-02T16:52:30.750957Z",
     "start_time": "2024-07-02T16:51:44.605376Z"
    }
   },
   "id": "ba1d6a42d0826b57",
   "execution_count": 11
  },
  {
   "cell_type": "code",
   "outputs": [],
   "source": [
    "model.fit(X_train,\n",
    "          y_train,\n",
    "          epochs=500,\n",
    "          batch_size=params_grid['batch_size'],\n",
    "          callbacks=callback,\n",
    "          validation_data=(X_test, y_test)\n",
    "          )"
   ],
   "metadata": {
    "collapsed": false
   },
   "id": "bb2a2ddb0e1f70be"
  },
  {
   "cell_type": "markdown",
   "source": [
    "# save model"
   ],
   "metadata": {
    "collapsed": false
   },
   "id": "84f51140de160118"
  },
  {
   "cell_type": "code",
   "outputs": [],
   "source": [
    "model.save(model_weight_dst)"
   ],
   "metadata": {
    "collapsed": false
   },
   "id": "e1902ebb3c46924c"
  }
 ],
 "metadata": {
  "kernelspec": {
   "display_name": "Python 3 (ipykernel)",
   "language": "python",
   "name": "python3"
  },
  "language_info": {
   "codemirror_mode": {
    "name": "ipython",
    "version": 3
   },
   "file_extension": ".py",
   "mimetype": "text/x-python",
   "name": "python",
   "nbconvert_exporter": "python",
   "pygments_lexer": "ipython3",
   "version": "3.10.13"
  }
 },
 "nbformat": 4,
 "nbformat_minor": 5
}
=======
{
 "cells": [
  {
   "cell_type": "code",
   "id": "initial_id",
   "metadata": {
    "collapsed": false,
    "is_executing": true,
    "ExecuteTime": {
     "end_time": "2024-07-14T13:24:46.288629Z",
     "start_time": "2024-07-14T13:24:39.445065Z"
    }
   },
   "source": [
    "import datetime\n",
    "\n",
    "import os\n",
    "\n",
    "os.getcwd()\n",
    "if '.git' not in os.listdir():\n",
    "    os.chdir('./../../../../')\n",
    "os.listdir()\n",
    "\n",
    "from ml.ml_core.src.core.model_factory import model_factory\n",
    "\n",
    "import keras_core as keras\n",
    "import numpy as np\n",
    "import tensorflow as tf\n",
    "from sklearn.model_selection import train_test_split\n",
    "from tensorboard.plugins.hparams import api as hp\n"
   ],
   "outputs": [
    {
     "name": "stdout",
     "output_type": "stream",
     "text": [
      "Using TensorFlow backend\n"
     ]
    },
    {
     "name": "stderr",
     "output_type": "stream",
     "text": [
      "2024-07-14 15:24:41.006243: E tensorflow/compiler/xla/stream_executor/cuda/cuda_dnn.cc:9342] Unable to register cuDNN factory: Attempting to register factory for plugin cuDNN when one has already been registered\n",
      "2024-07-14 15:24:41.006301: E tensorflow/compiler/xla/stream_executor/cuda/cuda_fft.cc:609] Unable to register cuFFT factory: Attempting to register factory for plugin cuFFT when one has already been registered\n",
      "2024-07-14 15:24:41.009258: E tensorflow/compiler/xla/stream_executor/cuda/cuda_blas.cc:1518] Unable to register cuBLAS factory: Attempting to register factory for plugin cuBLAS when one has already been registered\n",
      "2024-07-14 15:24:41.307014: I tensorflow/core/platform/cpu_feature_guard.cc:182] This TensorFlow binary is optimized to use available CPU instructions in performance-critical operations.\n",
      "To enable the following instructions: AVX2 FMA, in other operations, rebuild TensorFlow with the appropriate compiler flags.\n"
     ]
    }
   ],
   "execution_count": 1
  },
  {
   "cell_type": "markdown",
   "id": "18856c657e08494f",
   "metadata": {
    "collapsed": false
   },
   "source": [
    "## Configurations"
   ]
  },
  {
   "cell_type": "code",
   "id": "9574abd306005981",
   "metadata": {
    "collapsed": false,
    "ExecuteTime": {
     "end_time": "2024-07-14T13:26:11.039849Z",
     "start_time": "2024-07-14T13:26:11.036882Z"
    }
   },
   "source": [
    "params_grid = {\n",
    "    \"model\": \"mlp\",\n",
    "    \"embedder\": \"camembert\",\n",
    "    \"embedding_data\": \"camembert\",\n",
    "    \"dataset\": \"corrected_format_all_data.csv\",\n",
    "    #\"dataset\": \"fr_hf.csv\",\n",
    "    \"batch_size\": 500\n",
    "}"
   ],
   "outputs": [],
   "execution_count": 2
  },
  {
   "cell_type": "code",
   "id": "d220a1d10493404e",
   "metadata": {
    "collapsed": false,
    "ExecuteTime": {
     "end_time": "2024-07-14T13:26:11.956722Z",
     "start_time": "2024-07-14T13:26:11.952954Z"
    }
   },
   "source": [
    "data_folder_src = 'ml/ml_core/data/processed/'\n",
    "ml_core_folder_path = 'ml/ml_core/'\n",
    "data_path_src = f'{data_folder_src}{params_grid[\"dataset\"]}'\n",
    "date_str = datetime.datetime.now().strftime(\"%Y%m%d-%H%M%S\")\n",
    "experiment_name = f'deepwoke_{params_grid[\"embedder\"]}_{params_grid[\"model\"]}_{params_grid[\"dataset\"]}_{date_str}'\n",
    "\n",
    "log_dir = f\"{ml_core_folder_path}log/fit/{experiment_name}\"\n",
    "model_weight_dst = f'{ml_core_folder_path}model_weights/{experiment_name}-model.keras'"
   ],
   "outputs": [],
   "execution_count": 3
  },
  {
   "cell_type": "code",
   "id": "63bc5b9857e00e2f",
   "metadata": {
    "collapsed": false,
    "ExecuteTime": {
     "end_time": "2024-07-14T13:26:12.310547Z",
     "start_time": "2024-07-14T13:26:12.307183Z"
    }
   },
   "source": [
    "\n",
    "vector_path = f'{ml_core_folder_path}embedded_vector/{params_grid[\"embedding_data\"]}_{params_grid[\"dataset\"]}'\n",
    "vector_x_dst = f'{vector_path}.x.npy'\n",
    "vector_y_dst = f'{vector_path}.y.npy'\n",
    "\n"
   ],
   "outputs": [],
   "execution_count": 4
  },
  {
   "metadata": {
    "ExecuteTime": {
     "end_time": "2024-07-14T13:26:13.238710Z",
     "start_time": "2024-07-14T13:26:13.234935Z"
    }
   },
   "cell_type": "code",
   "source": [
    "print(vector_x_dst)\n",
    "if os.path.exists(vector_x_dst):\n",
    "    print(\"the file exists\")\n",
    "else:\n",
    "    print(\"the file doesn't exist\")"
   ],
   "id": "db5290381ad36e42",
   "outputs": [
    {
     "name": "stdout",
     "output_type": "stream",
     "text": [
      "ml/ml_core/embedded_vector/camembert_corrected_format_all_data.csv.x.npy\n",
      "the file exists\n"
     ]
    }
   ],
   "execution_count": 5
  },
  {
   "cell_type": "markdown",
   "id": "5d4209390b020a7",
   "metadata": {
    "collapsed": false
   },
   "source": [
    "# loading dataset"
   ]
  },
  {
   "metadata": {
    "ExecuteTime": {
     "end_time": "2024-07-14T13:26:14.015947Z",
     "start_time": "2024-07-14T13:26:14.013492Z"
    }
   },
   "cell_type": "code",
   "source": "",
   "id": "e67a5702082972d1",
   "outputs": [],
   "execution_count": 5
  },
  {
   "cell_type": "code",
   "id": "cda597a675bb1ba2",
   "metadata": {
    "collapsed": false,
    "ExecuteTime": {
     "end_time": "2024-07-14T13:26:19.912925Z",
     "start_time": "2024-07-14T13:26:14.390271Z"
    }
   },
   "source": [
    "X = np.load(vector_x_dst, allow_pickle=True)\n",
    "y = np.load(vector_y_dst)"
   ],
   "outputs": [
    {
     "name": "stderr",
     "output_type": "stream",
     "text": [
      "2024-07-14 15:26:14.752177: I tensorflow/compiler/xla/stream_executor/cuda/cuda_gpu_executor.cc:880] could not open file to read NUMA node: /sys/bus/pci/devices/0000:01:00.0/numa_node\n",
      "Your kernel may have been built without NUMA support.\n",
      "2024-07-14 15:26:14.807432: I tensorflow/compiler/xla/stream_executor/cuda/cuda_gpu_executor.cc:880] could not open file to read NUMA node: /sys/bus/pci/devices/0000:01:00.0/numa_node\n",
      "Your kernel may have been built without NUMA support.\n",
      "2024-07-14 15:26:14.807500: I tensorflow/compiler/xla/stream_executor/cuda/cuda_gpu_executor.cc:880] could not open file to read NUMA node: /sys/bus/pci/devices/0000:01:00.0/numa_node\n",
      "Your kernel may have been built without NUMA support.\n",
      "2024-07-14 15:26:14.822787: I tensorflow/compiler/xla/stream_executor/cuda/cuda_gpu_executor.cc:880] could not open file to read NUMA node: /sys/bus/pci/devices/0000:01:00.0/numa_node\n",
      "Your kernel may have been built without NUMA support.\n",
      "2024-07-14 15:26:14.822861: I tensorflow/compiler/xla/stream_executor/cuda/cuda_gpu_executor.cc:880] could not open file to read NUMA node: /sys/bus/pci/devices/0000:01:00.0/numa_node\n",
      "Your kernel may have been built without NUMA support.\n",
      "2024-07-14 15:26:14.822915: I tensorflow/compiler/xla/stream_executor/cuda/cuda_gpu_executor.cc:880] could not open file to read NUMA node: /sys/bus/pci/devices/0000:01:00.0/numa_node\n",
      "Your kernel may have been built without NUMA support.\n",
      "2024-07-14 15:26:15.030297: I tensorflow/compiler/xla/stream_executor/cuda/cuda_gpu_executor.cc:880] could not open file to read NUMA node: /sys/bus/pci/devices/0000:01:00.0/numa_node\n",
      "Your kernel may have been built without NUMA support.\n",
      "2024-07-14 15:26:15.030347: I tensorflow/compiler/xla/stream_executor/cuda/cuda_gpu_executor.cc:880] could not open file to read NUMA node: /sys/bus/pci/devices/0000:01:00.0/numa_node\n",
      "Your kernel may have been built without NUMA support.\n",
      "2024-07-14 15:26:15.030355: I tensorflow/core/common_runtime/gpu/gpu_device.cc:1977] Could not identify NUMA node of platform GPU id 0, defaulting to 0.  Your kernel may not have been built with NUMA support.\n",
      "2024-07-14 15:26:15.030381: I tensorflow/compiler/xla/stream_executor/cuda/cuda_gpu_executor.cc:880] could not open file to read NUMA node: /sys/bus/pci/devices/0000:01:00.0/numa_node\n",
      "Your kernel may have been built without NUMA support.\n",
      "2024-07-14 15:26:15.030399: I tensorflow/core/common_runtime/gpu/gpu_device.cc:1886] Created device /job:localhost/replica:0/task:0/device:GPU:0 with 7537 MB memory:  -> device: 0, name: NVIDIA GeForce RTX 3080, pci bus id: 0000:01:00.0, compute capability: 8.6\n"
     ]
    }
   ],
   "execution_count": 6
  },
  {
   "metadata": {
    "ExecuteTime": {
     "end_time": "2024-07-14T12:20:37.495837Z",
     "start_time": "2024-07-14T12:20:37.492588Z"
    }
   },
   "cell_type": "code",
   "source": "X_ = X",
   "id": "2fc4024dd98ea5de",
   "outputs": [],
   "execution_count": 117
  },
  {
   "metadata": {
    "ExecuteTime": {
     "end_time": "2024-07-14T12:20:37.513824Z",
     "start_time": "2024-07-14T12:20:37.497582Z"
    }
   },
   "cell_type": "code",
   "source": "X_",
   "id": "2e5466b525f84bf2",
   "outputs": [
    {
     "data": {
      "text/plain": [
       "array([[-3.00412718e-03, -2.09290460e-02, -1.20949708e-02, ...,\n",
       "         1.16980476e-02, -2.85054017e-02,  4.33537103e-02],\n",
       "       [ 3.74236219e-02, -2.83517130e-02, -9.39433055e-04, ...,\n",
       "         7.60457069e-02,  1.82140004e-02,  8.72602686e-02],\n",
       "       [ 8.65206774e-03,  6.73334161e-03,  2.03371607e-02, ...,\n",
       "         4.67346162e-02,  2.64046732e-02,  4.09527496e-02],\n",
       "       ...,\n",
       "       [-7.95887783e-03,  3.46448645e-02,  8.19587513e-05, ...,\n",
       "         1.12064824e-01,  8.10555927e-03,  2.67341603e-02],\n",
       "       [ 9.54764802e-03, -5.82418265e-03,  1.51379136e-02, ...,\n",
       "        -1.33837201e-02,  1.24923177e-02,  3.33335958e-02],\n",
       "       [-1.86517872e-02,  9.07869823e-03,  8.25984217e-03, ...,\n",
       "         4.42401208e-02,  2.55091265e-02,  2.50717383e-02]])"
      ]
     },
     "execution_count": 118,
     "metadata": {},
     "output_type": "execute_result"
    }
   ],
   "execution_count": 118
  },
  {
   "metadata": {
    "ExecuteTime": {
     "end_time": "2024-07-14T12:20:37.535315Z",
     "start_time": "2024-07-14T12:20:37.515776Z"
    }
   },
   "cell_type": "code",
   "source": [
    "if params_grid[\"embedder\"] == \"camembert\":\n",
    "    x_squeezed = np.squeeze(X)\n",
    "    X_ = [x[:, 0, :] for x in x_squeezed]\n",
    "    X_ = np.array(X_)"
   ],
   "id": "96c7cb630478643b",
   "outputs": [],
   "execution_count": 119
  },
  {
   "metadata": {
    "ExecuteTime": {
     "end_time": "2024-07-14T12:20:37.550289Z",
     "start_time": "2024-07-14T12:20:37.538007Z"
    }
   },
   "cell_type": "code",
   "source": [
    "#if params_grid[\"embedder\"] == \"bert\":\n",
    "    #X_ = [x[:, 0, :] for x in x_squeezed]\n",
    "    #X_ = np.array(X_)"
   ],
   "id": "8cb133c3644ad600",
   "outputs": [],
   "execution_count": 120
  },
  {
   "cell_type": "markdown",
   "source": [
    "# Model"
   ],
   "metadata": {
    "collapsed": false
   },
   "id": "a2adf4c59ca51d9c"
  },
  {
   "cell_type": "markdown",
   "id": "5c8ac62597164bde",
   "metadata": {
    "collapsed": false
   },
   "source": [
    "## callbacks"
   ]
  },
  {
   "cell_type": "code",
   "id": "336209aae383296f",
   "metadata": {
    "collapsed": false,
    "ExecuteTime": {
     "end_time": "2024-07-14T12:20:37.566192Z",
     "start_time": "2024-07-14T12:20:37.552029Z"
    }
   },
   "source": [
    "early_stopping = keras.callbacks.EarlyStopping(\n",
    "    patience=10,\n",
    "    min_delta=0.001,\n",
    "    restore_best_weights=True,\n",
    "    monitor='loss'\n",
    ")\n"
   ],
   "outputs": [],
   "execution_count": 121
  },
  {
   "cell_type": "code",
   "id": "9f93ecb4efe31443",
   "metadata": {
    "collapsed": false,
    "ExecuteTime": {
     "end_time": "2024-07-14T12:20:37.581479Z",
     "start_time": "2024-07-14T12:20:37.567905Z"
    }
   },
   "source": [
    "\n",
    "class EarlyStoppingLogging(keras.callbacks.Callback):\n",
    "    def __init__(self, early_stopping_callback, log_dir):\n",
    "        super().__init__()\n",
    "        self.early_stopping = early_stopping_callback\n",
    "        self.stopped_epoch = 0\n",
    "        self.writer = tf.summary.create_file_writer(log_dir)\n",
    "\n",
    "    def on_epoch_end(self, epoch, logs=None):\n",
    "        if self.early_stopping.stopped_epoch > 0:\n",
    "            self.stopped_epoch = self.early_stopping.stopped_epoch\n",
    "            with self.writer.as_default():\n",
    "                tf.summary.scalar('early_stopping_epoch', self.stopped_epoch, step=epoch)\n",
    "                self.writer.flush()\n"
   ],
   "outputs": [],
   "execution_count": 122
  },
  {
   "cell_type": "code",
   "id": "7ec43b4117399510",
   "metadata": {
    "collapsed": false,
    "ExecuteTime": {
     "end_time": "2024-07-14T12:20:37.603689Z",
     "start_time": "2024-07-14T12:20:37.583137Z"
    }
   },
   "source": [
    "tensorboard_callback = keras.callbacks.TensorBoard(log_dir=log_dir, histogram_freq=1)\n",
    "early_stopping_logging_callback = EarlyStoppingLogging(early_stopping, log_dir)"
   ],
   "outputs": [],
   "execution_count": 123
  },
  {
   "cell_type": "code",
   "id": "3f3d46724d8e5aa1",
   "metadata": {
    "collapsed": false,
    "ExecuteTime": {
     "end_time": "2024-07-14T12:20:37.624975Z",
     "start_time": "2024-07-14T12:20:37.605457Z"
    }
   },
   "source": [
    "callback = [\n",
    "    early_stopping,\n",
    "    tensorboard_callback,\n",
    "    hp.KerasCallback(log_dir, params_grid),\n",
    "    early_stopping_logging_callback,\n",
    "]"
   ],
   "outputs": [],
   "execution_count": 124
  },
  {
   "metadata": {},
   "cell_type": "markdown",
   "source": "# building the model ",
   "id": "25a69ec6cfadda1d"
  },
  {
   "metadata": {
    "ExecuteTime": {
     "end_time": "2024-07-14T12:20:37.639853Z",
     "start_time": "2024-07-14T12:20:37.626426Z"
    }
   },
   "cell_type": "code",
   "source": [
    "def mlp_builder(input_dim, output_dim):\n",
    "    activation_function = 'softmax'\n",
    "    loss = 'categorical_crossentropy'\n",
    "    if output_dim == 1:\n",
    "        activation_function = 'sigmoid'\n",
    "        loss = 'binary_crossentropy'\n",
    "        \n",
    "\n",
    "    input_dim = input_dim[1]\n",
    "\n",
    "    input_tensor = keras.layers.Input(shape=(input_dim,))\n",
    "    hl = keras.layers.Dense(128, activation='relu')(input_tensor)\n",
    "    hl = keras.layers.Dropout(0.1)(hl)\n",
    "    hl = keras.layers.Dense(64, activation='relu')(hl)\n",
    "    hl = keras.layers.Dropout(0.1)(hl)\n",
    "    hl = keras.layers.Dense(34, activation='relu')(hl)\n",
    "    hl = keras.layers.Flatten()(hl)\n",
    "    output_tensor = keras.layers.Dense(output_dim, activation=activation_function)(hl)\n",
    "\n",
    "    model = keras.models.Model(inputs=[input_tensor], outputs=[output_tensor])\n",
    "    model.compile(optimizer='adam', loss=loss, metrics=['accuracy'])\n",
    "\n",
    "    return model\n"
   ],
   "id": "9a0327b4f3dda498",
   "outputs": [],
   "execution_count": 125
  },
  {
   "cell_type": "markdown",
   "id": "9dec354f696f24a9",
   "metadata": {
    "collapsed": false
   },
   "source": [
    "### training the model"
   ]
  },
  {
   "metadata": {
    "ExecuteTime": {
     "end_time": "2024-07-14T12:20:37.663430Z",
     "start_time": "2024-07-14T12:20:37.641346Z"
    }
   },
   "cell_type": "code",
   "source": "X_train, X_test, y_train, y_test = train_test_split(X_, y, test_size=0.3, random_state=42)",
   "id": "3d571c7331a28c2b",
   "outputs": [],
   "execution_count": 126
  },
  {
   "metadata": {
    "ExecuteTime": {
     "end_time": "2024-07-14T12:20:37.671713Z",
     "start_time": "2024-07-14T12:20:37.665044Z"
    }
   },
   "cell_type": "code",
   "source": "X_train.shape\n",
   "id": "b0bd470565c9e2f7",
   "outputs": [
    {
     "data": {
      "text/plain": [
       "(11828, 300)"
      ]
     },
     "execution_count": 127,
     "metadata": {},
     "output_type": "execute_result"
    }
   ],
   "execution_count": 127
  },
  {
   "cell_type": "code",
   "id": "c4cf876c5cbae2f2",
   "metadata": {
    "collapsed": false,
    "ExecuteTime": {
     "end_time": "2024-07-14T12:20:37.706652Z",
     "start_time": "2024-07-14T12:20:37.673118Z"
    }
   },
   "source": [
    "model = mlp_builder(X_train.shape, 1)\n",
    "print(model.summary)"
   ],
   "outputs": [
    {
     "name": "stdout",
     "output_type": "stream",
     "text": [
      "<bound method Model.summary of <Functional name=functional_11, built=True>>\n"
     ]
    }
   ],
   "execution_count": 128
  },
  {
   "metadata": {
    "ExecuteTime": {
     "end_time": "2024-07-14T12:20:37.712150Z",
     "start_time": "2024-07-14T12:20:37.707950Z"
    }
   },
   "cell_type": "code",
   "source": "type(X_train.shape)",
   "id": "4cf120a0419396bf",
   "outputs": [
    {
     "data": {
      "text/plain": [
       "tuple"
      ]
     },
     "execution_count": 129,
     "metadata": {},
     "output_type": "execute_result"
    }
   ],
   "execution_count": 129
  },
  {
   "cell_type": "code",
   "source": [
    "#plot_model(model, to_file=f\"{ml_core_folder_path}{params_grid['model']}\")\n",
    "if not isinstance(X_train, tf.Tensor):\n",
    "    X_train = tf.convert_to_tensor(X_train, dtype=tf.float32)\n",
    "\n",
    "if not isinstance(y_train, tf.Tensor):\n",
    "    y_train = tf.convert_to_tensor(y_train, dtype=tf.int32)"
   ],
   "metadata": {
    "collapsed": false,
    "ExecuteTime": {
     "end_time": "2024-07-14T12:20:37.738098Z",
     "start_time": "2024-07-14T12:20:37.713845Z"
    }
   },
   "id": "ba1d6a42d0826b57",
   "outputs": [],
   "execution_count": 130
  },
  {
   "cell_type": "code",
   "source": [
    "model.fit(X_train,\n",
    "          y_train,\n",
    "          epochs=500,\n",
    "          batch_size=params_grid['batch_size'],\n",
    "          callbacks=callback,\n",
    "          validation_data=(X_test, y_test)\n",
    "          )"
   ],
   "metadata": {
    "collapsed": false,
    "ExecuteTime": {
     "end_time": "2024-07-14T12:21:25.874262Z",
     "start_time": "2024-07-14T12:20:37.739509Z"
    }
   },
   "id": "bb2a2ddb0e1f70be",
   "outputs": [
    {
     "name": "stdout",
     "output_type": "stream",
     "text": [
      "Epoch 1/500\n",
      "\u001B[1m24/24\u001B[0m \u001B[32m━━━━━━━━━━━━━━━━━━━━\u001B[0m\u001B[37m\u001B[0m \u001B[1m5s\u001B[0m 114ms/step - accuracy: 0.6067 - loss: 0.6744 - val_accuracy: 0.6651 - val_loss: 0.5885\n",
      "Epoch 2/500\n",
      "\u001B[1m24/24\u001B[0m \u001B[32m━━━━━━━━━━━━━━━━━━━━\u001B[0m\u001B[37m\u001B[0m \u001B[1m0s\u001B[0m 13ms/step - accuracy: 0.6993 - loss: 0.5683 - val_accuracy: 0.7564 - val_loss: 0.5031\n",
      "Epoch 3/500\n",
      "\u001B[1m24/24\u001B[0m \u001B[32m━━━━━━━━━━━━━━━━━━━━\u001B[0m\u001B[37m\u001B[0m \u001B[1m0s\u001B[0m 11ms/step - accuracy: 0.7575 - loss: 0.5090 - val_accuracy: 0.7718 - val_loss: 0.4786\n",
      "Epoch 4/500\n",
      "\u001B[1m24/24\u001B[0m \u001B[32m━━━━━━━━━━━━━━━━━━━━\u001B[0m\u001B[37m\u001B[0m \u001B[1m0s\u001B[0m 12ms/step - accuracy: 0.7820 - loss: 0.4769 - val_accuracy: 0.7930 - val_loss: 0.4630\n",
      "Epoch 5/500\n",
      "\u001B[1m24/24\u001B[0m \u001B[32m━━━━━━━━━━━━━━━━━━━━\u001B[0m\u001B[37m\u001B[0m \u001B[1m0s\u001B[0m 12ms/step - accuracy: 0.7827 - loss: 0.4713 - val_accuracy: 0.7967 - val_loss: 0.4539\n",
      "Epoch 6/500\n",
      "\u001B[1m24/24\u001B[0m \u001B[32m━━━━━━━━━━━━━━━━━━━━\u001B[0m\u001B[37m\u001B[0m \u001B[1m0s\u001B[0m 10ms/step - accuracy: 0.7892 - loss: 0.4547 - val_accuracy: 0.8038 - val_loss: 0.4458\n",
      "Epoch 7/500\n",
      "\u001B[1m24/24\u001B[0m \u001B[32m━━━━━━━━━━━━━━━━━━━━\u001B[0m\u001B[37m\u001B[0m \u001B[1m0s\u001B[0m 11ms/step - accuracy: 0.7976 - loss: 0.4397 - val_accuracy: 0.8040 - val_loss: 0.4379\n",
      "Epoch 8/500\n",
      "\u001B[1m24/24\u001B[0m \u001B[32m━━━━━━━━━━━━━━━━━━━━\u001B[0m\u001B[37m\u001B[0m \u001B[1m0s\u001B[0m 12ms/step - accuracy: 0.7961 - loss: 0.4399 - val_accuracy: 0.8027 - val_loss: 0.4305\n",
      "Epoch 9/500\n",
      "\u001B[1m24/24\u001B[0m \u001B[32m━━━━━━━━━━━━━━━━━━━━\u001B[0m\u001B[37m\u001B[0m \u001B[1m0s\u001B[0m 10ms/step - accuracy: 0.8044 - loss: 0.4248 - val_accuracy: 0.8029 - val_loss: 0.4296\n",
      "Epoch 10/500\n",
      "\u001B[1m24/24\u001B[0m \u001B[32m━━━━━━━━━━━━━━━━━━━━\u001B[0m\u001B[37m\u001B[0m \u001B[1m0s\u001B[0m 11ms/step - accuracy: 0.8170 - loss: 0.4144 - val_accuracy: 0.8064 - val_loss: 0.4283\n",
      "Epoch 11/500\n",
      "\u001B[1m24/24\u001B[0m \u001B[32m━━━━━━━━━━━━━━━━━━━━\u001B[0m\u001B[37m\u001B[0m \u001B[1m0s\u001B[0m 11ms/step - accuracy: 0.8155 - loss: 0.4093 - val_accuracy: 0.8058 - val_loss: 0.4140\n",
      "Epoch 12/500\n",
      "\u001B[1m24/24\u001B[0m \u001B[32m━━━━━━━━━━━━━━━━━━━━\u001B[0m\u001B[37m\u001B[0m \u001B[1m0s\u001B[0m 10ms/step - accuracy: 0.8329 - loss: 0.3819 - val_accuracy: 0.8125 - val_loss: 0.4082\n",
      "Epoch 13/500\n",
      "\u001B[1m24/24\u001B[0m \u001B[32m━━━━━━━━━━━━━━━━━━━━\u001B[0m\u001B[37m\u001B[0m \u001B[1m0s\u001B[0m 11ms/step - accuracy: 0.8358 - loss: 0.3814 - val_accuracy: 0.8226 - val_loss: 0.4015\n",
      "Epoch 14/500\n",
      "\u001B[1m24/24\u001B[0m \u001B[32m━━━━━━━━━━━━━━━━━━━━\u001B[0m\u001B[37m\u001B[0m \u001B[1m0s\u001B[0m 10ms/step - accuracy: 0.8460 - loss: 0.3589 - val_accuracy: 0.8219 - val_loss: 0.3986\n",
      "Epoch 15/500\n",
      "\u001B[1m24/24\u001B[0m \u001B[32m━━━━━━━━━━━━━━━━━━━━\u001B[0m\u001B[37m\u001B[0m \u001B[1m0s\u001B[0m 10ms/step - accuracy: 0.8515 - loss: 0.3516 - val_accuracy: 0.8254 - val_loss: 0.3926\n",
      "Epoch 16/500\n",
      "\u001B[1m24/24\u001B[0m \u001B[32m━━━━━━━━━━━━━━━━━━━━\u001B[0m\u001B[37m\u001B[0m \u001B[1m0s\u001B[0m 10ms/step - accuracy: 0.8584 - loss: 0.3376 - val_accuracy: 0.8242 - val_loss: 0.3949\n",
      "Epoch 17/500\n",
      "\u001B[1m24/24\u001B[0m \u001B[32m━━━━━━━━━━━━━━━━━━━━\u001B[0m\u001B[37m\u001B[0m \u001B[1m0s\u001B[0m 10ms/step - accuracy: 0.8558 - loss: 0.3370 - val_accuracy: 0.8352 - val_loss: 0.3857\n",
      "Epoch 18/500\n",
      "\u001B[1m24/24\u001B[0m \u001B[32m━━━━━━━━━━━━━━━━━━━━\u001B[0m\u001B[37m\u001B[0m \u001B[1m0s\u001B[0m 11ms/step - accuracy: 0.8722 - loss: 0.3111 - val_accuracy: 0.8386 - val_loss: 0.3799\n",
      "Epoch 19/500\n",
      "\u001B[1m24/24\u001B[0m \u001B[32m━━━━━━━━━━━━━━━━━━━━\u001B[0m\u001B[37m\u001B[0m \u001B[1m0s\u001B[0m 10ms/step - accuracy: 0.8826 - loss: 0.2985 - val_accuracy: 0.8405 - val_loss: 0.3764\n",
      "Epoch 20/500\n",
      "\u001B[1m24/24\u001B[0m \u001B[32m━━━━━━━━━━━━━━━━━━━━\u001B[0m\u001B[37m\u001B[0m \u001B[1m0s\u001B[0m 12ms/step - accuracy: 0.8823 - loss: 0.2956 - val_accuracy: 0.8458 - val_loss: 0.3686\n",
      "Epoch 21/500\n",
      "\u001B[1m24/24\u001B[0m \u001B[32m━━━━━━━━━━━━━━━━━━━━\u001B[0m\u001B[37m\u001B[0m \u001B[1m0s\u001B[0m 11ms/step - accuracy: 0.8861 - loss: 0.2798 - val_accuracy: 0.8426 - val_loss: 0.3719\n",
      "Epoch 22/500\n",
      "\u001B[1m24/24\u001B[0m \u001B[32m━━━━━━━━━━━━━━━━━━━━\u001B[0m\u001B[37m\u001B[0m \u001B[1m0s\u001B[0m 11ms/step - accuracy: 0.8925 - loss: 0.2711 - val_accuracy: 0.8409 - val_loss: 0.3759\n",
      "Epoch 23/500\n",
      "\u001B[1m24/24\u001B[0m \u001B[32m━━━━━━━━━━━━━━━━━━━━\u001B[0m\u001B[37m\u001B[0m \u001B[1m0s\u001B[0m 11ms/step - accuracy: 0.8928 - loss: 0.2658 - val_accuracy: 0.8556 - val_loss: 0.3586\n",
      "Epoch 24/500\n",
      "\u001B[1m24/24\u001B[0m \u001B[32m━━━━━━━━━━━━━━━━━━━━\u001B[0m\u001B[37m\u001B[0m \u001B[1m0s\u001B[0m 11ms/step - accuracy: 0.8936 - loss: 0.2628 - val_accuracy: 0.8557 - val_loss: 0.3685\n",
      "Epoch 25/500\n",
      "\u001B[1m24/24\u001B[0m \u001B[32m━━━━━━━━━━━━━━━━━━━━\u001B[0m\u001B[37m\u001B[0m \u001B[1m0s\u001B[0m 10ms/step - accuracy: 0.9072 - loss: 0.2480 - val_accuracy: 0.8529 - val_loss: 0.3648\n",
      "Epoch 26/500\n",
      "\u001B[1m24/24\u001B[0m \u001B[32m━━━━━━━━━━━━━━━━━━━━\u001B[0m\u001B[37m\u001B[0m \u001B[1m0s\u001B[0m 10ms/step - accuracy: 0.9032 - loss: 0.2424 - val_accuracy: 0.8679 - val_loss: 0.3497\n",
      "Epoch 27/500\n",
      "\u001B[1m24/24\u001B[0m \u001B[32m━━━━━━━━━━━━━━━━━━━━\u001B[0m\u001B[37m\u001B[0m \u001B[1m0s\u001B[0m 10ms/step - accuracy: 0.9119 - loss: 0.2271 - val_accuracy: 0.8561 - val_loss: 0.3592\n",
      "Epoch 28/500\n",
      "\u001B[1m24/24\u001B[0m \u001B[32m━━━━━━━━━━━━━━━━━━━━\u001B[0m\u001B[37m\u001B[0m \u001B[1m0s\u001B[0m 10ms/step - accuracy: 0.9157 - loss: 0.2186 - val_accuracy: 0.8611 - val_loss: 0.3480\n",
      "Epoch 29/500\n",
      "\u001B[1m24/24\u001B[0m \u001B[32m━━━━━━━━━━━━━━━━━━━━\u001B[0m\u001B[37m\u001B[0m \u001B[1m0s\u001B[0m 13ms/step - accuracy: 0.9163 - loss: 0.2268 - val_accuracy: 0.8667 - val_loss: 0.3398\n",
      "Epoch 30/500\n",
      "\u001B[1m24/24\u001B[0m \u001B[32m━━━━━━━━━━━━━━━━━━━━\u001B[0m\u001B[37m\u001B[0m \u001B[1m0s\u001B[0m 14ms/step - accuracy: 0.9233 - loss: 0.2079 - val_accuracy: 0.8666 - val_loss: 0.3454\n",
      "Epoch 31/500\n",
      "\u001B[1m24/24\u001B[0m \u001B[32m━━━━━━━━━━━━━━━━━━━━\u001B[0m\u001B[37m\u001B[0m \u001B[1m0s\u001B[0m 12ms/step - accuracy: 0.9153 - loss: 0.2180 - val_accuracy: 0.8556 - val_loss: 0.3536\n",
      "Epoch 32/500\n",
      "\u001B[1m24/24\u001B[0m \u001B[32m━━━━━━━━━━━━━━━━━━━━\u001B[0m\u001B[37m\u001B[0m \u001B[1m0s\u001B[0m 12ms/step - accuracy: 0.9182 - loss: 0.2051 - val_accuracy: 0.8731 - val_loss: 0.3435\n",
      "Epoch 33/500\n",
      "\u001B[1m24/24\u001B[0m \u001B[32m━━━━━━━━━━━━━━━━━━━━\u001B[0m\u001B[37m\u001B[0m \u001B[1m0s\u001B[0m 10ms/step - accuracy: 0.9269 - loss: 0.1926 - val_accuracy: 0.8733 - val_loss: 0.3313\n",
      "Epoch 34/500\n",
      "\u001B[1m24/24\u001B[0m \u001B[32m━━━━━━━━━━━━━━━━━━━━\u001B[0m\u001B[37m\u001B[0m \u001B[1m0s\u001B[0m 10ms/step - accuracy: 0.9328 - loss: 0.1868 - val_accuracy: 0.8814 - val_loss: 0.3335\n",
      "Epoch 35/500\n",
      "\u001B[1m24/24\u001B[0m \u001B[32m━━━━━━━━━━━━━━━━━━━━\u001B[0m\u001B[37m\u001B[0m \u001B[1m0s\u001B[0m 10ms/step - accuracy: 0.9321 - loss: 0.1868 - val_accuracy: 0.8760 - val_loss: 0.3274\n",
      "Epoch 36/500\n",
      "\u001B[1m24/24\u001B[0m \u001B[32m━━━━━━━━━━━━━━━━━━━━\u001B[0m\u001B[37m\u001B[0m \u001B[1m0s\u001B[0m 9ms/step - accuracy: 0.9312 - loss: 0.1773 - val_accuracy: 0.8787 - val_loss: 0.3265\n",
      "Epoch 37/500\n",
      "\u001B[1m24/24\u001B[0m \u001B[32m━━━━━━━━━━━━━━━━━━━━\u001B[0m\u001B[37m\u001B[0m \u001B[1m0s\u001B[0m 11ms/step - accuracy: 0.9294 - loss: 0.1823 - val_accuracy: 0.8753 - val_loss: 0.3264\n",
      "Epoch 38/500\n",
      "\u001B[1m24/24\u001B[0m \u001B[32m━━━━━━━━━━━━━━━━━━━━\u001B[0m\u001B[37m\u001B[0m \u001B[1m0s\u001B[0m 9ms/step - accuracy: 0.9348 - loss: 0.1700 - val_accuracy: 0.8820 - val_loss: 0.3182\n",
      "Epoch 39/500\n",
      "\u001B[1m24/24\u001B[0m \u001B[32m━━━━━━━━━━━━━━━━━━━━\u001B[0m\u001B[37m\u001B[0m \u001B[1m0s\u001B[0m 9ms/step - accuracy: 0.9368 - loss: 0.1692 - val_accuracy: 0.8814 - val_loss: 0.3179\n",
      "Epoch 40/500\n",
      "\u001B[1m24/24\u001B[0m \u001B[32m━━━━━━━━━━━━━━━━━━━━\u001B[0m\u001B[37m\u001B[0m \u001B[1m0s\u001B[0m 10ms/step - accuracy: 0.9352 - loss: 0.1668 - val_accuracy: 0.8793 - val_loss: 0.3201\n",
      "Epoch 41/500\n",
      "\u001B[1m24/24\u001B[0m \u001B[32m━━━━━━━━━━━━━━━━━━━━\u001B[0m\u001B[37m\u001B[0m \u001B[1m0s\u001B[0m 11ms/step - accuracy: 0.9316 - loss: 0.1710 - val_accuracy: 0.8816 - val_loss: 0.3249\n",
      "Epoch 42/500\n",
      "\u001B[1m24/24\u001B[0m \u001B[32m━━━━━━━━━━━━━━━━━━━━\u001B[0m\u001B[37m\u001B[0m \u001B[1m0s\u001B[0m 11ms/step - accuracy: 0.9322 - loss: 0.1649 - val_accuracy: 0.8866 - val_loss: 0.3204\n",
      "Epoch 43/500\n",
      "\u001B[1m24/24\u001B[0m \u001B[32m━━━━━━━━━━━━━━━━━━━━\u001B[0m\u001B[37m\u001B[0m \u001B[1m0s\u001B[0m 10ms/step - accuracy: 0.9371 - loss: 0.1642 - val_accuracy: 0.8848 - val_loss: 0.3199\n",
      "Epoch 44/500\n",
      "\u001B[1m24/24\u001B[0m \u001B[32m━━━━━━━━━━━━━━━━━━━━\u001B[0m\u001B[37m\u001B[0m \u001B[1m0s\u001B[0m 10ms/step - accuracy: 0.9386 - loss: 0.1551 - val_accuracy: 0.8851 - val_loss: 0.3268\n",
      "Epoch 45/500\n",
      "\u001B[1m24/24\u001B[0m \u001B[32m━━━━━━━━━━━━━━━━━━━━\u001B[0m\u001B[37m\u001B[0m \u001B[1m0s\u001B[0m 10ms/step - accuracy: 0.9353 - loss: 0.1604 - val_accuracy: 0.8879 - val_loss: 0.3154\n",
      "Epoch 46/500\n",
      "\u001B[1m24/24\u001B[0m \u001B[32m━━━━━━━━━━━━━━━━━━━━\u001B[0m\u001B[37m\u001B[0m \u001B[1m0s\u001B[0m 10ms/step - accuracy: 0.9408 - loss: 0.1527 - val_accuracy: 0.8845 - val_loss: 0.3195\n",
      "Epoch 47/500\n",
      "\u001B[1m24/24\u001B[0m \u001B[32m━━━━━━━━━━━━━━━━━━━━\u001B[0m\u001B[37m\u001B[0m \u001B[1m0s\u001B[0m 10ms/step - accuracy: 0.9451 - loss: 0.1457 - val_accuracy: 0.8875 - val_loss: 0.3229\n",
      "Epoch 48/500\n",
      "\u001B[1m24/24\u001B[0m \u001B[32m━━━━━━━━━━━━━━━━━━━━\u001B[0m\u001B[37m\u001B[0m \u001B[1m0s\u001B[0m 11ms/step - accuracy: 0.9416 - loss: 0.1465 - val_accuracy: 0.8912 - val_loss: 0.3128\n",
      "Epoch 49/500\n",
      "\u001B[1m24/24\u001B[0m \u001B[32m━━━━━━━━━━━━━━━━━━━━\u001B[0m\u001B[37m\u001B[0m \u001B[1m0s\u001B[0m 11ms/step - accuracy: 0.9495 - loss: 0.1336 - val_accuracy: 0.8886 - val_loss: 0.3133\n",
      "Epoch 50/500\n",
      "\u001B[1m24/24\u001B[0m \u001B[32m━━━━━━━━━━━━━━━━━━━━\u001B[0m\u001B[37m\u001B[0m \u001B[1m0s\u001B[0m 11ms/step - accuracy: 0.9437 - loss: 0.1432 - val_accuracy: 0.8888 - val_loss: 0.3184\n",
      "Epoch 51/500\n",
      "\u001B[1m24/24\u001B[0m \u001B[32m━━━━━━━━━━━━━━━━━━━━\u001B[0m\u001B[37m\u001B[0m \u001B[1m0s\u001B[0m 10ms/step - accuracy: 0.9483 - loss: 0.1365 - val_accuracy: 0.8921 - val_loss: 0.3110\n",
      "Epoch 52/500\n",
      "\u001B[1m24/24\u001B[0m \u001B[32m━━━━━━━━━━━━━━━━━━━━\u001B[0m\u001B[37m\u001B[0m \u001B[1m0s\u001B[0m 10ms/step - accuracy: 0.9462 - loss: 0.1359 - val_accuracy: 0.8855 - val_loss: 0.3254\n",
      "Epoch 53/500\n",
      "\u001B[1m24/24\u001B[0m \u001B[32m━━━━━━━━━━━━━━━━━━━━\u001B[0m\u001B[37m\u001B[0m \u001B[1m0s\u001B[0m 11ms/step - accuracy: 0.9489 - loss: 0.1263 - val_accuracy: 0.8866 - val_loss: 0.3222\n",
      "Epoch 54/500\n",
      "\u001B[1m24/24\u001B[0m \u001B[32m━━━━━━━━━━━━━━━━━━━━\u001B[0m\u001B[37m\u001B[0m \u001B[1m0s\u001B[0m 11ms/step - accuracy: 0.9496 - loss: 0.1312 - val_accuracy: 0.8870 - val_loss: 0.3159\n",
      "Epoch 55/500\n",
      "\u001B[1m24/24\u001B[0m \u001B[32m━━━━━━━━━━━━━━━━━━━━\u001B[0m\u001B[37m\u001B[0m \u001B[1m0s\u001B[0m 11ms/step - accuracy: 0.9430 - loss: 0.1426 - val_accuracy: 0.8948 - val_loss: 0.3168\n",
      "Epoch 56/500\n",
      "\u001B[1m24/24\u001B[0m \u001B[32m━━━━━━━━━━━━━━━━━━━━\u001B[0m\u001B[37m\u001B[0m \u001B[1m0s\u001B[0m 11ms/step - accuracy: 0.9519 - loss: 0.1215 - val_accuracy: 0.8911 - val_loss: 0.3288\n",
      "Epoch 57/500\n",
      "\u001B[1m24/24\u001B[0m \u001B[32m━━━━━━━━━━━━━━━━━━━━\u001B[0m\u001B[37m\u001B[0m \u001B[1m0s\u001B[0m 11ms/step - accuracy: 0.9495 - loss: 0.1306 - val_accuracy: 0.8879 - val_loss: 0.3213\n",
      "Epoch 58/500\n",
      "\u001B[1m24/24\u001B[0m \u001B[32m━━━━━━━━━━━━━━━━━━━━\u001B[0m\u001B[37m\u001B[0m \u001B[1m0s\u001B[0m 11ms/step - accuracy: 0.9477 - loss: 0.1298 - val_accuracy: 0.8934 - val_loss: 0.3121\n",
      "Epoch 59/500\n",
      "\u001B[1m24/24\u001B[0m \u001B[32m━━━━━━━━━━━━━━━━━━━━\u001B[0m\u001B[37m\u001B[0m \u001B[1m0s\u001B[0m 11ms/step - accuracy: 0.9463 - loss: 0.1279 - val_accuracy: 0.8937 - val_loss: 0.3163\n",
      "Epoch 60/500\n",
      "\u001B[1m24/24\u001B[0m \u001B[32m━━━━━━━━━━━━━━━━━━━━\u001B[0m\u001B[37m\u001B[0m \u001B[1m0s\u001B[0m 11ms/step - accuracy: 0.9546 - loss: 0.1155 - val_accuracy: 0.8970 - val_loss: 0.3043\n",
      "Epoch 61/500\n",
      "\u001B[1m24/24\u001B[0m \u001B[32m━━━━━━━━━━━━━━━━━━━━\u001B[0m\u001B[37m\u001B[0m \u001B[1m0s\u001B[0m 10ms/step - accuracy: 0.9485 - loss: 0.1261 - val_accuracy: 0.8987 - val_loss: 0.3133\n",
      "Epoch 62/500\n",
      "\u001B[1m24/24\u001B[0m \u001B[32m━━━━━━━━━━━━━━━━━━━━\u001B[0m\u001B[37m\u001B[0m \u001B[1m0s\u001B[0m 10ms/step - accuracy: 0.9481 - loss: 0.1204 - val_accuracy: 0.8954 - val_loss: 0.3341\n",
      "Epoch 63/500\n",
      "\u001B[1m24/24\u001B[0m \u001B[32m━━━━━━━━━━━━━━━━━━━━\u001B[0m\u001B[37m\u001B[0m \u001B[1m0s\u001B[0m 11ms/step - accuracy: 0.9497 - loss: 0.1221 - val_accuracy: 0.8934 - val_loss: 0.3277\n",
      "Epoch 64/500\n",
      "\u001B[1m24/24\u001B[0m \u001B[32m━━━━━━━━━━━━━━━━━━━━\u001B[0m\u001B[37m\u001B[0m \u001B[1m0s\u001B[0m 11ms/step - accuracy: 0.9531 - loss: 0.1185 - val_accuracy: 0.8965 - val_loss: 0.3230\n",
      "Epoch 65/500\n",
      "\u001B[1m24/24\u001B[0m \u001B[32m━━━━━━━━━━━━━━━━━━━━\u001B[0m\u001B[37m\u001B[0m \u001B[1m0s\u001B[0m 11ms/step - accuracy: 0.9511 - loss: 0.1201 - val_accuracy: 0.8976 - val_loss: 0.3111\n",
      "Epoch 66/500\n",
      "\u001B[1m24/24\u001B[0m \u001B[32m━━━━━━━━━━━━━━━━━━━━\u001B[0m\u001B[37m\u001B[0m \u001B[1m0s\u001B[0m 11ms/step - accuracy: 0.9509 - loss: 0.1189 - val_accuracy: 0.9002 - val_loss: 0.3166\n",
      "Epoch 67/500\n",
      "\u001B[1m24/24\u001B[0m \u001B[32m━━━━━━━━━━━━━━━━━━━━\u001B[0m\u001B[37m\u001B[0m \u001B[1m0s\u001B[0m 10ms/step - accuracy: 0.9514 - loss: 0.1115 - val_accuracy: 0.8974 - val_loss: 0.3146\n",
      "Epoch 68/500\n",
      "\u001B[1m24/24\u001B[0m \u001B[32m━━━━━━━━━━━━━━━━━━━━\u001B[0m\u001B[37m\u001B[0m \u001B[1m0s\u001B[0m 10ms/step - accuracy: 0.9484 - loss: 0.1209 - val_accuracy: 0.9022 - val_loss: 0.3083\n",
      "Epoch 69/500\n",
      "\u001B[1m24/24\u001B[0m \u001B[32m━━━━━━━━━━━━━━━━━━━━\u001B[0m\u001B[37m\u001B[0m \u001B[1m0s\u001B[0m 10ms/step - accuracy: 0.9523 - loss: 0.1102 - val_accuracy: 0.8987 - val_loss: 0.3096\n",
      "Epoch 70/500\n",
      "\u001B[1m24/24\u001B[0m \u001B[32m━━━━━━━━━━━━━━━━━━━━\u001B[0m\u001B[37m\u001B[0m \u001B[1m0s\u001B[0m 10ms/step - accuracy: 0.9509 - loss: 0.1107 - val_accuracy: 0.8987 - val_loss: 0.3056\n",
      "Epoch 71/500\n",
      "\u001B[1m24/24\u001B[0m \u001B[32m━━━━━━━━━━━━━━━━━━━━\u001B[0m\u001B[37m\u001B[0m \u001B[1m0s\u001B[0m 11ms/step - accuracy: 0.9542 - loss: 0.1080 - val_accuracy: 0.8978 - val_loss: 0.3195\n",
      "Epoch 72/500\n",
      "\u001B[1m24/24\u001B[0m \u001B[32m━━━━━━━━━━━━━━━━━━━━\u001B[0m\u001B[37m\u001B[0m \u001B[1m0s\u001B[0m 11ms/step - accuracy: 0.9533 - loss: 0.1110 - val_accuracy: 0.8996 - val_loss: 0.3193\n",
      "Epoch 73/500\n",
      "\u001B[1m24/24\u001B[0m \u001B[32m━━━━━━━━━━━━━━━━━━━━\u001B[0m\u001B[37m\u001B[0m \u001B[1m0s\u001B[0m 11ms/step - accuracy: 0.9533 - loss: 0.1115 - val_accuracy: 0.9022 - val_loss: 0.3185\n",
      "Epoch 74/500\n",
      "\u001B[1m24/24\u001B[0m \u001B[32m━━━━━━━━━━━━━━━━━━━━\u001B[0m\u001B[37m\u001B[0m \u001B[1m0s\u001B[0m 10ms/step - accuracy: 0.9523 - loss: 0.1131 - val_accuracy: 0.8965 - val_loss: 0.3122\n",
      "Epoch 75/500\n",
      "\u001B[1m24/24\u001B[0m \u001B[32m━━━━━━━━━━━━━━━━━━━━\u001B[0m\u001B[37m\u001B[0m \u001B[1m0s\u001B[0m 12ms/step - accuracy: 0.9516 - loss: 0.1121 - val_accuracy: 0.9005 - val_loss: 0.3173\n",
      "Epoch 76/500\n",
      "\u001B[1m24/24\u001B[0m \u001B[32m━━━━━━━━━━━━━━━━━━━━\u001B[0m\u001B[37m\u001B[0m \u001B[1m0s\u001B[0m 13ms/step - accuracy: 0.9540 - loss: 0.1038 - val_accuracy: 0.8969 - val_loss: 0.3190\n",
      "Epoch 77/500\n",
      "\u001B[1m24/24\u001B[0m \u001B[32m━━━━━━━━━━━━━━━━━━━━\u001B[0m\u001B[37m\u001B[0m \u001B[1m0s\u001B[0m 14ms/step - accuracy: 0.9544 - loss: 0.1043 - val_accuracy: 0.8949 - val_loss: 0.3232\n",
      "Epoch 78/500\n",
      "\u001B[1m24/24\u001B[0m \u001B[32m━━━━━━━━━━━━━━━━━━━━\u001B[0m\u001B[37m\u001B[0m \u001B[1m0s\u001B[0m 11ms/step - accuracy: 0.9577 - loss: 0.1052 - val_accuracy: 0.8983 - val_loss: 0.3187\n",
      "Epoch 79/500\n",
      "\u001B[1m24/24\u001B[0m \u001B[32m━━━━━━━━━━━━━━━━━━━━\u001B[0m\u001B[37m\u001B[0m \u001B[1m0s\u001B[0m 10ms/step - accuracy: 0.9510 - loss: 0.1138 - val_accuracy: 0.8990 - val_loss: 0.3414\n",
      "Epoch 80/500\n",
      "\u001B[1m24/24\u001B[0m \u001B[32m━━━━━━━━━━━━━━━━━━━━\u001B[0m\u001B[37m\u001B[0m \u001B[1m0s\u001B[0m 10ms/step - accuracy: 0.9547 - loss: 0.1037 - val_accuracy: 0.8986 - val_loss: 0.3188\n",
      "Epoch 81/500\n",
      "\u001B[1m24/24\u001B[0m \u001B[32m━━━━━━━━━━━━━━━━━━━━\u001B[0m\u001B[37m\u001B[0m \u001B[1m0s\u001B[0m 9ms/step - accuracy: 0.9584 - loss: 0.0992 - val_accuracy: 0.8996 - val_loss: 0.3118\n",
      "Epoch 82/500\n",
      "\u001B[1m24/24\u001B[0m \u001B[32m━━━━━━━━━━━━━━━━━━━━\u001B[0m\u001B[37m\u001B[0m \u001B[1m0s\u001B[0m 9ms/step - accuracy: 0.9558 - loss: 0.1023 - val_accuracy: 0.9001 - val_loss: 0.3309\n",
      "Epoch 83/500\n",
      "\u001B[1m24/24\u001B[0m \u001B[32m━━━━━━━━━━━━━━━━━━━━\u001B[0m\u001B[37m\u001B[0m \u001B[1m0s\u001B[0m 10ms/step - accuracy: 0.9618 - loss: 0.0963 - val_accuracy: 0.8986 - val_loss: 0.3118\n",
      "Epoch 84/500\n",
      "\u001B[1m24/24\u001B[0m \u001B[32m━━━━━━━━━━━━━━━━━━━━\u001B[0m\u001B[37m\u001B[0m \u001B[1m0s\u001B[0m 10ms/step - accuracy: 0.9565 - loss: 0.1002 - val_accuracy: 0.8997 - val_loss: 0.3126\n",
      "Epoch 85/500\n",
      "\u001B[1m24/24\u001B[0m \u001B[32m━━━━━━━━━━━━━━━━━━━━\u001B[0m\u001B[37m\u001B[0m \u001B[1m0s\u001B[0m 10ms/step - accuracy: 0.9600 - loss: 0.0968 - val_accuracy: 0.8977 - val_loss: 0.3335\n",
      "Epoch 86/500\n",
      "\u001B[1m24/24\u001B[0m \u001B[32m━━━━━━━━━━━━━━━━━━━━\u001B[0m\u001B[37m\u001B[0m \u001B[1m0s\u001B[0m 9ms/step - accuracy: 0.9575 - loss: 0.0982 - val_accuracy: 0.8928 - val_loss: 0.3428\n",
      "Epoch 87/500\n",
      "\u001B[1m24/24\u001B[0m \u001B[32m━━━━━━━━━━━━━━━━━━━━\u001B[0m\u001B[37m\u001B[0m \u001B[1m0s\u001B[0m 10ms/step - accuracy: 0.9528 - loss: 0.1110 - val_accuracy: 0.8995 - val_loss: 0.3242\n",
      "Epoch 88/500\n",
      "\u001B[1m24/24\u001B[0m \u001B[32m━━━━━━━━━━━━━━━━━━━━\u001B[0m\u001B[37m\u001B[0m \u001B[1m0s\u001B[0m 9ms/step - accuracy: 0.9569 - loss: 0.0973 - val_accuracy: 0.8994 - val_loss: 0.3206\n",
      "Epoch 89/500\n",
      "\u001B[1m24/24\u001B[0m \u001B[32m━━━━━━━━━━━━━━━━━━━━\u001B[0m\u001B[37m\u001B[0m \u001B[1m0s\u001B[0m 10ms/step - accuracy: 0.9574 - loss: 0.0970 - val_accuracy: 0.9035 - val_loss: 0.3359\n",
      "Epoch 90/500\n",
      "\u001B[1m24/24\u001B[0m \u001B[32m━━━━━━━━━━━━━━━━━━━━\u001B[0m\u001B[37m\u001B[0m \u001B[1m0s\u001B[0m 10ms/step - accuracy: 0.9563 - loss: 0.1019 - val_accuracy: 0.9009 - val_loss: 0.3257\n",
      "Epoch 91/500\n",
      "\u001B[1m24/24\u001B[0m \u001B[32m━━━━━━━━━━━━━━━━━━━━\u001B[0m\u001B[37m\u001B[0m \u001B[1m0s\u001B[0m 10ms/step - accuracy: 0.9605 - loss: 0.0970 - val_accuracy: 0.8994 - val_loss: 0.3240\n",
      "Epoch 92/500\n",
      "\u001B[1m24/24\u001B[0m \u001B[32m━━━━━━━━━━━━━━━━━━━━\u001B[0m\u001B[37m\u001B[0m \u001B[1m0s\u001B[0m 10ms/step - accuracy: 0.9562 - loss: 0.1026 - val_accuracy: 0.9016 - val_loss: 0.3268\n",
      "Epoch 93/500\n",
      "\u001B[1m24/24\u001B[0m \u001B[32m━━━━━━━━━━━━━━━━━━━━\u001B[0m\u001B[37m\u001B[0m \u001B[1m0s\u001B[0m 10ms/step - accuracy: 0.9598 - loss: 0.0913 - val_accuracy: 0.8983 - val_loss: 0.3199\n",
      "Epoch 94/500\n",
      "\u001B[1m24/24\u001B[0m \u001B[32m━━━━━━━━━━━━━━━━━━━━\u001B[0m\u001B[37m\u001B[0m \u001B[1m0s\u001B[0m 10ms/step - accuracy: 0.9567 - loss: 0.0963 - val_accuracy: 0.8969 - val_loss: 0.3274\n",
      "Epoch 95/500\n",
      "\u001B[1m24/24\u001B[0m \u001B[32m━━━━━━━━━━━━━━━━━━━━\u001B[0m\u001B[37m\u001B[0m \u001B[1m0s\u001B[0m 11ms/step - accuracy: 0.9608 - loss: 0.0904 - val_accuracy: 0.9007 - val_loss: 0.3373\n",
      "Epoch 96/500\n",
      "\u001B[1m24/24\u001B[0m \u001B[32m━━━━━━━━━━━━━━━━━━━━\u001B[0m\u001B[37m\u001B[0m \u001B[1m0s\u001B[0m 10ms/step - accuracy: 0.9576 - loss: 0.0957 - val_accuracy: 0.8974 - val_loss: 0.3515\n",
      "Epoch 97/500\n",
      "\u001B[1m24/24\u001B[0m \u001B[32m━━━━━━━━━━━━━━━━━━━━\u001B[0m\u001B[37m\u001B[0m \u001B[1m0s\u001B[0m 10ms/step - accuracy: 0.9572 - loss: 0.0958 - val_accuracy: 0.9010 - val_loss: 0.3216\n",
      "Epoch 98/500\n",
      "\u001B[1m24/24\u001B[0m \u001B[32m━━━━━━━━━━━━━━━━━━━━\u001B[0m\u001B[37m\u001B[0m \u001B[1m0s\u001B[0m 10ms/step - accuracy: 0.9583 - loss: 0.0905 - val_accuracy: 0.8987 - val_loss: 0.3339\n",
      "Epoch 99/500\n",
      "\u001B[1m24/24\u001B[0m \u001B[32m━━━━━━━━━━━━━━━━━━━━\u001B[0m\u001B[37m\u001B[0m \u001B[1m0s\u001B[0m 10ms/step - accuracy: 0.9581 - loss: 0.0919 - val_accuracy: 0.9034 - val_loss: 0.3248\n",
      "Epoch 100/500\n",
      "\u001B[1m24/24\u001B[0m \u001B[32m━━━━━━━━━━━━━━━━━━━━\u001B[0m\u001B[37m\u001B[0m \u001B[1m0s\u001B[0m 10ms/step - accuracy: 0.9540 - loss: 0.0975 - val_accuracy: 0.8976 - val_loss: 0.3217\n",
      "Epoch 101/500\n",
      "\u001B[1m24/24\u001B[0m \u001B[32m━━━━━━━━━━━━━━━━━━━━\u001B[0m\u001B[37m\u001B[0m \u001B[1m0s\u001B[0m 10ms/step - accuracy: 0.9602 - loss: 0.0912 - val_accuracy: 0.9014 - val_loss: 0.3220\n",
      "Epoch 102/500\n",
      "\u001B[1m24/24\u001B[0m \u001B[32m━━━━━━━━━━━━━━━━━━━━\u001B[0m\u001B[37m\u001B[0m \u001B[1m0s\u001B[0m 10ms/step - accuracy: 0.9594 - loss: 0.0915 - val_accuracy: 0.8987 - val_loss: 0.3242\n",
      "Epoch 103/500\n",
      "\u001B[1m24/24\u001B[0m \u001B[32m━━━━━━━━━━━━━━━━━━━━\u001B[0m\u001B[37m\u001B[0m \u001B[1m0s\u001B[0m 10ms/step - accuracy: 0.9600 - loss: 0.0883 - val_accuracy: 0.9020 - val_loss: 0.3373\n",
      "Epoch 104/500\n",
      "\u001B[1m24/24\u001B[0m \u001B[32m━━━━━━━━━━━━━━━━━━━━\u001B[0m\u001B[37m\u001B[0m \u001B[1m0s\u001B[0m 11ms/step - accuracy: 0.9579 - loss: 0.0948 - val_accuracy: 0.9014 - val_loss: 0.3069\n",
      "Epoch 105/500\n",
      "\u001B[1m24/24\u001B[0m \u001B[32m━━━━━━━━━━━━━━━━━━━━\u001B[0m\u001B[37m\u001B[0m \u001B[1m0s\u001B[0m 11ms/step - accuracy: 0.9594 - loss: 0.0960 - val_accuracy: 0.9047 - val_loss: 0.3365\n",
      "Epoch 106/500\n",
      "\u001B[1m24/24\u001B[0m \u001B[32m━━━━━━━━━━━━━━━━━━━━\u001B[0m\u001B[37m\u001B[0m \u001B[1m0s\u001B[0m 9ms/step - accuracy: 0.9609 - loss: 0.0874 - val_accuracy: 0.9006 - val_loss: 0.3369\n",
      "Epoch 107/500\n",
      "\u001B[1m24/24\u001B[0m \u001B[32m━━━━━━━━━━━━━━━━━━━━\u001B[0m\u001B[37m\u001B[0m \u001B[1m0s\u001B[0m 11ms/step - accuracy: 0.9587 - loss: 0.0875 - val_accuracy: 0.9001 - val_loss: 0.3309\n",
      "Epoch 108/500\n",
      "\u001B[1m24/24\u001B[0m \u001B[32m━━━━━━━━━━━━━━━━━━━━\u001B[0m\u001B[37m\u001B[0m \u001B[1m0s\u001B[0m 10ms/step - accuracy: 0.9600 - loss: 0.0879 - val_accuracy: 0.8995 - val_loss: 0.3294\n",
      "Epoch 109/500\n",
      "\u001B[1m24/24\u001B[0m \u001B[32m━━━━━━━━━━━━━━━━━━━━\u001B[0m\u001B[37m\u001B[0m \u001B[1m0s\u001B[0m 10ms/step - accuracy: 0.9606 - loss: 0.0866 - val_accuracy: 0.9025 - val_loss: 0.3420\n",
      "Epoch 110/500\n",
      "\u001B[1m24/24\u001B[0m \u001B[32m━━━━━━━━━━━━━━━━━━━━\u001B[0m\u001B[37m\u001B[0m \u001B[1m0s\u001B[0m 11ms/step - accuracy: 0.9595 - loss: 0.0889 - val_accuracy: 0.9001 - val_loss: 0.3313\n",
      "Epoch 111/500\n",
      "\u001B[1m24/24\u001B[0m \u001B[32m━━━━━━━━━━━━━━━━━━━━\u001B[0m\u001B[37m\u001B[0m \u001B[1m0s\u001B[0m 11ms/step - accuracy: 0.9604 - loss: 0.0867 - val_accuracy: 0.8977 - val_loss: 0.3219\n",
      "Epoch 112/500\n",
      "\u001B[1m24/24\u001B[0m \u001B[32m━━━━━━━━━━━━━━━━━━━━\u001B[0m\u001B[37m\u001B[0m \u001B[1m0s\u001B[0m 11ms/step - accuracy: 0.9610 - loss: 0.0850 - val_accuracy: 0.8983 - val_loss: 0.3309\n",
      "Epoch 113/500\n",
      "\u001B[1m24/24\u001B[0m \u001B[32m━━━━━━━━━━━━━━━━━━━━\u001B[0m\u001B[37m\u001B[0m \u001B[1m0s\u001B[0m 10ms/step - accuracy: 0.9636 - loss: 0.0830 - val_accuracy: 0.8978 - val_loss: 0.3318\n",
      "Epoch 114/500\n",
      "\u001B[1m24/24\u001B[0m \u001B[32m━━━━━━━━━━━━━━━━━━━━\u001B[0m\u001B[37m\u001B[0m \u001B[1m0s\u001B[0m 10ms/step - accuracy: 0.9616 - loss: 0.0840 - val_accuracy: 0.9006 - val_loss: 0.3393\n",
      "Epoch 115/500\n",
      "\u001B[1m24/24\u001B[0m \u001B[32m━━━━━━━━━━━━━━━━━━━━\u001B[0m\u001B[37m\u001B[0m \u001B[1m0s\u001B[0m 10ms/step - accuracy: 0.9593 - loss: 0.0871 - val_accuracy: 0.8974 - val_loss: 0.3282\n",
      "Epoch 116/500\n",
      "\u001B[1m24/24\u001B[0m \u001B[32m━━━━━━━━━━━━━━━━━━━━\u001B[0m\u001B[37m\u001B[0m \u001B[1m0s\u001B[0m 10ms/step - accuracy: 0.9600 - loss: 0.0844 - val_accuracy: 0.9030 - val_loss: 0.3532\n",
      "Epoch 117/500\n",
      "\u001B[1m24/24\u001B[0m \u001B[32m━━━━━━━━━━━━━━━━━━━━\u001B[0m\u001B[37m\u001B[0m \u001B[1m0s\u001B[0m 10ms/step - accuracy: 0.9572 - loss: 0.0914 - val_accuracy: 0.8975 - val_loss: 0.3449\n",
      "Epoch 118/500\n",
      "\u001B[1m24/24\u001B[0m \u001B[32m━━━━━━━━━━━━━━━━━━━━\u001B[0m\u001B[37m\u001B[0m \u001B[1m0s\u001B[0m 10ms/step - accuracy: 0.9595 - loss: 0.0872 - val_accuracy: 0.9003 - val_loss: 0.3369\n",
      "Epoch 119/500\n",
      "\u001B[1m24/24\u001B[0m \u001B[32m━━━━━━━━━━━━━━━━━━━━\u001B[0m\u001B[37m\u001B[0m \u001B[1m0s\u001B[0m 10ms/step - accuracy: 0.9579 - loss: 0.0877 - val_accuracy: 0.9040 - val_loss: 0.3349\n",
      "Epoch 120/500\n",
      "\u001B[1m24/24\u001B[0m \u001B[32m━━━━━━━━━━━━━━━━━━━━\u001B[0m\u001B[37m\u001B[0m \u001B[1m0s\u001B[0m 10ms/step - accuracy: 0.9612 - loss: 0.0870 - val_accuracy: 0.8983 - val_loss: 0.3352\n",
      "Epoch 121/500\n",
      "\u001B[1m24/24\u001B[0m \u001B[32m━━━━━━━━━━━━━━━━━━━━\u001B[0m\u001B[37m\u001B[0m \u001B[1m0s\u001B[0m 10ms/step - accuracy: 0.9600 - loss: 0.0859 - val_accuracy: 0.9047 - val_loss: 0.3405\n",
      "Epoch 122/500\n",
      "\u001B[1m24/24\u001B[0m \u001B[32m━━━━━━━━━━━━━━━━━━━━\u001B[0m\u001B[37m\u001B[0m \u001B[1m0s\u001B[0m 10ms/step - accuracy: 0.9597 - loss: 0.0846 - val_accuracy: 0.9005 - val_loss: 0.3499\n",
      "Epoch 123/500\n",
      "\u001B[1m24/24\u001B[0m \u001B[32m━━━━━━━━━━━━━━━━━━━━\u001B[0m\u001B[37m\u001B[0m \u001B[1m0s\u001B[0m 10ms/step - accuracy: 0.9607 - loss: 0.0820 - val_accuracy: 0.9016 - val_loss: 0.3420\n",
      "Epoch 124/500\n",
      "\u001B[1m24/24\u001B[0m \u001B[32m━━━━━━━━━━━━━━━━━━━━\u001B[0m\u001B[37m\u001B[0m \u001B[1m0s\u001B[0m 10ms/step - accuracy: 0.9599 - loss: 0.0818 - val_accuracy: 0.8990 - val_loss: 0.3331\n",
      "Epoch 125/500\n",
      "\u001B[1m24/24\u001B[0m \u001B[32m━━━━━━━━━━━━━━━━━━━━\u001B[0m\u001B[37m\u001B[0m \u001B[1m0s\u001B[0m 10ms/step - accuracy: 0.9580 - loss: 0.0867 - val_accuracy: 0.9012 - val_loss: 0.3350\n",
      "Epoch 126/500\n",
      "\u001B[1m24/24\u001B[0m \u001B[32m━━━━━━━━━━━━━━━━━━━━\u001B[0m\u001B[37m\u001B[0m \u001B[1m0s\u001B[0m 9ms/step - accuracy: 0.9571 - loss: 0.0893 - val_accuracy: 0.9010 - val_loss: 0.3327\n",
      "Epoch 127/500\n",
      "\u001B[1m24/24\u001B[0m \u001B[32m━━━━━━━━━━━━━━━━━━━━\u001B[0m\u001B[37m\u001B[0m \u001B[1m0s\u001B[0m 11ms/step - accuracy: 0.9618 - loss: 0.0831 - val_accuracy: 0.8997 - val_loss: 0.3196\n",
      "Epoch 128/500\n",
      "\u001B[1m24/24\u001B[0m \u001B[32m━━━━━━━━━━━━━━━━━━━━\u001B[0m\u001B[37m\u001B[0m \u001B[1m0s\u001B[0m 11ms/step - accuracy: 0.9586 - loss: 0.0874 - val_accuracy: 0.9032 - val_loss: 0.3440\n",
      "Epoch 129/500\n",
      "\u001B[1m24/24\u001B[0m \u001B[32m━━━━━━━━━━━━━━━━━━━━\u001B[0m\u001B[37m\u001B[0m \u001B[1m0s\u001B[0m 10ms/step - accuracy: 0.9642 - loss: 0.0809 - val_accuracy: 0.9014 - val_loss: 0.3332\n",
      "Epoch 130/500\n",
      "\u001B[1m24/24\u001B[0m \u001B[32m━━━━━━━━━━━━━━━━━━━━\u001B[0m\u001B[37m\u001B[0m \u001B[1m0s\u001B[0m 10ms/step - accuracy: 0.9611 - loss: 0.0810 - val_accuracy: 0.9038 - val_loss: 0.3355\n",
      "Epoch 131/500\n",
      "\u001B[1m24/24\u001B[0m \u001B[32m━━━━━━━━━━━━━━━━━━━━\u001B[0m\u001B[37m\u001B[0m \u001B[1m0s\u001B[0m 10ms/step - accuracy: 0.9609 - loss: 0.0788 - val_accuracy: 0.9003 - val_loss: 0.3570\n",
      "Epoch 132/500\n",
      "\u001B[1m24/24\u001B[0m \u001B[32m━━━━━━━━━━━━━━━━━━━━\u001B[0m\u001B[37m\u001B[0m \u001B[1m0s\u001B[0m 9ms/step - accuracy: 0.9610 - loss: 0.0830 - val_accuracy: 0.9045 - val_loss: 0.3369\n",
      "Epoch 133/500\n",
      "\u001B[1m24/24\u001B[0m \u001B[32m━━━━━━━━━━━━━━━━━━━━\u001B[0m\u001B[37m\u001B[0m \u001B[1m0s\u001B[0m 10ms/step - accuracy: 0.9555 - loss: 0.0928 - val_accuracy: 0.9036 - val_loss: 0.3422\n",
      "Epoch 134/500\n",
      "\u001B[1m24/24\u001B[0m \u001B[32m━━━━━━━━━━━━━━━━━━━━\u001B[0m\u001B[37m\u001B[0m \u001B[1m0s\u001B[0m 10ms/step - accuracy: 0.9582 - loss: 0.0845 - val_accuracy: 0.9019 - val_loss: 0.3742\n",
      "Epoch 135/500\n",
      "\u001B[1m24/24\u001B[0m \u001B[32m━━━━━━━━━━━━━━━━━━━━\u001B[0m\u001B[37m\u001B[0m \u001B[1m0s\u001B[0m 10ms/step - accuracy: 0.9613 - loss: 0.0861 - val_accuracy: 0.9051 - val_loss: 0.3511\n",
      "Epoch 136/500\n",
      "\u001B[1m24/24\u001B[0m \u001B[32m━━━━━━━━━━━━━━━━━━━━\u001B[0m\u001B[37m\u001B[0m \u001B[1m0s\u001B[0m 10ms/step - accuracy: 0.9658 - loss: 0.0774 - val_accuracy: 0.9039 - val_loss: 0.3609\n",
      "Epoch 137/500\n",
      "\u001B[1m24/24\u001B[0m \u001B[32m━━━━━━━━━━━━━━━━━━━━\u001B[0m\u001B[37m\u001B[0m \u001B[1m0s\u001B[0m 10ms/step - accuracy: 0.9631 - loss: 0.0797 - val_accuracy: 0.9032 - val_loss: 0.3496\n",
      "Epoch 138/500\n",
      "\u001B[1m24/24\u001B[0m \u001B[32m━━━━━━━━━━━━━━━━━━━━\u001B[0m\u001B[37m\u001B[0m \u001B[1m0s\u001B[0m 10ms/step - accuracy: 0.9617 - loss: 0.0793 - val_accuracy: 0.9021 - val_loss: 0.3446\n",
      "Epoch 139/500\n",
      "\u001B[1m24/24\u001B[0m \u001B[32m━━━━━━━━━━━━━━━━━━━━\u001B[0m\u001B[37m\u001B[0m \u001B[1m0s\u001B[0m 9ms/step - accuracy: 0.9602 - loss: 0.0814 - val_accuracy: 0.9038 - val_loss: 0.3502\n",
      "Epoch 140/500\n",
      "\u001B[1m24/24\u001B[0m \u001B[32m━━━━━━━━━━━━━━━━━━━━\u001B[0m\u001B[37m\u001B[0m \u001B[1m0s\u001B[0m 10ms/step - accuracy: 0.9633 - loss: 0.0791 - val_accuracy: 0.9036 - val_loss: 0.3346\n",
      "Epoch 141/500\n",
      "\u001B[1m24/24\u001B[0m \u001B[32m━━━━━━━━━━━━━━━━━━━━\u001B[0m\u001B[37m\u001B[0m \u001B[1m0s\u001B[0m 10ms/step - accuracy: 0.9630 - loss: 0.0782 - val_accuracy: 0.9036 - val_loss: 0.3491\n"
     ]
    },
    {
     "data": {
      "text/plain": [
       "<keras_core.src.callbacks.history.History at 0x7faab813a020>"
      ]
     },
     "execution_count": 131,
     "metadata": {},
     "output_type": "execute_result"
    }
   ],
   "execution_count": 131
  },
  {
   "cell_type": "markdown",
   "source": [
    "# save model"
   ],
   "metadata": {
    "collapsed": false
   },
   "id": "84f51140de160118"
  },
  {
   "cell_type": "code",
   "source": [
    "model.save(model_weight_dst)"
   ],
   "metadata": {
    "collapsed": false,
    "ExecuteTime": {
     "end_time": "2024-07-14T12:21:25.900936Z",
     "start_time": "2024-07-14T12:21:25.875553Z"
    }
   },
   "id": "e1902ebb3c46924c",
   "outputs": [],
   "execution_count": 132
  },
  {
   "metadata": {
    "ExecuteTime": {
     "end_time": "2024-07-14T12:21:25.905632Z",
     "start_time": "2024-07-14T12:21:25.903286Z"
    }
   },
   "cell_type": "code",
   "source": "",
   "id": "3a72600b7ad0c5e6",
   "outputs": [],
   "execution_count": 132
  }
 ],
 "metadata": {
  "kernelspec": {
   "display_name": "Python 3 (ipykernel)",
   "language": "python",
   "name": "python3"
  },
  "language_info": {
   "codemirror_mode": {
    "name": "ipython",
    "version": 3
   },
   "file_extension": ".py",
   "mimetype": "text/x-python",
   "name": "python",
   "nbconvert_exporter": "python",
   "pygments_lexer": "ipython3",
   "version": "3.10.13"
  }
 },
 "nbformat": 4,
 "nbformat_minor": 5
}
>>>>>>> 3291550 (update models and add vit)
