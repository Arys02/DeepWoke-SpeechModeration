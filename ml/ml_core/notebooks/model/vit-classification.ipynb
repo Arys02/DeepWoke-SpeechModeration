{
 "cells": [
  {
   "cell_type": "code",
   "id": "initial_id",
   "metadata": {
    "collapsed": false,
    "ExecuteTime": {
     "end_time": "2024-07-15T10:57:36.047568Z",
     "start_time": "2024-07-15T10:57:36.043664Z"
    }
   },
   "source": [
    "import datetime\n",
    "\n",
    "import os\n",
    "\n",
    "os.getcwd()\n",
    "if '.git' not in os.listdir():\n",
    "    os.chdir('./../../../../')\n",
    "os.listdir()\n",
    "\n",
    "from ml.ml_core.src.core.model_factory import model_factory\n",
    "\n",
    "import keras_core as keras\n",
    "import numpy as np\n",
    "import tensorflow as tf\n",
    "from sklearn.model_selection import train_test_split\n",
    "from tensorboard.plugins.hparams import api as hp\n"
   ],
   "outputs": [],
   "execution_count": 92
  },
  {
   "cell_type": "markdown",
   "id": "18856c657e08494f",
   "metadata": {
    "collapsed": false
   },
   "source": [
    "## Configurations"
   ]
  },
  {
   "cell_type": "code",
   "id": "9574abd306005981",
   "metadata": {
    "collapsed": false,
    "ExecuteTime": {
     "end_time": "2024-07-15T10:57:36.117284Z",
     "start_time": "2024-07-15T10:57:36.114195Z"
    }
   },
   "source": [
    "params_grid = {\n",
    "    \"model\": \"vision-transformer\",\n",
    "    \"embedder\": \"fasttext\",\n",
    "    \"embedding_data\": \"fasttext\",\n",
    "    #\"dataset\": \"fr_hf.csv\",\n",
    "    \"dataset\": \"corrected_format_all_data.csv\",\n",
    "    \"batch_size\": 500\n",
    "}"
   ],
   "outputs": [],
   "execution_count": 93
  },
  {
   "cell_type": "code",
   "id": "d220a1d10493404e",
   "metadata": {
    "collapsed": false,
    "ExecuteTime": {
     "end_time": "2024-07-15T10:57:36.157116Z",
     "start_time": "2024-07-15T10:57:36.153769Z"
    }
   },
   "source": [
    "data_folder_src = 'ml/ml_core/data/processed/'\n",
    "ml_core_folder_path = 'ml/ml_core/'\n",
    "data_path_src = f'{data_folder_src}{params_grid[\"dataset\"]}'\n",
    "date_str = datetime.datetime.now().strftime(\"%Y%m%d-%H%M%S\")\n",
    "experiment_name = f'deepwoke_{params_grid[\"embedder\"]}_{params_grid[\"model\"]}_{params_grid[\"dataset\"]}_{date_str}'\n",
    "\n",
    "log_dir = f\"{ml_core_folder_path}log/fit/{experiment_name}\"\n",
    "model_weight_dst = f'{ml_core_folder_path}model_weights/{experiment_name}-model.keras'"
   ],
   "outputs": [],
   "execution_count": 94
  },
  {
   "cell_type": "code",
   "id": "63bc5b9857e00e2f",
   "metadata": {
    "collapsed": false,
    "ExecuteTime": {
     "end_time": "2024-07-15T10:57:36.178368Z",
     "start_time": "2024-07-15T10:57:36.175111Z"
    }
   },
   "source": [
    "\n",
    "vector_path = f'{ml_core_folder_path}embedded_vector/{params_grid[\"embedding_data\"]}_{params_grid[\"dataset\"]}'\n",
    "vector_x_dst = f'{vector_path}.x.npy'\n",
    "vector_y_dst = f'{vector_path}.y.npy'"
   ],
   "outputs": [],
   "execution_count": 95
  },
  {
   "metadata": {
    "ExecuteTime": {
     "end_time": "2024-07-15T10:57:36.193444Z",
     "start_time": "2024-07-15T10:57:36.184384Z"
    }
   },
   "cell_type": "code",
   "source": [
    "print(vector_x_dst)\n",
    "if os.path.exists(vector_x_dst):\n",
    "    print(\"the file exists\")\n",
    "else:\n",
    "    print(\"the file doesn't exist\")"
   ],
   "id": "bc0837062afc9db8",
   "outputs": [
    {
     "name": "stdout",
     "output_type": "stream",
     "text": [
      "ml/ml_core/embedded_vector/fasttext_corrected_format_all_data.csv.x.npy\n",
      "the file exists\n"
     ]
    }
   ],
   "execution_count": 96
  },
  {
   "cell_type": "markdown",
   "id": "5d4209390b020a7",
   "metadata": {
    "collapsed": false
   },
   "source": [
    "# loading dataset"
   ]
  },
  {
   "cell_type": "code",
   "id": "cda597a675bb1ba2",
   "metadata": {
    "collapsed": false,
    "ExecuteTime": {
     "end_time": "2024-07-15T10:57:36.303348Z",
     "start_time": "2024-07-15T10:57:36.195163Z"
    }
   },
   "source": [
    "X = np.load(vector_x_dst, allow_pickle=True)\n",
    "y = np.load(vector_y_dst)"
   ],
   "outputs": [],
   "execution_count": 97
  },
  {
   "metadata": {
    "ExecuteTime": {
     "end_time": "2024-07-15T10:57:36.308894Z",
     "start_time": "2024-07-15T10:57:36.305206Z"
    }
   },
   "cell_type": "code",
   "source": [
    "if params_grid[\"embedder\"] == \"camembert\":\n",
    "    x_squeezed = np.squeeze(X)\n",
    "    X = [x[:, 0, :] for x in x_squeezed]\n",
    "    X = np.array(X)"
   ],
   "id": "f17ea68d5aaf5e4a",
   "outputs": [],
   "execution_count": 98
  },
  {
   "metadata": {
    "ExecuteTime": {
     "end_time": "2024-07-15T10:57:36.324714Z",
     "start_time": "2024-07-15T10:57:36.310574Z"
    }
   },
   "cell_type": "code",
   "source": [
    "if params_grid[\"embedder\"] == \"bert\" or params_grid[\"embedder\"] == \"small-bert\" or params_grid[\"embedder\"] == \"electra\" or params_grid[\"embedder\"] == \"fasttext\":\n",
    "    X = np.expand_dims(X, axis=1)"
   ],
   "id": "99693bed3b04ccda",
   "outputs": [],
   "execution_count": 99
  },
  {
   "cell_type": "markdown",
   "source": [
    "# Model"
   ],
   "metadata": {
    "collapsed": false
   },
   "id": "a2adf4c59ca51d9c"
  },
  {
   "cell_type": "markdown",
   "id": "5c8ac62597164bde",
   "metadata": {
    "collapsed": false
   },
   "source": [
    "## callbacks"
   ]
  },
  {
   "cell_type": "code",
   "id": "336209aae383296f",
   "metadata": {
    "collapsed": false,
    "ExecuteTime": {
     "end_time": "2024-07-15T10:57:36.340119Z",
     "start_time": "2024-07-15T10:57:36.327348Z"
    }
   },
   "source": [
    "early_stopping = keras.callbacks.EarlyStopping(\n",
    "    patience=30,\n",
    "    min_delta=0.0001,\n",
    "    restore_best_weights=True,\n",
    "    monitor='loss'\n",
    ")\n"
   ],
   "outputs": [],
   "execution_count": 100
  },
  {
   "cell_type": "code",
   "id": "9f93ecb4efe31443",
   "metadata": {
    "collapsed": false,
    "ExecuteTime": {
     "end_time": "2024-07-15T10:57:36.363001Z",
     "start_time": "2024-07-15T10:57:36.341821Z"
    }
   },
   "source": [
    "\n",
    "class EarlyStoppingLogging(keras.callbacks.Callback):\n",
    "    def __init__(self, early_stopping_callback, log_dir):\n",
    "        super().__init__()\n",
    "        self.early_stopping = early_stopping_callback\n",
    "        self.stopped_epoch = 0\n",
    "        self.writer = tf.summary.create_file_writer(log_dir)\n",
    "\n",
    "    def on_epoch_end(self, epoch, logs=None):\n",
    "        if self.early_stopping.stopped_epoch > 0:\n",
    "            self.stopped_epoch = self.early_stopping.stopped_epoch\n",
    "            with self.writer.as_default():\n",
    "                tf.summary.scalar('early_stopping_epoch', self.stopped_epoch, step=epoch)\n",
    "                self.writer.flush()\n"
   ],
   "outputs": [],
   "execution_count": 101
  },
  {
   "cell_type": "code",
   "id": "7ec43b4117399510",
   "metadata": {
    "collapsed": false,
    "ExecuteTime": {
     "end_time": "2024-07-15T10:57:36.379613Z",
     "start_time": "2024-07-15T10:57:36.364930Z"
    }
   },
   "source": [
    "tensorboard_callback = keras.callbacks.TensorBoard(log_dir=log_dir, histogram_freq=1)\n",
    "early_stopping_logging_callback = EarlyStoppingLogging(early_stopping, log_dir)"
   ],
   "outputs": [],
   "execution_count": 102
  },
  {
   "cell_type": "code",
   "id": "3f3d46724d8e5aa1",
   "metadata": {
    "collapsed": false,
    "ExecuteTime": {
     "end_time": "2024-07-15T10:57:36.399931Z",
     "start_time": "2024-07-15T10:57:36.381131Z"
    }
   },
   "source": [
    "callback = [\n",
    "    early_stopping,\n",
    "    tensorboard_callback,\n",
    "    hp.KerasCallback(log_dir, params_grid),\n",
    "    early_stopping_logging_callback,\n",
    "]"
   ],
   "outputs": [],
   "execution_count": 103
  },
  {
   "metadata": {},
   "cell_type": "markdown",
   "source": "## build the model",
   "id": "57b884bb990a105c"
  },
  {
   "metadata": {
    "ExecuteTime": {
     "end_time": "2024-07-15T10:57:36.422284Z",
     "start_time": "2024-07-15T10:57:36.401974Z"
    }
   },
   "cell_type": "code",
   "source": [
    "def model_builder(input_dim, output_dim):\n",
    "    activation_function = 'softmax'\n",
    "    loss = 'categorical_crossentropy'\n",
    "    if output_dim == 1:\n",
    "        activation_function = 'sigmoid'\n",
    "        loss = 'binary_crossentropy'\n",
    "    print(input_dim, output_dim)\n",
    "\n",
    "    inputs = input_dim[1:]\n",
    "    input_tensor = keras.layers.Input(shape=inputs)\n",
    "    \n",
    "    \n",
    "    head_count = 6\n",
    "    attention_embedding_dim = 16\n",
    "    encoder_blocks = 3\n",
    "    patch_embedding_size = head_count*attention_embedding_dim\n",
    "\n",
    "    embedded_patches = keras.layers.Dense(patch_embedding_size, activation=keras.activations.linear)(input_tensor)\n",
    "\n",
    "    sequence_length = embedded_patches.shape[1]\n",
    "\n",
    "    reshaped_embedded_patches = keras.layers.Reshape((sequence_length, patch_embedding_size))(embedded_patches)\n",
    "\n",
    "    encoder_input = reshaped_embedded_patches\n",
    "\n",
    "    for l in range(encoder_blocks):\n",
    "        normalized_reshaped_embedded_patches = keras.layers.LayerNormalization()(encoder_input)\n",
    "\n",
    "        attention_outputs = []\n",
    "        for _ in range(head_count):\n",
    "            query_vector = keras.layers.Dense(attention_embedding_dim, activation=keras.activations.gelu)(\n",
    "                normalized_reshaped_embedded_patches)\n",
    "            key_vector = keras.layers.Dense(attention_embedding_dim, activation=keras.activations.gelu)(\n",
    "                normalized_reshaped_embedded_patches)\n",
    "            value_vector = keras.layers.Dense(attention_embedding_dim, activation=keras.activations.gelu)(\n",
    "                normalized_reshaped_embedded_patches)\n",
    "\n",
    "            transposed_key_vector = keras.ops.swapaxes(key_vector, 1, 2)\n",
    "\n",
    "            mat_mul_result = keras.ops.matmul(query_vector, transposed_key_vector)\n",
    "\n",
    "            scaled_mat_mul_result = mat_mul_result / keras.ops.sqrt(attention_embedding_dim)\n",
    "\n",
    "            scores = keras.ops.softmax(scaled_mat_mul_result)\n",
    "\n",
    "            attention_output = keras.ops.matmul(scores, value_vector)\n",
    "            attention_outputs.append(attention_output)\n",
    "\n",
    "        attention_outputs = keras.layers.Concatenate()(attention_outputs)\n",
    "\n",
    "        residual_summed_tensor = keras.layers.Add()([reshaped_embedded_patches, attention_outputs])\n",
    "\n",
    "        normalized_residual_summed_tensor = keras.layers.LayerNormalization()(residual_summed_tensor)\n",
    "\n",
    "        hidden = keras.layers.Dense(patch_embedding_size, activation=keras.activations.gelu)(normalized_residual_summed_tensor)\n",
    "        hidden = keras.layers.Dense(patch_embedding_size, activation=keras.activations.gelu)(hidden)\n",
    "\n",
    "        residual_post_mlp_tensor = keras.layers.Add()([hidden, residual_summed_tensor])\n",
    "        encoder_input = residual_post_mlp_tensor\n",
    "        \n",
    "    global_average_pooling = keras.layers.GlobalAveragePooling1D()(encoder_input)\n",
    "    output = keras.layers.Dense(output_dim, activation=activation_function)(global_average_pooling)\n",
    "\n",
    "    model = keras.models.Model(inputs=input_tensor, outputs=output)\n",
    "    model.compile(optimizer='adam', loss=loss, metrics=['accuracy'])\n",
    "    \n",
    "    return model"
   ],
   "id": "91894cf7e317ca62",
   "outputs": [],
   "execution_count": 104
  },
  {
   "cell_type": "markdown",
   "id": "9dec354f696f24a9",
   "metadata": {
    "collapsed": false
   },
   "source": [
    "### training the model"
   ]
  },
  {
   "metadata": {
    "ExecuteTime": {
     "end_time": "2024-07-15T10:57:36.453974Z",
     "start_time": "2024-07-15T10:57:36.423779Z"
    }
   },
   "cell_type": "code",
   "source": "X_train, X_test, y_train, y_test = train_test_split(X, y, test_size=0.3, random_state=42)",
   "id": "8e0e006a2a78b8a9",
   "outputs": [],
   "execution_count": 105
  },
  {
   "cell_type": "code",
   "id": "c4cf876c5cbae2f2",
   "metadata": {
    "collapsed": false,
    "ExecuteTime": {
     "end_time": "2024-07-15T10:57:36.686468Z",
     "start_time": "2024-07-15T10:57:36.457315Z"
    }
   },
   "source": [
    "model = model_builder(X_train.shape, 1)\n",
    "print(model.summary)"
   ],
   "outputs": [
    {
     "name": "stdout",
     "output_type": "stream",
     "text": [
      "(11828, 1, 300) 1\n",
      "<bound method Model.summary of <Functional name=functional_11, built=True>>\n"
     ]
    }
   ],
   "execution_count": 106
  },
  {
   "cell_type": "code",
   "source": [
    "model.fit(X_train,\n",
    "          y_train,\n",
    "          epochs=1000,\n",
    "          batch_size=params_grid['batch_size'],\n",
    "          callbacks=callback,\n",
    "          validation_data=(X_test, y_test)\n",
    "          )"
   ],
   "metadata": {
    "collapsed": false,
    "jupyter": {
     "is_executing": true
    },
    "ExecuteTime": {
     "start_time": "2024-07-15T10:57:36.687768Z"
    }
   },
   "id": "ba1d6a42d0826b57",
   "outputs": [
    {
     "name": "stdout",
     "output_type": "stream",
     "text": [
      "Epoch 1/1000\n",
      "\u001B[1m24/24\u001B[0m \u001B[32m━━━━━━━━━━━━━━━━━━━━\u001B[0m\u001B[37m\u001B[0m \u001B[1m36s\u001B[0m 544ms/step - accuracy: 0.6129 - loss: 0.7490 - val_accuracy: 0.7456 - val_loss: 0.5079\n",
      "Epoch 2/1000\n",
      "\u001B[1m24/24\u001B[0m \u001B[32m━━━━━━━━━━━━━━━━━━━━\u001B[0m\u001B[37m\u001B[0m \u001B[1m1s\u001B[0m 44ms/step - accuracy: 0.7505 - loss: 0.5036 - val_accuracy: 0.7686 - val_loss: 0.4719\n",
      "Epoch 3/1000\n",
      "\u001B[1m24/24\u001B[0m \u001B[32m━━━━━━━━━━━━━━━━━━━━\u001B[0m\u001B[37m\u001B[0m \u001B[1m1s\u001B[0m 41ms/step - accuracy: 0.7833 - loss: 0.4613 - val_accuracy: 0.7899 - val_loss: 0.4481\n",
      "Epoch 4/1000\n",
      "\u001B[1m24/24\u001B[0m \u001B[32m━━━━━━━━━━━━━━━━━━━━\u001B[0m\u001B[37m\u001B[0m \u001B[1m1s\u001B[0m 42ms/step - accuracy: 0.8041 - loss: 0.4287 - val_accuracy: 0.7939 - val_loss: 0.4477\n",
      "Epoch 5/1000\n",
      "\u001B[1m22/24\u001B[0m \u001B[32m━━━━━━━━━━━━━━━━━━\u001B[0m\u001B[37m━━\u001B[0m \u001B[1m0s\u001B[0m 13ms/step - accuracy: 0.8147 - loss: 0.3992"
     ]
    }
   ],
   "execution_count": null
  },
  {
   "cell_type": "markdown",
   "id": "e01ea87c7efc4af6",
   "metadata": {
    "collapsed": false
   },
   "source": [
    "# save model"
   ]
  },
  {
   "cell_type": "code",
   "id": "e0b9fbafea831f00",
   "metadata": {
    "collapsed": false,
    "jupyter": {
     "is_executing": true
    }
   },
   "source": [
    "model.save(model_weight_dst)"
   ],
   "outputs": [],
   "execution_count": null
  },
  {
   "cell_type": "code",
   "source": [],
   "metadata": {
    "collapsed": false,
    "jupyter": {
     "is_executing": true
    }
   },
   "id": "f9c2e1fececb9c9e",
   "outputs": [],
   "execution_count": null
  }
 ],
 "metadata": {
  "kernelspec": {
   "display_name": "Python 3 (ipykernel)",
   "language": "python",
   "name": "python3"
  },
  "language_info": {
   "codemirror_mode": {
    "name": "ipython",
    "version": 3
   },
   "file_extension": ".py",
   "mimetype": "text/x-python",
   "name": "python",
   "nbconvert_exporter": "python",
   "pygments_lexer": "ipython3",
   "version": "3.10.13"
  }
 },
 "nbformat": 4,
 "nbformat_minor": 5
}
