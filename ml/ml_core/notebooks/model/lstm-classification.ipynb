{
 "cells": [
  {
   "cell_type": "code",
   "execution_count": 1,
   "id": "initial_id",
   "metadata": {
    "collapsed": false,
    "ExecuteTime": {
     "end_time": "2024-07-07T17:12:25.087906Z",
     "start_time": "2024-07-07T17:12:22.864941Z"
    }
   },
   "outputs": [
    {
     "name": "stdout",
     "output_type": "stream",
     "text": [
      "Using TensorFlow backend\n"
     ]
    },
    {
     "name": "stderr",
     "output_type": "stream",
     "text": [
      "2024-07-07 19:12:23.217336: E tensorflow/compiler/xla/stream_executor/cuda/cuda_dnn.cc:9342] Unable to register cuDNN factory: Attempting to register factory for plugin cuDNN when one has already been registered\n",
      "2024-07-07 19:12:23.217387: E tensorflow/compiler/xla/stream_executor/cuda/cuda_fft.cc:609] Unable to register cuFFT factory: Attempting to register factory for plugin cuFFT when one has already been registered\n",
      "2024-07-07 19:12:23.217407: E tensorflow/compiler/xla/stream_executor/cuda/cuda_blas.cc:1518] Unable to register cuBLAS factory: Attempting to register factory for plugin cuBLAS when one has already been registered\n",
      "2024-07-07 19:12:23.223639: I tensorflow/core/platform/cpu_feature_guard.cc:182] This TensorFlow binary is optimized to use available CPU instructions in performance-critical operations.\n",
      "To enable the following instructions: AVX2 FMA, in other operations, rebuild TensorFlow with the appropriate compiler flags.\n"
     ]
    }
   ],
   "source": [
    "import datetime\n",
    "\n",
    "import os\n",
    "\n",
    "os.getcwd()\n",
    "if '.git' not in os.listdir():\n",
    "    os.chdir('./../../../../')\n",
    "os.listdir()\n",
    "\n",
    "from ml.ml_core.src.core.model_factory import model_factory\n",
    "\n",
    "import keras_core as keras\n",
    "import numpy as np\n",
    "import tensorflow as tf\n",
    "from sklearn.model_selection import train_test_split\n",
    "from tensorboard.plugins.hparams import api as hp\n"
   ]
  },
  {
   "cell_type": "markdown",
   "id": "18856c657e08494f",
   "metadata": {
    "collapsed": false
   },
   "source": [
    "## Configurations"
   ]
  },
  {
   "cell_type": "code",
   "execution_count": 2,
   "id": "9574abd306005981",
   "metadata": {
    "collapsed": false,
    "ExecuteTime": {
     "end_time": "2024-07-07T17:12:25.093341Z",
     "start_time": "2024-07-07T17:12:25.089741Z"
    }
   },
   "outputs": [],
   "source": [
    "params_grid = {\n",
    "    \"model\": \"lstm\",\n",
    "    \"embedder\": \"camembert\",\n",
    "    \"embedding_data\": \"almanach-camembert-base\",\n",
    "    \"dataset\": \"fr_hf.csv\",\n",
    "    \"batch_size\": 500\n",
    "}"
   ]
  },
  {
   "cell_type": "code",
   "execution_count": 3,
   "id": "d220a1d10493404e",
   "metadata": {
    "collapsed": false,
    "ExecuteTime": {
     "end_time": "2024-07-07T17:12:25.111106Z",
     "start_time": "2024-07-07T17:12:25.094824Z"
    }
   },
   "outputs": [],
   "source": [
    "data_folder_src = 'ml/ml_core/data/processed/'\n",
    "ml_core_folder_path = 'ml/ml_core/'\n",
    "data_path_src = f'{data_folder_src}{params_grid[\"dataset\"]}'\n",
    "date_str = datetime.datetime.now().strftime(\"%Y%m%d-%H%M%S\")\n",
    "experiment_name = f'deepwoke_{params_grid[\"embedder\"]}_{params_grid[\"model\"]}_{params_grid[\"dataset\"]}_{date_str}'\n",
    "\n",
    "log_dir = f\"{ml_core_folder_path}log/fit/{experiment_name}\"\n",
    "model_weight_dst = f'{ml_core_folder_path}model_weights/{experiment_name}-model.keras'"
   ]
  },
  {
   "cell_type": "code",
   "execution_count": 4,
   "id": "63bc5b9857e00e2f",
   "metadata": {
    "collapsed": false,
    "ExecuteTime": {
     "end_time": "2024-07-07T17:12:25.135649Z",
     "start_time": "2024-07-07T17:12:25.112511Z"
    }
   },
   "outputs": [],
   "source": [
    "\n",
    "vector_path = f'{ml_core_folder_path}embedded_vector/{params_grid[\"embedding_data\"]}_{params_grid[\"dataset\"]}'\n",
    "vector_x_dst = f'{vector_path}.x.npy'\n",
    "vector_y_dst = f'{vector_path}.y.npy'"
   ]
  },
  {
   "cell_type": "markdown",
   "id": "5d4209390b020a7",
   "metadata": {
    "collapsed": false
   },
   "source": [
    "# loading dataset"
   ]
  },
  {
   "cell_type": "code",
   "execution_count": 5,
   "id": "cda597a675bb1ba2",
   "metadata": {
    "collapsed": false,
    "ExecuteTime": {
     "end_time": "2024-07-07T17:12:25.178555Z",
     "start_time": "2024-07-07T17:12:25.141003Z"
    }
   },
   "outputs": [],
   "source": [
    "X = np.load(vector_x_dst)\n",
    "y = np.load(vector_y_dst)\n",
    "X = np.expand_dims(X, axis=1)"
   ]
  },
  {
   "cell_type": "markdown",
   "source": [
    "# Model"
   ],
   "metadata": {
    "collapsed": false
   },
   "id": "a2adf4c59ca51d9c"
  },
  {
   "cell_type": "markdown",
   "id": "5c8ac62597164bde",
   "metadata": {
    "collapsed": false
   },
   "source": [
    "## callbacks"
   ]
  },
  {
   "cell_type": "code",
   "execution_count": 6,
   "id": "336209aae383296f",
   "metadata": {
    "collapsed": false,
    "ExecuteTime": {
     "end_time": "2024-07-07T17:12:25.182938Z",
     "start_time": "2024-07-07T17:12:25.180032Z"
    }
   },
   "outputs": [],
   "source": [
    "early_stopping = keras.callbacks.EarlyStopping(\n",
    "    patience=10,\n",
    "    min_delta=0.001,\n",
    "    restore_best_weights=True,\n",
    "    monitor='loss'\n",
    ")\n"
   ]
  },
  {
   "cell_type": "code",
   "execution_count": 7,
   "id": "9f93ecb4efe31443",
   "metadata": {
    "collapsed": false,
    "ExecuteTime": {
     "end_time": "2024-07-07T17:12:25.199345Z",
     "start_time": "2024-07-07T17:12:25.184282Z"
    }
   },
   "outputs": [],
   "source": [
    "\n",
    "class EarlyStoppingLogging(keras.callbacks.Callback):\n",
    "    def __init__(self, early_stopping_callback, log_dir):\n",
    "        super().__init__()\n",
    "        self.early_stopping = early_stopping_callback\n",
    "        self.stopped_epoch = 0\n",
    "        self.writer = tf.summary.create_file_writer(log_dir)\n",
    "\n",
    "    def on_epoch_end(self, epoch, logs=None):\n",
    "        if self.early_stopping.stopped_epoch > 0:\n",
    "            self.stopped_epoch = self.early_stopping.stopped_epoch\n",
    "            with self.writer.as_default():\n",
    "                tf.summary.scalar('early_stopping_epoch', self.stopped_epoch, step=epoch)\n",
    "                self.writer.flush()\n"
   ]
  },
  {
   "cell_type": "code",
   "execution_count": 8,
   "id": "7ec43b4117399510",
   "metadata": {
    "collapsed": false,
    "ExecuteTime": {
     "end_time": "2024-07-07T17:12:25.659135Z",
     "start_time": "2024-07-07T17:12:25.200623Z"
    }
   },
   "outputs": [
    {
     "name": "stderr",
     "output_type": "stream",
     "text": [
      "2024-07-07 19:12:25.316917: I tensorflow/compiler/xla/stream_executor/cuda/cuda_gpu_executor.cc:880] could not open file to read NUMA node: /sys/bus/pci/devices/0000:01:00.0/numa_node\n",
      "Your kernel may have been built without NUMA support.\n",
      "2024-07-07 19:12:25.351506: I tensorflow/compiler/xla/stream_executor/cuda/cuda_gpu_executor.cc:880] could not open file to read NUMA node: /sys/bus/pci/devices/0000:01:00.0/numa_node\n",
      "Your kernel may have been built without NUMA support.\n",
      "2024-07-07 19:12:25.351541: I tensorflow/compiler/xla/stream_executor/cuda/cuda_gpu_executor.cc:880] could not open file to read NUMA node: /sys/bus/pci/devices/0000:01:00.0/numa_node\n",
      "Your kernel may have been built without NUMA support.\n",
      "2024-07-07 19:12:25.354713: I tensorflow/compiler/xla/stream_executor/cuda/cuda_gpu_executor.cc:880] could not open file to read NUMA node: /sys/bus/pci/devices/0000:01:00.0/numa_node\n",
      "Your kernel may have been built without NUMA support.\n",
      "2024-07-07 19:12:25.354753: I tensorflow/compiler/xla/stream_executor/cuda/cuda_gpu_executor.cc:880] could not open file to read NUMA node: /sys/bus/pci/devices/0000:01:00.0/numa_node\n",
      "Your kernel may have been built without NUMA support.\n",
      "2024-07-07 19:12:25.354770: I tensorflow/compiler/xla/stream_executor/cuda/cuda_gpu_executor.cc:880] could not open file to read NUMA node: /sys/bus/pci/devices/0000:01:00.0/numa_node\n",
      "Your kernel may have been built without NUMA support.\n",
      "2024-07-07 19:12:25.641643: I tensorflow/compiler/xla/stream_executor/cuda/cuda_gpu_executor.cc:880] could not open file to read NUMA node: /sys/bus/pci/devices/0000:01:00.0/numa_node\n",
      "Your kernel may have been built without NUMA support.\n",
      "2024-07-07 19:12:25.641686: I tensorflow/compiler/xla/stream_executor/cuda/cuda_gpu_executor.cc:880] could not open file to read NUMA node: /sys/bus/pci/devices/0000:01:00.0/numa_node\n",
      "Your kernel may have been built without NUMA support.\n",
      "2024-07-07 19:12:25.641693: I tensorflow/core/common_runtime/gpu/gpu_device.cc:1977] Could not identify NUMA node of platform GPU id 0, defaulting to 0.  Your kernel may not have been built with NUMA support.\n",
      "2024-07-07 19:12:25.641718: I tensorflow/compiler/xla/stream_executor/cuda/cuda_gpu_executor.cc:880] could not open file to read NUMA node: /sys/bus/pci/devices/0000:01:00.0/numa_node\n",
      "Your kernel may have been built without NUMA support.\n",
      "2024-07-07 19:12:25.641734: I tensorflow/core/common_runtime/gpu/gpu_device.cc:1886] Created device /job:localhost/replica:0/task:0/device:GPU:0 with 2576 MB memory:  -> device: 0, name: NVIDIA GeForce RTX 3080, pci bus id: 0000:01:00.0, compute capability: 8.6\n"
     ]
    }
   ],
   "source": [
    "tensorboard_callback = keras.callbacks.TensorBoard(log_dir=log_dir, histogram_freq=1)\n",
    "early_stopping_logging_callback = EarlyStoppingLogging(early_stopping, log_dir)"
   ]
  },
  {
   "cell_type": "code",
   "execution_count": 9,
   "id": "3f3d46724d8e5aa1",
   "metadata": {
    "collapsed": false,
    "ExecuteTime": {
     "end_time": "2024-07-07T17:12:25.664293Z",
     "start_time": "2024-07-07T17:12:25.660585Z"
    }
   },
   "outputs": [],
   "source": [
    "callback = [\n",
    "    early_stopping,\n",
    "    tensorboard_callback,\n",
    "    hp.KerasCallback(log_dir, params_grid),\n",
    "    early_stopping_logging_callback,\n",
    "]"
   ]
  },
  {
   "cell_type": "markdown",
   "source": [
    "# Model building"
   ],
   "metadata": {
    "collapsed": false
   },
   "id": "cfba23972d3586ee"
  },
  {
   "cell_type": "code",
   "outputs": [],
   "source": [
    "def rnn_builder(input_dim, output_dim):\n",
    "    activation_function = 'softmax'\n",
    "    loss = 'categorical_crossentropy'\n",
    "    if output_dim == 1:\n",
    "        activation_function = 'sigmoid'\n",
    "        loss = 'binary_crossentropy'\n",
    "    print(input_dim, output_dim)\n",
    "\n",
    "\n",
    "    input_tensor = keras.layers.Input(shape=input_dim)\n",
    "\n",
    "    hl = keras.layers.LSTM(64, return_sequences=True, activation='relu')(input_tensor)\n",
    "    hl = keras.layers.LSTM(128, return_sequences=True, activation='relu')(hl)\n",
    "    hl = keras.layers.LSTM(256, activation='relu')(hl)\n",
    "    hl = keras.layers.Dense(256, activation='relu')(hl)\n",
    "    output_tensor = keras.layers.Dense(output_dim, activation=activation_function)(hl)\n",
    "\n",
    "    model = keras.models.Model(inputs=[input_tensor], outputs=[output_tensor])\n",
    "    model.compile(optimizer='adam', loss=loss, metrics=['accuracy'])\n",
    "\n",
    "    return model"
   ],
   "metadata": {
    "collapsed": false,
    "ExecuteTime": {
     "end_time": "2024-07-07T17:12:25.685081Z",
     "start_time": "2024-07-07T17:12:25.665629Z"
    }
   },
   "id": "198085420757f4f1",
   "execution_count": 10
  },
  {
   "cell_type": "markdown",
   "id": "9dec354f696f24a9",
   "metadata": {
    "collapsed": false
   },
   "source": [
    "### training the model"
   ]
  },
  {
   "cell_type": "code",
   "outputs": [],
   "source": [],
   "metadata": {
    "collapsed": false,
    "ExecuteTime": {
     "end_time": "2024-07-07T17:12:25.688688Z",
     "start_time": "2024-07-07T17:12:25.686407Z"
    }
   },
   "id": "11d6ec87445bb42",
   "execution_count": 10
  },
  {
   "cell_type": "code",
   "execution_count": 11,
   "id": "c4cf876c5cbae2f2",
   "metadata": {
    "collapsed": false,
    "ExecuteTime": {
     "end_time": "2024-07-07T17:12:29.217363Z",
     "start_time": "2024-07-07T17:12:25.690245Z"
    }
   },
   "outputs": [
    {
     "name": "stdout",
     "output_type": "stream",
     "text": [
      "(1, 768) 1\n",
      "<bound method Model.summary of <Functional name=functional_1, built=True>>\n"
     ]
    }
   ],
   "source": [
    "\n",
    "X_train, X_test, y_train, y_test = train_test_split(X, y, test_size=0.1, random_state=42)\n",
    "input_dim = X_train.shape[1:]\n",
    "model = rnn_builder(input_dim, 1)\n",
    "print(model.summary)\n",
    "\n",
    "tf.compat.v1.global_variables_initializer()"
   ]
  },
  {
   "cell_type": "code",
   "outputs": [
    {
     "name": "stdout",
     "output_type": "stream",
     "text": [
      "Epoch 1/500\n"
     ]
    },
    {
     "name": "stderr",
     "output_type": "stream",
     "text": [
      "2024-07-07 19:12:32.322808: I tensorflow/compiler/xla/service/service.cc:168] XLA service 0x9954630 initialized for platform CUDA (this does not guarantee that XLA will be used). Devices:\n",
      "2024-07-07 19:12:32.322851: I tensorflow/compiler/xla/service/service.cc:176]   StreamExecutor device (0): NVIDIA GeForce RTX 3080, Compute Capability 8.6\n",
      "2024-07-07 19:12:32.381822: I tensorflow/compiler/mlir/tensorflow/utils/dump_mlir_util.cc:269] disabling MLIR crash reproducer, set env var `MLIR_CRASH_REPRODUCER_DIRECTORY` to enable.\n",
      "2024-07-07 19:12:32.829242: I tensorflow/compiler/xla/stream_executor/cuda/cuda_dnn.cc:442] Loaded cuDNN version 8700\n"
     ]
    },
    {
     "name": "stdout",
     "output_type": "stream",
     "text": [
      "\u001B[1m 1/33\u001B[0m \u001B[37m━━━━━━━━━━━━━━━━━━━━\u001B[0m \u001B[1m2:25\u001B[0m 5s/step - accuracy: 0.5580 - loss: 0.6931"
     ]
    },
    {
     "name": "stderr",
     "output_type": "stream",
     "text": [
      "2024-07-07 19:12:33.805795: I ./tensorflow/compiler/jit/device_compiler.h:186] Compiled cluster using XLA!  This line is logged at most once for the lifetime of the process.\n"
     ]
    },
    {
     "name": "stdout",
     "output_type": "stream",
     "text": [
      "\u001B[1m33/33\u001B[0m \u001B[32m━━━━━━━━━━━━━━━━━━━━\u001B[0m\u001B[37m\u001B[0m \u001B[1m8s\u001B[0m 93ms/step - accuracy: 0.7367 - loss: 0.6484 - val_accuracy: 0.7575 - val_loss: 0.5490\n",
      "Epoch 2/500\n",
      "\u001B[1m33/33\u001B[0m \u001B[32m━━━━━━━━━━━━━━━━━━━━\u001B[0m\u001B[37m\u001B[0m \u001B[1m1s\u001B[0m 14ms/step - accuracy: 0.7595 - loss: 0.5414 - val_accuracy: 0.7575 - val_loss: 0.5323\n",
      "Epoch 3/500\n",
      "\u001B[1m33/33\u001B[0m \u001B[32m━━━━━━━━━━━━━━━━━━━━\u001B[0m\u001B[37m\u001B[0m \u001B[1m0s\u001B[0m 10ms/step - accuracy: 0.7595 - loss: 0.5215 - val_accuracy: 0.7575 - val_loss: 0.5066\n",
      "Epoch 4/500\n",
      "\u001B[1m33/33\u001B[0m \u001B[32m━━━━━━━━━━━━━━━━━━━━\u001B[0m\u001B[37m\u001B[0m \u001B[1m0s\u001B[0m 10ms/step - accuracy: 0.7612 - loss: 0.4851 - val_accuracy: 0.7575 - val_loss: 0.4552\n",
      "Epoch 5/500\n",
      "\u001B[1m33/33\u001B[0m \u001B[32m━━━━━━━━━━━━━━━━━━━━\u001B[0m\u001B[37m\u001B[0m \u001B[1m0s\u001B[0m 9ms/step - accuracy: 0.7707 - loss: 0.4553 - val_accuracy: 0.7977 - val_loss: 0.4469\n",
      "Epoch 6/500\n",
      "\u001B[1m33/33\u001B[0m \u001B[32m━━━━━━━━━━━━━━━━━━━━\u001B[0m\u001B[37m\u001B[0m \u001B[1m0s\u001B[0m 10ms/step - accuracy: 0.7937 - loss: 0.4474 - val_accuracy: 0.8022 - val_loss: 0.4349\n",
      "Epoch 7/500\n",
      "\u001B[1m33/33\u001B[0m \u001B[32m━━━━━━━━━━━━━━━━━━━━\u001B[0m\u001B[37m\u001B[0m \u001B[1m0s\u001B[0m 11ms/step - accuracy: 0.7968 - loss: 0.4465 - val_accuracy: 0.8101 - val_loss: 0.4193\n",
      "Epoch 8/500\n",
      "\u001B[1m33/33\u001B[0m \u001B[32m━━━━━━━━━━━━━━━━━━━━\u001B[0m\u001B[37m\u001B[0m \u001B[1m0s\u001B[0m 11ms/step - accuracy: 0.8075 - loss: 0.4267 - val_accuracy: 0.8112 - val_loss: 0.4180\n",
      "Epoch 9/500\n",
      "\u001B[1m33/33\u001B[0m \u001B[32m━━━━━━━━━━━━━━━━━━━━\u001B[0m\u001B[37m\u001B[0m \u001B[1m0s\u001B[0m 12ms/step - accuracy: 0.8093 - loss: 0.4208 - val_accuracy: 0.8179 - val_loss: 0.4127\n",
      "Epoch 10/500\n",
      "\u001B[1m33/33\u001B[0m \u001B[32m━━━━━━━━━━━━━━━━━━━━\u001B[0m\u001B[37m\u001B[0m \u001B[1m1s\u001B[0m 12ms/step - accuracy: 0.8136 - loss: 0.4089 - val_accuracy: 0.8111 - val_loss: 0.4167\n",
      "Epoch 11/500\n",
      "\u001B[1m33/33\u001B[0m \u001B[32m━━━━━━━━━━━━━━━━━━━━\u001B[0m\u001B[37m\u001B[0m \u001B[1m0s\u001B[0m 11ms/step - accuracy: 0.8182 - loss: 0.4035 - val_accuracy: 0.8274 - val_loss: 0.3970\n",
      "Epoch 12/500\n",
      "\u001B[1m33/33\u001B[0m \u001B[32m━━━━━━━━━━━━━━━━━━━━\u001B[0m\u001B[37m\u001B[0m \u001B[1m0s\u001B[0m 11ms/step - accuracy: 0.8204 - loss: 0.3990 - val_accuracy: 0.8253 - val_loss: 0.3951\n",
      "Epoch 13/500\n",
      "\u001B[1m33/33\u001B[0m \u001B[32m━━━━━━━━━━━━━━━━━━━━\u001B[0m\u001B[37m\u001B[0m \u001B[1m0s\u001B[0m 12ms/step - accuracy: 0.8206 - loss: 0.3951 - val_accuracy: 0.8150 - val_loss: 0.4054\n",
      "Epoch 14/500\n",
      "\u001B[1m33/33\u001B[0m \u001B[32m━━━━━━━━━━━━━━━━━━━━\u001B[0m\u001B[37m\u001B[0m \u001B[1m0s\u001B[0m 11ms/step - accuracy: 0.8242 - loss: 0.3929 - val_accuracy: 0.8233 - val_loss: 0.3957\n",
      "Epoch 15/500\n",
      "\u001B[1m33/33\u001B[0m \u001B[32m━━━━━━━━━━━━━━━━━━━━\u001B[0m\u001B[37m\u001B[0m \u001B[1m0s\u001B[0m 11ms/step - accuracy: 0.8289 - loss: 0.3823 - val_accuracy: 0.8303 - val_loss: 0.3871\n",
      "Epoch 16/500\n",
      "\u001B[1m33/33\u001B[0m \u001B[32m━━━━━━━━━━━━━━━━━━━━\u001B[0m\u001B[37m\u001B[0m \u001B[1m0s\u001B[0m 11ms/step - accuracy: 0.8344 - loss: 0.3764 - val_accuracy: 0.8317 - val_loss: 0.3853\n",
      "Epoch 17/500\n",
      "\u001B[1m33/33\u001B[0m \u001B[32m━━━━━━━━━━━━━━━━━━━━\u001B[0m\u001B[37m\u001B[0m \u001B[1m0s\u001B[0m 11ms/step - accuracy: 0.8334 - loss: 0.3776 - val_accuracy: 0.8310 - val_loss: 0.3843\n",
      "Epoch 18/500\n",
      "\u001B[1m33/33\u001B[0m \u001B[32m━━━━━━━━━━━━━━━━━━━━\u001B[0m\u001B[37m\u001B[0m \u001B[1m0s\u001B[0m 11ms/step - accuracy: 0.8382 - loss: 0.3669 - val_accuracy: 0.8334 - val_loss: 0.3790\n",
      "Epoch 19/500\n",
      "\u001B[1m33/33\u001B[0m \u001B[32m━━━━━━━━━━━━━━━━━━━━\u001B[0m\u001B[37m\u001B[0m \u001B[1m0s\u001B[0m 12ms/step - accuracy: 0.8438 - loss: 0.3575 - val_accuracy: 0.8265 - val_loss: 0.3838\n",
      "Epoch 20/500\n",
      "\u001B[1m33/33\u001B[0m \u001B[32m━━━━━━━━━━━━━━━━━━━━\u001B[0m\u001B[37m\u001B[0m \u001B[1m0s\u001B[0m 9ms/step - accuracy: 0.8452 - loss: 0.3564 - val_accuracy: 0.8256 - val_loss: 0.3925\n",
      "Epoch 21/500\n",
      "\u001B[1m33/33\u001B[0m \u001B[32m━━━━━━━━━━━━━━━━━━━━\u001B[0m\u001B[37m\u001B[0m \u001B[1m0s\u001B[0m 9ms/step - accuracy: 0.8509 - loss: 0.3559 - val_accuracy: 0.8375 - val_loss: 0.3815\n",
      "Epoch 22/500\n",
      "\u001B[1m33/33\u001B[0m \u001B[32m━━━━━━━━━━━━━━━━━━━━\u001B[0m\u001B[37m\u001B[0m \u001B[1m0s\u001B[0m 9ms/step - accuracy: 0.8543 - loss: 0.3434 - val_accuracy: 0.8334 - val_loss: 0.3764\n",
      "Epoch 23/500\n",
      "\u001B[1m33/33\u001B[0m \u001B[32m━━━━━━━━━━━━━━━━━━━━\u001B[0m\u001B[37m\u001B[0m \u001B[1m0s\u001B[0m 10ms/step - accuracy: 0.8520 - loss: 0.3423 - val_accuracy: 0.8159 - val_loss: 0.3934\n",
      "Epoch 24/500\n",
      "\u001B[1m33/33\u001B[0m \u001B[32m━━━━━━━━━━━━━━━━━━━━\u001B[0m\u001B[37m\u001B[0m \u001B[1m0s\u001B[0m 11ms/step - accuracy: 0.8482 - loss: 0.3550 - val_accuracy: 0.8395 - val_loss: 0.3813\n",
      "Epoch 25/500\n",
      "\u001B[1m33/33\u001B[0m \u001B[32m━━━━━━━━━━━━━━━━━━━━\u001B[0m\u001B[37m\u001B[0m \u001B[1m0s\u001B[0m 12ms/step - accuracy: 0.8534 - loss: 0.3464 - val_accuracy: 0.8438 - val_loss: 0.3735\n",
      "Epoch 26/500\n",
      "\u001B[1m33/33\u001B[0m \u001B[32m━━━━━━━━━━━━━━━━━━━━\u001B[0m\u001B[37m\u001B[0m \u001B[1m0s\u001B[0m 11ms/step - accuracy: 0.8543 - loss: 0.3386 - val_accuracy: 0.8470 - val_loss: 0.3732\n",
      "Epoch 27/500\n",
      "\u001B[1m33/33\u001B[0m \u001B[32m━━━━━━━━━━━━━━━━━━━━\u001B[0m\u001B[37m\u001B[0m \u001B[1m0s\u001B[0m 13ms/step - accuracy: 0.8549 - loss: 0.3397 - val_accuracy: 0.8359 - val_loss: 0.3816\n",
      "Epoch 28/500\n",
      "\u001B[1m33/33\u001B[0m \u001B[32m━━━━━━━━━━━━━━━━━━━━\u001B[0m\u001B[37m\u001B[0m \u001B[1m0s\u001B[0m 12ms/step - accuracy: 0.8642 - loss: 0.3256 - val_accuracy: 0.8190 - val_loss: 0.3926\n",
      "Epoch 29/500\n",
      "\u001B[1m33/33\u001B[0m \u001B[32m━━━━━━━━━━━━━━━━━━━━\u001B[0m\u001B[37m\u001B[0m \u001B[1m0s\u001B[0m 12ms/step - accuracy: 0.8606 - loss: 0.3350 - val_accuracy: 0.8331 - val_loss: 0.3883\n",
      "Epoch 30/500\n",
      "\u001B[1m33/33\u001B[0m \u001B[32m━━━━━━━━━━━━━━━━━━━━\u001B[0m\u001B[37m\u001B[0m \u001B[1m0s\u001B[0m 11ms/step - accuracy: 0.8636 - loss: 0.3268 - val_accuracy: 0.8368 - val_loss: 0.3892\n",
      "Epoch 31/500\n",
      "\u001B[1m33/33\u001B[0m \u001B[32m━━━━━━━━━━━━━━━━━━━━\u001B[0m\u001B[37m\u001B[0m \u001B[1m0s\u001B[0m 10ms/step - accuracy: 0.8646 - loss: 0.3239 - val_accuracy: 0.8400 - val_loss: 0.3815\n",
      "Epoch 32/500\n",
      "\u001B[1m33/33\u001B[0m \u001B[32m━━━━━━━━━━━━━━━━━━━━\u001B[0m\u001B[37m\u001B[0m \u001B[1m0s\u001B[0m 9ms/step - accuracy: 0.8663 - loss: 0.3210 - val_accuracy: 0.8445 - val_loss: 0.3753\n",
      "Epoch 33/500\n",
      "\u001B[1m33/33\u001B[0m \u001B[32m━━━━━━━━━━━━━━━━━━━━\u001B[0m\u001B[37m\u001B[0m \u001B[1m0s\u001B[0m 9ms/step - accuracy: 0.8664 - loss: 0.3267 - val_accuracy: 0.8430 - val_loss: 0.3753\n",
      "Epoch 34/500\n",
      "\u001B[1m33/33\u001B[0m \u001B[32m━━━━━━━━━━━━━━━━━━━━\u001B[0m\u001B[37m\u001B[0m \u001B[1m0s\u001B[0m 9ms/step - accuracy: 0.8781 - loss: 0.3031 - val_accuracy: 0.8319 - val_loss: 0.3856\n",
      "Epoch 35/500\n",
      "\u001B[1m33/33\u001B[0m \u001B[32m━━━━━━━━━━━━━━━━━━━━\u001B[0m\u001B[37m\u001B[0m \u001B[1m0s\u001B[0m 12ms/step - accuracy: 0.8737 - loss: 0.3092 - val_accuracy: 0.8361 - val_loss: 0.3816\n",
      "Epoch 36/500\n",
      "\u001B[1m33/33\u001B[0m \u001B[32m━━━━━━━━━━━━━━━━━━━━\u001B[0m\u001B[37m\u001B[0m \u001B[1m0s\u001B[0m 11ms/step - accuracy: 0.8834 - loss: 0.2917 - val_accuracy: 0.8422 - val_loss: 0.3820\n",
      "Epoch 37/500\n",
      "\u001B[1m33/33\u001B[0m \u001B[32m━━━━━━━━━━━━━━━━━━━━\u001B[0m\u001B[37m\u001B[0m \u001B[1m0s\u001B[0m 11ms/step - accuracy: 0.8841 - loss: 0.2913 - val_accuracy: 0.8289 - val_loss: 0.4061\n",
      "Epoch 38/500\n",
      "\u001B[1m33/33\u001B[0m \u001B[32m━━━━━━━━━━━━━━━━━━━━\u001B[0m\u001B[37m\u001B[0m \u001B[1m0s\u001B[0m 11ms/step - accuracy: 0.8742 - loss: 0.3097 - val_accuracy: 0.8344 - val_loss: 0.3934\n",
      "Epoch 39/500\n",
      "\u001B[1m33/33\u001B[0m \u001B[32m━━━━━━━━━━━━━━━━━━━━\u001B[0m\u001B[37m\u001B[0m \u001B[1m1s\u001B[0m 13ms/step - accuracy: 0.8800 - loss: 0.2964 - val_accuracy: 0.8333 - val_loss: 0.3973\n",
      "Epoch 40/500\n",
      "\u001B[1m33/33\u001B[0m \u001B[32m━━━━━━━━━━━━━━━━━━━━\u001B[0m\u001B[37m\u001B[0m \u001B[1m0s\u001B[0m 12ms/step - accuracy: 0.8919 - loss: 0.2777 - val_accuracy: 0.8392 - val_loss: 0.3979\n",
      "Epoch 41/500\n",
      "\u001B[1m33/33\u001B[0m \u001B[32m━━━━━━━━━━━━━━━━━━━━\u001B[0m\u001B[37m\u001B[0m \u001B[1m0s\u001B[0m 11ms/step - accuracy: 0.8906 - loss: 0.2759 - val_accuracy: 0.8291 - val_loss: 0.4137\n",
      "Epoch 42/500\n",
      "\u001B[1m33/33\u001B[0m \u001B[32m━━━━━━━━━━━━━━━━━━━━\u001B[0m\u001B[37m\u001B[0m \u001B[1m0s\u001B[0m 12ms/step - accuracy: 0.8948 - loss: 0.2715 - val_accuracy: 0.8302 - val_loss: 0.4145\n",
      "Epoch 43/500\n",
      "\u001B[1m33/33\u001B[0m \u001B[32m━━━━━━━━━━━━━━━━━━━━\u001B[0m\u001B[37m\u001B[0m \u001B[1m0s\u001B[0m 12ms/step - accuracy: 0.8975 - loss: 0.2642 - val_accuracy: 0.8323 - val_loss: 0.4204\n",
      "Epoch 44/500\n",
      "\u001B[1m33/33\u001B[0m \u001B[32m━━━━━━━━━━━━━━━━━━━━\u001B[0m\u001B[37m\u001B[0m \u001B[1m0s\u001B[0m 11ms/step - accuracy: 0.8927 - loss: 0.2745 - val_accuracy: 0.8305 - val_loss: 0.4110\n",
      "Epoch 45/500\n",
      "\u001B[1m33/33\u001B[0m \u001B[32m━━━━━━━━━━━━━━━━━━━━\u001B[0m\u001B[37m\u001B[0m \u001B[1m0s\u001B[0m 12ms/step - accuracy: 0.8984 - loss: 0.2622 - val_accuracy: 0.8185 - val_loss: 0.4476\n",
      "Epoch 46/500\n",
      "\u001B[1m33/33\u001B[0m \u001B[32m━━━━━━━━━━━━━━━━━━━━\u001B[0m\u001B[37m\u001B[0m \u001B[1m0s\u001B[0m 11ms/step - accuracy: 0.9063 - loss: 0.2491 - val_accuracy: 0.8276 - val_loss: 0.4342\n",
      "Epoch 47/500\n",
      "\u001B[1m33/33\u001B[0m \u001B[32m━━━━━━━━━━━━━━━━━━━━\u001B[0m\u001B[37m\u001B[0m \u001B[1m0s\u001B[0m 11ms/step - accuracy: 0.9041 - loss: 0.2481 - val_accuracy: 0.8249 - val_loss: 0.4695\n",
      "Epoch 48/500\n",
      "\u001B[1m33/33\u001B[0m \u001B[32m━━━━━━━━━━━━━━━━━━━━\u001B[0m\u001B[37m\u001B[0m \u001B[1m0s\u001B[0m 9ms/step - accuracy: 0.9070 - loss: 0.2473 - val_accuracy: 0.8247 - val_loss: 0.4341\n",
      "Epoch 49/500\n",
      "\u001B[1m33/33\u001B[0m \u001B[32m━━━━━━━━━━━━━━━━━━━━\u001B[0m\u001B[37m\u001B[0m \u001B[1m0s\u001B[0m 10ms/step - accuracy: 0.9105 - loss: 0.2378 - val_accuracy: 0.8237 - val_loss: 0.4245\n",
      "Epoch 50/500\n",
      "\u001B[1m33/33\u001B[0m \u001B[32m━━━━━━━━━━━━━━━━━━━━\u001B[0m\u001B[37m\u001B[0m \u001B[1m0s\u001B[0m 10ms/step - accuracy: 0.9113 - loss: 0.2351 - val_accuracy: 0.8234 - val_loss: 0.4447\n",
      "Epoch 51/500\n",
      "\u001B[1m33/33\u001B[0m \u001B[32m━━━━━━━━━━━━━━━━━━━━\u001B[0m\u001B[37m\u001B[0m \u001B[1m0s\u001B[0m 10ms/step - accuracy: 0.9067 - loss: 0.2434 - val_accuracy: 0.8193 - val_loss: 0.4570\n",
      "Epoch 52/500\n",
      "\u001B[1m33/33\u001B[0m \u001B[32m━━━━━━━━━━━━━━━━━━━━\u001B[0m\u001B[37m\u001B[0m \u001B[1m0s\u001B[0m 11ms/step - accuracy: 0.9110 - loss: 0.2348 - val_accuracy: 0.8242 - val_loss: 0.4569\n",
      "Epoch 53/500\n",
      "\u001B[1m33/33\u001B[0m \u001B[32m━━━━━━━━━━━━━━━━━━━━\u001B[0m\u001B[37m\u001B[0m \u001B[1m0s\u001B[0m 12ms/step - accuracy: 0.9129 - loss: 0.2296 - val_accuracy: 0.8204 - val_loss: 0.4636\n",
      "Epoch 54/500\n",
      "\u001B[1m33/33\u001B[0m \u001B[32m━━━━━━━━━━━━━━━━━━━━\u001B[0m\u001B[37m\u001B[0m \u001B[1m0s\u001B[0m 11ms/step - accuracy: 0.9186 - loss: 0.2203 - val_accuracy: 0.8181 - val_loss: 0.4920\n",
      "Epoch 55/500\n",
      "\u001B[1m33/33\u001B[0m \u001B[32m━━━━━━━━━━━━━━━━━━━━\u001B[0m\u001B[37m\u001B[0m \u001B[1m0s\u001B[0m 11ms/step - accuracy: 0.9263 - loss: 0.2044 - val_accuracy: 0.8209 - val_loss: 0.4702\n",
      "Epoch 56/500\n",
      "\u001B[1m33/33\u001B[0m \u001B[32m━━━━━━━━━━━━━━━━━━━━\u001B[0m\u001B[37m\u001B[0m \u001B[1m0s\u001B[0m 11ms/step - accuracy: 0.9222 - loss: 0.2125 - val_accuracy: 0.8179 - val_loss: 0.4865\n",
      "Epoch 57/500\n",
      "\u001B[1m33/33\u001B[0m \u001B[32m━━━━━━━━━━━━━━━━━━━━\u001B[0m\u001B[37m\u001B[0m \u001B[1m0s\u001B[0m 12ms/step - accuracy: 0.9240 - loss: 0.2083 - val_accuracy: 0.8219 - val_loss: 0.4611\n",
      "Epoch 58/500\n",
      "\u001B[1m33/33\u001B[0m \u001B[32m━━━━━━━━━━━━━━━━━━━━\u001B[0m\u001B[37m\u001B[0m \u001B[1m0s\u001B[0m 11ms/step - accuracy: 0.9305 - loss: 0.1983 - val_accuracy: 0.8164 - val_loss: 0.4935\n",
      "Epoch 59/500\n",
      "\u001B[1m33/33\u001B[0m \u001B[32m━━━━━━━━━━━━━━━━━━━━\u001B[0m\u001B[37m\u001B[0m \u001B[1m0s\u001B[0m 12ms/step - accuracy: 0.9295 - loss: 0.1997 - val_accuracy: 0.8213 - val_loss: 0.5489\n",
      "Epoch 60/500\n",
      "\u001B[1m33/33\u001B[0m \u001B[32m━━━━━━━━━━━━━━━━━━━━\u001B[0m\u001B[37m\u001B[0m \u001B[1m0s\u001B[0m 11ms/step - accuracy: 0.9254 - loss: 0.2028 - val_accuracy: 0.8227 - val_loss: 0.5084\n",
      "Epoch 61/500\n",
      "\u001B[1m33/33\u001B[0m \u001B[32m━━━━━━━━━━━━━━━━━━━━\u001B[0m\u001B[37m\u001B[0m \u001B[1m1s\u001B[0m 13ms/step - accuracy: 0.9398 - loss: 0.1831 - val_accuracy: 0.8122 - val_loss: 0.5337\n",
      "Epoch 62/500\n",
      "\u001B[1m33/33\u001B[0m \u001B[32m━━━━━━━━━━━━━━━━━━━━\u001B[0m\u001B[37m\u001B[0m \u001B[1m0s\u001B[0m 12ms/step - accuracy: 0.9402 - loss: 0.1742 - val_accuracy: 0.8277 - val_loss: 0.5245\n",
      "Epoch 63/500\n",
      "\u001B[1m33/33\u001B[0m \u001B[32m━━━━━━━━━━━━━━━━━━━━\u001B[0m\u001B[37m\u001B[0m \u001B[1m0s\u001B[0m 11ms/step - accuracy: 0.9300 - loss: 0.1958 - val_accuracy: 0.8154 - val_loss: 0.5465\n",
      "Epoch 64/500\n",
      "\u001B[1m33/33\u001B[0m \u001B[32m━━━━━━━━━━━━━━━━━━━━\u001B[0m\u001B[37m\u001B[0m \u001B[1m0s\u001B[0m 11ms/step - accuracy: 0.9403 - loss: 0.1761 - val_accuracy: 0.8242 - val_loss: 0.5682\n",
      "Epoch 65/500\n",
      "\u001B[1m33/33\u001B[0m \u001B[32m━━━━━━━━━━━━━━━━━━━━\u001B[0m\u001B[37m\u001B[0m \u001B[1m0s\u001B[0m 11ms/step - accuracy: 0.9496 - loss: 0.1574 - val_accuracy: 0.8209 - val_loss: 0.5844\n",
      "Epoch 66/500\n",
      "\u001B[1m33/33\u001B[0m \u001B[32m━━━━━━━━━━━━━━━━━━━━\u001B[0m\u001B[37m\u001B[0m \u001B[1m0s\u001B[0m 12ms/step - accuracy: 0.9298 - loss: 0.1915 - val_accuracy: 0.8151 - val_loss: 0.5526\n",
      "Epoch 67/500\n",
      "\u001B[1m33/33\u001B[0m \u001B[32m━━━━━━━━━━━━━━━━━━━━\u001B[0m\u001B[37m\u001B[0m \u001B[1m0s\u001B[0m 11ms/step - accuracy: 0.9296 - loss: 0.1871 - val_accuracy: 0.8161 - val_loss: 0.6054\n",
      "Epoch 68/500\n",
      "\u001B[1m33/33\u001B[0m \u001B[32m━━━━━━━━━━━━━━━━━━━━\u001B[0m\u001B[37m\u001B[0m \u001B[1m0s\u001B[0m 12ms/step - accuracy: 0.9438 - loss: 0.1668 - val_accuracy: 0.8165 - val_loss: 0.5822\n",
      "Epoch 69/500\n",
      "\u001B[1m33/33\u001B[0m \u001B[32m━━━━━━━━━━━━━━━━━━━━\u001B[0m\u001B[37m\u001B[0m \u001B[1m0s\u001B[0m 11ms/step - accuracy: 0.9546 - loss: 0.1482 - val_accuracy: 0.8114 - val_loss: 0.6356\n",
      "Epoch 70/500\n",
      "\u001B[1m33/33\u001B[0m \u001B[32m━━━━━━━━━━━━━━━━━━━━\u001B[0m\u001B[37m\u001B[0m \u001B[1m0s\u001B[0m 11ms/step - accuracy: 0.9532 - loss: 0.1412 - val_accuracy: 0.8107 - val_loss: 0.6046\n",
      "Epoch 71/500\n",
      "\u001B[1m33/33\u001B[0m \u001B[32m━━━━━━━━━━━━━━━━━━━━\u001B[0m\u001B[37m\u001B[0m \u001B[1m0s\u001B[0m 11ms/step - accuracy: 0.9416 - loss: 0.1650 - val_accuracy: 0.8129 - val_loss: 0.5804\n",
      "Epoch 72/500\n",
      "\u001B[1m33/33\u001B[0m \u001B[32m━━━━━━━━━━━━━━━━━━━━\u001B[0m\u001B[37m\u001B[0m \u001B[1m0s\u001B[0m 12ms/step - accuracy: 0.9390 - loss: 0.1727 - val_accuracy: 0.8204 - val_loss: 0.6028\n",
      "Epoch 73/500\n",
      "\u001B[1m33/33\u001B[0m \u001B[32m━━━━━━━━━━━━━━━━━━━━\u001B[0m\u001B[37m\u001B[0m \u001B[1m0s\u001B[0m 12ms/step - accuracy: 0.9578 - loss: 0.1352 - val_accuracy: 0.8080 - val_loss: 0.6732\n",
      "Epoch 74/500\n",
      "\u001B[1m33/33\u001B[0m \u001B[32m━━━━━━━━━━━━━━━━━━━━\u001B[0m\u001B[37m\u001B[0m \u001B[1m0s\u001B[0m 11ms/step - accuracy: 0.9581 - loss: 0.1324 - val_accuracy: 0.8136 - val_loss: 0.6778\n",
      "Epoch 75/500\n",
      "\u001B[1m33/33\u001B[0m \u001B[32m━━━━━━━━━━━━━━━━━━━━\u001B[0m\u001B[37m\u001B[0m \u001B[1m0s\u001B[0m 11ms/step - accuracy: 0.9494 - loss: 0.1455 - val_accuracy: 0.8092 - val_loss: 0.7085\n",
      "Epoch 76/500\n",
      "\u001B[1m33/33\u001B[0m \u001B[32m━━━━━━━━━━━━━━━━━━━━\u001B[0m\u001B[37m\u001B[0m \u001B[1m0s\u001B[0m 11ms/step - accuracy: 0.9471 - loss: 0.1566 - val_accuracy: 0.8127 - val_loss: 0.6101\n",
      "Epoch 77/500\n",
      "\u001B[1m33/33\u001B[0m \u001B[32m━━━━━━━━━━━━━━━━━━━━\u001B[0m\u001B[37m\u001B[0m \u001B[1m0s\u001B[0m 12ms/step - accuracy: 0.9561 - loss: 0.1337 - val_accuracy: 0.8136 - val_loss: 0.7047\n",
      "Epoch 78/500\n",
      "\u001B[1m33/33\u001B[0m \u001B[32m━━━━━━━━━━━━━━━━━━━━\u001B[0m\u001B[37m\u001B[0m \u001B[1m0s\u001B[0m 10ms/step - accuracy: 0.9616 - loss: 0.1215 - val_accuracy: 0.8187 - val_loss: 0.6679\n",
      "Epoch 79/500\n",
      "\u001B[1m33/33\u001B[0m \u001B[32m━━━━━━━━━━━━━━━━━━━━\u001B[0m\u001B[37m\u001B[0m \u001B[1m1s\u001B[0m 16ms/step - accuracy: 0.9610 - loss: 0.1252 - val_accuracy: 0.8182 - val_loss: 0.7306\n",
      "Epoch 80/500\n",
      "\u001B[1m33/33\u001B[0m \u001B[32m━━━━━━━━━━━━━━━━━━━━\u001B[0m\u001B[37m\u001B[0m \u001B[1m1s\u001B[0m 14ms/step - accuracy: 0.9646 - loss: 0.1125 - val_accuracy: 0.8137 - val_loss: 0.6997\n",
      "Epoch 81/500\n",
      "\u001B[1m33/33\u001B[0m \u001B[32m━━━━━━━━━━━━━━━━━━━━\u001B[0m\u001B[37m\u001B[0m \u001B[1m1s\u001B[0m 14ms/step - accuracy: 0.9640 - loss: 0.1159 - val_accuracy: 0.8231 - val_loss: 0.6919\n",
      "Epoch 82/500\n",
      "\u001B[1m33/33\u001B[0m \u001B[32m━━━━━━━━━━━━━━━━━━━━\u001B[0m\u001B[37m\u001B[0m \u001B[1m1s\u001B[0m 14ms/step - accuracy: 0.9548 - loss: 0.1324 - val_accuracy: 0.8114 - val_loss: 0.7198\n",
      "Epoch 83/500\n",
      "\u001B[1m33/33\u001B[0m \u001B[32m━━━━━━━━━━━━━━━━━━━━\u001B[0m\u001B[37m\u001B[0m \u001B[1m1s\u001B[0m 13ms/step - accuracy: 0.9602 - loss: 0.1195 - val_accuracy: 0.8120 - val_loss: 0.7172\n",
      "Epoch 84/500\n",
      "\u001B[1m33/33\u001B[0m \u001B[32m━━━━━━━━━━━━━━━━━━━━\u001B[0m\u001B[37m\u001B[0m \u001B[1m0s\u001B[0m 11ms/step - accuracy: 0.9550 - loss: 0.1353 - val_accuracy: 0.8174 - val_loss: 0.6975\n",
      "Epoch 85/500\n",
      "\u001B[1m33/33\u001B[0m \u001B[32m━━━━━━━━━━━━━━━━━━━━\u001B[0m\u001B[37m\u001B[0m \u001B[1m0s\u001B[0m 11ms/step - accuracy: 0.9646 - loss: 0.1107 - val_accuracy: 0.8189 - val_loss: 0.7408\n",
      "Epoch 86/500\n",
      "\u001B[1m33/33\u001B[0m \u001B[32m━━━━━━━━━━━━━━━━━━━━\u001B[0m\u001B[37m\u001B[0m \u001B[1m0s\u001B[0m 11ms/step - accuracy: 0.9633 - loss: 0.1142 - val_accuracy: 0.8083 - val_loss: 0.7667\n",
      "Epoch 87/500\n",
      "\u001B[1m33/33\u001B[0m \u001B[32m━━━━━━━━━━━━━━━━━━━━\u001B[0m\u001B[37m\u001B[0m \u001B[1m0s\u001B[0m 11ms/step - accuracy: 0.9644 - loss: 0.1132 - val_accuracy: 0.8152 - val_loss: 0.7835\n",
      "Epoch 88/500\n",
      "\u001B[1m33/33\u001B[0m \u001B[32m━━━━━━━━━━━━━━━━━━━━\u001B[0m\u001B[37m\u001B[0m \u001B[1m1s\u001B[0m 13ms/step - accuracy: 0.9696 - loss: 0.1002 - val_accuracy: 0.8150 - val_loss: 0.8420\n",
      "Epoch 89/500\n",
      "\u001B[1m33/33\u001B[0m \u001B[32m━━━━━━━━━━━━━━━━━━━━\u001B[0m\u001B[37m\u001B[0m \u001B[1m0s\u001B[0m 11ms/step - accuracy: 0.9613 - loss: 0.1139 - val_accuracy: 0.8109 - val_loss: 0.7914\n",
      "Epoch 90/500\n",
      "\u001B[1m33/33\u001B[0m \u001B[32m━━━━━━━━━━━━━━━━━━━━\u001B[0m\u001B[37m\u001B[0m \u001B[1m0s\u001B[0m 11ms/step - accuracy: 0.9573 - loss: 0.1213 - val_accuracy: 0.8196 - val_loss: 0.7352\n",
      "Epoch 91/500\n",
      "\u001B[1m33/33\u001B[0m \u001B[32m━━━━━━━━━━━━━━━━━━━━\u001B[0m\u001B[37m\u001B[0m \u001B[1m1s\u001B[0m 14ms/step - accuracy: 0.9687 - loss: 0.1012 - val_accuracy: 0.8223 - val_loss: 0.7874\n",
      "Epoch 92/500\n",
      "\u001B[1m33/33\u001B[0m \u001B[32m━━━━━━━━━━━━━━━━━━━━\u001B[0m\u001B[37m\u001B[0m \u001B[1m0s\u001B[0m 12ms/step - accuracy: 0.9726 - loss: 0.0912 - val_accuracy: 0.8171 - val_loss: 0.7864\n",
      "Epoch 93/500\n",
      "\u001B[1m33/33\u001B[0m \u001B[32m━━━━━━━━━━━━━━━━━━━━\u001B[0m\u001B[37m\u001B[0m \u001B[1m0s\u001B[0m 12ms/step - accuracy: 0.9639 - loss: 0.1099 - val_accuracy: 0.8209 - val_loss: 0.7262\n",
      "Epoch 94/500\n",
      "\u001B[1m33/33\u001B[0m \u001B[32m━━━━━━━━━━━━━━━━━━━━\u001B[0m\u001B[37m\u001B[0m \u001B[1m0s\u001B[0m 12ms/step - accuracy: 0.9614 - loss: 0.1158 - val_accuracy: 0.8154 - val_loss: 0.7574\n",
      "Epoch 95/500\n",
      "\u001B[1m33/33\u001B[0m \u001B[32m━━━━━━━━━━━━━━━━━━━━\u001B[0m\u001B[37m\u001B[0m \u001B[1m0s\u001B[0m 12ms/step - accuracy: 0.9735 - loss: 0.0918 - val_accuracy: 0.8199 - val_loss: 0.7974\n",
      "Epoch 96/500\n",
      "\u001B[1m33/33\u001B[0m \u001B[32m━━━━━━━━━━━━━━━━━━━━\u001B[0m\u001B[37m\u001B[0m \u001B[1m0s\u001B[0m 12ms/step - accuracy: 0.9762 - loss: 0.0802 - val_accuracy: 0.8210 - val_loss: 0.7978\n",
      "Epoch 97/500\n",
      "\u001B[1m33/33\u001B[0m \u001B[32m━━━━━━━━━━━━━━━━━━━━\u001B[0m\u001B[37m\u001B[0m \u001B[1m0s\u001B[0m 11ms/step - accuracy: 0.9748 - loss: 0.0821 - val_accuracy: 0.8147 - val_loss: 0.9166\n",
      "Epoch 98/500\n",
      "\u001B[1m33/33\u001B[0m \u001B[32m━━━━━━━━━━━━━━━━━━━━\u001B[0m\u001B[37m\u001B[0m \u001B[1m0s\u001B[0m 11ms/step - accuracy: 0.9700 - loss: 0.0934 - val_accuracy: 0.8135 - val_loss: 0.8538\n",
      "Epoch 99/500\n",
      "\u001B[1m33/33\u001B[0m \u001B[32m━━━━━━━━━━━━━━━━━━━━\u001B[0m\u001B[37m\u001B[0m \u001B[1m0s\u001B[0m 11ms/step - accuracy: 0.9791 - loss: 0.0744 - val_accuracy: 0.8130 - val_loss: 0.8619\n",
      "Epoch 100/500\n",
      "\u001B[1m33/33\u001B[0m \u001B[32m━━━━━━━━━━━━━━━━━━━━\u001B[0m\u001B[37m\u001B[0m \u001B[1m0s\u001B[0m 10ms/step - accuracy: 0.9795 - loss: 0.0705 - val_accuracy: 0.8134 - val_loss: 0.8746\n",
      "Epoch 101/500\n",
      "\u001B[1m33/33\u001B[0m \u001B[32m━━━━━━━━━━━━━━━━━━━━\u001B[0m\u001B[37m\u001B[0m \u001B[1m0s\u001B[0m 11ms/step - accuracy: 0.9787 - loss: 0.0725 - val_accuracy: 0.8161 - val_loss: 0.9000\n",
      "Epoch 102/500\n",
      "\u001B[1m33/33\u001B[0m \u001B[32m━━━━━━━━━━━━━━━━━━━━\u001B[0m\u001B[37m\u001B[0m \u001B[1m0s\u001B[0m 11ms/step - accuracy: 0.9737 - loss: 0.0798 - val_accuracy: 0.8194 - val_loss: 0.9215\n",
      "Epoch 103/500\n",
      "\u001B[1m33/33\u001B[0m \u001B[32m━━━━━━━━━━━━━━━━━━━━\u001B[0m\u001B[37m\u001B[0m \u001B[1m0s\u001B[0m 11ms/step - accuracy: 0.9741 - loss: 0.0819 - val_accuracy: 0.8102 - val_loss: 0.9175\n",
      "Epoch 104/500\n",
      "\u001B[1m33/33\u001B[0m \u001B[32m━━━━━━━━━━━━━━━━━━━━\u001B[0m\u001B[37m\u001B[0m \u001B[1m0s\u001B[0m 12ms/step - accuracy: 0.9616 - loss: 0.1072 - val_accuracy: 0.8117 - val_loss: 0.8352\n",
      "Epoch 105/500\n",
      "\u001B[1m33/33\u001B[0m \u001B[32m━━━━━━━━━━━━━━━━━━━━\u001B[0m\u001B[37m\u001B[0m \u001B[1m0s\u001B[0m 12ms/step - accuracy: 0.9650 - loss: 0.1020 - val_accuracy: 0.8097 - val_loss: 0.8192\n",
      "Epoch 106/500\n",
      "\u001B[1m33/33\u001B[0m \u001B[32m━━━━━━━━━━━━━━━━━━━━\u001B[0m\u001B[37m\u001B[0m \u001B[1m0s\u001B[0m 12ms/step - accuracy: 0.9770 - loss: 0.0736 - val_accuracy: 0.8135 - val_loss: 0.8521\n",
      "Epoch 107/500\n",
      "\u001B[1m33/33\u001B[0m \u001B[32m━━━━━━━━━━━━━━━━━━━━\u001B[0m\u001B[37m\u001B[0m \u001B[1m0s\u001B[0m 11ms/step - accuracy: 0.9806 - loss: 0.0661 - val_accuracy: 0.8147 - val_loss: 0.9009\n",
      "Epoch 108/500\n",
      "\u001B[1m33/33\u001B[0m \u001B[32m━━━━━━━━━━━━━━━━━━━━\u001B[0m\u001B[37m\u001B[0m \u001B[1m0s\u001B[0m 12ms/step - accuracy: 0.9788 - loss: 0.0677 - val_accuracy: 0.8120 - val_loss: 0.9541\n",
      "Epoch 109/500\n",
      "\u001B[1m33/33\u001B[0m \u001B[32m━━━━━━━━━━━━━━━━━━━━\u001B[0m\u001B[37m\u001B[0m \u001B[1m0s\u001B[0m 11ms/step - accuracy: 0.9791 - loss: 0.0680 - val_accuracy: 0.8112 - val_loss: 0.9372\n",
      "Epoch 110/500\n",
      "\u001B[1m33/33\u001B[0m \u001B[32m━━━━━━━━━━━━━━━━━━━━\u001B[0m\u001B[37m\u001B[0m \u001B[1m0s\u001B[0m 12ms/step - accuracy: 0.9823 - loss: 0.0579 - val_accuracy: 0.8175 - val_loss: 0.9552\n",
      "Epoch 111/500\n",
      "\u001B[1m33/33\u001B[0m \u001B[32m━━━━━━━━━━━━━━━━━━━━\u001B[0m\u001B[37m\u001B[0m \u001B[1m0s\u001B[0m 11ms/step - accuracy: 0.9811 - loss: 0.0623 - val_accuracy: 0.8160 - val_loss: 0.9599\n",
      "Epoch 112/500\n",
      "\u001B[1m33/33\u001B[0m \u001B[32m━━━━━━━━━━━━━━━━━━━━\u001B[0m\u001B[37m\u001B[0m \u001B[1m0s\u001B[0m 11ms/step - accuracy: 0.9826 - loss: 0.0574 - val_accuracy: 0.8146 - val_loss: 0.9871\n",
      "Epoch 113/500\n",
      "\u001B[1m33/33\u001B[0m \u001B[32m━━━━━━━━━━━━━━━━━━━━\u001B[0m\u001B[37m\u001B[0m \u001B[1m0s\u001B[0m 11ms/step - accuracy: 0.9754 - loss: 0.0763 - val_accuracy: 0.8075 - val_loss: 0.9939\n",
      "Epoch 114/500\n",
      "\u001B[1m33/33\u001B[0m \u001B[32m━━━━━━━━━━━━━━━━━━━━\u001B[0m\u001B[37m\u001B[0m \u001B[1m0s\u001B[0m 12ms/step - accuracy: 0.9625 - loss: 0.1084 - val_accuracy: 0.8165 - val_loss: 0.9314\n",
      "Epoch 115/500\n",
      "\u001B[1m33/33\u001B[0m \u001B[32m━━━━━━━━━━━━━━━━━━━━\u001B[0m\u001B[37m\u001B[0m \u001B[1m0s\u001B[0m 11ms/step - accuracy: 0.9720 - loss: 0.0845 - val_accuracy: 0.8044 - val_loss: 0.9954\n",
      "Epoch 116/500\n",
      "\u001B[1m33/33\u001B[0m \u001B[32m━━━━━━━━━━━━━━━━━━━━\u001B[0m\u001B[37m\u001B[0m \u001B[1m0s\u001B[0m 11ms/step - accuracy: 0.9774 - loss: 0.0706 - val_accuracy: 0.8137 - val_loss: 0.9636\n",
      "Epoch 117/500\n",
      "\u001B[1m33/33\u001B[0m \u001B[32m━━━━━━━━━━━━━━━━━━━━\u001B[0m\u001B[37m\u001B[0m \u001B[1m0s\u001B[0m 11ms/step - accuracy: 0.9720 - loss: 0.0826 - val_accuracy: 0.8198 - val_loss: 0.9052\n",
      "Epoch 118/500\n",
      "\u001B[1m33/33\u001B[0m \u001B[32m━━━━━━━━━━━━━━━━━━━━\u001B[0m\u001B[37m\u001B[0m \u001B[1m0s\u001B[0m 11ms/step - accuracy: 0.9751 - loss: 0.0751 - val_accuracy: 0.8159 - val_loss: 0.9344\n",
      "Epoch 119/500\n",
      "\u001B[1m33/33\u001B[0m \u001B[32m━━━━━━━━━━━━━━━━━━━━\u001B[0m\u001B[37m\u001B[0m \u001B[1m0s\u001B[0m 11ms/step - accuracy: 0.9835 - loss: 0.0532 - val_accuracy: 0.8086 - val_loss: 0.9585\n",
      "Epoch 120/500\n",
      "\u001B[1m33/33\u001B[0m \u001B[32m━━━━━━━━━━━━━━━━━━━━\u001B[0m\u001B[37m\u001B[0m \u001B[1m0s\u001B[0m 11ms/step - accuracy: 0.9833 - loss: 0.0566 - val_accuracy: 0.8152 - val_loss: 1.0012\n",
      "Epoch 121/500\n",
      "\u001B[1m33/33\u001B[0m \u001B[32m━━━━━━━━━━━━━━━━━━━━\u001B[0m\u001B[37m\u001B[0m \u001B[1m0s\u001B[0m 9ms/step - accuracy: 0.9769 - loss: 0.0716 - val_accuracy: 0.8143 - val_loss: 0.9942\n",
      "Epoch 122/500\n",
      "\u001B[1m33/33\u001B[0m \u001B[32m━━━━━━━━━━━━━━━━━━━━\u001B[0m\u001B[37m\u001B[0m \u001B[1m0s\u001B[0m 9ms/step - accuracy: 0.9753 - loss: 0.0735 - val_accuracy: 0.8161 - val_loss: 0.9434\n",
      "Epoch 123/500\n",
      "\u001B[1m33/33\u001B[0m \u001B[32m━━━━━━━━━━━━━━━━━━━━\u001B[0m\u001B[37m\u001B[0m \u001B[1m0s\u001B[0m 10ms/step - accuracy: 0.9785 - loss: 0.0652 - val_accuracy: 0.8169 - val_loss: 0.9897\n",
      "Epoch 124/500\n",
      "\u001B[1m33/33\u001B[0m \u001B[32m━━━━━━━━━━━━━━━━━━━━\u001B[0m\u001B[37m\u001B[0m \u001B[1m0s\u001B[0m 10ms/step - accuracy: 0.9758 - loss: 0.0739 - val_accuracy: 0.8170 - val_loss: 0.9342\n",
      "Epoch 125/500\n",
      "\u001B[1m33/33\u001B[0m \u001B[32m━━━━━━━━━━━━━━━━━━━━\u001B[0m\u001B[37m\u001B[0m \u001B[1m0s\u001B[0m 12ms/step - accuracy: 0.9858 - loss: 0.0490 - val_accuracy: 0.8160 - val_loss: 0.9819\n",
      "Epoch 126/500\n",
      "\u001B[1m33/33\u001B[0m \u001B[32m━━━━━━━━━━━━━━━━━━━━\u001B[0m\u001B[37m\u001B[0m \u001B[1m0s\u001B[0m 12ms/step - accuracy: 0.9814 - loss: 0.0591 - val_accuracy: 0.8206 - val_loss: 0.9854\n",
      "Epoch 127/500\n",
      "\u001B[1m33/33\u001B[0m \u001B[32m━━━━━━━━━━━━━━━━━━━━\u001B[0m\u001B[37m\u001B[0m \u001B[1m0s\u001B[0m 11ms/step - accuracy: 0.9804 - loss: 0.0611 - val_accuracy: 0.7981 - val_loss: 0.9779\n",
      "Epoch 128/500\n",
      "\u001B[1m33/33\u001B[0m \u001B[32m━━━━━━━━━━━━━━━━━━━━\u001B[0m\u001B[37m\u001B[0m \u001B[1m0s\u001B[0m 12ms/step - accuracy: 0.9739 - loss: 0.0761 - val_accuracy: 0.8224 - val_loss: 0.9491\n",
      "Epoch 129/500\n",
      "\u001B[1m33/33\u001B[0m \u001B[32m━━━━━━━━━━━━━━━━━━━━\u001B[0m\u001B[37m\u001B[0m \u001B[1m0s\u001B[0m 11ms/step - accuracy: 0.9853 - loss: 0.0485 - val_accuracy: 0.8139 - val_loss: 0.9684\n",
      "Epoch 130/500\n",
      "\u001B[1m33/33\u001B[0m \u001B[32m━━━━━━━━━━━━━━━━━━━━\u001B[0m\u001B[37m\u001B[0m \u001B[1m0s\u001B[0m 11ms/step - accuracy: 0.9853 - loss: 0.0482 - val_accuracy: 0.8148 - val_loss: 0.9963\n",
      "Epoch 131/500\n",
      "\u001B[1m33/33\u001B[0m \u001B[32m━━━━━━━━━━━━━━━━━━━━\u001B[0m\u001B[37m\u001B[0m \u001B[1m0s\u001B[0m 12ms/step - accuracy: 0.9848 - loss: 0.0468 - val_accuracy: 0.8122 - val_loss: 1.0671\n",
      "Epoch 132/500\n",
      "\u001B[1m33/33\u001B[0m \u001B[32m━━━━━━━━━━━━━━━━━━━━\u001B[0m\u001B[37m\u001B[0m \u001B[1m0s\u001B[0m 11ms/step - accuracy: 0.9830 - loss: 0.0527 - val_accuracy: 0.8086 - val_loss: 1.0952\n",
      "Epoch 133/500\n",
      "\u001B[1m33/33\u001B[0m \u001B[32m━━━━━━━━━━━━━━━━━━━━\u001B[0m\u001B[37m\u001B[0m \u001B[1m0s\u001B[0m 11ms/step - accuracy: 0.9852 - loss: 0.0460 - val_accuracy: 0.8182 - val_loss: 1.0554\n",
      "Epoch 134/500\n",
      "\u001B[1m33/33\u001B[0m \u001B[32m━━━━━━━━━━━━━━━━━━━━\u001B[0m\u001B[37m\u001B[0m \u001B[1m0s\u001B[0m 11ms/step - accuracy: 0.9857 - loss: 0.0448 - val_accuracy: 0.7983 - val_loss: 1.1009\n",
      "Epoch 135/500\n",
      "\u001B[1m33/33\u001B[0m \u001B[32m━━━━━━━━━━━━━━━━━━━━\u001B[0m\u001B[37m\u001B[0m \u001B[1m0s\u001B[0m 11ms/step - accuracy: 0.9828 - loss: 0.0499 - val_accuracy: 0.8158 - val_loss: 1.0370\n",
      "Epoch 136/500\n",
      "\u001B[1m33/33\u001B[0m \u001B[32m━━━━━━━━━━━━━━━━━━━━\u001B[0m\u001B[37m\u001B[0m \u001B[1m0s\u001B[0m 11ms/step - accuracy: 0.9870 - loss: 0.0437 - val_accuracy: 0.8200 - val_loss: 1.0724\n",
      "Epoch 137/500\n",
      "\u001B[1m33/33\u001B[0m \u001B[32m━━━━━━━━━━━━━━━━━━━━\u001B[0m\u001B[37m\u001B[0m \u001B[1m0s\u001B[0m 11ms/step - accuracy: 0.9856 - loss: 0.0436 - val_accuracy: 0.8100 - val_loss: 1.1110\n",
      "Epoch 138/500\n",
      "\u001B[1m33/33\u001B[0m \u001B[32m━━━━━━━━━━━━━━━━━━━━\u001B[0m\u001B[37m\u001B[0m \u001B[1m0s\u001B[0m 11ms/step - accuracy: 0.9846 - loss: 0.0438 - val_accuracy: 0.8089 - val_loss: 1.0607\n",
      "Epoch 139/500\n",
      "\u001B[1m33/33\u001B[0m \u001B[32m━━━━━━━━━━━━━━━━━━━━\u001B[0m\u001B[37m\u001B[0m \u001B[1m0s\u001B[0m 11ms/step - accuracy: 0.9821 - loss: 0.0525 - val_accuracy: 0.7927 - val_loss: 1.1876\n",
      "Epoch 140/500\n",
      "\u001B[1m33/33\u001B[0m \u001B[32m━━━━━━━━━━━━━━━━━━━━\u001B[0m\u001B[37m\u001B[0m \u001B[1m0s\u001B[0m 9ms/step - accuracy: 0.9793 - loss: 0.0609 - val_accuracy: 0.8130 - val_loss: 1.0800\n",
      "Epoch 141/500\n",
      "\u001B[1m33/33\u001B[0m \u001B[32m━━━━━━━━━━━━━━━━━━━━\u001B[0m\u001B[37m\u001B[0m \u001B[1m0s\u001B[0m 9ms/step - accuracy: 0.9855 - loss: 0.0458 - val_accuracy: 0.8211 - val_loss: 1.1110\n",
      "Epoch 142/500\n",
      "\u001B[1m33/33\u001B[0m \u001B[32m━━━━━━━━━━━━━━━━━━━━\u001B[0m\u001B[37m\u001B[0m \u001B[1m0s\u001B[0m 9ms/step - accuracy: 0.9939 - loss: 0.0279 - val_accuracy: 0.8099 - val_loss: 1.1816\n",
      "Epoch 143/500\n",
      "\u001B[1m33/33\u001B[0m \u001B[32m━━━━━━━━━━━━━━━━━━━━\u001B[0m\u001B[37m\u001B[0m \u001B[1m0s\u001B[0m 9ms/step - accuracy: 0.9897 - loss: 0.0341 - val_accuracy: 0.8153 - val_loss: 1.2023\n",
      "Epoch 144/500\n",
      "\u001B[1m33/33\u001B[0m \u001B[32m━━━━━━━━━━━━━━━━━━━━\u001B[0m\u001B[37m\u001B[0m \u001B[1m0s\u001B[0m 12ms/step - accuracy: 0.9872 - loss: 0.0414 - val_accuracy: 0.8050 - val_loss: 1.1976\n",
      "Epoch 145/500\n",
      "\u001B[1m33/33\u001B[0m \u001B[32m━━━━━━━━━━━━━━━━━━━━\u001B[0m\u001B[37m\u001B[0m \u001B[1m0s\u001B[0m 11ms/step - accuracy: 0.9714 - loss: 0.0820 - val_accuracy: 0.8051 - val_loss: 1.0822\n",
      "Epoch 146/500\n",
      "\u001B[1m33/33\u001B[0m \u001B[32m━━━━━━━━━━━━━━━━━━━━\u001B[0m\u001B[37m\u001B[0m \u001B[1m0s\u001B[0m 11ms/step - accuracy: 0.9872 - loss: 0.0413 - val_accuracy: 0.8124 - val_loss: 1.0634\n",
      "Epoch 147/500\n",
      "\u001B[1m33/33\u001B[0m \u001B[32m━━━━━━━━━━━━━━━━━━━━\u001B[0m\u001B[37m\u001B[0m \u001B[1m0s\u001B[0m 11ms/step - accuracy: 0.9904 - loss: 0.0341 - val_accuracy: 0.8116 - val_loss: 1.1552\n",
      "Epoch 148/500\n",
      "\u001B[1m33/33\u001B[0m \u001B[32m━━━━━━━━━━━━━━━━━━━━\u001B[0m\u001B[37m\u001B[0m \u001B[1m0s\u001B[0m 11ms/step - accuracy: 0.9930 - loss: 0.0259 - val_accuracy: 0.8126 - val_loss: 1.1882\n",
      "Epoch 149/500\n",
      "\u001B[1m33/33\u001B[0m \u001B[32m━━━━━━━━━━━━━━━━━━━━\u001B[0m\u001B[37m\u001B[0m \u001B[1m0s\u001B[0m 10ms/step - accuracy: 0.9942 - loss: 0.0212 - val_accuracy: 0.8107 - val_loss: 1.2075\n",
      "Epoch 150/500\n",
      "\u001B[1m33/33\u001B[0m \u001B[32m━━━━━━━━━━━━━━━━━━━━\u001B[0m\u001B[37m\u001B[0m \u001B[1m0s\u001B[0m 10ms/step - accuracy: 0.9920 - loss: 0.0268 - val_accuracy: 0.8141 - val_loss: 1.2700\n",
      "Epoch 151/500\n",
      "\u001B[1m33/33\u001B[0m \u001B[32m━━━━━━━━━━━━━━━━━━━━\u001B[0m\u001B[37m\u001B[0m \u001B[1m0s\u001B[0m 11ms/step - accuracy: 0.9910 - loss: 0.0279 - val_accuracy: 0.8079 - val_loss: 1.2531\n",
      "Epoch 152/500\n",
      "\u001B[1m33/33\u001B[0m \u001B[32m━━━━━━━━━━━━━━━━━━━━\u001B[0m\u001B[37m\u001B[0m \u001B[1m0s\u001B[0m 10ms/step - accuracy: 0.9920 - loss: 0.0277 - val_accuracy: 0.8072 - val_loss: 1.2670\n",
      "Epoch 153/500\n",
      "\u001B[1m33/33\u001B[0m \u001B[32m━━━━━━━━━━━━━━━━━━━━\u001B[0m\u001B[37m\u001B[0m \u001B[1m1s\u001B[0m 13ms/step - accuracy: 0.9872 - loss: 0.0385 - val_accuracy: 0.8247 - val_loss: 1.2565\n",
      "Epoch 154/500\n",
      "\u001B[1m33/33\u001B[0m \u001B[32m━━━━━━━━━━━━━━━━━━━━\u001B[0m\u001B[37m\u001B[0m \u001B[1m0s\u001B[0m 12ms/step - accuracy: 0.9720 - loss: 0.0761 - val_accuracy: 0.8076 - val_loss: 1.1254\n",
      "Epoch 155/500\n",
      "\u001B[1m33/33\u001B[0m \u001B[32m━━━━━━━━━━━━━━━━━━━━\u001B[0m\u001B[37m\u001B[0m \u001B[1m1s\u001B[0m 13ms/step - accuracy: 0.9773 - loss: 0.0647 - val_accuracy: 0.8093 - val_loss: 1.0715\n",
      "Epoch 156/500\n",
      "\u001B[1m33/33\u001B[0m \u001B[32m━━━━━━━━━━━━━━━━━━━━\u001B[0m\u001B[37m\u001B[0m \u001B[1m0s\u001B[0m 13ms/step - accuracy: 0.9846 - loss: 0.0442 - val_accuracy: 0.8106 - val_loss: 1.1351\n",
      "Epoch 157/500\n",
      "\u001B[1m33/33\u001B[0m \u001B[32m━━━━━━━━━━━━━━━━━━━━\u001B[0m\u001B[37m\u001B[0m \u001B[1m0s\u001B[0m 11ms/step - accuracy: 0.9924 - loss: 0.0251 - val_accuracy: 0.8181 - val_loss: 1.1931\n",
      "Epoch 158/500\n",
      "\u001B[1m33/33\u001B[0m \u001B[32m━━━━━━━━━━━━━━━━━━━━\u001B[0m\u001B[37m\u001B[0m \u001B[1m0s\u001B[0m 11ms/step - accuracy: 0.9949 - loss: 0.0184 - val_accuracy: 0.8124 - val_loss: 1.2473\n",
      "Epoch 159/500\n",
      "\u001B[1m33/33\u001B[0m \u001B[32m━━━━━━━━━━━━━━━━━━━━\u001B[0m\u001B[37m\u001B[0m \u001B[1m0s\u001B[0m 10ms/step - accuracy: 0.9950 - loss: 0.0164 - val_accuracy: 0.8096 - val_loss: 1.2752\n",
      "Epoch 160/500\n",
      "\u001B[1m33/33\u001B[0m \u001B[32m━━━━━━━━━━━━━━━━━━━━\u001B[0m\u001B[37m\u001B[0m \u001B[1m0s\u001B[0m 10ms/step - accuracy: 0.9970 - loss: 0.0132 - val_accuracy: 0.8139 - val_loss: 1.3252\n",
      "Epoch 161/500\n",
      "\u001B[1m33/33\u001B[0m \u001B[32m━━━━━━━━━━━━━━━━━━━━\u001B[0m\u001B[37m\u001B[0m \u001B[1m0s\u001B[0m 10ms/step - accuracy: 0.9944 - loss: 0.0179 - val_accuracy: 0.8097 - val_loss: 1.3405\n",
      "Epoch 162/500\n",
      "\u001B[1m33/33\u001B[0m \u001B[32m━━━━━━━━━━━━━━━━━━━━\u001B[0m\u001B[37m\u001B[0m \u001B[1m0s\u001B[0m 11ms/step - accuracy: 0.9958 - loss: 0.0170 - val_accuracy: 0.8052 - val_loss: 1.4104\n",
      "Epoch 163/500\n",
      "\u001B[1m33/33\u001B[0m \u001B[32m━━━━━━━━━━━━━━━━━━━━\u001B[0m\u001B[37m\u001B[0m \u001B[1m0s\u001B[0m 12ms/step - accuracy: 0.9949 - loss: 0.0197 - val_accuracy: 0.8025 - val_loss: 1.3782\n",
      "Epoch 164/500\n",
      "\u001B[1m33/33\u001B[0m \u001B[32m━━━━━━━━━━━━━━━━━━━━\u001B[0m\u001B[37m\u001B[0m \u001B[1m0s\u001B[0m 12ms/step - accuracy: 0.9797 - loss: 0.0615 - val_accuracy: 0.8031 - val_loss: 1.3828\n",
      "Epoch 165/500\n",
      "\u001B[1m33/33\u001B[0m \u001B[32m━━━━━━━━━━━━━━━━━━━━\u001B[0m\u001B[37m\u001B[0m \u001B[1m1s\u001B[0m 13ms/step - accuracy: 0.9576 - loss: 0.1354 - val_accuracy: 0.8128 - val_loss: 0.9426\n",
      "Epoch 166/500\n",
      "\u001B[1m33/33\u001B[0m \u001B[32m━━━━━━━━━━━━━━━━━━━━\u001B[0m\u001B[37m\u001B[0m \u001B[1m0s\u001B[0m 13ms/step - accuracy: 0.9897 - loss: 0.0358 - val_accuracy: 0.8211 - val_loss: 1.0830\n",
      "Epoch 167/500\n",
      "\u001B[1m33/33\u001B[0m \u001B[32m━━━━━━━━━━━━━━━━━━━━\u001B[0m\u001B[37m\u001B[0m \u001B[1m0s\u001B[0m 11ms/step - accuracy: 0.9943 - loss: 0.0217 - val_accuracy: 0.8094 - val_loss: 1.1548\n",
      "Epoch 168/500\n",
      "\u001B[1m33/33\u001B[0m \u001B[32m━━━━━━━━━━━━━━━━━━━━\u001B[0m\u001B[37m\u001B[0m \u001B[1m0s\u001B[0m 11ms/step - accuracy: 0.9967 - loss: 0.0140 - val_accuracy: 0.8111 - val_loss: 1.2314\n",
      "Epoch 169/500\n",
      "\u001B[1m33/33\u001B[0m \u001B[32m━━━━━━━━━━━━━━━━━━━━\u001B[0m\u001B[37m\u001B[0m \u001B[1m1s\u001B[0m 13ms/step - accuracy: 0.9961 - loss: 0.0146 - val_accuracy: 0.8117 - val_loss: 1.2709\n",
      "Epoch 170/500\n",
      "\u001B[1m33/33\u001B[0m \u001B[32m━━━━━━━━━━━━━━━━━━━━\u001B[0m\u001B[37m\u001B[0m \u001B[1m1s\u001B[0m 15ms/step - accuracy: 0.9956 - loss: 0.0171 - val_accuracy: 0.7958 - val_loss: 1.2773\n"
     ]
    },
    {
     "data": {
      "text/plain": "<keras_core.src.callbacks.history.History at 0x7f68e9806dd0>"
     },
     "execution_count": 12,
     "metadata": {},
     "output_type": "execute_result"
    }
   ],
   "source": [
    "model.fit(X_train,\n",
    "          y_train,\n",
    "          epochs=500,\n",
    "          batch_size=params_grid['batch_size'],\n",
    "          callbacks=callback,\n",
    "          validation_data=(X_test, y_test)\n",
    "          )"
   ],
   "metadata": {
    "collapsed": false,
    "ExecuteTime": {
     "end_time": "2024-07-07T17:13:54.004443Z",
     "start_time": "2024-07-07T17:12:29.218643Z"
    }
   },
   "id": "bb2a2ddb0e1f70be",
   "execution_count": 12
  },
  {
   "cell_type": "markdown",
   "source": [
    "# save model"
   ],
   "metadata": {
    "collapsed": false
   },
   "id": "84f51140de160118"
  },
  {
   "cell_type": "code",
   "outputs": [],
   "source": [
    "model.save(model_weight_dst)"
   ],
   "metadata": {
    "collapsed": false,
    "ExecuteTime": {
     "end_time": "2024-07-07T17:13:54.066087Z",
     "start_time": "2024-07-07T17:13:54.007952Z"
    }
   },
   "id": "e1902ebb3c46924c",
   "execution_count": 13
  },
  {
   "cell_type": "code",
   "outputs": [],
   "source": [],
   "metadata": {
    "collapsed": false,
    "ExecuteTime": {
     "end_time": "2024-07-07T17:13:54.070346Z",
     "start_time": "2024-07-07T17:13:54.067725Z"
    }
   },
   "id": "55b6f98994a58bb2",
   "execution_count": 13
  }
 ],
 "metadata": {
  "kernelspec": {
   "display_name": "Python 3 (ipykernel)",
   "language": "python",
   "name": "python3"
  },
  "language_info": {
   "codemirror_mode": {
    "name": "ipython",
    "version": 3
   },
   "file_extension": ".py",
   "mimetype": "text/x-python",
   "name": "python",
   "nbconvert_exporter": "python",
   "pygments_lexer": "ipython3",
   "version": "3.10.13"
  }
 },
 "nbformat": 4,
 "nbformat_minor": 5
}
