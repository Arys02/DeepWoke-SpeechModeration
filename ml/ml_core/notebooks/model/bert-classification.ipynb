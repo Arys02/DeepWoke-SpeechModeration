{
 "cells": [
  {
   "cell_type": "code",
   "execution_count": 14,
   "id": "initial_id",
   "metadata": {
    "collapsed": false,
    "ExecuteTime": {
     "end_time": "2024-07-02T12:04:29.837391Z",
     "start_time": "2024-07-02T12:04:29.832451Z"
    }
   },
   "outputs": [],
   "source": [
    "import datetime\n",
    "\n",
    "import os\n",
    "\n",
    "os.getcwd()\n",
    "if '.git' not in os.listdir():\n",
    "    os.chdir('./../../../../')\n",
    "os.listdir()\n",
    "\n",
    "import fasttext\n",
    "import keras_core as keras\n",
    "import numpy as np\n",
    "import tensorflow as tf\n",
    "from keras_core.models import load_model\n",
    "from sklearn.model_selection import train_test_split\n",
    "from tensorboard.plugins.hparams import api as hp\n",
    "import tensorflow_hub as hub\n",
    "import tensorflow_text as text\n"
   ]
  },
  {
   "cell_type": "markdown",
   "id": "18856c657e08494f",
   "metadata": {
    "collapsed": false
   },
   "source": [
    "## Configurations"
   ]
  },
  {
   "cell_type": "code",
   "execution_count": 15,
   "id": "9574abd306005981",
   "metadata": {
    "collapsed": false,
    "ExecuteTime": {
     "end_time": "2024-07-02T12:04:30.088642Z",
     "start_time": "2024-07-02T12:04:30.085093Z"
    }
   },
   "outputs": [],
   "source": [
    "params_grid = {\n",
    "    \"model\": \"mlp\",\n",
    "    \"embedder\": \"bert\",\n",
    "    \"embedding_data\": \"small_bert_bert_en_uncased_L-4_H-512_A-8\",\n",
    "    \"dataset\": \"fr_hf.csv\",\n",
    "    \"batch_size\": 500\n",
    "}"
   ]
  },
  {
   "cell_type": "code",
   "execution_count": 16,
   "id": "d220a1d10493404e",
   "metadata": {
    "collapsed": false,
    "ExecuteTime": {
     "end_time": "2024-07-02T12:04:30.258189Z",
     "start_time": "2024-07-02T12:04:30.254148Z"
    }
   },
   "outputs": [],
   "source": [
    "data_folder_src = 'ml/ml_core/data/processed/'\n",
    "ml_core_folder_path = 'ml/ml_core/'\n",
    "data_path_src = f'{data_folder_src}{params_grid[\"dataset\"]}'\n",
    "date_str = datetime.datetime.now().strftime(\"%Y%m%d-%H%M%S\")\n",
    "experiment_name = f'deepwoke_{params_grid[\"embedder\"]}_{params_grid[\"model\"]}_{params_grid[\"dataset\"]}_{date_str}'\n",
    "\n",
    "log_dir = f\"{ml_core_folder_path}log/fit/{experiment_name}\"\n",
    "model_weight_dst = f'{ml_core_folder_path}model_weights/{experiment_name}-model.keras'"
   ]
  },
  {
   "cell_type": "code",
   "execution_count": 17,
   "id": "63bc5b9857e00e2f",
   "metadata": {
    "collapsed": false,
    "ExecuteTime": {
     "end_time": "2024-07-02T12:04:30.414006Z",
     "start_time": "2024-07-02T12:04:30.410562Z"
    }
   },
   "outputs": [],
   "source": [
    "\n",
    "vector_path = f'{ml_core_folder_path}embedded_vector/{params_grid[\"embedding_data\"]}_{params_grid[\"dataset\"]}'\n",
    "vector_x_dst = f'{vector_path}.x.npy'\n",
    "vector_y_dst = f'{vector_path}.y.npy'"
   ]
  },
  {
   "cell_type": "markdown",
   "id": "5d4209390b020a7",
   "metadata": {
    "collapsed": false
   },
   "source": [
    "# loading dataset"
   ]
  },
  {
   "cell_type": "code",
   "execution_count": 18,
   "id": "cda597a675bb1ba2",
   "metadata": {
    "collapsed": false,
    "ExecuteTime": {
     "end_time": "2024-07-02T12:04:30.774883Z",
     "start_time": "2024-07-02T12:04:30.670456Z"
    }
   },
   "outputs": [
    {
     "data": {
      "text/plain": "array([[ 0.94331115,  0.91675884,  0.27863583, ..., -0.6207063 ,\n         0.38985655, -0.40558928],\n       [ 0.9879986 ,  0.9389037 , -0.02450722, ..., -0.6357726 ,\n        -0.0533436 , -0.8712714 ],\n       [ 0.9917565 ,  0.9596368 ,  0.23419988, ..., -0.5770884 ,\n         0.01479267, -0.84448135],\n       ...,\n       [ 0.85382503,  0.97301006,  0.05384289, ..., -0.06826842,\n        -0.16658394, -0.20173083],\n       [ 0.99016047,  0.77991027,  0.01531475, ...,  0.46481106,\n         0.03767   , -0.1936145 ],\n       [ 0.992991  ,  0.90109193, -0.03615341, ...,  0.34522945,\n        -0.12749028, -0.8523576 ]], dtype=float32)"
     },
     "execution_count": 18,
     "metadata": {},
     "output_type": "execute_result"
    }
   ],
   "source": [
    "X = np.load(vector_x_dst)\n",
    "y = np.load(vector_y_dst)\n",
    "X"
   ]
  },
  {
   "cell_type": "markdown",
   "source": [
    "# Model"
   ],
   "metadata": {
    "collapsed": false
   },
   "id": "a2adf4c59ca51d9c"
  },
  {
   "cell_type": "markdown",
   "id": "5c8ac62597164bde",
   "metadata": {
    "collapsed": false
   },
   "source": [
    "## callbacks"
   ]
  },
  {
   "cell_type": "code",
   "execution_count": 19,
   "id": "336209aae383296f",
   "metadata": {
    "collapsed": false,
    "ExecuteTime": {
     "end_time": "2024-07-02T12:04:31.166490Z",
     "start_time": "2024-07-02T12:04:31.163701Z"
    }
   },
   "outputs": [],
   "source": [
    "early_stopping = keras.callbacks.EarlyStopping(\n",
    "    patience=10,\n",
    "    min_delta=0.001,\n",
    "    restore_best_weights=True,\n",
    "    monitor='loss'\n",
    ")\n"
   ]
  },
  {
   "cell_type": "code",
   "execution_count": 20,
   "id": "9f93ecb4efe31443",
   "metadata": {
    "collapsed": false,
    "ExecuteTime": {
     "end_time": "2024-07-02T12:04:31.489176Z",
     "start_time": "2024-07-02T12:04:31.484926Z"
    }
   },
   "outputs": [],
   "source": [
    "\n",
    "class EarlyStoppingLogging(keras.callbacks.Callback):\n",
    "    def __init__(self, early_stopping_callback, log_dir):\n",
    "        super().__init__()\n",
    "        self.early_stopping = early_stopping_callback\n",
    "        self.stopped_epoch = 0\n",
    "        self.writer = tf.summary.create_file_writer(log_dir)\n",
    "\n",
    "    def on_epoch_end(self, epoch, logs=None):\n",
    "        if self.early_stopping.stopped_epoch > 0:\n",
    "            self.stopped_epoch = self.early_stopping.stopped_epoch\n",
    "            with self.writer.as_default():\n",
    "                tf.summary.scalar('early_stopping_epoch', self.stopped_epoch, step=epoch)\n",
    "                self.writer.flush()\n"
   ]
  },
  {
   "cell_type": "code",
   "execution_count": 21,
   "id": "7ec43b4117399510",
   "metadata": {
    "collapsed": false,
    "ExecuteTime": {
     "end_time": "2024-07-02T12:04:31.795649Z",
     "start_time": "2024-07-02T12:04:31.748160Z"
    }
   },
   "outputs": [],
   "source": [
    "tensorboard_callback = keras.callbacks.TensorBoard(log_dir=log_dir, histogram_freq=1)\n",
    "early_stopping_logging_callback = EarlyStoppingLogging(early_stopping, log_dir)"
   ]
  },
  {
   "cell_type": "code",
   "execution_count": 22,
   "id": "3f3d46724d8e5aa1",
   "metadata": {
    "collapsed": false,
    "ExecuteTime": {
     "end_time": "2024-07-02T12:04:32.042744Z",
     "start_time": "2024-07-02T12:04:32.036893Z"
    }
   },
   "outputs": [],
   "source": [
    "callback = [\n",
    "    early_stopping,\n",
    "    tensorboard_callback,\n",
    "    hp.KerasCallback(log_dir, params_grid),\n",
    "    early_stopping_logging_callback,\n",
    "]"
   ]
  },
  {
   "cell_type": "markdown",
   "id": "9dec354f696f24a9",
   "metadata": {
    "collapsed": false
   },
   "source": [
    "### training the model"
   ]
  },
  {
   "cell_type": "code",
   "execution_count": 23,
   "id": "c4cf876c5cbae2f2",
   "metadata": {
    "collapsed": false,
    "ExecuteTime": {
     "end_time": "2024-07-02T12:04:32.815766Z",
     "start_time": "2024-07-02T12:04:32.697203Z"
    }
   },
   "outputs": [
    {
     "name": "stdout",
     "output_type": "stream",
     "text": [
      "512 1\n",
      "<bound method Model.summary of <Functional name=functional_3, built=True>>\n"
     ]
    }
   ],
   "source": [
    "from ml.ml_core.src.model.model_factory import model_factory\n",
    "\n",
    "X_train, X_test, y_train, y_test = train_test_split(X, y, test_size=0.1, random_state=42)\n",
    "\n",
    "model = model_factory(params_grid['model'], X_train.shape[1], 1)\n",
    "print(model.summary)\n",
    "\n",
    "tf.compat.v1.global_variables_initializer()"
   ]
  },
  {
   "cell_type": "code",
   "outputs": [],
   "source": [],
   "metadata": {
    "collapsed": false,
    "ExecuteTime": {
     "end_time": "2024-07-02T12:04:33.803173Z",
     "start_time": "2024-07-02T12:04:33.800303Z"
    }
   },
   "id": "ce63ca9857c1cffa",
   "execution_count": 23
  },
  {
   "cell_type": "code",
   "outputs": [
    {
     "name": "stdout",
     "output_type": "stream",
     "text": [
      "Epoch 1/500\n",
      "\u001B[1m33/33\u001B[0m \u001B[32m━━━━━━━━━━━━━━━━━━━━\u001B[0m\u001B[37m\u001B[0m \u001B[1m7s\u001B[0m 97ms/step - accuracy: 0.7522 - loss: 0.5570 - val_accuracy: 0.7588 - val_loss: 0.5224\n",
      "Epoch 2/500\n",
      "\u001B[1m33/33\u001B[0m \u001B[32m━━━━━━━━━━━━━━━━━━━━\u001B[0m\u001B[37m\u001B[0m \u001B[1m0s\u001B[0m 9ms/step - accuracy: 0.7631 - loss: 0.5104 - val_accuracy: 0.7637 - val_loss: 0.5102\n",
      "Epoch 3/500\n",
      "\u001B[1m33/33\u001B[0m \u001B[32m━━━━━━━━━━━━━━━━━━━━\u001B[0m\u001B[37m\u001B[0m \u001B[1m0s\u001B[0m 9ms/step - accuracy: 0.7648 - loss: 0.5030 - val_accuracy: 0.7656 - val_loss: 0.5010\n",
      "Epoch 4/500\n",
      "\u001B[1m33/33\u001B[0m \u001B[32m━━━━━━━━━━━━━━━━━━━━\u001B[0m\u001B[37m\u001B[0m \u001B[1m0s\u001B[0m 8ms/step - accuracy: 0.7706 - loss: 0.4898 - val_accuracy: 0.7757 - val_loss: 0.4900\n",
      "Epoch 5/500\n",
      "\u001B[1m33/33\u001B[0m \u001B[32m━━━━━━━━━━━━━━━━━━━━\u001B[0m\u001B[37m\u001B[0m \u001B[1m0s\u001B[0m 9ms/step - accuracy: 0.7717 - loss: 0.4884 - val_accuracy: 0.7737 - val_loss: 0.4879\n",
      "Epoch 6/500\n",
      "\u001B[1m33/33\u001B[0m \u001B[32m━━━━━━━━━━━━━━━━━━━━\u001B[0m\u001B[37m\u001B[0m \u001B[1m0s\u001B[0m 8ms/step - accuracy: 0.7763 - loss: 0.4784 - val_accuracy: 0.7812 - val_loss: 0.4788\n",
      "Epoch 7/500\n",
      "\u001B[1m33/33\u001B[0m \u001B[32m━━━━━━━━━━━━━━━━━━━━\u001B[0m\u001B[37m\u001B[0m \u001B[1m0s\u001B[0m 7ms/step - accuracy: 0.7786 - loss: 0.4751 - val_accuracy: 0.7759 - val_loss: 0.4838\n",
      "Epoch 8/500\n",
      "\u001B[1m33/33\u001B[0m \u001B[32m━━━━━━━━━━━━━━━━━━━━\u001B[0m\u001B[37m\u001B[0m \u001B[1m0s\u001B[0m 8ms/step - accuracy: 0.7795 - loss: 0.4695 - val_accuracy: 0.7847 - val_loss: 0.4740\n",
      "Epoch 9/500\n",
      "\u001B[1m33/33\u001B[0m \u001B[32m━━━━━━━━━━━━━━━━━━━━\u001B[0m\u001B[37m\u001B[0m \u001B[1m0s\u001B[0m 8ms/step - accuracy: 0.7883 - loss: 0.4573 - val_accuracy: 0.7814 - val_loss: 0.4767\n",
      "Epoch 10/500\n",
      "\u001B[1m33/33\u001B[0m \u001B[32m━━━━━━━━━━━━━━━━━━━━\u001B[0m\u001B[37m\u001B[0m \u001B[1m0s\u001B[0m 7ms/step - accuracy: 0.7917 - loss: 0.4559 - val_accuracy: 0.7870 - val_loss: 0.4685\n",
      "Epoch 11/500\n",
      "\u001B[1m33/33\u001B[0m \u001B[32m━━━━━━━━━━━━━━━━━━━━\u001B[0m\u001B[37m\u001B[0m \u001B[1m0s\u001B[0m 7ms/step - accuracy: 0.7857 - loss: 0.4602 - val_accuracy: 0.7871 - val_loss: 0.4704\n",
      "Epoch 12/500\n",
      "\u001B[1m33/33\u001B[0m \u001B[32m━━━━━━━━━━━━━━━━━━━━\u001B[0m\u001B[37m\u001B[0m \u001B[1m0s\u001B[0m 7ms/step - accuracy: 0.7915 - loss: 0.4581 - val_accuracy: 0.7837 - val_loss: 0.4751\n",
      "Epoch 13/500\n",
      "\u001B[1m33/33\u001B[0m \u001B[32m━━━━━━━━━━━━━━━━━━━━\u001B[0m\u001B[37m\u001B[0m \u001B[1m0s\u001B[0m 7ms/step - accuracy: 0.7921 - loss: 0.4521 - val_accuracy: 0.7665 - val_loss: 0.4838\n",
      "Epoch 14/500\n",
      "\u001B[1m33/33\u001B[0m \u001B[32m━━━━━━━━━━━━━━━━━━━━\u001B[0m\u001B[37m\u001B[0m \u001B[1m0s\u001B[0m 7ms/step - accuracy: 0.7900 - loss: 0.4574 - val_accuracy: 0.7880 - val_loss: 0.4709\n",
      "Epoch 15/500\n",
      "\u001B[1m33/33\u001B[0m \u001B[32m━━━━━━━━━━━━━━━━━━━━\u001B[0m\u001B[37m\u001B[0m \u001B[1m0s\u001B[0m 7ms/step - accuracy: 0.7989 - loss: 0.4427 - val_accuracy: 0.7952 - val_loss: 0.4671\n",
      "Epoch 16/500\n",
      "\u001B[1m33/33\u001B[0m \u001B[32m━━━━━━━━━━━━━━━━━━━━\u001B[0m\u001B[37m\u001B[0m \u001B[1m0s\u001B[0m 8ms/step - accuracy: 0.7982 - loss: 0.4451 - val_accuracy: 0.7841 - val_loss: 0.4650\n",
      "Epoch 17/500\n",
      "\u001B[1m33/33\u001B[0m \u001B[32m━━━━━━━━━━━━━━━━━━━━\u001B[0m\u001B[37m\u001B[0m \u001B[1m0s\u001B[0m 9ms/step - accuracy: 0.8050 - loss: 0.4355 - val_accuracy: 0.7904 - val_loss: 0.4655\n",
      "Epoch 18/500\n",
      "\u001B[1m33/33\u001B[0m \u001B[32m━━━━━━━━━━━━━━━━━━━━\u001B[0m\u001B[37m\u001B[0m \u001B[1m0s\u001B[0m 8ms/step - accuracy: 0.8076 - loss: 0.4297 - val_accuracy: 0.7938 - val_loss: 0.4620\n",
      "Epoch 19/500\n",
      "\u001B[1m33/33\u001B[0m \u001B[32m━━━━━━━━━━━━━━━━━━━━\u001B[0m\u001B[37m\u001B[0m \u001B[1m0s\u001B[0m 10ms/step - accuracy: 0.8056 - loss: 0.4324 - val_accuracy: 0.7911 - val_loss: 0.4694\n",
      "Epoch 20/500\n",
      "\u001B[1m33/33\u001B[0m \u001B[32m━━━━━━━━━━━━━━━━━━━━\u001B[0m\u001B[37m\u001B[0m \u001B[1m0s\u001B[0m 9ms/step - accuracy: 0.8024 - loss: 0.4402 - val_accuracy: 0.7936 - val_loss: 0.4605\n",
      "Epoch 21/500\n",
      "\u001B[1m33/33\u001B[0m \u001B[32m━━━━━━━━━━━━━━━━━━━━\u001B[0m\u001B[37m\u001B[0m \u001B[1m0s\u001B[0m 9ms/step - accuracy: 0.8097 - loss: 0.4284 - val_accuracy: 0.7948 - val_loss: 0.4638\n",
      "Epoch 22/500\n",
      "\u001B[1m33/33\u001B[0m \u001B[32m━━━━━━━━━━━━━━━━━━━━\u001B[0m\u001B[37m\u001B[0m \u001B[1m0s\u001B[0m 7ms/step - accuracy: 0.8086 - loss: 0.4274 - val_accuracy: 0.7918 - val_loss: 0.4642\n",
      "Epoch 23/500\n",
      "\u001B[1m33/33\u001B[0m \u001B[32m━━━━━━━━━━━━━━━━━━━━\u001B[0m\u001B[37m\u001B[0m \u001B[1m0s\u001B[0m 6ms/step - accuracy: 0.8085 - loss: 0.4206 - val_accuracy: 0.7901 - val_loss: 0.4661\n",
      "Epoch 24/500\n",
      "\u001B[1m33/33\u001B[0m \u001B[32m━━━━━━━━━━━━━━━━━━━━\u001B[0m\u001B[37m\u001B[0m \u001B[1m0s\u001B[0m 7ms/step - accuracy: 0.8081 - loss: 0.4207 - val_accuracy: 0.7902 - val_loss: 0.4632\n",
      "Epoch 25/500\n",
      "\u001B[1m33/33\u001B[0m \u001B[32m━━━━━━━━━━━━━━━━━━━━\u001B[0m\u001B[37m\u001B[0m \u001B[1m0s\u001B[0m 7ms/step - accuracy: 0.8122 - loss: 0.4195 - val_accuracy: 0.7858 - val_loss: 0.4713\n",
      "Epoch 26/500\n",
      "\u001B[1m33/33\u001B[0m \u001B[32m━━━━━━━━━━━━━━━━━━━━\u001B[0m\u001B[37m\u001B[0m \u001B[1m0s\u001B[0m 7ms/step - accuracy: 0.8105 - loss: 0.4206 - val_accuracy: 0.7919 - val_loss: 0.4596\n",
      "Epoch 27/500\n",
      "\u001B[1m33/33\u001B[0m \u001B[32m━━━━━━━━━━━━━━━━━━━━\u001B[0m\u001B[37m\u001B[0m \u001B[1m0s\u001B[0m 8ms/step - accuracy: 0.8195 - loss: 0.4078 - val_accuracy: 0.7967 - val_loss: 0.4550\n",
      "Epoch 28/500\n",
      "\u001B[1m33/33\u001B[0m \u001B[32m━━━━━━━━━━━━━━━━━━━━\u001B[0m\u001B[37m\u001B[0m \u001B[1m0s\u001B[0m 8ms/step - accuracy: 0.8165 - loss: 0.4128 - val_accuracy: 0.7971 - val_loss: 0.4584\n",
      "Epoch 29/500\n",
      "\u001B[1m33/33\u001B[0m \u001B[32m━━━━━━━━━━━━━━━━━━━━\u001B[0m\u001B[37m\u001B[0m \u001B[1m0s\u001B[0m 9ms/step - accuracy: 0.8192 - loss: 0.4082 - val_accuracy: 0.7969 - val_loss: 0.4629\n",
      "Epoch 30/500\n",
      "\u001B[1m33/33\u001B[0m \u001B[32m━━━━━━━━━━━━━━━━━━━━\u001B[0m\u001B[37m\u001B[0m \u001B[1m0s\u001B[0m 7ms/step - accuracy: 0.8195 - loss: 0.4058 - val_accuracy: 0.7920 - val_loss: 0.4684\n",
      "Epoch 31/500\n",
      "\u001B[1m33/33\u001B[0m \u001B[32m━━━━━━━━━━━━━━━━━━━━\u001B[0m\u001B[37m\u001B[0m \u001B[1m0s\u001B[0m 7ms/step - accuracy: 0.8189 - loss: 0.4078 - val_accuracy: 0.8004 - val_loss: 0.4689\n",
      "Epoch 32/500\n",
      "\u001B[1m33/33\u001B[0m \u001B[32m━━━━━━━━━━━━━━━━━━━━\u001B[0m\u001B[37m\u001B[0m \u001B[1m0s\u001B[0m 7ms/step - accuracy: 0.8193 - loss: 0.4031 - val_accuracy: 0.7879 - val_loss: 0.4674\n",
      "Epoch 33/500\n",
      "\u001B[1m33/33\u001B[0m \u001B[32m━━━━━━━━━━━━━━━━━━━━\u001B[0m\u001B[37m\u001B[0m \u001B[1m0s\u001B[0m 7ms/step - accuracy: 0.8219 - loss: 0.4006 - val_accuracy: 0.7871 - val_loss: 0.4715\n",
      "Epoch 34/500\n",
      "\u001B[1m33/33\u001B[0m \u001B[32m━━━━━━━━━━━━━━━━━━━━\u001B[0m\u001B[37m\u001B[0m \u001B[1m0s\u001B[0m 7ms/step - accuracy: 0.8293 - loss: 0.3898 - val_accuracy: 0.7832 - val_loss: 0.4792\n",
      "Epoch 35/500\n",
      "\u001B[1m33/33\u001B[0m \u001B[32m━━━━━━━━━━━━━━━━━━━━\u001B[0m\u001B[37m\u001B[0m \u001B[1m0s\u001B[0m 8ms/step - accuracy: 0.8240 - loss: 0.3956 - val_accuracy: 0.7901 - val_loss: 0.4759\n",
      "Epoch 36/500\n",
      "\u001B[1m33/33\u001B[0m \u001B[32m━━━━━━━━━━━━━━━━━━━━\u001B[0m\u001B[37m\u001B[0m \u001B[1m0s\u001B[0m 6ms/step - accuracy: 0.8244 - loss: 0.3995 - val_accuracy: 0.7925 - val_loss: 0.4714\n",
      "Epoch 37/500\n",
      "\u001B[1m33/33\u001B[0m \u001B[32m━━━━━━━━━━━━━━━━━━━━\u001B[0m\u001B[37m\u001B[0m \u001B[1m0s\u001B[0m 8ms/step - accuracy: 0.8296 - loss: 0.3937 - val_accuracy: 0.7919 - val_loss: 0.4729\n",
      "Epoch 38/500\n",
      "\u001B[1m33/33\u001B[0m \u001B[32m━━━━━━━━━━━━━━━━━━━━\u001B[0m\u001B[37m\u001B[0m \u001B[1m0s\u001B[0m 8ms/step - accuracy: 0.8321 - loss: 0.3866 - val_accuracy: 0.7863 - val_loss: 0.4771\n",
      "Epoch 39/500\n",
      "\u001B[1m33/33\u001B[0m \u001B[32m━━━━━━━━━━━━━━━━━━━━\u001B[0m\u001B[37m\u001B[0m \u001B[1m0s\u001B[0m 7ms/step - accuracy: 0.8196 - loss: 0.3949 - val_accuracy: 0.7926 - val_loss: 0.4701\n",
      "Epoch 40/500\n",
      "\u001B[1m33/33\u001B[0m \u001B[32m━━━━━━━━━━━━━━━━━━━━\u001B[0m\u001B[37m\u001B[0m \u001B[1m0s\u001B[0m 7ms/step - accuracy: 0.8331 - loss: 0.3796 - val_accuracy: 0.7947 - val_loss: 0.4825\n",
      "Epoch 41/500\n",
      "\u001B[1m33/33\u001B[0m \u001B[32m━━━━━━━━━━━━━━━━━━━━\u001B[0m\u001B[37m\u001B[0m \u001B[1m0s\u001B[0m 7ms/step - accuracy: 0.8315 - loss: 0.3825 - val_accuracy: 0.7853 - val_loss: 0.4860\n",
      "Epoch 42/500\n",
      "\u001B[1m33/33\u001B[0m \u001B[32m━━━━━━━━━━━━━━━━━━━━\u001B[0m\u001B[37m\u001B[0m \u001B[1m0s\u001B[0m 8ms/step - accuracy: 0.8346 - loss: 0.3744 - val_accuracy: 0.7959 - val_loss: 0.4807\n",
      "Epoch 43/500\n",
      "\u001B[1m33/33\u001B[0m \u001B[32m━━━━━━━━━━━━━━━━━━━━\u001B[0m\u001B[37m\u001B[0m \u001B[1m0s\u001B[0m 7ms/step - accuracy: 0.8374 - loss: 0.3739 - val_accuracy: 0.7982 - val_loss: 0.4804\n",
      "Epoch 44/500\n",
      "\u001B[1m33/33\u001B[0m \u001B[32m━━━━━━━━━━━━━━━━━━━━\u001B[0m\u001B[37m\u001B[0m \u001B[1m0s\u001B[0m 8ms/step - accuracy: 0.8401 - loss: 0.3698 - val_accuracy: 0.7956 - val_loss: 0.4867\n",
      "Epoch 45/500\n",
      "\u001B[1m33/33\u001B[0m \u001B[32m━━━━━━━━━━━━━━━━━━━━\u001B[0m\u001B[37m\u001B[0m \u001B[1m0s\u001B[0m 7ms/step - accuracy: 0.8372 - loss: 0.3708 - val_accuracy: 0.7864 - val_loss: 0.4830\n",
      "Epoch 46/500\n",
      "\u001B[1m33/33\u001B[0m \u001B[32m━━━━━━━━━━━━━━━━━━━━\u001B[0m\u001B[37m\u001B[0m \u001B[1m0s\u001B[0m 7ms/step - accuracy: 0.8376 - loss: 0.3733 - val_accuracy: 0.7996 - val_loss: 0.4911\n",
      "Epoch 47/500\n",
      "\u001B[1m33/33\u001B[0m \u001B[32m━━━━━━━━━━━━━━━━━━━━\u001B[0m\u001B[37m\u001B[0m \u001B[1m0s\u001B[0m 8ms/step - accuracy: 0.8431 - loss: 0.3672 - val_accuracy: 0.7904 - val_loss: 0.4864\n",
      "Epoch 48/500\n",
      "\u001B[1m33/33\u001B[0m \u001B[32m━━━━━━━━━━━━━━━━━━━━\u001B[0m\u001B[37m\u001B[0m \u001B[1m0s\u001B[0m 8ms/step - accuracy: 0.8413 - loss: 0.3659 - val_accuracy: 0.7969 - val_loss: 0.4976\n",
      "Epoch 49/500\n",
      "\u001B[1m33/33\u001B[0m \u001B[32m━━━━━━━━━━━━━━━━━━━━\u001B[0m\u001B[37m\u001B[0m \u001B[1m0s\u001B[0m 7ms/step - accuracy: 0.8355 - loss: 0.3668 - val_accuracy: 0.7876 - val_loss: 0.4944\n",
      "Epoch 50/500\n",
      "\u001B[1m33/33\u001B[0m \u001B[32m━━━━━━━━━━━━━━━━━━━━\u001B[0m\u001B[37m\u001B[0m \u001B[1m0s\u001B[0m 7ms/step - accuracy: 0.8422 - loss: 0.3609 - val_accuracy: 0.7878 - val_loss: 0.4912\n",
      "Epoch 51/500\n",
      "\u001B[1m33/33\u001B[0m \u001B[32m━━━━━━━━━━━━━━━━━━━━\u001B[0m\u001B[37m\u001B[0m \u001B[1m0s\u001B[0m 7ms/step - accuracy: 0.8473 - loss: 0.3469 - val_accuracy: 0.7866 - val_loss: 0.4993\n",
      "Epoch 52/500\n",
      "\u001B[1m33/33\u001B[0m \u001B[32m━━━━━━━━━━━━━━━━━━━━\u001B[0m\u001B[37m\u001B[0m \u001B[1m0s\u001B[0m 7ms/step - accuracy: 0.8458 - loss: 0.3532 - val_accuracy: 0.7921 - val_loss: 0.4925\n",
      "Epoch 53/500\n",
      "\u001B[1m33/33\u001B[0m \u001B[32m━━━━━━━━━━━━━━━━━━━━\u001B[0m\u001B[37m\u001B[0m \u001B[1m0s\u001B[0m 6ms/step - accuracy: 0.8443 - loss: 0.3562 - val_accuracy: 0.7917 - val_loss: 0.4937\n",
      "Epoch 54/500\n",
      "\u001B[1m33/33\u001B[0m \u001B[32m━━━━━━━━━━━━━━━━━━━━\u001B[0m\u001B[37m\u001B[0m \u001B[1m0s\u001B[0m 7ms/step - accuracy: 0.8571 - loss: 0.3358 - val_accuracy: 0.7832 - val_loss: 0.4887\n",
      "Epoch 55/500\n",
      "\u001B[1m33/33\u001B[0m \u001B[32m━━━━━━━━━━━━━━━━━━━━\u001B[0m\u001B[37m\u001B[0m \u001B[1m0s\u001B[0m 8ms/step - accuracy: 0.8495 - loss: 0.3443 - val_accuracy: 0.7876 - val_loss: 0.5139\n",
      "Epoch 56/500\n",
      "\u001B[1m33/33\u001B[0m \u001B[32m━━━━━━━━━━━━━━━━━━━━\u001B[0m\u001B[37m\u001B[0m \u001B[1m0s\u001B[0m 8ms/step - accuracy: 0.8519 - loss: 0.3439 - val_accuracy: 0.7911 - val_loss: 0.5078\n",
      "Epoch 57/500\n",
      "\u001B[1m33/33\u001B[0m \u001B[32m━━━━━━━━━━━━━━━━━━━━\u001B[0m\u001B[37m\u001B[0m \u001B[1m0s\u001B[0m 8ms/step - accuracy: 0.8508 - loss: 0.3447 - val_accuracy: 0.7733 - val_loss: 0.4927\n",
      "Epoch 58/500\n",
      "\u001B[1m33/33\u001B[0m \u001B[32m━━━━━━━━━━━━━━━━━━━━\u001B[0m\u001B[37m\u001B[0m \u001B[1m0s\u001B[0m 8ms/step - accuracy: 0.8480 - loss: 0.3410 - val_accuracy: 0.7846 - val_loss: 0.5022\n",
      "Epoch 59/500\n",
      "\u001B[1m33/33\u001B[0m \u001B[32m━━━━━━━━━━━━━━━━━━━━\u001B[0m\u001B[37m\u001B[0m \u001B[1m0s\u001B[0m 8ms/step - accuracy: 0.8491 - loss: 0.3407 - val_accuracy: 0.7852 - val_loss: 0.5209\n",
      "Epoch 60/500\n",
      "\u001B[1m33/33\u001B[0m \u001B[32m━━━━━━━━━━━━━━━━━━━━\u001B[0m\u001B[37m\u001B[0m \u001B[1m0s\u001B[0m 8ms/step - accuracy: 0.8567 - loss: 0.3311 - val_accuracy: 0.7835 - val_loss: 0.5159\n",
      "Epoch 61/500\n",
      "\u001B[1m33/33\u001B[0m \u001B[32m━━━━━━━━━━━━━━━━━━━━\u001B[0m\u001B[37m\u001B[0m \u001B[1m0s\u001B[0m 8ms/step - accuracy: 0.8564 - loss: 0.3292 - val_accuracy: 0.7899 - val_loss: 0.5149\n",
      "Epoch 62/500\n",
      "\u001B[1m33/33\u001B[0m \u001B[32m━━━━━━━━━━━━━━━━━━━━\u001B[0m\u001B[37m\u001B[0m \u001B[1m0s\u001B[0m 7ms/step - accuracy: 0.8624 - loss: 0.3289 - val_accuracy: 0.7902 - val_loss: 0.5315\n",
      "Epoch 63/500\n",
      "\u001B[1m33/33\u001B[0m \u001B[32m━━━━━━━━━━━━━━━━━━━━\u001B[0m\u001B[37m\u001B[0m \u001B[1m0s\u001B[0m 7ms/step - accuracy: 0.8611 - loss: 0.3224 - val_accuracy: 0.7741 - val_loss: 0.5183\n",
      "Epoch 64/500\n",
      "\u001B[1m33/33\u001B[0m \u001B[32m━━━━━━━━━━━━━━━━━━━━\u001B[0m\u001B[37m\u001B[0m \u001B[1m0s\u001B[0m 7ms/step - accuracy: 0.8582 - loss: 0.3248 - val_accuracy: 0.7830 - val_loss: 0.5157\n",
      "Epoch 65/500\n",
      "\u001B[1m33/33\u001B[0m \u001B[32m━━━━━━━━━━━━━━━━━━━━\u001B[0m\u001B[37m\u001B[0m \u001B[1m0s\u001B[0m 7ms/step - accuracy: 0.8612 - loss: 0.3186 - val_accuracy: 0.7829 - val_loss: 0.5261\n",
      "Epoch 66/500\n",
      "\u001B[1m33/33\u001B[0m \u001B[32m━━━━━━━━━━━━━━━━━━━━\u001B[0m\u001B[37m\u001B[0m \u001B[1m0s\u001B[0m 6ms/step - accuracy: 0.8624 - loss: 0.3228 - val_accuracy: 0.7910 - val_loss: 0.5329\n",
      "Epoch 67/500\n",
      "\u001B[1m33/33\u001B[0m \u001B[32m━━━━━━━━━━━━━━━━━━━━\u001B[0m\u001B[37m\u001B[0m \u001B[1m0s\u001B[0m 7ms/step - accuracy: 0.8624 - loss: 0.3151 - val_accuracy: 0.7858 - val_loss: 0.5353\n",
      "Epoch 68/500\n",
      "\u001B[1m33/33\u001B[0m \u001B[32m━━━━━━━━━━━━━━━━━━━━\u001B[0m\u001B[37m\u001B[0m \u001B[1m0s\u001B[0m 7ms/step - accuracy: 0.8678 - loss: 0.3173 - val_accuracy: 0.7746 - val_loss: 0.5300\n",
      "Epoch 69/500\n",
      "\u001B[1m33/33\u001B[0m \u001B[32m━━━━━━━━━━━━━━━━━━━━\u001B[0m\u001B[37m\u001B[0m \u001B[1m0s\u001B[0m 8ms/step - accuracy: 0.8600 - loss: 0.3294 - val_accuracy: 0.7965 - val_loss: 0.5373\n",
      "Epoch 70/500\n",
      "\u001B[1m33/33\u001B[0m \u001B[32m━━━━━━━━━━━━━━━━━━━━\u001B[0m\u001B[37m\u001B[0m \u001B[1m0s\u001B[0m 8ms/step - accuracy: 0.8666 - loss: 0.3137 - val_accuracy: 0.7949 - val_loss: 0.5300\n",
      "Epoch 71/500\n",
      "\u001B[1m33/33\u001B[0m \u001B[32m━━━━━━━━━━━━━━━━━━━━\u001B[0m\u001B[37m\u001B[0m \u001B[1m0s\u001B[0m 8ms/step - accuracy: 0.8688 - loss: 0.3061 - val_accuracy: 0.7832 - val_loss: 0.5475\n",
      "Epoch 72/500\n",
      "\u001B[1m33/33\u001B[0m \u001B[32m━━━━━━━━━━━━━━━━━━━━\u001B[0m\u001B[37m\u001B[0m \u001B[1m0s\u001B[0m 8ms/step - accuracy: 0.8657 - loss: 0.3115 - val_accuracy: 0.7891 - val_loss: 0.5517\n",
      "Epoch 73/500\n",
      "\u001B[1m33/33\u001B[0m \u001B[32m━━━━━━━━━━━━━━━━━━━━\u001B[0m\u001B[37m\u001B[0m \u001B[1m0s\u001B[0m 8ms/step - accuracy: 0.8733 - loss: 0.3014 - val_accuracy: 0.7898 - val_loss: 0.5512\n",
      "Epoch 74/500\n",
      "\u001B[1m33/33\u001B[0m \u001B[32m━━━━━━━━━━━━━━━━━━━━\u001B[0m\u001B[37m\u001B[0m \u001B[1m0s\u001B[0m 8ms/step - accuracy: 0.8760 - loss: 0.2942 - val_accuracy: 0.7890 - val_loss: 0.5492\n",
      "Epoch 75/500\n",
      "\u001B[1m33/33\u001B[0m \u001B[32m━━━━━━━━━━━━━━━━━━━━\u001B[0m\u001B[37m\u001B[0m \u001B[1m1s\u001B[0m 9ms/step - accuracy: 0.8711 - loss: 0.2956 - val_accuracy: 0.7987 - val_loss: 0.5544\n",
      "Epoch 76/500\n",
      "\u001B[1m33/33\u001B[0m \u001B[32m━━━━━━━━━━━━━━━━━━━━\u001B[0m\u001B[37m\u001B[0m \u001B[1m0s\u001B[0m 9ms/step - accuracy: 0.8743 - loss: 0.2946 - val_accuracy: 0.7851 - val_loss: 0.5587\n",
      "Epoch 77/500\n",
      "\u001B[1m33/33\u001B[0m \u001B[32m━━━━━━━━━━━━━━━━━━━━\u001B[0m\u001B[37m\u001B[0m \u001B[1m0s\u001B[0m 8ms/step - accuracy: 0.8709 - loss: 0.3007 - val_accuracy: 0.7774 - val_loss: 0.5648\n",
      "Epoch 78/500\n",
      "\u001B[1m33/33\u001B[0m \u001B[32m━━━━━━━━━━━━━━━━━━━━\u001B[0m\u001B[37m\u001B[0m \u001B[1m0s\u001B[0m 8ms/step - accuracy: 0.8748 - loss: 0.2909 - val_accuracy: 0.7810 - val_loss: 0.5425\n",
      "Epoch 79/500\n",
      "\u001B[1m33/33\u001B[0m \u001B[32m━━━━━━━━━━━━━━━━━━━━\u001B[0m\u001B[37m\u001B[0m \u001B[1m0s\u001B[0m 7ms/step - accuracy: 0.8743 - loss: 0.2940 - val_accuracy: 0.7929 - val_loss: 0.5587\n",
      "Epoch 80/500\n",
      "\u001B[1m33/33\u001B[0m \u001B[32m━━━━━━━━━━━━━━━━━━━━\u001B[0m\u001B[37m\u001B[0m \u001B[1m0s\u001B[0m 7ms/step - accuracy: 0.8738 - loss: 0.2902 - val_accuracy: 0.7897 - val_loss: 0.5745\n",
      "Epoch 81/500\n",
      "\u001B[1m33/33\u001B[0m \u001B[32m━━━━━━━━━━━━━━━━━━━━\u001B[0m\u001B[37m\u001B[0m \u001B[1m0s\u001B[0m 6ms/step - accuracy: 0.8740 - loss: 0.2924 - val_accuracy: 0.7880 - val_loss: 0.5988\n",
      "Epoch 82/500\n",
      "\u001B[1m33/33\u001B[0m \u001B[32m━━━━━━━━━━━━━━━━━━━━\u001B[0m\u001B[37m\u001B[0m \u001B[1m0s\u001B[0m 7ms/step - accuracy: 0.8767 - loss: 0.2912 - val_accuracy: 0.7876 - val_loss: 0.5716\n",
      "Epoch 83/500\n",
      "\u001B[1m33/33\u001B[0m \u001B[32m━━━━━━━━━━━━━━━━━━━━\u001B[0m\u001B[37m\u001B[0m \u001B[1m0s\u001B[0m 7ms/step - accuracy: 0.8755 - loss: 0.2886 - val_accuracy: 0.7887 - val_loss: 0.5833\n",
      "Epoch 84/500\n",
      "\u001B[1m33/33\u001B[0m \u001B[32m━━━━━━━━━━━━━━━━━━━━\u001B[0m\u001B[37m\u001B[0m \u001B[1m0s\u001B[0m 6ms/step - accuracy: 0.8745 - loss: 0.2843 - val_accuracy: 0.7954 - val_loss: 0.5746\n",
      "Epoch 85/500\n",
      "\u001B[1m33/33\u001B[0m \u001B[32m━━━━━━━━━━━━━━━━━━━━\u001B[0m\u001B[37m\u001B[0m \u001B[1m0s\u001B[0m 8ms/step - accuracy: 0.8805 - loss: 0.2777 - val_accuracy: 0.7844 - val_loss: 0.5879\n",
      "Epoch 86/500\n",
      "\u001B[1m33/33\u001B[0m \u001B[32m━━━━━━━━━━━━━━━━━━━━\u001B[0m\u001B[37m\u001B[0m \u001B[1m0s\u001B[0m 8ms/step - accuracy: 0.8803 - loss: 0.2749 - val_accuracy: 0.7752 - val_loss: 0.5931\n",
      "Epoch 87/500\n",
      "\u001B[1m33/33\u001B[0m \u001B[32m━━━━━━━━━━━━━━━━━━━━\u001B[0m\u001B[37m\u001B[0m \u001B[1m0s\u001B[0m 7ms/step - accuracy: 0.8817 - loss: 0.2814 - val_accuracy: 0.7830 - val_loss: 0.5899\n",
      "Epoch 88/500\n",
      "\u001B[1m33/33\u001B[0m \u001B[32m━━━━━━━━━━━━━━━━━━━━\u001B[0m\u001B[37m\u001B[0m \u001B[1m0s\u001B[0m 7ms/step - accuracy: 0.8854 - loss: 0.2664 - val_accuracy: 0.7697 - val_loss: 0.5714\n",
      "Epoch 89/500\n",
      "\u001B[1m33/33\u001B[0m \u001B[32m━━━━━━━━━━━━━━━━━━━━\u001B[0m\u001B[37m\u001B[0m \u001B[1m0s\u001B[0m 8ms/step - accuracy: 0.8779 - loss: 0.2792 - val_accuracy: 0.7901 - val_loss: 0.5741\n",
      "Epoch 90/500\n",
      "\u001B[1m33/33\u001B[0m \u001B[32m━━━━━━━━━━━━━━━━━━━━\u001B[0m\u001B[37m\u001B[0m \u001B[1m0s\u001B[0m 8ms/step - accuracy: 0.8781 - loss: 0.2840 - val_accuracy: 0.7849 - val_loss: 0.6079\n",
      "Epoch 91/500\n",
      "\u001B[1m33/33\u001B[0m \u001B[32m━━━━━━━━━━━━━━━━━━━━\u001B[0m\u001B[37m\u001B[0m \u001B[1m0s\u001B[0m 7ms/step - accuracy: 0.8856 - loss: 0.2709 - val_accuracy: 0.7857 - val_loss: 0.6184\n",
      "Epoch 92/500\n",
      "\u001B[1m33/33\u001B[0m \u001B[32m━━━━━━━━━━━━━━━━━━━━\u001B[0m\u001B[37m\u001B[0m \u001B[1m0s\u001B[0m 7ms/step - accuracy: 0.8917 - loss: 0.2623 - val_accuracy: 0.7834 - val_loss: 0.5892\n",
      "Epoch 93/500\n",
      "\u001B[1m33/33\u001B[0m \u001B[32m━━━━━━━━━━━━━━━━━━━━\u001B[0m\u001B[37m\u001B[0m \u001B[1m0s\u001B[0m 7ms/step - accuracy: 0.8854 - loss: 0.2729 - val_accuracy: 0.7859 - val_loss: 0.6310\n",
      "Epoch 94/500\n",
      "\u001B[1m33/33\u001B[0m \u001B[32m━━━━━━━━━━━━━━━━━━━━\u001B[0m\u001B[37m\u001B[0m \u001B[1m0s\u001B[0m 6ms/step - accuracy: 0.8860 - loss: 0.2665 - val_accuracy: 0.7831 - val_loss: 0.5925\n",
      "Epoch 95/500\n",
      "\u001B[1m33/33\u001B[0m \u001B[32m━━━━━━━━━━━━━━━━━━━━\u001B[0m\u001B[37m\u001B[0m \u001B[1m0s\u001B[0m 7ms/step - accuracy: 0.8910 - loss: 0.2565 - val_accuracy: 0.7886 - val_loss: 0.6208\n",
      "Epoch 96/500\n",
      "\u001B[1m33/33\u001B[0m \u001B[32m━━━━━━━━━━━━━━━━━━━━\u001B[0m\u001B[37m\u001B[0m \u001B[1m0s\u001B[0m 6ms/step - accuracy: 0.8866 - loss: 0.2656 - val_accuracy: 0.7719 - val_loss: 0.5873\n",
      "Epoch 97/500\n",
      "\u001B[1m33/33\u001B[0m \u001B[32m━━━━━━━━━━━━━━━━━━━━\u001B[0m\u001B[37m\u001B[0m \u001B[1m0s\u001B[0m 6ms/step - accuracy: 0.8816 - loss: 0.2793 - val_accuracy: 0.7762 - val_loss: 0.6085\n",
      "Epoch 98/500\n",
      "\u001B[1m33/33\u001B[0m \u001B[32m━━━━━━━━━━━━━━━━━━━━\u001B[0m\u001B[37m\u001B[0m \u001B[1m0s\u001B[0m 6ms/step - accuracy: 0.8823 - loss: 0.2672 - val_accuracy: 0.7775 - val_loss: 0.6223\n",
      "Epoch 99/500\n",
      "\u001B[1m33/33\u001B[0m \u001B[32m━━━━━━━━━━━━━━━━━━━━\u001B[0m\u001B[37m\u001B[0m \u001B[1m0s\u001B[0m 8ms/step - accuracy: 0.8906 - loss: 0.2578 - val_accuracy: 0.7877 - val_loss: 0.5919\n",
      "Epoch 100/500\n",
      "\u001B[1m33/33\u001B[0m \u001B[32m━━━━━━━━━━━━━━━━━━━━\u001B[0m\u001B[37m\u001B[0m \u001B[1m0s\u001B[0m 7ms/step - accuracy: 0.8857 - loss: 0.2630 - val_accuracy: 0.7871 - val_loss: 0.6243\n",
      "Epoch 101/500\n",
      "\u001B[1m33/33\u001B[0m \u001B[32m━━━━━━━━━━━━━━━━━━━━\u001B[0m\u001B[37m\u001B[0m \u001B[1m0s\u001B[0m 8ms/step - accuracy: 0.8924 - loss: 0.2495 - val_accuracy: 0.7778 - val_loss: 0.6310\n",
      "Epoch 102/500\n",
      "\u001B[1m33/33\u001B[0m \u001B[32m━━━━━━━━━━━━━━━━━━━━\u001B[0m\u001B[37m\u001B[0m \u001B[1m0s\u001B[0m 8ms/step - accuracy: 0.8930 - loss: 0.2497 - val_accuracy: 0.7761 - val_loss: 0.6525\n",
      "Epoch 103/500\n",
      "\u001B[1m33/33\u001B[0m \u001B[32m━━━━━━━━━━━━━━━━━━━━\u001B[0m\u001B[37m\u001B[0m \u001B[1m0s\u001B[0m 7ms/step - accuracy: 0.8958 - loss: 0.2459 - val_accuracy: 0.7863 - val_loss: 0.6204\n",
      "Epoch 104/500\n",
      "\u001B[1m33/33\u001B[0m \u001B[32m━━━━━━━━━━━━━━━━━━━━\u001B[0m\u001B[37m\u001B[0m \u001B[1m0s\u001B[0m 7ms/step - accuracy: 0.9000 - loss: 0.2397 - val_accuracy: 0.7752 - val_loss: 0.6163\n",
      "Epoch 105/500\n",
      "\u001B[1m33/33\u001B[0m \u001B[32m━━━━━━━━━━━━━━━━━━━━\u001B[0m\u001B[37m\u001B[0m \u001B[1m0s\u001B[0m 8ms/step - accuracy: 0.8897 - loss: 0.2530 - val_accuracy: 0.7819 - val_loss: 0.6384\n",
      "Epoch 106/500\n",
      "\u001B[1m33/33\u001B[0m \u001B[32m━━━━━━━━━━━━━━━━━━━━\u001B[0m\u001B[37m\u001B[0m \u001B[1m0s\u001B[0m 8ms/step - accuracy: 0.8916 - loss: 0.2465 - val_accuracy: 0.7915 - val_loss: 0.6485\n",
      "Epoch 107/500\n",
      "\u001B[1m33/33\u001B[0m \u001B[32m━━━━━━━━━━━━━━━━━━━━\u001B[0m\u001B[37m\u001B[0m \u001B[1m0s\u001B[0m 7ms/step - accuracy: 0.8938 - loss: 0.2472 - val_accuracy: 0.7807 - val_loss: 0.6016\n",
      "Epoch 108/500\n",
      "\u001B[1m33/33\u001B[0m \u001B[32m━━━━━━━━━━━━━━━━━━━━\u001B[0m\u001B[37m\u001B[0m \u001B[1m0s\u001B[0m 6ms/step - accuracy: 0.8962 - loss: 0.2496 - val_accuracy: 0.7829 - val_loss: 0.6389\n",
      "Epoch 109/500\n",
      "\u001B[1m33/33\u001B[0m \u001B[32m━━━━━━━━━━━━━━━━━━━━\u001B[0m\u001B[37m\u001B[0m \u001B[1m0s\u001B[0m 7ms/step - accuracy: 0.8972 - loss: 0.2438 - val_accuracy: 0.7807 - val_loss: 0.6233\n",
      "Epoch 110/500\n",
      "\u001B[1m33/33\u001B[0m \u001B[32m━━━━━━━━━━━━━━━━━━━━\u001B[0m\u001B[37m\u001B[0m \u001B[1m0s\u001B[0m 7ms/step - accuracy: 0.9009 - loss: 0.2389 - val_accuracy: 0.7763 - val_loss: 0.6499\n",
      "Epoch 111/500\n",
      "\u001B[1m33/33\u001B[0m \u001B[32m━━━━━━━━━━━━━━━━━━━━\u001B[0m\u001B[37m\u001B[0m \u001B[1m0s\u001B[0m 6ms/step - accuracy: 0.8964 - loss: 0.2417 - val_accuracy: 0.7858 - val_loss: 0.6545\n",
      "Epoch 112/500\n",
      "\u001B[1m33/33\u001B[0m \u001B[32m━━━━━━━━━━━━━━━━━━━━\u001B[0m\u001B[37m\u001B[0m \u001B[1m0s\u001B[0m 7ms/step - accuracy: 0.8993 - loss: 0.2364 - val_accuracy: 0.7841 - val_loss: 0.6382\n",
      "Epoch 113/500\n",
      "\u001B[1m33/33\u001B[0m \u001B[32m━━━━━━━━━━━━━━━━━━━━\u001B[0m\u001B[37m\u001B[0m \u001B[1m0s\u001B[0m 7ms/step - accuracy: 0.8933 - loss: 0.2477 - val_accuracy: 0.7917 - val_loss: 0.6561\n",
      "Epoch 114/500\n",
      "\u001B[1m33/33\u001B[0m \u001B[32m━━━━━━━━━━━━━━━━━━━━\u001B[0m\u001B[37m\u001B[0m \u001B[1m0s\u001B[0m 7ms/step - accuracy: 0.8923 - loss: 0.2506 - val_accuracy: 0.7857 - val_loss: 0.6971\n",
      "Epoch 115/500\n",
      "\u001B[1m33/33\u001B[0m \u001B[32m━━━━━━━━━━━━━━━━━━━━\u001B[0m\u001B[37m\u001B[0m \u001B[1m0s\u001B[0m 7ms/step - accuracy: 0.9033 - loss: 0.2329 - val_accuracy: 0.7732 - val_loss: 0.6485\n",
      "Epoch 116/500\n",
      "\u001B[1m33/33\u001B[0m \u001B[32m━━━━━━━━━━━━━━━━━━━━\u001B[0m\u001B[37m\u001B[0m \u001B[1m0s\u001B[0m 7ms/step - accuracy: 0.8943 - loss: 0.2407 - val_accuracy: 0.7922 - val_loss: 0.6647\n",
      "Epoch 117/500\n",
      "\u001B[1m33/33\u001B[0m \u001B[32m━━━━━━━━━━━━━━━━━━━━\u001B[0m\u001B[37m\u001B[0m \u001B[1m0s\u001B[0m 7ms/step - accuracy: 0.9016 - loss: 0.2380 - val_accuracy: 0.7771 - val_loss: 0.6802\n",
      "Epoch 118/500\n",
      "\u001B[1m33/33\u001B[0m \u001B[32m━━━━━━━━━━━━━━━━━━━━\u001B[0m\u001B[37m\u001B[0m \u001B[1m0s\u001B[0m 7ms/step - accuracy: 0.9047 - loss: 0.2247 - val_accuracy: 0.7887 - val_loss: 0.7015\n",
      "Epoch 119/500\n",
      "\u001B[1m33/33\u001B[0m \u001B[32m━━━━━━━━━━━━━━━━━━━━\u001B[0m\u001B[37m\u001B[0m \u001B[1m0s\u001B[0m 8ms/step - accuracy: 0.9047 - loss: 0.2295 - val_accuracy: 0.7816 - val_loss: 0.6664\n",
      "Epoch 120/500\n",
      "\u001B[1m33/33\u001B[0m \u001B[32m━━━━━━━━━━━━━━━━━━━━\u001B[0m\u001B[37m\u001B[0m \u001B[1m0s\u001B[0m 8ms/step - accuracy: 0.9011 - loss: 0.2269 - val_accuracy: 0.7851 - val_loss: 0.6760\n",
      "Epoch 121/500\n",
      "\u001B[1m33/33\u001B[0m \u001B[32m━━━━━━━━━━━━━━━━━━━━\u001B[0m\u001B[37m\u001B[0m \u001B[1m0s\u001B[0m 7ms/step - accuracy: 0.9046 - loss: 0.2277 - val_accuracy: 0.7806 - val_loss: 0.6706\n",
      "Epoch 122/500\n",
      "\u001B[1m33/33\u001B[0m \u001B[32m━━━━━━━━━━━━━━━━━━━━\u001B[0m\u001B[37m\u001B[0m \u001B[1m0s\u001B[0m 8ms/step - accuracy: 0.9045 - loss: 0.2290 - val_accuracy: 0.7789 - val_loss: 0.7119\n",
      "Epoch 123/500\n",
      "\u001B[1m33/33\u001B[0m \u001B[32m━━━━━━━━━━━━━━━━━━━━\u001B[0m\u001B[37m\u001B[0m \u001B[1m0s\u001B[0m 7ms/step - accuracy: 0.9030 - loss: 0.2248 - val_accuracy: 0.7776 - val_loss: 0.7030\n",
      "Epoch 124/500\n",
      "\u001B[1m33/33\u001B[0m \u001B[32m━━━━━━━━━━━━━━━━━━━━\u001B[0m\u001B[37m\u001B[0m \u001B[1m0s\u001B[0m 7ms/step - accuracy: 0.9045 - loss: 0.2291 - val_accuracy: 0.7761 - val_loss: 0.6603\n",
      "Epoch 125/500\n",
      "\u001B[1m33/33\u001B[0m \u001B[32m━━━━━━━━━━━━━━━━━━━━\u001B[0m\u001B[37m\u001B[0m \u001B[1m0s\u001B[0m 8ms/step - accuracy: 0.9103 - loss: 0.2215 - val_accuracy: 0.7831 - val_loss: 0.6771\n",
      "Epoch 126/500\n",
      "\u001B[1m33/33\u001B[0m \u001B[32m━━━━━━━━━━━━━━━━━━━━\u001B[0m\u001B[37m\u001B[0m \u001B[1m0s\u001B[0m 8ms/step - accuracy: 0.9084 - loss: 0.2186 - val_accuracy: 0.7816 - val_loss: 0.7091\n",
      "Epoch 127/500\n",
      "\u001B[1m33/33\u001B[0m \u001B[32m━━━━━━━━━━━━━━━━━━━━\u001B[0m\u001B[37m\u001B[0m \u001B[1m0s\u001B[0m 7ms/step - accuracy: 0.9020 - loss: 0.2324 - val_accuracy: 0.7699 - val_loss: 0.6775\n",
      "Epoch 128/500\n",
      "\u001B[1m33/33\u001B[0m \u001B[32m━━━━━━━━━━━━━━━━━━━━\u001B[0m\u001B[37m\u001B[0m \u001B[1m0s\u001B[0m 7ms/step - accuracy: 0.9116 - loss: 0.2164 - val_accuracy: 0.7818 - val_loss: 0.6704\n",
      "Epoch 129/500\n",
      "\u001B[1m33/33\u001B[0m \u001B[32m━━━━━━━━━━━━━━━━━━━━\u001B[0m\u001B[37m\u001B[0m \u001B[1m0s\u001B[0m 8ms/step - accuracy: 0.9153 - loss: 0.2065 - val_accuracy: 0.7835 - val_loss: 0.6740\n",
      "Epoch 130/500\n",
      "\u001B[1m33/33\u001B[0m \u001B[32m━━━━━━━━━━━━━━━━━━━━\u001B[0m\u001B[37m\u001B[0m \u001B[1m0s\u001B[0m 8ms/step - accuracy: 0.9080 - loss: 0.2195 - val_accuracy: 0.7699 - val_loss: 0.7024\n",
      "Epoch 131/500\n",
      "\u001B[1m33/33\u001B[0m \u001B[32m━━━━━━━━━━━━━━━━━━━━\u001B[0m\u001B[37m\u001B[0m \u001B[1m0s\u001B[0m 8ms/step - accuracy: 0.9085 - loss: 0.2190 - val_accuracy: 0.7757 - val_loss: 0.7069\n",
      "Epoch 132/500\n",
      "\u001B[1m33/33\u001B[0m \u001B[32m━━━━━━━━━━━━━━━━━━━━\u001B[0m\u001B[37m\u001B[0m \u001B[1m0s\u001B[0m 7ms/step - accuracy: 0.9091 - loss: 0.2143 - val_accuracy: 0.7752 - val_loss: 0.6795\n",
      "Epoch 133/500\n",
      "\u001B[1m33/33\u001B[0m \u001B[32m━━━━━━━━━━━━━━━━━━━━\u001B[0m\u001B[37m\u001B[0m \u001B[1m0s\u001B[0m 7ms/step - accuracy: 0.9043 - loss: 0.2258 - val_accuracy: 0.7761 - val_loss: 0.6989\n",
      "Epoch 134/500\n",
      "\u001B[1m33/33\u001B[0m \u001B[32m━━━━━━━━━━━━━━━━━━━━\u001B[0m\u001B[37m\u001B[0m \u001B[1m0s\u001B[0m 6ms/step - accuracy: 0.9113 - loss: 0.2169 - val_accuracy: 0.7826 - val_loss: 0.6671\n",
      "Epoch 135/500\n",
      "\u001B[1m33/33\u001B[0m \u001B[32m━━━━━━━━━━━━━━━━━━━━\u001B[0m\u001B[37m\u001B[0m \u001B[1m0s\u001B[0m 7ms/step - accuracy: 0.9132 - loss: 0.2111 - val_accuracy: 0.7776 - val_loss: 0.7389\n",
      "Epoch 136/500\n",
      "\u001B[1m33/33\u001B[0m \u001B[32m━━━━━━━━━━━━━━━━━━━━\u001B[0m\u001B[37m\u001B[0m \u001B[1m0s\u001B[0m 7ms/step - accuracy: 0.9154 - loss: 0.2061 - val_accuracy: 0.7751 - val_loss: 0.7325\n",
      "Epoch 137/500\n",
      "\u001B[1m33/33\u001B[0m \u001B[32m━━━━━━━━━━━━━━━━━━━━\u001B[0m\u001B[37m\u001B[0m \u001B[1m0s\u001B[0m 6ms/step - accuracy: 0.9211 - loss: 0.1996 - val_accuracy: 0.7801 - val_loss: 0.7383\n",
      "Epoch 138/500\n",
      "\u001B[1m33/33\u001B[0m \u001B[32m━━━━━━━━━━━━━━━━━━━━\u001B[0m\u001B[37m\u001B[0m \u001B[1m0s\u001B[0m 7ms/step - accuracy: 0.9145 - loss: 0.2081 - val_accuracy: 0.7784 - val_loss: 0.6987\n",
      "Epoch 139/500\n",
      "\u001B[1m33/33\u001B[0m \u001B[32m━━━━━━━━━━━━━━━━━━━━\u001B[0m\u001B[37m\u001B[0m \u001B[1m0s\u001B[0m 8ms/step - accuracy: 0.9173 - loss: 0.2012 - val_accuracy: 0.7890 - val_loss: 0.7362\n",
      "Epoch 140/500\n",
      "\u001B[1m33/33\u001B[0m \u001B[32m━━━━━━━━━━━━━━━━━━━━\u001B[0m\u001B[37m\u001B[0m \u001B[1m0s\u001B[0m 8ms/step - accuracy: 0.9153 - loss: 0.1973 - val_accuracy: 0.7852 - val_loss: 0.7233\n",
      "Epoch 141/500\n",
      "\u001B[1m33/33\u001B[0m \u001B[32m━━━━━━━━━━━━━━━━━━━━\u001B[0m\u001B[37m\u001B[0m \u001B[1m0s\u001B[0m 8ms/step - accuracy: 0.9174 - loss: 0.2020 - val_accuracy: 0.7849 - val_loss: 0.7763\n",
      "Epoch 142/500\n",
      "\u001B[1m33/33\u001B[0m \u001B[32m━━━━━━━━━━━━━━━━━━━━\u001B[0m\u001B[37m\u001B[0m \u001B[1m0s\u001B[0m 7ms/step - accuracy: 0.9139 - loss: 0.2092 - val_accuracy: 0.7809 - val_loss: 0.7656\n",
      "Epoch 143/500\n",
      "\u001B[1m33/33\u001B[0m \u001B[32m━━━━━━━━━━━━━━━━━━━━\u001B[0m\u001B[37m\u001B[0m \u001B[1m0s\u001B[0m 7ms/step - accuracy: 0.9132 - loss: 0.2079 - val_accuracy: 0.7801 - val_loss: 0.7168\n",
      "Epoch 144/500\n",
      "\u001B[1m33/33\u001B[0m \u001B[32m━━━━━━━━━━━━━━━━━━━━\u001B[0m\u001B[37m\u001B[0m \u001B[1m0s\u001B[0m 8ms/step - accuracy: 0.9209 - loss: 0.1965 - val_accuracy: 0.7712 - val_loss: 0.7627\n",
      "Epoch 145/500\n",
      "\u001B[1m33/33\u001B[0m \u001B[32m━━━━━━━━━━━━━━━━━━━━\u001B[0m\u001B[37m\u001B[0m \u001B[1m0s\u001B[0m 8ms/step - accuracy: 0.9200 - loss: 0.1984 - val_accuracy: 0.7768 - val_loss: 0.7450\n",
      "Epoch 146/500\n",
      "\u001B[1m33/33\u001B[0m \u001B[32m━━━━━━━━━━━━━━━━━━━━\u001B[0m\u001B[37m\u001B[0m \u001B[1m0s\u001B[0m 8ms/step - accuracy: 0.9149 - loss: 0.2058 - val_accuracy: 0.7792 - val_loss: 0.7219\n",
      "Epoch 147/500\n",
      "\u001B[1m33/33\u001B[0m \u001B[32m━━━━━━━━━━━━━━━━━━━━\u001B[0m\u001B[37m\u001B[0m \u001B[1m0s\u001B[0m 7ms/step - accuracy: 0.9167 - loss: 0.2039 - val_accuracy: 0.7756 - val_loss: 0.7973\n",
      "Epoch 148/500\n",
      "\u001B[1m33/33\u001B[0m \u001B[32m━━━━━━━━━━━━━━━━━━━━\u001B[0m\u001B[37m\u001B[0m \u001B[1m0s\u001B[0m 7ms/step - accuracy: 0.9169 - loss: 0.1998 - val_accuracy: 0.7737 - val_loss: 0.7771\n",
      "Epoch 149/500\n",
      "\u001B[1m33/33\u001B[0m \u001B[32m━━━━━━━━━━━━━━━━━━━━\u001B[0m\u001B[37m\u001B[0m \u001B[1m0s\u001B[0m 7ms/step - accuracy: 0.9165 - loss: 0.1990 - val_accuracy: 0.7744 - val_loss: 0.7288\n",
      "Epoch 150/500\n",
      "\u001B[1m33/33\u001B[0m \u001B[32m━━━━━━━━━━━━━━━━━━━━\u001B[0m\u001B[37m\u001B[0m \u001B[1m0s\u001B[0m 7ms/step - accuracy: 0.9147 - loss: 0.2004 - val_accuracy: 0.7786 - val_loss: 0.7147\n",
      "Epoch 151/500\n",
      "\u001B[1m33/33\u001B[0m \u001B[32m━━━━━━━━━━━━━━━━━━━━\u001B[0m\u001B[37m\u001B[0m \u001B[1m0s\u001B[0m 7ms/step - accuracy: 0.9155 - loss: 0.1970 - val_accuracy: 0.7813 - val_loss: 0.7287\n",
      "Epoch 152/500\n",
      "\u001B[1m33/33\u001B[0m \u001B[32m━━━━━━━━━━━━━━━━━━━━\u001B[0m\u001B[37m\u001B[0m \u001B[1m0s\u001B[0m 7ms/step - accuracy: 0.9232 - loss: 0.1894 - val_accuracy: 0.7759 - val_loss: 0.8131\n",
      "Epoch 153/500\n",
      "\u001B[1m33/33\u001B[0m \u001B[32m━━━━━━━━━━━━━━━━━━━━\u001B[0m\u001B[37m\u001B[0m \u001B[1m0s\u001B[0m 7ms/step - accuracy: 0.9203 - loss: 0.1901 - val_accuracy: 0.7821 - val_loss: 0.7867\n",
      "Epoch 154/500\n",
      "\u001B[1m33/33\u001B[0m \u001B[32m━━━━━━━━━━━━━━━━━━━━\u001B[0m\u001B[37m\u001B[0m \u001B[1m0s\u001B[0m 7ms/step - accuracy: 0.9164 - loss: 0.2046 - val_accuracy: 0.7834 - val_loss: 0.7221\n",
      "Epoch 155/500\n",
      "\u001B[1m33/33\u001B[0m \u001B[32m━━━━━━━━━━━━━━━━━━━━\u001B[0m\u001B[37m\u001B[0m \u001B[1m0s\u001B[0m 7ms/step - accuracy: 0.9218 - loss: 0.1945 - val_accuracy: 0.7787 - val_loss: 0.7568\n",
      "Epoch 156/500\n",
      "\u001B[1m33/33\u001B[0m \u001B[32m━━━━━━━━━━━━━━━━━━━━\u001B[0m\u001B[37m\u001B[0m \u001B[1m0s\u001B[0m 7ms/step - accuracy: 0.9232 - loss: 0.1883 - val_accuracy: 0.7701 - val_loss: 0.7833\n",
      "Epoch 157/500\n",
      "\u001B[1m33/33\u001B[0m \u001B[32m━━━━━━━━━━━━━━━━━━━━\u001B[0m\u001B[37m\u001B[0m \u001B[1m2s\u001B[0m 37ms/step - accuracy: 0.9168 - loss: 0.2027 - val_accuracy: 0.7756 - val_loss: 0.7635\n",
      "Epoch 158/500\n",
      "\u001B[1m33/33\u001B[0m \u001B[32m━━━━━━━━━━━━━━━━━━━━\u001B[0m\u001B[37m\u001B[0m \u001B[1m1s\u001B[0m 23ms/step - accuracy: 0.9153 - loss: 0.2000 - val_accuracy: 0.7765 - val_loss: 0.7861\n",
      "Epoch 159/500\n",
      "\u001B[1m33/33\u001B[0m \u001B[32m━━━━━━━━━━━━━━━━━━━━\u001B[0m\u001B[37m\u001B[0m \u001B[1m1s\u001B[0m 30ms/step - accuracy: 0.9247 - loss: 0.1852 - val_accuracy: 0.7747 - val_loss: 0.7507\n",
      "Epoch 160/500\n",
      "\u001B[1m33/33\u001B[0m \u001B[32m━━━━━━━━━━━━━━━━━━━━\u001B[0m\u001B[37m\u001B[0m \u001B[1m1s\u001B[0m 27ms/step - accuracy: 0.9199 - loss: 0.1903 - val_accuracy: 0.7711 - val_loss: 0.7714\n",
      "Epoch 161/500\n",
      "\u001B[1m33/33\u001B[0m \u001B[32m━━━━━━━━━━━━━━━━━━━━\u001B[0m\u001B[37m\u001B[0m \u001B[1m2s\u001B[0m 34ms/step - accuracy: 0.9220 - loss: 0.1884 - val_accuracy: 0.7771 - val_loss: 0.7651\n",
      "Epoch 162/500\n",
      "\u001B[1m33/33\u001B[0m \u001B[32m━━━━━━━━━━━━━━━━━━━━\u001B[0m\u001B[37m\u001B[0m \u001B[1m1s\u001B[0m 29ms/step - accuracy: 0.9218 - loss: 0.1882 - val_accuracy: 0.7741 - val_loss: 0.7731\n"
     ]
    },
    {
     "data": {
      "text/plain": "<keras_core.src.callbacks.history.History at 0x7f5680246470>"
     },
     "execution_count": 24,
     "metadata": {},
     "output_type": "execute_result"
    }
   ],
   "source": [
    "model.fit(X_train,\n",
    "          y_train,\n",
    "          epochs=500,\n",
    "          batch_size=params_grid['batch_size'],\n",
    "          callbacks=callback,\n",
    "          validation_data=(X_test, y_test)\n",
    "          )"
   ],
   "metadata": {
    "collapsed": false,
    "ExecuteTime": {
     "end_time": "2024-07-02T12:05:39.346961Z",
     "start_time": "2024-07-02T12:04:34.819076Z"
    }
   },
   "id": "ba1d6a42d0826b57",
   "execution_count": 24
  },
  {
   "cell_type": "markdown",
   "id": "e01ea87c7efc4af6",
   "metadata": {
    "collapsed": false
   },
   "source": [
    "# save model"
   ]
  },
  {
   "cell_type": "code",
   "execution_count": 12,
   "id": "e0b9fbafea831f00",
   "metadata": {
    "collapsed": false,
    "ExecuteTime": {
     "end_time": "2024-07-02T12:02:45.625983Z",
     "start_time": "2024-07-02T12:02:45.585656Z"
    }
   },
   "outputs": [],
   "source": [
    "model.save(model_weight_dst)"
   ]
  },
  {
   "cell_type": "markdown",
   "id": "858f1dcf54daf1ee",
   "metadata": {
    "collapsed": false
   },
   "source": [
    "### testing with custom sentence"
   ]
  },
  {
   "cell_type": "code",
   "execution_count": 17,
   "id": "9082729f7fb73c8",
   "metadata": {
    "ExecuteTime": {
     "end_time": "2024-07-02T08:24:51.592703Z",
     "start_time": "2024-07-02T08:24:51.519853Z"
    },
    "collapsed": false
   },
   "outputs": [],
   "source": [
    "#model_weight_dst = f'../../model_weights/fasttext_nlp_20240613-131608-model.keras'\n",
    "new_model = load_model(model_weight_dst)"
   ]
  },
  {
   "cell_type": "code",
   "execution_count": 18,
   "id": "be31f886c1e61d2",
   "metadata": {
    "ExecuteTime": {
     "end_time": "2024-07-02T08:25:18.496412Z",
     "start_time": "2024-07-02T08:24:53.682460Z"
    },
    "collapsed": false
   },
   "outputs": [
    {
     "name": "stdout",
     "output_type": "stream",
     "text": [
      "nice output\n",
      "la bonjour je suis un type sympas : [[False]]\n",
      "[[0.00716593]]\n",
      "bonjour ça va les gens : [[False]]\n",
      "[[0.00271189]]\n",
      "j'aime pas trop ce mec : [[False]]\n",
      "[[1.9822155e-05]]\n",
      "cette meuf est cool : [[False]]\n",
      "[[7.958688e-08]]\n",
      "les meuf sont trop cool : [[False]]\n",
      "[[3.9379524e-11]]\n",
      "les mecs sont des gens stylé : [[False]]\n",
      "[[1.0103315e-05]]\n",
      "le mec est stylé : [[False]]\n",
      "[[3.5561166e-06]]\n",
      "nan mais mon manager exagère quand il dit que je suis pas assez productif et que je travail pas assez, franchement il abuse : [[False]]\n",
      "[[0.01031799]]\n",
      "les hommes cis sont toxiques pour la société car ils imposent leur vision paternaliste : [[ True]]\n",
      "[[0.9999633]]\n",
      "Les hommes sont moins matures que les femmes quand il s'agit de prendre des décisions : [[ True]]\n",
      "[[0.99984384]]\n",
      "\n",
      "\n",
      "not nice output\n",
      "regarde moi cette connasse : [[False]]\n",
      "[[0.02953639]]\n",
      "les femme leur place c'est à la cuisine : [[False]]\n",
      "[[0.01907552]]\n",
      "femme au volant, accident : [[False]]\n",
      "[[0.00229132]]\n",
      "les femmes on peux pas leur faire confiance : [[False]]\n",
      "[[0.01183499]]\n",
      "Pour une transphobe son passing est pas ouf : [[False]]\n",
      "[[0.0003371]]\n",
      "Elle l’ouvre quand même beaucoup celle là pour quelqu’un qu’est pas capable d’éduquer ses enfants : [[False]]\n",
      "[[0.4884769]]\n",
      "Dis donc, c’est pas parce que t’es mal baisée que tu peux tout te permettre ???? : [[ True]]\n",
      "[[0.67932177]]\n",
      "Moi ce que j’aime bien chez les filles comme toi c’est que t’es pas du genre prise de tête : [[False]]\n",
      "[[0.06251422]]\n",
      "les femmes c'est comme le fromage, quand elles puent c'est qu'elles sont bonnes : [[ True]]\n",
      "[[0.97776926]]\n",
      "Oh les grosses tepus : [[False]]\n",
      "[[1.4216399e-10]]\n",
      "Faut pas t'étonner si tu te fais violer vu comment t'es habillée : [[False]]\n",
      "[[0.01328207]]\n",
      "Tu deverais avoir des enfants maintenant avant que ce soit trop tard : [[False]]\n",
      "[[0.08296497]]\n",
      "Vous seriez une collaboratrice idéal pour notre entreprise, malheureusement nous cherchons quelqu’un disponible sur le long terme, et nous craignons qu’à votre âge des changements familiaux ne vous permettent plus de vous investir autant que besoins : [[False]]\n",
      "[[0.17670663]]\n"
     ]
    }
   ],
   "source": [
    "ft = fasttext.load_model('ml/ml_core/data/embedding_data/cc.fr.300.bin')\n",
    "\n",
    "\n",
    "#from ml.ml_core.src.embedding.embedding_utils import text_to_vector\n",
    "\n",
    "text_nice = [\n",
    "    \"la bonjour je suis un type sympas\",\n",
    "    \"bonjour ça va les gens\",\n",
    "    \"j'aime pas trop ce mec\",\n",
    "    \"cette meuf est cool\",\n",
    "    \"les meuf sont trop cool\",\n",
    "    \"les mecs sont des gens stylé\",\n",
    "    \"le mec est stylé\",\n",
    "    \"nan mais mon manager exagère quand il dit que je suis pas assez productif et que je travail pas assez, franchement il abuse\",\n",
    "    \"les hommes cis sont toxiques pour la société car ils imposent leur vision paternaliste\",\n",
    "    \"Les hommes sont moins matures que les femmes quand il s'agit de prendre des décisions\"\n",
    "\n",
    "]\n",
    "\n",
    "text_no_nice = [\n",
    "    \"regarde moi cette connasse\",\n",
    "    \"les femme leur place c'est à la cuisine\",\n",
    "    \"femme au volant, accident\",\n",
    "    \"les femmes on peux pas leur faire confiance\",\n",
    "    \"Pour une transphobe son passing est pas ouf\",\n",
    "    \"Elle l’ouvre quand même beaucoup celle là pour quelqu’un qu’est pas capable d’éduquer ses enfants\",\n",
    "    \"Dis donc, c’est pas parce que t’es mal baisée que tu peux tout te permettre ????\",\n",
    "    \"Moi ce que j’aime bien chez les filles comme toi c’est que t’es pas du genre prise de tête\",\n",
    "    \"les femmes c'est comme le fromage, quand elles puent c'est qu'elles sont bonnes\",\n",
    "    \"Oh les grosses tepus\",\n",
    "    \"Faut pas t'étonner si tu te fais violer vu comment t'es habillée\",\n",
    "    \"Tu deverais avoir des enfants maintenant avant que ce soit trop tard\",\n",
    "    \"Vous seriez une collaboratrice idéal pour notre entreprise, malheureusement nous cherchons quelqu’un disponible sur le long terme, et nous craignons qu’à votre âge des changements familiaux ne vous permettent plus de vous investir autant que besoins\"\n",
    "]\n",
    "wordsvec_nice = [np.expand_dims(text_to_vector(text, ft), axis=0) for text in text_nice]\n",
    "wordsvec_no_nice = [np.expand_dims(text_to_vector(text, ft), axis=0) for text in text_no_nice]\n",
    "\n",
    "print(\"nice output\")\n",
    "for i in range(0, len(wordsvec_nice)):\n",
    "    prediction = new_model.predict(wordsvec_nice[i], verbose=False)\n",
    "    print(f\"{text_nice[i]} : {prediction > 0.5}\")\n",
    "    print(f\"{prediction}\")\n",
    "\n",
    "print(\"\\n\\nnot nice output\")\n",
    "for i in range(0, len(wordsvec_no_nice)):\n",
    "    prediction = new_model.predict(wordsvec_no_nice[i], verbose=False)\n",
    "    print(f\"{text_no_nice[i]} : {prediction > 0.5}\")\n",
    "    print(f\"{prediction}\")"
   ]
  },
  {
   "cell_type": "code",
   "execution_count": 15,
   "id": "eee4f2d23f45322e",
   "metadata": {
    "ExecuteTime": {
     "end_time": "2024-07-02T08:24:47.579294Z",
     "start_time": "2024-07-02T08:24:47.576806Z"
    },
    "collapsed": false
   },
   "outputs": [],
   "source": []
  },
  {
   "cell_type": "code",
   "execution_count": 15,
   "id": "8c753464d73b3dba",
   "metadata": {
    "ExecuteTime": {
     "end_time": "2024-07-02T08:24:47.583103Z",
     "start_time": "2024-07-02T08:24:47.580900Z"
    },
    "collapsed": false
   },
   "outputs": [],
   "source": []
  }
 ],
 "metadata": {
  "kernelspec": {
   "display_name": "Python 3 (ipykernel)",
   "language": "python",
   "name": "python3"
  },
  "language_info": {
   "codemirror_mode": {
    "name": "ipython",
    "version": 3
   },
   "file_extension": ".py",
   "mimetype": "text/x-python",
   "name": "python",
   "nbconvert_exporter": "python",
   "pygments_lexer": "ipython3",
   "version": "3.10.13"
  }
 },
 "nbformat": 4,
 "nbformat_minor": 5
}
