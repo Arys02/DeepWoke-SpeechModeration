{
 "cells": [
  {
   "cell_type": "code",
   "execution_count": 34,
   "id": "initial_id",
   "metadata": {
    "collapsed": false,
    "ExecuteTime": {
     "end_time": "2024-07-07T17:47:07.275833Z",
     "start_time": "2024-07-07T17:47:07.271495Z"
    }
   },
   "outputs": [],
   "source": [
    "import datetime\n",
    "\n",
    "import os\n",
    "\n",
    "os.getcwd()\n",
    "if '.git' not in os.listdir():\n",
    "    os.chdir('./../../../../')\n",
    "os.listdir()\n",
    "\n",
    "from ml.ml_core.src.core.model_factory import model_factory\n",
    "\n",
    "import keras_core as keras\n",
    "import numpy as np\n",
    "import tensorflow as tf\n",
    "from sklearn.model_selection import train_test_split\n",
    "from tensorboard.plugins.hparams import api as hp\n"
   ]
  },
  {
   "cell_type": "markdown",
   "id": "18856c657e08494f",
   "metadata": {
    "collapsed": false
   },
   "source": [
    "## Configurations"
   ]
  },
  {
   "cell_type": "code",
   "execution_count": 35,
   "id": "9574abd306005981",
   "metadata": {
    "collapsed": false,
    "ExecuteTime": {
     "end_time": "2024-07-07T17:47:07.321050Z",
     "start_time": "2024-07-07T17:47:07.317788Z"
    }
   },
   "outputs": [],
   "source": [
    "params_grid = {\n",
    "    \"model\": \"bidirectionnal_lstm\",\n",
    "    \"embedder\": \"camembert\",\n",
    "    \"embedding_data\": \"almanach-camembert-base\",\n",
    "    \"dataset\": \"fr_hf.csv\",\n",
    "    \"batch_size\": 800\n",
    "}"
   ]
  },
  {
   "cell_type": "code",
   "execution_count": 36,
   "id": "d220a1d10493404e",
   "metadata": {
    "collapsed": false,
    "ExecuteTime": {
     "end_time": "2024-07-07T17:47:07.358398Z",
     "start_time": "2024-07-07T17:47:07.354736Z"
    }
   },
   "outputs": [],
   "source": [
    "data_folder_src = 'ml/ml_core/data/processed/'\n",
    "ml_core_folder_path = 'ml/ml_core/'\n",
    "data_path_src = f'{data_folder_src}{params_grid[\"dataset\"]}'\n",
    "date_str = datetime.datetime.now().strftime(\"%Y%m%d-%H%M%S\")\n",
    "experiment_name = f'deepwoke_{params_grid[\"embedder\"]}_{params_grid[\"model\"]}_{params_grid[\"dataset\"]}_{date_str}'\n",
    "\n",
    "log_dir = f\"{ml_core_folder_path}log/fit/{experiment_name}\"\n",
    "model_weight_dst = f'{ml_core_folder_path}model_weights/{experiment_name}-model.keras'"
   ]
  },
  {
   "cell_type": "code",
   "execution_count": 37,
   "id": "63bc5b9857e00e2f",
   "metadata": {
    "collapsed": false,
    "ExecuteTime": {
     "end_time": "2024-07-07T17:47:07.373881Z",
     "start_time": "2024-07-07T17:47:07.361775Z"
    }
   },
   "outputs": [],
   "source": [
    "\n",
    "vector_path = f'{ml_core_folder_path}embedded_vector/{params_grid[\"embedding_data\"]}_{params_grid[\"dataset\"]}'\n",
    "vector_x_dst = f'{vector_path}.x.npy'\n",
    "vector_y_dst = f'{vector_path}.y.npy'"
   ]
  },
  {
   "cell_type": "markdown",
   "id": "5d4209390b020a7",
   "metadata": {
    "collapsed": false
   },
   "source": [
    "# loading dataset"
   ]
  },
  {
   "cell_type": "code",
   "execution_count": 38,
   "id": "cda597a675bb1ba2",
   "metadata": {
    "collapsed": false,
    "ExecuteTime": {
     "end_time": "2024-07-07T17:47:07.403065Z",
     "start_time": "2024-07-07T17:47:07.375997Z"
    }
   },
   "outputs": [],
   "source": [
    "X = np.load(vector_x_dst)\n",
    "y = np.load(vector_y_dst)\n",
    "X = np.expand_dims(X, axis=1)"
   ]
  },
  {
   "cell_type": "markdown",
   "source": [
    "# Model"
   ],
   "metadata": {
    "collapsed": false
   },
   "id": "a2adf4c59ca51d9c"
  },
  {
   "cell_type": "markdown",
   "id": "5c8ac62597164bde",
   "metadata": {
    "collapsed": false
   },
   "source": [
    "## callbacks"
   ]
  },
  {
   "cell_type": "code",
   "execution_count": 39,
   "id": "336209aae383296f",
   "metadata": {
    "collapsed": false,
    "ExecuteTime": {
     "end_time": "2024-07-07T17:47:07.409261Z",
     "start_time": "2024-07-07T17:47:07.404587Z"
    }
   },
   "outputs": [],
   "source": [
    "early_stopping = keras.callbacks.EarlyStopping(\n",
    "    patience=10,\n",
    "    min_delta=0.001,\n",
    "    restore_best_weights=True,\n",
    "    monitor='loss'\n",
    ")\n"
   ]
  },
  {
   "cell_type": "code",
   "execution_count": 40,
   "id": "9f93ecb4efe31443",
   "metadata": {
    "collapsed": false,
    "ExecuteTime": {
     "end_time": "2024-07-07T17:47:07.424660Z",
     "start_time": "2024-07-07T17:47:07.411797Z"
    }
   },
   "outputs": [],
   "source": [
    "\n",
    "class EarlyStoppingLogging(keras.callbacks.Callback):\n",
    "    def __init__(self, early_stopping_callback, log_dir):\n",
    "        super().__init__()\n",
    "        self.early_stopping = early_stopping_callback\n",
    "        self.stopped_epoch = 0\n",
    "        self.writer = tf.summary.create_file_writer(log_dir)\n",
    "\n",
    "    def on_epoch_end(self, epoch, logs=None):\n",
    "        if self.early_stopping.stopped_epoch > 0:\n",
    "            self.stopped_epoch = self.early_stopping.stopped_epoch\n",
    "            with self.writer.as_default():\n",
    "                tf.summary.scalar('early_stopping_epoch', self.stopped_epoch, step=epoch)\n",
    "                self.writer.flush()\n"
   ]
  },
  {
   "cell_type": "code",
   "execution_count": 41,
   "id": "7ec43b4117399510",
   "metadata": {
    "collapsed": false,
    "ExecuteTime": {
     "end_time": "2024-07-07T17:47:07.440694Z",
     "start_time": "2024-07-07T17:47:07.426184Z"
    }
   },
   "outputs": [],
   "source": [
    "tensorboard_callback = keras.callbacks.TensorBoard(log_dir=log_dir, histogram_freq=1)\n",
    "early_stopping_logging_callback = EarlyStoppingLogging(early_stopping, log_dir)"
   ]
  },
  {
   "cell_type": "code",
   "execution_count": 42,
   "id": "3f3d46724d8e5aa1",
   "metadata": {
    "collapsed": false,
    "ExecuteTime": {
     "end_time": "2024-07-07T17:47:07.461321Z",
     "start_time": "2024-07-07T17:47:07.442120Z"
    }
   },
   "outputs": [],
   "source": [
    "callback = [\n",
    "    early_stopping,\n",
    "    tensorboard_callback,\n",
    "    hp.KerasCallback(log_dir, params_grid),\n",
    "    early_stopping_logging_callback,\n",
    "]"
   ]
  },
  {
   "cell_type": "markdown",
   "source": [
    "# Model building"
   ],
   "metadata": {
    "collapsed": false
   },
   "id": "cfba23972d3586ee"
  },
  {
   "cell_type": "code",
   "outputs": [],
   "source": [
    "def model_builder(input_dim, output_dim):\n",
    "    activation_function = 'softmax'\n",
    "    loss = 'categorical_crossentropy'\n",
    "    if output_dim == 1:\n",
    "        activation_function = 'sigmoid'\n",
    "        loss = 'binary_crossentropy'\n",
    "    print(input_dim, output_dim)\n",
    "\n",
    "\n",
    "    input_tensor = keras.layers.Input(shape=input_dim)\n",
    "\n",
    "    hl = keras.layers.Bidirectional(keras.layers.LSTM(1024, return_sequences=True, activation='relu'))(input_tensor)\n",
    "    hl = keras.layers.Dropout(0.2)(hl)\n",
    "\n",
    "    hl = keras.layers.Bidirectional(keras.layers.LSTM(1024, return_sequences=True, activation='relu'))(hl)\n",
    "    hl = keras.layers.Dropout(0.2)(hl)\n",
    "\n",
    "    hl = keras.layers.Bidirectional(keras.layers.LSTM(1025, return_sequences=True, activation='relu'))(hl)\n",
    "    hl = keras.layers.Dropout(0.2)(hl)\n",
    "\n",
    "    hl = keras.layers.Bidirectional(keras.layers.LSTM(512, return_sequences=True, activation='relu'))(hl)\n",
    "    hl = keras.layers.Dropout(0.2)(hl)\n",
    "\n",
    "    hl = keras.layers.Bidirectional(keras.layers.LSTM(512, return_sequences=True, activation='relu'))(hl)\n",
    "    hl = keras.layers.Dropout(0.2)(hl)\n",
    "\n",
    "    hl = keras.layers.Bidirectional(keras.layers.LSTM(512, activation='relu'))(hl)\n",
    "    hl = keras.layers.Dropout(0.2)(hl)\n",
    "    \n",
    "    \n",
    "    hl = keras.layers.Dense(512, activation='relu')(hl)\n",
    "    hl = keras.layers.Dense(256, activation='relu')(hl)\n",
    "    output_tensor = keras.layers.Dense(output_dim, activation=activation_function)(hl)\n",
    "\n",
    "    model_ = keras.models.Model(inputs=[input_tensor], outputs=[output_tensor])\n",
    "    model_.compile(optimizer='adam', loss=loss, metrics=['accuracy'])\n",
    "\n",
    "    return model_"
   ],
   "metadata": {
    "collapsed": false,
    "ExecuteTime": {
     "end_time": "2024-07-07T17:47:07.476132Z",
     "start_time": "2024-07-07T17:47:07.462778Z"
    }
   },
   "id": "198085420757f4f1",
   "execution_count": 43
  },
  {
   "cell_type": "markdown",
   "id": "9dec354f696f24a9",
   "metadata": {
    "collapsed": false
   },
   "source": [
    "### training the model"
   ]
  },
  {
   "cell_type": "code",
   "outputs": [],
   "source": [],
   "metadata": {
    "collapsed": false,
    "ExecuteTime": {
     "end_time": "2024-07-07T17:47:07.479924Z",
     "start_time": "2024-07-07T17:47:07.477620Z"
    }
   },
   "id": "11d6ec87445bb42",
   "execution_count": 43
  },
  {
   "cell_type": "code",
   "execution_count": 44,
   "id": "c4cf876c5cbae2f2",
   "metadata": {
    "collapsed": false,
    "ExecuteTime": {
     "end_time": "2024-07-07T17:47:12.792829Z",
     "start_time": "2024-07-07T17:47:07.481327Z"
    }
   },
   "outputs": [
    {
     "name": "stdout",
     "output_type": "stream",
     "text": [
      "(1, 768) 1\n",
      "<bound method Model.summary of <Functional name=functional_9, built=True>>\n"
     ]
    }
   ],
   "source": [
    "\n",
    "X_train, X_test, y_train, y_test = train_test_split(X, y, test_size=0.1, random_state=42)\n",
    "input_dim = X_train.shape[1:]\n",
    "model = model_builder(input_dim, 1)\n",
    "print(model.summary)\n",
    "\n",
    "tf.compat.v1.global_variables_initializer()"
   ]
  },
  {
   "cell_type": "code",
   "outputs": [
    {
     "name": "stdout",
     "output_type": "stream",
     "text": [
      "Epoch 1/500\n",
      "\u001B[1m19/21\u001B[0m \u001B[32m━━━━━━━━━━━━━━━━━━\u001B[0m\u001B[37m━━\u001B[0m \u001B[1m0s\u001B[0m 32ms/step - accuracy: 0.6686 - loss: 0.6560"
     ]
    },
    {
     "name": "stderr",
     "output_type": "stream",
     "text": [
      "2024-07-07 19:47:44.344906: I tensorflow/compiler/xla/stream_executor/gpu/asm_compiler.cc:328] ptxas warning : Registers are spilled to local memory in function 'fusion_432', 16 bytes spill stores, 16 bytes spill loads\n",
      "\n"
     ]
    },
    {
     "name": "stdout",
     "output_type": "stream",
     "text": [
      "\u001B[1m21/21\u001B[0m \u001B[32m━━━━━━━━━━━━━━━━━━━━\u001B[0m\u001B[37m\u001B[0m \u001B[1m0s\u001B[0m 589ms/step - accuracy: 0.6750 - loss: 0.6516"
     ]
    },
    {
     "name": "stderr",
     "output_type": "stream",
     "text": [
      "2024-07-07 19:47:49.322922: W tensorflow/tsl/framework/cpu_allocator_impl.cc:83] Allocation of 754974720 exceeds 10% of free system memory.\n",
      "2024-07-07 19:47:49.924530: W tensorflow/tsl/framework/cpu_allocator_impl.cc:83] Allocation of 1006632960 exceeds 10% of free system memory.\n",
      "2024-07-07 19:47:50.369630: W tensorflow/tsl/framework/cpu_allocator_impl.cc:83] Allocation of 754974720 exceeds 10% of free system memory.\n",
      "2024-07-07 19:47:50.599324: W tensorflow/tsl/framework/cpu_allocator_impl.cc:83] Allocation of 1006632960 exceeds 10% of free system memory.\n",
      "2024-07-07 19:47:51.062650: W tensorflow/tsl/framework/cpu_allocator_impl.cc:83] Allocation of 2013265920 exceeds 10% of free system memory.\n"
     ]
    },
    {
     "name": "stdout",
     "output_type": "stream",
     "text": [
      "\u001B[1m21/21\u001B[0m \u001B[32m━━━━━━━━━━━━━━━━━━━━\u001B[0m\u001B[37m\u001B[0m \u001B[1m45s\u001B[0m 1s/step - accuracy: 0.6778 - loss: 0.6496 - val_accuracy: 0.7622 - val_loss: 0.5486\n",
      "Epoch 2/500\n",
      "\u001B[1m21/21\u001B[0m \u001B[32m━━━━━━━━━━━━━━━━━━━━\u001B[0m\u001B[37m\u001B[0m \u001B[1m8s\u001B[0m 383ms/step - accuracy: 0.7588 - loss: 0.5548 - val_accuracy: 0.7622 - val_loss: 0.5488\n",
      "Epoch 3/500\n",
      "\u001B[1m21/21\u001B[0m \u001B[32m━━━━━━━━━━━━━━━━━━━━\u001B[0m\u001B[37m\u001B[0m \u001B[1m7s\u001B[0m 352ms/step - accuracy: 0.7666 - loss: 0.5432 - val_accuracy: 0.7622 - val_loss: 0.5487\n",
      "Epoch 4/500\n",
      "\u001B[1m21/21\u001B[0m \u001B[32m━━━━━━━━━━━━━━━━━━━━\u001B[0m\u001B[37m\u001B[0m \u001B[1m7s\u001B[0m 348ms/step - accuracy: 0.7575 - loss: 0.5541 - val_accuracy: 0.7622 - val_loss: 0.5487\n",
      "Epoch 5/500\n",
      "\u001B[1m21/21\u001B[0m \u001B[32m━━━━━━━━━━━━━━━━━━━━\u001B[0m\u001B[37m\u001B[0m \u001B[1m8s\u001B[0m 381ms/step - accuracy: 0.7589 - loss: 0.5520 - val_accuracy: 0.7622 - val_loss: 0.5264\n",
      "Epoch 6/500\n",
      "\u001B[1m21/21\u001B[0m \u001B[32m━━━━━━━━━━━━━━━━━━━━\u001B[0m\u001B[37m\u001B[0m \u001B[1m7s\u001B[0m 350ms/step - accuracy: 0.7656 - loss: 0.5100 - val_accuracy: 0.7939 - val_loss: 0.4585\n",
      "Epoch 7/500\n",
      "\u001B[1m21/21\u001B[0m \u001B[32m━━━━━━━━━━━━━━━━━━━━\u001B[0m\u001B[37m\u001B[0m \u001B[1m8s\u001B[0m 363ms/step - accuracy: 0.7871 - loss: 0.4596 - val_accuracy: 0.8054 - val_loss: 0.4306\n",
      "Epoch 8/500\n",
      "\u001B[1m21/21\u001B[0m \u001B[32m━━━━━━━━━━━━━━━━━━━━\u001B[0m\u001B[37m\u001B[0m \u001B[1m7s\u001B[0m 341ms/step - accuracy: 0.8001 - loss: 0.4385 - val_accuracy: 0.8076 - val_loss: 0.4175\n",
      "Epoch 9/500\n",
      "\u001B[1m21/21\u001B[0m \u001B[32m━━━━━━━━━━━━━━━━━━━━\u001B[0m\u001B[37m\u001B[0m \u001B[1m7s\u001B[0m 330ms/step - accuracy: 0.8057 - loss: 0.4232 - val_accuracy: 0.8247 - val_loss: 0.4088\n",
      "Epoch 10/500\n",
      "\u001B[1m21/21\u001B[0m \u001B[32m━━━━━━━━━━━━━━━━━━━━\u001B[0m\u001B[37m\u001B[0m \u001B[1m7s\u001B[0m 352ms/step - accuracy: 0.8142 - loss: 0.4085 - val_accuracy: 0.8188 - val_loss: 0.4005\n",
      "Epoch 11/500\n",
      "\u001B[1m21/21\u001B[0m \u001B[32m━━━━━━━━━━━━━━━━━━━━\u001B[0m\u001B[37m\u001B[0m \u001B[1m7s\u001B[0m 335ms/step - accuracy: 0.8159 - loss: 0.4011 - val_accuracy: 0.8338 - val_loss: 0.3905\n",
      "Epoch 12/500\n",
      "\u001B[1m21/21\u001B[0m \u001B[32m━━━━━━━━━━━━━━━━━━━━\u001B[0m\u001B[37m\u001B[0m \u001B[1m7s\u001B[0m 333ms/step - accuracy: 0.8276 - loss: 0.3845 - val_accuracy: 0.8171 - val_loss: 0.4111\n",
      "Epoch 13/500\n",
      "\u001B[1m21/21\u001B[0m \u001B[32m━━━━━━━━━━━━━━━━━━━━\u001B[0m\u001B[37m\u001B[0m \u001B[1m7s\u001B[0m 331ms/step - accuracy: 0.8206 - loss: 0.3931 - val_accuracy: 0.8274 - val_loss: 0.3860\n",
      "Epoch 14/500\n",
      "\u001B[1m21/21\u001B[0m \u001B[32m━━━━━━━━━━━━━━━━━━━━\u001B[0m\u001B[37m\u001B[0m \u001B[1m7s\u001B[0m 356ms/step - accuracy: 0.8326 - loss: 0.3784 - val_accuracy: 0.8012 - val_loss: 0.4189\n",
      "Epoch 15/500\n",
      "\u001B[1m21/21\u001B[0m \u001B[32m━━━━━━━━━━━━━━━━━━━━\u001B[0m\u001B[37m\u001B[0m \u001B[1m7s\u001B[0m 328ms/step - accuracy: 0.8288 - loss: 0.3831 - val_accuracy: 0.8287 - val_loss: 0.3773\n",
      "Epoch 16/500\n",
      "\u001B[1m21/21\u001B[0m \u001B[32m━━━━━━━━━━━━━━━━━━━━\u001B[0m\u001B[37m\u001B[0m \u001B[1m7s\u001B[0m 341ms/step - accuracy: 0.8308 - loss: 0.3716 - val_accuracy: 0.8151 - val_loss: 0.3914\n",
      "Epoch 17/500\n",
      "\u001B[1m21/21\u001B[0m \u001B[32m━━━━━━━━━━━━━━━━━━━━\u001B[0m\u001B[37m\u001B[0m \u001B[1m7s\u001B[0m 341ms/step - accuracy: 0.8244 - loss: 0.3771 - val_accuracy: 0.8282 - val_loss: 0.4051\n",
      "Epoch 18/500\n",
      "\u001B[1m21/21\u001B[0m \u001B[32m━━━━━━━━━━━━━━━━━━━━\u001B[0m\u001B[37m\u001B[0m \u001B[1m7s\u001B[0m 349ms/step - accuracy: 0.8288 - loss: 0.3776 - val_accuracy: 0.8422 - val_loss: 0.3720\n",
      "Epoch 19/500\n",
      "\u001B[1m21/21\u001B[0m \u001B[32m━━━━━━━━━━━━━━━━━━━━\u001B[0m\u001B[37m\u001B[0m \u001B[1m7s\u001B[0m 352ms/step - accuracy: 0.8373 - loss: 0.3634 - val_accuracy: 0.8332 - val_loss: 0.3750\n",
      "Epoch 20/500\n",
      "\u001B[1m21/21\u001B[0m \u001B[32m━━━━━━━━━━━━━━━━━━━━\u001B[0m\u001B[37m\u001B[0m \u001B[1m8s\u001B[0m 359ms/step - accuracy: 0.8418 - loss: 0.3560 - val_accuracy: 0.8148 - val_loss: 0.3863\n",
      "Epoch 21/500\n",
      "\u001B[1m21/21\u001B[0m \u001B[32m━━━━━━━━━━━━━━━━━━━━\u001B[0m\u001B[37m\u001B[0m \u001B[1m7s\u001B[0m 332ms/step - accuracy: 0.8332 - loss: 0.3675 - val_accuracy: 0.8397 - val_loss: 0.3730\n",
      "Epoch 22/500\n",
      "\u001B[1m21/21\u001B[0m \u001B[32m━━━━━━━━━━━━━━━━━━━━\u001B[0m\u001B[37m\u001B[0m \u001B[1m7s\u001B[0m 336ms/step - accuracy: 0.8416 - loss: 0.3545 - val_accuracy: 0.8325 - val_loss: 0.3835\n",
      "Epoch 23/500\n",
      "\u001B[1m21/21\u001B[0m \u001B[32m━━━━━━━━━━━━━━━━━━━━\u001B[0m\u001B[37m\u001B[0m \u001B[1m7s\u001B[0m 346ms/step - accuracy: 0.8432 - loss: 0.3478 - val_accuracy: 0.8346 - val_loss: 0.3702\n",
      "Epoch 24/500\n",
      "\u001B[1m21/21\u001B[0m \u001B[32m━━━━━━━━━━━━━━━━━━━━\u001B[0m\u001B[37m\u001B[0m \u001B[1m7s\u001B[0m 336ms/step - accuracy: 0.8484 - loss: 0.3376 - val_accuracy: 0.8393 - val_loss: 0.3803\n",
      "Epoch 25/500\n",
      "\u001B[1m21/21\u001B[0m \u001B[32m━━━━━━━━━━━━━━━━━━━━\u001B[0m\u001B[37m\u001B[0m \u001B[1m7s\u001B[0m 333ms/step - accuracy: 0.8524 - loss: 0.3401 - val_accuracy: 0.8334 - val_loss: 0.3687\n",
      "Epoch 26/500\n",
      "\u001B[1m21/21\u001B[0m \u001B[32m━━━━━━━━━━━━━━━━━━━━\u001B[0m\u001B[37m\u001B[0m \u001B[1m7s\u001B[0m 335ms/step - accuracy: 0.8507 - loss: 0.3350 - val_accuracy: 0.8362 - val_loss: 0.3737\n",
      "Epoch 27/500\n",
      "\u001B[1m21/21\u001B[0m \u001B[32m━━━━━━━━━━━━━━━━━━━━\u001B[0m\u001B[37m\u001B[0m \u001B[1m7s\u001B[0m 358ms/step - accuracy: 0.8543 - loss: 0.3301 - val_accuracy: 0.8163 - val_loss: 0.3902\n",
      "Epoch 28/500\n",
      "\u001B[1m21/21\u001B[0m \u001B[32m━━━━━━━━━━━━━━━━━━━━\u001B[0m\u001B[37m\u001B[0m \u001B[1m8s\u001B[0m 398ms/step - accuracy: 0.8503 - loss: 0.3376 - val_accuracy: 0.8317 - val_loss: 0.3736\n",
      "Epoch 29/500\n",
      "\u001B[1m21/21\u001B[0m \u001B[32m━━━━━━━━━━━━━━━━━━━━\u001B[0m\u001B[37m\u001B[0m \u001B[1m8s\u001B[0m 368ms/step - accuracy: 0.8635 - loss: 0.3184 - val_accuracy: 0.8386 - val_loss: 0.3721\n",
      "Epoch 30/500\n",
      "\u001B[1m21/21\u001B[0m \u001B[32m━━━━━━━━━━━━━━━━━━━━\u001B[0m\u001B[37m\u001B[0m \u001B[1m8s\u001B[0m 363ms/step - accuracy: 0.8579 - loss: 0.3225 - val_accuracy: 0.8431 - val_loss: 0.3702\n",
      "Epoch 31/500\n",
      "\u001B[1m21/21\u001B[0m \u001B[32m━━━━━━━━━━━━━━━━━━━━\u001B[0m\u001B[37m\u001B[0m \u001B[1m7s\u001B[0m 348ms/step - accuracy: 0.8613 - loss: 0.3240 - val_accuracy: 0.8347 - val_loss: 0.3753\n",
      "Epoch 32/500\n",
      "\u001B[1m21/21\u001B[0m \u001B[32m━━━━━━━━━━━━━━━━━━━━\u001B[0m\u001B[37m\u001B[0m \u001B[1m7s\u001B[0m 340ms/step - accuracy: 0.8632 - loss: 0.3198 - val_accuracy: 0.8329 - val_loss: 0.3832\n",
      "Epoch 33/500\n",
      "\u001B[1m21/21\u001B[0m \u001B[32m━━━━━━━━━━━━━━━━━━━━\u001B[0m\u001B[37m\u001B[0m \u001B[1m7s\u001B[0m 337ms/step - accuracy: 0.8692 - loss: 0.3086 - val_accuracy: 0.8244 - val_loss: 0.4113\n",
      "Epoch 34/500\n",
      "\u001B[1m21/21\u001B[0m \u001B[32m━━━━━━━━━━━━━━━━━━━━\u001B[0m\u001B[37m\u001B[0m \u001B[1m7s\u001B[0m 331ms/step - accuracy: 0.8625 - loss: 0.3187 - val_accuracy: 0.8336 - val_loss: 0.3729\n",
      "Epoch 35/500\n",
      "\u001B[1m21/21\u001B[0m \u001B[32m━━━━━━━━━━━━━━━━━━━━\u001B[0m\u001B[37m\u001B[0m \u001B[1m7s\u001B[0m 346ms/step - accuracy: 0.8692 - loss: 0.3048 - val_accuracy: 0.8370 - val_loss: 0.3871\n",
      "Epoch 36/500\n",
      "\u001B[1m21/21\u001B[0m \u001B[32m━━━━━━━━━━━━━━━━━━━━\u001B[0m\u001B[37m\u001B[0m \u001B[1m7s\u001B[0m 336ms/step - accuracy: 0.8705 - loss: 0.3056 - val_accuracy: 0.8338 - val_loss: 0.3756\n",
      "Epoch 37/500\n",
      "\u001B[1m21/21\u001B[0m \u001B[32m━━━━━━━━━━━━━━━━━━━━\u001B[0m\u001B[37m\u001B[0m \u001B[1m7s\u001B[0m 326ms/step - accuracy: 0.8686 - loss: 0.3072 - val_accuracy: 0.8305 - val_loss: 0.3708\n",
      "Epoch 38/500\n",
      "\u001B[1m21/21\u001B[0m \u001B[32m━━━━━━━━━━━━━━━━━━━━\u001B[0m\u001B[37m\u001B[0m \u001B[1m7s\u001B[0m 349ms/step - accuracy: 0.8666 - loss: 0.3078 - val_accuracy: 0.8214 - val_loss: 0.4298\n",
      "Epoch 39/500\n",
      "\u001B[1m21/21\u001B[0m \u001B[32m━━━━━━━━━━━━━━━━━━━━\u001B[0m\u001B[37m\u001B[0m \u001B[1m7s\u001B[0m 335ms/step - accuracy: 0.8633 - loss: 0.3138 - val_accuracy: 0.8369 - val_loss: 0.3941\n",
      "Epoch 40/500\n",
      "\u001B[1m21/21\u001B[0m \u001B[32m━━━━━━━━━━━━━━━━━━━━\u001B[0m\u001B[37m\u001B[0m \u001B[1m7s\u001B[0m 327ms/step - accuracy: 0.8722 - loss: 0.3054 - val_accuracy: 0.8333 - val_loss: 0.4034\n",
      "Epoch 41/500\n",
      "\u001B[1m21/21\u001B[0m \u001B[32m━━━━━━━━━━━━━━━━━━━━\u001B[0m\u001B[37m\u001B[0m \u001B[1m7s\u001B[0m 329ms/step - accuracy: 0.8704 - loss: 0.3074 - val_accuracy: 0.8202 - val_loss: 0.4397\n",
      "Epoch 42/500\n",
      "\u001B[1m21/21\u001B[0m \u001B[32m━━━━━━━━━━━━━━━━━━━━\u001B[0m\u001B[37m\u001B[0m \u001B[1m7s\u001B[0m 327ms/step - accuracy: 0.8681 - loss: 0.3053 - val_accuracy: 0.8260 - val_loss: 0.4241\n",
      "Epoch 43/500\n",
      "\u001B[1m21/21\u001B[0m \u001B[32m━━━━━━━━━━━━━━━━━━━━\u001B[0m\u001B[37m\u001B[0m \u001B[1m7s\u001B[0m 330ms/step - accuracy: 0.8668 - loss: 0.3150 - val_accuracy: 0.8289 - val_loss: 0.3792\n",
      "Epoch 44/500\n",
      "\u001B[1m21/21\u001B[0m \u001B[32m━━━━━━━━━━━━━━━━━━━━\u001B[0m\u001B[37m\u001B[0m \u001B[1m7s\u001B[0m 340ms/step - accuracy: 0.8709 - loss: 0.2982 - val_accuracy: 0.8263 - val_loss: 0.3826\n",
      "Epoch 45/500\n",
      "\u001B[1m21/21\u001B[0m \u001B[32m━━━━━━━━━━━━━━━━━━━━\u001B[0m\u001B[37m\u001B[0m \u001B[1m7s\u001B[0m 327ms/step - accuracy: 0.8721 - loss: 0.2983 - val_accuracy: 0.8327 - val_loss: 0.3896\n",
      "Epoch 46/500\n",
      "\u001B[1m21/21\u001B[0m \u001B[32m━━━━━━━━━━━━━━━━━━━━\u001B[0m\u001B[37m\u001B[0m \u001B[1m7s\u001B[0m 324ms/step - accuracy: 0.8679 - loss: 0.3026 - val_accuracy: 0.8201 - val_loss: 0.4149\n",
      "Epoch 47/500\n",
      "\u001B[1m21/21\u001B[0m \u001B[32m━━━━━━━━━━━━━━━━━━━━\u001B[0m\u001B[37m\u001B[0m \u001B[1m7s\u001B[0m 326ms/step - accuracy: 0.8757 - loss: 0.2850 - val_accuracy: 0.8044 - val_loss: 0.4135\n",
      "Epoch 48/500\n",
      "\u001B[1m21/21\u001B[0m \u001B[32m━━━━━━━━━━━━━━━━━━━━\u001B[0m\u001B[37m\u001B[0m \u001B[1m7s\u001B[0m 328ms/step - accuracy: 0.8730 - loss: 0.3003 - val_accuracy: 0.8210 - val_loss: 0.4104\n",
      "Epoch 49/500\n",
      "\u001B[1m21/21\u001B[0m \u001B[32m━━━━━━━━━━━━━━━━━━━━\u001B[0m\u001B[37m\u001B[0m \u001B[1m7s\u001B[0m 323ms/step - accuracy: 0.8725 - loss: 0.2957 - val_accuracy: 0.8291 - val_loss: 0.3969\n",
      "Epoch 50/500\n",
      "\u001B[1m21/21\u001B[0m \u001B[32m━━━━━━━━━━━━━━━━━━━━\u001B[0m\u001B[37m\u001B[0m \u001B[1m7s\u001B[0m 331ms/step - accuracy: 0.8788 - loss: 0.2897 - val_accuracy: 0.8246 - val_loss: 0.4127\n",
      "Epoch 51/500\n",
      "\u001B[1m21/21\u001B[0m \u001B[32m━━━━━━━━━━━━━━━━━━━━\u001B[0m\u001B[37m\u001B[0m \u001B[1m7s\u001B[0m 332ms/step - accuracy: 0.8812 - loss: 0.2886 - val_accuracy: 0.8266 - val_loss: 0.4005\n",
      "Epoch 52/500\n",
      "\u001B[1m21/21\u001B[0m \u001B[32m━━━━━━━━━━━━━━━━━━━━\u001B[0m\u001B[37m\u001B[0m \u001B[1m7s\u001B[0m 336ms/step - accuracy: 0.8803 - loss: 0.2901 - val_accuracy: 0.8283 - val_loss: 0.4459\n",
      "Epoch 53/500\n",
      "\u001B[1m21/21\u001B[0m \u001B[32m━━━━━━━━━━━━━━━━━━━━\u001B[0m\u001B[37m\u001B[0m \u001B[1m7s\u001B[0m 341ms/step - accuracy: 0.8845 - loss: 0.2759 - val_accuracy: 0.8308 - val_loss: 0.4122\n",
      "Epoch 54/500\n",
      "\u001B[1m21/21\u001B[0m \u001B[32m━━━━━━━━━━━━━━━━━━━━\u001B[0m\u001B[37m\u001B[0m \u001B[1m7s\u001B[0m 333ms/step - accuracy: 0.8839 - loss: 0.2715 - val_accuracy: 0.8297 - val_loss: 0.4169\n",
      "Epoch 55/500\n",
      "\u001B[1m21/21\u001B[0m \u001B[32m━━━━━━━━━━━━━━━━━━━━\u001B[0m\u001B[37m\u001B[0m \u001B[1m7s\u001B[0m 331ms/step - accuracy: 0.8818 - loss: 0.2803 - val_accuracy: 0.8328 - val_loss: 0.4014\n",
      "Epoch 56/500\n",
      "\u001B[1m21/21\u001B[0m \u001B[32m━━━━━━━━━━━━━━━━━━━━\u001B[0m\u001B[37m\u001B[0m \u001B[1m7s\u001B[0m 323ms/step - accuracy: 0.8789 - loss: 0.2875 - val_accuracy: 0.8305 - val_loss: 0.4024\n",
      "Epoch 57/500\n",
      "\u001B[1m21/21\u001B[0m \u001B[32m━━━━━━━━━━━━━━━━━━━━\u001B[0m\u001B[37m\u001B[0m \u001B[1m7s\u001B[0m 336ms/step - accuracy: 0.8790 - loss: 0.2820 - val_accuracy: 0.8263 - val_loss: 0.3888\n",
      "Epoch 58/500\n",
      "\u001B[1m21/21\u001B[0m \u001B[32m━━━━━━━━━━━━━━━━━━━━\u001B[0m\u001B[37m\u001B[0m \u001B[1m7s\u001B[0m 331ms/step - accuracy: 0.8926 - loss: 0.2564 - val_accuracy: 0.8259 - val_loss: 0.3943\n",
      "Epoch 59/500\n",
      "\u001B[1m21/21\u001B[0m \u001B[32m━━━━━━━━━━━━━━━━━━━━\u001B[0m\u001B[37m\u001B[0m \u001B[1m7s\u001B[0m 332ms/step - accuracy: 0.8856 - loss: 0.2716 - val_accuracy: 0.8397 - val_loss: 0.3813\n",
      "Epoch 60/500\n",
      "\u001B[1m21/21\u001B[0m \u001B[32m━━━━━━━━━━━━━━━━━━━━\u001B[0m\u001B[37m\u001B[0m \u001B[1m7s\u001B[0m 328ms/step - accuracy: 0.8913 - loss: 0.2625 - val_accuracy: 0.8381 - val_loss: 0.4024\n",
      "Epoch 61/500\n",
      "\u001B[1m21/21\u001B[0m \u001B[32m━━━━━━━━━━━━━━━━━━━━\u001B[0m\u001B[37m\u001B[0m \u001B[1m7s\u001B[0m 330ms/step - accuracy: 0.8956 - loss: 0.2518 - val_accuracy: 0.8349 - val_loss: 0.4132\n",
      "Epoch 62/500\n",
      "\u001B[1m21/21\u001B[0m \u001B[32m━━━━━━━━━━━━━━━━━━━━\u001B[0m\u001B[37m\u001B[0m \u001B[1m7s\u001B[0m 336ms/step - accuracy: 0.8963 - loss: 0.2532 - val_accuracy: 0.8379 - val_loss: 0.4088\n",
      "Epoch 63/500\n",
      "\u001B[1m21/21\u001B[0m \u001B[32m━━━━━━━━━━━━━━━━━━━━\u001B[0m\u001B[37m\u001B[0m \u001B[1m7s\u001B[0m 332ms/step - accuracy: 0.8996 - loss: 0.2431 - val_accuracy: 0.8335 - val_loss: 0.4246\n",
      "Epoch 64/500\n",
      "\u001B[1m21/21\u001B[0m \u001B[32m━━━━━━━━━━━━━━━━━━━━\u001B[0m\u001B[37m\u001B[0m \u001B[1m7s\u001B[0m 329ms/step - accuracy: 0.8981 - loss: 0.2481 - val_accuracy: 0.8388 - val_loss: 0.4023\n",
      "Epoch 65/500\n",
      "\u001B[1m21/21\u001B[0m \u001B[32m━━━━━━━━━━━━━━━━━━━━\u001B[0m\u001B[37m\u001B[0m \u001B[1m7s\u001B[0m 335ms/step - accuracy: 0.8880 - loss: 0.2601 - val_accuracy: 0.8293 - val_loss: 0.4280\n",
      "Epoch 66/500\n",
      "\u001B[1m21/21\u001B[0m \u001B[32m━━━━━━━━━━━━━━━━━━━━\u001B[0m\u001B[37m\u001B[0m \u001B[1m7s\u001B[0m 342ms/step - accuracy: 0.8932 - loss: 0.2553 - val_accuracy: 0.8107 - val_loss: 0.4278\n",
      "Epoch 67/500\n",
      "\u001B[1m21/21\u001B[0m \u001B[32m━━━━━━━━━━━━━━━━━━━━\u001B[0m\u001B[37m\u001B[0m \u001B[1m7s\u001B[0m 324ms/step - accuracy: 0.8858 - loss: 0.2668 - val_accuracy: 0.8320 - val_loss: 0.4052\n",
      "Epoch 68/500\n",
      "\u001B[1m21/21\u001B[0m \u001B[32m━━━━━━━━━━━━━━━━━━━━\u001B[0m\u001B[37m\u001B[0m \u001B[1m7s\u001B[0m 329ms/step - accuracy: 0.8972 - loss: 0.2460 - val_accuracy: 0.8264 - val_loss: 0.4465\n",
      "Epoch 69/500\n",
      "\u001B[1m21/21\u001B[0m \u001B[32m━━━━━━━━━━━━━━━━━━━━\u001B[0m\u001B[37m\u001B[0m \u001B[1m7s\u001B[0m 334ms/step - accuracy: 0.8922 - loss: 0.2579 - val_accuracy: 0.8307 - val_loss: 0.4122\n",
      "Epoch 70/500\n",
      "\u001B[1m21/21\u001B[0m \u001B[32m━━━━━━━━━━━━━━━━━━━━\u001B[0m\u001B[37m\u001B[0m \u001B[1m7s\u001B[0m 332ms/step - accuracy: 0.8892 - loss: 0.2680 - val_accuracy: 0.8265 - val_loss: 0.3989\n",
      "Epoch 71/500\n",
      "\u001B[1m21/21\u001B[0m \u001B[32m━━━━━━━━━━━━━━━━━━━━\u001B[0m\u001B[37m\u001B[0m \u001B[1m7s\u001B[0m 324ms/step - accuracy: 0.8946 - loss: 0.2524 - val_accuracy: 0.8301 - val_loss: 0.4134\n",
      "Epoch 72/500\n",
      "\u001B[1m21/21\u001B[0m \u001B[32m━━━━━━━━━━━━━━━━━━━━\u001B[0m\u001B[37m\u001B[0m \u001B[1m7s\u001B[0m 331ms/step - accuracy: 0.8913 - loss: 0.2572 - val_accuracy: 0.8286 - val_loss: 0.4286\n",
      "Epoch 73/500\n",
      "\u001B[1m21/21\u001B[0m \u001B[32m━━━━━━━━━━━━━━━━━━━━\u001B[0m\u001B[37m\u001B[0m \u001B[1m7s\u001B[0m 327ms/step - accuracy: 0.8978 - loss: 0.2436 - val_accuracy: 0.8300 - val_loss: 0.4259\n",
      "Epoch 74/500\n",
      "\u001B[1m21/21\u001B[0m \u001B[32m━━━━━━━━━━━━━━━━━━━━\u001B[0m\u001B[37m\u001B[0m \u001B[1m7s\u001B[0m 327ms/step - accuracy: 0.8917 - loss: 0.2581 - val_accuracy: 0.8311 - val_loss: 0.4320\n",
      "Epoch 75/500\n",
      "\u001B[1m21/21\u001B[0m \u001B[32m━━━━━━━━━━━━━━━━━━━━\u001B[0m\u001B[37m\u001B[0m \u001B[1m7s\u001B[0m 336ms/step - accuracy: 0.9041 - loss: 0.2402 - val_accuracy: 0.8280 - val_loss: 0.4275\n",
      "Epoch 76/500\n",
      "\u001B[1m21/21\u001B[0m \u001B[32m━━━━━━━━━━━━━━━━━━━━\u001B[0m\u001B[37m\u001B[0m \u001B[1m7s\u001B[0m 329ms/step - accuracy: 0.8987 - loss: 0.2466 - val_accuracy: 0.8263 - val_loss: 0.4384\n",
      "Epoch 77/500\n",
      "\u001B[1m21/21\u001B[0m \u001B[32m━━━━━━━━━━━━━━━━━━━━\u001B[0m\u001B[37m\u001B[0m \u001B[1m7s\u001B[0m 332ms/step - accuracy: 0.9021 - loss: 0.2413 - val_accuracy: 0.8329 - val_loss: 0.4281\n",
      "Epoch 78/500\n",
      "\u001B[1m21/21\u001B[0m \u001B[32m━━━━━━━━━━━━━━━━━━━━\u001B[0m\u001B[37m\u001B[0m \u001B[1m7s\u001B[0m 334ms/step - accuracy: 0.9014 - loss: 0.2381 - val_accuracy: 0.8320 - val_loss: 0.4290\n",
      "Epoch 79/500\n",
      "\u001B[1m21/21\u001B[0m \u001B[32m━━━━━━━━━━━━━━━━━━━━\u001B[0m\u001B[37m\u001B[0m \u001B[1m7s\u001B[0m 343ms/step - accuracy: 0.9095 - loss: 0.2294 - val_accuracy: 0.8329 - val_loss: 0.4560\n",
      "Epoch 80/500\n",
      "\u001B[1m21/21\u001B[0m \u001B[32m━━━━━━━━━━━━━━━━━━━━\u001B[0m\u001B[37m\u001B[0m \u001B[1m7s\u001B[0m 326ms/step - accuracy: 0.9041 - loss: 0.2352 - val_accuracy: 0.8401 - val_loss: 0.4264\n",
      "Epoch 81/500\n",
      "\u001B[1m21/21\u001B[0m \u001B[32m━━━━━━━━━━━━━━━━━━━━\u001B[0m\u001B[37m\u001B[0m \u001B[1m7s\u001B[0m 324ms/step - accuracy: 0.9035 - loss: 0.2350 - val_accuracy: 0.8255 - val_loss: 0.4378\n",
      "Epoch 82/500\n",
      "\u001B[1m21/21\u001B[0m \u001B[32m━━━━━━━━━━━━━━━━━━━━\u001B[0m\u001B[37m\u001B[0m \u001B[1m7s\u001B[0m 328ms/step - accuracy: 0.9083 - loss: 0.2275 - val_accuracy: 0.8267 - val_loss: 0.4458\n",
      "Epoch 83/500\n",
      "\u001B[1m21/21\u001B[0m \u001B[32m━━━━━━━━━━━━━━━━━━━━\u001B[0m\u001B[37m\u001B[0m \u001B[1m7s\u001B[0m 335ms/step - accuracy: 0.9028 - loss: 0.2353 - val_accuracy: 0.8340 - val_loss: 0.4703\n",
      "Epoch 84/500\n",
      "\u001B[1m21/21\u001B[0m \u001B[32m━━━━━━━━━━━━━━━━━━━━\u001B[0m\u001B[37m\u001B[0m \u001B[1m7s\u001B[0m 331ms/step - accuracy: 0.9079 - loss: 0.2266 - val_accuracy: 0.8303 - val_loss: 0.4644\n",
      "Epoch 85/500\n",
      "\u001B[1m21/21\u001B[0m \u001B[32m━━━━━━━━━━━━━━━━━━━━\u001B[0m\u001B[37m\u001B[0m \u001B[1m7s\u001B[0m 337ms/step - accuracy: 0.9124 - loss: 0.2151 - val_accuracy: 0.8180 - val_loss: 0.4276\n",
      "Epoch 86/500\n",
      "\u001B[1m21/21\u001B[0m \u001B[32m━━━━━━━━━━━━━━━━━━━━\u001B[0m\u001B[37m\u001B[0m \u001B[1m7s\u001B[0m 329ms/step - accuracy: 0.9151 - loss: 0.2181 - val_accuracy: 0.8298 - val_loss: 0.4296\n",
      "Epoch 87/500\n",
      "\u001B[1m21/21\u001B[0m \u001B[32m━━━━━━━━━━━━━━━━━━━━\u001B[0m\u001B[37m\u001B[0m \u001B[1m7s\u001B[0m 344ms/step - accuracy: 0.9139 - loss: 0.2151 - val_accuracy: 0.8331 - val_loss: 0.4656\n",
      "Epoch 88/500\n",
      "\u001B[1m21/21\u001B[0m \u001B[32m━━━━━━━━━━━━━━━━━━━━\u001B[0m\u001B[37m\u001B[0m \u001B[1m7s\u001B[0m 332ms/step - accuracy: 0.9095 - loss: 0.2211 - val_accuracy: 0.8263 - val_loss: 0.4378\n",
      "Epoch 89/500\n",
      "\u001B[1m21/21\u001B[0m \u001B[32m━━━━━━━━━━━━━━━━━━━━\u001B[0m\u001B[37m\u001B[0m \u001B[1m7s\u001B[0m 329ms/step - accuracy: 0.9162 - loss: 0.2174 - val_accuracy: 0.8278 - val_loss: 0.4440\n",
      "Epoch 90/500\n",
      "\u001B[1m21/21\u001B[0m \u001B[32m━━━━━━━━━━━━━━━━━━━━\u001B[0m\u001B[37m\u001B[0m \u001B[1m7s\u001B[0m 345ms/step - accuracy: 0.9192 - loss: 0.2085 - val_accuracy: 0.8331 - val_loss: 0.4891\n",
      "Epoch 91/500\n",
      "\u001B[1m21/21\u001B[0m \u001B[32m━━━━━━━━━━━━━━━━━━━━\u001B[0m\u001B[37m\u001B[0m \u001B[1m8s\u001B[0m 360ms/step - accuracy: 0.9182 - loss: 0.2019 - val_accuracy: 0.8232 - val_loss: 0.4910\n",
      "Epoch 92/500\n",
      "\u001B[1m21/21\u001B[0m \u001B[32m━━━━━━━━━━━━━━━━━━━━\u001B[0m\u001B[37m\u001B[0m \u001B[1m8s\u001B[0m 366ms/step - accuracy: 0.9199 - loss: 0.1998 - val_accuracy: 0.8274 - val_loss: 0.5608\n",
      "Epoch 93/500\n",
      "\u001B[1m21/21\u001B[0m \u001B[32m━━━━━━━━━━━━━━━━━━━━\u001B[0m\u001B[37m\u001B[0m \u001B[1m7s\u001B[0m 345ms/step - accuracy: 0.9237 - loss: 0.1996 - val_accuracy: 0.8293 - val_loss: 0.5172\n",
      "Epoch 94/500\n",
      "\u001B[1m21/21\u001B[0m \u001B[32m━━━━━━━━━━━━━━━━━━━━\u001B[0m\u001B[37m\u001B[0m \u001B[1m7s\u001B[0m 332ms/step - accuracy: 0.9178 - loss: 0.2036 - val_accuracy: 0.8241 - val_loss: 0.4837\n",
      "Epoch 95/500\n",
      "\u001B[1m21/21\u001B[0m \u001B[32m━━━━━━━━━━━━━━━━━━━━\u001B[0m\u001B[37m\u001B[0m \u001B[1m7s\u001B[0m 341ms/step - accuracy: 0.9172 - loss: 0.2086 - val_accuracy: 0.8258 - val_loss: 0.4903\n",
      "Epoch 96/500\n",
      "\u001B[1m21/21\u001B[0m \u001B[32m━━━━━━━━━━━━━━━━━━━━\u001B[0m\u001B[37m\u001B[0m \u001B[1m7s\u001B[0m 350ms/step - accuracy: 0.9237 - loss: 0.1948 - val_accuracy: 0.8112 - val_loss: 0.4763\n",
      "Epoch 97/500\n",
      "\u001B[1m21/21\u001B[0m \u001B[32m━━━━━━━━━━━━━━━━━━━━\u001B[0m\u001B[37m\u001B[0m \u001B[1m7s\u001B[0m 337ms/step - accuracy: 0.9209 - loss: 0.1967 - val_accuracy: 0.8214 - val_loss: 0.4707\n",
      "Epoch 98/500\n",
      "\u001B[1m21/21\u001B[0m \u001B[32m━━━━━━━━━━━━━━━━━━━━\u001B[0m\u001B[37m\u001B[0m \u001B[1m7s\u001B[0m 336ms/step - accuracy: 0.9227 - loss: 0.1934 - val_accuracy: 0.8209 - val_loss: 0.4883\n",
      "Epoch 99/500\n",
      "\u001B[1m21/21\u001B[0m \u001B[32m━━━━━━━━━━━━━━━━━━━━\u001B[0m\u001B[37m\u001B[0m \u001B[1m7s\u001B[0m 349ms/step - accuracy: 0.9252 - loss: 0.1968 - val_accuracy: 0.8193 - val_loss: 0.4827\n",
      "Epoch 100/500\n",
      "\u001B[1m21/21\u001B[0m \u001B[32m━━━━━━━━━━━━━━━━━━━━\u001B[0m\u001B[37m\u001B[0m \u001B[1m7s\u001B[0m 342ms/step - accuracy: 0.9290 - loss: 0.1876 - val_accuracy: 0.8248 - val_loss: 0.4857\n",
      "Epoch 101/500\n",
      "\u001B[1m21/21\u001B[0m \u001B[32m━━━━━━━━━━━━━━━━━━━━\u001B[0m\u001B[37m\u001B[0m \u001B[1m7s\u001B[0m 339ms/step - accuracy: 0.9223 - loss: 0.1888 - val_accuracy: 0.8333 - val_loss: 0.4429\n",
      "Epoch 102/500\n",
      "\u001B[1m21/21\u001B[0m \u001B[32m━━━━━━━━━━━━━━━━━━━━\u001B[0m\u001B[37m\u001B[0m \u001B[1m7s\u001B[0m 339ms/step - accuracy: 0.9253 - loss: 0.1894 - val_accuracy: 0.8129 - val_loss: 0.5055\n",
      "Epoch 103/500\n",
      "\u001B[1m21/21\u001B[0m \u001B[32m━━━━━━━━━━━━━━━━━━━━\u001B[0m\u001B[37m\u001B[0m \u001B[1m7s\u001B[0m 335ms/step - accuracy: 0.9242 - loss: 0.1928 - val_accuracy: 0.8254 - val_loss: 0.5158\n",
      "Epoch 104/500\n",
      "\u001B[1m21/21\u001B[0m \u001B[32m━━━━━━━━━━━━━━━━━━━━\u001B[0m\u001B[37m\u001B[0m \u001B[1m7s\u001B[0m 335ms/step - accuracy: 0.9323 - loss: 0.1755 - val_accuracy: 0.8261 - val_loss: 0.5048\n",
      "Epoch 105/500\n",
      "\u001B[1m21/21\u001B[0m \u001B[32m━━━━━━━━━━━━━━━━━━━━\u001B[0m\u001B[37m\u001B[0m \u001B[1m7s\u001B[0m 340ms/step - accuracy: 0.9331 - loss: 0.1745 - val_accuracy: 0.8194 - val_loss: 0.4763\n",
      "Epoch 106/500\n",
      "\u001B[1m21/21\u001B[0m \u001B[32m━━━━━━━━━━━━━━━━━━━━\u001B[0m\u001B[37m\u001B[0m \u001B[1m7s\u001B[0m 340ms/step - accuracy: 0.9339 - loss: 0.1724 - val_accuracy: 0.8092 - val_loss: 0.5414\n",
      "Epoch 107/500\n",
      "\u001B[1m21/21\u001B[0m \u001B[32m━━━━━━━━━━━━━━━━━━━━\u001B[0m\u001B[37m\u001B[0m \u001B[1m7s\u001B[0m 330ms/step - accuracy: 0.9318 - loss: 0.1709 - val_accuracy: 0.8189 - val_loss: 0.5505\n",
      "Epoch 108/500\n",
      "\u001B[1m21/21\u001B[0m \u001B[32m━━━━━━━━━━━━━━━━━━━━\u001B[0m\u001B[37m\u001B[0m \u001B[1m7s\u001B[0m 335ms/step - accuracy: 0.9257 - loss: 0.1921 - val_accuracy: 0.8279 - val_loss: 0.5277\n",
      "Epoch 109/500\n",
      "\u001B[1m21/21\u001B[0m \u001B[32m━━━━━━━━━━━━━━━━━━━━\u001B[0m\u001B[37m\u001B[0m \u001B[1m7s\u001B[0m 335ms/step - accuracy: 0.9339 - loss: 0.1685 - val_accuracy: 0.8151 - val_loss: 0.4996\n",
      "Epoch 110/500\n",
      "\u001B[1m21/21\u001B[0m \u001B[32m━━━━━━━━━━━━━━━━━━━━\u001B[0m\u001B[37m\u001B[0m \u001B[1m7s\u001B[0m 356ms/step - accuracy: 0.9236 - loss: 0.1833 - val_accuracy: 0.8169 - val_loss: 0.5210\n",
      "Epoch 111/500\n",
      "\u001B[1m21/21\u001B[0m \u001B[32m━━━━━━━━━━━━━━━━━━━━\u001B[0m\u001B[37m\u001B[0m \u001B[1m7s\u001B[0m 353ms/step - accuracy: 0.9394 - loss: 0.1617 - val_accuracy: 0.8145 - val_loss: 0.5340\n",
      "Epoch 112/500\n",
      "\u001B[1m21/21\u001B[0m \u001B[32m━━━━━━━━━━━━━━━━━━━━\u001B[0m\u001B[37m\u001B[0m \u001B[1m7s\u001B[0m 348ms/step - accuracy: 0.9307 - loss: 0.1781 - val_accuracy: 0.8306 - val_loss: 0.4694\n",
      "Epoch 113/500\n",
      "\u001B[1m21/21\u001B[0m \u001B[32m━━━━━━━━━━━━━━━━━━━━\u001B[0m\u001B[37m\u001B[0m \u001B[1m7s\u001B[0m 345ms/step - accuracy: 0.9311 - loss: 0.1796 - val_accuracy: 0.8180 - val_loss: 0.5157\n",
      "Epoch 114/500\n",
      "\u001B[1m21/21\u001B[0m \u001B[32m━━━━━━━━━━━━━━━━━━━━\u001B[0m\u001B[37m\u001B[0m \u001B[1m7s\u001B[0m 342ms/step - accuracy: 0.9368 - loss: 0.1659 - val_accuracy: 0.8120 - val_loss: 0.5661\n",
      "Epoch 115/500\n",
      "\u001B[1m21/21\u001B[0m \u001B[32m━━━━━━━━━━━━━━━━━━━━\u001B[0m\u001B[37m\u001B[0m \u001B[1m8s\u001B[0m 365ms/step - accuracy: 0.9365 - loss: 0.1682 - val_accuracy: 0.8217 - val_loss: 0.5295\n",
      "Epoch 116/500\n",
      "\u001B[1m21/21\u001B[0m \u001B[32m━━━━━━━━━━━━━━━━━━━━\u001B[0m\u001B[37m\u001B[0m \u001B[1m8s\u001B[0m 370ms/step - accuracy: 0.9315 - loss: 0.1742 - val_accuracy: 0.8258 - val_loss: 0.5314\n"
     ]
    },
    {
     "data": {
      "text/plain": "<keras_core.src.callbacks.history.History at 0x7f1c58fece20>"
     },
     "execution_count": 45,
     "metadata": {},
     "output_type": "execute_result"
    }
   ],
   "source": [
    "model.fit(X_train,\n",
    "          y_train,\n",
    "          epochs=500,\n",
    "          batch_size=params_grid['batch_size'],\n",
    "          callbacks=callback,\n",
    "          validation_data=(X_test, y_test)\n",
    "          )"
   ],
   "metadata": {
    "collapsed": false,
    "ExecuteTime": {
     "end_time": "2024-07-07T18:01:34.575092Z",
     "start_time": "2024-07-07T17:47:12.795291Z"
    }
   },
   "id": "bb2a2ddb0e1f70be",
   "execution_count": 45
  },
  {
   "cell_type": "markdown",
   "source": [
    "# save model"
   ],
   "metadata": {
    "collapsed": false
   },
   "id": "84f51140de160118"
  },
  {
   "cell_type": "code",
   "outputs": [],
   "source": [
    "model.save(model_weight_dst)"
   ],
   "metadata": {
    "collapsed": false,
    "ExecuteTime": {
     "end_time": "2024-07-07T18:01:37.983251Z",
     "start_time": "2024-07-07T18:01:34.577310Z"
    }
   },
   "id": "e1902ebb3c46924c",
   "execution_count": 46
  },
  {
   "cell_type": "code",
   "outputs": [],
   "source": [],
   "metadata": {
    "collapsed": false,
    "ExecuteTime": {
     "end_time": "2024-07-07T18:01:37.987129Z",
     "start_time": "2024-07-07T18:01:37.984762Z"
    }
   },
   "id": "55b6f98994a58bb2",
   "execution_count": 46
  }
 ],
 "metadata": {
  "kernelspec": {
   "display_name": "Python 3 (ipykernel)",
   "language": "python",
   "name": "python3"
  },
  "language_info": {
   "codemirror_mode": {
    "name": "ipython",
    "version": 3
   },
   "file_extension": ".py",
   "mimetype": "text/x-python",
   "name": "python",
   "nbconvert_exporter": "python",
   "pygments_lexer": "ipython3",
   "version": "3.10.13"
  }
 },
 "nbformat": 4,
 "nbformat_minor": 5
}
