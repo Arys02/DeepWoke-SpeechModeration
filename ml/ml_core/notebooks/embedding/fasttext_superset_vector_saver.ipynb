{
 "cells": [
  {
   "metadata": {
    "ExecuteTime": {
     "end_time": "2024-07-14T09:22:05.949555Z",
     "start_time": "2024-07-14T09:21:59.952155Z"
    }
   },
   "cell_type": "code",
   "source": "import tensorflow as tf; print(tf.config.list_physical_devices('GPU'))",
   "id": "e500a744de9f2d6f",
   "outputs": [
    {
     "name": "stderr",
     "output_type": "stream",
     "text": [
      "2024-07-14 11:22:01.129018: E tensorflow/compiler/xla/stream_executor/cuda/cuda_dnn.cc:9342] Unable to register cuDNN factory: Attempting to register factory for plugin cuDNN when one has already been registered\n",
      "2024-07-14 11:22:01.129086: E tensorflow/compiler/xla/stream_executor/cuda/cuda_fft.cc:609] Unable to register cuFFT factory: Attempting to register factory for plugin cuFFT when one has already been registered\n",
      "2024-07-14 11:22:01.131173: E tensorflow/compiler/xla/stream_executor/cuda/cuda_blas.cc:1518] Unable to register cuBLAS factory: Attempting to register factory for plugin cuBLAS when one has already been registered\n",
      "2024-07-14 11:22:01.345422: I tensorflow/core/platform/cpu_feature_guard.cc:182] This TensorFlow binary is optimized to use available CPU instructions in performance-critical operations.\n",
      "To enable the following instructions: AVX2 FMA, in other operations, rebuild TensorFlow with the appropriate compiler flags.\n"
     ]
    },
    {
     "name": "stdout",
     "output_type": "stream",
     "text": [
      "[PhysicalDevice(name='/physical_device:GPU:0', device_type='GPU')]\n"
     ]
    },
    {
     "name": "stderr",
     "output_type": "stream",
     "text": [
      "2024-07-14 11:22:05.905451: I tensorflow/compiler/xla/stream_executor/cuda/cuda_gpu_executor.cc:880] could not open file to read NUMA node: /sys/bus/pci/devices/0000:01:00.0/numa_node\n",
      "Your kernel may have been built without NUMA support.\n",
      "2024-07-14 11:22:05.946848: I tensorflow/compiler/xla/stream_executor/cuda/cuda_gpu_executor.cc:880] could not open file to read NUMA node: /sys/bus/pci/devices/0000:01:00.0/numa_node\n",
      "Your kernel may have been built without NUMA support.\n",
      "2024-07-14 11:22:05.946883: I tensorflow/compiler/xla/stream_executor/cuda/cuda_gpu_executor.cc:880] could not open file to read NUMA node: /sys/bus/pci/devices/0000:01:00.0/numa_node\n",
      "Your kernel may have been built without NUMA support.\n"
     ]
    }
   ],
   "execution_count": 1
  },
  {
   "cell_type": "code",
   "id": "initial_id",
   "metadata": {
    "collapsed": true,
    "ExecuteTime": {
     "end_time": "2024-07-14T09:22:05.977956Z",
     "start_time": "2024-07-14T09:22:05.951643Z"
    }
   },
   "source": [
    "import fasttext\n",
    "import numpy as np\n",
    "import pandas as pd\n",
    "from tqdm import tqdm\n",
    "import os\n"
   ],
   "outputs": [],
   "execution_count": 2
  },
  {
   "metadata": {
    "ExecuteTime": {
     "end_time": "2024-07-14T09:22:05.987376Z",
     "start_time": "2024-07-14T09:22:05.980474Z"
    }
   },
   "cell_type": "code",
   "source": [
    "os.getcwd()\n",
    "if '.git' not in os.listdir():\n",
    "    os.chdir('./../../../../')\n",
    "os.listdir()\n"
   ],
   "id": "b1826a3aeffe6625",
   "outputs": [
    {
     "data": {
      "text/plain": [
       "['run.sh',\n",
       " 'requirements.txt',\n",
       " 'ml',\n",
       " 'convert_to_utf.py',\n",
       " '.idea',\n",
       " 'bot_discord',\n",
       " 'out',\n",
       " 'venv',\n",
       " '.git',\n",
       " '.gitignore']"
      ]
     },
     "execution_count": 3,
     "metadata": {},
     "output_type": "execute_result"
    }
   ],
   "execution_count": 3
  },
  {
   "cell_type": "code",
   "source": [
    "params_grid = {\n",
    "    \"embedder_data\": \"fasttext\",\n",
    "    \"dataset\": \"corrected_format_all_data.csv\"\n",
    "}\n"
   ],
   "metadata": {
    "collapsed": false,
    "ExecuteTime": {
     "end_time": "2024-07-14T09:22:06.002205Z",
     "start_time": "2024-07-14T09:22:05.988823Z"
    }
   },
   "id": "436ed48d05bf0229",
   "outputs": [],
   "execution_count": 4
  },
  {
   "cell_type": "code",
   "source": [
    "path_folder = 'ml/ml_core/'\n",
    "data_folder_src = 'ml/ml_core/data/processed/'\n",
    "data_path_src = f'{data_folder_src}{params_grid[\"dataset\"]}'\n",
    "\n",
    "vector_path = f'ml/ml_core/embedded_vector/{params_grid[\"embedder_data\"]}_{params_grid[\"dataset\"]}'\n",
    "vector_x_dst = f'{vector_path}.x.npy'\n",
    "vector_y_dst = f'{vector_path}.y.npy'\n",
    "\n",
    "\n",
    "ft = fasttext.load_model(f'ml/ml_core/data/embedding_data/cc.fr.300.bin')\n"
   ],
   "metadata": {
    "collapsed": false,
    "ExecuteTime": {
     "end_time": "2024-07-14T09:22:21.472158Z",
     "start_time": "2024-07-14T09:22:06.004258Z"
    }
   },
   "id": "d06acd0d43aa1174",
   "outputs": [],
   "execution_count": 5
  },
  {
   "cell_type": "code",
   "source": [
    "\n",
    "ds = pd.read_csv(data_path_src)\n",
    "ds"
   ],
   "metadata": {
    "collapsed": false,
    "ExecuteTime": {
     "end_time": "2024-07-14T09:22:21.543838Z",
     "start_time": "2024-07-14T09:22:21.475278Z"
    }
   },
   "id": "3c29c54a6272f571",
   "outputs": [
    {
     "data": {
      "text/plain": [
       "       labels                                               text\n",
       "0           1  rt @user personnage ainsi q tte la clique gauc...\n",
       "1           1  @user @user @user bah oui t'as raison l'autre ...\n",
       "2           1  moi j'ai personne à qui m'adresser pour réclam...\n",
       "3           0  @user @user c...est vrai que les anchois sont ...\n",
       "4           0            eh les renois faut se réveiller la @url\n",
       "...       ...                                                ...\n",
       "16893       0  L'islam a élevé la Femme en islam une femme es...\n",
       "16894       0  L'islam considère que la femme est un joyau. E...\n",
       "16895       0  L'islam valorise la femme sur beaucoup d'aspec...\n",
       "16896       0  Le Coran a libéré la femme, l'a honoré en tant...\n",
       "16897       0  Le Coran honore certaines femmes telles que Ma...\n",
       "\n",
       "[16898 rows x 2 columns]"
      ],
      "text/html": [
       "<div>\n",
       "<style scoped>\n",
       "    .dataframe tbody tr th:only-of-type {\n",
       "        vertical-align: middle;\n",
       "    }\n",
       "\n",
       "    .dataframe tbody tr th {\n",
       "        vertical-align: top;\n",
       "    }\n",
       "\n",
       "    .dataframe thead th {\n",
       "        text-align: right;\n",
       "    }\n",
       "</style>\n",
       "<table border=\"1\" class=\"dataframe\">\n",
       "  <thead>\n",
       "    <tr style=\"text-align: right;\">\n",
       "      <th></th>\n",
       "      <th>labels</th>\n",
       "      <th>text</th>\n",
       "    </tr>\n",
       "  </thead>\n",
       "  <tbody>\n",
       "    <tr>\n",
       "      <th>0</th>\n",
       "      <td>1</td>\n",
       "      <td>rt @user personnage ainsi q tte la clique gauc...</td>\n",
       "    </tr>\n",
       "    <tr>\n",
       "      <th>1</th>\n",
       "      <td>1</td>\n",
       "      <td>@user @user @user bah oui t'as raison l'autre ...</td>\n",
       "    </tr>\n",
       "    <tr>\n",
       "      <th>2</th>\n",
       "      <td>1</td>\n",
       "      <td>moi j'ai personne à qui m'adresser pour réclam...</td>\n",
       "    </tr>\n",
       "    <tr>\n",
       "      <th>3</th>\n",
       "      <td>0</td>\n",
       "      <td>@user @user c...est vrai que les anchois sont ...</td>\n",
       "    </tr>\n",
       "    <tr>\n",
       "      <th>4</th>\n",
       "      <td>0</td>\n",
       "      <td>eh les renois faut se réveiller la @url</td>\n",
       "    </tr>\n",
       "    <tr>\n",
       "      <th>...</th>\n",
       "      <td>...</td>\n",
       "      <td>...</td>\n",
       "    </tr>\n",
       "    <tr>\n",
       "      <th>16893</th>\n",
       "      <td>0</td>\n",
       "      <td>L'islam a élevé la Femme en islam une femme es...</td>\n",
       "    </tr>\n",
       "    <tr>\n",
       "      <th>16894</th>\n",
       "      <td>0</td>\n",
       "      <td>L'islam considère que la femme est un joyau. E...</td>\n",
       "    </tr>\n",
       "    <tr>\n",
       "      <th>16895</th>\n",
       "      <td>0</td>\n",
       "      <td>L'islam valorise la femme sur beaucoup d'aspec...</td>\n",
       "    </tr>\n",
       "    <tr>\n",
       "      <th>16896</th>\n",
       "      <td>0</td>\n",
       "      <td>Le Coran a libéré la femme, l'a honoré en tant...</td>\n",
       "    </tr>\n",
       "    <tr>\n",
       "      <th>16897</th>\n",
       "      <td>0</td>\n",
       "      <td>Le Coran honore certaines femmes telles que Ma...</td>\n",
       "    </tr>\n",
       "  </tbody>\n",
       "</table>\n",
       "<p>16898 rows × 2 columns</p>\n",
       "</div>"
      ]
     },
     "execution_count": 6,
     "metadata": {},
     "output_type": "execute_result"
    }
   ],
   "execution_count": 6
  },
  {
   "cell_type": "code",
   "source": [
    "\n",
    "def text_to_vector(text):\n",
    "    words = text.split(' ')\n",
    "    word_vectors = [ft.get_word_vector(word) for word in words if word in ft.words]\n",
    "    if not word_vectors:\n",
    "        return np.zeros(300)\n",
    "    return np.mean(word_vectors, axis=0)\n"
   ],
   "metadata": {
    "collapsed": false,
    "ExecuteTime": {
     "end_time": "2024-07-14T09:22:21.549784Z",
     "start_time": "2024-07-14T09:22:21.545376Z"
    }
   },
   "id": "34238ecb35592802",
   "outputs": [],
   "execution_count": 7
  },
  {
   "cell_type": "code",
   "source": [
    "tqdm.pandas(desc='Loading data')\n",
    "ds['vector'] = ds['text'].progress_apply(text_to_vector)\n",
    "\n",
    "X = np.vstack(ds['vector'])\n",
    "y = ds['labels'].values\n"
   ],
   "metadata": {
    "collapsed": false,
    "ExecuteTime": {
     "end_time": "2024-07-14T09:35:47.807145Z",
     "start_time": "2024-07-14T09:22:21.551602Z"
    }
   },
   "id": "e2f540ba1a1e28d9",
   "outputs": [
    {
     "name": "stderr",
     "output_type": "stream",
     "text": [
      "Loading data: 100%|██████████| 16898/16898 [13:26<00:00, 20.96it/s]\n"
     ]
    }
   ],
   "execution_count": 8
  },
  {
   "cell_type": "code",
   "source": [
    "np.save(vector_x_dst, X)\n",
    "np.save(vector_y_dst, y)"
   ],
   "metadata": {
    "collapsed": false,
    "ExecuteTime": {
     "end_time": "2024-07-14T09:35:47.851788Z",
     "start_time": "2024-07-14T09:35:47.810989Z"
    }
   },
   "id": "5b77d30b2083616",
   "outputs": [],
   "execution_count": 9
  },
  {
   "cell_type": "code",
   "source": [],
   "metadata": {
    "collapsed": false,
    "ExecuteTime": {
     "end_time": "2024-07-14T09:35:47.856621Z",
     "start_time": "2024-07-14T09:35:47.853699Z"
    }
   },
   "id": "21e9181af470f97a",
   "outputs": [],
   "execution_count": 9
  }
 ],
 "metadata": {
  "kernelspec": {
   "display_name": "Python 3",
   "language": "python",
   "name": "python3"
  },
  "language_info": {
   "codemirror_mode": {
    "name": "ipython",
    "version": 2
   },
   "file_extension": ".py",
   "mimetype": "text/x-python",
   "name": "python",
   "nbconvert_exporter": "python",
   "pygments_lexer": "ipython2",
   "version": "2.7.6"
  }
 },
 "nbformat": 4,
 "nbformat_minor": 5
}
