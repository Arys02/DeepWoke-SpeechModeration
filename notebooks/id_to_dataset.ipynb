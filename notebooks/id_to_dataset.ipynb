{
 "cells": [
  {
   "cell_type": "code",
   "execution_count": 36,
   "id": "initial_id",
   "metadata": {
    "collapsed": true,
    "ExecuteTime": {
     "end_time": "2024-04-16T10:29:04.061518200Z",
     "start_time": "2024-04-16T10:29:04.038936400Z"
    }
   },
   "outputs": [],
   "source": [
    "import asyncio\n",
    "\n",
    "from src.data.scrapfly_twitter import scrape_tweet_playwright, scrape_tweet_scrafly\n",
    "import pandas as pd\n"
   ]
  },
  {
   "cell_type": "code",
   "outputs": [],
   "source": [
    "folder_path = '../data/corpus_for_sexism_french/'\n"
   ],
   "metadata": {
    "collapsed": false,
    "ExecuteTime": {
     "end_time": "2024-04-16T10:26:04.650477100Z",
     "start_time": "2024-04-16T10:26:04.644476400Z"
    }
   },
   "id": "f90949b8e154e134",
   "execution_count": 31
  },
  {
   "cell_type": "code",
   "outputs": [],
   "source": [
    "df = pd.read_csv(f'{folder_path}corpus_with_link.csv')"
   ],
   "metadata": {
    "collapsed": false,
    "ExecuteTime": {
     "end_time": "2024-04-16T10:26:05.007805900Z",
     "start_time": "2024-04-16T10:26:04.993388Z"
    }
   },
   "id": "9d29055b47fca16f",
   "execution_count": 32
  },
  {
   "cell_type": "code",
   "outputs": [
    {
     "data": {
      "text/plain": "      https://twitter.com/anyuser/status/327031890622164993\n0      https://twitter.com/anyuser/status/33042556220...   \n1      https://twitter.com/anyuser/status/32679629917...   \n2      https://twitter.com/anyuser/status/33454884473...   \n3      https://twitter.com/anyuser/status/33250082415...   \n4      https://twitter.com/anyuser/status/33442436203...   \n...                                                  ...   \n12268  https://twitter.com/anyuser/status/99176963750...   \n12269  https://twitter.com/anyuser/status/99193002595...   \n12270  https://twitter.com/anyuser/status/99193721778...   \n12271  https://twitter.com/anyuser/status/99194810991...   \n12272  https://twitter.com/anyuser/status/99201496258...   \n\n[12273 rows x 1 columns]",
      "text/html": "<div>\n<style scoped>\n    .dataframe tbody tr th:only-of-type {\n        vertical-align: middle;\n    }\n\n    .dataframe tbody tr th {\n        vertical-align: top;\n    }\n\n    .dataframe thead th {\n        text-align: right;\n    }\n</style>\n<table border=\"1\" class=\"dataframe\">\n  <thead>\n    <tr style=\"text-align: right;\">\n      <th></th>\n      <th>https://twitter.com/anyuser/status/327031890622164993</th>\n    </tr>\n  </thead>\n  <tbody>\n    <tr>\n      <th>0</th>\n      <td>https://twitter.com/anyuser/status/33042556220...</td>\n    </tr>\n    <tr>\n      <th>1</th>\n      <td>https://twitter.com/anyuser/status/32679629917...</td>\n    </tr>\n    <tr>\n      <th>2</th>\n      <td>https://twitter.com/anyuser/status/33454884473...</td>\n    </tr>\n    <tr>\n      <th>3</th>\n      <td>https://twitter.com/anyuser/status/33250082415...</td>\n    </tr>\n    <tr>\n      <th>4</th>\n      <td>https://twitter.com/anyuser/status/33442436203...</td>\n    </tr>\n    <tr>\n      <th>...</th>\n      <td>...</td>\n    </tr>\n    <tr>\n      <th>12268</th>\n      <td>https://twitter.com/anyuser/status/99176963750...</td>\n    </tr>\n    <tr>\n      <th>12269</th>\n      <td>https://twitter.com/anyuser/status/99193002595...</td>\n    </tr>\n    <tr>\n      <th>12270</th>\n      <td>https://twitter.com/anyuser/status/99193721778...</td>\n    </tr>\n    <tr>\n      <th>12271</th>\n      <td>https://twitter.com/anyuser/status/99194810991...</td>\n    </tr>\n    <tr>\n      <th>12272</th>\n      <td>https://twitter.com/anyuser/status/99201496258...</td>\n    </tr>\n  </tbody>\n</table>\n<p>12273 rows × 1 columns</p>\n</div>"
     },
     "execution_count": 33,
     "metadata": {},
     "output_type": "execute_result"
    }
   ],
   "source": [
    "df"
   ],
   "metadata": {
    "collapsed": false,
    "ExecuteTime": {
     "end_time": "2024-04-16T10:26:05.314535500Z",
     "start_time": "2024-04-16T10:26:05.308479900Z"
    }
   },
   "id": "357ec9dd1a679c1",
   "execution_count": 33
  },
  {
   "cell_type": "code",
   "outputs": [],
   "source": [
    "list = []"
   ],
   "metadata": {
    "collapsed": false,
    "ExecuteTime": {
     "end_time": "2024-04-16T10:26:05.689885200Z",
     "start_time": "2024-04-16T10:26:05.682496500Z"
    }
   },
   "id": "3b2cfb88adf4550a",
   "execution_count": 34
  },
  {
   "cell_type": "code",
   "outputs": [
    {
     "name": "stdout",
     "output_type": "stream",
     "text": [
      "index : 0,\n",
      "row : https://twitter.com/anyuser/status/330425562201993216\n"
     ]
    },
    {
     "ename": "RuntimeError",
     "evalue": "asyncio.run() cannot be called from a running event loop",
     "output_type": "error",
     "traceback": [
      "\u001B[0;31m---------------------------------------------------------------------------\u001B[0m",
      "\u001B[0;31mRuntimeError\u001B[0m                              Traceback (most recent call last)",
      "Cell \u001B[0;32mIn[37], line 5\u001B[0m\n\u001B[1;32m      2\u001B[0m \u001B[38;5;28;01mfor\u001B[39;00m index, row \u001B[38;5;129;01min\u001B[39;00m df\u001B[38;5;241m.\u001B[39mitertuples():\n\u001B[1;32m      3\u001B[0m     \u001B[38;5;28mprint\u001B[39m(\u001B[38;5;124mf\u001B[39m\u001B[38;5;124m\"\u001B[39m\u001B[38;5;124mindex : \u001B[39m\u001B[38;5;132;01m{\u001B[39;00mindex\u001B[38;5;132;01m}\u001B[39;00m\u001B[38;5;124m,\u001B[39m\u001B[38;5;130;01m\\n\u001B[39;00m\u001B[38;5;124mrow : \u001B[39m\u001B[38;5;132;01m{\u001B[39;00mrow\u001B[38;5;132;01m}\u001B[39;00m\u001B[38;5;124m\"\u001B[39m)\n\u001B[0;32m----> 5\u001B[0m     tweet_id, tweet_text \u001B[38;5;241m=\u001B[39m \u001B[43masyncio\u001B[49m\u001B[38;5;241;43m.\u001B[39;49m\u001B[43mrun\u001B[49m\u001B[43m(\u001B[49m\u001B[43mscrape_tweet_scrafly\u001B[49m\u001B[43m(\u001B[49m\u001B[38;5;124;43m\"\u001B[39;49m\u001B[38;5;124;43mhttps://twitter.com/anyuser/status/327031890622164993\u001B[39;49m\u001B[38;5;124;43m\"\u001B[39;49m\u001B[43m)\u001B[49m\u001B[43m)\u001B[49m\n\u001B[1;32m      6\u001B[0m     \u001B[38;5;28mlist\u001B[39m\u001B[38;5;241m.\u001B[39mappend([tweet_id, tweet_text])\n\u001B[1;32m      8\u001B[0m     i \u001B[38;5;241m+\u001B[39m\u001B[38;5;241m=\u001B[39m \u001B[38;5;241m1\u001B[39m\n",
      "File \u001B[0;32m~/miniconda3/envs/DEV_IA/lib/python3.10/asyncio/runners.py:33\u001B[0m, in \u001B[0;36mrun\u001B[0;34m(main, debug)\u001B[0m\n\u001B[1;32m      9\u001B[0m \u001B[38;5;250m\u001B[39m\u001B[38;5;124;03m\"\"\"Execute the coroutine and return the result.\u001B[39;00m\n\u001B[1;32m     10\u001B[0m \n\u001B[1;32m     11\u001B[0m \u001B[38;5;124;03mThis function runs the passed coroutine, taking care of\u001B[39;00m\n\u001B[0;32m   (...)\u001B[0m\n\u001B[1;32m     30\u001B[0m \u001B[38;5;124;03m    asyncio.run(main())\u001B[39;00m\n\u001B[1;32m     31\u001B[0m \u001B[38;5;124;03m\"\"\"\u001B[39;00m\n\u001B[1;32m     32\u001B[0m \u001B[38;5;28;01mif\u001B[39;00m events\u001B[38;5;241m.\u001B[39m_get_running_loop() \u001B[38;5;129;01mis\u001B[39;00m \u001B[38;5;129;01mnot\u001B[39;00m \u001B[38;5;28;01mNone\u001B[39;00m:\n\u001B[0;32m---> 33\u001B[0m     \u001B[38;5;28;01mraise\u001B[39;00m \u001B[38;5;167;01mRuntimeError\u001B[39;00m(\n\u001B[1;32m     34\u001B[0m         \u001B[38;5;124m\"\u001B[39m\u001B[38;5;124masyncio.run() cannot be called from a running event loop\u001B[39m\u001B[38;5;124m\"\u001B[39m)\n\u001B[1;32m     36\u001B[0m \u001B[38;5;28;01mif\u001B[39;00m \u001B[38;5;129;01mnot\u001B[39;00m coroutines\u001B[38;5;241m.\u001B[39miscoroutine(main):\n\u001B[1;32m     37\u001B[0m     \u001B[38;5;28;01mraise\u001B[39;00m \u001B[38;5;167;01mValueError\u001B[39;00m(\u001B[38;5;124m\"\u001B[39m\u001B[38;5;124ma coroutine was expected, got \u001B[39m\u001B[38;5;132;01m{!r}\u001B[39;00m\u001B[38;5;124m\"\u001B[39m\u001B[38;5;241m.\u001B[39mformat(main))\n",
      "\u001B[0;31mRuntimeError\u001B[0m: asyncio.run() cannot be called from a running event loop"
     ]
    }
   ],
   "source": [
    "i = 0\n",
    "for index, row in df.itertuples():\n",
    "    print(f\"index : {index},\\nrow : {row}\")\n",
    "\n",
    "    tweet_id, tweet_text = asyncio.run(scrape_tweet_scrafly(\"https://twitter.com/anyuser/status/327031890622164993\"))\n",
    "    list.append([tweet_id, tweet_text])\n",
    "    \n",
    "    i += 1\n",
    "    if i > 10: break\n",
    "\n",
    "print(list)\n"
   ],
   "metadata": {
    "collapsed": false,
    "ExecuteTime": {
     "end_time": "2024-04-16T10:29:35.247422200Z",
     "start_time": "2024-04-16T10:29:35.213865200Z"
    }
   },
   "id": "198cf1c878d4c3b1",
   "execution_count": 37
  },
  {
   "cell_type": "code",
   "outputs": [],
   "source": [],
   "metadata": {
    "collapsed": false
   },
   "id": "c5d490a8c6ba7ff5"
  }
 ],
 "metadata": {
  "kernelspec": {
   "display_name": "Python 3",
   "language": "python",
   "name": "python3"
  },
  "language_info": {
   "codemirror_mode": {
    "name": "ipython",
    "version": 2
   },
   "file_extension": ".py",
   "mimetype": "text/x-python",
   "name": "python",
   "nbconvert_exporter": "python",
   "pygments_lexer": "ipython2",
   "version": "2.7.6"
  }
 },
 "nbformat": 4,
 "nbformat_minor": 5
}
