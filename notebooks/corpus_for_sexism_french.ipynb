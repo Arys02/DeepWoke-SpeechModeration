{
 "cells": [
  {
   "cell_type": "code",
   "execution_count": 1,
   "id": "initial_id",
   "metadata": {
    "collapsed": true,
    "ExecuteTime": {
     "end_time": "2024-04-16T12:50:41.802146100Z",
     "start_time": "2024-04-16T12:50:41.071954300Z"
    }
   },
   "outputs": [],
   "source": [
    "import pandas as pd"
   ]
  },
  {
   "cell_type": "code",
   "outputs": [],
   "source": [
    "folder_path = '../data/corpus_for_sexism_french/'"
   ],
   "metadata": {
    "collapsed": false,
    "ExecuteTime": {
     "end_time": "2024-04-15T16:56:10.524905100Z",
     "start_time": "2024-04-15T16:56:10.493380800Z"
    }
   },
   "id": "8e250186f10107eb",
   "execution_count": 29
  },
  {
   "cell_type": "code",
   "outputs": [],
   "source": [
    "df = pd.read_csv(f'{folder_path}corpus_SexistContent.csv', sep='\\t', names=['id', 'label'])"
   ],
   "metadata": {
    "collapsed": false,
    "ExecuteTime": {
     "end_time": "2024-04-15T16:56:10.771280800Z",
     "start_time": "2024-04-15T16:56:10.760768300Z"
    }
   },
   "id": "546876ef373ca231",
   "execution_count": 30
  },
  {
   "cell_type": "code",
   "outputs": [
    {
     "data": {
      "text/plain": "                       id  label\n0      327031890622164993      0\n1      330425562201993216      0\n2      326796299179548672      0\n3      334548844731826176      0\n4      332500824150392833      0\n...                   ...    ...\n12269  991769637506486274      1\n12270  991930025955004416      1\n12271  991937217789681664      1\n12272  991948109910507520      1\n12273  992014962582327296      1\n\n[12274 rows x 2 columns]",
      "text/html": "<div>\n<style scoped>\n    .dataframe tbody tr th:only-of-type {\n        vertical-align: middle;\n    }\n\n    .dataframe tbody tr th {\n        vertical-align: top;\n    }\n\n    .dataframe thead th {\n        text-align: right;\n    }\n</style>\n<table border=\"1\" class=\"dataframe\">\n  <thead>\n    <tr style=\"text-align: right;\">\n      <th></th>\n      <th>id</th>\n      <th>label</th>\n    </tr>\n  </thead>\n  <tbody>\n    <tr>\n      <th>0</th>\n      <td>327031890622164993</td>\n      <td>0</td>\n    </tr>\n    <tr>\n      <th>1</th>\n      <td>330425562201993216</td>\n      <td>0</td>\n    </tr>\n    <tr>\n      <th>2</th>\n      <td>326796299179548672</td>\n      <td>0</td>\n    </tr>\n    <tr>\n      <th>3</th>\n      <td>334548844731826176</td>\n      <td>0</td>\n    </tr>\n    <tr>\n      <th>4</th>\n      <td>332500824150392833</td>\n      <td>0</td>\n    </tr>\n    <tr>\n      <th>...</th>\n      <td>...</td>\n      <td>...</td>\n    </tr>\n    <tr>\n      <th>12269</th>\n      <td>991769637506486274</td>\n      <td>1</td>\n    </tr>\n    <tr>\n      <th>12270</th>\n      <td>991930025955004416</td>\n      <td>1</td>\n    </tr>\n    <tr>\n      <th>12271</th>\n      <td>991937217789681664</td>\n      <td>1</td>\n    </tr>\n    <tr>\n      <th>12272</th>\n      <td>991948109910507520</td>\n      <td>1</td>\n    </tr>\n    <tr>\n      <th>12273</th>\n      <td>992014962582327296</td>\n      <td>1</td>\n    </tr>\n  </tbody>\n</table>\n<p>12274 rows × 2 columns</p>\n</div>"
     },
     "execution_count": 31,
     "metadata": {},
     "output_type": "execute_result"
    }
   ],
   "source": [
    "df"
   ],
   "metadata": {
    "collapsed": false,
    "ExecuteTime": {
     "end_time": "2024-04-15T16:56:11.201225200Z",
     "start_time": "2024-04-15T16:56:11.195711300Z"
    }
   },
   "id": "bca74fd79a7575c5",
   "execution_count": 31
  },
  {
   "cell_type": "code",
   "outputs": [],
   "source": [
    "df_id = df['id'].apply(lambda x: 'https://twitter.com/anyuser/status/' + str(x))"
   ],
   "metadata": {
    "collapsed": false,
    "ExecuteTime": {
     "end_time": "2024-04-15T16:56:13.712759400Z",
     "start_time": "2024-04-15T16:56:13.707755Z"
    }
   },
   "id": "135e1ab46e50cb62",
   "execution_count": 32
  },
  {
   "cell_type": "code",
   "outputs": [
    {
     "data": {
      "text/plain": "0        https://twitter.com/anyuser/status/32703189062...\n1        https://twitter.com/anyuser/status/33042556220...\n2        https://twitter.com/anyuser/status/32679629917...\n3        https://twitter.com/anyuser/status/33454884473...\n4        https://twitter.com/anyuser/status/33250082415...\n                               ...                        \n12269    https://twitter.com/anyuser/status/99176963750...\n12270    https://twitter.com/anyuser/status/99193002595...\n12271    https://twitter.com/anyuser/status/99193721778...\n12272    https://twitter.com/anyuser/status/99194810991...\n12273    https://twitter.com/anyuser/status/99201496258...\nName: id, Length: 12274, dtype: object"
     },
     "execution_count": 35,
     "metadata": {},
     "output_type": "execute_result"
    }
   ],
   "source": [
    "df_id"
   ],
   "metadata": {
    "collapsed": false,
    "ExecuteTime": {
     "end_time": "2024-04-15T16:57:19.126185400Z",
     "start_time": "2024-04-15T16:57:19.088957100Z"
    }
   },
   "id": "c46b0685cd70763e",
   "execution_count": 35
  },
  {
   "cell_type": "code",
   "outputs": [],
   "source": [
    "df_id.to_csv(f'{folder_path}corpus_with_link.csv', index=False, header=None)"
   ],
   "metadata": {
    "collapsed": false,
    "ExecuteTime": {
     "end_time": "2024-04-15T17:00:01.640145100Z",
     "start_time": "2024-04-15T17:00:01.607056Z"
    }
   },
   "id": "34d16d30de8d68b5",
   "execution_count": 38
  },
  {
   "cell_type": "code",
   "outputs": [],
   "source": [],
   "metadata": {
    "collapsed": false
   },
   "id": "e3edccdfbc20fa49"
  }
 ],
 "metadata": {
  "kernelspec": {
   "display_name": "Python 3",
   "language": "python",
   "name": "python3"
  },
  "language_info": {
   "codemirror_mode": {
    "name": "ipython",
    "version": 2
   },
   "file_extension": ".py",
   "mimetype": "text/x-python",
   "name": "python",
   "nbconvert_exporter": "python",
   "pygments_lexer": "ipython2",
   "version": "2.7.6"
  }
 },
 "nbformat": 4,
 "nbformat_minor": 5
}
