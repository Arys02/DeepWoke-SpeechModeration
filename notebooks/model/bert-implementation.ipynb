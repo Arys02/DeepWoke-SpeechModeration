{
 "cells": [
  {
   "cell_type": "code",
   "execution_count": 14,
   "id": "initial_id",
   "metadata": {
    "collapsed": true,
    "ExecuteTime": {
     "end_time": "2024-06-02T13:14:02.318573500Z",
     "start_time": "2024-06-02T13:14:01.918493300Z"
    }
   },
   "outputs": [],
   "source": [
    "import keras_nlp\n",
    "from transformers import BertTokenizer\n",
    "import pandas as pd\n",
    "from sklearn.model_selection import train_test_split\n",
    "import tensorflow as tf\n",
    "import tensorflow_hub as hub\n",
    "from official.nlp import optimization\n",
    "import tensorflow_text as text"
   ]
  },
  {
   "cell_type": "code",
   "outputs": [],
   "source": [
    "tokenizer = BertTokenizer.from_pretrained('bert-base-uncased')\n",
    "text_ = \"Preparing data for BERT\"\n",
    "tokens = tokenizer.tokenize(text_)"
   ],
   "metadata": {
    "collapsed": false,
    "ExecuteTime": {
     "end_time": "2024-06-02T12:17:17.825735400Z",
     "start_time": "2024-06-02T12:17:17.407060Z"
    }
   },
   "id": "8e6b2c59808a6daa",
   "execution_count": 2
  },
  {
   "cell_type": "code",
   "outputs": [],
   "source": [
    "input_id = tokenizer.encode(text_, add_special_tokens=True)"
   ],
   "metadata": {
    "collapsed": false,
    "ExecuteTime": {
     "end_time": "2024-06-02T12:17:19.754040700Z",
     "start_time": "2024-06-02T12:17:19.747525500Z"
    }
   },
   "id": "50dd6c8f97f1b584",
   "execution_count": 3
  },
  {
   "cell_type": "code",
   "outputs": [],
   "source": [
    "attention_mask = [1] * len(input_id)"
   ],
   "metadata": {
    "collapsed": false,
    "ExecuteTime": {
     "end_time": "2024-06-02T12:17:19.936072300Z",
     "start_time": "2024-06-02T12:17:19.928557300Z"
    }
   },
   "id": "5e20e43b8626823d",
   "execution_count": 4
  },
  {
   "cell_type": "code",
   "outputs": [
    {
     "data": {
      "text/plain": "[1, 1, 1, 1, 1, 1]"
     },
     "execution_count": 5,
     "metadata": {},
     "output_type": "execute_result"
    }
   ],
   "source": [
    "attention_mask"
   ],
   "metadata": {
    "collapsed": false,
    "ExecuteTime": {
     "end_time": "2024-06-02T12:17:20.161807200Z",
     "start_time": "2024-06-02T12:17:20.150227Z"
    }
   },
   "id": "cf09e932b1d05be",
   "execution_count": 5
  },
  {
   "cell_type": "code",
   "outputs": [],
   "source": [
    "data_folder = '../../data/corpus_for_sexism_french/'"
   ],
   "metadata": {
    "collapsed": false,
    "ExecuteTime": {
     "end_time": "2024-06-02T12:17:21.141186500Z",
     "start_time": "2024-06-02T12:17:21.136508500Z"
    }
   },
   "id": "c08fc198148b8d7e",
   "execution_count": 6
  },
  {
   "cell_type": "code",
   "outputs": [
    {
     "data": {
      "text/plain": "                                              full_text  label\n1           @MamzelleMNa Une très humble femme! #Ironie      0\n2     BLOGUE - «Tsé, la parité homme-femme...» au se...      0\n5     Mise en ligne de mon article sur @PayeTaShnek ...      0\n7     Hommage #journeedelafemme Toute sa vie elle a ...      0\n8     Lustre bois flotté feuilles exotiques bleues a...      0\n...                                                 ...    ...\n9545  [Exclusif] #BalanceTonPorc, transparence, juge...      1\n9547  Eric Monier, directeur de la rédaction de #LCI...      1\n9548  .@annesaurat porte plainte contre son ancien r...      1\n9550  Moïra Sauvage @excisionparlons \"une pensée pou...      1\n9554  @enmarchefr @MarleneSchiappa Je n'arrête pas d...      1\n\n[3194 rows x 2 columns]",
      "text/html": "<div>\n<style scoped>\n    .dataframe tbody tr th:only-of-type {\n        vertical-align: middle;\n    }\n\n    .dataframe tbody tr th {\n        vertical-align: top;\n    }\n\n    .dataframe thead th {\n        text-align: right;\n    }\n</style>\n<table border=\"1\" class=\"dataframe\">\n  <thead>\n    <tr style=\"text-align: right;\">\n      <th></th>\n      <th>full_text</th>\n      <th>label</th>\n    </tr>\n  </thead>\n  <tbody>\n    <tr>\n      <th>1</th>\n      <td>@MamzelleMNa Une très humble femme! #Ironie</td>\n      <td>0</td>\n    </tr>\n    <tr>\n      <th>2</th>\n      <td>BLOGUE - «Tsé, la parité homme-femme...» au se...</td>\n      <td>0</td>\n    </tr>\n    <tr>\n      <th>5</th>\n      <td>Mise en ligne de mon article sur @PayeTaShnek ...</td>\n      <td>0</td>\n    </tr>\n    <tr>\n      <th>7</th>\n      <td>Hommage #journeedelafemme Toute sa vie elle a ...</td>\n      <td>0</td>\n    </tr>\n    <tr>\n      <th>8</th>\n      <td>Lustre bois flotté feuilles exotiques bleues a...</td>\n      <td>0</td>\n    </tr>\n    <tr>\n      <th>...</th>\n      <td>...</td>\n      <td>...</td>\n    </tr>\n    <tr>\n      <th>9545</th>\n      <td>[Exclusif] #BalanceTonPorc, transparence, juge...</td>\n      <td>1</td>\n    </tr>\n    <tr>\n      <th>9547</th>\n      <td>Eric Monier, directeur de la rédaction de #LCI...</td>\n      <td>1</td>\n    </tr>\n    <tr>\n      <th>9548</th>\n      <td>.@annesaurat porte plainte contre son ancien r...</td>\n      <td>1</td>\n    </tr>\n    <tr>\n      <th>9550</th>\n      <td>Moïra Sauvage @excisionparlons \"une pensée pou...</td>\n      <td>1</td>\n    </tr>\n    <tr>\n      <th>9554</th>\n      <td>@enmarchefr @MarleneSchiappa Je n'arrête pas d...</td>\n      <td>1</td>\n    </tr>\n  </tbody>\n</table>\n<p>3194 rows × 2 columns</p>\n</div>"
     },
     "execution_count": 7,
     "metadata": {},
     "output_type": "execute_result"
    }
   ],
   "source": [
    "df = pd.read_csv(f'{data_folder}corpus_with_text_label_final.csv').iloc[:, 1:].dropna()\n",
    "df"
   ],
   "metadata": {
    "collapsed": false,
    "ExecuteTime": {
     "end_time": "2024-06-02T12:17:21.728880100Z",
     "start_time": "2024-06-02T12:17:21.693872700Z"
    }
   },
   "id": "7bbbd113bbc03108",
   "execution_count": 7
  },
  {
   "cell_type": "code",
   "outputs": [],
   "source": [
    "X_train, X_test, y_train, y_test = train_test_split(df['full_text'], df['label'], stratify=df['label'])"
   ],
   "metadata": {
    "collapsed": false,
    "ExecuteTime": {
     "end_time": "2024-06-02T12:17:28.403486300Z",
     "start_time": "2024-06-02T12:17:28.386545500Z"
    }
   },
   "id": "4293146ba071bbc",
   "execution_count": 8
  },
  {
   "cell_type": "code",
   "outputs": [
    {
     "name": "stderr",
     "output_type": "stream",
     "text": [
      "2024-06-02 14:17:36.138256: I external/local_xla/xla/stream_executor/cuda/cuda_executor.cc:984] could not open file to read NUMA node: /sys/bus/pci/devices/0000:01:00.0/numa_node\n",
      "Your kernel may have been built without NUMA support.\n",
      "2024-06-02 14:17:36.377127: W tensorflow/core/common_runtime/gpu/gpu_device.cc:2251] Cannot dlopen some GPU libraries. Please make sure the missing libraries mentioned above are installed properly if you would like to use GPU. Follow the guide at https://www.tensorflow.org/install/gpu for how to download and setup the required libraries for your platform.\n",
      "Skipping registering GPU devices...\n"
     ]
    }
   ],
   "source": [
    "bert_preprocess = hub.KerasLayer('https://tfhub.dev/tensorflow/bert_en_uncased_preprocess/3')\n",
    "bert_encoder = hub.KerasLayer(\"https://tfhub.dev/tensorflow/bert_en_uncased_L-12_H-768_A-12/4\")"
   ],
   "metadata": {
    "collapsed": false,
    "ExecuteTime": {
     "end_time": "2024-06-02T12:18:19.337076700Z",
     "start_time": "2024-06-02T12:17:34.830652900Z"
    }
   },
   "id": "757e82cf74e531c0",
   "execution_count": 9
  },
  {
   "cell_type": "code",
   "outputs": [
    {
     "ename": "ValueError",
     "evalue": "Exception encountered when calling layer 'keras_layer_2' (type KerasLayer).\n\nA KerasTensor is symbolic: it's a placeholder for a shape an a dtype. It doesn't have any actual numerical value. You cannot convert it to a NumPy array.\n\nCall arguments received by layer 'keras_layer_2' (type KerasLayer):\n  • inputs=<KerasTensor shape=(None,), dtype=string, sparse=None, name=text>\n  • training=None",
     "output_type": "error",
     "traceback": [
      "\u001B[0;31m---------------------------------------------------------------------------\u001B[0m",
      "\u001B[0;31mValueError\u001B[0m                                Traceback (most recent call last)",
      "Cell \u001B[0;32mIn[12], line 5\u001B[0m\n\u001B[1;32m      3\u001B[0m \u001B[38;5;66;03m# Bert layers\u001B[39;00m\n\u001B[1;32m      4\u001B[0m text_input \u001B[38;5;241m=\u001B[39m tf\u001B[38;5;241m.\u001B[39mkeras\u001B[38;5;241m.\u001B[39mlayers\u001B[38;5;241m.\u001B[39mInput(shape\u001B[38;5;241m=\u001B[39m(), dtype\u001B[38;5;241m=\u001B[39mtf\u001B[38;5;241m.\u001B[39mstring, name\u001B[38;5;241m=\u001B[39m\u001B[38;5;124m'\u001B[39m\u001B[38;5;124mtext\u001B[39m\u001B[38;5;124m'\u001B[39m)\n\u001B[0;32m----> 5\u001B[0m preprocessed_text \u001B[38;5;241m=\u001B[39m \u001B[43mbert_preprocess\u001B[49m\u001B[43m(\u001B[49m\u001B[43mtext_input\u001B[49m\u001B[43m)\u001B[49m\n\u001B[1;32m      6\u001B[0m outputs \u001B[38;5;241m=\u001B[39m bert_encoder(preprocessed_text)\n\u001B[1;32m      8\u001B[0m \u001B[38;5;66;03m# Neural network layers\u001B[39;00m\n",
      "File \u001B[0;32m~/miniconda3/envs/DEV_IA/lib/python3.10/site-packages/tf_keras/src/utils/traceback_utils.py:70\u001B[0m, in \u001B[0;36mfilter_traceback.<locals>.error_handler\u001B[0;34m(*args, **kwargs)\u001B[0m\n\u001B[1;32m     67\u001B[0m     filtered_tb \u001B[38;5;241m=\u001B[39m _process_traceback_frames(e\u001B[38;5;241m.\u001B[39m__traceback__)\n\u001B[1;32m     68\u001B[0m     \u001B[38;5;66;03m# To get the full stack trace, call:\u001B[39;00m\n\u001B[1;32m     69\u001B[0m     \u001B[38;5;66;03m# `tf.debugging.disable_traceback_filtering()`\u001B[39;00m\n\u001B[0;32m---> 70\u001B[0m     \u001B[38;5;28;01mraise\u001B[39;00m e\u001B[38;5;241m.\u001B[39mwith_traceback(filtered_tb) \u001B[38;5;28;01mfrom\u001B[39;00m \u001B[38;5;28;01mNone\u001B[39;00m\n\u001B[1;32m     71\u001B[0m \u001B[38;5;28;01mfinally\u001B[39;00m:\n\u001B[1;32m     72\u001B[0m     \u001B[38;5;28;01mdel\u001B[39;00m filtered_tb\n",
      "File \u001B[0;32m~/miniconda3/envs/DEV_IA/lib/python3.10/site-packages/tensorflow_hub/keras_layer.py:250\u001B[0m, in \u001B[0;36mKerasLayer.call\u001B[0;34m(self, inputs, training)\u001B[0m\n\u001B[1;32m    247\u001B[0m   \u001B[38;5;28;01melse\u001B[39;00m:\n\u001B[1;32m    248\u001B[0m     \u001B[38;5;66;03m# Behave like BatchNormalization. (Dropout is different, b/181839368.)\u001B[39;00m\n\u001B[1;32m    249\u001B[0m     training \u001B[38;5;241m=\u001B[39m \u001B[38;5;28;01mFalse\u001B[39;00m\n\u001B[0;32m--> 250\u001B[0m   result \u001B[38;5;241m=\u001B[39m \u001B[43msmart_cond\u001B[49m\u001B[38;5;241;43m.\u001B[39;49m\u001B[43msmart_cond\u001B[49m\u001B[43m(\u001B[49m\u001B[43mtraining\u001B[49m\u001B[43m,\u001B[49m\n\u001B[1;32m    251\u001B[0m \u001B[43m                                 \u001B[49m\u001B[38;5;28;43;01mlambda\u001B[39;49;00m\u001B[43m:\u001B[49m\u001B[43m \u001B[49m\u001B[43mf\u001B[49m\u001B[43m(\u001B[49m\u001B[43mtraining\u001B[49m\u001B[38;5;241;43m=\u001B[39;49m\u001B[38;5;28;43;01mTrue\u001B[39;49;00m\u001B[43m)\u001B[49m\u001B[43m,\u001B[49m\n\u001B[1;32m    252\u001B[0m \u001B[43m                                 \u001B[49m\u001B[38;5;28;43;01mlambda\u001B[39;49;00m\u001B[43m:\u001B[49m\u001B[43m \u001B[49m\u001B[43mf\u001B[49m\u001B[43m(\u001B[49m\u001B[43mtraining\u001B[49m\u001B[38;5;241;43m=\u001B[39;49m\u001B[38;5;28;43;01mFalse\u001B[39;49;00m\u001B[43m)\u001B[49m\u001B[43m)\u001B[49m\n\u001B[1;32m    254\u001B[0m \u001B[38;5;66;03m# Unwrap dicts returned by signatures.\u001B[39;00m\n\u001B[1;32m    255\u001B[0m \u001B[38;5;28;01mif\u001B[39;00m \u001B[38;5;28mself\u001B[39m\u001B[38;5;241m.\u001B[39m_output_key:\n",
      "File \u001B[0;32m~/miniconda3/envs/DEV_IA/lib/python3.10/site-packages/tensorflow_hub/keras_layer.py:252\u001B[0m, in \u001B[0;36mKerasLayer.call.<locals>.<lambda>\u001B[0;34m()\u001B[0m\n\u001B[1;32m    247\u001B[0m   \u001B[38;5;28;01melse\u001B[39;00m:\n\u001B[1;32m    248\u001B[0m     \u001B[38;5;66;03m# Behave like BatchNormalization. (Dropout is different, b/181839368.)\u001B[39;00m\n\u001B[1;32m    249\u001B[0m     training \u001B[38;5;241m=\u001B[39m \u001B[38;5;28;01mFalse\u001B[39;00m\n\u001B[1;32m    250\u001B[0m   result \u001B[38;5;241m=\u001B[39m smart_cond\u001B[38;5;241m.\u001B[39msmart_cond(training,\n\u001B[1;32m    251\u001B[0m                                  \u001B[38;5;28;01mlambda\u001B[39;00m: f(training\u001B[38;5;241m=\u001B[39m\u001B[38;5;28;01mTrue\u001B[39;00m),\n\u001B[0;32m--> 252\u001B[0m                                  \u001B[38;5;28;01mlambda\u001B[39;00m: \u001B[43mf\u001B[49m\u001B[43m(\u001B[49m\u001B[43mtraining\u001B[49m\u001B[38;5;241;43m=\u001B[39;49m\u001B[38;5;28;43;01mFalse\u001B[39;49;00m\u001B[43m)\u001B[49m)\n\u001B[1;32m    254\u001B[0m \u001B[38;5;66;03m# Unwrap dicts returned by signatures.\u001B[39;00m\n\u001B[1;32m    255\u001B[0m \u001B[38;5;28;01mif\u001B[39;00m \u001B[38;5;28mself\u001B[39m\u001B[38;5;241m.\u001B[39m_output_key:\n",
      "File \u001B[0;32m~/miniconda3/envs/DEV_IA/lib/python3.10/site-packages/tensorflow/core/function/polymorphism/function_type.py:583\u001B[0m, in \u001B[0;36mcanonicalize_to_monomorphic\u001B[0;34m(args, kwargs, default_values, capture_types, polymorphic_type)\u001B[0m\n\u001B[1;32m    577\u001B[0m       parameters\u001B[38;5;241m.\u001B[39mappend(\n\u001B[1;32m    578\u001B[0m           _make_validated_mono_param(kwarg_name, arg[kwarg_name],\n\u001B[1;32m    579\u001B[0m                                      Parameter\u001B[38;5;241m.\u001B[39mKEYWORD_ONLY, type_context,\n\u001B[1;32m    580\u001B[0m                                      poly_parameter\u001B[38;5;241m.\u001B[39mtype_constraint))\n\u001B[1;32m    581\u001B[0m   \u001B[38;5;28;01melse\u001B[39;00m:\n\u001B[1;32m    582\u001B[0m     parameters\u001B[38;5;241m.\u001B[39mappend(\n\u001B[0;32m--> 583\u001B[0m         \u001B[43m_make_validated_mono_param\u001B[49m\u001B[43m(\u001B[49m\u001B[43mname\u001B[49m\u001B[43m,\u001B[49m\u001B[43m \u001B[49m\u001B[43marg\u001B[49m\u001B[43m,\u001B[49m\u001B[43m \u001B[49m\u001B[43mpoly_parameter\u001B[49m\u001B[38;5;241;43m.\u001B[39;49m\u001B[43mkind\u001B[49m\u001B[43m,\u001B[49m\n\u001B[1;32m    584\u001B[0m \u001B[43m                                   \u001B[49m\u001B[43mtype_context\u001B[49m\u001B[43m,\u001B[49m\n\u001B[1;32m    585\u001B[0m \u001B[43m                                   \u001B[49m\u001B[43mpoly_parameter\u001B[49m\u001B[38;5;241;43m.\u001B[39;49m\u001B[43mtype_constraint\u001B[49m\u001B[43m)\u001B[49m)\n\u001B[1;32m    587\u001B[0m \u001B[38;5;28;01mreturn\u001B[39;00m FunctionType(parameters, capture_types), type_context\n",
      "File \u001B[0;32m~/miniconda3/envs/DEV_IA/lib/python3.10/site-packages/tensorflow/core/function/polymorphism/function_type.py:522\u001B[0m, in \u001B[0;36m_make_validated_mono_param\u001B[0;34m(name, value, kind, type_context, poly_type)\u001B[0m\n\u001B[1;32m    518\u001B[0m \u001B[38;5;28;01mdef\u001B[39;00m \u001B[38;5;21m_make_validated_mono_param\u001B[39m(\n\u001B[1;32m    519\u001B[0m     name, value, kind, type_context, poly_type\n\u001B[1;32m    520\u001B[0m ) \u001B[38;5;241m-\u001B[39m\u001B[38;5;241m>\u001B[39m Parameter:\n\u001B[1;32m    521\u001B[0m \u001B[38;5;250m  \u001B[39m\u001B[38;5;124;03m\"\"\"Generates and validates a parameter for Monomorphic FunctionType.\"\"\"\u001B[39;00m\n\u001B[0;32m--> 522\u001B[0m   mono_type \u001B[38;5;241m=\u001B[39m \u001B[43mtrace_type\u001B[49m\u001B[38;5;241;43m.\u001B[39;49m\u001B[43mfrom_value\u001B[49m\u001B[43m(\u001B[49m\u001B[43mvalue\u001B[49m\u001B[43m,\u001B[49m\u001B[43m \u001B[49m\u001B[43mtype_context\u001B[49m\u001B[43m)\u001B[49m\n\u001B[1;32m    524\u001B[0m   \u001B[38;5;28;01mif\u001B[39;00m poly_type \u001B[38;5;129;01mand\u001B[39;00m \u001B[38;5;129;01mnot\u001B[39;00m mono_type\u001B[38;5;241m.\u001B[39mis_subtype_of(poly_type):\n\u001B[1;32m    525\u001B[0m     \u001B[38;5;28;01mraise\u001B[39;00m \u001B[38;5;167;01mTypeError\u001B[39;00m(\u001B[38;5;124mf\u001B[39m\u001B[38;5;124m\"\u001B[39m\u001B[38;5;124mParameter `\u001B[39m\u001B[38;5;132;01m{\u001B[39;00mname\u001B[38;5;132;01m}\u001B[39;00m\u001B[38;5;124m` was expected to be of type \u001B[39m\u001B[38;5;124m\"\u001B[39m\n\u001B[1;32m    526\u001B[0m                     \u001B[38;5;124mf\u001B[39m\u001B[38;5;124m\"\u001B[39m\u001B[38;5;132;01m{\u001B[39;00mpoly_type\u001B[38;5;132;01m}\u001B[39;00m\u001B[38;5;124m but is \u001B[39m\u001B[38;5;132;01m{\u001B[39;00mmono_type\u001B[38;5;132;01m}\u001B[39;00m\u001B[38;5;124m\"\u001B[39m)\n",
      "File \u001B[0;32m~/miniconda3/envs/DEV_IA/lib/python3.10/site-packages/tensorflow/core/function/trace_type/trace_type_builder.py:185\u001B[0m, in \u001B[0;36mfrom_value\u001B[0;34m(value, context)\u001B[0m\n\u001B[1;32m    178\u001B[0m   \u001B[38;5;28;01mreturn\u001B[39;00m default_types\u001B[38;5;241m.\u001B[39mAttrs\u001B[38;5;241m.\u001B[39mfrom_type_and_attributes(\n\u001B[1;32m    179\u001B[0m       \u001B[38;5;28mtype\u001B[39m(value),\n\u001B[1;32m    180\u001B[0m       \u001B[38;5;28mtuple\u001B[39m(\n\u001B[1;32m    181\u001B[0m           from_value(\u001B[38;5;28mgetattr\u001B[39m(value, a\u001B[38;5;241m.\u001B[39mname), context)\n\u001B[1;32m    182\u001B[0m           \u001B[38;5;28;01mfor\u001B[39;00m a \u001B[38;5;129;01min\u001B[39;00m value\u001B[38;5;241m.\u001B[39m__attrs_attrs__))\n\u001B[1;32m    184\u001B[0m \u001B[38;5;28;01mif\u001B[39;00m util\u001B[38;5;241m.\u001B[39mis_np_ndarray(value):\n\u001B[0;32m--> 185\u001B[0m   ndarray \u001B[38;5;241m=\u001B[39m \u001B[43mvalue\u001B[49m\u001B[38;5;241;43m.\u001B[39;49m\u001B[43m__array__\u001B[49m\u001B[43m(\u001B[49m\u001B[43m)\u001B[49m\n\u001B[1;32m    186\u001B[0m   \u001B[38;5;28;01mreturn\u001B[39;00m default_types\u001B[38;5;241m.\u001B[39mTENSOR(ndarray\u001B[38;5;241m.\u001B[39mshape, ndarray\u001B[38;5;241m.\u001B[39mdtype)\n\u001B[1;32m    188\u001B[0m \u001B[38;5;28;01mif\u001B[39;00m \u001B[38;5;28misinstance\u001B[39m(value, custom_nest_protocol\u001B[38;5;241m.\u001B[39mCustomNestProtocol):\n",
      "File \u001B[0;32m~/miniconda3/envs/DEV_IA/lib/python3.10/site-packages/keras/src/backend/common/keras_tensor.py:61\u001B[0m, in \u001B[0;36mKerasTensor.__array__\u001B[0;34m(self)\u001B[0m\n\u001B[1;32m     60\u001B[0m \u001B[38;5;28;01mdef\u001B[39;00m \u001B[38;5;21m__array__\u001B[39m(\u001B[38;5;28mself\u001B[39m):\n\u001B[0;32m---> 61\u001B[0m     \u001B[38;5;28;01mraise\u001B[39;00m \u001B[38;5;167;01mValueError\u001B[39;00m(\n\u001B[1;32m     62\u001B[0m         \u001B[38;5;124m\"\u001B[39m\u001B[38;5;124mA KerasTensor is symbolic: it\u001B[39m\u001B[38;5;124m'\u001B[39m\u001B[38;5;124ms a placeholder for a shape \u001B[39m\u001B[38;5;124m\"\u001B[39m\n\u001B[1;32m     63\u001B[0m         \u001B[38;5;124m\"\u001B[39m\u001B[38;5;124man a dtype. It doesn\u001B[39m\u001B[38;5;124m'\u001B[39m\u001B[38;5;124mt have any actual numerical value. \u001B[39m\u001B[38;5;124m\"\u001B[39m\n\u001B[1;32m     64\u001B[0m         \u001B[38;5;124m\"\u001B[39m\u001B[38;5;124mYou cannot convert it to a NumPy array.\u001B[39m\u001B[38;5;124m\"\u001B[39m\n\u001B[1;32m     65\u001B[0m     )\n",
      "\u001B[0;31mValueError\u001B[0m: Exception encountered when calling layer 'keras_layer_2' (type KerasLayer).\n\nA KerasTensor is symbolic: it's a placeholder for a shape an a dtype. It doesn't have any actual numerical value. You cannot convert it to a NumPy array.\n\nCall arguments received by layer 'keras_layer_2' (type KerasLayer):\n  • inputs=<KerasTensor shape=(None,), dtype=string, sparse=None, name=text>\n  • training=None"
     ]
    }
   ],
   "source": [
    "bert_preprocess = hub.KerasLayer(\"https://tfhub.dev/tensorflow/bert_en_uncased_preprocess/3\")\n",
    "bert_encoder = hub.KerasLayer(\"https://tfhub.dev/tensorflow/bert_en_uncased_L-12_H-768_A-12/4\")\n",
    "# Bert layers\n",
    "text_input = tf.keras.layers.Input(shape=(), dtype=tf.string, name='text')\n",
    "preprocessed_text = bert_preprocess(text_input)\n",
    "outputs = bert_encoder(preprocessed_text)\n",
    "\n",
    "# Neural network layers\n",
    "l = tf.keras.layers.Dropout(0.1, name=\"dropout\")(outputs['pooled_output'])\n",
    "l = tf.keras.layers.Dense(1, activation='sigmoid', name=\"output\")(l)\n",
    "\n",
    "# Use inputs and outputs to construct a final model\n",
    "#model = tf.keras.Model(inputs=[text_input], outputs = [l])\n",
    "#model.fit(X_train, y_train, epochs=10)\n"
   ],
   "metadata": {
    "collapsed": false,
    "ExecuteTime": {
     "end_time": "2024-06-02T12:27:34.615028800Z",
     "start_time": "2024-06-02T12:27:28.289944700Z"
    }
   },
   "id": "b17b9f118ad7c374",
   "execution_count": 12
  },
  {
   "cell_type": "code",
   "outputs": [
    {
     "name": "stderr",
     "output_type": "stream",
     "text": [
      "Downloading from https://www.kaggle.com/api/v1/models/keras/bert/keras/bert_small_en_uncased/2/download/preprocessor.json...\n"
     ]
    },
    {
     "name": "stdout",
     "output_type": "stream",
     "text": [
      "Epoch 1/10\n"
     ]
    },
    {
     "name": "stderr",
     "output_type": "stream",
     "text": [
      "/home/arys/miniconda3/envs/DEV_IA/lib/python3.10/site-packages/keras/src/backend/tensorflow/nn.py:674: UserWarning: \"`binary_crossentropy` received `from_logits=True`, but the `output` argument was produced by a Sigmoid activation and thus does not represent logits. Was this intended?\n",
      "  output, from_logits = _get_logits(\n"
     ]
    },
    {
     "name": "stdout",
     "output_type": "stream",
     "text": [
      "\u001B[1m75/75\u001B[0m \u001B[32m━━━━━━━━━━━━━━━━━━━━\u001B[0m\u001B[37m\u001B[0m \u001B[1m962s\u001B[0m 13s/step - loss: 0.7882\n",
      "Epoch 2/10\n",
      "\u001B[1m75/75\u001B[0m \u001B[32m━━━━━━━━━━━━━━━━━━━━\u001B[0m\u001B[37m\u001B[0m \u001B[1m942s\u001B[0m 13s/step - loss: 0.4107\n",
      "Epoch 3/10\n",
      "\u001B[1m75/75\u001B[0m \u001B[32m━━━━━━━━━━━━━━━━━━━━\u001B[0m\u001B[37m\u001B[0m \u001B[1m926s\u001B[0m 12s/step - loss: 0.4108\n",
      "Epoch 4/10\n",
      "\u001B[1m72/75\u001B[0m \u001B[32m━━━━━━━━━━━━━━━━━━━\u001B[0m\u001B[37m━\u001B[0m \u001B[1m37s\u001B[0m 12s/step - loss: 0.4206"
     ]
    }
   ],
   "source": [
    "text_input = tf.keras.layers.Input(shape=(), dtype=tf.string, name='text')\n",
    "preprocessor = keras_nlp.models.BertPreprocessor.from_preset(\"bert_small_en_uncased\",trainable=True)\n",
    "encoder_inputs = preprocessor(text_input)\n",
    "encoder = keras_nlp.models.BertBackbone.from_preset(\"bert_small_en_uncased\")\n",
    "outputs = encoder(encoder_inputs)\n",
    "\n",
    "l = tf.keras.layers.Dropout(0.1, name=\"dropout\")(outputs['pooled_output'])\n",
    "l = tf.keras.layers.Dense(1, activation='sigmoid', name=\"output\")(l)\n",
    "\n",
    "model = tf.keras.Model(inputs=[text_input], outputs = [l])\n",
    "\n",
    "loss = tf.keras.losses.BinaryCrossentropy(from_logits=True)\n",
    "metrics = tf.metrics.BinaryAccuracy()\n",
    "\n",
    "model.compile(loss=loss)\n",
    "model.fit(X_train, y_train, epochs=10)"
   ],
   "metadata": {
    "collapsed": false,
    "is_executing": true,
    "ExecuteTime": {
     "start_time": "2024-06-02T13:19:45.205954Z"
    }
   },
   "id": "8fd7cb3696b69539",
   "execution_count": null
  },
  {
   "cell_type": "code",
   "outputs": [],
   "source": [],
   "metadata": {
    "collapsed": false
   },
   "id": "a86b7a919412b9a9"
  }
 ],
 "metadata": {
  "kernelspec": {
   "display_name": "Python 3",
   "language": "python",
   "name": "python3"
  },
  "language_info": {
   "codemirror_mode": {
    "name": "ipython",
    "version": 2
   },
   "file_extension": ".py",
   "mimetype": "text/x-python",
   "name": "python",
   "nbconvert_exporter": "python",
   "pygments_lexer": "ipython2",
   "version": "2.7.6"
  }
 },
 "nbformat": 4,
 "nbformat_minor": 5
}
