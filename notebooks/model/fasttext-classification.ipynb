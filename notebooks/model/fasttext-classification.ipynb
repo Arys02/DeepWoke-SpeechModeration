{
 "cells": [
  {
   "cell_type": "code",
   "execution_count": 5,
   "id": "initial_id",
   "metadata": {
    "collapsed": true,
    "ExecuteTime": {
     "end_time": "2024-06-11T10:22:29.464476700Z",
     "start_time": "2024-06-11T10:22:29.433271500Z"
    }
   },
   "outputs": [],
   "source": [
    "import datetime\n",
    "\n",
    "import fasttext\n",
    "import keras_core as keras\n",
    "import numpy as np\n",
    "import pandas as pd\n",
    "from keras_core import Sequential\n",
    "from keras_core.src.layers import Dense\n",
    "from sklearn.model_selection import train_test_split"
   ]
  },
  {
   "cell_type": "markdown",
   "source": [
    "## import fastTest model"
   ],
   "metadata": {
    "collapsed": false
   },
   "id": "3d946bd3803cbf47"
  },
  {
   "cell_type": "code",
   "outputs": [],
   "source": [
    "ft = fasttext.load_model('../../embedding/embedding_data/cc.fr.300.bin')"
   ],
   "metadata": {
    "collapsed": false,
    "ExecuteTime": {
     "end_time": "2024-06-11T10:21:18.128030700Z",
     "start_time": "2024-06-11T10:21:18.117973800Z"
    }
   },
   "id": "581097380ddb6dcb",
   "execution_count": 3
  },
  {
   "cell_type": "markdown",
   "source": [
    "## Configurations"
   ],
   "metadata": {
    "collapsed": false
   },
   "id": "18856c657e08494f"
  },
  {
   "cell_type": "code",
   "outputs": [],
   "source": [
    "data_folder_src = '../../data/corpus_for_sexism_french/'\n",
    "data_path_src = f'{data_folder_src}corpus_with_text_label_final.csv'\n",
    "\n",
    "date_str = datetime.datetime.now().strftime(\"%Y%m%d-%H%M%S\")\n",
    "log_dir = f\"../../log/fit/fasttext_nlp_{date_str}\"\n",
    "\n",
    "model_weight_dst = f'../../model_weights/fasttext_nlp_{date_str}-model.weight'"
   ],
   "metadata": {
    "collapsed": false,
    "ExecuteTime": {
     "end_time": "2024-06-11T10:26:57.853896500Z",
     "start_time": "2024-06-11T10:26:57.824941700Z"
    }
   },
   "id": "d220a1d10493404e",
   "execution_count": 8
  },
  {
   "cell_type": "markdown",
   "source": [
    "## loading dataset"
   ],
   "metadata": {
    "collapsed": false
   },
   "id": "5d4209390b020a7"
  },
  {
   "cell_type": "code",
   "outputs": [
    {
     "data": {
      "text/plain": "                                              full_text  label\n1           @MamzelleMNa Une très humble femme! #Ironie      0\n2     BLOGUE - «Tsé, la parité homme-femme...» au se...      0\n5     Mise en ligne de mon article sur @PayeTaShnek ...      0\n7     Hommage #journeedelafemme Toute sa vie elle a ...      0\n8     Lustre bois flotté feuilles exotiques bleues a...      0\n...                                                 ...    ...\n9545  [Exclusif] #BalanceTonPorc, transparence, juge...      1\n9547  Eric Monier, directeur de la rédaction de #LCI...      1\n9548  .@annesaurat porte plainte contre son ancien r...      1\n9550  Moïra Sauvage @excisionparlons \"une pensée pou...      1\n9554  @enmarchefr @MarleneSchiappa Je n'arrête pas d...      1\n\n[3194 rows x 2 columns]",
      "text/html": "<div>\n<style scoped>\n    .dataframe tbody tr th:only-of-type {\n        vertical-align: middle;\n    }\n\n    .dataframe tbody tr th {\n        vertical-align: top;\n    }\n\n    .dataframe thead th {\n        text-align: right;\n    }\n</style>\n<table border=\"1\" class=\"dataframe\">\n  <thead>\n    <tr style=\"text-align: right;\">\n      <th></th>\n      <th>full_text</th>\n      <th>label</th>\n    </tr>\n  </thead>\n  <tbody>\n    <tr>\n      <th>1</th>\n      <td>@MamzelleMNa Une très humble femme! #Ironie</td>\n      <td>0</td>\n    </tr>\n    <tr>\n      <th>2</th>\n      <td>BLOGUE - «Tsé, la parité homme-femme...» au se...</td>\n      <td>0</td>\n    </tr>\n    <tr>\n      <th>5</th>\n      <td>Mise en ligne de mon article sur @PayeTaShnek ...</td>\n      <td>0</td>\n    </tr>\n    <tr>\n      <th>7</th>\n      <td>Hommage #journeedelafemme Toute sa vie elle a ...</td>\n      <td>0</td>\n    </tr>\n    <tr>\n      <th>8</th>\n      <td>Lustre bois flotté feuilles exotiques bleues a...</td>\n      <td>0</td>\n    </tr>\n    <tr>\n      <th>...</th>\n      <td>...</td>\n      <td>...</td>\n    </tr>\n    <tr>\n      <th>9545</th>\n      <td>[Exclusif] #BalanceTonPorc, transparence, juge...</td>\n      <td>1</td>\n    </tr>\n    <tr>\n      <th>9547</th>\n      <td>Eric Monier, directeur de la rédaction de #LCI...</td>\n      <td>1</td>\n    </tr>\n    <tr>\n      <th>9548</th>\n      <td>.@annesaurat porte plainte contre son ancien r...</td>\n      <td>1</td>\n    </tr>\n    <tr>\n      <th>9550</th>\n      <td>Moïra Sauvage @excisionparlons \"une pensée pou...</td>\n      <td>1</td>\n    </tr>\n    <tr>\n      <th>9554</th>\n      <td>@enmarchefr @MarleneSchiappa Je n'arrête pas d...</td>\n      <td>1</td>\n    </tr>\n  </tbody>\n</table>\n<p>3194 rows × 2 columns</p>\n</div>"
     },
     "execution_count": 9,
     "metadata": {},
     "output_type": "execute_result"
    }
   ],
   "source": [
    "\n",
    "ds = pd.read_csv(data_path_src).iloc[:, 1:].dropna()\n",
    "ds"
   ],
   "metadata": {
    "collapsed": false,
    "ExecuteTime": {
     "end_time": "2024-06-11T10:27:46.107572800Z",
     "start_time": "2024-06-11T10:27:45.913843500Z"
    }
   },
   "id": "cda597a675bb1ba2",
   "execution_count": 9
  },
  {
   "cell_type": "markdown",
   "source": [
    "## text to vector"
   ],
   "metadata": {
    "collapsed": false
   },
   "id": "b14d86b3a33f2e60"
  },
  {
   "cell_type": "code",
   "outputs": [],
   "source": [
    "def text_to_vector(text):\n",
    "    words = text.split(' ')\n",
    "    word_vectors = [ft.get_word_vector(word) for word in words if word in ft.words]\n",
    "    if not word_vectors:\n",
    "        return np.zeros(300)\n",
    "    return np.mean(word_vectors, axis=0)"
   ],
   "metadata": {
    "collapsed": false,
    "ExecuteTime": {
     "end_time": "2024-06-11T10:27:52.623669700Z",
     "start_time": "2024-06-11T10:27:52.620153100Z"
    }
   },
   "id": "4811628c43744431",
   "execution_count": 10
  },
  {
   "cell_type": "code",
   "outputs": [],
   "source": [
    "ds['vector'] = ds['full_text'].apply(text_to_vector)\n",
    "\n",
    "X = np.vstack(ds['vector'])\n",
    "y = ds['label'].values"
   ],
   "metadata": {
    "collapsed": false,
    "ExecuteTime": {
     "end_time": "2024-06-11T10:34:15.788072900Z",
     "start_time": "2024-06-11T10:27:59.027650200Z"
    }
   },
   "id": "c3d1584635aab387",
   "execution_count": 11
  },
  {
   "cell_type": "markdown",
   "source": [
    "## building and training the model"
   ],
   "metadata": {
    "collapsed": false
   },
   "id": "7b718cecf9585fb1"
  },
  {
   "cell_type": "code",
   "outputs": [],
   "source": [
    "experiment_name = 'deep_woke_fasttext_classification_mlp'"
   ],
   "metadata": {
    "collapsed": false,
    "ExecuteTime": {
     "end_time": "2024-06-07T13:31:27.197113700Z",
     "start_time": "2024-06-07T13:31:27.169548400Z"
    }
   },
   "id": "bbbe648ae37c648e",
   "execution_count": 28
  },
  {
   "cell_type": "markdown",
   "source": [
    "### callbacks"
   ],
   "metadata": {
    "collapsed": false
   },
   "id": "5c8ac62597164bde"
  },
  {
   "cell_type": "code",
   "outputs": [],
   "source": [
    "early_stopping = keras.callbacks.EarlyStopping(\n",
    "    patience=5,\n",
    "    min_delta=0.001,\n",
    "    restore_best_weights=True,\n",
    "    monitor='loss'\n",
    ")\n"
   ],
   "metadata": {
    "collapsed": false,
    "ExecuteTime": {
     "end_time": "2024-06-07T13:31:29.535274700Z",
     "start_time": "2024-06-07T13:31:29.528246700Z"
    }
   },
   "id": "336209aae383296f",
   "execution_count": 29
  },
  {
   "cell_type": "code",
   "outputs": [],
   "source": [
    "tensorboard_callback = keras.callbacks.TensorBoard(log_dir=log_dir, histogram_freq=1)"
   ],
   "metadata": {
    "collapsed": false,
    "ExecuteTime": {
     "end_time": "2024-06-07T13:33:14.034442600Z",
     "start_time": "2024-06-07T13:33:14.004530500Z"
    }
   },
   "id": "7ec43b4117399510",
   "execution_count": 32
  },
  {
   "cell_type": "markdown",
   "source": [
    "### training the model"
   ],
   "metadata": {
    "collapsed": false
   },
   "id": "9dec354f696f24a9"
  },
  {
   "cell_type": "code",
   "outputs": [
    {
     "name": "stdout",
     "output_type": "stream",
     "text": [
      "Epoch 1/500\n",
      "\u001B[1m26/26\u001B[0m \u001B[32m━━━━━━━━━━━━━━━━━━━━\u001B[0m\u001B[37m\u001B[0m \u001B[1m1s\u001B[0m 21ms/step - accuracy: 0.7170 - loss: 0.6142 - val_accuracy: 0.8812 - val_loss: 0.3760\n",
      "Epoch 2/500\n",
      "\u001B[1m26/26\u001B[0m \u001B[32m━━━━━━━━━━━━━━━━━━━━\u001B[0m\u001B[37m\u001B[0m \u001B[1m0s\u001B[0m 6ms/step - accuracy: 0.8428 - loss: 0.4463 - val_accuracy: 0.8812 - val_loss: 0.3550\n",
      "Epoch 3/500\n",
      "\u001B[1m26/26\u001B[0m \u001B[32m━━━━━━━━━━━━━━━━━━━━\u001B[0m\u001B[37m\u001B[0m \u001B[1m0s\u001B[0m 6ms/step - accuracy: 0.8593 - loss: 0.3856 - val_accuracy: 0.8812 - val_loss: 0.3478\n",
      "Epoch 4/500\n",
      "\u001B[1m26/26\u001B[0m \u001B[32m━━━━━━━━━━━━━━━━━━━━\u001B[0m\u001B[37m\u001B[0m \u001B[1m0s\u001B[0m 5ms/step - accuracy: 0.8502 - loss: 0.3874 - val_accuracy: 0.8812 - val_loss: 0.3363\n",
      "Epoch 5/500\n",
      "\u001B[1m26/26\u001B[0m \u001B[32m━━━━━━━━━━━━━━━━━━━━\u001B[0m\u001B[37m\u001B[0m \u001B[1m0s\u001B[0m 6ms/step - accuracy: 0.8505 - loss: 0.3772 - val_accuracy: 0.8812 - val_loss: 0.3318\n",
      "Epoch 6/500\n",
      "\u001B[1m26/26\u001B[0m \u001B[32m━━━━━━━━━━━━━━━━━━━━\u001B[0m\u001B[37m\u001B[0m \u001B[1m0s\u001B[0m 6ms/step - accuracy: 0.8554 - loss: 0.3643 - val_accuracy: 0.8812 - val_loss: 0.3289\n",
      "Epoch 7/500\n",
      "\u001B[1m26/26\u001B[0m \u001B[32m━━━━━━━━━━━━━━━━━━━━\u001B[0m\u001B[37m\u001B[0m \u001B[1m0s\u001B[0m 6ms/step - accuracy: 0.8597 - loss: 0.3522 - val_accuracy: 0.8812 - val_loss: 0.3263\n",
      "Epoch 8/500\n",
      "\u001B[1m26/26\u001B[0m \u001B[32m━━━━━━━━━━━━━━━━━━━━\u001B[0m\u001B[37m\u001B[0m \u001B[1m0s\u001B[0m 5ms/step - accuracy: 0.8708 - loss: 0.3225 - val_accuracy: 0.8812 - val_loss: 0.3233\n",
      "Epoch 9/500\n",
      "\u001B[1m26/26\u001B[0m \u001B[32m━━━━━━━━━━━━━━━━━━━━\u001B[0m\u001B[37m\u001B[0m \u001B[1m0s\u001B[0m 5ms/step - accuracy: 0.8502 - loss: 0.3560 - val_accuracy: 0.8827 - val_loss: 0.3217\n",
      "Epoch 10/500\n",
      "\u001B[1m26/26\u001B[0m \u001B[32m━━━━━━━━━━━━━━━━━━━━\u001B[0m\u001B[37m\u001B[0m \u001B[1m0s\u001B[0m 6ms/step - accuracy: 0.8657 - loss: 0.3220 - val_accuracy: 0.8841 - val_loss: 0.3217\n",
      "Epoch 11/500\n",
      "\u001B[1m26/26\u001B[0m \u001B[32m━━━━━━━━━━━━━━━━━━━━\u001B[0m\u001B[37m\u001B[0m \u001B[1m0s\u001B[0m 6ms/step - accuracy: 0.8640 - loss: 0.3172 - val_accuracy: 0.8841 - val_loss: 0.3202\n",
      "Epoch 12/500\n",
      "\u001B[1m26/26\u001B[0m \u001B[32m━━━━━━━━━━━━━━━━━━━━\u001B[0m\u001B[37m\u001B[0m \u001B[1m0s\u001B[0m 7ms/step - accuracy: 0.8663 - loss: 0.3028 - val_accuracy: 0.8827 - val_loss: 0.3225\n",
      "Epoch 13/500\n",
      "\u001B[1m26/26\u001B[0m \u001B[32m━━━━━━━━━━━━━━━━━━━━\u001B[0m\u001B[37m\u001B[0m \u001B[1m0s\u001B[0m 6ms/step - accuracy: 0.8593 - loss: 0.3102 - val_accuracy: 0.8798 - val_loss: 0.3224\n",
      "Epoch 14/500\n",
      "\u001B[1m26/26\u001B[0m \u001B[32m━━━━━━━━━━━━━━━━━━━━\u001B[0m\u001B[37m\u001B[0m \u001B[1m0s\u001B[0m 6ms/step - accuracy: 0.8651 - loss: 0.3116 - val_accuracy: 0.8741 - val_loss: 0.3266\n",
      "Epoch 15/500\n",
      "\u001B[1m26/26\u001B[0m \u001B[32m━━━━━━━━━━━━━━━━━━━━\u001B[0m\u001B[37m\u001B[0m \u001B[1m0s\u001B[0m 5ms/step - accuracy: 0.8703 - loss: 0.2899 - val_accuracy: 0.8798 - val_loss: 0.3290\n",
      "Epoch 16/500\n",
      "\u001B[1m26/26\u001B[0m \u001B[32m━━━━━━━━━━━━━━━━━━━━\u001B[0m\u001B[37m\u001B[0m \u001B[1m0s\u001B[0m 5ms/step - accuracy: 0.8681 - loss: 0.2782 - val_accuracy: 0.8784 - val_loss: 0.3308\n",
      "Epoch 17/500\n",
      "\u001B[1m26/26\u001B[0m \u001B[32m━━━━━━━━━━━━━━━━━━━━\u001B[0m\u001B[37m\u001B[0m \u001B[1m0s\u001B[0m 6ms/step - accuracy: 0.8856 - loss: 0.2610 - val_accuracy: 0.8547 - val_loss: 0.3354\n",
      "Epoch 18/500\n",
      "\u001B[1m26/26\u001B[0m \u001B[32m━━━━━━━━━━━━━━━━━━━━\u001B[0m\u001B[37m\u001B[0m \u001B[1m0s\u001B[0m 6ms/step - accuracy: 0.8898 - loss: 0.2573 - val_accuracy: 0.8647 - val_loss: 0.3322\n",
      "Epoch 19/500\n",
      "\u001B[1m26/26\u001B[0m \u001B[32m━━━━━━━━━━━━━━━━━━━━\u001B[0m\u001B[37m\u001B[0m \u001B[1m0s\u001B[0m 5ms/step - accuracy: 0.8875 - loss: 0.2552 - val_accuracy: 0.8712 - val_loss: 0.3424\n",
      "Epoch 20/500\n",
      "\u001B[1m26/26\u001B[0m \u001B[32m━━━━━━━━━━━━━━━━━━━━\u001B[0m\u001B[37m\u001B[0m \u001B[1m0s\u001B[0m 6ms/step - accuracy: 0.9009 - loss: 0.2417 - val_accuracy: 0.8619 - val_loss: 0.3403\n",
      "Epoch 21/500\n",
      "\u001B[1m26/26\u001B[0m \u001B[32m━━━━━━━━━━━━━━━━━━━━\u001B[0m\u001B[37m\u001B[0m \u001B[1m0s\u001B[0m 6ms/step - accuracy: 0.9077 - loss: 0.2148 - val_accuracy: 0.8539 - val_loss: 0.3469\n",
      "Epoch 22/500\n",
      "\u001B[1m26/26\u001B[0m \u001B[32m━━━━━━━━━━━━━━━━━━━━\u001B[0m\u001B[37m\u001B[0m \u001B[1m0s\u001B[0m 6ms/step - accuracy: 0.9137 - loss: 0.2182 - val_accuracy: 0.8553 - val_loss: 0.3641\n",
      "Epoch 23/500\n",
      "\u001B[1m26/26\u001B[0m \u001B[32m━━━━━━━━━━━━━━━━━━━━\u001B[0m\u001B[37m\u001B[0m \u001B[1m0s\u001B[0m 6ms/step - accuracy: 0.9118 - loss: 0.2010 - val_accuracy: 0.8488 - val_loss: 0.3631\n",
      "Epoch 24/500\n",
      "\u001B[1m26/26\u001B[0m \u001B[32m━━━━━━━━━━━━━━━━━━━━\u001B[0m\u001B[37m\u001B[0m \u001B[1m0s\u001B[0m 6ms/step - accuracy: 0.9196 - loss: 0.1913 - val_accuracy: 0.8431 - val_loss: 0.3737\n",
      "Epoch 25/500\n",
      "\u001B[1m26/26\u001B[0m \u001B[32m━━━━━━━━━━━━━━━━━━━━\u001B[0m\u001B[37m\u001B[0m \u001B[1m0s\u001B[0m 6ms/step - accuracy: 0.9229 - loss: 0.1807 - val_accuracy: 0.8439 - val_loss: 0.3752\n",
      "Epoch 26/500\n",
      "\u001B[1m26/26\u001B[0m \u001B[32m━━━━━━━━━━━━━━━━━━━━\u001B[0m\u001B[37m\u001B[0m \u001B[1m0s\u001B[0m 6ms/step - accuracy: 0.9358 - loss: 0.1705 - val_accuracy: 0.8366 - val_loss: 0.3865\n",
      "Epoch 27/500\n",
      "\u001B[1m26/26\u001B[0m \u001B[32m━━━━━━━━━━━━━━━━━━━━\u001B[0m\u001B[37m\u001B[0m \u001B[1m0s\u001B[0m 6ms/step - accuracy: 0.9323 - loss: 0.1736 - val_accuracy: 0.8388 - val_loss: 0.3956\n",
      "Epoch 28/500\n",
      "\u001B[1m26/26\u001B[0m \u001B[32m━━━━━━━━━━━━━━━━━━━━\u001B[0m\u001B[37m\u001B[0m \u001B[1m0s\u001B[0m 6ms/step - accuracy: 0.9350 - loss: 0.1521 - val_accuracy: 0.8511 - val_loss: 0.4168\n",
      "Epoch 29/500\n",
      "\u001B[1m26/26\u001B[0m \u001B[32m━━━━━━━━━━━━━━━━━━━━\u001B[0m\u001B[37m\u001B[0m \u001B[1m0s\u001B[0m 5ms/step - accuracy: 0.9481 - loss: 0.1413 - val_accuracy: 0.8445 - val_loss: 0.4122\n",
      "Epoch 30/500\n",
      "\u001B[1m26/26\u001B[0m \u001B[32m━━━━━━━━━━━━━━━━━━━━\u001B[0m\u001B[37m\u001B[0m \u001B[1m0s\u001B[0m 6ms/step - accuracy: 0.9595 - loss: 0.1266 - val_accuracy: 0.8655 - val_loss: 0.4475\n",
      "Epoch 31/500\n",
      "\u001B[1m26/26\u001B[0m \u001B[32m━━━━━━━━━━━━━━━━━━━━\u001B[0m\u001B[37m\u001B[0m \u001B[1m0s\u001B[0m 5ms/step - accuracy: 0.9484 - loss: 0.1249 - val_accuracy: 0.8223 - val_loss: 0.4447\n",
      "Epoch 32/500\n",
      "\u001B[1m26/26\u001B[0m \u001B[32m━━━━━━━━━━━━━━━━━━━━\u001B[0m\u001B[37m\u001B[0m \u001B[1m0s\u001B[0m 7ms/step - accuracy: 0.9590 - loss: 0.1241 - val_accuracy: 0.8612 - val_loss: 0.4629\n",
      "Epoch 33/500\n",
      "\u001B[1m26/26\u001B[0m \u001B[32m━━━━━━━━━━━━━━━━━━━━\u001B[0m\u001B[37m\u001B[0m \u001B[1m0s\u001B[0m 6ms/step - accuracy: 0.9561 - loss: 0.1213 - val_accuracy: 0.8152 - val_loss: 0.4898\n",
      "Epoch 34/500\n",
      "\u001B[1m26/26\u001B[0m \u001B[32m━━━━━━━━━━━━━━━━━━━━\u001B[0m\u001B[37m\u001B[0m \u001B[1m0s\u001B[0m 6ms/step - accuracy: 0.9614 - loss: 0.1068 - val_accuracy: 0.8295 - val_loss: 0.4743\n",
      "Epoch 35/500\n",
      "\u001B[1m26/26\u001B[0m \u001B[32m━━━━━━━━━━━━━━━━━━━━\u001B[0m\u001B[37m\u001B[0m \u001B[1m0s\u001B[0m 6ms/step - accuracy: 0.9704 - loss: 0.0921 - val_accuracy: 0.8360 - val_loss: 0.4817\n",
      "Epoch 36/500\n",
      "\u001B[1m26/26\u001B[0m \u001B[32m━━━━━━━━━━━━━━━━━━━━\u001B[0m\u001B[37m\u001B[0m \u001B[1m0s\u001B[0m 7ms/step - accuracy: 0.9773 - loss: 0.0805 - val_accuracy: 0.8007 - val_loss: 0.5110\n",
      "Epoch 37/500\n",
      "\u001B[1m26/26\u001B[0m \u001B[32m━━━━━━━━━━━━━━━━━━━━\u001B[0m\u001B[37m\u001B[0m \u001B[1m0s\u001B[0m 7ms/step - accuracy: 0.9735 - loss: 0.0895 - val_accuracy: 0.8439 - val_loss: 0.5138\n",
      "Epoch 38/500\n",
      "\u001B[1m26/26\u001B[0m \u001B[32m━━━━━━━━━━━━━━━━━━━━\u001B[0m\u001B[37m\u001B[0m \u001B[1m0s\u001B[0m 6ms/step - accuracy: 0.9807 - loss: 0.0730 - val_accuracy: 0.8201 - val_loss: 0.5251\n",
      "Epoch 39/500\n",
      "\u001B[1m26/26\u001B[0m \u001B[32m━━━━━━━━━━━━━━━━━━━━\u001B[0m\u001B[37m\u001B[0m \u001B[1m0s\u001B[0m 6ms/step - accuracy: 0.9841 - loss: 0.0677 - val_accuracy: 0.8229 - val_loss: 0.5295\n",
      "Epoch 40/500\n",
      "\u001B[1m26/26\u001B[0m \u001B[32m━━━━━━━━━━━━━━━━━━━━\u001B[0m\u001B[37m\u001B[0m \u001B[1m0s\u001B[0m 6ms/step - accuracy: 0.9839 - loss: 0.0669 - val_accuracy: 0.8504 - val_loss: 0.5604\n",
      "Epoch 41/500\n",
      "\u001B[1m26/26\u001B[0m \u001B[32m━━━━━━━━━━━━━━━━━━━━\u001B[0m\u001B[37m\u001B[0m \u001B[1m0s\u001B[0m 5ms/step - accuracy: 0.9823 - loss: 0.0724 - val_accuracy: 0.8201 - val_loss: 0.5575\n",
      "Epoch 42/500\n",
      "\u001B[1m26/26\u001B[0m \u001B[32m━━━━━━━━━━━━━━━━━━━━\u001B[0m\u001B[37m\u001B[0m \u001B[1m0s\u001B[0m 7ms/step - accuracy: 0.9891 - loss: 0.0535 - val_accuracy: 0.8303 - val_loss: 0.5728\n",
      "Epoch 43/500\n",
      "\u001B[1m26/26\u001B[0m \u001B[32m━━━━━━━━━━━━━━━━━━━━\u001B[0m\u001B[37m\u001B[0m \u001B[1m0s\u001B[0m 6ms/step - accuracy: 0.9919 - loss: 0.0485 - val_accuracy: 0.8136 - val_loss: 0.6045\n",
      "Epoch 44/500\n",
      "\u001B[1m26/26\u001B[0m \u001B[32m━━━━━━━━━━━━━━━━━━━━\u001B[0m\u001B[37m\u001B[0m \u001B[1m0s\u001B[0m 6ms/step - accuracy: 0.9884 - loss: 0.0480 - val_accuracy: 0.8382 - val_loss: 0.6125\n",
      "Epoch 45/500\n",
      "\u001B[1m26/26\u001B[0m \u001B[32m━━━━━━━━━━━━━━━━━━━━\u001B[0m\u001B[37m\u001B[0m \u001B[1m0s\u001B[0m 6ms/step - accuracy: 0.9904 - loss: 0.0415 - val_accuracy: 0.8382 - val_loss: 0.6254\n",
      "Epoch 46/500\n",
      "\u001B[1m26/26\u001B[0m \u001B[32m━━━━━━━━━━━━━━━━━━━━\u001B[0m\u001B[37m\u001B[0m \u001B[1m0s\u001B[0m 6ms/step - accuracy: 0.9921 - loss: 0.0415 - val_accuracy: 0.7986 - val_loss: 0.6547\n",
      "Epoch 47/500\n",
      "\u001B[1m26/26\u001B[0m \u001B[32m━━━━━━━━━━━━━━━━━━━━\u001B[0m\u001B[37m\u001B[0m \u001B[1m0s\u001B[0m 6ms/step - accuracy: 0.9882 - loss: 0.0461 - val_accuracy: 0.8490 - val_loss: 0.6327\n",
      "Epoch 48/500\n",
      "\u001B[1m26/26\u001B[0m \u001B[32m━━━━━━━━━━━━━━━━━━━━\u001B[0m\u001B[37m\u001B[0m \u001B[1m0s\u001B[0m 6ms/step - accuracy: 0.9917 - loss: 0.0396 - val_accuracy: 0.8021 - val_loss: 0.6704\n",
      "Epoch 49/500\n",
      "\u001B[1m26/26\u001B[0m \u001B[32m━━━━━━━━━━━━━━━━━━━━\u001B[0m\u001B[37m\u001B[0m \u001B[1m0s\u001B[0m 5ms/step - accuracy: 0.9892 - loss: 0.0386 - val_accuracy: 0.8231 - val_loss: 0.6606\n",
      "Epoch 50/500\n",
      "\u001B[1m26/26\u001B[0m \u001B[32m━━━━━━━━━━━━━━━━━━━━\u001B[0m\u001B[37m\u001B[0m \u001B[1m0s\u001B[0m 5ms/step - accuracy: 0.9907 - loss: 0.0337 - val_accuracy: 0.8331 - val_loss: 0.6829\n",
      "Epoch 51/500\n",
      "\u001B[1m26/26\u001B[0m \u001B[32m━━━━━━━━━━━━━━━━━━━━\u001B[0m\u001B[37m\u001B[0m \u001B[1m0s\u001B[0m 6ms/step - accuracy: 0.9931 - loss: 0.0293 - val_accuracy: 0.8136 - val_loss: 0.6760\n",
      "Epoch 52/500\n",
      "\u001B[1m26/26\u001B[0m \u001B[32m━━━━━━━━━━━━━━━━━━━━\u001B[0m\u001B[37m\u001B[0m \u001B[1m0s\u001B[0m 5ms/step - accuracy: 0.9893 - loss: 0.0423 - val_accuracy: 0.8362 - val_loss: 0.6841\n",
      "Epoch 53/500\n",
      "\u001B[1m26/26\u001B[0m \u001B[32m━━━━━━━━━━━━━━━━━━━━\u001B[0m\u001B[37m\u001B[0m \u001B[1m0s\u001B[0m 5ms/step - accuracy: 0.9950 - loss: 0.0276 - val_accuracy: 0.8186 - val_loss: 0.6836\n",
      "Epoch 54/500\n",
      "\u001B[1m26/26\u001B[0m \u001B[32m━━━━━━━━━━━━━━━━━━━━\u001B[0m\u001B[37m\u001B[0m \u001B[1m0s\u001B[0m 6ms/step - accuracy: 0.9947 - loss: 0.0318 - val_accuracy: 0.8303 - val_loss: 0.7029\n",
      "Epoch 55/500\n",
      "\u001B[1m26/26\u001B[0m \u001B[32m━━━━━━━━━━━━━━━━━━━━\u001B[0m\u001B[37m\u001B[0m \u001B[1m0s\u001B[0m 5ms/step - accuracy: 0.9914 - loss: 0.0265 - val_accuracy: 0.8562 - val_loss: 0.7379\n",
      "Epoch 56/500\n",
      "\u001B[1m26/26\u001B[0m \u001B[32m━━━━━━━━━━━━━━━━━━━━\u001B[0m\u001B[37m\u001B[0m \u001B[1m0s\u001B[0m 5ms/step - accuracy: 0.9895 - loss: 0.0315 - val_accuracy: 0.8331 - val_loss: 0.7218\n",
      "Epoch 57/500\n",
      "\u001B[1m26/26\u001B[0m \u001B[32m━━━━━━━━━━━━━━━━━━━━\u001B[0m\u001B[37m\u001B[0m \u001B[1m0s\u001B[0m 5ms/step - accuracy: 0.9910 - loss: 0.0290 - val_accuracy: 0.8137 - val_loss: 0.7207\n",
      "Epoch 58/500\n",
      "\u001B[1m26/26\u001B[0m \u001B[32m━━━━━━━━━━━━━━━━━━━━\u001B[0m\u001B[37m\u001B[0m \u001B[1m0s\u001B[0m 5ms/step - accuracy: 0.9947 - loss: 0.0275 - val_accuracy: 0.8180 - val_loss: 0.7540\n",
      "Epoch 59/500\n",
      "\u001B[1m26/26\u001B[0m \u001B[32m━━━━━━━━━━━━━━━━━━━━\u001B[0m\u001B[37m\u001B[0m \u001B[1m0s\u001B[0m 5ms/step - accuracy: 0.9889 - loss: 0.0299 - val_accuracy: 0.8015 - val_loss: 0.7843\n",
      "Epoch 60/500\n",
      "\u001B[1m26/26\u001B[0m \u001B[32m━━━━━━━━━━━━━━━━━━━━\u001B[0m\u001B[37m\u001B[0m \u001B[1m0s\u001B[0m 6ms/step - accuracy: 0.9931 - loss: 0.0295 - val_accuracy: 0.8295 - val_loss: 0.7558\n"
     ]
    },
    {
     "data": {
      "text/plain": "<keras_core.src.callbacks.history.History at 0x7f494822bca0>"
     },
     "execution_count": 33,
     "metadata": {},
     "output_type": "execute_result"
    }
   ],
   "source": [
    "X_train, X_test, y_train, y_test = train_test_split(X, y, test_size=0.2, random_state=42)\n",
    "\n",
    "model = Sequential()\n",
    "model.add(Dense(128, input_dim=300, activation='relu'))\n",
    "model.add(Dense(64, activation='relu'))\n",
    "model.add(Dense(1, activation='sigmoid'))\n",
    "\n",
    "model.compile(loss='binary_crossentropy', optimizer='adam', metrics=['accuracy'])\n",
    "\n",
    "model.fit(X_train,\n",
    "          y_train,\n",
    "          epochs=500,\n",
    "          batch_size=100,\n",
    "          callbacks=[\n",
    "              early_stopping,\n",
    "              tensorboard_callback,\n",
    "          ],\n",
    "          validation_data=(X_test, y_test)\n",
    "          )"
   ],
   "metadata": {
    "collapsed": false,
    "ExecuteTime": {
     "end_time": "2024-06-07T13:33:28.791477200Z",
     "start_time": "2024-06-07T13:33:15.481676500Z"
    }
   },
   "id": "c4cf876c5cbae2f2",
   "execution_count": 33
  },
  {
   "cell_type": "markdown",
   "source": [
    "# save model"
   ],
   "metadata": {
    "collapsed": false
   },
   "id": "e01ea87c7efc4af6"
  },
  {
   "cell_type": "code",
   "outputs": [],
   "source": [
    "model.save_weights(model_weight_dst)"
   ],
   "metadata": {
    "collapsed": false
   },
   "id": "e0b9fbafea831f00"
  },
  {
   "cell_type": "markdown",
   "source": [
    "### testing with custom sentence"
   ],
   "metadata": {
    "collapsed": false
   },
   "id": "858f1dcf54daf1ee"
  },
  {
   "cell_type": "code",
   "outputs": [
    {
     "name": "stdout",
     "output_type": "stream",
     "text": [
      "nice output\n",
      "la bonjour je suis un type sympas : [[False]]\n",
      "hello ça va les gens : [[False]]\n",
      "j'aime pas trop ce mec : [[ True]]\n",
      "cette meuf est cool : [[False]]\n",
      "les meuf sont trop cool : [[ True]]\n",
      "les mecs sont des gens stylé : [[ True]]\n",
      "le mec est stylé : [[False]]\n",
      "nan mais mon manager exagère quand il dit que je suis pas assez productif et que je travail pas assez, franchement il abuse : [[False]]\n",
      "les hommes cis sont toxiques pour la société car ils imposent leur vision paternaliste : [[ True]]\n",
      "Les hommes sont moins matures que les femmes quand il s'agit de prendre des décisions : [[ True]]\n",
      "\n",
      "\n",
      "not nice output\n",
      "regarde moi cette connasse : [[ True]]\n",
      "les femme leur place c'est à la cuisine : [[ True]]\n",
      "femme au volant, accident : [[ True]]\n",
      "les femmes on peux pas leur faire confiance : [[ True]]\n",
      "Pour une transphobe son passing est pas ouf : [[ True]]\n",
      "Elle l’ouvre quand même beaucoup celle là pour quelqu’un qu’est pas capable d’éduquer ses enfants : [[ True]]\n",
      "Dis donc, c’est pas parce que t’es mal baisée que tu peux tout te permettre ???? : [[ True]]\n",
      "Moi ce que j’aime bien chez les filles comme toi c’est que t’es pas du genre prise de tête : [[ True]]\n",
      "les femmes c'est comme le fromage, quand elles puent c'est qu'elles sont bonnes : [[ True]]\n",
      "Oh les grosses tepus : [[ True]]\n",
      "Faut pas t'étonner si tu te fais violer vu comment t'es habillée : [[ True]]\n",
      "Tu deverais avoir des enfants maintenant avant que ce soit trop tard : [[ True]]\n",
      "Vous seriez une collaboratrice idéal pour notre entreprise, malheureusement nous cherchons quelqu’un disponible sur le long terme, et nous craignons qu’à votre âge des changements familiaux ne vous permettent plus de vous investir autant que besoins : [[ True]]\n"
     ]
    }
   ],
   "source": [
    "text_nice = [\n",
    "    \"la bonjour je suis un type sympas\", \n",
    "    \"hello ça va les gens\",\n",
    "    \"j'aime pas trop ce mec\",\n",
    "    \"cette meuf est cool\",\n",
    "    \"les meuf sont trop cool\",\n",
    "    \"les mecs sont des gens stylé\",\n",
    "    \"le mec est stylé\",\n",
    "    \"nan mais mon manager exagère quand il dit que je suis pas assez productif et que je travail pas assez, franchement il abuse\",\n",
    "    \"les hommes cis sont toxiques pour la société car ils imposent leur vision paternaliste\",\n",
    "    \"Les hommes sont moins matures que les femmes quand il s'agit de prendre des décisions\"\n",
    "    \n",
    "]\n",
    "\n",
    "text_no_nice = [\n",
    "    \"regarde moi cette connasse\",\n",
    "    \"les femme leur place c'est à la cuisine\",\n",
    "    \"femme au volant, accident\",\n",
    "    \"les femmes on peux pas leur faire confiance\",\n",
    "    \"Pour une transphobe son passing est pas ouf\",\n",
    "    \"Elle l’ouvre quand même beaucoup celle là pour quelqu’un qu’est pas capable d’éduquer ses enfants\",\n",
    "    \"Dis donc, c’est pas parce que t’es mal baisée que tu peux tout te permettre ????\",\n",
    "    \"Moi ce que j’aime bien chez les filles comme toi c’est que t’es pas du genre prise de tête\",\n",
    "    \"les femmes c'est comme le fromage, quand elles puent c'est qu'elles sont bonnes\",\n",
    "    \"Oh les grosses tepus\",\n",
    "    \"Faut pas t'étonner si tu te fais violer vu comment t'es habillée\",\n",
    "    \"Tu deverais avoir des enfants maintenant avant que ce soit trop tard\",\n",
    "    \"Vous seriez une collaboratrice idéal pour notre entreprise, malheureusement nous cherchons quelqu’un disponible sur le long terme, et nous craignons qu’à votre âge des changements familiaux ne vous permettent plus de vous investir autant que besoins\"\n",
    "]\n",
    "wordsvec_nice = [np.expand_dims(text_to_vector(text), axis=0) for text in text_nice]\n",
    "wordsvec_no_nice = [np.expand_dims(text_to_vector(text), axis=0) for text in text_no_nice]\n",
    "\n",
    "print(\"nice output\")\n",
    "for i in range(0, len(wordsvec_nice)):\n",
    "    prediction = model.predict(wordsvec_nice[i], verbose=False)\n",
    "    print(f\"{text_nice[i]} : {prediction > 0.0001}\")\n",
    "\n",
    "\n",
    "print(\"\\n\\nnot nice output\")\n",
    "for i in range(0, len(wordsvec_no_nice)):\n",
    "    prediction =  model.predict(wordsvec_no_nice[i], verbose=False)\n",
    "    print(f\"{text_no_nice[i]} : {prediction > 0.0001}\")"
   ],
   "metadata": {
    "collapsed": false,
    "ExecuteTime": {
     "end_time": "2024-06-07T14:25:10.841010700Z",
     "start_time": "2024-06-07T14:25:09.283209300Z"
    }
   },
   "id": "be31f886c1e61d2",
   "execution_count": 57
  },
  {
   "cell_type": "code",
   "outputs": [],
   "source": [],
   "metadata": {
    "collapsed": false,
    "ExecuteTime": {
     "end_time": "2024-06-11T10:14:41.291904100Z",
     "start_time": "2024-06-11T10:14:41.279851800Z"
    }
   },
   "id": "eee4f2d23f45322e",
   "execution_count": 0
  },
  {
   "cell_type": "code",
   "outputs": [],
   "source": [],
   "metadata": {
    "collapsed": false
   },
   "id": "8c753464d73b3dba"
  }
 ],
 "metadata": {
  "kernelspec": {
   "display_name": "Python 3",
   "language": "python",
   "name": "python3"
  },
  "language_info": {
   "codemirror_mode": {
    "name": "ipython",
    "version": 2
   },
   "file_extension": ".py",
   "mimetype": "text/x-python",
   "name": "python",
   "nbconvert_exporter": "python",
   "pygments_lexer": "ipython2",
   "version": "2.7.6"
  }
 },
 "nbformat": 4,
 "nbformat_minor": 5
}
