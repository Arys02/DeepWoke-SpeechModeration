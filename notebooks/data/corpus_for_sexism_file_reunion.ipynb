{
 "cells": [
  {
   "cell_type": "code",
   "execution_count": 1,
   "id": "initial_id",
   "metadata": {
    "collapsed": true,
    "ExecuteTime": {
     "end_time": "2024-04-28T16:32:34.251836900Z",
     "start_time": "2024-04-28T16:32:33.339003100Z"
    }
   },
   "outputs": [],
   "source": [
    "import pandas as pd\n",
    "import os"
   ]
  },
  {
   "cell_type": "code",
   "outputs": [],
   "source": [
    "data_path = \"../../data/corpus_for_sexism_french\""
   ],
   "metadata": {
    "collapsed": false,
    "ExecuteTime": {
     "end_time": "2024-04-28T16:36:28.748340800Z",
     "start_time": "2024-04-28T16:36:28.742831900Z"
    }
   },
   "id": "3aad099323ab2f9b",
   "execution_count": 13
  },
  {
   "cell_type": "code",
   "outputs": [],
   "source": [
    "dataframes = []\n",
    "\n",
    "if os.path.exists(f\"{data_path}/corpus_with_text_1_86.csv\"):\n",
    "    dataframe = pd.read_csv(f'{data_path}/corpus_with_text_1_86.csv', encoding='utf-8', dtype={\n",
    "        'i': int,\n",
    "        'tweet_id': str,\n",
    "        'full_text': str\n",
    "    })\n",
    "    dataframes.append(dataframe)\n",
    "    \n",
    "n = 400\n",
    "\n",
    "dataframe_tmp = []\n",
    "for i in range(400, 9200, 100):\n",
    "    filename = f'{data_path}/corpus_with_text_df_{str(i)}.csv'\n",
    "    if os.path.exists(filename):\n",
    "        dataframe = pd.read_csv(filename, encoding='utf-8', dtype={\n",
    "            'index': str,\n",
    "            'tweet_id': str,\n",
    "            'tweet_text': str\n",
    "        })\n",
    "        dataframe_tmp.append(dataframe)\n",
    "combined_df = pd.concat(dataframe_tmp, ignore_index=True)\n",
    "combined_df = combined_df.iloc[:,1:]\n",
    "combined_df.columns = ['i', 'tweet_id', 'full_text']\n",
    "    "
   ],
   "metadata": {
    "collapsed": false,
    "ExecuteTime": {
     "end_time": "2024-04-28T17:04:11.045441200Z",
     "start_time": "2024-04-28T17:04:10.883151400Z"
    }
   },
   "id": "93d6152d285452a8",
   "execution_count": 51
  },
  {
   "cell_type": "code",
   "outputs": [
    {
     "data": {
      "text/plain": "         i            tweet_id  \\\n0       87  966020955742048257   \n1       88  987033694488670208   \n2       89  987054871282114561   \n3       90  987035741250379784   \n4       91  987078666587967490   \n...    ...                 ...   \n9010  9095  936906505936289792   \n9011  9096  936908000362749952   \n9012  9097  953979384343379968   \n9013  9098  953991617228099584   \n9014  9099  953979201639641088   \n\n                                              full_text  \n0                                                   NaN  \n1                                                   NaN  \n2                                                   NaN  \n3                                                   NaN  \n4                                                   NaN  \n...                                                 ...  \n9010                                                NaN  \n9011                                                NaN  \n9012  Quelqu'un peut-il me dire au nom de quelle dis...  \n9013                                                NaN  \n9014  #Sexisme dans les manuels d’enseignement moral...  \n\n[9015 rows x 3 columns]",
      "text/html": "<div>\n<style scoped>\n    .dataframe tbody tr th:only-of-type {\n        vertical-align: middle;\n    }\n\n    .dataframe tbody tr th {\n        vertical-align: top;\n    }\n\n    .dataframe thead th {\n        text-align: right;\n    }\n</style>\n<table border=\"1\" class=\"dataframe\">\n  <thead>\n    <tr style=\"text-align: right;\">\n      <th></th>\n      <th>i</th>\n      <th>tweet_id</th>\n      <th>full_text</th>\n    </tr>\n  </thead>\n  <tbody>\n    <tr>\n      <th>0</th>\n      <td>87</td>\n      <td>966020955742048257</td>\n      <td>NaN</td>\n    </tr>\n    <tr>\n      <th>1</th>\n      <td>88</td>\n      <td>987033694488670208</td>\n      <td>NaN</td>\n    </tr>\n    <tr>\n      <th>2</th>\n      <td>89</td>\n      <td>987054871282114561</td>\n      <td>NaN</td>\n    </tr>\n    <tr>\n      <th>3</th>\n      <td>90</td>\n      <td>987035741250379784</td>\n      <td>NaN</td>\n    </tr>\n    <tr>\n      <th>4</th>\n      <td>91</td>\n      <td>987078666587967490</td>\n      <td>NaN</td>\n    </tr>\n    <tr>\n      <th>...</th>\n      <td>...</td>\n      <td>...</td>\n      <td>...</td>\n    </tr>\n    <tr>\n      <th>9010</th>\n      <td>9095</td>\n      <td>936906505936289792</td>\n      <td>NaN</td>\n    </tr>\n    <tr>\n      <th>9011</th>\n      <td>9096</td>\n      <td>936908000362749952</td>\n      <td>NaN</td>\n    </tr>\n    <tr>\n      <th>9012</th>\n      <td>9097</td>\n      <td>953979384343379968</td>\n      <td>Quelqu'un peut-il me dire au nom de quelle dis...</td>\n    </tr>\n    <tr>\n      <th>9013</th>\n      <td>9098</td>\n      <td>953991617228099584</td>\n      <td>NaN</td>\n    </tr>\n    <tr>\n      <th>9014</th>\n      <td>9099</td>\n      <td>953979201639641088</td>\n      <td>#Sexisme dans les manuels d’enseignement moral...</td>\n    </tr>\n  </tbody>\n</table>\n<p>9015 rows × 3 columns</p>\n</div>"
     },
     "execution_count": 52,
     "metadata": {},
     "output_type": "execute_result"
    }
   ],
   "source": [
    "combined_df"
   ],
   "metadata": {
    "collapsed": false,
    "ExecuteTime": {
     "end_time": "2024-04-28T17:04:12.240993200Z",
     "start_time": "2024-04-28T17:04:12.228466Z"
    }
   },
   "id": "847c6d0d2ded8e9b",
   "execution_count": 52
  },
  {
   "cell_type": "code",
   "outputs": [],
   "source": [
    "dataframes.append(combined_df)\n",
    "final_dataframe = pd.concat(dataframes, ignore_index=True)"
   ],
   "metadata": {
    "collapsed": false,
    "ExecuteTime": {
     "end_time": "2024-04-28T17:04:59.221170600Z",
     "start_time": "2024-04-28T17:04:59.212156200Z"
    }
   },
   "id": "50b27411dca1d960",
   "execution_count": 53
  },
  {
   "cell_type": "code",
   "outputs": [
    {
     "data": {
      "text/plain": "         i            tweet_id  \\\n0        0  330425562201993216   \n1        1  326796299179548672   \n2        2  334548844731826176   \n3        3  332500824150392833   \n4        4  334424362033762304   \n...    ...                 ...   \n9097  9095  936906505936289792   \n9098  9096  936908000362749952   \n9099  9097  953979384343379968   \n9100  9098  953991617228099584   \n9101  9099  953979201639641088   \n\n                                              full_text  \n0                                                   NaN  \n1           @MamzelleMNa Une très humble femme! #Ironie  \n2     BLOGUE - «Tsé, la parité homme-femme...» au se...  \n3                                                   NaN  \n4                                                   NaN  \n...                                                 ...  \n9097                                                NaN  \n9098                                                NaN  \n9099  Quelqu'un peut-il me dire au nom de quelle dis...  \n9100                                                NaN  \n9101  #Sexisme dans les manuels d’enseignement moral...  \n\n[9102 rows x 3 columns]",
      "text/html": "<div>\n<style scoped>\n    .dataframe tbody tr th:only-of-type {\n        vertical-align: middle;\n    }\n\n    .dataframe tbody tr th {\n        vertical-align: top;\n    }\n\n    .dataframe thead th {\n        text-align: right;\n    }\n</style>\n<table border=\"1\" class=\"dataframe\">\n  <thead>\n    <tr style=\"text-align: right;\">\n      <th></th>\n      <th>i</th>\n      <th>tweet_id</th>\n      <th>full_text</th>\n    </tr>\n  </thead>\n  <tbody>\n    <tr>\n      <th>0</th>\n      <td>0</td>\n      <td>330425562201993216</td>\n      <td>NaN</td>\n    </tr>\n    <tr>\n      <th>1</th>\n      <td>1</td>\n      <td>326796299179548672</td>\n      <td>@MamzelleMNa Une très humble femme! #Ironie</td>\n    </tr>\n    <tr>\n      <th>2</th>\n      <td>2</td>\n      <td>334548844731826176</td>\n      <td>BLOGUE - «Tsé, la parité homme-femme...» au se...</td>\n    </tr>\n    <tr>\n      <th>3</th>\n      <td>3</td>\n      <td>332500824150392833</td>\n      <td>NaN</td>\n    </tr>\n    <tr>\n      <th>4</th>\n      <td>4</td>\n      <td>334424362033762304</td>\n      <td>NaN</td>\n    </tr>\n    <tr>\n      <th>...</th>\n      <td>...</td>\n      <td>...</td>\n      <td>...</td>\n    </tr>\n    <tr>\n      <th>9097</th>\n      <td>9095</td>\n      <td>936906505936289792</td>\n      <td>NaN</td>\n    </tr>\n    <tr>\n      <th>9098</th>\n      <td>9096</td>\n      <td>936908000362749952</td>\n      <td>NaN</td>\n    </tr>\n    <tr>\n      <th>9099</th>\n      <td>9097</td>\n      <td>953979384343379968</td>\n      <td>Quelqu'un peut-il me dire au nom de quelle dis...</td>\n    </tr>\n    <tr>\n      <th>9100</th>\n      <td>9098</td>\n      <td>953991617228099584</td>\n      <td>NaN</td>\n    </tr>\n    <tr>\n      <th>9101</th>\n      <td>9099</td>\n      <td>953979201639641088</td>\n      <td>#Sexisme dans les manuels d’enseignement moral...</td>\n    </tr>\n  </tbody>\n</table>\n<p>9102 rows × 3 columns</p>\n</div>"
     },
     "execution_count": 54,
     "metadata": {},
     "output_type": "execute_result"
    }
   ],
   "source": [
    "final_dataframe"
   ],
   "metadata": {
    "collapsed": false,
    "ExecuteTime": {
     "end_time": "2024-04-28T17:05:00.590878400Z",
     "start_time": "2024-04-28T17:05:00.554723200Z"
    }
   },
   "id": "a4f70304593b053d",
   "execution_count": 54
  },
  {
   "cell_type": "code",
   "outputs": [],
   "source": [
    "final_dataframe.iloc[:, 1:].to_csv(f'{data_path}/corpus_with_text_final.csv')"
   ],
   "metadata": {
    "collapsed": false,
    "ExecuteTime": {
     "end_time": "2024-04-28T17:06:10.400884700Z",
     "start_time": "2024-04-28T17:06:10.372771100Z"
    }
   },
   "id": "c0b520764c8df59d",
   "execution_count": 56
  },
  {
   "cell_type": "code",
   "outputs": [],
   "source": [],
   "metadata": {
    "collapsed": false
   },
   "id": "8a3f923027828cc5"
  }
 ],
 "metadata": {
  "kernelspec": {
   "display_name": "Python 3",
   "language": "python",
   "name": "python3"
  },
  "language_info": {
   "codemirror_mode": {
    "name": "ipython",
    "version": 2
   },
   "file_extension": ".py",
   "mimetype": "text/x-python",
   "name": "python",
   "nbconvert_exporter": "python",
   "pygments_lexer": "ipython2",
   "version": "2.7.6"
  }
 },
 "nbformat": 4,
 "nbformat_minor": 5
}
