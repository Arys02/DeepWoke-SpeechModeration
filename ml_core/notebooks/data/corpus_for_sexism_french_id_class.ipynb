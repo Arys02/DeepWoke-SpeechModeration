{
 "cells": [
  {
   "cell_type": "code",
   "outputs": [],
   "source": [
    "import pandas as pd\n",
    "\n",
    "folder_path = '../../data/corpus_for_sexism_french/'\n",
    "df = pd.read_csv(f'{folder_path}corpus_SexistContent.csv', sep='\\t', names=['tweet_id', 'label'], dtype={'tweet_id': str, 'label':str})\n"
   ],
   "metadata": {
    "collapsed": false,
    "ExecuteTime": {
     "end_time": "2024-05-13T07:26:19.859046500Z",
     "start_time": "2024-05-13T07:26:19.830699300Z"
    }
   },
   "id": "6bc6d5b79bbf9d77",
   "execution_count": 16
  },
  {
   "cell_type": "code",
   "outputs": [],
   "source": [
    "df2 = pd.read_csv(f'{folder_path}corpus_with_text_final.csv'\n",
    "                ,names=['i','tweet_id', 'full_text']\n",
    "                  )"
   ],
   "metadata": {
    "collapsed": false,
    "ExecuteTime": {
     "end_time": "2024-05-13T07:26:20.168093300Z",
     "start_time": "2024-05-13T07:26:20.144980100Z"
    }
   },
   "id": "a2d3a454200fa178",
   "execution_count": 17
  },
  {
   "cell_type": "code",
   "outputs": [
    {
     "data": {
      "text/plain": "                tweet_id                                          full_text\n0               tweet_id                                          full_text\n1     330425562201993216                                                NaN\n2     326796299179548672        @MamzelleMNa Une très humble femme! #Ironie\n3     334548844731826176  BLOGUE - «Tsé, la parité homme-femme...» au se...\n4     332500824150392833                                                NaN\n...                  ...                                                ...\n9098  936906505936289792                                                NaN\n9099  936908000362749952                                                NaN\n9100  953979384343379968  Quelqu'un peut-il me dire au nom de quelle dis...\n9101  953991617228099584                                                NaN\n9102  953979201639641088  #Sexisme dans les manuels d’enseignement moral...\n\n[9103 rows x 2 columns]",
      "text/html": "<div>\n<style scoped>\n    .dataframe tbody tr th:only-of-type {\n        vertical-align: middle;\n    }\n\n    .dataframe tbody tr th {\n        vertical-align: top;\n    }\n\n    .dataframe thead th {\n        text-align: right;\n    }\n</style>\n<table border=\"1\" class=\"dataframe\">\n  <thead>\n    <tr style=\"text-align: right;\">\n      <th></th>\n      <th>tweet_id</th>\n      <th>full_text</th>\n    </tr>\n  </thead>\n  <tbody>\n    <tr>\n      <th>0</th>\n      <td>tweet_id</td>\n      <td>full_text</td>\n    </tr>\n    <tr>\n      <th>1</th>\n      <td>330425562201993216</td>\n      <td>NaN</td>\n    </tr>\n    <tr>\n      <th>2</th>\n      <td>326796299179548672</td>\n      <td>@MamzelleMNa Une très humble femme! #Ironie</td>\n    </tr>\n    <tr>\n      <th>3</th>\n      <td>334548844731826176</td>\n      <td>BLOGUE - «Tsé, la parité homme-femme...» au se...</td>\n    </tr>\n    <tr>\n      <th>4</th>\n      <td>332500824150392833</td>\n      <td>NaN</td>\n    </tr>\n    <tr>\n      <th>...</th>\n      <td>...</td>\n      <td>...</td>\n    </tr>\n    <tr>\n      <th>9098</th>\n      <td>936906505936289792</td>\n      <td>NaN</td>\n    </tr>\n    <tr>\n      <th>9099</th>\n      <td>936908000362749952</td>\n      <td>NaN</td>\n    </tr>\n    <tr>\n      <th>9100</th>\n      <td>953979384343379968</td>\n      <td>Quelqu'un peut-il me dire au nom de quelle dis...</td>\n    </tr>\n    <tr>\n      <th>9101</th>\n      <td>953991617228099584</td>\n      <td>NaN</td>\n    </tr>\n    <tr>\n      <th>9102</th>\n      <td>953979201639641088</td>\n      <td>#Sexisme dans les manuels d’enseignement moral...</td>\n    </tr>\n  </tbody>\n</table>\n<p>9103 rows × 2 columns</p>\n</div>"
     },
     "execution_count": 26,
     "metadata": {},
     "output_type": "execute_result"
    }
   ],
   "source": [
    "df2.iloc[:, 1:]"
   ],
   "metadata": {
    "collapsed": false,
    "ExecuteTime": {
     "end_time": "2024-05-13T07:29:25.543379900Z",
     "start_time": "2024-05-13T07:29:25.512687600Z"
    }
   },
   "id": "525a3fc059b5265",
   "execution_count": 26
  },
  {
   "cell_type": "code",
   "outputs": [],
   "source": [
    "df3 = pd.merge(df, df2.iloc[:, 1:], on='tweet_id')"
   ],
   "metadata": {
    "collapsed": false,
    "ExecuteTime": {
     "end_time": "2024-05-13T07:29:42.269857700Z",
     "start_time": "2024-05-13T07:29:42.246815800Z"
    }
   },
   "id": "85d0b19ffb44f8b1",
   "execution_count": 27
  },
  {
   "cell_type": "code",
   "outputs": [
    {
     "data": {
      "text/plain": "                                              full_text label\n0                                                   NaN     0\n1           @MamzelleMNa Une très humble femme! #Ironie     0\n2     BLOGUE - «Tsé, la parité homme-femme...» au se...     0\n3                                                   NaN     0\n4                                                   NaN     0\n...                                                 ...   ...\n9553                                                NaN     1\n9554  @enmarchefr @MarleneSchiappa Je n'arrête pas d...     1\n9555                                                NaN     1\n9556                                                NaN     1\n9557                                                NaN     1\n\n[9558 rows x 2 columns]",
      "text/html": "<div>\n<style scoped>\n    .dataframe tbody tr th:only-of-type {\n        vertical-align: middle;\n    }\n\n    .dataframe tbody tr th {\n        vertical-align: top;\n    }\n\n    .dataframe thead th {\n        text-align: right;\n    }\n</style>\n<table border=\"1\" class=\"dataframe\">\n  <thead>\n    <tr style=\"text-align: right;\">\n      <th></th>\n      <th>full_text</th>\n      <th>label</th>\n    </tr>\n  </thead>\n  <tbody>\n    <tr>\n      <th>0</th>\n      <td>NaN</td>\n      <td>0</td>\n    </tr>\n    <tr>\n      <th>1</th>\n      <td>@MamzelleMNa Une très humble femme! #Ironie</td>\n      <td>0</td>\n    </tr>\n    <tr>\n      <th>2</th>\n      <td>BLOGUE - «Tsé, la parité homme-femme...» au se...</td>\n      <td>0</td>\n    </tr>\n    <tr>\n      <th>3</th>\n      <td>NaN</td>\n      <td>0</td>\n    </tr>\n    <tr>\n      <th>4</th>\n      <td>NaN</td>\n      <td>0</td>\n    </tr>\n    <tr>\n      <th>...</th>\n      <td>...</td>\n      <td>...</td>\n    </tr>\n    <tr>\n      <th>9553</th>\n      <td>NaN</td>\n      <td>1</td>\n    </tr>\n    <tr>\n      <th>9554</th>\n      <td>@enmarchefr @MarleneSchiappa Je n'arrête pas d...</td>\n      <td>1</td>\n    </tr>\n    <tr>\n      <th>9555</th>\n      <td>NaN</td>\n      <td>1</td>\n    </tr>\n    <tr>\n      <th>9556</th>\n      <td>NaN</td>\n      <td>1</td>\n    </tr>\n    <tr>\n      <th>9557</th>\n      <td>NaN</td>\n      <td>1</td>\n    </tr>\n  </tbody>\n</table>\n<p>9558 rows × 2 columns</p>\n</div>"
     },
     "execution_count": 32,
     "metadata": {},
     "output_type": "execute_result"
    }
   ],
   "source": [
    "df_final = df3.loc[:, ['full_text', 'label']]\n",
    "df_final"
   ],
   "metadata": {
    "collapsed": false,
    "ExecuteTime": {
     "end_time": "2024-05-13T07:32:24.255521300Z",
     "start_time": "2024-05-13T07:32:24.248426300Z"
    }
   },
   "id": "3eff7173413bac82",
   "execution_count": 32
  },
  {
   "cell_type": "code",
   "outputs": [
    {
     "data": {
      "text/plain": "                                              full_text label\n1           @MamzelleMNa Une très humble femme! #Ironie     0\n2     BLOGUE - «Tsé, la parité homme-femme...» au se...     0\n5     Mise en ligne de mon article sur @PayeTaShnek ...     0\n7     Hommage #journeedelafemme Toute sa vie elle a ...     0\n8     Lustre bois flotté feuilles exotiques bleues a...     0\n...                                                 ...   ...\n9545  [Exclusif] #BalanceTonPorc, transparence, juge...     1\n9547  Eric Monier, directeur de la rédaction de #LCI...     1\n9548  .@annesaurat porte plainte contre son ancien r...     1\n9550  Moïra Sauvage @excisionparlons \"une pensée pou...     1\n9554  @enmarchefr @MarleneSchiappa Je n'arrête pas d...     1\n\n[3194 rows x 2 columns]",
      "text/html": "<div>\n<style scoped>\n    .dataframe tbody tr th:only-of-type {\n        vertical-align: middle;\n    }\n\n    .dataframe tbody tr th {\n        vertical-align: top;\n    }\n\n    .dataframe thead th {\n        text-align: right;\n    }\n</style>\n<table border=\"1\" class=\"dataframe\">\n  <thead>\n    <tr style=\"text-align: right;\">\n      <th></th>\n      <th>full_text</th>\n      <th>label</th>\n    </tr>\n  </thead>\n  <tbody>\n    <tr>\n      <th>1</th>\n      <td>@MamzelleMNa Une très humble femme! #Ironie</td>\n      <td>0</td>\n    </tr>\n    <tr>\n      <th>2</th>\n      <td>BLOGUE - «Tsé, la parité homme-femme...» au se...</td>\n      <td>0</td>\n    </tr>\n    <tr>\n      <th>5</th>\n      <td>Mise en ligne de mon article sur @PayeTaShnek ...</td>\n      <td>0</td>\n    </tr>\n    <tr>\n      <th>7</th>\n      <td>Hommage #journeedelafemme Toute sa vie elle a ...</td>\n      <td>0</td>\n    </tr>\n    <tr>\n      <th>8</th>\n      <td>Lustre bois flotté feuilles exotiques bleues a...</td>\n      <td>0</td>\n    </tr>\n    <tr>\n      <th>...</th>\n      <td>...</td>\n      <td>...</td>\n    </tr>\n    <tr>\n      <th>9545</th>\n      <td>[Exclusif] #BalanceTonPorc, transparence, juge...</td>\n      <td>1</td>\n    </tr>\n    <tr>\n      <th>9547</th>\n      <td>Eric Monier, directeur de la rédaction de #LCI...</td>\n      <td>1</td>\n    </tr>\n    <tr>\n      <th>9548</th>\n      <td>.@annesaurat porte plainte contre son ancien r...</td>\n      <td>1</td>\n    </tr>\n    <tr>\n      <th>9550</th>\n      <td>Moïra Sauvage @excisionparlons \"une pensée pou...</td>\n      <td>1</td>\n    </tr>\n    <tr>\n      <th>9554</th>\n      <td>@enmarchefr @MarleneSchiappa Je n'arrête pas d...</td>\n      <td>1</td>\n    </tr>\n  </tbody>\n</table>\n<p>3194 rows × 2 columns</p>\n</div>"
     },
     "execution_count": 31,
     "metadata": {},
     "output_type": "execute_result"
    }
   ],
   "source": [
    "\n",
    "df_final.dropna(inplace=True)\n",
    "df_final \n"
   ],
   "metadata": {
    "collapsed": false,
    "ExecuteTime": {
     "end_time": "2024-05-13T07:32:20.563821Z",
     "start_time": "2024-05-13T07:32:20.534220500Z"
    }
   },
   "id": "93196ec9179265a1",
   "execution_count": 31
  },
  {
   "cell_type": "code",
   "outputs": [
    {
     "ename": "AttributeError",
     "evalue": "'DataFrame' object has no attribute 'to_file'",
     "output_type": "error",
     "traceback": [
      "\u001B[0;31m---------------------------------------------------------------------------\u001B[0m",
      "\u001B[0;31mAttributeError\u001B[0m                            Traceback (most recent call last)",
      "\u001B[0;32m/tmp/ipykernel_14464/2630683850.py\u001B[0m in \u001B[0;36m?\u001B[0;34m()\u001B[0m\n\u001B[0;32m----> 1\u001B[0;31m \u001B[0mdf_final\u001B[0m\u001B[0;34m.\u001B[0m\u001B[0mto_file\u001B[0m\u001B[0;34m(\u001B[0m\u001B[0;34mf'{folder_path}/corpus_with_text_label_final.csv'\u001B[0m\u001B[0;34m)\u001B[0m\u001B[0;34m\u001B[0m\u001B[0;34m\u001B[0m\u001B[0m\n\u001B[0m",
      "\u001B[0;32m~/miniconda3/envs/DEV_IA/lib/python3.10/site-packages/pandas/core/generic.py\u001B[0m in \u001B[0;36m?\u001B[0;34m(self, name)\u001B[0m\n\u001B[1;32m   6289\u001B[0m             \u001B[0;32mand\u001B[0m \u001B[0mname\u001B[0m \u001B[0;32mnot\u001B[0m \u001B[0;32min\u001B[0m \u001B[0mself\u001B[0m\u001B[0;34m.\u001B[0m\u001B[0m_accessors\u001B[0m\u001B[0;34m\u001B[0m\u001B[0;34m\u001B[0m\u001B[0m\n\u001B[1;32m   6290\u001B[0m             \u001B[0;32mand\u001B[0m \u001B[0mself\u001B[0m\u001B[0;34m.\u001B[0m\u001B[0m_info_axis\u001B[0m\u001B[0;34m.\u001B[0m\u001B[0m_can_hold_identifiers_and_holds_name\u001B[0m\u001B[0;34m(\u001B[0m\u001B[0mname\u001B[0m\u001B[0;34m)\u001B[0m\u001B[0;34m\u001B[0m\u001B[0;34m\u001B[0m\u001B[0m\n\u001B[1;32m   6291\u001B[0m         ):\n\u001B[1;32m   6292\u001B[0m             \u001B[0;32mreturn\u001B[0m \u001B[0mself\u001B[0m\u001B[0;34m[\u001B[0m\u001B[0mname\u001B[0m\u001B[0;34m]\u001B[0m\u001B[0;34m\u001B[0m\u001B[0;34m\u001B[0m\u001B[0m\n\u001B[0;32m-> 6293\u001B[0;31m         \u001B[0;32mreturn\u001B[0m \u001B[0mobject\u001B[0m\u001B[0;34m.\u001B[0m\u001B[0m__getattribute__\u001B[0m\u001B[0;34m(\u001B[0m\u001B[0mself\u001B[0m\u001B[0;34m,\u001B[0m \u001B[0mname\u001B[0m\u001B[0;34m)\u001B[0m\u001B[0;34m\u001B[0m\u001B[0;34m\u001B[0m\u001B[0m\n\u001B[0m",
      "\u001B[0;31mAttributeError\u001B[0m: 'DataFrame' object has no attribute 'to_file'"
     ]
    }
   ],
   "source": [
    "df_final.to_csv(f'{folder_path}/corpus_with_text_label_final.csv')"
   ],
   "metadata": {
    "collapsed": false,
    "ExecuteTime": {
     "end_time": "2024-05-13T07:41:50.726918900Z",
     "start_time": "2024-05-13T07:41:50.705499Z"
    }
   },
   "id": "d210deaf6e77134c",
   "execution_count": 34
  },
  {
   "cell_type": "code",
   "outputs": [],
   "source": [],
   "metadata": {
    "collapsed": false
   },
   "id": "16b4fa3a9a1c867"
  }
 ],
 "metadata": {
  "kernelspec": {
   "display_name": "Python 3",
   "language": "python",
   "name": "python3"
  },
  "language_info": {
   "codemirror_mode": {
    "name": "ipython",
    "version": 2
   },
   "file_extension": ".py",
   "mimetype": "text/x-python",
   "name": "python",
   "nbconvert_exporter": "python",
   "pygments_lexer": "ipython2",
   "version": "2.7.6"
  }
 },
 "nbformat": 4,
 "nbformat_minor": 5
}
